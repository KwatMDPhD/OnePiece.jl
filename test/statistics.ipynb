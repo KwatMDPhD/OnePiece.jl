{
 "cells": [
  {
   "cell_type": "code",
   "execution_count": 1,
   "id": "baf12f00",
   "metadata": {
    "execution": {
     "iopub.execute_input": "2022-07-07T21:29:34.093000Z",
     "iopub.status.busy": "2022-07-07T21:29:33.719000Z",
     "iopub.status.idle": "2022-07-07T21:29:38.307000Z",
     "shell.execute_reply": "2022-07-07T21:29:38.262000Z"
    }
   },
   "outputs": [],
   "source": [
    "using OnePiece"
   ]
  },
  {
   "cell_type": "markdown",
   "id": "71f81fe2",
   "metadata": {},
   "source": [
    "---"
   ]
  },
  {
   "cell_type": "markdown",
   "id": "271fc92d",
   "metadata": {},
   "source": [
    "## get_confidence_interval"
   ]
  },
  {
   "cell_type": "code",
   "execution_count": 2,
   "id": "d3ecf358",
   "metadata": {
    "execution": {
     "iopub.execute_input": "2022-07-07T21:29:38.728000Z",
     "iopub.status.busy": "2022-07-07T21:29:38.324000Z",
     "iopub.status.idle": "2022-07-07T21:29:39.017000Z",
     "shell.execute_reply": "2022-07-07T21:29:39.017000Z"
    }
   },
   "outputs": [
    {
     "name": "stdout",
     "output_type": "stream",
     "text": [
      "0.0\n",
      "(0.0, 0.0)\n",
      "0.001\n",
      "(-0.001253314465432556, 0.0012533144654324167)\n",
      "0.025\n",
      "(-0.03133798202142661, 0.031337982021426465)\n",
      "0.05\n",
      "(-0.06270677794321385, 0.06270677794321385)\n",
      "0.5\n",
      "(-0.6744897501960818, 0.6744897501960818)\n",
      "0.95\n",
      "(-1.9599639845400576, 1.9599639845400576)\n",
      "0.975\n",
      "(-2.2414027276049495, 2.2414027276049517)\n",
      "0.999\n",
      "(-3.290526731491899, 3.290526731491931)\n",
      "1\n",
      "(-Inf, Inf)\n"
     ]
    }
   ],
   "source": [
    "fr_ = (0.0, 0.001, 0.025, 0.05, 0.5, 0.95, 0.975, 0.999, 1)\n",
    "\n",
    "for co in fr_\n",
    "\n",
    "    println(co)\n",
    "\n",
    "    println(OnePiece.statistics.get_confidence_interval(co))\n",
    "\n",
    "end"
   ]
  },
  {
   "cell_type": "markdown",
   "id": "3e808f06",
   "metadata": {},
   "source": [
    "## get_z_score"
   ]
  },
  {
   "cell_type": "code",
   "execution_count": 3,
   "id": "a20437ee",
   "metadata": {
    "execution": {
     "iopub.execute_input": "2022-07-07T21:29:39.020000Z",
     "iopub.status.busy": "2022-07-07T21:29:39.020000Z",
     "iopub.status.idle": "2022-07-07T21:29:39.035000Z",
     "shell.execute_reply": "2022-07-07T21:29:39.034000Z"
    }
   },
   "outputs": [
    {
     "name": "stdout",
     "output_type": "stream",
     "text": [
      "0.0\n",
      "-Inf\n",
      "0.001\n",
      "-3.090232306167818\n",
      "0.025\n",
      "-1.9599639845400592\n",
      "0.05\n",
      "-1.6448536269514724\n",
      "0.5\n",
      "0.0\n",
      "0.95\n",
      "1.6448536269514717\n",
      "0.975\n",
      "1.9599639845400576\n",
      "0.999\n",
      "3.090232306167818\n",
      "1\n",
      "Inf\n"
     ]
    }
   ],
   "source": [
    "fr_ = (0.0, 0.001, 0.025, 0.05, 0.5, 0.95, 0.975, 0.999, 1)\n",
    "\n",
    "for cu in fr_\n",
    "\n",
    "    println(cu)\n",
    "\n",
    "    println(OnePiece.statistics.get_z_score(cu))\n",
    "\n",
    "end"
   ]
  },
  {
   "cell_type": "markdown",
   "id": "671a6b1a",
   "metadata": {},
   "source": [
    "---"
   ]
  }
 ],
 "metadata": {
  "@webio": {
   "lastCommId": null,
   "lastKernelId": null
  },
  "kernelspec": {
   "display_name": "Julia 1.7.3",
   "language": "julia",
   "name": "julia-1.7"
  },
  "language_info": {
   "file_extension": ".jl",
   "mimetype": "application/julia",
   "name": "julia",
   "version": "1.7.3"
  }
 },
 "nbformat": 4,
 "nbformat_minor": 5
}
