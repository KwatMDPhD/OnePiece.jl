{
 "cells": [
  {
   "cell_type": "code",
   "execution_count": null,
   "id": "baf12f00",
   "metadata": {},
   "outputs": [],
   "source": [
    "using Revise\n",
    "using OnePiece"
   ]
  },
  {
   "cell_type": "markdown",
   "id": "a1b4100b",
   "metadata": {},
   "source": [
    "## read"
   ]
  },
  {
   "cell_type": "code",
   "execution_count": null,
   "id": "00388202",
   "metadata": {},
   "outputs": [],
   "source": [
    "da = joinpath(@__DIR__, \"gmt.data\")\n",
    "\n",
    "gm = joinpath(da, \"h.all.v7.1.symbols.gmt\")"
   ]
  },
  {
   "cell_type": "code",
   "execution_count": null,
   "id": "2930b45f",
   "metadata": {},
   "outputs": [],
   "source": [
    "n_pa = 2"
   ]
  },
  {
   "cell_type": "code",
   "execution_count": null,
   "id": "7c317f9d",
   "metadata": {},
   "outputs": [],
   "source": [
    "OnePiece.dict.print(OnePiece.gmt.read(gm), n_pa = n_pa)"
   ]
  },
  {
   "cell_type": "code",
   "execution_count": null,
   "id": "05216e41",
   "metadata": {},
   "outputs": [],
   "source": [
    "OnePiece.dict.print(OnePiece.gmt.read((gm, joinpath(da, \"c2.all.v7.1.symbols.gmt\"))), n_pa = n_pa)"
   ]
  }
 ],
 "metadata": {
  "@webio": {
   "lastCommId": null,
   "lastKernelId": null
  },
  "kernelspec": {
   "display_name": "Julia 1.7.3",
   "language": "julia",
   "name": "julia-1.7"
  },
  "language_info": {
   "file_extension": ".jl",
   "mimetype": "application/julia",
   "name": "julia",
   "version": "1.7.3"
  }
 },
 "nbformat": 4,
 "nbformat_minor": 5
}
