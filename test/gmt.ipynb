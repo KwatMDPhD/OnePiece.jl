{
 "cells": [
  {
   "cell_type": "code",
   "execution_count": 1,
   "id": "baf12f00",
   "metadata": {
    "execution": {
     "iopub.execute_input": "2022-07-13T12:51:50.672000Z",
     "iopub.status.busy": "2022-07-13T12:51:50.266000Z",
     "iopub.status.idle": "2022-07-13T12:51:55.206000Z",
     "shell.execute_reply": "2022-07-13T12:51:55.159000Z"
    }
   },
   "outputs": [],
   "source": [
    "using OnePiece"
   ]
  },
  {
   "cell_type": "markdown",
   "id": "3608b13f",
   "metadata": {},
   "source": [
    "---"
   ]
  },
  {
   "cell_type": "markdown",
   "id": "a1b4100b",
   "metadata": {},
   "source": [
    "## read"
   ]
  },
  {
   "cell_type": "code",
   "execution_count": 2,
   "id": "00388202",
   "metadata": {
    "execution": {
     "iopub.execute_input": "2022-07-13T12:51:55.685000Z",
     "iopub.status.busy": "2022-07-13T12:51:55.224000Z",
     "iopub.status.idle": "2022-07-13T12:51:56.299000Z",
     "shell.execute_reply": "2022-07-13T12:51:56.299000Z"
    }
   },
   "outputs": [
    {
     "data": {
      "text/plain": [
       "\"/Users/kwat/craft/OnePiece.jl/test/gmt.data/h.all.v7.1.symbols.gmt\""
      ]
     },
     "execution_count": 2,
     "metadata": {},
     "output_type": "execute_result"
    }
   ],
   "source": [
    "da = joinpath(@__DIR__, \"gmt.data\")\n",
    "\n",
    "gm = joinpath(da, \"h.all.v7.1.symbols.gmt\")"
   ]
  },
  {
   "cell_type": "code",
   "execution_count": 3,
   "id": "2930b45f",
   "metadata": {
    "execution": {
     "iopub.execute_input": "2022-07-13T12:51:56.303000Z",
     "iopub.status.busy": "2022-07-13T12:51:56.303000Z",
     "iopub.status.idle": "2022-07-13T12:51:56.465000Z",
     "shell.execute_reply": "2022-07-13T12:51:56.465000Z"
    }
   },
   "outputs": [
    {
     "data": {
      "text/plain": [
       "2"
      ]
     },
     "execution_count": 3,
     "metadata": {},
     "output_type": "execute_result"
    }
   ],
   "source": [
    "n_pa = 2"
   ]
  },
  {
   "cell_type": "code",
   "execution_count": 4,
   "id": "7c317f9d",
   "metadata": {
    "execution": {
     "iopub.execute_input": "2022-07-13T12:51:56.469000Z",
     "iopub.status.busy": "2022-07-13T12:51:56.468000Z",
     "iopub.status.idle": "2022-07-13T12:51:56.822000Z",
     "shell.execute_reply": "2022-07-13T12:51:56.822000Z"
    }
   },
   "outputs": [
    {
     "name": "stdout",
     "output_type": "stream",
     "text": [
      "50 keys and 50 unique values\n",
      "{\n",
      "   HALLMARK_ANGIOGENESIS => SubString{String}[\"VCAN\", \"POSTN\", \"FSTL1\", \"LRPAP1\", \"STC1\", \"LPL\", \"VEGFA\", \"PF4\", \"THBD\", \"FGFR1\", \"TNFRSF21\", \"CCND2\", \"COL5A2\", \"ITGAV\", \"SERPINA5\", \"KCNJ8\", \"APP\", \"JAG1\", \"COL3A1\", \"SPP1\", \"NRP1\", \"OLR1\", \"PDGFA\", \"PTK2\", \"SLCO2A1\", \"PGLYRP1\", \"VAV2\", \"S100A4\", \"MSX1\", \"VTN\", \"TIMP1\", \"APOH\", \"PRG2\", \"JAG2\", \"LUM\", \"CXCL6\"]\n",
      "   HALLMARK_MYOGENESIS => SubString{String}[\"ACTA1\", \"TNNI2\", \"MYL1\", \"TNNC1\", \"TNNC2\", \"MYH3\", \"MYLPF\", \"TNNT3\", \"TNNT2\", \"CASQ2\", \"ACTC1\", \"MYOM1\", \"MYL4\", \"MYBPH\", \"MYH7\", \"MYH8\", \"ACTN2\", \"TNNI1\", \"CRYAB\", \"SGCG\", \"HRC\", \"TNNT1\", \"DES\", \"MYOZ1\", \"RYR1\", \"CSRP3\", \"ADAM12\", \"ATP2A1\", \"CKM\", \"SVIL\", \"MYOM2\", \"MYL6B\", \"TPM2\", \"MYL2\", \"CKMT2\", \"BIN1\", \"MYH1\", \"ENO3\", \"FLII\", \"FXYD1\", \"TPM3\", \"DMD\", \"IGFBP3\", \"CHRNB1\", \"SPEG\", \"FHL1\", \"ACTN3\", \"TCAP\", \"MYLK\", \"MYL3\", \"PYGM\", \"LDB3\", \"COX6A2\", \"FABP3\", \"MYL7\", \"ITGB5\", \"CHRNA1\", \"SSPN\", \"COL3A1\", \"KCNH1\", \"GJA5\", \"MYF6\", \"MYH2\", \"MAPK12\", \"PGAM2\", \"MYOG\", \"MYH4\", \"AEBP1\", \"HBEGF\", \"MEF2C\", \"NOS1\", \"CNN3\", \"IGFBP7\", \"CACNA1H\", \"GSN\", \"CACNG1\", \"PPFIA4\", \"MB\", \"SPHK1\", \"SCHIP1\", \"MEF2D\", \"SMTN\", \"CDKN1A\", \"GAA\", \"TPD52L1\", \"HSPB2\", \"SGCA\", \"BDKRB2\", \"COX7A1\", \"COL4A2\", \"PLXNB2\", \"CTF1\", \"COL15A1\", \"KCNH2\", \"AGRN\", \"MYO1C\", \"SIRT2\", \"SGCD\", \"SORBS1\", \"VIPR1\", \"FGF2\", \"FKBP1B\", \"TEAD4\", \"CASQ1\", \"KLF5\", \"PDLIM7\", \"AK1\", \"TAGLN\", \"RIT1\", \"MEF2A\", \"ANKRD2\", \"AKT2\", \"LAMA2\", \"DENND2B\", \"IFRD1\", \"NCAM1\", \"SYNGR2\", \"PICK1\", \"COL6A3\", \"CRAT\", \"DMPK\", \"MYH11\", \"MYH9\", \"IGF1\", \"CKB\", \"FST\", \"GPX3\", \"PVALB\", \"PTP4A3\", \"ITGB1\", \"HSPB8\", \"ACHE\", \"CHRNG\", \"PKIA\", \"NAV2\", \"HDAC5\", \"ATP6AP1\", \"CLU\", \"ACSL1\", \"COL1A1\", \"MRAS\", \"PDE4DIP\", \"AGL\", \"ERBB3\", \"GABARAPL2\", \"CAV3\", \"BHLHE40\", \"PPP1R3C\", \"LARGE1\", \"LPIN1\", \"CDH13\", \"NQO1\", \"PRNP\", \"PSEN2\", \"DAPK2\", \"LSP1\", \"SLC6A8\", \"REEP1\", \"EIF4A2\", \"SH2B1\", \"MYBPC3\", \"ITGA7\", \"SPTAN1\", \"SORBS3\", \"PC\", \"SCD\", \"GNAO1\", \"STC2\", \"CFD\", \"RB1\", \"BAG1\", \"ABLIM1\", \"PTGIS\", \"MAPRE3\", \"OCEL1\", \"SH3BGR\", \"NOTCH1\", \"TSC2\", \"TGFB1\", \"FDPS\", \"CAMK2B\", \"EPHB3\", \"GADD45B\", \"APP\", \"APLNR\", \"ITGB4\", \"SOD3\", \"FOXO4\", \"EFS\", \"PFKM\", \"COL6A2\", \"DTNA\", \"KIFC3\", \"SPARC\", \"SPDEF\", \"SLN\", \"WWTR1\", \"CD36\", \"ADCY9\", \"APOD\"]\n",
      "   ...\n",
      "}\n"
     ]
    }
   ],
   "source": [
    "OnePiece.dict.print(OnePiece.gmt.read(gm), n_pa = n_pa)"
   ]
  },
  {
   "cell_type": "code",
   "execution_count": 5,
   "id": "05216e41",
   "metadata": {
    "execution": {
     "iopub.execute_input": "2022-07-13T12:51:56.825000Z",
     "iopub.status.busy": "2022-07-13T12:51:56.825000Z",
     "iopub.status.idle": "2022-07-13T12:51:56.930000Z",
     "shell.execute_reply": "2022-07-13T12:51:56.930000Z"
    }
   },
   "outputs": [
    {
     "name": "stdout",
     "output_type": "stream",
     "text": [
      "5579 keys and 5579 unique values\n",
      "{\n",
      "   GRABARCZYK_BCL11B_TARGETS_UP => SubString{String}[\"PLEKHA8\", \"PRKCQ-AS1\", \"PDCD6IP\", \"TNFSF10\", \"APOBEC3G\", \"RECQL\", \"ID1\", \"CCSER2\", \"BNIP3\", \"IGLL3P\", \"PIK3R1\", \"SLC35F5\", \"CAMSAP2\", \"SLC35A1\", \"STK26\", \"S100A4\", \"ANKRD46\", \"RAB27A\", \"USO1\", \"JAK1\", \"NUS1\", \"AK4\", \"ZNF678\", \"RDX\", \"ID2\", \"MSI2\", \"TRGC2\", \"LGALS1\", \"IL2RB\", \"GSAP\", \"NKG7\", \"ADCYAP1\", \"BICD2\", \"DENND1B\", \"ZNF814\", \"ZBTB16\", \"IRF1-AS1\", \"SH3BP5\", \"PIK3R3\", \"GMFB\", \"NEK7\", \"TOR1AIP2\", \"TIMP1\", \"CRYBG1\", \"ATP5F1E\", \"CTSW\", \"PAFAH1B2\", \"ANXA2\", \"PRF1\", \"PRKAR2B\", \"ATP6V0E2\", \"SPOPL\", \"TPRG1L\", \"RPS6KA3\", \"SCARB2\", \"LINC00888\", \"TRAM2\", \"SLC30A9\", \"TMEM167A\", \"TRUB1\", \"AASDHPPT\", \"AHNAK\", \"PMP22\", \"MAPK6\", \"PPIP5K2\", \"ITGB7\", \"ACACA\", \"MREG\", \"IGLC2\", \"PEX26\", \"MYCN\", \"IKZF2\", \"CCR7\", \"ZDHHC21\", \"AGPS\", \"UMAD1\", \"STING1\", \"NQO1\", \"U2AF1\", \"HSH2D\", \"USP44\"]\n",
      "   REACTOME_EXTRACELLULAR_MATRIX_ORGANIZATION => SubString{String}[\"ITGAL\", \"ITGA3\", \"ITGA2B\", \"MMP25\", \"DCN\", \"CAPN1\", \"CD44\", \"IBSP\", \"MUSK\", \"TIMP2\", \"MFAP3\", \"TLL1\", \"VCAN\", \"CDH1\", \"TNC\", \"COL9A2\", \"LTBP1\", \"ELN\", \"LAMC3\", \"COL23A1\", \"LAMA3\", \"LAMC2\", \"COL11A1\", \"COL17A1\", \"ACTN1\", \"P4HA2\", \"NTN4\", \"ICAM3\", \"CAPN6\", \"FBLN1\", \"ITGA8\", \"CEACAM1\", \"COL5A3\", \"PSEN1\", \"COL4A4\", \"COL19A1\", \"ITGB5\", \"PLOD1\", \"ITGAE\", \"COL16A1\", \"CEACAM6\", \"ADAMTS2\", \"MMP2\", \"NID2\", \"LTBP4\", \"ICAM1\", \"P3H2\", \"LAMB1\", \"ITGA6\", \"CMA1\", \"CAPN3\", \"COL9A3\", \"TGFB2\", \"TLL2\", \"MADCAM1\", \"MMP11\", \"PDGFB\", \"CTSG\", \"MMP9\", \"BMP7\", \"COL20A1\", \"LAMA1\", \"TIMP1\", \"MMP15\", \"CAPN15\", \"TGFB1\", \"ICAM4\", \"ICAM5\", \"PTPRS\", \"COMP\", \"ITGB8\", \"PCOLCE\", \"SERPINE1\", \"PLOD3\", \"ASPN\", \"SH3PXD2A\", \"ICAM2\", \"COL1A1\", \"VTN\", \"VWF\", \"P3H3\", \"COL12A1\", \"COL9A1\", \"LAMA4\", \"LOX\", \"SPARC\", \"COL7A1\", \"ITGB6\", \"ITGA4\", \"LOXL3\", \"EFEMP1\", \"FN1\", \"SDC1\", \"TNR\", \"NID1\", \"MFAP2\", \"P3H1\", \"CTSD\", \"MMP8\", \"TTR\", \"SPP1\", \"LTBP2\", \"TGFB3\", \"TNN\", \"FMOD\", \"PLG\", \"P4HA1\", \"MMP19\", \"COL10A1\", \"SDC4\", \"MATN4\", \"CEACAM8\", \"COL21A1\", \"BMP4\", \"BMP2\", \"GDF5\", \"MMP24\", \"CAPNS1\", \"KDR\", \"LOXL1\", \"NCAN\", \"COLGALT1\", \"PXDN\", \"COL5A1\", \"LAMA5\", \"CAPN7\", \"MATN3\", \"EMILIN2\", \"ITGB4\", \"BCAN\", \"LOXL2\", \"LRP4\", \"COL4A2\", \"ADAMTS8\", \"CTSL\", \"ADAM19\", \"ITGA7\", \"CAPN9\", \"LAMC1\", \"CTSV\", \"CAPN11\", \"DDR1\", \"MMP7\", \"MMP20\", \"MMP13\", \"THBS1\", \"ITGA11\", \"ADAM10\", \"EMILIN1\", \"LOXL4\", \"ADAMTS14\", \"ITGAV\", \"FGF2\", \"FBN2\", \"COL2A1\", \"LUM\", \"ITGB7\", \"FBLN5\", \"MFAP1\", \"FURIN\", \"ITGAX\", \"ADAMTS18\", \"COL6A1\", \"COL6A2\", \"APP\", \"CAPN10\", \"FBN3\", \"HSPG2\", \"ITGA10\", \"CTSK\", \"ADAM15\", \"ITGA9\", \"COL8A1\", \"ADAMTS16\", \"HAPLN1\", \"SCUBE3\", \"CASK\", \"ADAM12\", \"SERPINH1\", \"CAPN5\", \"NCAM1\", \"P4HA3\", \"MMP3\", \"ITGB1\", \"ADAM8\", \"ADAM17\", \"DST\", \"DSPP\", \"DMP1\", \"PLOD2\", \"CAST\", \"PRKCA\", \"JAM2\", \"ADAMTS1\", \"ADAMTS5\", \"MMP16\", \"ADAMTS3\", \"ITGAD\", \"MMP14\", \"ACAN\", \"F11R\", \"ADAMTS4\", \"SCUBE1\", \"ITGB2\", \"COL26A1\", \"ITGA5\", \"MATN1\", \"SDC3\", \"VCAM1\", \"DDR2\", \"NCSTN\", \"CAPN2\", \"CAPN13\", \"CTSS\", \"BMP10\", \"COL6A3\", \"FBLN2\", \"ADAMTS9\", \"PCOLCE2\", \"ITGA2\", \"CASP3\", \"KLKB1\", \"COL1A2\", \"CTSB\", \"HTRA1\", \"JAM3\", \"FBN1\", \"MFAP4\", \"MMP10\", \"PPIB\", \"KLK2\", \"LTBP3\", \"TNXB\", \"BMP1\", \"COL3A1\", \"ADAM9\", \"CTRB1\", \"CTRB2\", \"COL4A3\", \"KLK7\", \"COL22A1\", \"SDC2\", \"ITGAM\", \"CRTAP\", \"COL24A1\", \"FGG\", \"FGA\", \"FGB\", \"COL8A2\", \"LAMB2\", \"TPSAB1\", \"BSG\", \"EFEMP2\", \"COL6A5\", \"DAG1\", \"PHYKPL\", \"A2M\", \"CD151\", \"PLEC\", \"NRXN1\", \"CAPN12\", \"BGN\", \"COL18A1\", \"EMILIN3\", \"P4HB\", \"TMPRSS6\", \"COL4A1\", \"COL14A1\", \"COL4A5\", \"AGRN\", \"COL25A1\", \"OPTC\", \"SPOCK3\", \"LAMA2\", \"MMP1\", \"TRAPPC4\", \"COL27A1\", \"CD47\", \"LAMB3\", \"PDGFA\", \"COL13A1\", \"ELANE\", \"COL4A6\", \"MFAP5\", \"MMP17\", \"COLGALT2\", \"DMD\", \"CAPN8\", \"COL11A2\", \"COL5A2\", \"COL15A1\", \"PRSS1\", \"COL6A6\", \"ITGA1\", \"CAPN14\", \"COL28A1\", \"CAPNS2\", \"ITGB3\", \"PECAM1\", \"MMP12\", \"PRSS2\"]\n",
      "   ...\n",
      "}\n"
     ]
    }
   ],
   "source": [
    "OnePiece.dict.print(OnePiece.gmt.read((gm, joinpath(da, \"c2.all.v7.1.symbols.gmt\"))), n_pa = n_pa)"
   ]
  },
  {
   "cell_type": "markdown",
   "id": "9234d851",
   "metadata": {},
   "source": [
    "---"
   ]
  }
 ],
 "metadata": {
  "@webio": {
   "lastCommId": null,
   "lastKernelId": null
  },
  "kernelspec": {
   "display_name": "Julia 1.7.3",
   "language": "julia",
   "name": "julia-1.7"
  },
  "language_info": {
   "file_extension": ".jl",
   "mimetype": "application/julia",
   "name": "julia",
   "version": "1.7.3"
  }
 },
 "nbformat": 4,
 "nbformat_minor": 5
}
