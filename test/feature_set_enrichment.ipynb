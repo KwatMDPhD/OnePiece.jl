{
 "cells": [
  {
   "cell_type": "code",
   "execution_count": 1,
   "id": "c516e796",
   "metadata": {
    "execution": {
     "iopub.execute_input": "2022-07-13T16:47:03.319000Z",
     "iopub.status.busy": "2022-07-13T16:47:02.977000Z",
     "iopub.status.idle": "2022-07-13T16:47:07.599000Z",
     "shell.execute_reply": "2022-07-13T16:47:07.552000Z"
    }
   },
   "outputs": [],
   "source": [
    "using OnePiece"
   ]
  },
  {
   "cell_type": "code",
   "execution_count": 2,
   "id": "8f2f5b35",
   "metadata": {
    "execution": {
     "iopub.execute_input": "2022-07-13T16:47:08.070000Z",
     "iopub.status.busy": "2022-07-13T16:47:07.616000Z",
     "iopub.status.idle": "2022-07-13T16:47:08.675000Z",
     "shell.execute_reply": "2022-07-13T16:47:08.675000Z"
    }
   },
   "outputs": [
    {
     "data": {
      "text/plain": [
       "\"/var/folders/mg/30npdf0s1z36txb2qvgylrzh0000gn/T/OnePiece.test.feature_set_enrichment\""
      ]
     },
     "execution_count": 2,
     "metadata": {},
     "output_type": "execute_result"
    }
   ],
   "source": [
    "te = OnePiece.path.make_temporary(\"OnePiece.test.feature_set_enrichment\")"
   ]
  },
  {
   "cell_type": "code",
   "execution_count": 3,
   "id": "22c23540",
   "metadata": {
    "execution": {
     "iopub.execute_input": "2022-07-13T16:47:08.679000Z",
     "iopub.status.busy": "2022-07-13T16:47:08.678000Z",
     "iopub.status.idle": "2022-07-13T16:47:08.679000Z",
     "shell.execute_reply": "2022-07-13T16:47:08.679000Z"
    }
   },
   "outputs": [],
   "source": [
    "using DataFrames"
   ]
  },
  {
   "cell_type": "markdown",
   "id": "b5d26adb",
   "metadata": {},
   "source": [
    "## _sum_1_absolute_and_0_count"
   ]
  },
  {
   "cell_type": "code",
   "execution_count": 4,
   "id": "1f64a15a",
   "metadata": {
    "execution": {
     "iopub.execute_input": "2022-07-13T16:47:08.682000Z",
     "iopub.status.busy": "2022-07-13T16:47:08.682000Z",
     "iopub.status.idle": "2022-07-13T16:47:08.987000Z",
     "shell.execute_reply": "2022-07-13T16:47:08.986000Z"
    }
   },
   "outputs": [
    {
     "data": {
      "text/plain": [
       "(5.0, 2.0)"
      ]
     },
     "execution_count": 4,
     "metadata": {},
     "output_type": "execute_result"
    }
   ],
   "source": [
    "OnePiece.feature_set_enrichment._sum_1_absolute_and_0_count(\n",
    "    [-2.0, -1, 0, 1, 2],\n",
    "    convert(Vector{Bool}, [1, 1, 0, 0, 1]),\n",
    ")"
   ]
  },
  {
   "cell_type": "markdown",
   "id": "2aa30698",
   "metadata": {},
   "source": [
    "## _cumulate"
   ]
  },
  {
   "cell_type": "code",
   "execution_count": 5,
   "id": "f45c4e4f",
   "metadata": {
    "execution": {
     "iopub.execute_input": "2022-07-13T16:47:08.990000Z",
     "iopub.status.busy": "2022-07-13T16:47:08.990000Z",
     "iopub.status.idle": "2022-07-13T16:47:09.847000Z",
     "shell.execute_reply": "2022-07-13T16:47:09.846000Z"
    }
   },
   "outputs": [
    {
     "data": {
      "text/plain": [
       "5-element Vector{Float64}:\n",
       " 0.1\n",
       " 0.2\n",
       " 0.4\n",
       " 0.2\n",
       " 0.1"
      ]
     },
     "execution_count": 5,
     "metadata": {},
     "output_type": "execute_result"
    }
   ],
   "source": [
    "ve = [0.1, 0.2, 0.4, 0.2, 0.1]"
   ]
  },
  {
   "cell_type": "code",
   "execution_count": 6,
   "id": "90b86247",
   "metadata": {
    "execution": {
     "iopub.execute_input": "2022-07-13T16:47:09.849000Z",
     "iopub.status.busy": "2022-07-13T16:47:09.849000Z",
     "iopub.status.idle": "2022-07-13T16:47:09.871000Z",
     "shell.execute_reply": "2022-07-13T16:47:09.870000Z"
    }
   },
   "outputs": [
    {
     "data": {
      "text/plain": [
       "5-element Vector{Float64}:\n",
       " 0.1\n",
       " 0.30000000000000004\n",
       " 0.7000000000000001\n",
       " 0.9\n",
       " 1.0"
      ]
     },
     "execution_count": 6,
     "metadata": {},
     "output_type": "execute_result"
    }
   ],
   "source": [
    "cumsum(ve)"
   ]
  },
  {
   "cell_type": "code",
   "execution_count": 7,
   "id": "e1f165b7",
   "metadata": {
    "execution": {
     "iopub.execute_input": "2022-07-13T16:47:09.874000Z",
     "iopub.status.busy": "2022-07-13T16:47:09.874000Z",
     "iopub.status.idle": "2022-07-13T16:47:09.914000Z",
     "shell.execute_reply": "2022-07-13T16:47:09.913000Z"
    }
   },
   "outputs": [
    {
     "data": {
      "text/plain": [
       "5-element Vector{Float64}:\n",
       " 0.9\n",
       " 0.7\n",
       " 0.29999999999999993\n",
       " 0.09999999999999998\n",
       " 0.0"
      ]
     },
     "execution_count": 7,
     "metadata": {},
     "output_type": "execute_result"
    }
   ],
   "source": [
    "1 .- cumsum(ve)"
   ]
  },
  {
   "cell_type": "code",
   "execution_count": 8,
   "id": "4988ed4d",
   "metadata": {
    "execution": {
     "iopub.execute_input": "2022-07-13T16:47:09.919000Z",
     "iopub.status.busy": "2022-07-13T16:47:09.919000Z",
     "iopub.status.idle": "2022-07-13T16:47:10.274000Z",
     "shell.execute_reply": "2022-07-13T16:47:10.273000Z"
    }
   },
   "outputs": [
    {
     "data": {
      "text/plain": [
       "([0.1000000000000002, 0.3000000000000002, 0.7000000000000002, 0.9, 1.0], [1.0000000000000002, 0.9000000000000001, 0.7000000000000002, 0.3000000000000002, 0.1000000000000002])"
      ]
     },
     "execution_count": 8,
     "metadata": {},
     "output_type": "execute_result"
    }
   ],
   "source": [
    "OnePiece.feature_set_enrichment._cumulate(ve)"
   ]
  },
  {
   "cell_type": "markdown",
   "id": "416f5cc1",
   "metadata": {},
   "source": [
    "## _plot_mountain"
   ]
  },
  {
   "cell_type": "code",
   "execution_count": 9,
   "id": "ad1ee2bd",
   "metadata": {
    "execution": {
     "iopub.execute_input": "2022-07-13T16:47:10.277000Z",
     "iopub.status.busy": "2022-07-13T16:47:10.277000Z",
     "iopub.status.idle": "2022-07-13T16:47:10.458000Z",
     "shell.execute_reply": "2022-07-13T16:47:10.458000Z"
    }
   },
   "outputs": [
    {
     "data": {
      "text/plain": [
       "_plot_mountain (generic function with 1 method)"
      ]
     },
     "execution_count": 9,
     "metadata": {},
     "output_type": "execute_result"
    }
   ],
   "source": [
    "OnePiece.feature_set_enrichment._plot_mountain"
   ]
  },
  {
   "cell_type": "markdown",
   "id": "5c84331f",
   "metadata": {},
   "source": [
    "## make_benchmark"
   ]
  },
  {
   "cell_type": "code",
   "execution_count": 10,
   "id": "a6be0bcb",
   "metadata": {
    "execution": {
     "iopub.execute_input": "2022-07-13T16:47:10.461000Z",
     "iopub.status.busy": "2022-07-13T16:47:10.461000Z",
     "iopub.status.idle": "2022-07-13T16:47:16.195000Z",
     "shell.execute_reply": "2022-07-13T16:47:16.195000Z"
    }
   },
   "outputs": [
    {
     "data": {
      "text/plain": [
       "([\"A\", \"2\", \"3\", \"4\", \"5\", \"6\", \"7\", \"8\", \"9\", \"X\", \"J\", \"Q\", \"K\"], [-6.0, -5.0, -4.0, -3.0, -2.0, -1.0, 0.0, 1.0, 2.0, 3.0, 4.0, 5.0, 6.0], [\"A\", \"2\", \"K\"])"
      ]
     },
     "execution_count": 10,
     "metadata": {},
     "output_type": "execute_result"
    }
   ],
   "source": [
    "OnePiece.feature_set_enrichment.make_benchmark(\"card A2K\")"
   ]
  },
  {
   "cell_type": "code",
   "execution_count": 11,
   "id": "50f056f8",
   "metadata": {
    "execution": {
     "iopub.execute_input": "2022-07-13T16:47:16.198000Z",
     "iopub.status.busy": "2022-07-13T16:47:16.198000Z",
     "iopub.status.idle": "2022-07-13T16:47:16.543000Z",
     "shell.execute_reply": "2022-07-13T16:47:16.543000Z"
    }
   },
   "outputs": [
    {
     "data": {
      "text/plain": [
       "([\"Feature 1\", \"Feature 2\", \"Feature 3\"], [-0.8512844364859041, -0.35418418613366753, 0.8512844364859041], [\"Feature 2\", \"Feature 1\"])"
      ]
     },
     "execution_count": 11,
     "metadata": {},
     "output_type": "execute_result"
    }
   ],
   "source": [
    "OnePiece.feature_set_enrichment.make_benchmark(\"random 3 2\")"
   ]
  },
  {
   "cell_type": "code",
   "execution_count": 12,
   "id": "2fd2f9e9",
   "metadata": {
    "execution": {
     "iopub.execute_input": "2022-07-13T16:47:16.546000Z",
     "iopub.status.busy": "2022-07-13T16:47:16.546000Z",
     "iopub.status.idle": "2022-07-13T16:47:16.547000Z",
     "shell.execute_reply": "2022-07-13T16:47:16.547000Z"
    }
   },
   "outputs": [
    {
     "data": {
      "text/plain": [
       "([\"Feature 1\", \"Feature 2\", \"Feature 3\", \"Feature 4\"], [-0.4909499019177138, -0.43047178092883764, 0.43047178092883764, 0.4909499019177138], [\"Feature 4\", \"Feature 1\"])"
      ]
     },
     "execution_count": 12,
     "metadata": {},
     "output_type": "execute_result"
    }
   ],
   "source": [
    "OnePiece.feature_set_enrichment.make_benchmark(\"random 4 2\")"
   ]
  },
  {
   "cell_type": "code",
   "execution_count": 13,
   "id": "ffe60bda",
   "metadata": {
    "execution": {
     "iopub.execute_input": "2022-07-13T16:47:16.550000Z",
     "iopub.status.busy": "2022-07-13T16:47:16.550000Z",
     "iopub.status.idle": "2022-07-13T16:47:22.245000Z",
     "shell.execute_reply": "2022-07-13T16:47:22.244000Z"
    }
   },
   "outputs": [
    {
     "name": "stdout",
     "output_type": "stream",
     "text": [
      "20046\n",
      "20046\n",
      "24\n"
     ]
    }
   ],
   "source": [
    "fe_, sc_, fe1_ = OnePiece.feature_set_enrichment.make_benchmark(\"myc\")\n",
    "\n",
    "println(length(fe_))\n",
    "\n",
    "println(length(sc_))\n",
    "\n",
    "println(length(fe1_))"
   ]
  },
  {
   "cell_type": "markdown",
   "id": "e0005834",
   "metadata": {},
   "source": [
    "## score_set*"
   ]
  },
  {
   "cell_type": "code",
   "execution_count": 14,
   "id": "87741f4a",
   "metadata": {
    "execution": {
     "iopub.execute_input": "2022-07-13T16:47:22.248000Z",
     "iopub.status.busy": "2022-07-13T16:47:22.248000Z",
     "iopub.status.idle": "2022-07-13T16:47:22.249000Z",
     "shell.execute_reply": "2022-07-13T16:47:22.249000Z"
    }
   },
   "outputs": [
    {
     "data": {
      "text/plain": [
       "([\"A\", \"2\", \"3\", \"4\", \"5\", \"6\", \"7\", \"8\", \"9\", \"X\", \"J\", \"Q\", \"K\"], [-6.0, -5.0, -4.0, -3.0, -2.0, -1.0, 0.0, 1.0, 2.0, 3.0, 4.0, 5.0, 6.0], [\"A\", \"K\"])"
      ]
     },
     "execution_count": 14,
     "metadata": {},
     "output_type": "execute_result"
    }
   ],
   "source": [
    "fe_, sc_, fe1_ = OnePiece.feature_set_enrichment.make_benchmark(\"card AK\")"
   ]
  },
  {
   "cell_type": "markdown",
   "id": "0a5bc30f",
   "metadata": {},
   "source": [
    "## score_set"
   ]
  },
  {
   "cell_type": "code",
   "execution_count": 15,
   "id": "2c5d14d0",
   "metadata": {
    "execution": {
     "iopub.execute_input": "2022-07-13T16:47:22.252000Z",
     "iopub.status.busy": "2022-07-13T16:47:22.252000Z",
     "iopub.status.idle": "2022-07-13T16:47:26.135000Z",
     "shell.execute_reply": "2022-07-13T16:47:26.134000Z"
    }
   },
   "outputs": [
    {
     "name": "stdout",
     "output_type": "stream",
     "text": [
      "Made /var/folders/mg/30npdf0s1z36txb2qvgylrzh0000gn/T/OnePiece.test.feature_set_enrichment/mountain.html.\n"
     ]
    },
    {
     "data": {
      "text/plain": [
       "(-0.5000000000000001, -7.899663829063614e-17)"
      ]
     },
     "execution_count": 15,
     "metadata": {},
     "output_type": "execute_result"
    }
   ],
   "source": [
    "OnePiece.feature_set_enrichment.score_set(fe_, sc_, fe1_, ou = joinpath(te, \"mountain.html\"))"
   ]
  },
  {
   "cell_type": "markdown",
   "id": "1610cab2",
   "metadata": {},
   "source": [
    "## score_set_new"
   ]
  },
  {
   "cell_type": "code",
   "execution_count": 16,
   "id": "60909b34",
   "metadata": {
    "execution": {
     "iopub.execute_input": "2022-07-13T16:47:26.139000Z",
     "iopub.status.busy": "2022-07-13T16:47:26.139000Z",
     "iopub.status.idle": "2022-07-13T16:47:27.214000Z",
     "shell.execute_reply": "2022-07-13T16:47:27.214000Z"
    }
   },
   "outputs": [
    {
     "name": "stdout",
     "output_type": "stream",
     "text": [
      "The minimum and the maximum have the same absolute value.\n",
      "Made /var/folders/mg/30npdf0s1z36txb2qvgylrzh0000gn/T/OnePiece.test.feature_set_enrichment/mountain_new.html.\n"
     ]
    },
    {
     "data": {
      "text/plain": [
       "(0.4111466833066521, -4.270088556250602e-18)"
      ]
     },
     "execution_count": 16,
     "metadata": {},
     "output_type": "execute_result"
    }
   ],
   "source": [
    "OnePiece.feature_set_enrichment.score_set_new(\n",
    "    fe_,\n",
    "    sc_,\n",
    "    fe1_,\n",
    "    ou = joinpath(te, \"mountain_new.html\"),\n",
    ")"
   ]
  },
  {
   "cell_type": "markdown",
   "id": "a9aef25c",
   "metadata": {},
   "source": [
    "## More"
   ]
  },
  {
   "cell_type": "code",
   "execution_count": 17,
   "id": "fd01b6d0",
   "metadata": {
    "execution": {
     "iopub.execute_input": "2022-07-13T16:47:27.218000Z",
     "iopub.status.busy": "2022-07-13T16:47:27.218000Z",
     "iopub.status.idle": "2022-07-13T16:47:27.586000Z",
     "shell.execute_reply": "2022-07-13T16:47:27.585000Z"
    }
   },
   "outputs": [],
   "source": [
    "fe_, sc_, fe1_ = OnePiece.feature_set_enrichment.make_benchmark(\"myc\")\n",
    "\n",
    "in_ = OnePiece.vector.is_in(fe_, fe1_)\n",
    "\n",
    "sc_fe_sa = DataFrame(\n",
    "    \"Feature\" => fe_,\n",
    "    \"Score\" => sc_,\n",
    "    \"Score x 10\" => sc_ * 10,\n",
    "    \"Constant\" => fill(0.8, length(fe_)),\n",
    ")\n",
    "\n",
    "se_fe_ =\n",
    "    OnePiece.gmt.read(joinpath(@__DIR__, \"feature_set_enrichment.data\", \"h.all.v7.1.symbols.gmt\"))\n",
    "\n",
    ";"
   ]
  },
  {
   "cell_type": "markdown",
   "id": "29648e2e",
   "metadata": {},
   "source": [
    "## score_set"
   ]
  },
  {
   "cell_type": "code",
   "execution_count": 18,
   "id": "fb14dcef",
   "metadata": {
    "execution": {
     "iopub.execute_input": "2022-07-13T16:47:27.588000Z",
     "iopub.status.busy": "2022-07-13T16:47:27.588000Z",
     "iopub.status.idle": "2022-07-13T16:47:27.688000Z",
     "shell.execute_reply": "2022-07-13T16:47:27.688000Z"
    }
   },
   "outputs": [
    {
     "name": "stdout",
     "output_type": "stream",
     "text": [
      "Made /var/folders/mg/30npdf0s1z36txb2qvgylrzh0000gn/T/OnePiece/2022-7-13_16:47:27.639.html.\n"
     ]
    },
    {
     "data": {
      "text/plain": [
       "(0.7651927829281453, 0.41482514169516305)"
      ]
     },
     "execution_count": 18,
     "metadata": {},
     "output_type": "execute_result"
    }
   ],
   "source": [
    "OnePiece.feature_set_enrichment.score_set(fe_, sc_, fe1_, in_)"
   ]
  },
  {
   "cell_type": "code",
   "execution_count": 19,
   "id": "ca942b2a",
   "metadata": {
    "execution": {
     "iopub.execute_input": "2022-07-13T16:47:27.692000Z",
     "iopub.status.busy": "2022-07-13T16:47:27.692000Z",
     "iopub.status.idle": "2022-07-13T16:47:27.738000Z",
     "shell.execute_reply": "2022-07-13T16:47:27.738000Z"
    }
   },
   "outputs": [
    {
     "name": "stdout",
     "output_type": "stream",
     "text": [
      "Made /var/folders/mg/30npdf0s1z36txb2qvgylrzh0000gn/T/OnePiece/2022-7-13_16:47:27.715.html.\n"
     ]
    },
    {
     "data": {
      "text/plain": [
       "(0.7651927829281453, 0.41482514169516305)"
      ]
     },
     "execution_count": 19,
     "metadata": {},
     "output_type": "execute_result"
    }
   ],
   "source": [
    "OnePiece.feature_set_enrichment.score_set(fe_, sc_, fe1_)"
   ]
  },
  {
   "cell_type": "code",
   "execution_count": 20,
   "id": "cf091ae2",
   "metadata": {
    "execution": {
     "iopub.execute_input": "2022-07-13T16:47:27.742000Z",
     "iopub.status.busy": "2022-07-13T16:47:27.742000Z",
     "iopub.status.idle": "2022-07-13T16:47:29.164000Z",
     "shell.execute_reply": "2022-07-13T16:47:29.164000Z"
    }
   },
   "outputs": [
    {
     "data": {
      "text/plain": [
       "Dict{SubString{String}, Tuple{Float64, Float64}} with 50 entries:\n",
       "  \"HALLMARK_ANGIOGENESIS\"                      => (-0.33582, -0.134652)\n",
       "  \"HALLMARK_MYOGENESIS\"                        => (-0.288877, -0.149539)\n",
       "  \"HALLMARK_PEROXISOME\"                        => (-0.18071, -0.0227159)\n",
       "  \"HALLMARK_UV_RESPONSE_DN\"                    => (-0.494808, -0.254959)\n",
       "  \"HALLMARK_NOTCH_SIGNALING\"                   => (-0.34954, -0.140971)\n",
       "  \"HALLMARK_ANDROGEN_RESPONSE\"                 => (-0.315308, -0.133699)\n",
       "  \"HALLMARK_ALLOGRAFT_REJECTION\"               => (-0.235057, -0.104502)\n",
       "  \"HALLMARK_ESTROGEN_RESPONSE_LATE\"            => (-0.267925, -0.113194)\n",
       "  \"HALLMARK_G2M_CHECKPOINT\"                    => (-0.303945, -0.0878826)\n",
       "  \"HALLMARK_MYC_TARGETS_V2\"                    => (0.819473, 0.437009)\n",
       "  \"HALLMARK_APOPTOSIS\"                         => (-0.448161, -0.230523)\n",
       "  \"HALLMARK_P53_PATHWAY\"                       => (-0.347303, -0.132145)\n",
       "  \"HALLMARK_UNFOLDED_PROTEIN_RESPONSE\"         => (0.404063, 0.174211)\n",
       "  \"HALLMARK_ADIPOGENESIS\"                      => (0.256733, 0.0640977)\n",
       "  \"HALLMARK_DNA_REPAIR\"                        => (0.355427, 0.150162)\n",
       "  \"HALLMARK_EPITHELIAL_MESENCHYMAL_TRANSITION\" => (-0.433527, -0.228446)\n",
       "  \"HALLMARK_OXIDATIVE_PHOSPHORYLATION\"         => (0.400945, 0.202195)\n",
       "  \"HALLMARK_HEME_METABOLISM\"                   => (-0.303428, -0.122497)\n",
       "  \"HALLMARK_MITOTIC_SPINDLE\"                   => (-0.516912, -0.288146)\n",
       "  \"HALLMARK_FATTY_ACID_METABOLISM\"             => (-0.136235, -0.00461107)\n",
       "  \"HALLMARK_COMPLEMENT\"                        => (-0.371534, -0.190926)\n",
       "  \"HALLMARK_APICAL_SURFACE\"                    => (-0.366325, -0.195664)\n",
       "  \"HALLMARK_ESTROGEN_RESPONSE_EARLY\"           => (-0.283638, -0.098269)\n",
       "  \"HALLMARK_INTERFERON_GAMMA_RESPONSE\"         => (-0.330132, -0.154029)\n",
       "  \"HALLMARK_MTORC1_SIGNALING\"                  => (0.267661, 0.0559313)\n",
       "  ⋮                                            => ⋮"
      ]
     },
     "execution_count": 20,
     "metadata": {},
     "output_type": "execute_result"
    }
   ],
   "source": [
    "OnePiece.feature_set_enrichment.score_set(fe_, sc_, se_fe_)"
   ]
  },
  {
   "cell_type": "code",
   "execution_count": 21,
   "id": "d97a96a5",
   "metadata": {
    "execution": {
     "iopub.execute_input": "2022-07-13T16:47:29.168000Z",
     "iopub.status.busy": "2022-07-13T16:47:29.167000Z",
     "iopub.status.idle": "2022-07-13T16:47:34.657000Z",
     "shell.execute_reply": "2022-07-13T16:47:34.657000Z"
    }
   },
   "outputs": [
    {
     "data": {
      "text/html": [
       "<div class=\"data-frame\"><p>50 rows × 4 columns</p><table class=\"data-frame\"><thead><tr><th></th><th>Set</th><th>Score</th><th>Score x 10</th><th>Constant</th></tr><tr><th></th><th title=\"Any\">Any</th><th title=\"Float64\">Float64</th><th title=\"Float64\">Float64</th><th title=\"Float64\">Float64</th></tr></thead><tbody><tr><th>1</th><td>HALLMARK_ANGIOGENESIS</td><td>-0.122866</td><td>-0.122866</td><td>-0.105384</td></tr><tr><th>2</th><td>HALLMARK_MYOGENESIS</td><td>-0.140079</td><td>-0.140079</td><td>-0.087977</td></tr><tr><th>3</th><td>HALLMARK_PEROXISOME</td><td>-0.0118913</td><td>-0.0118913</td><td>-0.00995124</td></tr><tr><th>4</th><td>HALLMARK_UV_RESPONSE_DN</td><td>-0.236558</td><td>-0.236558</td><td>-0.187174</td></tr><tr><th>5</th><td>HALLMARK_NOTCH_SIGNALING</td><td>-0.129779</td><td>-0.129779</td><td>-0.0829896</td></tr><tr><th>6</th><td>HALLMARK_ANDROGEN_RESPONSE</td><td>-0.123181</td><td>-0.123181</td><td>-0.0928491</td></tr><tr><th>7</th><td>HALLMARK_ALLOGRAFT_REJECTION</td><td>-0.0929859</td><td>-0.0929859</td><td>-0.054801</td></tr><tr><th>8</th><td>HALLMARK_ESTROGEN_RESPONSE_LATE</td><td>-0.102991</td><td>-0.102991</td><td>-0.0758278</td></tr><tr><th>9</th><td>HALLMARK_G2M_CHECKPOINT</td><td>-0.0778287</td><td>-0.0778287</td><td>-0.0762015</td></tr><tr><th>10</th><td>HALLMARK_MYC_TARGETS_V2</td><td>0.427659</td><td>0.427659</td><td>0.442545</td></tr><tr><th>11</th><td>HALLMARK_APOPTOSIS</td><td>-0.218248</td><td>-0.218248</td><td>-0.182831</td></tr><tr><th>12</th><td>HALLMARK_P53_PATHWAY</td><td>-0.125174</td><td>-0.125174</td><td>-0.0912259</td></tr><tr><th>13</th><td>HALLMARK_UNFOLDED_PROTEIN_RESPONSE</td><td>0.19243</td><td>0.19243</td><td>0.137894</td></tr><tr><th>14</th><td>HALLMARK_ADIPOGENESIS</td><td>0.0773057</td><td>0.0773057</td><td>0.0447599</td></tr><tr><th>15</th><td>HALLMARK_DNA_REPAIR</td><td>0.161998</td><td>0.161998</td><td>0.106227</td></tr><tr><th>16</th><td>HALLMARK_EPITHELIAL_MESENCHYMAL_TRANSITION</td><td>-0.220522</td><td>-0.220522</td><td>-0.168112</td></tr><tr><th>17</th><td>HALLMARK_OXIDATIVE_PHOSPHORYLATION</td><td>0.211006</td><td>0.211006</td><td>0.166587</td></tr><tr><th>18</th><td>HALLMARK_HEME_METABOLISM</td><td>-0.113203</td><td>-0.113203</td><td>-0.073106</td></tr><tr><th>19</th><td>HALLMARK_MITOTIC_SPINDLE</td><td>-0.262324</td><td>-0.262324</td><td>-0.223658</td></tr><tr><th>20</th><td>HALLMARK_FATTY_ACID_METABOLISM</td><td>0.00647205</td><td>0.00647205</td><td>0.00816595</td></tr><tr><th>21</th><td>HALLMARK_COMPLEMENT</td><td>-0.173296</td><td>-0.173296</td><td>-0.126062</td></tr><tr><th>22</th><td>HALLMARK_APICAL_SURFACE</td><td>-0.172314</td><td>-0.172314</td><td>-0.10539</td></tr><tr><th>23</th><td>HALLMARK_ESTROGEN_RESPONSE_EARLY</td><td>-0.0887062</td><td>-0.0887062</td><td>-0.0704181</td></tr><tr><th>24</th><td>HALLMARK_INTERFERON_GAMMA_RESPONSE</td><td>-0.142983</td><td>-0.142983</td><td>-0.0936124</td></tr><tr><th>25</th><td>HALLMARK_MTORC1_SIGNALING</td><td>0.0702363</td><td>0.0702363</td><td>0.0417758</td></tr><tr><th>26</th><td>HALLMARK_INTERFERON_ALPHA_RESPONSE</td><td>-0.132168</td><td>-0.132168</td><td>-0.0962106</td></tr><tr><th>27</th><td>HALLMARK_REACTIVE_OXYGEN_SPECIES_PATHWAY</td><td>-0.0305164</td><td>-0.0305164</td><td>-0.00840124</td></tr><tr><th>28</th><td>HALLMARK_PI3K_AKT_MTOR_SIGNALING</td><td>-0.0799838</td><td>-0.0799838</td><td>-0.0709737</td></tr><tr><th>29</th><td>HALLMARK_XENOBIOTIC_METABOLISM</td><td>-0.0581369</td><td>-0.0581369</td><td>-0.0335013</td></tr><tr><th>30</th><td>HALLMARK_KRAS_SIGNALING_DN</td><td>-0.0937296</td><td>-0.0937296</td><td>-0.0529048</td></tr><tr><th>&vellip;</th><td>&vellip;</td><td>&vellip;</td><td>&vellip;</td><td>&vellip;</td></tr></tbody></table></div>"
      ],
      "text/latex": [
       "\\begin{tabular}{r|cccc}\n",
       "\t& Set & Score & Score x 10 & Constant\\\\\n",
       "\t\\hline\n",
       "\t& Any & Float64 & Float64 & Float64\\\\\n",
       "\t\\hline\n",
       "\t1 & HALLMARK\\_ANGIOGENESIS & -0.122866 & -0.122866 & -0.105384 \\\\\n",
       "\t2 & HALLMARK\\_MYOGENESIS & -0.140079 & -0.140079 & -0.087977 \\\\\n",
       "\t3 & HALLMARK\\_PEROXISOME & -0.0118913 & -0.0118913 & -0.00995124 \\\\\n",
       "\t4 & HALLMARK\\_UV\\_RESPONSE\\_DN & -0.236558 & -0.236558 & -0.187174 \\\\\n",
       "\t5 & HALLMARK\\_NOTCH\\_SIGNALING & -0.129779 & -0.129779 & -0.0829896 \\\\\n",
       "\t6 & HALLMARK\\_ANDROGEN\\_RESPONSE & -0.123181 & -0.123181 & -0.0928491 \\\\\n",
       "\t7 & HALLMARK\\_ALLOGRAFT\\_REJECTION & -0.0929859 & -0.0929859 & -0.054801 \\\\\n",
       "\t8 & HALLMARK\\_ESTROGEN\\_RESPONSE\\_LATE & -0.102991 & -0.102991 & -0.0758278 \\\\\n",
       "\t9 & HALLMARK\\_G2M\\_CHECKPOINT & -0.0778287 & -0.0778287 & -0.0762015 \\\\\n",
       "\t10 & HALLMARK\\_MYC\\_TARGETS\\_V2 & 0.427659 & 0.427659 & 0.442545 \\\\\n",
       "\t11 & HALLMARK\\_APOPTOSIS & -0.218248 & -0.218248 & -0.182831 \\\\\n",
       "\t12 & HALLMARK\\_P53\\_PATHWAY & -0.125174 & -0.125174 & -0.0912259 \\\\\n",
       "\t13 & HALLMARK\\_UNFOLDED\\_PROTEIN\\_RESPONSE & 0.19243 & 0.19243 & 0.137894 \\\\\n",
       "\t14 & HALLMARK\\_ADIPOGENESIS & 0.0773057 & 0.0773057 & 0.0447599 \\\\\n",
       "\t15 & HALLMARK\\_DNA\\_REPAIR & 0.161998 & 0.161998 & 0.106227 \\\\\n",
       "\t16 & HALLMARK\\_EPITHELIAL\\_MESENCHYMAL\\_TRANSITION & -0.220522 & -0.220522 & -0.168112 \\\\\n",
       "\t17 & HALLMARK\\_OXIDATIVE\\_PHOSPHORYLATION & 0.211006 & 0.211006 & 0.166587 \\\\\n",
       "\t18 & HALLMARK\\_HEME\\_METABOLISM & -0.113203 & -0.113203 & -0.073106 \\\\\n",
       "\t19 & HALLMARK\\_MITOTIC\\_SPINDLE & -0.262324 & -0.262324 & -0.223658 \\\\\n",
       "\t20 & HALLMARK\\_FATTY\\_ACID\\_METABOLISM & 0.00647205 & 0.00647205 & 0.00816595 \\\\\n",
       "\t21 & HALLMARK\\_COMPLEMENT & -0.173296 & -0.173296 & -0.126062 \\\\\n",
       "\t22 & HALLMARK\\_APICAL\\_SURFACE & -0.172314 & -0.172314 & -0.10539 \\\\\n",
       "\t23 & HALLMARK\\_ESTROGEN\\_RESPONSE\\_EARLY & -0.0887062 & -0.0887062 & -0.0704181 \\\\\n",
       "\t24 & HALLMARK\\_INTERFERON\\_GAMMA\\_RESPONSE & -0.142983 & -0.142983 & -0.0936124 \\\\\n",
       "\t25 & HALLMARK\\_MTORC1\\_SIGNALING & 0.0702363 & 0.0702363 & 0.0417758 \\\\\n",
       "\t26 & HALLMARK\\_INTERFERON\\_ALPHA\\_RESPONSE & -0.132168 & -0.132168 & -0.0962106 \\\\\n",
       "\t27 & HALLMARK\\_REACTIVE\\_OXYGEN\\_SPECIES\\_PATHWAY & -0.0305164 & -0.0305164 & -0.00840124 \\\\\n",
       "\t28 & HALLMARK\\_PI3K\\_AKT\\_MTOR\\_SIGNALING & -0.0799838 & -0.0799838 & -0.0709737 \\\\\n",
       "\t29 & HALLMARK\\_XENOBIOTIC\\_METABOLISM & -0.0581369 & -0.0581369 & -0.0335013 \\\\\n",
       "\t30 & HALLMARK\\_KRAS\\_SIGNALING\\_DN & -0.0937296 & -0.0937296 & -0.0529048 \\\\\n",
       "\t$\\dots$ & $\\dots$ & $\\dots$ & $\\dots$ & $\\dots$ \\\\\n",
       "\\end{tabular}\n"
      ],
      "text/plain": [
       "\u001b[1m50×4 DataFrame\u001b[0m\n",
       "\u001b[1m Row \u001b[0m│\u001b[1m Set                               \u001b[0m\u001b[1m Score       \u001b[0m\u001b[1m Score x 10  \u001b[0m\u001b[1m Constant  \u001b[0m ⋯\n",
       "\u001b[1m     \u001b[0m│\u001b[90m Any                               \u001b[0m\u001b[90m Float64     \u001b[0m\u001b[90m Float64     \u001b[0m\u001b[90m Float64   \u001b[0m ⋯\n",
       "─────┼──────────────────────────────────────────────────────────────────────────\n",
       "   1 │ HALLMARK_ANGIOGENESIS              -0.122866    -0.122866    -0.105384  ⋯\n",
       "   2 │ HALLMARK_MYOGENESIS                -0.140079    -0.140079    -0.087977\n",
       "   3 │ HALLMARK_PEROXISOME                -0.0118913   -0.0118913   -0.0099512\n",
       "   4 │ HALLMARK_UV_RESPONSE_DN            -0.236558    -0.236558    -0.187174\n",
       "   5 │ HALLMARK_NOTCH_SIGNALING           -0.129779    -0.129779    -0.0829896 ⋯\n",
       "   6 │ HALLMARK_ANDROGEN_RESPONSE         -0.123181    -0.123181    -0.0928491\n",
       "   7 │ HALLMARK_ALLOGRAFT_REJECTION       -0.0929859   -0.0929859   -0.054801\n",
       "   8 │ HALLMARK_ESTROGEN_RESPONSE_LATE    -0.102991    -0.102991    -0.0758278\n",
       "   9 │ HALLMARK_G2M_CHECKPOINT            -0.0778287   -0.0778287   -0.0762015 ⋯\n",
       "  10 │ HALLMARK_MYC_TARGETS_V2             0.427659     0.427659     0.442545\n",
       "  11 │ HALLMARK_APOPTOSIS                 -0.218248    -0.218248    -0.182831\n",
       "  ⋮  │                 ⋮                       ⋮            ⋮            ⋮     ⋱\n",
       "  41 │ HALLMARK_KRAS_SIGNALING_UP         -0.177377    -0.177377    -0.107594\n",
       "  42 │ HALLMARK_INFLAMMATORY_RESPONSE     -0.188552    -0.188552    -0.116469  ⋯\n",
       "  43 │ HALLMARK_CHOLESTEROL_HOMEOSTASIS   -0.230813    -0.230813    -0.187211\n",
       "  44 │ HALLMARK_TGF_BETA_SIGNALING        -0.288162    -0.288162    -0.230805\n",
       "  45 │ HALLMARK_PANCREAS_BETA_CELLS        0.0292922    0.0292922    0.0300119\n",
       "  46 │ HALLMARK_COAGULATION               -0.221988    -0.221988    -0.142929  ⋯\n",
       "  47 │ HALLMARK_HYPOXIA                   -0.176878    -0.176878    -0.136809\n",
       "  48 │ HALLMARK_GLYCOLYSIS                 0.0225034    0.0225034    0.0023634\n",
       "  49 │ HALLMARK_HEDGEHOG_SIGNALING        -0.11097     -0.11097     -0.0500709\n",
       "  50 │ HALLMARK_IL6_JAK_STAT3_SIGNALING   -0.176611    -0.176611    -0.100646  ⋯\n",
       "\u001b[36m                                                    1 column and 29 rows omitted\u001b[0m"
      ]
     },
     "execution_count": 21,
     "metadata": {},
     "output_type": "execute_result"
    }
   ],
   "source": [
    "OnePiece.feature_set_enrichment.score_set(sc_fe_sa, se_fe_)"
   ]
  },
  {
   "cell_type": "markdown",
   "id": "0e091e7b",
   "metadata": {},
   "source": [
    "## score_set_new"
   ]
  },
  {
   "cell_type": "code",
   "execution_count": 22,
   "id": "2f4480dc",
   "metadata": {
    "execution": {
     "iopub.execute_input": "2022-07-13T16:47:34.660000Z",
     "iopub.status.busy": "2022-07-13T16:47:34.660000Z",
     "iopub.status.idle": "2022-07-13T16:47:34.780000Z",
     "shell.execute_reply": "2022-07-13T16:47:34.780000Z"
    }
   },
   "outputs": [
    {
     "name": "stdout",
     "output_type": "stream",
     "text": [
      "Made /var/folders/mg/30npdf0s1z36txb2qvgylrzh0000gn/T/OnePiece/2022-7-13_16:47:34.761.html.\n"
     ]
    },
    {
     "data": {
      "text/plain": [
       "(0.9565661396055923, 0.3875330984446073)"
      ]
     },
     "execution_count": 22,
     "metadata": {},
     "output_type": "execute_result"
    }
   ],
   "source": [
    "OnePiece.feature_set_enrichment.score_set_new(fe_, sc_, fe1_)"
   ]
  },
  {
   "cell_type": "code",
   "execution_count": 23,
   "id": "c573a195",
   "metadata": {
    "execution": {
     "iopub.execute_input": "2022-07-13T16:47:34.784000Z",
     "iopub.status.busy": "2022-07-13T16:47:34.784000Z",
     "iopub.status.idle": "2022-07-13T16:47:35.084000Z",
     "shell.execute_reply": "2022-07-13T16:47:35.083000Z"
    }
   },
   "outputs": [
    {
     "data": {
      "text/plain": [
       "Dict{SubString{String}, Tuple{Float64, Float64}} with 50 entries:\n",
       "  \"HALLMARK_ANGIOGENESIS\"                      => (-0.22187, -0.122866)\n",
       "  \"HALLMARK_MYOGENESIS\"                        => (-0.245769, -0.140079)\n",
       "  \"HALLMARK_PEROXISOME\"                        => (-0.0604092, -0.0118913)\n",
       "  \"HALLMARK_UV_RESPONSE_DN\"                    => (-0.411115, -0.236558)\n",
       "  \"HALLMARK_NOTCH_SIGNALING\"                   => (-0.254633, -0.129779)\n",
       "  \"HALLMARK_ANDROGEN_RESPONSE\"                 => (-0.202441, -0.123181)\n",
       "  \"HALLMARK_ALLOGRAFT_REJECTION\"               => (-0.123326, -0.0929859)\n",
       "  \"HALLMARK_ESTROGEN_RESPONSE_LATE\"            => (-0.16436, -0.102991)\n",
       "  \"HALLMARK_G2M_CHECKPOINT\"                    => (-0.200643, -0.0778287)\n",
       "  \"HALLMARK_MYC_TARGETS_V2\"                    => (1.30736, 0.427659)\n",
       "  \"HALLMARK_APOPTOSIS\"                         => (-0.368031, -0.218248)\n",
       "  \"HALLMARK_P53_PATHWAY\"                       => (-0.245543, -0.125174)\n",
       "  \"HALLMARK_UNFOLDED_PROTEIN_RESPONSE\"         => (0.333853, 0.19243)\n",
       "  \"HALLMARK_ADIPOGENESIS\"                      => (0.166327, 0.0773057)\n",
       "  \"HALLMARK_DNA_REPAIR\"                        => (0.27695, 0.161998)\n",
       "  \"HALLMARK_EPITHELIAL_MESENCHYMAL_TRANSITION\" => (-0.39543, -0.220522)\n",
       "  \"HALLMARK_OXIDATIVE_PHOSPHORYLATION\"         => (0.33467, 0.211006)\n",
       "  \"HALLMARK_HEME_METABOLISM\"                   => (-0.215487, -0.113203)\n",
       "  \"HALLMARK_MITOTIC_SPINDLE\"                   => (-0.429017, -0.262324)\n",
       "  \"HALLMARK_FATTY_ACID_METABOLISM\"             => (-0.04175, 0.00647205)\n",
       "  \"HALLMARK_COMPLEMENT\"                        => (-0.258374, -0.173296)\n",
       "  \"HALLMARK_APICAL_SURFACE\"                    => (-0.25522, -0.172314)\n",
       "  \"HALLMARK_ESTROGEN_RESPONSE_EARLY\"           => (-0.168505, -0.0887062)\n",
       "  \"HALLMARK_INTERFERON_GAMMA_RESPONSE\"         => (-0.21711, -0.142983)\n",
       "  \"HALLMARK_MTORC1_SIGNALING\"                  => (0.193551, 0.0702363)\n",
       "  ⋮                                            => ⋮"
      ]
     },
     "execution_count": 23,
     "metadata": {},
     "output_type": "execute_result"
    }
   ],
   "source": [
    "OnePiece.feature_set_enrichment.score_set_new(fe_, sc_, se_fe_)"
   ]
  }
 ],
 "metadata": {
  "@webio": {
   "lastCommId": null,
   "lastKernelId": null
  },
  "kernelspec": {
   "display_name": "Julia 1.7.3",
   "language": "julia",
   "name": "julia-1.7"
  },
  "language_info": {
   "file_extension": ".jl",
   "mimetype": "application/julia",
   "name": "julia",
   "version": "1.7.3"
  }
 },
 "nbformat": 4,
 "nbformat_minor": 5
}
