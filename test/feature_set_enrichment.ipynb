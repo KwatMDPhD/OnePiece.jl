{
 "cells": [
  {
   "cell_type": "code",
   "execution_count": 1,
   "id": "c516e796",
   "metadata": {
    "execution": {
     "iopub.execute_input": "2022-07-10T14:19:14.534000Z",
     "iopub.status.busy": "2022-07-10T14:19:14.152000Z",
     "iopub.status.idle": "2022-07-10T14:19:19.053000Z",
     "shell.execute_reply": "2022-07-10T14:19:19.004000Z"
    }
   },
   "outputs": [],
   "source": [
    "using OnePiece"
   ]
  },
  {
   "cell_type": "markdown",
   "id": "9ac56d69",
   "metadata": {},
   "source": [
    "---"
   ]
  },
  {
   "cell_type": "code",
   "execution_count": 2,
   "id": "22c23540",
   "metadata": {
    "execution": {
     "iopub.execute_input": "2022-07-10T14:19:19.523000Z",
     "iopub.status.busy": "2022-07-10T14:19:19.056000Z",
     "iopub.status.idle": "2022-07-10T14:19:19.559000Z",
     "shell.execute_reply": "2022-07-10T14:19:19.558000Z"
    }
   },
   "outputs": [],
   "source": [
    "using DataFrames"
   ]
  },
  {
   "cell_type": "code",
   "execution_count": 3,
   "id": "7a0c235a",
   "metadata": {
    "execution": {
     "iopub.execute_input": "2022-07-10T14:19:19.561000Z",
     "iopub.status.busy": "2022-07-10T14:19:19.561000Z",
     "iopub.status.idle": "2022-07-10T14:19:20.147000Z",
     "shell.execute_reply": "2022-07-10T14:19:20.146000Z"
    }
   },
   "outputs": [
    {
     "data": {
      "text/plain": [
       "\"/var/folders/mg/30npdf0s1z36txb2qvgylrzh0000gn/T\""
      ]
     },
     "execution_count": 3,
     "metadata": {},
     "output_type": "execute_result"
    }
   ],
   "source": [
    "TE = tempdir()"
   ]
  },
  {
   "cell_type": "markdown",
   "id": "b5d26adb",
   "metadata": {},
   "source": [
    "## _sum_1_absolute_and_0_count"
   ]
  },
  {
   "cell_type": "code",
   "execution_count": 4,
   "id": "1f64a15a",
   "metadata": {
    "execution": {
     "iopub.execute_input": "2022-07-10T14:19:20.166000Z",
     "iopub.status.busy": "2022-07-10T14:19:20.166000Z",
     "iopub.status.idle": "2022-07-10T14:19:20.462000Z",
     "shell.execute_reply": "2022-07-10T14:19:20.461000Z"
    }
   },
   "outputs": [
    {
     "data": {
      "text/plain": [
       "(5.0, 2.0)"
      ]
     },
     "execution_count": 4,
     "metadata": {},
     "output_type": "execute_result"
    }
   ],
   "source": [
    "OnePiece.feature_set_enrichment._sum_1_absolute_and_0_count(\n",
    "    [-2.0, -1, 0, 1, 2],\n",
    "    convert(Vector{Bool}, [1, 1, 0, 0, 1]),\n",
    ")"
   ]
  },
  {
   "cell_type": "markdown",
   "id": "2aa30698",
   "metadata": {},
   "source": [
    "## _cumulate"
   ]
  },
  {
   "cell_type": "code",
   "execution_count": 5,
   "id": "f45c4e4f",
   "metadata": {
    "execution": {
     "iopub.execute_input": "2022-07-10T14:19:20.465000Z",
     "iopub.status.busy": "2022-07-10T14:19:20.465000Z",
     "iopub.status.idle": "2022-07-10T14:19:21.353000Z",
     "shell.execute_reply": "2022-07-10T14:19:21.353000Z"
    }
   },
   "outputs": [
    {
     "data": {
      "text/plain": [
       "5-element Vector{Float64}:\n",
       " 0.1\n",
       " 0.2\n",
       " 0.4\n",
       " 0.2\n",
       " 0.1"
      ]
     },
     "execution_count": 5,
     "metadata": {},
     "output_type": "execute_result"
    }
   ],
   "source": [
    "ve = [0.1, 0.2, 0.4, 0.2, 0.1]"
   ]
  },
  {
   "cell_type": "code",
   "execution_count": 6,
   "id": "90b86247",
   "metadata": {
    "execution": {
     "iopub.execute_input": "2022-07-10T14:19:21.357000Z",
     "iopub.status.busy": "2022-07-10T14:19:21.356000Z",
     "iopub.status.idle": "2022-07-10T14:19:21.421000Z",
     "shell.execute_reply": "2022-07-10T14:19:21.420000Z"
    }
   },
   "outputs": [
    {
     "data": {
      "text/plain": [
       "5-element Vector{Float64}:\n",
       " 0.1000000000000001\n",
       " 0.3000000000000002\n",
       " 0.7000000000000004\n",
       " 0.9000000000000006\n",
       " 1.0000000000000007"
      ]
     },
     "execution_count": 6,
     "metadata": {},
     "output_type": "execute_result"
    }
   ],
   "source": [
    "cumsum(ve .+ 1e-16)"
   ]
  },
  {
   "cell_type": "code",
   "execution_count": 7,
   "id": "7205b5a7",
   "metadata": {
    "execution": {
     "iopub.execute_input": "2022-07-10T14:19:21.424000Z",
     "iopub.status.busy": "2022-07-10T14:19:21.424000Z",
     "iopub.status.idle": "2022-07-10T14:19:21.461000Z",
     "shell.execute_reply": "2022-07-10T14:19:21.461000Z"
    }
   },
   "outputs": [
    {
     "data": {
      "text/plain": [
       "5-element Vector{Float64}:\n",
       " 1.0000000000000007\n",
       " 0.9000000000000006\n",
       " 0.7000000000000004\n",
       " 0.3000000000000002\n",
       " 0.1000000000000001"
      ]
     },
     "execution_count": 7,
     "metadata": {},
     "output_type": "execute_result"
    }
   ],
   "source": [
    "OnePiece.tensor.cumulate_sum_reverse(ve .+ 1e-16)"
   ]
  },
  {
   "cell_type": "code",
   "execution_count": 8,
   "id": "6bcc1ae5",
   "metadata": {
    "execution": {
     "iopub.execute_input": "2022-07-10T14:19:21.464000Z",
     "iopub.status.busy": "2022-07-10T14:19:21.464000Z",
     "iopub.status.idle": "2022-07-10T14:19:21.501000Z",
     "shell.execute_reply": "2022-07-10T14:19:21.500000Z"
    }
   },
   "outputs": [
    {
     "data": {
      "text/plain": [
       "5-element Vector{Float64}:\n",
       "  0.8999999999999999\n",
       "  0.6999999999999997\n",
       "  0.2999999999999996\n",
       "  0.09999999999999942\n",
       " -6.661338147750939e-16"
      ]
     },
     "execution_count": 8,
     "metadata": {},
     "output_type": "execute_result"
    }
   ],
   "source": [
    "1 .- cumsum(ve .+ 1e-16)"
   ]
  },
  {
   "cell_type": "code",
   "execution_count": 9,
   "id": "4988ed4d",
   "metadata": {
    "execution": {
     "iopub.execute_input": "2022-07-10T14:19:21.505000Z",
     "iopub.status.busy": "2022-07-10T14:19:21.504000Z",
     "iopub.status.idle": "2022-07-10T14:19:21.828000Z",
     "shell.execute_reply": "2022-07-10T14:19:21.828000Z"
    }
   },
   "outputs": [
    {
     "data": {
      "text/plain": [
       "([1.0000000000000002, 0.9000000000000001, 0.7000000000000002, 0.3000000000000002, 0.1000000000000002], [0.1000000000000002, 0.3000000000000002, 0.7000000000000002, 0.9, 1.0])"
      ]
     },
     "execution_count": 9,
     "metadata": {},
     "output_type": "execute_result"
    }
   ],
   "source": [
    "OnePiece.feature_set_enrichment._cumulate(ve)"
   ]
  },
  {
   "cell_type": "markdown",
   "id": "416f5cc1",
   "metadata": {},
   "source": [
    "## _plot_mountain"
   ]
  },
  {
   "cell_type": "code",
   "execution_count": 10,
   "id": "ad1ee2bd",
   "metadata": {
    "execution": {
     "iopub.execute_input": "2022-07-10T14:19:21.831000Z",
     "iopub.status.busy": "2022-07-10T14:19:21.831000Z",
     "iopub.status.idle": "2022-07-10T14:19:22.003000Z",
     "shell.execute_reply": "2022-07-10T14:19:22.002000Z"
    }
   },
   "outputs": [
    {
     "data": {
      "text/plain": [
       "_plot_mountain (generic function with 1 method)"
      ]
     },
     "execution_count": 10,
     "metadata": {},
     "output_type": "execute_result"
    }
   ],
   "source": [
    "OnePiece.feature_set_enrichment._plot_mountain"
   ]
  },
  {
   "cell_type": "markdown",
   "id": "5c84331f",
   "metadata": {},
   "source": [
    "## make_benchmark"
   ]
  },
  {
   "cell_type": "code",
   "execution_count": 11,
   "id": "2bc0cc84",
   "metadata": {
    "execution": {
     "iopub.execute_input": "2022-07-10T14:19:22.006000Z",
     "iopub.status.busy": "2022-07-10T14:19:22.006000Z",
     "iopub.status.idle": "2022-07-10T14:19:28.464000Z",
     "shell.execute_reply": "2022-07-10T14:19:28.464000Z"
    }
   },
   "outputs": [
    {
     "name": "stdout",
     "output_type": "stream",
     "text": [
      "ErrorException(\"\")\n"
     ]
    }
   ],
   "source": [
    "try\n",
    "\n",
    "    OnePiece.feature_set_enrichment.make_benchmark(\"card 12K\")\n",
    "\n",
    "catch er\n",
    "\n",
    "    println(er)\n",
    "\n",
    "end"
   ]
  },
  {
   "cell_type": "code",
   "execution_count": 12,
   "id": "a6be0bcb",
   "metadata": {
    "execution": {
     "iopub.execute_input": "2022-07-10T14:19:28.467000Z",
     "iopub.status.busy": "2022-07-10T14:19:28.467000Z",
     "iopub.status.idle": "2022-07-10T14:19:28.805000Z",
     "shell.execute_reply": "2022-07-10T14:19:28.804000Z"
    }
   },
   "outputs": [
    {
     "data": {
      "text/plain": [
       "([\"A\", \"2\", \"3\", \"4\", \"5\", \"6\", \"7\", \"8\", \"9\", \"X\", \"J\", \"Q\", \"K\"], [-6.0, -5.0, -4.0, -3.0, -2.0, -1.0, 0.0, 1.0, 2.0, 3.0, 4.0, 5.0, 6.0], [\"A\", \"2\", \"K\"])"
      ]
     },
     "execution_count": 12,
     "metadata": {},
     "output_type": "execute_result"
    }
   ],
   "source": [
    "OnePiece.feature_set_enrichment.make_benchmark(\"card A2K\")"
   ]
  },
  {
   "cell_type": "code",
   "execution_count": 13,
   "id": "50f056f8",
   "metadata": {
    "execution": {
     "iopub.execute_input": "2022-07-10T14:19:28.808000Z",
     "iopub.status.busy": "2022-07-10T14:19:28.808000Z",
     "iopub.status.idle": "2022-07-10T14:19:29.139000Z",
     "shell.execute_reply": "2022-07-10T14:19:29.139000Z"
    }
   },
   "outputs": [
    {
     "data": {
      "text/plain": [
       "([\"Feature 1\", \"Feature 2\", \"Feature 3\"], [-0.4247256412124153, 0.4247256412124153, 1.5887479042776564], [\"Feature 2\", \"Feature 1\"])"
      ]
     },
     "execution_count": 13,
     "metadata": {},
     "output_type": "execute_result"
    }
   ],
   "source": [
    "OnePiece.feature_set_enrichment.make_benchmark(\"random 3 2\")"
   ]
  },
  {
   "cell_type": "code",
   "execution_count": 14,
   "id": "2fd2f9e9",
   "metadata": {
    "execution": {
     "iopub.execute_input": "2022-07-10T14:19:29.142000Z",
     "iopub.status.busy": "2022-07-10T14:19:29.142000Z",
     "iopub.status.idle": "2022-07-10T14:19:29.143000Z",
     "shell.execute_reply": "2022-07-10T14:19:29.143000Z"
    }
   },
   "outputs": [
    {
     "data": {
      "text/plain": [
       "([\"Feature 1\", \"Feature 2\", \"Feature 3\", \"Feature 4\"], [-2.0147361627347027, -1.6028358037732218, 1.6028358037732218, 2.0147361627347027], [\"Feature 3\", \"Feature 1\"])"
      ]
     },
     "execution_count": 14,
     "metadata": {},
     "output_type": "execute_result"
    }
   ],
   "source": [
    "OnePiece.feature_set_enrichment.make_benchmark(\"random 4 2\")"
   ]
  },
  {
   "cell_type": "code",
   "execution_count": 15,
   "id": "ffe60bda",
   "metadata": {
    "execution": {
     "iopub.execute_input": "2022-07-10T14:19:29.146000Z",
     "iopub.status.busy": "2022-07-10T14:19:29.146000Z",
     "iopub.status.idle": "2022-07-10T14:19:35.063000Z",
     "shell.execute_reply": "2022-07-10T14:19:35.063000Z"
    }
   },
   "outputs": [
    {
     "name": "stdout",
     "output_type": "stream",
     "text": [
      "20046\n",
      "20046\n",
      "24\n"
     ]
    }
   ],
   "source": [
    "fe_, sc_, fe1_ = OnePiece.feature_set_enrichment.make_benchmark(\"myc\")\n",
    "\n",
    "println(length(fe_))\n",
    "\n",
    "println(length(sc_))\n",
    "\n",
    "println(length(fe1_))"
   ]
  },
  {
   "cell_type": "code",
   "execution_count": 16,
   "id": "87741f4a",
   "metadata": {
    "execution": {
     "iopub.execute_input": "2022-07-10T14:19:35.066000Z",
     "iopub.status.busy": "2022-07-10T14:19:35.066000Z",
     "iopub.status.idle": "2022-07-10T14:19:35.067000Z",
     "shell.execute_reply": "2022-07-10T14:19:35.067000Z"
    }
   },
   "outputs": [
    {
     "data": {
      "text/plain": [
       "([\"A\", \"2\", \"3\", \"4\", \"5\", \"6\", \"7\", \"8\", \"9\", \"X\", \"J\", \"Q\", \"K\"], [-6.0, -5.0, -4.0, -3.0, -2.0, -1.0, 0.0, 1.0, 2.0, 3.0, 4.0, 5.0, 6.0], [\"A\", \"K\"])"
      ]
     },
     "execution_count": 16,
     "metadata": {},
     "output_type": "execute_result"
    }
   ],
   "source": [
    "fe_, sc_, fe1_ = OnePiece.feature_set_enrichment.make_benchmark(\"card AK\")"
   ]
  },
  {
   "cell_type": "markdown",
   "id": "0a5bc30f",
   "metadata": {},
   "source": [
    "## score_set"
   ]
  },
  {
   "cell_type": "code",
   "execution_count": 17,
   "id": "2c5d14d0",
   "metadata": {
    "execution": {
     "iopub.execute_input": "2022-07-10T14:19:35.071000Z",
     "iopub.status.busy": "2022-07-10T14:19:35.071000Z",
     "iopub.status.idle": "2022-07-10T14:19:39.300000Z",
     "shell.execute_reply": "2022-07-10T14:19:39.300000Z"
    }
   },
   "outputs": [
    {
     "name": "stdout",
     "output_type": "stream",
     "text": [
      "Made /var/folders/mg/30npdf0s1z36txb2qvgylrzh0000gn/T/mountain.html.\n"
     ]
    },
    {
     "data": {
      "text/plain": [
       "-0.5000000000000001"
      ]
     },
     "execution_count": 17,
     "metadata": {},
     "output_type": "execute_result"
    }
   ],
   "source": [
    "OnePiece.feature_set_enrichment.score_set(\n",
    "    fe_,\n",
    "    sc_,\n",
    "    fe1_,\n",
    "    ou = joinpath(tempdir(), \"mountain.html\"),\n",
    ")"
   ]
  },
  {
   "cell_type": "markdown",
   "id": "1610cab2",
   "metadata": {},
   "source": [
    "## score_set_new"
   ]
  },
  {
   "cell_type": "code",
   "execution_count": 18,
   "id": "60909b34",
   "metadata": {
    "execution": {
     "iopub.execute_input": "2022-07-10T14:19:39.304000Z",
     "iopub.status.busy": "2022-07-10T14:19:39.304000Z",
     "iopub.status.idle": "2022-07-10T14:19:40.320000Z",
     "shell.execute_reply": "2022-07-10T14:19:40.318000Z"
    }
   },
   "outputs": [
    {
     "name": "stdout",
     "output_type": "stream",
     "text": [
      "Made /var/folders/mg/30npdf0s1z36txb2qvgylrzh0000gn/T/mountain_klc.html.\n",
      "Made /var/folders/mg/30npdf0s1z36txb2qvgylrzh0000gn/T/mountain_sklc.html.\n",
      "Made /var/folders/mg/30npdf0s1z36txb2qvgylrzh0000gn/T/mountain_aklc.html.\n"
     ]
    }
   ],
   "source": [
    "for al in [\"klc\", \"sklc\", \"aklc\"]\n",
    "\n",
    "    OnePiece.feature_set_enrichment.score_set_new(\n",
    "        fe_,\n",
    "        sc_,\n",
    "        fe1_,\n",
    "        al = al,\n",
    "        title_text = al,\n",
    "        ou = joinpath(tempdir(), \"mountain_$al.html\"),\n",
    "    )\n",
    "\n",
    "end"
   ]
  },
  {
   "cell_type": "markdown",
   "id": "a9aef25c",
   "metadata": {},
   "source": [
    "## More"
   ]
  },
  {
   "cell_type": "code",
   "execution_count": 19,
   "id": "fd01b6d0",
   "metadata": {
    "execution": {
     "iopub.execute_input": "2022-07-10T14:19:40.323000Z",
     "iopub.status.busy": "2022-07-10T14:19:40.323000Z",
     "iopub.status.idle": "2022-07-10T14:19:40.827000Z",
     "shell.execute_reply": "2022-07-10T14:19:40.827000Z"
    }
   },
   "outputs": [],
   "source": [
    "fe_, sc_, fe1_ = OnePiece.feature_set_enrichment.make_benchmark(\"myc\")\n",
    "\n",
    "in_ = OnePiece.vector.is_in(fe_, fe1_)\n",
    "\n",
    "sc_fe_sa = DataFrame(\n",
    "    \"Feature\" => fe_,\n",
    "    \"Score\" => sc_,\n",
    "    \"Score x 10\" => sc_ * 10,\n",
    "    \"Constant\" => fill(0.8, length(fe_)),\n",
    ")\n",
    "\n",
    "se_fe_ =\n",
    "    OnePiece.gmt.read(joinpath(@__DIR__, \"feature_set_enrichment.data\", \"h.all.v7.1.symbols.gmt\"))\n",
    "\n",
    ";"
   ]
  },
  {
   "cell_type": "markdown",
   "id": "29648e2e",
   "metadata": {},
   "source": [
    "## score_set"
   ]
  },
  {
   "cell_type": "code",
   "execution_count": 20,
   "id": "fb14dcef",
   "metadata": {
    "execution": {
     "iopub.execute_input": "2022-07-10T14:19:40.830000Z",
     "iopub.status.busy": "2022-07-10T14:19:40.830000Z",
     "iopub.status.idle": "2022-07-10T14:19:40.917000Z",
     "shell.execute_reply": "2022-07-10T14:19:40.917000Z"
    }
   },
   "outputs": [
    {
     "name": "stdout",
     "output_type": "stream",
     "text": [
      "Made /Users/kwat/.julia/scratchspaces/1fe83854-81c0-42f7-afc9-71ba9af673ca/OnePiece.html/2022-7-10_14:19:40.869.html.\n"
     ]
    },
    {
     "data": {
      "text/plain": [
       "0.7651927829281453"
      ]
     },
     "execution_count": 20,
     "metadata": {},
     "output_type": "execute_result"
    }
   ],
   "source": [
    "OnePiece.feature_set_enrichment.score_set(fe_, sc_, fe1_, in_)"
   ]
  },
  {
   "cell_type": "code",
   "execution_count": 21,
   "id": "ca942b2a",
   "metadata": {
    "execution": {
     "iopub.execute_input": "2022-07-10T14:19:40.921000Z",
     "iopub.status.busy": "2022-07-10T14:19:40.921000Z",
     "iopub.status.idle": "2022-07-10T14:19:40.960000Z",
     "shell.execute_reply": "2022-07-10T14:19:40.959000Z"
    }
   },
   "outputs": [
    {
     "name": "stdout",
     "output_type": "stream",
     "text": [
      "Made /Users/kwat/.julia/scratchspaces/1fe83854-81c0-42f7-afc9-71ba9af673ca/OnePiece.html/2022-7-10_14:19:40.942.html.\n"
     ]
    },
    {
     "data": {
      "text/plain": [
       "0.7651927829281453"
      ]
     },
     "execution_count": 21,
     "metadata": {},
     "output_type": "execute_result"
    }
   ],
   "source": [
    "OnePiece.feature_set_enrichment.score_set(fe_, sc_, fe1_)"
   ]
  },
  {
   "cell_type": "code",
   "execution_count": 22,
   "id": "cf091ae2",
   "metadata": {
    "execution": {
     "iopub.execute_input": "2022-07-10T14:19:40.963000Z",
     "iopub.status.busy": "2022-07-10T14:19:40.963000Z",
     "iopub.status.idle": "2022-07-10T14:19:42.425000Z",
     "shell.execute_reply": "2022-07-10T14:19:42.425000Z"
    }
   },
   "outputs": [
    {
     "data": {
      "text/plain": [
       "Dict{SubString{String}, Float64} with 50 entries:\n",
       "  \"HALLMARK_ANGIOGENESIS\"                      => -0.33582\n",
       "  \"HALLMARK_MYOGENESIS\"                        => -0.288877\n",
       "  \"HALLMARK_PEROXISOME\"                        => -0.18071\n",
       "  \"HALLMARK_UV_RESPONSE_DN\"                    => -0.494808\n",
       "  \"HALLMARK_NOTCH_SIGNALING\"                   => -0.34954\n",
       "  \"HALLMARK_ANDROGEN_RESPONSE\"                 => -0.315308\n",
       "  \"HALLMARK_ALLOGRAFT_REJECTION\"               => -0.235057\n",
       "  \"HALLMARK_ESTROGEN_RESPONSE_LATE\"            => -0.267925\n",
       "  \"HALLMARK_G2M_CHECKPOINT\"                    => -0.303945\n",
       "  \"HALLMARK_MYC_TARGETS_V2\"                    => 0.819473\n",
       "  \"HALLMARK_APOPTOSIS\"                         => -0.448161\n",
       "  \"HALLMARK_P53_PATHWAY\"                       => -0.347303\n",
       "  \"HALLMARK_UNFOLDED_PROTEIN_RESPONSE\"         => 0.404063\n",
       "  \"HALLMARK_ADIPOGENESIS\"                      => 0.256733\n",
       "  \"HALLMARK_DNA_REPAIR\"                        => 0.355427\n",
       "  \"HALLMARK_EPITHELIAL_MESENCHYMAL_TRANSITION\" => -0.433527\n",
       "  \"HALLMARK_OXIDATIVE_PHOSPHORYLATION\"         => 0.400945\n",
       "  \"HALLMARK_HEME_METABOLISM\"                   => -0.303428\n",
       "  \"HALLMARK_MITOTIC_SPINDLE\"                   => -0.516912\n",
       "  \"HALLMARK_FATTY_ACID_METABOLISM\"             => -0.136235\n",
       "  \"HALLMARK_COMPLEMENT\"                        => -0.371534\n",
       "  \"HALLMARK_APICAL_SURFACE\"                    => -0.366325\n",
       "  \"HALLMARK_ESTROGEN_RESPONSE_EARLY\"           => -0.283638\n",
       "  \"HALLMARK_INTERFERON_GAMMA_RESPONSE\"         => -0.330132\n",
       "  \"HALLMARK_MTORC1_SIGNALING\"                  => 0.267661\n",
       "  ⋮                                            => ⋮"
      ]
     },
     "execution_count": 22,
     "metadata": {},
     "output_type": "execute_result"
    }
   ],
   "source": [
    "OnePiece.feature_set_enrichment.score_set(fe_, sc_, se_fe_)"
   ]
  },
  {
   "cell_type": "code",
   "execution_count": 23,
   "id": "d97a96a5",
   "metadata": {
    "execution": {
     "iopub.execute_input": "2022-07-10T14:19:42.428000Z",
     "iopub.status.busy": "2022-07-10T14:19:42.428000Z",
     "iopub.status.idle": "2022-07-10T14:19:46.174000Z",
     "shell.execute_reply": "2022-07-10T14:19:46.174000Z"
    }
   },
   "outputs": [
    {
     "data": {
      "text/html": [
       "<div class=\"data-frame\"><p>50 rows × 4 columns</p><table class=\"data-frame\"><thead><tr><th></th><th>Set</th><th>Score</th><th>Score x 10</th><th>Constant</th></tr><tr><th></th><th title=\"Any\">Any</th><th title=\"Float64\">Float64</th><th title=\"Float64\">Float64</th><th title=\"Float64\">Float64</th></tr></thead><tbody><tr><th>1</th><td>HALLMARK_ANGIOGENESIS</td><td>-0.33582</td><td>-0.33582</td><td>-0.207802</td></tr><tr><th>2</th><td>HALLMARK_MYOGENESIS</td><td>-0.288877</td><td>-0.288877</td><td>-0.154924</td></tr><tr><th>3</th><td>HALLMARK_PEROXISOME</td><td>-0.18071</td><td>-0.18071</td><td>-0.0735913</td></tr><tr><th>4</th><td>HALLMARK_UV_RESPONSE_DN</td><td>-0.494808</td><td>-0.494808</td><td>-0.327627</td></tr><tr><th>5</th><td>HALLMARK_NOTCH_SIGNALING</td><td>-0.34954</td><td>-0.34954</td><td>-0.17491</td></tr><tr><th>6</th><td>HALLMARK_ANDROGEN_RESPONSE</td><td>-0.315308</td><td>-0.315308</td><td>-0.181389</td></tr><tr><th>7</th><td>HALLMARK_ALLOGRAFT_REJECTION</td><td>-0.235057</td><td>-0.235057</td><td>-0.105339</td></tr><tr><th>8</th><td>HALLMARK_ESTROGEN_RESPONSE_LATE</td><td>-0.267925</td><td>-0.267925</td><td>-0.137887</td></tr><tr><th>9</th><td>HALLMARK_G2M_CHECKPOINT</td><td>-0.303945</td><td>-0.303945</td><td>-0.193492</td></tr><tr><th>10</th><td>HALLMARK_MYC_TARGETS_V2</td><td>0.819473</td><td>0.819473</td><td>0.718559</td></tr><tr><th>11</th><td>HALLMARK_APOPTOSIS</td><td>-0.448161</td><td>-0.448161</td><td>-0.310809</td></tr><tr><th>12</th><td>HALLMARK_P53_PATHWAY</td><td>-0.347303</td><td>-0.347303</td><td>-0.185212</td></tr><tr><th>13</th><td>HALLMARK_UNFOLDED_PROTEIN_RESPONSE</td><td>0.404063</td><td>0.404063</td><td>0.268183</td></tr><tr><th>14</th><td>HALLMARK_ADIPOGENESIS</td><td>0.256733</td><td>0.256733</td><td>0.132792</td></tr><tr><th>15</th><td>HALLMARK_DNA_REPAIR</td><td>0.355427</td><td>0.355427</td><td>0.201931</td></tr><tr><th>16</th><td>HALLMARK_EPITHELIAL_MESENCHYMAL_TRANSITION</td><td>-0.433527</td><td>-0.433527</td><td>-0.261543</td></tr><tr><th>17</th><td>HALLMARK_OXIDATIVE_PHOSPHORYLATION</td><td>0.400945</td><td>0.400945</td><td>0.276922</td></tr><tr><th>18</th><td>HALLMARK_HEME_METABOLISM</td><td>-0.303428</td><td>-0.303428</td><td>-0.132175</td></tr><tr><th>19</th><td>HALLMARK_MITOTIC_SPINDLE</td><td>-0.516912</td><td>-0.516912</td><td>-0.359933</td></tr><tr><th>20</th><td>HALLMARK_FATTY_ACID_METABOLISM</td><td>-0.136235</td><td>-0.136235</td><td>0.0387716</td></tr><tr><th>21</th><td>HALLMARK_COMPLEMENT</td><td>-0.371534</td><td>-0.371534</td><td>-0.210645</td></tr><tr><th>22</th><td>HALLMARK_APICAL_SURFACE</td><td>-0.366325</td><td>-0.366325</td><td>-0.211073</td></tr><tr><th>23</th><td>HALLMARK_ESTROGEN_RESPONSE_EARLY</td><td>-0.283638</td><td>-0.283638</td><td>-0.144594</td></tr><tr><th>24</th><td>HALLMARK_INTERFERON_GAMMA_RESPONSE</td><td>-0.330132</td><td>-0.330132</td><td>-0.156285</td></tr><tr><th>25</th><td>HALLMARK_MTORC1_SIGNALING</td><td>0.267661</td><td>0.267661</td><td>0.161986</td></tr><tr><th>26</th><td>HALLMARK_INTERFERON_ALPHA_RESPONSE</td><td>-0.342491</td><td>-0.342491</td><td>-0.189046</td></tr><tr><th>27</th><td>HALLMARK_REACTIVE_OXYGEN_SPECIES_PATHWAY</td><td>-0.25868</td><td>-0.25868</td><td>-0.126201</td></tr><tr><th>28</th><td>HALLMARK_PI3K_AKT_MTOR_SIGNALING</td><td>-0.268504</td><td>-0.268504</td><td>-0.168444</td></tr><tr><th>29</th><td>HALLMARK_XENOBIOTIC_METABOLISM</td><td>-0.220692</td><td>-0.220692</td><td>-0.0813454</td></tr><tr><th>30</th><td>HALLMARK_KRAS_SIGNALING_DN</td><td>-0.218759</td><td>-0.218759</td><td>-0.124075</td></tr><tr><th>&vellip;</th><td>&vellip;</td><td>&vellip;</td><td>&vellip;</td><td>&vellip;</td></tr></tbody></table></div>"
      ],
      "text/latex": [
       "\\begin{tabular}{r|cccc}\n",
       "\t& Set & Score & Score x 10 & Constant\\\\\n",
       "\t\\hline\n",
       "\t& Any & Float64 & Float64 & Float64\\\\\n",
       "\t\\hline\n",
       "\t1 & HALLMARK\\_ANGIOGENESIS & -0.33582 & -0.33582 & -0.207802 \\\\\n",
       "\t2 & HALLMARK\\_MYOGENESIS & -0.288877 & -0.288877 & -0.154924 \\\\\n",
       "\t3 & HALLMARK\\_PEROXISOME & -0.18071 & -0.18071 & -0.0735913 \\\\\n",
       "\t4 & HALLMARK\\_UV\\_RESPONSE\\_DN & -0.494808 & -0.494808 & -0.327627 \\\\\n",
       "\t5 & HALLMARK\\_NOTCH\\_SIGNALING & -0.34954 & -0.34954 & -0.17491 \\\\\n",
       "\t6 & HALLMARK\\_ANDROGEN\\_RESPONSE & -0.315308 & -0.315308 & -0.181389 \\\\\n",
       "\t7 & HALLMARK\\_ALLOGRAFT\\_REJECTION & -0.235057 & -0.235057 & -0.105339 \\\\\n",
       "\t8 & HALLMARK\\_ESTROGEN\\_RESPONSE\\_LATE & -0.267925 & -0.267925 & -0.137887 \\\\\n",
       "\t9 & HALLMARK\\_G2M\\_CHECKPOINT & -0.303945 & -0.303945 & -0.193492 \\\\\n",
       "\t10 & HALLMARK\\_MYC\\_TARGETS\\_V2 & 0.819473 & 0.819473 & 0.718559 \\\\\n",
       "\t11 & HALLMARK\\_APOPTOSIS & -0.448161 & -0.448161 & -0.310809 \\\\\n",
       "\t12 & HALLMARK\\_P53\\_PATHWAY & -0.347303 & -0.347303 & -0.185212 \\\\\n",
       "\t13 & HALLMARK\\_UNFOLDED\\_PROTEIN\\_RESPONSE & 0.404063 & 0.404063 & 0.268183 \\\\\n",
       "\t14 & HALLMARK\\_ADIPOGENESIS & 0.256733 & 0.256733 & 0.132792 \\\\\n",
       "\t15 & HALLMARK\\_DNA\\_REPAIR & 0.355427 & 0.355427 & 0.201931 \\\\\n",
       "\t16 & HALLMARK\\_EPITHELIAL\\_MESENCHYMAL\\_TRANSITION & -0.433527 & -0.433527 & -0.261543 \\\\\n",
       "\t17 & HALLMARK\\_OXIDATIVE\\_PHOSPHORYLATION & 0.400945 & 0.400945 & 0.276922 \\\\\n",
       "\t18 & HALLMARK\\_HEME\\_METABOLISM & -0.303428 & -0.303428 & -0.132175 \\\\\n",
       "\t19 & HALLMARK\\_MITOTIC\\_SPINDLE & -0.516912 & -0.516912 & -0.359933 \\\\\n",
       "\t20 & HALLMARK\\_FATTY\\_ACID\\_METABOLISM & -0.136235 & -0.136235 & 0.0387716 \\\\\n",
       "\t21 & HALLMARK\\_COMPLEMENT & -0.371534 & -0.371534 & -0.210645 \\\\\n",
       "\t22 & HALLMARK\\_APICAL\\_SURFACE & -0.366325 & -0.366325 & -0.211073 \\\\\n",
       "\t23 & HALLMARK\\_ESTROGEN\\_RESPONSE\\_EARLY & -0.283638 & -0.283638 & -0.144594 \\\\\n",
       "\t24 & HALLMARK\\_INTERFERON\\_GAMMA\\_RESPONSE & -0.330132 & -0.330132 & -0.156285 \\\\\n",
       "\t25 & HALLMARK\\_MTORC1\\_SIGNALING & 0.267661 & 0.267661 & 0.161986 \\\\\n",
       "\t26 & HALLMARK\\_INTERFERON\\_ALPHA\\_RESPONSE & -0.342491 & -0.342491 & -0.189046 \\\\\n",
       "\t27 & HALLMARK\\_REACTIVE\\_OXYGEN\\_SPECIES\\_PATHWAY & -0.25868 & -0.25868 & -0.126201 \\\\\n",
       "\t28 & HALLMARK\\_PI3K\\_AKT\\_MTOR\\_SIGNALING & -0.268504 & -0.268504 & -0.168444 \\\\\n",
       "\t29 & HALLMARK\\_XENOBIOTIC\\_METABOLISM & -0.220692 & -0.220692 & -0.0813454 \\\\\n",
       "\t30 & HALLMARK\\_KRAS\\_SIGNALING\\_DN & -0.218759 & -0.218759 & -0.124075 \\\\\n",
       "\t$\\dots$ & $\\dots$ & $\\dots$ & $\\dots$ & $\\dots$ \\\\\n",
       "\\end{tabular}\n"
      ],
      "text/plain": [
       "\u001b[1m50×4 DataFrame\u001b[0m\n",
       "\u001b[1m Row \u001b[0m│\u001b[1m Set                               \u001b[0m\u001b[1m Score     \u001b[0m\u001b[1m Score x 10 \u001b[0m\u001b[1m Constant   \u001b[0m\n",
       "\u001b[1m     \u001b[0m│\u001b[90m Any                               \u001b[0m\u001b[90m Float64   \u001b[0m\u001b[90m Float64    \u001b[0m\u001b[90m Float64    \u001b[0m\n",
       "─────┼──────────────────────────────────────────────────────────────────────\n",
       "   1 │ HALLMARK_ANGIOGENESIS              -0.33582    -0.33582   -0.207802\n",
       "   2 │ HALLMARK_MYOGENESIS                -0.288877   -0.288877  -0.154924\n",
       "   3 │ HALLMARK_PEROXISOME                -0.18071    -0.18071   -0.0735913\n",
       "   4 │ HALLMARK_UV_RESPONSE_DN            -0.494808   -0.494808  -0.327627\n",
       "   5 │ HALLMARK_NOTCH_SIGNALING           -0.34954    -0.34954   -0.17491\n",
       "   6 │ HALLMARK_ANDROGEN_RESPONSE         -0.315308   -0.315308  -0.181389\n",
       "   7 │ HALLMARK_ALLOGRAFT_REJECTION       -0.235057   -0.235057  -0.105339\n",
       "   8 │ HALLMARK_ESTROGEN_RESPONSE_LATE    -0.267925   -0.267925  -0.137887\n",
       "   9 │ HALLMARK_G2M_CHECKPOINT            -0.303945   -0.303945  -0.193492\n",
       "  10 │ HALLMARK_MYC_TARGETS_V2             0.819473    0.819473   0.718559\n",
       "  11 │ HALLMARK_APOPTOSIS                 -0.448161   -0.448161  -0.310809\n",
       "  ⋮  │                 ⋮                      ⋮          ⋮           ⋮\n",
       "  41 │ HALLMARK_KRAS_SIGNALING_UP         -0.366718   -0.366718  -0.157181\n",
       "  42 │ HALLMARK_INFLAMMATORY_RESPONSE     -0.395749   -0.395749  -0.186266\n",
       "  43 │ HALLMARK_CHOLESTEROL_HOMEOSTASIS   -0.452713   -0.452713  -0.297968\n",
       "  44 │ HALLMARK_TGF_BETA_SIGNALING        -0.579975   -0.579975  -0.394393\n",
       "  45 │ HALLMARK_PANCREAS_BETA_CELLS        0.12452     0.12452    0.173913\n",
       "  46 │ HALLMARK_COAGULATION               -0.409982   -0.409982  -0.218248\n",
       "  47 │ HALLMARK_HYPOXIA                   -0.384683   -0.384683  -0.227707\n",
       "  48 │ HALLMARK_GLYCOLYSIS                 0.207826    0.207826   0.102792\n",
       "  49 │ HALLMARK_HEDGEHOG_SIGNALING        -0.304983   -0.304983  -0.121383\n",
       "  50 │ HALLMARK_IL6_JAK_STAT3_SIGNALING   -0.38856    -0.38856   -0.170772\n",
       "\u001b[36m                                                             29 rows omitted\u001b[0m"
      ]
     },
     "execution_count": 23,
     "metadata": {},
     "output_type": "execute_result"
    }
   ],
   "source": [
    "OnePiece.feature_set_enrichment.score_set(sc_fe_sa, se_fe_)"
   ]
  },
  {
   "cell_type": "markdown",
   "id": "0e091e7b",
   "metadata": {},
   "source": [
    "## score_set_new"
   ]
  },
  {
   "cell_type": "code",
   "execution_count": 24,
   "id": "2f4480dc",
   "metadata": {
    "execution": {
     "iopub.execute_input": "2022-07-10T14:19:46.177000Z",
     "iopub.status.busy": "2022-07-10T14:19:46.177000Z",
     "iopub.status.idle": "2022-07-10T14:19:46.288000Z",
     "shell.execute_reply": "2022-07-10T14:19:46.288000Z"
    }
   },
   "outputs": [
    {
     "name": "stdout",
     "output_type": "stream",
     "text": [
      "Made /Users/kwat/.julia/scratchspaces/1fe83854-81c0-42f7-afc9-71ba9af673ca/OnePiece.html/2022-7-10_14:19:46.271.html.\n"
     ]
    },
    {
     "data": {
      "text/plain": [
       "0.7736480596525307"
      ]
     },
     "execution_count": 24,
     "metadata": {},
     "output_type": "execute_result"
    }
   ],
   "source": [
    "OnePiece.feature_set_enrichment.score_set_new(fe_, sc_, fe1_)"
   ]
  },
  {
   "cell_type": "code",
   "execution_count": 25,
   "id": "c573a195",
   "metadata": {
    "execution": {
     "iopub.execute_input": "2022-07-10T14:19:46.292000Z",
     "iopub.status.busy": "2022-07-10T14:19:46.292000Z",
     "iopub.status.idle": "2022-07-10T14:19:47.306000Z",
     "shell.execute_reply": "2022-07-10T14:19:47.305000Z"
    }
   },
   "outputs": [
    {
     "data": {
      "text/plain": [
       "Dict{SubString{String}, Float64} with 50 entries:\n",
       "  \"HALLMARK_ANGIOGENESIS\"                      => -0.245275\n",
       "  \"HALLMARK_MYOGENESIS\"                        => -0.277318\n",
       "  \"HALLMARK_PEROXISOME\"                        => -0.0236628\n",
       "  \"HALLMARK_UV_RESPONSE_DN\"                    => -0.469154\n",
       "  \"HALLMARK_NOTCH_SIGNALING\"                   => -0.25913\n",
       "  \"HALLMARK_ANDROGEN_RESPONSE\"                 => -0.245111\n",
       "  \"HALLMARK_ALLOGRAFT_REJECTION\"               => -0.184244\n",
       "  \"HALLMARK_ESTROGEN_RESPONSE_LATE\"            => -0.203806\n",
       "  \"HALLMARK_G2M_CHECKPOINT\"                    => -0.154068\n",
       "  \"HALLMARK_MYC_TARGETS_V2\"                    => 0.850873\n",
       "  \"HALLMARK_APOPTOSIS\"                         => -0.432074\n",
       "  \"HALLMARK_P53_PATHWAY\"                       => -0.247745\n",
       "  \"HALLMARK_UNFOLDED_PROTEIN_RESPONSE\"         => 0.382554\n",
       "  \"HALLMARK_ADIPOGENESIS\"                      => 0.153096\n",
       "  \"HALLMARK_DNA_REPAIR\"                        => 0.321535\n",
       "  \"HALLMARK_EPITHELIAL_MESENCHYMAL_TRANSITION\" => -0.435746\n",
       "  \"HALLMARK_OXIDATIVE_PHOSPHORYLATION\"         => 0.41781\n",
       "  \"HALLMARK_HEME_METABOLISM\"                   => -0.224215\n",
       "  \"HALLMARK_MITOTIC_SPINDLE\"                   => -0.518212\n",
       "  \"HALLMARK_FATTY_ACID_METABOLISM\"             => 0.0128491\n",
       "  \"HALLMARK_COMPLEMENT\"                        => -0.342912\n",
       "  \"HALLMARK_APICAL_SURFACE\"                    => -0.343895\n",
       "  \"HALLMARK_ESTROGEN_RESPONSE_EARLY\"           => -0.175627\n",
       "  \"HALLMARK_INTERFERON_GAMMA_RESPONSE\"         => -0.283054\n",
       "  \"HALLMARK_MTORC1_SIGNALING\"                  => 0.138951\n",
       "  ⋮                                            => ⋮"
      ]
     },
     "execution_count": 25,
     "metadata": {},
     "output_type": "execute_result"
    }
   ],
   "source": [
    "OnePiece.feature_set_enrichment.score_set_new(fe_, sc_, se_fe_)"
   ]
  },
  {
   "cell_type": "markdown",
   "id": "ad0694dc",
   "metadata": {},
   "source": [
    "---"
   ]
  }
 ],
 "metadata": {
  "@webio": {
   "lastCommId": null,
   "lastKernelId": null
  },
  "kernelspec": {
   "display_name": "Julia 1.7.3",
   "language": "julia",
   "name": "julia-1.7"
  },
  "language_info": {
   "file_extension": ".jl",
   "mimetype": "application/julia",
   "name": "julia",
   "version": "1.7.3"
  }
 },
 "nbformat": 4,
 "nbformat_minor": 5
}
