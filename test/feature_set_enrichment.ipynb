{
 "cells": [
  {
   "cell_type": "code",
   "execution_count": null,
   "id": "c516e796",
   "metadata": {},
   "outputs": [],
   "source": [
    "using OnePiece"
   ]
  },
  {
   "cell_type": "markdown",
   "id": "9ac56d69",
   "metadata": {},
   "source": [
    "---"
   ]
  },
  {
   "cell_type": "code",
   "execution_count": null,
   "id": "22c23540",
   "metadata": {},
   "outputs": [],
   "source": [
    "using DataFrames"
   ]
  },
  {
   "cell_type": "code",
   "execution_count": null,
   "id": "7a0c235a",
   "metadata": {},
   "outputs": [],
   "source": [
    "TE = tempdir()"
   ]
  },
  {
   "cell_type": "markdown",
   "id": "b5d26adb",
   "metadata": {},
   "source": [
    "## _sum_1_absolute_and_0_count"
   ]
  },
  {
   "cell_type": "code",
   "execution_count": null,
   "id": "1f64a15a",
   "metadata": {},
   "outputs": [],
   "source": [
    "OnePiece.feature_set_enrichment._sum_1_absolute_and_0_count(\n",
    "    [-2.0, -1, 0, 1, 2],\n",
    "    convert(Vector{Bool}, [1, 1, 0, 0, 1]),\n",
    ")"
   ]
  },
  {
   "cell_type": "markdown",
   "id": "2aa30698",
   "metadata": {},
   "source": [
    "## _cumulate"
   ]
  },
  {
   "cell_type": "code",
   "execution_count": null,
   "id": "f45c4e4f",
   "metadata": {},
   "outputs": [],
   "source": [
    "ve = [0.1, 0.2, 0.4, 0.2, 0.1]"
   ]
  },
  {
   "cell_type": "code",
   "execution_count": null,
   "id": "90b86247",
   "metadata": {},
   "outputs": [],
   "source": [
    "cumsum(ve .+ 1e-16)"
   ]
  },
  {
   "cell_type": "code",
   "execution_count": null,
   "id": "7205b5a7",
   "metadata": {},
   "outputs": [],
   "source": [
    "OnePiece.tensor.cumulate_sum_reverse(ve .+ 1e-16)"
   ]
  },
  {
   "cell_type": "code",
   "execution_count": null,
   "id": "6bcc1ae5",
   "metadata": {},
   "outputs": [],
   "source": [
    "1 .- cumsum(ve .+ 1e-16)"
   ]
  },
  {
   "cell_type": "code",
   "execution_count": null,
   "id": "4988ed4d",
   "metadata": {},
   "outputs": [],
   "source": [
    "OnePiece.feature_set_enrichment._cumulate(ve)"
   ]
  },
  {
   "cell_type": "markdown",
   "id": "416f5cc1",
   "metadata": {},
   "source": [
    "## _plot_mountain"
   ]
  },
  {
   "cell_type": "code",
   "execution_count": null,
   "id": "ad1ee2bd",
   "metadata": {},
   "outputs": [],
   "source": [
    "OnePiece.feature_set_enrichment._plot_mountain"
   ]
  },
  {
   "cell_type": "markdown",
   "id": "5c84331f",
   "metadata": {},
   "source": [
    "## make_benchmark"
   ]
  },
  {
   "cell_type": "code",
   "execution_count": null,
   "id": "2bc0cc84",
   "metadata": {},
   "outputs": [],
   "source": [
    "try\n",
    "\n",
    "    OnePiece.feature_set_enrichment.make_benchmark(\"card 12K\")\n",
    "\n",
    "catch er\n",
    "\n",
    "    println(er)\n",
    "\n",
    "end"
   ]
  },
  {
   "cell_type": "code",
   "execution_count": null,
   "id": "a6be0bcb",
   "metadata": {},
   "outputs": [],
   "source": [
    "OnePiece.feature_set_enrichment.make_benchmark(\"card A2K\")"
   ]
  },
  {
   "cell_type": "code",
   "execution_count": null,
   "id": "50f056f8",
   "metadata": {},
   "outputs": [],
   "source": [
    "OnePiece.feature_set_enrichment.make_benchmark(\"random 3 2\")"
   ]
  },
  {
   "cell_type": "code",
   "execution_count": null,
   "id": "2fd2f9e9",
   "metadata": {},
   "outputs": [],
   "source": [
    "OnePiece.feature_set_enrichment.make_benchmark(\"random 4 2\")"
   ]
  },
  {
   "cell_type": "code",
   "execution_count": null,
   "id": "ffe60bda",
   "metadata": {},
   "outputs": [],
   "source": [
    "fe_, sc_, fe1_ = OnePiece.feature_set_enrichment.make_benchmark(\"myc\")\n",
    "\n",
    "println(length(fe_))\n",
    "\n",
    "println(length(sc_))\n",
    "\n",
    "println(length(fe1_))"
   ]
  },
  {
   "cell_type": "code",
   "execution_count": null,
   "id": "87741f4a",
   "metadata": {},
   "outputs": [],
   "source": [
    "fe_, sc_, fe1_ = OnePiece.feature_set_enrichment.make_benchmark(\"card AK\")"
   ]
  },
  {
   "cell_type": "markdown",
   "id": "0a5bc30f",
   "metadata": {},
   "source": [
    "## score_set"
   ]
  },
  {
   "cell_type": "code",
   "execution_count": null,
   "id": "2c5d14d0",
   "metadata": {},
   "outputs": [],
   "source": [
    "OnePiece.feature_set_enrichment.score_set(\n",
    "    fe_,\n",
    "    sc_,\n",
    "    fe1_,\n",
    "    ou = joinpath(tempdir(), \"mountain.html\"),\n",
    ")"
   ]
  },
  {
   "cell_type": "markdown",
   "id": "1610cab2",
   "metadata": {},
   "source": [
    "## score_set_new"
   ]
  },
  {
   "cell_type": "code",
   "execution_count": null,
   "id": "60909b34",
   "metadata": {},
   "outputs": [],
   "source": [
    "for al in [\"klc\", \"sklc\", \"aklc\"]\n",
    "\n",
    "    OnePiece.feature_set_enrichment.score_set_new(\n",
    "        fe_,\n",
    "        sc_,\n",
    "        fe1_,\n",
    "        al = al,\n",
    "        title_text = al,\n",
    "        ou = joinpath(tempdir(), \"mountain_$al.html\"),\n",
    "    )\n",
    "\n",
    "end"
   ]
  },
  {
   "cell_type": "markdown",
   "id": "a9aef25c",
   "metadata": {},
   "source": [
    "## More"
   ]
  },
  {
   "cell_type": "code",
   "execution_count": null,
   "id": "fd01b6d0",
   "metadata": {},
   "outputs": [],
   "source": [
    "fe_, sc_, fe1_ = OnePiece.feature_set_enrichment.make_benchmark(\"myc\")\n",
    "\n",
    "in_ = OnePiece.vector.is_in(fe_, fe1_)\n",
    "\n",
    "sc_fe_sa = DataFrame(\n",
    "    \"Feature\" => fe_,\n",
    "    \"Score\" => sc_,\n",
    "    \"Score x 10\" => sc_ * 10,\n",
    "    \"Constant\" => fill(0.8, length(fe_)),\n",
    ")\n",
    "\n",
    "se_fe_ =\n",
    "    OnePiece.gmt.read(joinpath(@__DIR__, \"feature_set_enrichment.data\", \"h.all.v7.1.symbols.gmt\"))\n",
    "\n",
    ";"
   ]
  },
  {
   "cell_type": "markdown",
   "id": "29648e2e",
   "metadata": {},
   "source": [
    "## score_set"
   ]
  },
  {
   "cell_type": "code",
   "execution_count": null,
   "id": "fb14dcef",
   "metadata": {},
   "outputs": [],
   "source": [
    "OnePiece.feature_set_enrichment.score_set(fe_, sc_, fe1_, in_)"
   ]
  },
  {
   "cell_type": "code",
   "execution_count": null,
   "id": "ca942b2a",
   "metadata": {},
   "outputs": [],
   "source": [
    "OnePiece.feature_set_enrichment.score_set(fe_, sc_, fe1_)"
   ]
  },
  {
   "cell_type": "code",
   "execution_count": null,
   "id": "cf091ae2",
   "metadata": {},
   "outputs": [],
   "source": [
    "OnePiece.feature_set_enrichment.score_set(fe_, sc_, se_fe_)"
   ]
  },
  {
   "cell_type": "code",
   "execution_count": null,
   "id": "d97a96a5",
   "metadata": {},
   "outputs": [],
   "source": [
    "OnePiece.feature_set_enrichment.score_set(sc_fe_sa, se_fe_)"
   ]
  },
  {
   "cell_type": "markdown",
   "id": "0e091e7b",
   "metadata": {},
   "source": [
    "## score_set_new"
   ]
  },
  {
   "cell_type": "code",
   "execution_count": null,
   "id": "2f4480dc",
   "metadata": {},
   "outputs": [],
   "source": [
    "OnePiece.feature_set_enrichment.score_set_new(fe_, sc_, fe1_)"
   ]
  },
  {
   "cell_type": "code",
   "execution_count": null,
   "id": "c573a195",
   "metadata": {},
   "outputs": [],
   "source": [
    "OnePiece.feature_set_enrichment.score_set_new(fe_, sc_, se_fe_)"
   ]
  },
  {
   "cell_type": "markdown",
   "id": "ad0694dc",
   "metadata": {},
   "source": [
    "---"
   ]
  }
 ],
 "metadata": {
  "@webio": {
   "lastCommId": null,
   "lastKernelId": null
  },
  "kernelspec": {
   "display_name": "Julia 1.7.3",
   "language": "julia",
   "name": "julia-1.7"
  },
  "language_info": {
   "file_extension": ".jl",
   "mimetype": "application/julia",
   "name": "julia",
   "version": "1.7.3"
  }
 },
 "nbformat": 4,
 "nbformat_minor": 5
}
