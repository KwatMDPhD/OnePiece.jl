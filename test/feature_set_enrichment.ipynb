{
 "cells": [
  {
   "cell_type": "code",
   "execution_count": 1,
   "id": "c516e796",
   "metadata": {
    "execution": {
     "iopub.execute_input": "2022-07-07T21:22:28.329000Z",
     "iopub.status.busy": "2022-07-07T21:22:27.943000Z",
     "iopub.status.idle": "2022-07-07T21:22:33.255000Z",
     "shell.execute_reply": "2022-07-07T21:22:33.205000Z"
    }
   },
   "outputs": [],
   "source": [
    "using OnePiece"
   ]
  },
  {
   "cell_type": "markdown",
   "id": "9ac56d69",
   "metadata": {},
   "source": [
    "---"
   ]
  },
  {
   "cell_type": "code",
   "execution_count": 2,
   "id": "22c23540",
   "metadata": {
    "execution": {
     "iopub.execute_input": "2022-07-07T21:22:33.720000Z",
     "iopub.status.busy": "2022-07-07T21:22:33.257000Z",
     "iopub.status.idle": "2022-07-07T21:22:33.761000Z",
     "shell.execute_reply": "2022-07-07T21:22:33.761000Z"
    }
   },
   "outputs": [],
   "source": [
    "using DataFrames"
   ]
  },
  {
   "cell_type": "code",
   "execution_count": 3,
   "id": "7a0c235a",
   "metadata": {
    "execution": {
     "iopub.execute_input": "2022-07-07T21:22:33.763000Z",
     "iopub.status.busy": "2022-07-07T21:22:33.763000Z",
     "iopub.status.idle": "2022-07-07T21:22:34.453000Z",
     "shell.execute_reply": "2022-07-07T21:22:34.452000Z"
    }
   },
   "outputs": [
    {
     "data": {
      "text/plain": [
       "\"/var/folders/mg/30npdf0s1z36txb2qvgylrzh0000gn/T\""
      ]
     },
     "execution_count": 3,
     "metadata": {},
     "output_type": "execute_result"
    }
   ],
   "source": [
    "TE = tempdir()"
   ]
  },
  {
   "cell_type": "markdown",
   "id": "b5d26adb",
   "metadata": {},
   "source": [
    "## _sum_1_absolute_and_0_count"
   ]
  },
  {
   "cell_type": "code",
   "execution_count": 4,
   "id": "1f64a15a",
   "metadata": {
    "execution": {
     "iopub.execute_input": "2022-07-07T21:22:34.471000Z",
     "iopub.status.busy": "2022-07-07T21:22:34.471000Z",
     "iopub.status.idle": "2022-07-07T21:22:34.754000Z",
     "shell.execute_reply": "2022-07-07T21:22:34.754000Z"
    }
   },
   "outputs": [
    {
     "data": {
      "text/plain": [
       "(5.0, 2.0)"
      ]
     },
     "execution_count": 4,
     "metadata": {},
     "output_type": "execute_result"
    }
   ],
   "source": [
    "OnePiece.feature_set_enrichment._sum_1_absolute_and_0_count(\n",
    "    [-2.0, -1, 0, 1, 2],\n",
    "    convert(Vector{Bool}, [1, 1, 0, 0, 1]),\n",
    ")"
   ]
  },
  {
   "cell_type": "markdown",
   "id": "2aa30698",
   "metadata": {},
   "source": [
    "## _cumulate"
   ]
  },
  {
   "cell_type": "code",
   "execution_count": 5,
   "id": "f45c4e4f",
   "metadata": {
    "execution": {
     "iopub.execute_input": "2022-07-07T21:22:34.757000Z",
     "iopub.status.busy": "2022-07-07T21:22:34.757000Z",
     "iopub.status.idle": "2022-07-07T21:22:35.610000Z",
     "shell.execute_reply": "2022-07-07T21:22:35.610000Z"
    }
   },
   "outputs": [
    {
     "data": {
      "text/plain": [
       "5-element Vector{Float64}:\n",
       " 0.1\n",
       " 0.2\n",
       " 0.4\n",
       " 0.2\n",
       " 0.1"
      ]
     },
     "execution_count": 5,
     "metadata": {},
     "output_type": "execute_result"
    }
   ],
   "source": [
    "ve = [0.1, 0.2, 0.4, 0.2, 0.1]"
   ]
  },
  {
   "cell_type": "code",
   "execution_count": 6,
   "id": "90b86247",
   "metadata": {
    "execution": {
     "iopub.execute_input": "2022-07-07T21:22:35.613000Z",
     "iopub.status.busy": "2022-07-07T21:22:35.613000Z",
     "iopub.status.idle": "2022-07-07T21:22:35.649000Z",
     "shell.execute_reply": "2022-07-07T21:22:35.648000Z"
    }
   },
   "outputs": [
    {
     "data": {
      "text/plain": [
       "5-element Vector{Float64}:\n",
       " 0.1\n",
       " 0.30000000000000004\n",
       " 0.7000000000000001\n",
       " 0.9\n",
       " 1.0"
      ]
     },
     "execution_count": 6,
     "metadata": {},
     "output_type": "execute_result"
    }
   ],
   "source": [
    "cumsum(ve)"
   ]
  },
  {
   "cell_type": "code",
   "execution_count": 7,
   "id": "7205b5a7",
   "metadata": {
    "execution": {
     "iopub.execute_input": "2022-07-07T21:22:35.652000Z",
     "iopub.status.busy": "2022-07-07T21:22:35.652000Z",
     "iopub.status.idle": "2022-07-07T21:22:35.693000Z",
     "shell.execute_reply": "2022-07-07T21:22:35.693000Z"
    }
   },
   "outputs": [
    {
     "data": {
      "text/plain": [
       "5-element Vector{Float64}:\n",
       " 1.0000000000000002\n",
       " 0.9000000000000001\n",
       " 0.7000000000000001\n",
       " 0.30000000000000004\n",
       " 0.1"
      ]
     },
     "execution_count": 7,
     "metadata": {},
     "output_type": "execute_result"
    }
   ],
   "source": [
    "OnePiece.tensor.cumulate_sum_reverse(ve)"
   ]
  },
  {
   "cell_type": "code",
   "execution_count": 8,
   "id": "6bcc1ae5",
   "metadata": {
    "execution": {
     "iopub.execute_input": "2022-07-07T21:22:35.696000Z",
     "iopub.status.busy": "2022-07-07T21:22:35.696000Z",
     "iopub.status.idle": "2022-07-07T21:22:35.739000Z",
     "shell.execute_reply": "2022-07-07T21:22:35.739000Z"
    }
   },
   "outputs": [
    {
     "data": {
      "text/plain": [
       "5-element Vector{Float64}:\n",
       " 0.9\n",
       " 0.7\n",
       " 0.29999999999999993\n",
       " 0.09999999999999998\n",
       " 0.0"
      ]
     },
     "execution_count": 8,
     "metadata": {},
     "output_type": "execute_result"
    }
   ],
   "source": [
    "1 .- cumsum(ve)"
   ]
  },
  {
   "cell_type": "code",
   "execution_count": 9,
   "id": "4988ed4d",
   "metadata": {
    "execution": {
     "iopub.execute_input": "2022-07-07T21:22:35.742000Z",
     "iopub.status.busy": "2022-07-07T21:22:35.742000Z",
     "iopub.status.idle": "2022-07-07T21:22:36.115000Z",
     "shell.execute_reply": "2022-07-07T21:22:36.115000Z"
    }
   },
   "outputs": [
    {
     "name": "stdout",
     "output_type": "stream",
     "text": [
      "Sums: 1.0000000000000002 and 4.0\n"
     ]
    },
    {
     "data": {
      "text/plain": [
       "([0.3333333333333333, 0.3, 0.23333333333333334, 0.10000000000000005, 0.033333333333333395], [0.6666666666666667, 0.7, 0.7666666666666666, 0.8999999999999999, 0.9666666666666666])"
      ]
     },
     "execution_count": 9,
     "metadata": {},
     "output_type": "execute_result"
    }
   ],
   "source": [
    "OnePiece.feature_set_enrichment._cumulate(ve)"
   ]
  },
  {
   "cell_type": "markdown",
   "id": "416f5cc1",
   "metadata": {},
   "source": [
    "## _plot_mountain"
   ]
  },
  {
   "cell_type": "code",
   "execution_count": 10,
   "id": "ad1ee2bd",
   "metadata": {
    "execution": {
     "iopub.execute_input": "2022-07-07T21:22:36.119000Z",
     "iopub.status.busy": "2022-07-07T21:22:36.118000Z",
     "iopub.status.idle": "2022-07-07T21:22:36.297000Z",
     "shell.execute_reply": "2022-07-07T21:22:36.297000Z"
    }
   },
   "outputs": [
    {
     "data": {
      "text/plain": [
       "_plot_mountain (generic function with 1 method)"
      ]
     },
     "execution_count": 10,
     "metadata": {},
     "output_type": "execute_result"
    }
   ],
   "source": [
    "OnePiece.feature_set_enrichment._plot_mountain"
   ]
  },
  {
   "cell_type": "markdown",
   "id": "5c84331f",
   "metadata": {},
   "source": [
    "## make_benchmark"
   ]
  },
  {
   "cell_type": "code",
   "execution_count": 11,
   "id": "2bc0cc84",
   "metadata": {
    "execution": {
     "iopub.execute_input": "2022-07-07T21:22:36.300000Z",
     "iopub.status.busy": "2022-07-07T21:22:36.300000Z",
     "iopub.status.idle": "2022-07-07T21:22:42.625000Z",
     "shell.execute_reply": "2022-07-07T21:22:42.625000Z"
    }
   },
   "outputs": [
    {
     "name": "stdout",
     "output_type": "stream",
     "text": [
      "ErrorException(\"\")\n"
     ]
    }
   ],
   "source": [
    "try\n",
    "\n",
    "    OnePiece.feature_set_enrichment.make_benchmark(\"card 12K\")\n",
    "\n",
    "catch er\n",
    "\n",
    "    println(er)\n",
    "\n",
    "end"
   ]
  },
  {
   "cell_type": "code",
   "execution_count": 12,
   "id": "a6be0bcb",
   "metadata": {
    "execution": {
     "iopub.execute_input": "2022-07-07T21:22:42.629000Z",
     "iopub.status.busy": "2022-07-07T21:22:42.629000Z",
     "iopub.status.idle": "2022-07-07T21:22:42.953000Z",
     "shell.execute_reply": "2022-07-07T21:22:42.953000Z"
    }
   },
   "outputs": [
    {
     "data": {
      "text/plain": [
       "([\"A\", \"2\", \"3\", \"4\", \"5\", \"6\", \"7\", \"8\", \"9\", \"X\", \"J\", \"Q\", \"K\"], [-6.0, -5.0, -4.0, -3.0, -2.0, -1.0, 0.0, 1.0, 2.0, 3.0, 4.0, 5.0, 6.0], [\"A\", \"2\", \"K\"])"
      ]
     },
     "execution_count": 12,
     "metadata": {},
     "output_type": "execute_result"
    }
   ],
   "source": [
    "OnePiece.feature_set_enrichment.make_benchmark(\"card A2K\")"
   ]
  },
  {
   "cell_type": "code",
   "execution_count": 13,
   "id": "50f056f8",
   "metadata": {
    "execution": {
     "iopub.execute_input": "2022-07-07T21:22:42.956000Z",
     "iopub.status.busy": "2022-07-07T21:22:42.956000Z",
     "iopub.status.idle": "2022-07-07T21:22:43.349000Z",
     "shell.execute_reply": "2022-07-07T21:22:43.349000Z"
    }
   },
   "outputs": [
    {
     "data": {
      "text/plain": [
       "([\"Feature 1\", \"Feature 2\", \"Feature 3\"], [-1.9759976778867547, 0.03961532543266433, 1.9759976778867547], [\"Feature 1\", \"Feature 2\"])"
      ]
     },
     "execution_count": 13,
     "metadata": {},
     "output_type": "execute_result"
    }
   ],
   "source": [
    "OnePiece.feature_set_enrichment.make_benchmark(\"random 3 2\")"
   ]
  },
  {
   "cell_type": "code",
   "execution_count": 14,
   "id": "2fd2f9e9",
   "metadata": {
    "execution": {
     "iopub.execute_input": "2022-07-07T21:22:43.352000Z",
     "iopub.status.busy": "2022-07-07T21:22:43.352000Z",
     "iopub.status.idle": "2022-07-07T21:22:43.353000Z",
     "shell.execute_reply": "2022-07-07T21:22:43.353000Z"
    }
   },
   "outputs": [
    {
     "data": {
      "text/plain": [
       "([\"Feature 1\", \"Feature 2\", \"Feature 3\", \"Feature 4\"], [-1.2517571516078503, -0.1525311918912957, 0.1525311918912957, 1.2517571516078503], [\"Feature 3\", \"Feature 2\"])"
      ]
     },
     "execution_count": 14,
     "metadata": {},
     "output_type": "execute_result"
    }
   ],
   "source": [
    "OnePiece.feature_set_enrichment.make_benchmark(\"random 4 2\")"
   ]
  },
  {
   "cell_type": "code",
   "execution_count": 15,
   "id": "ffe60bda",
   "metadata": {
    "execution": {
     "iopub.execute_input": "2022-07-07T21:22:43.356000Z",
     "iopub.status.busy": "2022-07-07T21:22:43.356000Z",
     "iopub.status.idle": "2022-07-07T21:22:49.146000Z",
     "shell.execute_reply": "2022-07-07T21:22:49.146000Z"
    }
   },
   "outputs": [
    {
     "name": "stdout",
     "output_type": "stream",
     "text": [
      "18915\n",
      "18915\n",
      "24\n"
     ]
    }
   ],
   "source": [
    "fe_, sc_, fe1_ = OnePiece.feature_set_enrichment.make_benchmark(\"myc\")\n",
    "\n",
    "println(length(fe_))\n",
    "\n",
    "println(length(sc_))\n",
    "\n",
    "println(length(fe1_))"
   ]
  },
  {
   "cell_type": "code",
   "execution_count": 16,
   "id": "87741f4a",
   "metadata": {
    "execution": {
     "iopub.execute_input": "2022-07-07T21:22:49.149000Z",
     "iopub.status.busy": "2022-07-07T21:22:49.149000Z",
     "iopub.status.idle": "2022-07-07T21:22:49.151000Z",
     "shell.execute_reply": "2022-07-07T21:22:49.150000Z"
    }
   },
   "outputs": [
    {
     "data": {
      "text/plain": [
       "([\"A\", \"2\", \"3\", \"4\", \"5\", \"6\", \"7\", \"8\", \"9\", \"X\", \"J\", \"Q\", \"K\"], [-6.0, -5.0, -4.0, -3.0, -2.0, -1.0, 0.0, 1.0, 2.0, 3.0, 4.0, 5.0, 6.0], [\"A\", \"K\"])"
      ]
     },
     "execution_count": 16,
     "metadata": {},
     "output_type": "execute_result"
    }
   ],
   "source": [
    "fe_, sc_, fe1_ = OnePiece.feature_set_enrichment.make_benchmark(\"card AK\")"
   ]
  },
  {
   "cell_type": "markdown",
   "id": "0a5bc30f",
   "metadata": {},
   "source": [
    "## score_set"
   ]
  },
  {
   "cell_type": "code",
   "execution_count": 17,
   "id": "2c5d14d0",
   "metadata": {
    "execution": {
     "iopub.execute_input": "2022-07-07T21:22:49.154000Z",
     "iopub.status.busy": "2022-07-07T21:22:49.154000Z",
     "iopub.status.idle": "2022-07-07T21:22:53.282000Z",
     "shell.execute_reply": "2022-07-07T21:22:53.282000Z"
    }
   },
   "outputs": [
    {
     "name": "stdout",
     "output_type": "stream",
     "text": [
      "Made /var/folders/mg/30npdf0s1z36txb2qvgylrzh0000gn/T/mountain.html.\n"
     ]
    },
    {
     "data": {
      "text/plain": [
       "-0.5000000000000001"
      ]
     },
     "execution_count": 17,
     "metadata": {},
     "output_type": "execute_result"
    }
   ],
   "source": [
    "OnePiece.feature_set_enrichment.score_set(\n",
    "    fe_,\n",
    "    sc_,\n",
    "    fe1_,\n",
    "    ou = joinpath(tempdir(), \"mountain.html\"),\n",
    ")"
   ]
  },
  {
   "cell_type": "markdown",
   "id": "1610cab2",
   "metadata": {},
   "source": [
    "## score_set_new"
   ]
  },
  {
   "cell_type": "code",
   "execution_count": 18,
   "id": "60909b34",
   "metadata": {
    "execution": {
     "iopub.execute_input": "2022-07-07T21:22:53.285000Z",
     "iopub.status.busy": "2022-07-07T21:22:53.285000Z",
     "iopub.status.idle": "2022-07-07T21:22:54.098000Z",
     "shell.execute_reply": "2022-07-07T21:22:54.098000Z"
    }
   },
   "outputs": [
    {
     "name": "stdout",
     "output_type": "stream",
     "text": [
      "Sums: 0.9999999999999997 and 12.000000000000002\n",
      "Sums: 1.0 and 12.000000000000002\n",
      "Made /var/folders/mg/30npdf0s1z36txb2qvgylrzh0000gn/T/mountain_new.html.\n"
     ]
    },
    {
     "data": {
      "text/plain": [
       "2.767061105911404"
      ]
     },
     "execution_count": 18,
     "metadata": {},
     "output_type": "execute_result"
    }
   ],
   "source": [
    "OnePiece.feature_set_enrichment.score_set_new(\n",
    "    fe_,\n",
    "    sc_,\n",
    "    fe1_,\n",
    "    ou = joinpath(tempdir(), \"mountain_new.html\"),\n",
    ")"
   ]
  },
  {
   "cell_type": "markdown",
   "id": "a9aef25c",
   "metadata": {},
   "source": [
    "## More"
   ]
  },
  {
   "cell_type": "code",
   "execution_count": 19,
   "id": "fd01b6d0",
   "metadata": {
    "execution": {
     "iopub.execute_input": "2022-07-07T21:22:54.102000Z",
     "iopub.status.busy": "2022-07-07T21:22:54.102000Z",
     "iopub.status.idle": "2022-07-07T21:22:54.474000Z",
     "shell.execute_reply": "2022-07-07T21:22:54.474000Z"
    }
   },
   "outputs": [],
   "source": [
    "fe_, sc_, fe1_ = OnePiece.feature_set_enrichment.make_benchmark(\"myc\")\n",
    "\n",
    "in_ = OnePiece.vector.is_in(fe_, fe1_)\n",
    "\n",
    "sc_fe_sa = DataFrame(\n",
    "    \"Feature\" => fe_,\n",
    "    \"Score\" => sc_,\n",
    "    \"Score x 10\" => sc_ * 10,\n",
    "    \"Constant\" => fill(0.8, length(fe_)),\n",
    ")\n",
    "\n",
    "se_fe_ =\n",
    "    OnePiece.gmt.read(joinpath(@__DIR__, \"feature_set_enrichment.data\", \"h.all.v7.1.symbols.gmt\"))\n",
    "\n",
    ";"
   ]
  },
  {
   "cell_type": "markdown",
   "id": "29648e2e",
   "metadata": {},
   "source": [
    "## score_set"
   ]
  },
  {
   "cell_type": "code",
   "execution_count": 20,
   "id": "fb14dcef",
   "metadata": {
    "execution": {
     "iopub.execute_input": "2022-07-07T21:22:54.477000Z",
     "iopub.status.busy": "2022-07-07T21:22:54.476000Z",
     "iopub.status.idle": "2022-07-07T21:22:54.587000Z",
     "shell.execute_reply": "2022-07-07T21:22:54.587000Z"
    }
   },
   "outputs": [
    {
     "name": "stdout",
     "output_type": "stream",
     "text": [
      "Made /Users/kwat/.julia/scratchspaces/1fe83854-81c0-42f7-afc9-71ba9af673ca/OnePiece.html/2022-7-7_21:22:54.535.html.\n"
     ]
    },
    {
     "data": {
      "text/plain": [
       "0.8317043368191653"
      ]
     },
     "execution_count": 20,
     "metadata": {},
     "output_type": "execute_result"
    }
   ],
   "source": [
    "OnePiece.feature_set_enrichment.score_set(fe_, sc_, fe1_, in_)"
   ]
  },
  {
   "cell_type": "code",
   "execution_count": 21,
   "id": "ca942b2a",
   "metadata": {
    "execution": {
     "iopub.execute_input": "2022-07-07T21:22:54.591000Z",
     "iopub.status.busy": "2022-07-07T21:22:54.591000Z",
     "iopub.status.idle": "2022-07-07T21:22:54.633000Z",
     "shell.execute_reply": "2022-07-07T21:22:54.632000Z"
    }
   },
   "outputs": [
    {
     "name": "stdout",
     "output_type": "stream",
     "text": [
      "Made /Users/kwat/.julia/scratchspaces/1fe83854-81c0-42f7-afc9-71ba9af673ca/OnePiece.html/2022-7-7_21:22:54.616.html.\n"
     ]
    },
    {
     "data": {
      "text/plain": [
       "0.8317043368191653"
      ]
     },
     "execution_count": 21,
     "metadata": {},
     "output_type": "execute_result"
    }
   ],
   "source": [
    "OnePiece.feature_set_enrichment.score_set(fe_, sc_, fe1_)"
   ]
  },
  {
   "cell_type": "code",
   "execution_count": 22,
   "id": "cf091ae2",
   "metadata": {
    "execution": {
     "iopub.execute_input": "2022-07-07T21:22:54.639000Z",
     "iopub.status.busy": "2022-07-07T21:22:54.639000Z",
     "iopub.status.idle": "2022-07-07T21:22:56.038000Z",
     "shell.execute_reply": "2022-07-07T21:22:56.037000Z"
    }
   },
   "outputs": [
    {
     "data": {
      "text/plain": [
       "Dict{SubString{String}, Float64} with 50 entries:\n",
       "  \"HALLMARK_ANGIOGENESIS\"                      => 0.26264\n",
       "  \"HALLMARK_MYOGENESIS\"                        => 0.265509\n",
       "  \"HALLMARK_PEROXISOME\"                        => 0.202655\n",
       "  \"HALLMARK_UV_RESPONSE_DN\"                    => -0.213707\n",
       "  \"HALLMARK_NOTCH_SIGNALING\"                   => 0.260314\n",
       "  \"HALLMARK_ANDROGEN_RESPONSE\"                 => 0.343714\n",
       "  \"HALLMARK_ALLOGRAFT_REJECTION\"               => 0.373591\n",
       "  \"HALLMARK_ESTROGEN_RESPONSE_LATE\"            => -0.171534\n",
       "  \"HALLMARK_G2M_CHECKPOINT\"                    => 0.22621\n",
       "  \"HALLMARK_MYC_TARGETS_V2\"                    => 0.866579\n",
       "  \"HALLMARK_APOPTOSIS\"                         => 0.22412\n",
       "  \"HALLMARK_P53_PATHWAY\"                       => 0.223665\n",
       "  \"HALLMARK_UNFOLDED_PROTEIN_RESPONSE\"         => 0.488161\n",
       "  \"HALLMARK_ADIPOGENESIS\"                      => 0.328568\n",
       "  \"HALLMARK_DNA_REPAIR\"                        => 0.324477\n",
       "  \"HALLMARK_EPITHELIAL_MESENCHYMAL_TRANSITION\" => 0.240784\n",
       "  \"HALLMARK_OXIDATIVE_PHOSPHORYLATION\"         => 0.389409\n",
       "  \"HALLMARK_HEME_METABOLISM\"                   => 0.212217\n",
       "  \"HALLMARK_MITOTIC_SPINDLE\"                   => -0.232207\n",
       "  \"HALLMARK_FATTY_ACID_METABOLISM\"             => 0.28295\n",
       "  \"HALLMARK_COMPLEMENT\"                        => 0.26429\n",
       "  \"HALLMARK_APICAL_SURFACE\"                    => 0.341684\n",
       "  \"HALLMARK_ESTROGEN_RESPONSE_EARLY\"           => 0.216079\n",
       "  \"HALLMARK_INTERFERON_GAMMA_RESPONSE\"         => -0.139782\n",
       "  \"HALLMARK_MTORC1_SIGNALING\"                  => 0.464692\n",
       "  ⋮                                            => ⋮"
      ]
     },
     "execution_count": 22,
     "metadata": {},
     "output_type": "execute_result"
    }
   ],
   "source": [
    "OnePiece.feature_set_enrichment.score_set(fe_, sc_, se_fe_)"
   ]
  },
  {
   "cell_type": "code",
   "execution_count": 23,
   "id": "d97a96a5",
   "metadata": {
    "execution": {
     "iopub.execute_input": "2022-07-07T21:22:56.041000Z",
     "iopub.status.busy": "2022-07-07T21:22:56.041000Z",
     "iopub.status.idle": "2022-07-07T21:22:59.982000Z",
     "shell.execute_reply": "2022-07-07T21:22:59.982000Z"
    }
   },
   "outputs": [
    {
     "data": {
      "text/html": [
       "<div class=\"data-frame\"><p>50 rows × 4 columns</p><table class=\"data-frame\"><thead><tr><th></th><th>Set</th><th>Score</th><th>Score x 10</th><th>Constant</th></tr><tr><th></th><th title=\"Any\">Any</th><th title=\"Float64\">Float64</th><th title=\"Float64\">Float64</th><th title=\"Float64\">Float64</th></tr></thead><tbody><tr><th>1</th><td>HALLMARK_ANGIOGENESIS</td><td>0.26264</td><td>0.26264</td><td>0.19542</td></tr><tr><th>2</th><td>HALLMARK_MYOGENESIS</td><td>0.265509</td><td>0.265509</td><td>0.0869255</td></tr><tr><th>3</th><td>HALLMARK_PEROXISOME</td><td>0.202655</td><td>0.202655</td><td>0.100192</td></tr><tr><th>4</th><td>HALLMARK_UV_RESPONSE_DN</td><td>-0.213707</td><td>-0.213707</td><td>-0.0854584</td></tr><tr><th>5</th><td>HALLMARK_NOTCH_SIGNALING</td><td>0.260314</td><td>0.260314</td><td>0.125912</td></tr><tr><th>6</th><td>HALLMARK_ANDROGEN_RESPONSE</td><td>0.343714</td><td>0.343714</td><td>0.104331</td></tr><tr><th>7</th><td>HALLMARK_ALLOGRAFT_REJECTION</td><td>0.373591</td><td>0.373591</td><td>0.211568</td></tr><tr><th>8</th><td>HALLMARK_ESTROGEN_RESPONSE_LATE</td><td>-0.171534</td><td>-0.171534</td><td>-0.0693152</td></tr><tr><th>9</th><td>HALLMARK_G2M_CHECKPOINT</td><td>0.22621</td><td>0.22621</td><td>-0.075125</td></tr><tr><th>10</th><td>HALLMARK_MYC_TARGETS_V2</td><td>0.866579</td><td>0.866579</td><td>0.742885</td></tr><tr><th>11</th><td>HALLMARK_APOPTOSIS</td><td>0.22412</td><td>0.22412</td><td>0.0452882</td></tr><tr><th>12</th><td>HALLMARK_P53_PATHWAY</td><td>0.223665</td><td>0.223665</td><td>0.0640546</td></tr><tr><th>13</th><td>HALLMARK_UNFOLDED_PROTEIN_RESPONSE</td><td>0.488161</td><td>0.488161</td><td>0.202149</td></tr><tr><th>14</th><td>HALLMARK_ADIPOGENESIS</td><td>0.328568</td><td>0.328568</td><td>0.0954589</td></tr><tr><th>15</th><td>HALLMARK_DNA_REPAIR</td><td>0.324477</td><td>0.324477</td><td>0.123911</td></tr><tr><th>16</th><td>HALLMARK_EPITHELIAL_MESENCHYMAL_TRANSITION</td><td>0.240784</td><td>0.240784</td><td>0.0852486</td></tr><tr><th>17</th><td>HALLMARK_OXIDATIVE_PHOSPHORYLATION</td><td>0.389409</td><td>0.389409</td><td>0.17893</td></tr><tr><th>18</th><td>HALLMARK_HEME_METABOLISM</td><td>0.212217</td><td>0.212217</td><td>0.0401696</td></tr><tr><th>19</th><td>HALLMARK_MITOTIC_SPINDLE</td><td>-0.232207</td><td>-0.232207</td><td>-0.121298</td></tr><tr><th>20</th><td>HALLMARK_FATTY_ACID_METABOLISM</td><td>0.28295</td><td>0.28295</td><td>0.0986551</td></tr><tr><th>21</th><td>HALLMARK_COMPLEMENT</td><td>0.26429</td><td>0.26429</td><td>0.13531</td></tr><tr><th>22</th><td>HALLMARK_APICAL_SURFACE</td><td>0.341684</td><td>0.341684</td><td>0.275</td></tr><tr><th>23</th><td>HALLMARK_ESTROGEN_RESPONSE_EARLY</td><td>0.216079</td><td>0.216079</td><td>-0.0396754</td></tr><tr><th>24</th><td>HALLMARK_INTERFERON_GAMMA_RESPONSE</td><td>-0.139782</td><td>-0.139782</td><td>-0.118363</td></tr><tr><th>25</th><td>HALLMARK_MTORC1_SIGNALING</td><td>0.464692</td><td>0.464692</td><td>0.20548</td></tr><tr><th>26</th><td>HALLMARK_INTERFERON_ALPHA_RESPONSE</td><td>-0.198526</td><td>-0.198526</td><td>-0.170717</td></tr><tr><th>27</th><td>HALLMARK_REACTIVE_OXYGEN_SPECIES_PATHWAY</td><td>0.443955</td><td>0.443955</td><td>0.307949</td></tr><tr><th>28</th><td>HALLMARK_PI3K_AKT_MTOR_SIGNALING</td><td>0.268293</td><td>0.268293</td><td>0.104307</td></tr><tr><th>29</th><td>HALLMARK_XENOBIOTIC_METABOLISM</td><td>0.251574</td><td>0.251574</td><td>0.119551</td></tr><tr><th>30</th><td>HALLMARK_KRAS_SIGNALING_DN</td><td>0.224452</td><td>0.224452</td><td>0.0674364</td></tr><tr><th>&vellip;</th><td>&vellip;</td><td>&vellip;</td><td>&vellip;</td><td>&vellip;</td></tr></tbody></table></div>"
      ],
      "text/latex": [
       "\\begin{tabular}{r|cccc}\n",
       "\t& Set & Score & Score x 10 & Constant\\\\\n",
       "\t\\hline\n",
       "\t& Any & Float64 & Float64 & Float64\\\\\n",
       "\t\\hline\n",
       "\t1 & HALLMARK\\_ANGIOGENESIS & 0.26264 & 0.26264 & 0.19542 \\\\\n",
       "\t2 & HALLMARK\\_MYOGENESIS & 0.265509 & 0.265509 & 0.0869255 \\\\\n",
       "\t3 & HALLMARK\\_PEROXISOME & 0.202655 & 0.202655 & 0.100192 \\\\\n",
       "\t4 & HALLMARK\\_UV\\_RESPONSE\\_DN & -0.213707 & -0.213707 & -0.0854584 \\\\\n",
       "\t5 & HALLMARK\\_NOTCH\\_SIGNALING & 0.260314 & 0.260314 & 0.125912 \\\\\n",
       "\t6 & HALLMARK\\_ANDROGEN\\_RESPONSE & 0.343714 & 0.343714 & 0.104331 \\\\\n",
       "\t7 & HALLMARK\\_ALLOGRAFT\\_REJECTION & 0.373591 & 0.373591 & 0.211568 \\\\\n",
       "\t8 & HALLMARK\\_ESTROGEN\\_RESPONSE\\_LATE & -0.171534 & -0.171534 & -0.0693152 \\\\\n",
       "\t9 & HALLMARK\\_G2M\\_CHECKPOINT & 0.22621 & 0.22621 & -0.075125 \\\\\n",
       "\t10 & HALLMARK\\_MYC\\_TARGETS\\_V2 & 0.866579 & 0.866579 & 0.742885 \\\\\n",
       "\t11 & HALLMARK\\_APOPTOSIS & 0.22412 & 0.22412 & 0.0452882 \\\\\n",
       "\t12 & HALLMARK\\_P53\\_PATHWAY & 0.223665 & 0.223665 & 0.0640546 \\\\\n",
       "\t13 & HALLMARK\\_UNFOLDED\\_PROTEIN\\_RESPONSE & 0.488161 & 0.488161 & 0.202149 \\\\\n",
       "\t14 & HALLMARK\\_ADIPOGENESIS & 0.328568 & 0.328568 & 0.0954589 \\\\\n",
       "\t15 & HALLMARK\\_DNA\\_REPAIR & 0.324477 & 0.324477 & 0.123911 \\\\\n",
       "\t16 & HALLMARK\\_EPITHELIAL\\_MESENCHYMAL\\_TRANSITION & 0.240784 & 0.240784 & 0.0852486 \\\\\n",
       "\t17 & HALLMARK\\_OXIDATIVE\\_PHOSPHORYLATION & 0.389409 & 0.389409 & 0.17893 \\\\\n",
       "\t18 & HALLMARK\\_HEME\\_METABOLISM & 0.212217 & 0.212217 & 0.0401696 \\\\\n",
       "\t19 & HALLMARK\\_MITOTIC\\_SPINDLE & -0.232207 & -0.232207 & -0.121298 \\\\\n",
       "\t20 & HALLMARK\\_FATTY\\_ACID\\_METABOLISM & 0.28295 & 0.28295 & 0.0986551 \\\\\n",
       "\t21 & HALLMARK\\_COMPLEMENT & 0.26429 & 0.26429 & 0.13531 \\\\\n",
       "\t22 & HALLMARK\\_APICAL\\_SURFACE & 0.341684 & 0.341684 & 0.275 \\\\\n",
       "\t23 & HALLMARK\\_ESTROGEN\\_RESPONSE\\_EARLY & 0.216079 & 0.216079 & -0.0396754 \\\\\n",
       "\t24 & HALLMARK\\_INTERFERON\\_GAMMA\\_RESPONSE & -0.139782 & -0.139782 & -0.118363 \\\\\n",
       "\t25 & HALLMARK\\_MTORC1\\_SIGNALING & 0.464692 & 0.464692 & 0.20548 \\\\\n",
       "\t26 & HALLMARK\\_INTERFERON\\_ALPHA\\_RESPONSE & -0.198526 & -0.198526 & -0.170717 \\\\\n",
       "\t27 & HALLMARK\\_REACTIVE\\_OXYGEN\\_SPECIES\\_PATHWAY & 0.443955 & 0.443955 & 0.307949 \\\\\n",
       "\t28 & HALLMARK\\_PI3K\\_AKT\\_MTOR\\_SIGNALING & 0.268293 & 0.268293 & 0.104307 \\\\\n",
       "\t29 & HALLMARK\\_XENOBIOTIC\\_METABOLISM & 0.251574 & 0.251574 & 0.119551 \\\\\n",
       "\t30 & HALLMARK\\_KRAS\\_SIGNALING\\_DN & 0.224452 & 0.224452 & 0.0674364 \\\\\n",
       "\t$\\dots$ & $\\dots$ & $\\dots$ & $\\dots$ & $\\dots$ \\\\\n",
       "\\end{tabular}\n"
      ],
      "text/plain": [
       "\u001b[1m50×4 DataFrame\u001b[0m\n",
       "\u001b[1m Row \u001b[0m│\u001b[1m Set                               \u001b[0m\u001b[1m Score     \u001b[0m\u001b[1m Score x 10 \u001b[0m\u001b[1m Constant   \u001b[0m\n",
       "\u001b[1m     \u001b[0m│\u001b[90m Any                               \u001b[0m\u001b[90m Float64   \u001b[0m\u001b[90m Float64    \u001b[0m\u001b[90m Float64    \u001b[0m\n",
       "─────┼──────────────────────────────────────────────────────────────────────\n",
       "   1 │ HALLMARK_ANGIOGENESIS               0.26264     0.26264    0.19542\n",
       "   2 │ HALLMARK_MYOGENESIS                 0.265509    0.265509   0.0869255\n",
       "   3 │ HALLMARK_PEROXISOME                 0.202655    0.202655   0.100192\n",
       "   4 │ HALLMARK_UV_RESPONSE_DN            -0.213707   -0.213707  -0.0854584\n",
       "   5 │ HALLMARK_NOTCH_SIGNALING            0.260314    0.260314   0.125912\n",
       "   6 │ HALLMARK_ANDROGEN_RESPONSE          0.343714    0.343714   0.104331\n",
       "   7 │ HALLMARK_ALLOGRAFT_REJECTION        0.373591    0.373591   0.211568\n",
       "   8 │ HALLMARK_ESTROGEN_RESPONSE_LATE    -0.171534   -0.171534  -0.0693152\n",
       "   9 │ HALLMARK_G2M_CHECKPOINT             0.22621     0.22621   -0.075125\n",
       "  10 │ HALLMARK_MYC_TARGETS_V2             0.866579    0.866579   0.742885\n",
       "  11 │ HALLMARK_APOPTOSIS                  0.22412     0.22412    0.0452882\n",
       "  ⋮  │                 ⋮                      ⋮          ⋮           ⋮\n",
       "  41 │ HALLMARK_KRAS_SIGNALING_UP          0.147173    0.147173   0.0618203\n",
       "  42 │ HALLMARK_INFLAMMATORY_RESPONSE      0.323983    0.323983   0.154534\n",
       "  43 │ HALLMARK_CHOLESTEROL_HOMEOSTASIS    0.210387    0.210387   0.129141\n",
       "  44 │ HALLMARK_TGF_BETA_SIGNALING         0.222111    0.222111   0.142216\n",
       "  45 │ HALLMARK_PANCREAS_BETA_CELLS       -0.35266    -0.35266   -0.232278\n",
       "  46 │ HALLMARK_COAGULATION                0.278647    0.278647   0.163291\n",
       "  47 │ HALLMARK_HYPOXIA                    0.277776    0.277776   0.103856\n",
       "  48 │ HALLMARK_GLYCOLYSIS                 0.294762    0.294762   0.13344\n",
       "  49 │ HALLMARK_HEDGEHOG_SIGNALING         0.24439     0.24439    0.104643\n",
       "  50 │ HALLMARK_IL6_JAK_STAT3_SIGNALING    0.252595    0.252595   0.193602\n",
       "\u001b[36m                                                             29 rows omitted\u001b[0m"
      ]
     },
     "execution_count": 23,
     "metadata": {},
     "output_type": "execute_result"
    }
   ],
   "source": [
    "OnePiece.feature_set_enrichment.score_set(sc_fe_sa, se_fe_)"
   ]
  },
  {
   "cell_type": "markdown",
   "id": "0e091e7b",
   "metadata": {},
   "source": [
    "## score_set_new"
   ]
  },
  {
   "cell_type": "code",
   "execution_count": 24,
   "id": "2f4480dc",
   "metadata": {
    "execution": {
     "iopub.execute_input": "2022-07-07T21:22:59.985000Z",
     "iopub.status.busy": "2022-07-07T21:22:59.985000Z",
     "iopub.status.idle": "2022-07-07T21:23:00.105000Z",
     "shell.execute_reply": "2022-07-07T21:23:00.105000Z"
    }
   },
   "outputs": [
    {
     "name": "stdout",
     "output_type": "stream",
     "text": [
      "Sums: 0.9999999999999993 and 18913.999999999985\n",
      "Sums: 1.0 and 18913.999999999996\n",
      "Made /Users/kwat/.julia/scratchspaces/1fe83854-81c0-42f7-afc9-71ba9af673ca/OnePiece.html/2022-7-7_21:23:0.088.html.\n"
     ]
    },
    {
     "data": {
      "text/plain": [
       "0.06967675789782957"
      ]
     },
     "execution_count": 24,
     "metadata": {},
     "output_type": "execute_result"
    }
   ],
   "source": [
    "OnePiece.feature_set_enrichment.score_set_new(fe_, sc_, fe1_)"
   ]
  },
  {
   "cell_type": "code",
   "execution_count": 25,
   "id": "c573a195",
   "metadata": {
    "execution": {
     "iopub.execute_input": "2022-07-07T21:23:00.109000Z",
     "iopub.status.busy": "2022-07-07T21:23:00.109000Z",
     "iopub.status.idle": "2022-07-07T21:23:01.028000Z",
     "shell.execute_reply": "2022-07-07T21:23:01.028000Z"
    }
   },
   "outputs": [
    {
     "name": "stdout",
     "output_type": "stream",
     "text": [
      "Sums: 1.0 and 18914.000000000004\n",
      "Sums: 1.0 and 18914.0\n",
      "Sums: 1.0 and 18914.0\n",
      "Sums: 1.0 and 18914.0\n",
      "Sums: 0.9999999999999998 and 18914.0\n",
      "Sums: 0.9999999999999998 and 18914.0\n",
      "Sums: 1.0 and 18914.000000000007\n",
      "Sums: 1.0 and 18914.0\n",
      "Sums: 0.9999999999999999 and 18914.000000000004\n",
      "Sums: 1.0 and 18914.0\n",
      "Sums: 1.0000000000000002 and 18914.0\n",
      "Sums: 0.9999999999999999 and 18914.0\n",
      "Sums: 0.9999999999999998 and 18914.000000000004\n",
      "Sums: 1.0 and 18914.0\n",
      "Sums: 1.0 and 18914.0\n",
      "Sums: 1.0 and 18914.0\n",
      "Sums: 0.9999999999999999 and 18914.0\n",
      "Sums: 1.0 and 18914.0\n",
      "Sums: 1.0000000000000007 and 18914.000000000007\n",
      "Sums: 1.0 and 18914.0\n",
      "Sums: 0.9999999999999996 and 18914.0\n",
      "Sums: 1.0 and 18914.0\n",
      "Sums: 1.0 and 18914.000000000007\n",
      "Sums: 1.0 and 18914.0\n",
      "Sums: 1.0 and 18913.999999999996\n",
      "Sums: 1.0 and 18914.0\n",
      "Sums: 1.0000000000000002 and 18914.0\n",
      "Sums: 1.0000000000000002 and 18914.0\n",
      "Sums: 0.9999999999999998 and 18914.0\n",
      "Sums: 1.0 and 18914.0\n",
      "Sums: 0.9999999999999998 and 18913.999999999996\n",
      "Sums: 0.9999999999999999 and 18914.0\n",
      "Sums: 1.0 and 18914.0\n",
      "Sums: 1.0 and 18914.0\n",
      "Sums: 1.0 and 18913.999999999996\n",
      "Sums: 0.9999999999999999 and 18914.0\n",
      "Sums: 1.0000000000000002 and 18914.0\n",
      "Sums: 1.0 and 18914.0\n",
      "Sums: 0.9999999999999997 and 18914.0\n",
      "Sums: 1.0 and 18914.0\n",
      "Sums: 0.9999999999999999 and 18913.999999999996\n",
      "Sums: 1.0 and 18914.0\n",
      "Sums: 0.9999999999999998 and 18914.0\n",
      "Sums: 1.0 and 18914.0\n",
      "Sums: 1.0000000000000002 and 18914.0\n",
      "Sums: 1.0 and 18914.0\n",
      "Sums: 1.0 and 18913.999999999996\n",
      "Sums: 0.9999999999999998 and 18914.0\n",
      "Sums: 1.0 and 18914.000000000004\n",
      "Sums: 1.0 and 18914.0\n",
      "Sums: 1.0000000000000002 and 18913.999999999996\n",
      "Sums: 1.0 and 18914.0\n",
      "Sums: 0.9999999999999998 and 18914.0\n",
      "Sums: 1.0 and 18914.0\n",
      "Sums: 0.9999999999999999 and 18914.0\n",
      "Sums: 1.0 and 18914.0\n",
      "Sums: 0.9999999999999998 and 18914.0\n",
      "Sums: 1.0000000000000002 and 18914.0\n",
      "Sums: 0.9999999999999999 and 18914.0\n",
      "Sums: 1.0 and 18914.0\n",
      "Sums: 0.9999999999999997 and 18914.0\n",
      "Sums: 0.9999999999999998 and 18914.0\n",
      "Sums: 0.9999999999999998 and 18913.999999999996\n",
      "Sums: 1.0 and 18914.0\n",
      "Sums: 1.0000000000000004 and 18914.0\n",
      "Sums: 1.0 and 18914.0\n",
      "Sums: 1.0 and 18914.000000000004\n",
      "Sums: 1.0 and 18914.0\n",
      "Sums: 1.0 and 18914.0\n",
      "Sums: 1.0 and 18914.0\n",
      "Sums: 1.0 and 18914.000000000004\n",
      "Sums: 1.0 and 18914.0\n",
      "Sums: 0.9999999999999994 and 18914.000000000007\n",
      "Sums: 0.9999999999999999 and 18914.0\n",
      "Sums: 1.0 and 18914.0\n",
      "Sums: 0.9999999999999998 and 18914.0\n",
      "Sums: 0.9999999999999999 and 18914.0\n",
      "Sums: 1.0 and 18914.0\n",
      "Sums: 1.0 and 18914.000000000004\n",
      "Sums: 1.0000000000000002 and 18914.0\n",
      "Sums: 0.9999999999999998 and 18914.0\n",
      "Sums: 0.9999999999999999 and 18914.0\n",
      "Sums: 1.0000000000000004 and 18914.0\n",
      "Sums: 1.0 and 18914.0\n",
      "Sums: 1.0 and 18913.999999999996\n",
      "Sums: 1.0 and 18914.0\n",
      "Sums: 0.9999999999999998 and 18914.0\n",
      "Sums: 0.9999999999999999 and 18914.0\n",
      "Sums: 0.9999999999999999 and 18914.0\n",
      "Sums: 0.9999999999999999 and 18914.0\n",
      "Sums: 0.9999999999999997 and 18914.0\n",
      "Sums: 1.0000000000000002 and 18914.0\n",
      "Sums: 0.9999999999999998 and 18914.000000000004\n",
      "Sums: 1.0 and 18914.0\n",
      "Sums: 1.0 and 18913.999999999996\n",
      "Sums: 1.0 and 18914.0\n",
      "Sums: 1.0000000000000002 and 18914.0\n",
      "Sums: 1.0 and 18914.0\n",
      "Sums: 0.9999999999999999 and 18914.0\n",
      "Sums: 1.0 and 18914.0\n"
     ]
    },
    {
     "data": {
      "text/plain": [
       "Dict{SubString{String}, Float64} with 50 entries:\n",
       "  \"HALLMARK_ANGIOGENESIS\"                      => 0.0107534\n",
       "  \"HALLMARK_MYOGENESIS\"                        => 0.000580444\n",
       "  \"HALLMARK_PEROXISOME\"                        => 0.00167382\n",
       "  \"HALLMARK_UV_RESPONSE_DN\"                    => 0.00578438\n",
       "  \"HALLMARK_NOTCH_SIGNALING\"                   => 0.00151487\n",
       "  \"HALLMARK_ANDROGEN_RESPONSE\"                 => 0.00391732\n",
       "  \"HALLMARK_ALLOGRAFT_REJECTION\"               => 0.00500481\n",
       "  \"HALLMARK_ESTROGEN_RESPONSE_LATE\"            => 0.0017592\n",
       "  \"HALLMARK_G2M_CHECKPOINT\"                    => 0.0043346\n",
       "  \"HALLMARK_MYC_TARGETS_V2\"                    => 0.0876514\n",
       "  \"HALLMARK_APOPTOSIS\"                         => 0.00151149\n",
       "  \"HALLMARK_P53_PATHWAY\"                       => 0.00118579\n",
       "  \"HALLMARK_UNFOLDED_PROTEIN_RESPONSE\"         => 0.0267062\n",
       "  \"HALLMARK_ADIPOGENESIS\"                      => 0.00549827\n",
       "  \"HALLMARK_DNA_REPAIR\"                        => 0.00604944\n",
       "  \"HALLMARK_EPITHELIAL_MESENCHYMAL_TRANSITION\" => 0.00673302\n",
       "  \"HALLMARK_OXIDATIVE_PHOSPHORYLATION\"         => 0.0133709\n",
       "  \"HALLMARK_HEME_METABOLISM\"                   => 0.000463126\n",
       "  \"HALLMARK_MITOTIC_SPINDLE\"                   => 0.00446473\n",
       "  \"HALLMARK_FATTY_ACID_METABOLISM\"             => 0.00251564\n",
       "  \"HALLMARK_COMPLEMENT\"                        => 0.0081249\n",
       "  \"HALLMARK_APICAL_SURFACE\"                    => 0.0102324\n",
       "  \"HALLMARK_ESTROGEN_RESPONSE_EARLY\"           => 0.00461869\n",
       "  \"HALLMARK_INTERFERON_GAMMA_RESPONSE\"         => 0.00865556\n",
       "  \"HALLMARK_MTORC1_SIGNALING\"                  => 0.0145726\n",
       "  ⋮                                            => ⋮"
      ]
     },
     "execution_count": 25,
     "metadata": {},
     "output_type": "execute_result"
    }
   ],
   "source": [
    "OnePiece.feature_set_enrichment.score_set_new(fe_, sc_, se_fe_)"
   ]
  },
  {
   "cell_type": "markdown",
   "id": "ad0694dc",
   "metadata": {},
   "source": [
    "---"
   ]
  }
 ],
 "metadata": {
  "@webio": {
   "lastCommId": null,
   "lastKernelId": null
  },
  "kernelspec": {
   "display_name": "Julia 1.7.3",
   "language": "julia",
   "name": "julia-1.7"
  },
  "language_info": {
   "file_extension": ".jl",
   "mimetype": "application/julia",
   "name": "julia",
   "version": "1.7.3"
  }
 },
 "nbformat": 4,
 "nbformat_minor": 5
}
