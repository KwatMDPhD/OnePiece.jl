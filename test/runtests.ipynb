{
 "cells": [
  {
   "cell_type": "code",
   "execution_count": null,
   "id": "a8384830",
   "metadata": {},
   "outputs": [],
   "source": [
    "TE = joinpath(tempdir(), \"OnePiece.test\")\n",
    "\n",
    "if isdir(TE)\n",
    "\n",
    "    rm(TE, recursive = true)\n",
    "\n",
    "end\n",
    "\n",
    "mkdir(TE)"
   ]
  },
  {
   "cell_type": "code",
   "execution_count": null,
   "id": "ce40ef9e",
   "metadata": {},
   "outputs": [],
   "source": [
    "#using Revise\n",
    "using OnePiece"
   ]
  },
  {
   "cell_type": "markdown",
   "id": "3fc8766e",
   "metadata": {},
   "source": [
    "---"
   ]
  },
  {
   "cell_type": "code",
   "execution_count": null,
   "id": "1db9ac88",
   "metadata": {},
   "outputs": [],
   "source": [
    "pa = dirname(@__DIR__)\n",
    "\n",
    "pap = joinpath(pa, \"Project.toml\")\n",
    "\n",
    "pas = joinpath(pa, \"src\")\n",
    "\n",
    "pat = joinpath(pa, \"test\")"
   ]
  },
  {
   "cell_type": "code",
   "execution_count": null,
   "id": "db883446",
   "metadata": {},
   "outputs": [],
   "source": [
    "sr_ = [na for na in readdir(pas) if isdir(joinpath(pas, na))]\n",
    "\n",
    "te_ = [splitext(na)[1] for na in readdir(pat) if endswith(na, \".ipynb\")]\n",
    "\n",
    "te_ = [te for te in te_ if !(te in (\"runtests\",))]\n",
    "\n",
    "symdiff(sr_, te_)"
   ]
  },
  {
   "cell_type": "code",
   "execution_count": null,
   "id": "90067352",
   "metadata": {},
   "outputs": [],
   "source": [
    "for (id, te) in enumerate(te_)\n",
    "\n",
    "    println(id)\n",
    "\n",
    "    nb = joinpath(pat, \"$te.ipynb\")\n",
    "\n",
    "    if id < 1\n",
    "\n",
    "        println(\"Skipped.\")\n",
    "\n",
    "        continue\n",
    "\n",
    "    end\n",
    "\n",
    "    println(\"Running \", nb, \" (\", id, \")\")\n",
    "\n",
    "    run(\n",
    "        `jupyter-nbconvert --execute --ExecutePreprocessor.timeout=-1 --clear-output --inplace $nb`,\n",
    "    )\n",
    "\n",
    "end"
   ]
  },
  {
   "cell_type": "markdown",
   "id": "5eb81d9a",
   "metadata": {},
   "source": [
    "---"
   ]
  }
 ],
 "metadata": {
  "@webio": {
   "lastCommId": null,
   "lastKernelId": null
  },
  "kernelspec": {
   "display_name": "Julia 1.7.3",
   "language": "julia",
   "name": "julia-1.7"
  },
  "language_info": {
   "file_extension": ".jl",
   "mimetype": "application/julia",
   "name": "julia",
   "version": "1.7.3"
  }
 },
 "nbformat": 4,
 "nbformat_minor": 5
}
