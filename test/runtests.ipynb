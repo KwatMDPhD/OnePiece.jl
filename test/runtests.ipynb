{
 "cells": [
  {
   "cell_type": "code",
   "execution_count": null,
   "id": "0c3bf917",
   "metadata": {},
   "outputs": [],
   "source": [
    "sr = joinpath(dirname(@__DIR__), \"src\")\n",
    "\n",
    "sr_ = [na for na in readdir(sr)]"
   ]
  },
  {
   "cell_type": "code",
   "execution_count": null,
   "id": "b3c5abb0",
   "metadata": {},
   "outputs": [],
   "source": [
    "ic_ = [\n",
    "    dirname(split(li, \"\\\"\")[2]) for\n",
    "    li in readlines(joinpath(sr, \"OnePiece.jl\")) if occursin(\"include\", li)\n",
    "]\n",
    "\n",
    "symdiff(sr_, ic_)"
   ]
  },
  {
   "cell_type": "code",
   "execution_count": null,
   "id": "dc5eff49",
   "metadata": {},
   "outputs": [],
   "source": [
    "te_ = [splitext(na)[1] for na in readdir() if endswith(na, \".ipynb\")]\n",
    "\n",
    "symdiff(sr_, te_)"
   ]
  },
  {
   "cell_type": "code",
   "execution_count": null,
   "id": "c5b08c78",
   "metadata": {},
   "outputs": [],
   "source": [
    "using OnePiece"
   ]
  },
  {
   "cell_type": "code",
   "execution_count": null,
   "id": "06b4e84d",
   "metadata": {},
   "outputs": [],
   "source": [
    "OnePiece.ipynb.run(@__DIR__, [\"runtests.ipynb\"])"
   ]
  }
 ],
 "metadata": {
  "@webio": {
   "lastCommId": null,
   "lastKernelId": null
  },
  "kernelspec": {
   "display_name": "Julia 1.7.3",
   "language": "julia",
   "name": "julia-1.7"
  },
  "language_info": {
   "file_extension": ".jl",
   "mimetype": "application/julia",
   "name": "julia",
   "version": "1.7.3"
  }
 },
 "nbformat": 4,
 "nbformat_minor": 5
}
