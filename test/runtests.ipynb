{
 "cells": [
  {
   "cell_type": "code",
   "execution_count": null,
   "id": "efccc025",
   "metadata": {},
   "outputs": [],
   "source": [
    "using OnePiece\n",
    "using OnePiece"
   ]
  },
  {
   "cell_type": "code",
   "execution_count": null,
   "id": "a8384830",
   "metadata": {},
   "outputs": [],
   "source": [
    "TE = OnePiece.path.make_temporary(\"OnePiece.test\")"
   ]
  },
  {
   "cell_type": "markdown",
   "id": "3fc8766e",
   "metadata": {},
   "source": [
    "---"
   ]
  },
  {
   "cell_type": "code",
   "execution_count": null,
   "id": "dc5eff49",
   "metadata": {},
   "outputs": [],
   "source": [
    "sr_ =\n",
    "    [basename(na) for na in readdir(joinpath(dirname(@__DIR__), \"src\"), join = true) if isdir(na)]\n",
    "\n",
    "te_ = [splitext(na)[1] for na in readdir() if endswith(na, \".ipynb\") && na != \"runtests.ipynb\"]\n",
    "\n",
    "symdiff(sr_, te_)"
   ]
  },
  {
   "cell_type": "code",
   "execution_count": null,
   "id": "06b4e84d",
   "metadata": {},
   "outputs": [],
   "source": [
    "OnePiece.ipynb.run(\".\", [\"runtests.ipynb\"])"
   ]
  },
  {
   "cell_type": "markdown",
   "id": "c268395d",
   "metadata": {},
   "source": [
    "---"
   ]
  }
 ],
 "metadata": {
  "@webio": {
   "lastCommId": null,
   "lastKernelId": null
  },
  "kernelspec": {
   "display_name": "Julia 1.7.3",
   "language": "julia",
   "name": "julia-1.7"
  },
  "language_info": {
   "file_extension": ".jl",
   "mimetype": "application/julia",
   "name": "julia",
   "version": "1.7.3"
  }
 },
 "nbformat": 4,
 "nbformat_minor": 5
}
