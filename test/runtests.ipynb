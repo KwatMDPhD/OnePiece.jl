{
 "cells": [
  {
   "cell_type": "code",
   "execution_count": 31,
   "id": "355fd946",
   "metadata": {},
   "outputs": [
    {
     "data": {
      "text/plain": [
       "\"/Users/kwat/craft/OnePiece.jl/test\""
      ]
     },
     "execution_count": 31,
     "metadata": {},
     "output_type": "execute_result"
    }
   ],
   "source": [
    "pam = dirname(@__DIR__)\n",
    "\n",
    "pap = joinpath(pam, \"Project.toml\")\n",
    "\n",
    "pas = joinpath(pam, \"src\")\n",
    "\n",
    "pat = joinpath(pam, \"test\")"
   ]
  },
  {
   "cell_type": "code",
   "execution_count": 32,
   "id": "795789a6",
   "metadata": {},
   "outputs": [
    {
     "data": {
      "text/plain": [
       "String[]"
      ]
     },
     "execution_count": 32,
     "metadata": {},
     "output_type": "execute_result"
    }
   ],
   "source": [
    "sr_ = [na for na in readdir(pas) if isdir(joinpath(pas, na))]\n",
    "\n",
    "te_ = [splitext(na)[1] for na in readdir(pat) if endswith(na, \".ipynb\")]\n",
    "\n",
    "te_ = [te for te in te_ if !(te in (\"runtests\", \"feature_set_enrichment\"))]\n",
    "\n",
    "symdiff(sr_, te_)"
   ]
  },
  {
   "cell_type": "code",
   "execution_count": 36,
   "id": "7b3ed774",
   "metadata": {
    "scrolled": false
   },
   "outputs": [
    {
     "name": "stdout",
     "output_type": "stream",
     "text": [
      "1\n",
      "Skipped.\n",
      "2\n",
      "Skipped.\n",
      "3\n",
      "Skipped.\n",
      "4\n",
      "Skipped.\n",
      "5\n",
      "Skipped.\n",
      "6\n",
      "Skipped.\n",
      "7\n",
      "Skipped.\n",
      "8\n",
      "Skipped.\n",
      "9\n",
      "Skipped.\n",
      "10\n",
      "Skipped.\n",
      "11\n",
      "Skipped.\n",
      "12\n",
      "Skipped.\n",
      "13\n",
      "Skipped.\n",
      "14\n",
      "Skipped.\n",
      "15\n",
      "Skipped.\n",
      "16\n",
      "Skipped.\n",
      "17\n",
      "Skipped.\n",
      "18\n",
      "Skipped.\n",
      "19\n",
      "Running /Users/kwat/craft/OnePiece.jl/test/statistics.ipynb (19)\n"
     ]
    },
    {
     "name": "stderr",
     "output_type": "stream",
     "text": [
      "[NbConvertApp] Converting notebook /Users/kwat/craft/OnePiece.jl/test/statistics.ipynb to notebook\n"
     ]
    },
    {
     "name": "stdout",
     "output_type": "stream",
     "text": [
      "Starting kernel event loops.\n"
     ]
    },
    {
     "name": "stderr",
     "output_type": "stream",
     "text": [
      "[NbConvertApp] Writing 3434 bytes to /Users/kwat/craft/OnePiece.jl/test/statistics.ipynb\n"
     ]
    },
    {
     "name": "stdout",
     "output_type": "stream",
     "text": [
      "20\n",
      "Running /Users/kwat/craft/OnePiece.jl/test/string.ipynb (20)\n"
     ]
    },
    {
     "name": "stderr",
     "output_type": "stream",
     "text": [
      "[NbConvertApp] Converting notebook /Users/kwat/craft/OnePiece.jl/test/string.ipynb to notebook\n"
     ]
    },
    {
     "name": "stdout",
     "output_type": "stream",
     "text": [
      "Starting kernel event loops.\n"
     ]
    },
    {
     "name": "stderr",
     "output_type": "stream",
     "text": [
      "[NbConvertApp] Writing 3789 bytes to /Users/kwat/craft/OnePiece.jl/test/string.ipynb\n"
     ]
    },
    {
     "name": "stdout",
     "output_type": "stream",
     "text": [
      "21\n",
      "Running /Users/kwat/craft/OnePiece.jl/test/table.ipynb (21)\n"
     ]
    },
    {
     "name": "stderr",
     "output_type": "stream",
     "text": [
      "[NbConvertApp] Converting notebook /Users/kwat/craft/OnePiece.jl/test/table.ipynb to notebook\n"
     ]
    },
    {
     "name": "stdout",
     "output_type": "stream",
     "text": [
      "Starting kernel event loops.\n"
     ]
    },
    {
     "name": "stderr",
     "output_type": "stream",
     "text": [
      "[NbConvertApp] Writing 32223 bytes to /Users/kwat/craft/OnePiece.jl/test/table.ipynb\n"
     ]
    },
    {
     "name": "stdout",
     "output_type": "stream",
     "text": [
      "22\n",
      "Running /Users/kwat/craft/OnePiece.jl/test/tensor.ipynb (22)\n"
     ]
    },
    {
     "name": "stderr",
     "output_type": "stream",
     "text": [
      "[NbConvertApp] Converting notebook /Users/kwat/craft/OnePiece.jl/test/tensor.ipynb to notebook\n"
     ]
    },
    {
     "name": "stdout",
     "output_type": "stream",
     "text": [
      "Starting kernel event loops.\n"
     ]
    },
    {
     "name": "stderr",
     "output_type": "stream",
     "text": [
      "[NbConvertApp] Writing 9635 bytes to /Users/kwat/craft/OnePiece.jl/test/tensor.ipynb\n"
     ]
    },
    {
     "name": "stdout",
     "output_type": "stream",
     "text": [
      "23\n",
      "Running /Users/kwat/craft/OnePiece.jl/test/tensor_function.ipynb (23)\n"
     ]
    },
    {
     "name": "stderr",
     "output_type": "stream",
     "text": [
      "[NbConvertApp] Converting notebook /Users/kwat/craft/OnePiece.jl/test/tensor_function.ipynb to notebook\n"
     ]
    },
    {
     "name": "stdout",
     "output_type": "stream",
     "text": [
      "Starting kernel event loops.\n"
     ]
    },
    {
     "name": "stderr",
     "output_type": "stream",
     "text": [
      "[NbConvertApp] Writing 12203 bytes to /Users/kwat/craft/OnePiece.jl/test/tensor_function.ipynb\n"
     ]
    },
    {
     "name": "stdout",
     "output_type": "stream",
     "text": [
      "24\n",
      "Running /Users/kwat/craft/OnePiece.jl/test/vector.ipynb (24)\n"
     ]
    },
    {
     "name": "stderr",
     "output_type": "stream",
     "text": [
      "[NbConvertApp] Converting notebook /Users/kwat/craft/OnePiece.jl/test/vector.ipynb to notebook\n"
     ]
    },
    {
     "name": "stdout",
     "output_type": "stream",
     "text": [
      "Starting kernel event loops.\n"
     ]
    },
    {
     "name": "stderr",
     "output_type": "stream",
     "text": [
      "[NbConvertApp] Writing 5384 bytes to /Users/kwat/craft/OnePiece.jl/test/vector.ipynb\n"
     ]
    }
   ],
   "source": [
    "for (id, te) in enumerate(te_)\n",
    "    \n",
    "    println(id)\n",
    "    \n",
    "    nb = joinpath(pat, \"$te.ipynb\")\n",
    "\n",
    "    if id < 19\n",
    "        \n",
    "        println(\"Skipped.\")\n",
    "\n",
    "        continue\n",
    "\n",
    "    end\n",
    "\n",
    "    println(\"Running \", nb, \" (\", id, \")\")\n",
    "\n",
    "    run(\n",
    "        `jupyter-nbconvert --execute --ExecutePreprocessor.timeout=-1 --clear-output --inplace $nb`,\n",
    "    )\n",
    "\n",
    "end"
   ]
  }
 ],
 "metadata": {
  "@webio": {
   "lastCommId": null,
   "lastKernelId": null
  },
  "kernelspec": {
   "display_name": "Julia 1.7.3",
   "language": "julia",
   "name": "julia-1.7"
  },
  "language_info": {
   "file_extension": ".jl",
   "mimetype": "application/julia",
   "name": "julia",
   "version": "1.7.3"
  }
 },
 "nbformat": 4,
 "nbformat_minor": 5
}
