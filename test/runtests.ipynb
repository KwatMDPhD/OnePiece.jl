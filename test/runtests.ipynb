{
 "cells": [
  {
   "cell_type": "code",
   "execution_count": 1,
   "id": "1db9ac88",
   "metadata": {
    "execution": {
     "iopub.execute_input": "2022-07-03T14:51:39.956000Z",
     "iopub.status.busy": "2022-07-03T14:51:39.613000Z",
     "iopub.status.idle": "2022-07-03T14:51:40.694000Z",
     "shell.execute_reply": "2022-07-03T14:51:40.674000Z"
    }
   },
   "outputs": [
    {
     "data": {
      "text/plain": [
       "\"/Users/kwat/craft/OnePiece.jl/test\""
      ]
     },
     "execution_count": 1,
     "metadata": {},
     "output_type": "execute_result"
    }
   ],
   "source": [
    "pa = dirname(@__DIR__)\n",
    "\n",
    "pap = joinpath(pa, \"Project.toml\")\n",
    "\n",
    "pas = joinpath(pa, \"src\")\n",
    "\n",
    "pat = joinpath(pa, \"test\")"
   ]
  },
  {
   "cell_type": "code",
   "execution_count": 2,
   "id": "db883446",
   "metadata": {
    "execution": {
     "iopub.execute_input": "2022-07-03T14:51:40.696000Z",
     "iopub.status.busy": "2022-07-03T14:51:40.696000Z",
     "iopub.status.idle": "2022-07-03T14:51:41.499000Z",
     "shell.execute_reply": "2022-07-03T14:51:41.499000Z"
    }
   },
   "outputs": [
    {
     "data": {
      "text/plain": [
       "1-element Vector{String}:\n",
       " \"speed\""
      ]
     },
     "execution_count": 2,
     "metadata": {},
     "output_type": "execute_result"
    }
   ],
   "source": [
    "sr_ = [na for na in readdir(pas) if isdir(joinpath(pas, na))]\n",
    "\n",
    "te_ = [splitext(na)[1] for na in readdir(pat) if endswith(na, \".ipynb\")]\n",
    "\n",
    "te_ = [te for te in te_ if !(te in (\"runtests\",))]\n",
    "\n",
    "symdiff(sr_, te_)"
   ]
  },
  {
   "cell_type": "code",
   "execution_count": 3,
   "id": "90067352",
   "metadata": {
    "execution": {
     "iopub.execute_input": "2022-07-03T14:51:41.502000Z",
     "iopub.status.busy": "2022-07-03T14:51:41.502000Z",
     "iopub.status.idle": "2022-07-03T15:04:11.681000Z",
     "shell.execute_reply": "2022-07-03T15:04:11.681000Z"
    }
   },
   "outputs": [
    {
     "name": "stdout",
     "output_type": "stream",
     "text": [
      "1\n",
      "Running /Users/kwat/craft/OnePiece.jl/test/constant.ipynb (1)\n"
     ]
    },
    {
     "name": "stderr",
     "output_type": "stream",
     "text": [
      "[NbConvertApp] Converting notebook /Users/kwat/craft/OnePiece.jl/test/constant.ipynb to notebook\n"
     ]
    },
    {
     "name": "stdout",
     "output_type": "stream",
     "text": [
      "Starting kernel event loops.\n"
     ]
    },
    {
     "name": "stderr",
     "output_type": "stream",
     "text": [
      "[NbConvertApp] Writing 5317 bytes to /Users/kwat/craft/OnePiece.jl/test/constant.ipynb\n"
     ]
    },
    {
     "name": "stdout",
     "output_type": "stream",
     "text": [
      "2\n",
      "Running /Users/kwat/craft/OnePiece.jl/test/dataframe.ipynb (2)\n"
     ]
    },
    {
     "name": "stderr",
     "output_type": "stream",
     "text": [
      "[NbConvertApp] Converting notebook /Users/kwat/craft/OnePiece.jl/test/dataframe.ipynb to notebook\n"
     ]
    },
    {
     "name": "stdout",
     "output_type": "stream",
     "text": [
      "Starting kernel event loops.\n"
     ]
    },
    {
     "name": "stderr",
     "output_type": "stream",
     "text": [
      "[NbConvertApp] Writing 16050 bytes to /Users/kwat/craft/OnePiece.jl/test/dataframe.ipynb\n"
     ]
    },
    {
     "name": "stdout",
     "output_type": "stream",
     "text": [
      "3\n",
      "Running /Users/kwat/craft/OnePiece.jl/test/dict.ipynb (3)\n"
     ]
    },
    {
     "name": "stderr",
     "output_type": "stream",
     "text": [
      "[NbConvertApp] Converting notebook /Users/kwat/craft/OnePiece.jl/test/dict.ipynb to notebook\n"
     ]
    },
    {
     "name": "stdout",
     "output_type": "stream",
     "text": [
      "Starting kernel event loops.\n",
      "4\n",
      "Running /Users/kwat/craft/OnePiece.jl/test/feature_set_enrichment.ipynb (4)\n"
     ]
    },
    {
     "name": "stderr",
     "output_type": "stream",
     "text": [
      "[NbConvertApp] Writing 19750 bytes to /Users/kwat/craft/OnePiece.jl/test/dict.ipynb\n",
      "[NbConvertApp] Converting notebook /Users/kwat/craft/OnePiece.jl/test/feature_set_enrichment.ipynb to notebook\n"
     ]
    },
    {
     "name": "stdout",
     "output_type": "stream",
     "text": [
      "Starting kernel event loops.\n"
     ]
    },
    {
     "name": "stderr",
     "output_type": "stream",
     "text": [
      "[NbConvertApp] Writing 32651 bytes to /Users/kwat/craft/OnePiece.jl/test/feature_set_enrichment.ipynb\n"
     ]
    },
    {
     "name": "stdout",
     "output_type": "stream",
     "text": [
      "5\n",
      "Running /Users/kwat/craft/OnePiece.jl/test/feature_x_sample.ipynb (5)\n"
     ]
    },
    {
     "name": "stderr",
     "output_type": "stream",
     "text": [
      "[NbConvertApp] Converting notebook /Users/kwat/craft/OnePiece.jl/test/feature_x_sample.ipynb to notebook\n"
     ]
    },
    {
     "name": "stdout",
     "output_type": "stream",
     "text": [
      "Starting kernel event loops.\n"
     ]
    },
    {
     "name": "stderr",
     "output_type": "stream",
     "text": [
      "[NbConvertApp] Writing 5263 bytes to /Users/kwat/craft/OnePiece.jl/test/feature_x_sample.ipynb\n"
     ]
    },
    {
     "name": "stdout",
     "output_type": "stream",
     "text": [
      "6\n",
      "Running /Users/kwat/craft/OnePiece.jl/test/figure.ipynb (6)\n"
     ]
    },
    {
     "name": "stderr",
     "output_type": "stream",
     "text": [
      "[NbConvertApp] Converting notebook /Users/kwat/craft/OnePiece.jl/test/figure.ipynb to notebook\n"
     ]
    },
    {
     "name": "stdout",
     "output_type": "stream",
     "text": [
      "Starting kernel event loops.\n",
      "7\n",
      "Running /Users/kwat/craft/OnePiece.jl/test/gct.ipynb (7)\n"
     ]
    },
    {
     "name": "stderr",
     "output_type": "stream",
     "text": [
      "[NbConvertApp] Writing 16664 bytes to /Users/kwat/craft/OnePiece.jl/test/figure.ipynb\n",
      "[NbConvertApp] Converting notebook /Users/kwat/craft/OnePiece.jl/test/gct.ipynb to notebook\n"
     ]
    },
    {
     "name": "stdout",
     "output_type": "stream",
     "text": [
      "Starting kernel event loops.\n"
     ]
    },
    {
     "name": "stderr",
     "output_type": "stream",
     "text": [
      "[NbConvertApp] Writing 3546 bytes to /Users/kwat/craft/OnePiece.jl/test/gct.ipynb\n"
     ]
    },
    {
     "name": "stdout",
     "output_type": "stream",
     "text": [
      "8\n",
      "Running /Users/kwat/craft/OnePiece.jl/test/gene.ipynb (8)\n"
     ]
    },
    {
     "name": "stderr",
     "output_type": "stream",
     "text": [
      "[NbConvertApp] Converting notebook /Users/kwat/craft/OnePiece.jl/test/gene.ipynb to notebook\n"
     ]
    },
    {
     "name": "stdout",
     "output_type": "stream",
     "text": [
      "Starting kernel event loops.\n",
      "9\n",
      "Running /Users/kwat/craft/OnePiece.jl/test/geometry.ipynb (9)\n"
     ]
    },
    {
     "name": "stderr",
     "output_type": "stream",
     "text": [
      "[NbConvertApp] Writing 12928 bytes to /Users/kwat/craft/OnePiece.jl/test/gene.ipynb\n",
      "[NbConvertApp] Converting notebook /Users/kwat/craft/OnePiece.jl/test/geometry.ipynb to notebook\n"
     ]
    },
    {
     "name": "stdout",
     "output_type": "stream",
     "text": [
      "Starting kernel event loops.\n"
     ]
    },
    {
     "name": "stderr",
     "output_type": "stream",
     "text": [
      "[NbConvertApp] Writing 1497 bytes to /Users/kwat/craft/OnePiece.jl/test/geometry.ipynb\n"
     ]
    },
    {
     "name": "stdout",
     "output_type": "stream",
     "text": [
      "10\n",
      "Running /Users/kwat/craft/OnePiece.jl/test/gmt.ipynb (10)\n"
     ]
    },
    {
     "name": "stderr",
     "output_type": "stream",
     "text": [
      "[NbConvertApp] Converting notebook /Users/kwat/craft/OnePiece.jl/test/gmt.ipynb to notebook\n"
     ]
    },
    {
     "name": "stdout",
     "output_type": "stream",
     "text": [
      "Starting kernel event loops.\n"
     ]
    },
    {
     "name": "stderr",
     "output_type": "stream",
     "text": [
      "[NbConvertApp] Writing 10641 bytes to /Users/kwat/craft/OnePiece.jl/test/gmt.ipynb\n"
     ]
    },
    {
     "name": "stdout",
     "output_type": "stream",
     "text": [
      "11\n",
      "Running /Users/kwat/craft/OnePiece.jl/test/html.ipynb (11)\n"
     ]
    },
    {
     "name": "stderr",
     "output_type": "stream",
     "text": [
      "[NbConvertApp] Converting notebook /Users/kwat/craft/OnePiece.jl/test/html.ipynb to notebook\n"
     ]
    },
    {
     "name": "stdout",
     "output_type": "stream",
     "text": [
      "Starting kernel event loops.\n"
     ]
    },
    {
     "name": "stderr",
     "output_type": "stream",
     "text": [
      "[NbConvertApp] Writing 1896 bytes to /Users/kwat/craft/OnePiece.jl/test/html.ipynb\n"
     ]
    },
    {
     "name": "stdout",
     "output_type": "stream",
     "text": [
      "12\n",
      "Running /Users/kwat/craft/OnePiece.jl/test/information.ipynb (12)\n"
     ]
    },
    {
     "name": "stderr",
     "output_type": "stream",
     "text": [
      "[NbConvertApp] Converting notebook /Users/kwat/craft/OnePiece.jl/test/information.ipynb to notebook\n"
     ]
    },
    {
     "name": "stdout",
     "output_type": "stream",
     "text": [
      "Starting kernel event loops.\n"
     ]
    },
    {
     "name": "stderr",
     "output_type": "stream",
     "text": [
      "[NbConvertApp] Writing 11825 bytes to /Users/kwat/craft/OnePiece.jl/test/information.ipynb\n"
     ]
    },
    {
     "name": "stdout",
     "output_type": "stream",
     "text": [
      "13\n",
      "Running /Users/kwat/craft/OnePiece.jl/test/matrix_factorization.ipynb (13)\n"
     ]
    },
    {
     "name": "stderr",
     "output_type": "stream",
     "text": [
      "[NbConvertApp] Converting notebook /Users/kwat/craft/OnePiece.jl/test/matrix_factorization.ipynb to notebook\n"
     ]
    },
    {
     "name": "stdout",
     "output_type": "stream",
     "text": [
      "Starting kernel event loops.\n",
      "14\n",
      "Running /Users/kwat/craft/OnePiece.jl/test/network.ipynb (14)\n"
     ]
    },
    {
     "name": "stderr",
     "output_type": "stream",
     "text": [
      "[NbConvertApp] Writing 5037 bytes to /Users/kwat/craft/OnePiece.jl/test/matrix_factorization.ipynb\n",
      "[NbConvertApp] Converting notebook /Users/kwat/craft/OnePiece.jl/test/network.ipynb to notebook\n"
     ]
    },
    {
     "name": "stdout",
     "output_type": "stream",
     "text": [
      "Starting kernel event loops.\n"
     ]
    },
    {
     "name": "stderr",
     "output_type": "stream",
     "text": [
      "[NbConvertApp] Writing 2358 bytes to /Users/kwat/craft/OnePiece.jl/test/network.ipynb\n"
     ]
    },
    {
     "name": "stdout",
     "output_type": "stream",
     "text": [
      "15\n",
      "Running /Users/kwat/craft/OnePiece.jl/test/normalization.ipynb (15)\n"
     ]
    },
    {
     "name": "stderr",
     "output_type": "stream",
     "text": [
      "[NbConvertApp] Converting notebook /Users/kwat/craft/OnePiece.jl/test/normalization.ipynb to notebook\n"
     ]
    },
    {
     "name": "stdout",
     "output_type": "stream",
     "text": [
      "Starting kernel event loops.\n",
      "16\n",
      "Running /Users/kwat/craft/OnePiece.jl/test/number.ipynb (16)\n"
     ]
    },
    {
     "name": "stderr",
     "output_type": "stream",
     "text": [
      "[NbConvertApp] Writing 6001 bytes to /Users/kwat/craft/OnePiece.jl/test/normalization.ipynb\n",
      "[NbConvertApp] Converting notebook /Users/kwat/craft/OnePiece.jl/test/number.ipynb to notebook\n"
     ]
    },
    {
     "name": "stdout",
     "output_type": "stream",
     "text": [
      "Starting kernel event loops.\n"
     ]
    },
    {
     "name": "stderr",
     "output_type": "stream",
     "text": [
      "[NbConvertApp] Writing 1911 bytes to /Users/kwat/craft/OnePiece.jl/test/number.ipynb\n"
     ]
    },
    {
     "name": "stdout",
     "output_type": "stream",
     "text": [
      "17\n",
      "Running /Users/kwat/craft/OnePiece.jl/test/path.ipynb (17)\n"
     ]
    },
    {
     "name": "stderr",
     "output_type": "stream",
     "text": [
      "[NbConvertApp] Converting notebook /Users/kwat/craft/OnePiece.jl/test/path.ipynb to notebook\n"
     ]
    },
    {
     "name": "stdout",
     "output_type": "stream",
     "text": [
      "Starting kernel event loops.\n",
      "18\n",
      "Running /Users/kwat/craft/OnePiece.jl/test/significance.ipynb (18)\n"
     ]
    },
    {
     "name": "stderr",
     "output_type": "stream",
     "text": [
      "[NbConvertApp] Writing 20325 bytes to /Users/kwat/craft/OnePiece.jl/test/path.ipynb\n",
      "[NbConvertApp] Converting notebook /Users/kwat/craft/OnePiece.jl/test/significance.ipynb to notebook\n"
     ]
    },
    {
     "name": "stdout",
     "output_type": "stream",
     "text": [
      "Starting kernel event loops.\n",
      "19\n",
      "Running /Users/kwat/craft/OnePiece.jl/test/speed.ipynb"
     ]
    },
    {
     "name": "stderr",
     "output_type": "stream",
     "text": [
      "[NbConvertApp] Writing 7283 bytes to /Users/kwat/craft/OnePiece.jl/test/significance.ipynb\n"
     ]
    },
    {
     "name": "stdout",
     "output_type": "stream",
     "text": [
      " (19)\n"
     ]
    },
    {
     "name": "stderr",
     "output_type": "stream",
     "text": [
      "[NbConvertApp] Converting notebook /Users/kwat/craft/OnePiece.jl/test/speed.ipynb to notebook\n"
     ]
    },
    {
     "name": "stdout",
     "output_type": "stream",
     "text": [
      "Starting kernel event loops.\n"
     ]
    },
    {
     "name": "stderr",
     "output_type": "stream",
     "text": [
      "[NbConvertApp] Writing 25481 bytes to /Users/kwat/craft/OnePiece.jl/test/speed.ipynb\n"
     ]
    },
    {
     "name": "stdout",
     "output_type": "stream",
     "text": [
      "20\n",
      "Running /Users/kwat/craft/OnePiece.jl/test/statistics.ipynb (20)\n"
     ]
    },
    {
     "name": "stderr",
     "output_type": "stream",
     "text": [
      "[NbConvertApp] Converting notebook /Users/kwat/craft/OnePiece.jl/test/statistics.ipynb to notebook\n"
     ]
    },
    {
     "name": "stdout",
     "output_type": "stream",
     "text": [
      "Starting kernel event loops.\n"
     ]
    },
    {
     "name": "stderr",
     "output_type": "stream",
     "text": [
      "[NbConvertApp] Writing 3434 bytes to /Users/kwat/craft/OnePiece.jl/test/statistics.ipynb\n"
     ]
    },
    {
     "name": "stdout",
     "output_type": "stream",
     "text": [
      "21\n",
      "Running /Users/kwat/craft/OnePiece.jl/test/string.ipynb (21)\n"
     ]
    },
    {
     "name": "stderr",
     "output_type": "stream",
     "text": [
      "[NbConvertApp] Converting notebook /Users/kwat/craft/OnePiece.jl/test/string.ipynb to notebook\n"
     ]
    },
    {
     "name": "stdout",
     "output_type": "stream",
     "text": [
      "Starting kernel event loops.\n",
      "22\n",
      "Running /Users/kwat/craft/OnePiece.jl/test/table.ipynb (22)\n"
     ]
    },
    {
     "name": "stderr",
     "output_type": "stream",
     "text": [
      "[NbConvertApp] Writing 3789 bytes to /Users/kwat/craft/OnePiece.jl/test/string.ipynb\n",
      "[NbConvertApp] Converting notebook /Users/kwat/craft/OnePiece.jl/test/table.ipynb to notebook\n"
     ]
    },
    {
     "name": "stdout",
     "output_type": "stream",
     "text": [
      "Starting kernel event loops.\n"
     ]
    },
    {
     "name": "stderr",
     "output_type": "stream",
     "text": [
      "[NbConvertApp] Writing 32223 bytes to /Users/kwat/craft/OnePiece.jl/test/table.ipynb\n"
     ]
    },
    {
     "name": "stdout",
     "output_type": "stream",
     "text": [
      "23\n",
      "Running /Users/kwat/craft/OnePiece.jl/test/tensor.ipynb (23)\n"
     ]
    },
    {
     "name": "stderr",
     "output_type": "stream",
     "text": [
      "[NbConvertApp] Converting notebook /Users/kwat/craft/OnePiece.jl/test/tensor.ipynb to notebook\n"
     ]
    },
    {
     "name": "stdout",
     "output_type": "stream",
     "text": [
      "Starting kernel event loops.\n"
     ]
    },
    {
     "name": "stderr",
     "output_type": "stream",
     "text": [
      "[NbConvertApp] Writing 9635 bytes to /Users/kwat/craft/OnePiece.jl/test/tensor.ipynb\n"
     ]
    },
    {
     "name": "stdout",
     "output_type": "stream",
     "text": [
      "24\n",
      "Running /Users/kwat/craft/OnePiece.jl/test/tensor_function.ipynb (24)\n"
     ]
    },
    {
     "name": "stderr",
     "output_type": "stream",
     "text": [
      "[NbConvertApp] Converting notebook /Users/kwat/craft/OnePiece.jl/test/tensor_function.ipynb to notebook\n"
     ]
    },
    {
     "name": "stdout",
     "output_type": "stream",
     "text": [
      "Starting kernel event loops.\n"
     ]
    },
    {
     "name": "stderr",
     "output_type": "stream",
     "text": [
      "[NbConvertApp] Writing 12203 bytes to /Users/kwat/craft/OnePiece.jl/test/tensor_function.ipynb\n"
     ]
    },
    {
     "name": "stdout",
     "output_type": "stream",
     "text": [
      "25\n",
      "Running /Users/kwat/craft/OnePiece.jl/test/vector.ipynb (25)\n"
     ]
    },
    {
     "name": "stderr",
     "output_type": "stream",
     "text": [
      "[NbConvertApp] Converting notebook /Users/kwat/craft/OnePiece.jl/test/vector.ipynb to notebook\n"
     ]
    },
    {
     "name": "stdout",
     "output_type": "stream",
     "text": [
      "Starting kernel event loops.\n"
     ]
    },
    {
     "name": "stderr",
     "output_type": "stream",
     "text": [
      "[NbConvertApp] Writing 5384 bytes to /Users/kwat/craft/OnePiece.jl/test/vector.ipynb\n"
     ]
    }
   ],
   "source": [
    "for (id, te) in enumerate(te_)\n",
    "    \n",
    "    println(id)\n",
    "    \n",
    "    nb = joinpath(pat, \"$te.ipynb\")\n",
    "\n",
    "    if id < 1\n",
    "        \n",
    "        println(\"Skipped.\")\n",
    "\n",
    "        continue\n",
    "\n",
    "    end\n",
    "\n",
    "    println(\"Running \", nb, \" (\", id, \")\")\n",
    "\n",
    "    run(\n",
    "        `jupyter-nbconvert --execute --ExecutePreprocessor.timeout=-1 --clear-output --inplace $nb`,\n",
    "    )\n",
    "\n",
    "end"
   ]
  }
 ],
 "metadata": {
  "@webio": {
   "lastCommId": null,
   "lastKernelId": null
  },
  "kernelspec": {
   "display_name": "Julia 1.7.3",
   "language": "julia",
   "name": "julia-1.7"
  },
  "language_info": {
   "file_extension": ".jl",
   "mimetype": "application/julia",
   "name": "julia",
   "version": "1.7.3"
  }
 },
 "nbformat": 4,
 "nbformat_minor": 5
}
