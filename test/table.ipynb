{
 "cells": [
  {
   "cell_type": "code",
   "execution_count": 1,
   "id": "baf12f00",
   "metadata": {
    "execution": {
     "iopub.execute_input": "2022-07-02T16:55:09.317000Z",
     "iopub.status.busy": "2022-07-02T16:55:08.989000Z",
     "iopub.status.idle": "2022-07-02T16:55:14.698000Z",
     "shell.execute_reply": "2022-07-02T16:55:14.652000Z"
    }
   },
   "outputs": [],
   "source": [
    "using Revise\n",
    "using OnePiece\n",
    "using DataFrames"
   ]
  },
  {
   "cell_type": "markdown",
   "id": "fcce84a3",
   "metadata": {},
   "source": [
    "## read"
   ]
  },
  {
   "cell_type": "code",
   "execution_count": 2,
   "id": "fbaf818b",
   "metadata": {
    "execution": {
     "iopub.execute_input": "2022-07-02T16:55:15.075000Z",
     "iopub.status.busy": "2022-07-02T16:55:14.700000Z",
     "iopub.status.idle": "2022-07-02T16:55:32.514000Z",
     "shell.execute_reply": "2022-07-02T16:55:32.514000Z"
    }
   },
   "outputs": [
    {
     "data": {
      "text/html": [
       "<div class=\"data-frame\"><p>1,309 rows × 15 columns (omitted printing of 9 columns)</p><table class=\"data-frame\"><thead><tr><th></th><th>number</th><th>pclass</th><th>survived</th><th>name</th><th>sex</th><th>age</th></tr><tr><th></th><th title=\"Int64\">Int64</th><th title=\"InlineStrings.String3\">String3</th><th title=\"Int64\">Int64</th><th title=\"String\">String</th><th title=\"InlineStrings.String7\">String7</th><th title=\"InlineStrings.String15\">String15</th></tr></thead><tbody><tr><th>1</th><td>1</td><td>1st</td><td>1</td><td>Allen, Miss. Elisabeth Walton</td><td>female</td><td>29</td></tr><tr><th>2</th><td>2</td><td>1st</td><td>1</td><td>Allison, Master. Hudson Trevor</td><td>male</td><td>0.916700006</td></tr><tr><th>3</th><td>3</td><td>1st</td><td>0</td><td>Allison, Miss. Helen Loraine</td><td>female</td><td>2</td></tr><tr><th>4</th><td>4</td><td>1st</td><td>0</td><td>Allison, Mr. Hudson Joshua Crei</td><td>male</td><td>30</td></tr><tr><th>5</th><td>5</td><td>1st</td><td>0</td><td>Allison, Mrs. Hudson J C (Bessi</td><td>female</td><td>25</td></tr><tr><th>6</th><td>6</td><td>1st</td><td>1</td><td>Anderson, Mr. Harry</td><td>male</td><td>48</td></tr><tr><th>7</th><td>7</td><td>1st</td><td>1</td><td>Andrews, Miss. Kornelia Theodos</td><td>female</td><td>63</td></tr><tr><th>8</th><td>8</td><td>1st</td><td>0</td><td>Andrews, Mr. Thomas Jr</td><td>male</td><td>39</td></tr><tr><th>9</th><td>9</td><td>1st</td><td>1</td><td>Appleton, Mrs. Edward Dale (Cha</td><td>female</td><td>53</td></tr><tr><th>10</th><td>10</td><td>1st</td><td>0</td><td>Artagaveytia, Mr. Ramon</td><td>male</td><td>71</td></tr><tr><th>11</th><td>11</td><td>1st</td><td>0</td><td>Astor, Col. John Jacob</td><td>male</td><td>47</td></tr><tr><th>12</th><td>12</td><td>1st</td><td>1</td><td>Astor, Mrs. John Jacob (Madelei</td><td>female</td><td>18</td></tr><tr><th>13</th><td>13</td><td>1st</td><td>1</td><td>Aubart, Mme. Leontine Pauline</td><td>female</td><td>24</td></tr><tr><th>14</th><td>14</td><td>1st</td><td>1</td><td>Barber, Miss. Ellen \\\\&quot;Nellie\\\\&quot;</td><td>female</td><td>26</td></tr><tr><th>15</th><td>15</td><td>1st</td><td>1</td><td>Barkworth, Mr. Algernon Henry W</td><td>male</td><td>80</td></tr><tr><th>16</th><td>16</td><td>1st</td><td>0</td><td>Baumann, Mr. John D</td><td>male</td><td>NA</td></tr><tr><th>17</th><td>17</td><td>1st</td><td>0</td><td>Baxter, Mr. Quigg Edmond</td><td>male</td><td>24</td></tr><tr><th>18</th><td>18</td><td>1st</td><td>1</td><td>Baxter, Mrs. James (Helene DeLa</td><td>female</td><td>50</td></tr><tr><th>19</th><td>19</td><td>1st</td><td>1</td><td>Bazzani, Miss. Albina</td><td>female</td><td>32</td></tr><tr><th>20</th><td>20</td><td>1st</td><td>0</td><td>Beattie, Mr. Thomson</td><td>male</td><td>36</td></tr><tr><th>21</th><td>21</td><td>1st</td><td>1</td><td>Beckwith, Mr. Richard Leonard</td><td>male</td><td>37</td></tr><tr><th>22</th><td>22</td><td>1st</td><td>1</td><td>Beckwith, Mrs. Richard Leonard</td><td>female</td><td>47</td></tr><tr><th>23</th><td>23</td><td>1st</td><td>1</td><td>Behr, Mr. Karl Howell</td><td>male</td><td>26</td></tr><tr><th>24</th><td>24</td><td>1st</td><td>1</td><td>Bidois, Miss. Rosalie</td><td>female</td><td>42</td></tr><tr><th>25</th><td>25</td><td>1st</td><td>1</td><td>Bird, Miss. Ellen</td><td>female</td><td>29</td></tr><tr><th>26</th><td>26</td><td>1st</td><td>0</td><td>Birnbaum, Mr. Jakob</td><td>male</td><td>25</td></tr><tr><th>27</th><td>27</td><td>1st</td><td>1</td><td>Bishop, Mr. Dickinson H</td><td>male</td><td>25</td></tr><tr><th>28</th><td>28</td><td>1st</td><td>1</td><td>Bishop, Mrs. Dickinson H (Helen</td><td>female</td><td>19</td></tr><tr><th>29</th><td>29</td><td>1st</td><td>1</td><td>Bissette, Miss. Amelia</td><td>female</td><td>35</td></tr><tr><th>30</th><td>30</td><td>1st</td><td>1</td><td>Bjornstrom-Steffansson, Mr. Mau</td><td>male</td><td>28</td></tr><tr><th>&vellip;</th><td>&vellip;</td><td>&vellip;</td><td>&vellip;</td><td>&vellip;</td><td>&vellip;</td><td>&vellip;</td></tr></tbody></table></div>"
      ],
      "text/latex": [
       "\\begin{tabular}{r|ccccccc}\n",
       "\t& number & pclass & survived & name & sex & age & \\\\\n",
       "\t\\hline\n",
       "\t& Int64 & String3 & Int64 & String & String7 & String15 & \\\\\n",
       "\t\\hline\n",
       "\t1 & 1 & 1st & 1 & Allen, Miss. Elisabeth Walton & female & 29 & $\\dots$ \\\\\n",
       "\t2 & 2 & 1st & 1 & Allison, Master. Hudson Trevor & male & 0.916700006 & $\\dots$ \\\\\n",
       "\t3 & 3 & 1st & 0 & Allison, Miss. Helen Loraine & female & 2 & $\\dots$ \\\\\n",
       "\t4 & 4 & 1st & 0 & Allison, Mr. Hudson Joshua Crei & male & 30 & $\\dots$ \\\\\n",
       "\t5 & 5 & 1st & 0 & Allison, Mrs. Hudson J C (Bessi & female & 25 & $\\dots$ \\\\\n",
       "\t6 & 6 & 1st & 1 & Anderson, Mr. Harry & male & 48 & $\\dots$ \\\\\n",
       "\t7 & 7 & 1st & 1 & Andrews, Miss. Kornelia Theodos & female & 63 & $\\dots$ \\\\\n",
       "\t8 & 8 & 1st & 0 & Andrews, Mr. Thomas Jr & male & 39 & $\\dots$ \\\\\n",
       "\t9 & 9 & 1st & 1 & Appleton, Mrs. Edward Dale (Cha & female & 53 & $\\dots$ \\\\\n",
       "\t10 & 10 & 1st & 0 & Artagaveytia, Mr. Ramon & male & 71 & $\\dots$ \\\\\n",
       "\t11 & 11 & 1st & 0 & Astor, Col. John Jacob & male & 47 & $\\dots$ \\\\\n",
       "\t12 & 12 & 1st & 1 & Astor, Mrs. John Jacob (Madelei & female & 18 & $\\dots$ \\\\\n",
       "\t13 & 13 & 1st & 1 & Aubart, Mme. Leontine Pauline & female & 24 & $\\dots$ \\\\\n",
       "\t14 & 14 & 1st & 1 & Barber, Miss. Ellen \\textbackslash{}\\textbackslash{}\"Nellie\\textbackslash{}\\textbackslash{}\" & female & 26 & $\\dots$ \\\\\n",
       "\t15 & 15 & 1st & 1 & Barkworth, Mr. Algernon Henry W & male & 80 & $\\dots$ \\\\\n",
       "\t16 & 16 & 1st & 0 & Baumann, Mr. John D & male & NA & $\\dots$ \\\\\n",
       "\t17 & 17 & 1st & 0 & Baxter, Mr. Quigg Edmond & male & 24 & $\\dots$ \\\\\n",
       "\t18 & 18 & 1st & 1 & Baxter, Mrs. James (Helene DeLa & female & 50 & $\\dots$ \\\\\n",
       "\t19 & 19 & 1st & 1 & Bazzani, Miss. Albina & female & 32 & $\\dots$ \\\\\n",
       "\t20 & 20 & 1st & 0 & Beattie, Mr. Thomson & male & 36 & $\\dots$ \\\\\n",
       "\t21 & 21 & 1st & 1 & Beckwith, Mr. Richard Leonard & male & 37 & $\\dots$ \\\\\n",
       "\t22 & 22 & 1st & 1 & Beckwith, Mrs. Richard Leonard & female & 47 & $\\dots$ \\\\\n",
       "\t23 & 23 & 1st & 1 & Behr, Mr. Karl Howell & male & 26 & $\\dots$ \\\\\n",
       "\t24 & 24 & 1st & 1 & Bidois, Miss. Rosalie & female & 42 & $\\dots$ \\\\\n",
       "\t25 & 25 & 1st & 1 & Bird, Miss. Ellen & female & 29 & $\\dots$ \\\\\n",
       "\t26 & 26 & 1st & 0 & Birnbaum, Mr. Jakob & male & 25 & $\\dots$ \\\\\n",
       "\t27 & 27 & 1st & 1 & Bishop, Mr. Dickinson H & male & 25 & $\\dots$ \\\\\n",
       "\t28 & 28 & 1st & 1 & Bishop, Mrs. Dickinson H (Helen & female & 19 & $\\dots$ \\\\\n",
       "\t29 & 29 & 1st & 1 & Bissette, Miss. Amelia & female & 35 & $\\dots$ \\\\\n",
       "\t30 & 30 & 1st & 1 & Bjornstrom-Steffansson, Mr. Mau & male & 28 & $\\dots$ \\\\\n",
       "\t$\\dots$ & $\\dots$ & $\\dots$ & $\\dots$ & $\\dots$ & $\\dots$ & $\\dots$ &  \\\\\n",
       "\\end{tabular}\n"
      ],
      "text/plain": [
       "\u001b[1m1309×15 DataFrame\u001b[0m\n",
       "\u001b[1m  Row \u001b[0m│\u001b[1m number \u001b[0m\u001b[1m pclass  \u001b[0m\u001b[1m survived \u001b[0m\u001b[1m name                             \u001b[0m\u001b[1m sex     \u001b[0m\u001b[1m \u001b[0m ⋯\n",
       "\u001b[1m      \u001b[0m│\u001b[90m Int64  \u001b[0m\u001b[90m String3 \u001b[0m\u001b[90m Int64    \u001b[0m\u001b[90m String                           \u001b[0m\u001b[90m String7 \u001b[0m\u001b[90m \u001b[0m ⋯\n",
       "──────┼─────────────────────────────────────────────────────────────────────────\n",
       "    1 │      1  1st             1  Allen, Miss. Elisabeth Walton     female    ⋯\n",
       "    2 │      2  1st             1  Allison, Master. Hudson Trevor    male\n",
       "    3 │      3  1st             0  Allison, Miss. Helen Loraine      female\n",
       "    4 │      4  1st             0  Allison, Mr. Hudson Joshua Crei   male\n",
       "    5 │      5  1st             0  Allison, Mrs. Hudson J C (Bessi   female    ⋯\n",
       "    6 │      6  1st             1  Anderson, Mr. Harry               male\n",
       "    7 │      7  1st             1  Andrews, Miss. Kornelia Theodos   female\n",
       "    8 │      8  1st             0  Andrews, Mr. Thomas Jr            male\n",
       "    9 │      9  1st             1  Appleton, Mrs. Edward Dale (Cha   female    ⋯\n",
       "   10 │     10  1st             0  Artagaveytia, Mr. Ramon           male\n",
       "   11 │     11  1st             0  Astor, Col. John Jacob            male\n",
       "  ⋮   │   ⋮        ⋮        ⋮                     ⋮                     ⋮      ⋱\n",
       " 1300 │   1300  3rd             0  Yasbeck, Mr. Antoni               male\n",
       " 1301 │   1301  3rd             1  Yasbeck, Mrs. Antoni (Selini Al   female    ⋯\n",
       " 1302 │   1302  3rd             0  Youseff, Mr. Gerious              male\n",
       " 1303 │   1303  3rd             0  Yousif, Mr. Wazli                 male\n",
       " 1304 │   1304  3rd             0  Yousseff, Mr. Gerious             male\n",
       " 1305 │   1305  3rd             0  Zabour, Miss. Hileni              female    ⋯\n",
       " 1306 │   1306  3rd             0  Zabour, Miss. Thamine             female\n",
       " 1307 │   1307  3rd             0  Zakarian, Mr. Mapriededer         male\n",
       " 1308 │   1308  3rd             0  Zakarian, Mr. Ortin               male\n",
       " 1309 │   1309  3rd             0  Zimmerman, Mr. Leo                male      ⋯\n",
       "\u001b[36m                                                10 columns and 1288 rows omitted\u001b[0m"
      ]
     },
     "execution_count": 2,
     "metadata": {},
     "output_type": "execute_result"
    }
   ],
   "source": [
    "da = joinpath(@__DIR__, \"table.data\")\n",
    "\n",
    "OnePiece.table.read(joinpath(da, \"titanic.tsv\"))"
   ]
  },
  {
   "cell_type": "code",
   "execution_count": 3,
   "id": "280e319f",
   "metadata": {
    "execution": {
     "iopub.execute_input": "2022-07-02T16:55:32.517000Z",
     "iopub.status.busy": "2022-07-02T16:55:32.517000Z",
     "iopub.status.idle": "2022-07-02T16:55:32.955000Z",
     "shell.execute_reply": "2022-07-02T16:55:32.954000Z"
    }
   },
   "outputs": [
    {
     "data": {
      "text/html": [
       "<div class=\"data-frame\"><p>256,183 rows × 2 columns</p><table class=\"data-frame\"><thead><tr><th></th><th>Transcript stable ID</th><th>Gene name</th></tr><tr><th></th><th title=\"InlineStrings.String15\">String15</th><th title=\"InlineStrings.String31\">String31</th></tr></thead><tbody><tr><th>1</th><td>ENST00000387314</td><td>MT-TF</td></tr><tr><th>2</th><td>ENST00000389680</td><td>MT-RNR1</td></tr><tr><th>3</th><td>ENST00000387342</td><td>MT-TV</td></tr><tr><th>4</th><td>ENST00000387347</td><td>MT-RNR2</td></tr><tr><th>5</th><td>ENST00000386347</td><td>MT-TL1</td></tr><tr><th>6</th><td>ENST00000361390</td><td>MT-ND1</td></tr><tr><th>7</th><td>ENST00000387365</td><td>MT-TI</td></tr><tr><th>8</th><td>ENST00000387372</td><td>MT-TQ</td></tr><tr><th>9</th><td>ENST00000387377</td><td>MT-TM</td></tr><tr><th>10</th><td>ENST00000361453</td><td>MT-ND2</td></tr><tr><th>11</th><td>ENST00000387382</td><td>MT-TW</td></tr><tr><th>12</th><td>ENST00000387392</td><td>MT-TA</td></tr><tr><th>13</th><td>ENST00000387400</td><td>MT-TN</td></tr><tr><th>14</th><td>ENST00000387405</td><td>MT-TC</td></tr><tr><th>15</th><td>ENST00000387409</td><td>MT-TY</td></tr><tr><th>16</th><td>ENST00000361624</td><td>MT-CO1</td></tr><tr><th>17</th><td>ENST00000387416</td><td>MT-TS1</td></tr><tr><th>18</th><td>ENST00000387419</td><td>MT-TD</td></tr><tr><th>19</th><td>ENST00000361739</td><td>MT-CO2</td></tr><tr><th>20</th><td>ENST00000387421</td><td>MT-TK</td></tr><tr><th>21</th><td>ENST00000361851</td><td>MT-ATP8</td></tr><tr><th>22</th><td>ENST00000361899</td><td>MT-ATP6</td></tr><tr><th>23</th><td>ENST00000362079</td><td>MT-CO3</td></tr><tr><th>24</th><td>ENST00000387429</td><td>MT-TG</td></tr><tr><th>25</th><td>ENST00000361227</td><td>MT-ND3</td></tr><tr><th>26</th><td>ENST00000387439</td><td>MT-TR</td></tr><tr><th>27</th><td>ENST00000361335</td><td>MT-ND4L</td></tr><tr><th>28</th><td>ENST00000361381</td><td>MT-ND4</td></tr><tr><th>29</th><td>ENST00000387441</td><td>MT-TH</td></tr><tr><th>30</th><td>ENST00000387449</td><td>MT-TS2</td></tr><tr><th>&vellip;</th><td>&vellip;</td><td>&vellip;</td></tr></tbody></table></div>"
      ],
      "text/latex": [
       "\\begin{tabular}{r|cc}\n",
       "\t& Transcript stable ID & Gene name\\\\\n",
       "\t\\hline\n",
       "\t& String15 & String31\\\\\n",
       "\t\\hline\n",
       "\t1 & ENST00000387314 & MT-TF \\\\\n",
       "\t2 & ENST00000389680 & MT-RNR1 \\\\\n",
       "\t3 & ENST00000387342 & MT-TV \\\\\n",
       "\t4 & ENST00000387347 & MT-RNR2 \\\\\n",
       "\t5 & ENST00000386347 & MT-TL1 \\\\\n",
       "\t6 & ENST00000361390 & MT-ND1 \\\\\n",
       "\t7 & ENST00000387365 & MT-TI \\\\\n",
       "\t8 & ENST00000387372 & MT-TQ \\\\\n",
       "\t9 & ENST00000387377 & MT-TM \\\\\n",
       "\t10 & ENST00000361453 & MT-ND2 \\\\\n",
       "\t11 & ENST00000387382 & MT-TW \\\\\n",
       "\t12 & ENST00000387392 & MT-TA \\\\\n",
       "\t13 & ENST00000387400 & MT-TN \\\\\n",
       "\t14 & ENST00000387405 & MT-TC \\\\\n",
       "\t15 & ENST00000387409 & MT-TY \\\\\n",
       "\t16 & ENST00000361624 & MT-CO1 \\\\\n",
       "\t17 & ENST00000387416 & MT-TS1 \\\\\n",
       "\t18 & ENST00000387419 & MT-TD \\\\\n",
       "\t19 & ENST00000361739 & MT-CO2 \\\\\n",
       "\t20 & ENST00000387421 & MT-TK \\\\\n",
       "\t21 & ENST00000361851 & MT-ATP8 \\\\\n",
       "\t22 & ENST00000361899 & MT-ATP6 \\\\\n",
       "\t23 & ENST00000362079 & MT-CO3 \\\\\n",
       "\t24 & ENST00000387429 & MT-TG \\\\\n",
       "\t25 & ENST00000361227 & MT-ND3 \\\\\n",
       "\t26 & ENST00000387439 & MT-TR \\\\\n",
       "\t27 & ENST00000361335 & MT-ND4L \\\\\n",
       "\t28 & ENST00000361381 & MT-ND4 \\\\\n",
       "\t29 & ENST00000387441 & MT-TH \\\\\n",
       "\t30 & ENST00000387449 & MT-TS2 \\\\\n",
       "\t$\\dots$ & $\\dots$ & $\\dots$ \\\\\n",
       "\\end{tabular}\n"
      ],
      "text/plain": [
       "\u001b[1m256183×2 DataFrame\u001b[0m\n",
       "\u001b[1m    Row \u001b[0m│\u001b[1m Transcript stable ID \u001b[0m\u001b[1m Gene name  \u001b[0m\n",
       "\u001b[1m        \u001b[0m│\u001b[90m String15             \u001b[0m\u001b[90m String31   \u001b[0m\n",
       "────────┼──────────────────────────────────\n",
       "      1 │ ENST00000387314       MT-TF\n",
       "      2 │ ENST00000389680       MT-RNR1\n",
       "      3 │ ENST00000387342       MT-TV\n",
       "      4 │ ENST00000387347       MT-RNR2\n",
       "      5 │ ENST00000386347       MT-TL1\n",
       "      6 │ ENST00000361390       MT-ND1\n",
       "      7 │ ENST00000387365       MT-TI\n",
       "      8 │ ENST00000387372       MT-TQ\n",
       "      9 │ ENST00000387377       MT-TM\n",
       "     10 │ ENST00000361453       MT-ND2\n",
       "     11 │ ENST00000387382       MT-TW\n",
       "   ⋮    │          ⋮                ⋮\n",
       " 256174 │ ENST00000533614       ZNF692\n",
       " 256175 │ ENST00000496053       ZNF692\n",
       " 256176 │ ENST00000534456       ZNF692\n",
       " 256177 │ ENST00000533976       ZNF692\n",
       " 256178 │ ENST00000417047       AL672291.1\n",
       " 256179 │ ENST00000355360       PGBD2\n",
       " 256180 │ ENST00000329291       PGBD2\n",
       " 256181 │ ENST00000462488       PGBD2\n",
       " 256182 │ ENST00000363625       RNU6-1205P\n",
       " 256183 │ ENST00000430973       RPL23AP25\n",
       "\u001b[36m                        256162 rows omitted\u001b[0m"
      ]
     },
     "execution_count": 3,
     "metadata": {},
     "output_type": "execute_result"
    }
   ],
   "source": [
    "OnePiece.table.read(joinpath(da, \"enst_gene.tsv.gz\"))"
   ]
  },
  {
   "cell_type": "code",
   "execution_count": 4,
   "id": "7137cf1b",
   "metadata": {
    "execution": {
     "iopub.execute_input": "2022-07-02T16:55:32.957000Z",
     "iopub.status.busy": "2022-07-02T16:55:32.957000Z",
     "iopub.status.idle": "2022-07-02T16:55:33.479000Z",
     "shell.execute_reply": "2022-07-02T16:55:33.478000Z"
    }
   },
   "outputs": [
    {
     "data": {
      "text/html": [
       "<div class=\"data-frame\"><p>873 rows × 8 columns (omitted printing of 3 columns)</p><table class=\"data-frame\"><thead><tr><th></th><th>Gene Name</th><th>Ensembl ID</th><th>Chromosome</th><th>Gene Type</th><th>General Gene Type</th></tr><tr><th></th><th title=\"Any\">Any</th><th title=\"Any\">Any</th><th title=\"Any\">Any</th><th title=\"Any\">Any</th><th title=\"Any\">Any</th></tr></thead><tbody><tr><th>1</th><td>39326</td><td>ENSG00000122545</td><td>7</td><td>protein_coding</td><td>protein-coding</td></tr><tr><th>2</th><td>AATBC</td><td>ENSG00000215458</td><td>21</td><td>antisense</td><td>long non-coding</td></tr><tr><th>3</th><td>ABCB10</td><td>ENSG00000135776</td><td>1</td><td>protein_coding</td><td>protein-coding</td></tr><tr><th>4</th><td>ABCC12</td><td>ENSG00000140798</td><td>16</td><td>protein_coding</td><td>protein-coding</td></tr><tr><th>5</th><td>ABCC6</td><td>ENSG00000091262</td><td>16</td><td>protein_coding</td><td>protein-coding</td></tr><tr><th>6</th><td>ABCD1P2</td><td>ENSG00000215151</td><td>10</td><td>unprocessed_pseudogene</td><td>pseudogene</td></tr><tr><th>7</th><td>ABCD1P5</td><td>ENSG00000214330</td><td>2</td><td>unprocessed_pseudogene</td><td>pseudogene</td></tr><tr><th>8</th><td>ABCD4</td><td>ENSG00000119688</td><td>14</td><td>protein_coding</td><td>protein-coding</td></tr><tr><th>9</th><td>ABHD17A</td><td>ENSG00000129968</td><td>19</td><td>protein_coding</td><td>protein-coding</td></tr><tr><th>10</th><td>ABHD17AP1</td><td>ENSG00000198658</td><td>1</td><td>unprocessed_pseudogene</td><td>pseudogene</td></tr><tr><th>11</th><td>AC005042.4</td><td>ENSG00000204380</td><td>2</td><td>antisense</td><td>long non-coding</td></tr><tr><th>12</th><td>AC005488.11</td><td>ENSG00000205584</td><td>7</td><td>unprocessed_pseudogene</td><td>pseudogene</td></tr><tr><th>13</th><td>AC008132.13</td><td>ENSG00000161103</td><td>22</td><td>transcribed_unprocessed_pseudogene</td><td>pseudogene</td></tr><tr><th>14</th><td>AC008132.15</td><td>ENSG00000182824</td><td>22</td><td>lincRNA</td><td>long non-coding</td></tr><tr><th>15</th><td>AC026271.5</td><td>ENSG00000174977</td><td>17</td><td>processed_pseudogene</td><td>pseudogene</td></tr><tr><th>16</th><td>AC027612.6</td><td>ENSG00000143429</td><td>2</td><td>transcribed_unprocessed_pseudogene</td><td>pseudogene</td></tr><tr><th>17</th><td>AC062028.1</td><td>ENSG00000145063</td><td>2</td><td>lincRNA</td><td>long non-coding</td></tr><tr><th>18</th><td>AC083899.3</td><td>ENSG00000204745</td><td>2</td><td>unprocessed_pseudogene</td><td>pseudogene</td></tr><tr><th>19</th><td>AC096670.3</td><td>ENSG00000204581</td><td>2</td><td>antisense</td><td>long non-coding</td></tr><tr><th>20</th><td>AC111200.7</td><td>ENSG00000231351</td><td>2</td><td>processed_pseudogene</td><td>pseudogene</td></tr><tr><th>21</th><td>AC129778.2</td><td>ENSG00000184906</td><td>9</td><td>lincRNA</td><td>long non-coding</td></tr><tr><th>22</th><td>AC138969.4</td><td>ENSG00000183889</td><td>16</td><td>protein_coding</td><td>protein-coding</td></tr><tr><th>23</th><td>ACTR3B</td><td>ENSG00000133627</td><td>7</td><td>protein_coding</td><td>protein-coding</td></tr><tr><th>24</th><td>ACVR1C</td><td>ENSG00000123612</td><td>2</td><td>protein_coding</td><td>protein-coding</td></tr><tr><th>25</th><td>ADARB1</td><td>ENSG00000197381</td><td>21</td><td>protein_coding</td><td>protein-coding</td></tr><tr><th>26</th><td>ADORA2A-AS1</td><td>ENSG00000178803</td><td>22</td><td>antisense</td><td>long non-coding</td></tr><tr><th>27</th><td>AFF3</td><td>ENSG00000144218</td><td>2</td><td>protein_coding</td><td>protein-coding</td></tr><tr><th>28</th><td>AGAP1</td><td>ENSG00000157985</td><td>2</td><td>protein_coding</td><td>protein-coding</td></tr><tr><th>29</th><td>AGR3</td><td>ENSG00000173467</td><td>7</td><td>protein_coding</td><td>protein-coding</td></tr><tr><th>30</th><td>AGT</td><td>ENSG00000135744</td><td>1</td><td>protein_coding</td><td>protein-coding</td></tr><tr><th>&vellip;</th><td>&vellip;</td><td>&vellip;</td><td>&vellip;</td><td>&vellip;</td><td>&vellip;</td></tr></tbody></table></div>"
      ],
      "text/latex": [
       "\\begin{tabular}{r|cccccc}\n",
       "\t& Gene Name & Ensembl ID & Chromosome & Gene Type & General Gene Type & \\\\\n",
       "\t\\hline\n",
       "\t& Any & Any & Any & Any & Any & \\\\\n",
       "\t\\hline\n",
       "\t1 & 39326 & ENSG00000122545 & 7 & protein\\_coding & protein-coding & $\\dots$ \\\\\n",
       "\t2 & AATBC & ENSG00000215458 & 21 & antisense & long non-coding & $\\dots$ \\\\\n",
       "\t3 & ABCB10 & ENSG00000135776 & 1 & protein\\_coding & protein-coding & $\\dots$ \\\\\n",
       "\t4 & ABCC12 & ENSG00000140798 & 16 & protein\\_coding & protein-coding & $\\dots$ \\\\\n",
       "\t5 & ABCC6 & ENSG00000091262 & 16 & protein\\_coding & protein-coding & $\\dots$ \\\\\n",
       "\t6 & ABCD1P2 & ENSG00000215151 & 10 & unprocessed\\_pseudogene & pseudogene & $\\dots$ \\\\\n",
       "\t7 & ABCD1P5 & ENSG00000214330 & 2 & unprocessed\\_pseudogene & pseudogene & $\\dots$ \\\\\n",
       "\t8 & ABCD4 & ENSG00000119688 & 14 & protein\\_coding & protein-coding & $\\dots$ \\\\\n",
       "\t9 & ABHD17A & ENSG00000129968 & 19 & protein\\_coding & protein-coding & $\\dots$ \\\\\n",
       "\t10 & ABHD17AP1 & ENSG00000198658 & 1 & unprocessed\\_pseudogene & pseudogene & $\\dots$ \\\\\n",
       "\t11 & AC005042.4 & ENSG00000204380 & 2 & antisense & long non-coding & $\\dots$ \\\\\n",
       "\t12 & AC005488.11 & ENSG00000205584 & 7 & unprocessed\\_pseudogene & pseudogene & $\\dots$ \\\\\n",
       "\t13 & AC008132.13 & ENSG00000161103 & 22 & transcribed\\_unprocessed\\_pseudogene & pseudogene & $\\dots$ \\\\\n",
       "\t14 & AC008132.15 & ENSG00000182824 & 22 & lincRNA & long non-coding & $\\dots$ \\\\\n",
       "\t15 & AC026271.5 & ENSG00000174977 & 17 & processed\\_pseudogene & pseudogene & $\\dots$ \\\\\n",
       "\t16 & AC027612.6 & ENSG00000143429 & 2 & transcribed\\_unprocessed\\_pseudogene & pseudogene & $\\dots$ \\\\\n",
       "\t17 & AC062028.1 & ENSG00000145063 & 2 & lincRNA & long non-coding & $\\dots$ \\\\\n",
       "\t18 & AC083899.3 & ENSG00000204745 & 2 & unprocessed\\_pseudogene & pseudogene & $\\dots$ \\\\\n",
       "\t19 & AC096670.3 & ENSG00000204581 & 2 & antisense & long non-coding & $\\dots$ \\\\\n",
       "\t20 & AC111200.7 & ENSG00000231351 & 2 & processed\\_pseudogene & pseudogene & $\\dots$ \\\\\n",
       "\t21 & AC129778.2 & ENSG00000184906 & 9 & lincRNA & long non-coding & $\\dots$ \\\\\n",
       "\t22 & AC138969.4 & ENSG00000183889 & 16 & protein\\_coding & protein-coding & $\\dots$ \\\\\n",
       "\t23 & ACTR3B & ENSG00000133627 & 7 & protein\\_coding & protein-coding & $\\dots$ \\\\\n",
       "\t24 & ACVR1C & ENSG00000123612 & 2 & protein\\_coding & protein-coding & $\\dots$ \\\\\n",
       "\t25 & ADARB1 & ENSG00000197381 & 21 & protein\\_coding & protein-coding & $\\dots$ \\\\\n",
       "\t26 & ADORA2A-AS1 & ENSG00000178803 & 22 & antisense & long non-coding & $\\dots$ \\\\\n",
       "\t27 & AFF3 & ENSG00000144218 & 2 & protein\\_coding & protein-coding & $\\dots$ \\\\\n",
       "\t28 & AGAP1 & ENSG00000157985 & 2 & protein\\_coding & protein-coding & $\\dots$ \\\\\n",
       "\t29 & AGR3 & ENSG00000173467 & 7 & protein\\_coding & protein-coding & $\\dots$ \\\\\n",
       "\t30 & AGT & ENSG00000135744 & 1 & protein\\_coding & protein-coding & $\\dots$ \\\\\n",
       "\t$\\dots$ & $\\dots$ & $\\dots$ & $\\dots$ & $\\dots$ & $\\dots$ &  \\\\\n",
       "\\end{tabular}\n"
      ],
      "text/plain": [
       "\u001b[1m873×8 DataFrame\u001b[0m\n",
       "\u001b[1m Row \u001b[0m│\u001b[1m Gene Name   \u001b[0m\u001b[1m Ensembl ID      \u001b[0m\u001b[1m Chromosome \u001b[0m\u001b[1m Gene Type                    \u001b[0m ⋯\n",
       "\u001b[1m     \u001b[0m│\u001b[90m Any         \u001b[0m\u001b[90m Any             \u001b[0m\u001b[90m Any        \u001b[0m\u001b[90m Any                          \u001b[0m ⋯\n",
       "─────┼──────────────────────────────────────────────────────────────────────────\n",
       "   1 │ 39326        ENSG00000122545  7           protein_coding                ⋯\n",
       "   2 │ AATBC        ENSG00000215458  21          antisense\n",
       "   3 │ ABCB10       ENSG00000135776  1           protein_coding\n",
       "   4 │ ABCC12       ENSG00000140798  16          protein_coding\n",
       "   5 │ ABCC6        ENSG00000091262  16          protein_coding                ⋯\n",
       "   6 │ ABCD1P2      ENSG00000215151  10          unprocessed_pseudogene\n",
       "   7 │ ABCD1P5      ENSG00000214330  2           unprocessed_pseudogene\n",
       "   8 │ ABCD4        ENSG00000119688  14          protein_coding\n",
       "   9 │ ABHD17A      ENSG00000129968  19          protein_coding                ⋯\n",
       "  10 │ ABHD17AP1    ENSG00000198658  1           unprocessed_pseudogene\n",
       "  11 │ AC005042.4   ENSG00000204380  2           antisense\n",
       "  ⋮  │      ⋮              ⋮             ⋮                       ⋮             ⋱\n",
       " 864 │ ZNF519       ENSG00000175322  18          protein_coding\n",
       " 865 │ ZNF595       ENSG00000272602  4           protein_coding                ⋯\n",
       " 866 │ ZNF638       ENSG00000075292  2           protein_coding\n",
       " 867 │ ZNF705B      ENSG00000215356  8           protein_coding\n",
       " 868 │ ZNF705G      ENSG00000215372  8           protein_coding\n",
       " 869 │ ZNF790       ENSG00000197863  19          protein_coding                ⋯\n",
       " 870 │ ZNF843       ENSG00000176723  16          protein_coding\n",
       " 871 │ ZNF85        ENSG00000105750  19          protein_coding\n",
       " 872 │ ZNF850       ENSG00000267041  19          protein_coding\n",
       " 873 │ ZNF962P      ENSG00000215604  13          unprocessed_pseudogene        ⋯\n",
       "\u001b[36m                                                  5 columns and 852 rows omitted\u001b[0m"
      ]
     },
     "execution_count": 4,
     "metadata": {},
     "output_type": "execute_result"
    }
   ],
   "source": [
    "OnePiece.table.read(joinpath(da, \"12859_2019_2886_MOESM2_ESM.xlsx\"), xl = \"HumanSpecific Genes\")"
   ]
  },
  {
   "cell_type": "markdown",
   "id": "5b77c5d6",
   "metadata": {},
   "source": [
    "## write"
   ]
  },
  {
   "cell_type": "code",
   "execution_count": 5,
   "id": "3d64c320",
   "metadata": {
    "execution": {
     "iopub.execute_input": "2022-07-02T16:55:33.482000Z",
     "iopub.status.busy": "2022-07-02T16:55:33.482000Z",
     "iopub.status.idle": "2022-07-02T16:55:33.951000Z",
     "shell.execute_reply": "2022-07-02T16:55:33.951000Z"
    }
   },
   "outputs": [
    {
     "data": {
      "text/html": [
       "<div class=\"data-frame\"><p>4 rows × 4 columns</p><table class=\"data-frame\"><thead><tr><th></th><th>Column 1</th><th>Column 2</th><th>Column 3</th><th>Column 4</th></tr><tr><th></th><th title=\"Int64\">Int64</th><th title=\"Float64\">Float64</th><th title=\"String\">String</th><th title=\"String\">String</th></tr></thead><tbody><tr><th>1</th><td>1</td><td>1.0</td><td>1</td><td>1.0</td></tr><tr><th>2</th><td>2</td><td>2.0</td><td>2</td><td>2.0</td></tr><tr><th>3</th><td>3</td><td>3.0</td><td>3</td><td>3.0</td></tr><tr><th>4</th><td>4</td><td>4.0</td><td>4</td><td>4.0</td></tr></tbody></table></div>"
      ],
      "text/latex": [
       "\\begin{tabular}{r|cccc}\n",
       "\t& Column 1 & Column 2 & Column 3 & Column 4\\\\\n",
       "\t\\hline\n",
       "\t& Int64 & Float64 & String & String\\\\\n",
       "\t\\hline\n",
       "\t1 & 1 & 1.0 & 1 & 1.0 \\\\\n",
       "\t2 & 2 & 2.0 & 2 & 2.0 \\\\\n",
       "\t3 & 3 & 3.0 & 3 & 3.0 \\\\\n",
       "\t4 & 4 & 4.0 & 4 & 4.0 \\\\\n",
       "\\end{tabular}\n"
      ],
      "text/plain": [
       "\u001b[1m4×4 DataFrame\u001b[0m\n",
       "\u001b[1m Row \u001b[0m│\u001b[1m Column 1 \u001b[0m\u001b[1m Column 2 \u001b[0m\u001b[1m Column 3 \u001b[0m\u001b[1m Column 4 \u001b[0m\n",
       "\u001b[1m     \u001b[0m│\u001b[90m Int64    \u001b[0m\u001b[90m Float64  \u001b[0m\u001b[90m String   \u001b[0m\u001b[90m String   \u001b[0m\n",
       "─────┼────────────────────────────────────────\n",
       "   1 │        1       1.0  1         1.0\n",
       "   2 │        2       2.0  2         2.0\n",
       "   3 │        3       3.0  3         3.0\n",
       "   4 │        4       4.0  4         4.0"
      ]
     },
     "execution_count": 5,
     "metadata": {},
     "output_type": "execute_result"
    }
   ],
   "source": [
    "co1 = 1:4\n",
    "\n",
    "co2 = 1.0:4\n",
    "\n",
    "da = DataFrame(\n",
    "    \"Column 1\" => co1,\n",
    "    \"Column 2\" => co2,\n",
    "    \"Column 3\" => string.(co1),\n",
    "    \"Column 4\" => string.(co2),\n",
    ")"
   ]
  },
  {
   "cell_type": "code",
   "execution_count": 6,
   "id": "f380da76",
   "metadata": {
    "execution": {
     "iopub.execute_input": "2022-07-02T16:55:33.954000Z",
     "iopub.status.busy": "2022-07-02T16:55:33.954000Z",
     "iopub.status.idle": "2022-07-02T16:55:35.156000Z",
     "shell.execute_reply": "2022-07-02T16:55:35.156000Z"
    }
   },
   "outputs": [
    {
     "data": {
      "text/plain": [
       "\"/var/folders/mg/30npdf0s1z36txb2qvgylrzh0000gn/T/write.csv\""
      ]
     },
     "execution_count": 6,
     "metadata": {},
     "output_type": "execute_result"
    }
   ],
   "source": [
    "ts = joinpath(tempdir(), \"write.csv\")\n",
    "\n",
    "try\n",
    "\n",
    "    OnePiece.table.write(ts, da)\n",
    "\n",
    "catch er\n",
    "\n",
    "    println(er)\n",
    "\n",
    "end"
   ]
  },
  {
   "cell_type": "code",
   "execution_count": 7,
   "id": "97344950",
   "metadata": {
    "execution": {
     "iopub.execute_input": "2022-07-02T16:55:35.159000Z",
     "iopub.status.busy": "2022-07-02T16:55:35.158000Z",
     "iopub.status.idle": "2022-07-02T16:55:35.188000Z",
     "shell.execute_reply": "2022-07-02T16:55:35.188000Z"
    }
   },
   "outputs": [
    {
     "data": {
      "text/plain": [
       "\"/var/folders/mg/30npdf0s1z36txb2qvgylrzh0000gn/T/write.tsv\""
      ]
     },
     "execution_count": 7,
     "metadata": {},
     "output_type": "execute_result"
    }
   ],
   "source": [
    "OnePiece.table.write(replace(ts, \".csv\" => \".tsv\"), da)"
   ]
  }
 ],
 "metadata": {
  "@webio": {
   "lastCommId": null,
   "lastKernelId": null
  },
  "kernelspec": {
   "display_name": "Julia 1.7.3",
   "language": "julia",
   "name": "julia-1.7"
  },
  "language_info": {
   "file_extension": ".jl",
   "mimetype": "application/julia",
   "name": "julia",
   "version": "1.7.3"
  }
 },
 "nbformat": 4,
 "nbformat_minor": 5
}
