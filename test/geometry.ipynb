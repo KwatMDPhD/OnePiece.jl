{
 "cells": [
  {
   "cell_type": "code",
   "execution_count": 1,
   "id": "baf12f00",
   "metadata": {
    "execution": {
     "iopub.execute_input": "2022-07-13T12:51:37.589000Z",
     "iopub.status.busy": "2022-07-13T12:51:37.251000Z",
     "iopub.status.idle": "2022-07-13T12:51:42.037000Z",
     "shell.execute_reply": "2022-07-13T12:51:41.990000Z"
    }
   },
   "outputs": [],
   "source": [
    "using OnePiece"
   ]
  },
  {
   "cell_type": "markdown",
   "id": "a39a4579",
   "metadata": {},
   "source": [
    "---"
   ]
  },
  {
   "cell_type": "code",
   "execution_count": 2,
   "id": "7f493aa0",
   "metadata": {
    "execution": {
     "iopub.execute_input": "2022-07-13T12:51:42.513000Z",
     "iopub.status.busy": "2022-07-13T12:51:42.056000Z",
     "iopub.status.idle": "2022-07-13T12:51:42.632000Z",
     "shell.execute_reply": "2022-07-13T12:51:42.632000Z"
    }
   },
   "outputs": [
    {
     "name": "stdout",
     "output_type": "stream",
     "text": [
      "0 ... 100\n",
      "50.0\n",
      "-1 ... 1\n",
      "0.0\n"
     ]
    }
   ],
   "source": [
    "for (co1, co2) in [[0, 100], [-1, 1]]\n",
    "\n",
    "    println(co1, \" ... \", co2)\n",
    "\n",
    "    println(OnePiece.geometry.get_center(co1, co2))\n",
    "\n",
    "end"
   ]
  },
  {
   "cell_type": "markdown",
   "id": "a8545eef",
   "metadata": {},
   "source": [
    "---"
   ]
  }
 ],
 "metadata": {
  "kernelspec": {
   "display_name": "Julia 1.7.3",
   "language": "julia",
   "name": "julia-1.7"
  },
  "language_info": {
   "file_extension": ".jl",
   "mimetype": "application/julia",
   "name": "julia",
   "version": "1.7.3"
  }
 },
 "nbformat": 4,
 "nbformat_minor": 5
}
