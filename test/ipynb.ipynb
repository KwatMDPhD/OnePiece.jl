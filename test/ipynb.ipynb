{
 "cells": [
  {
   "cell_type": "code",
   "execution_count": 1,
   "id": "ad9b827e",
   "metadata": {
    "execution": {
     "iopub.execute_input": "2022-07-10T14:22:43.980000Z",
     "iopub.status.busy": "2022-07-10T14:22:43.589000Z",
     "iopub.status.idle": "2022-07-10T14:22:48.455000Z",
     "shell.execute_reply": "2022-07-10T14:22:48.407000Z"
    }
   },
   "outputs": [],
   "source": [
    "using OnePiece"
   ]
  },
  {
   "cell_type": "markdown",
   "id": "c9a60bfd",
   "metadata": {},
   "source": [
    "---"
   ]
  },
  {
   "cell_type": "markdown",
   "id": "8ce7ef96",
   "metadata": {},
   "source": [
    "## run"
   ]
  },
  {
   "cell_type": "code",
   "execution_count": 2,
   "id": "9180c14e",
   "metadata": {
    "execution": {
     "iopub.execute_input": "2022-07-10T14:22:48.792000Z",
     "iopub.status.busy": "2022-07-10T14:22:48.457000Z",
     "iopub.status.idle": "2022-07-10T14:22:49.183000Z",
     "shell.execute_reply": "2022-07-10T14:22:49.182000Z"
    }
   },
   "outputs": [
    {
     "data": {
      "text/plain": [
       "run (generic function with 2 methods)"
      ]
     },
     "execution_count": 2,
     "metadata": {},
     "output_type": "execute_result"
    }
   ],
   "source": [
    "OnePiece.ipynb.run"
   ]
  },
  {
   "cell_type": "markdown",
   "id": "93d3943c",
   "metadata": {},
   "source": [
    "---"
   ]
  }
 ],
 "metadata": {
  "kernelspec": {
   "display_name": "Julia 1.7.3",
   "language": "julia",
   "name": "julia-1.7"
  },
  "language_info": {
   "file_extension": ".jl",
   "mimetype": "application/julia",
   "name": "julia",
   "version": "1.7.3"
  }
 },
 "nbformat": 4,
 "nbformat_minor": 5
}
