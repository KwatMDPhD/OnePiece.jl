{
 "cells": [
  {
   "cell_type": "code",
   "execution_count": 1,
   "id": "baf12f00",
   "metadata": {
    "execution": {
     "iopub.execute_input": "2022-07-03T14:54:09.557000Z",
     "iopub.status.busy": "2022-07-03T14:54:09.183000Z",
     "iopub.status.idle": "2022-07-03T14:54:15.211000Z",
     "shell.execute_reply": "2022-07-03T14:54:15.165000Z"
    }
   },
   "outputs": [],
   "source": [
    "using Revise\n",
    "using OnePiece"
   ]
  },
  {
   "cell_type": "markdown",
   "id": "150ddcea",
   "metadata": {},
   "source": [
    "## read"
   ]
  },
  {
   "cell_type": "code",
   "execution_count": 2,
   "id": "41bb483d",
   "metadata": {
    "execution": {
     "iopub.execute_input": "2022-07-03T14:54:15.600000Z",
     "iopub.status.busy": "2022-07-03T14:54:15.213000Z",
     "iopub.status.idle": "2022-07-03T14:54:27.098000Z",
     "shell.execute_reply": "2022-07-03T14:54:27.098000Z"
    }
   },
   "outputs": [
    {
     "name": "stdout",
     "output_type": "stream",
     "text": [
      "Printing 13321 x 190\n",
      "1:3 x 1:3\n",
      "\u001b[1m3×3 DataFrame\u001b[0m\n",
      "\u001b[1m Row \u001b[0m│\u001b[1m Name     \u001b[0m\u001b[1m MD_165   \u001b[0m\u001b[1m MD_16    \u001b[0m\n",
      "\u001b[1m     \u001b[0m│\u001b[90m String31 \u001b[0m\u001b[90m Float64  \u001b[0m\u001b[90m Float64  \u001b[0m\n",
      "─────┼──────────────────────────────\n",
      "   1 │ IFT88     433.691   736.273\n",
      "   2 │ CARD4      47.8452   51.1339\n",
      "   3 │ EPN1       37.4084   35.9301\n",
      "1:3 x 188:190\n",
      "\u001b[1m3×3 DataFrame\u001b[0m\n",
      "\u001b[1m Row \u001b[0m│\u001b[1m MD_240   \u001b[0m\u001b[1m MD_120   \u001b[0m\u001b[1m MD_121   \u001b[0m\n",
      "\u001b[1m     \u001b[0m│\u001b[90m Float64  \u001b[0m\u001b[90m Float64  \u001b[0m\u001b[90m Float64  \u001b[0m\n",
      "─────┼──────────────────────────────\n",
      "   1 │ 708.608   181.749   242.67\n",
      "   2 │  55.6508   69.6374   78.5731\n",
      "   3 │  47.6051   58.8341   38.9798\n",
      "13319:13321 x 1:3\n",
      "\u001b[1m3×3 DataFrame\u001b[0m\n",
      "\u001b[1m Row \u001b[0m│\u001b[1m Name     \u001b[0m\u001b[1m MD_165   \u001b[0m\u001b[1m MD_16    \u001b[0m\n",
      "\u001b[1m     \u001b[0m│\u001b[90m String31 \u001b[0m\u001b[90m Float64  \u001b[0m\u001b[90m Float64  \u001b[0m\n",
      "─────┼──────────────────────────────\n",
      "   1 │ SEZ6L     1070.97   2838.55\n",
      "   2 │ EIF3S2    1205.29   1210.06\n",
      "   3 │ LDLR       194.384   158.164\n",
      "13319:13321 x 188:190\n",
      "\u001b[1m3×3 DataFrame\u001b[0m\n",
      "\u001b[1m Row \u001b[0m│\u001b[1m MD_240   \u001b[0m\u001b[1m MD_120    \u001b[0m\u001b[1m MD_121   \u001b[0m\n",
      "\u001b[1m     \u001b[0m│\u001b[90m Float64  \u001b[0m\u001b[90m Float64   \u001b[0m\u001b[90m Float64  \u001b[0m\n",
      "─────┼───────────────────────────────\n",
      "   1 │ 1917.9    1471.03     286.576\n",
      "   2 │  485.396  1211.29    1073.19\n",
      "   3 │   78.611    71.9829   719.15\n"
     ]
    }
   ],
   "source": [
    "OnePiece.dataframe.print(OnePiece.gct.read(joinpath(@__DIR__, \"gct.data\", \"a.gct\")))"
   ]
  }
 ],
 "metadata": {
  "@webio": {
   "lastCommId": null,
   "lastKernelId": null
  },
  "kernelspec": {
   "display_name": "Julia 1.7.3",
   "language": "julia",
   "name": "julia-1.7"
  },
  "language_info": {
   "file_extension": ".jl",
   "mimetype": "application/julia",
   "name": "julia",
   "version": "1.7.3"
  }
 },
 "nbformat": 4,
 "nbformat_minor": 5
}
