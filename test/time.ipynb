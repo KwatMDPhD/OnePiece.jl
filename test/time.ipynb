{
 "cells": [
  {
   "cell_type": "code",
   "execution_count": 1,
   "id": "6482a17b",
   "metadata": {
    "execution": {
     "iopub.execute_input": "2022-07-13T16:53:36.153000Z",
     "iopub.status.busy": "2022-07-13T16:53:35.808000Z",
     "iopub.status.idle": "2022-07-13T16:53:40.434000Z",
     "shell.execute_reply": "2022-07-13T16:53:40.388000Z"
    }
   },
   "outputs": [],
   "source": [
    "using OnePiece"
   ]
  },
  {
   "cell_type": "markdown",
   "id": "f1afa9da",
   "metadata": {},
   "source": [
    "## stamp"
   ]
  },
  {
   "cell_type": "code",
   "execution_count": 2,
   "id": "66b20884",
   "metadata": {
    "execution": {
     "iopub.execute_input": "2022-07-13T16:53:40.888000Z",
     "iopub.status.busy": "2022-07-13T16:53:40.437000Z",
     "iopub.status.idle": "2022-07-13T16:53:41.543000Z",
     "shell.execute_reply": "2022-07-13T16:53:41.543000Z"
    }
   },
   "outputs": [
    {
     "data": {
      "text/plain": [
       "\"2022-7-13_16:53:40.904\""
      ]
     },
     "execution_count": 2,
     "metadata": {},
     "output_type": "execute_result"
    }
   ],
   "source": [
    "OnePiece.time.stamp()"
   ]
  }
 ],
 "metadata": {
  "@webio": {
   "lastCommId": null,
   "lastKernelId": null
  },
  "kernelspec": {
   "display_name": "Julia 1.7.3",
   "language": "julia",
   "name": "julia-1.7"
  },
  "language_info": {
   "file_extension": ".jl",
   "mimetype": "application/julia",
   "name": "julia",
   "version": "1.7.3"
  }
 },
 "nbformat": 4,
 "nbformat_minor": 5
}
