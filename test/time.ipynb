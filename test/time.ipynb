{
 "cells": [
  {
   "cell_type": "code",
   "execution_count": 1,
   "id": "6482a17b",
   "metadata": {
    "execution": {
     "iopub.execute_input": "2022-07-10T14:28:01.563000Z",
     "iopub.status.busy": "2022-07-10T14:28:01.220000Z",
     "iopub.status.idle": "2022-07-10T14:28:06.064000Z",
     "shell.execute_reply": "2022-07-10T14:28:06.015000Z"
    }
   },
   "outputs": [],
   "source": [
    "using OnePiece"
   ]
  },
  {
   "cell_type": "markdown",
   "id": "c91dd3e7",
   "metadata": {},
   "source": [
    "---"
   ]
  },
  {
   "cell_type": "markdown",
   "id": "f1afa9da",
   "metadata": {},
   "source": [
    "## stamp"
   ]
  },
  {
   "cell_type": "code",
   "execution_count": 2,
   "id": "66b20884",
   "metadata": {
    "execution": {
     "iopub.execute_input": "2022-07-10T14:28:06.536000Z",
     "iopub.status.busy": "2022-07-10T14:28:06.067000Z",
     "iopub.status.idle": "2022-07-10T14:28:07.185000Z",
     "shell.execute_reply": "2022-07-10T14:28:07.184000Z"
    }
   },
   "outputs": [
    {
     "data": {
      "text/plain": [
       "\"2022-7-10_14:28:6.552\""
      ]
     },
     "execution_count": 2,
     "metadata": {},
     "output_type": "execute_result"
    }
   ],
   "source": [
    "OnePiece.time.stamp()"
   ]
  },
  {
   "cell_type": "markdown",
   "id": "d87ff9e5",
   "metadata": {},
   "source": [
    "---"
   ]
  }
 ],
 "metadata": {
  "@webio": {
   "lastCommId": null,
   "lastKernelId": null
  },
  "kernelspec": {
   "display_name": "Julia 1.7.3",
   "language": "julia",
   "name": "julia-1.7"
  },
  "language_info": {
   "file_extension": ".jl",
   "mimetype": "application/julia",
   "name": "julia",
   "version": "1.7.3"
  }
 },
 "nbformat": 4,
 "nbformat_minor": 5
}
