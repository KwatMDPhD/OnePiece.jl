{
 "cells": [
  {
   "cell_type": "code",
   "execution_count": 1,
   "id": "6482a17b",
   "metadata": {
    "execution": {
     "iopub.execute_input": "2022-07-07T22:05:29.745000Z",
     "iopub.status.busy": "2022-07-07T22:05:29.356000Z",
     "iopub.status.idle": "2022-07-07T22:05:34.041000Z",
     "shell.execute_reply": "2022-07-07T22:05:33.993000Z"
    }
   },
   "outputs": [],
   "source": [
    "using OnePiece"
   ]
  },
  {
   "cell_type": "markdown",
   "id": "c91dd3e7",
   "metadata": {},
   "source": [
    "---"
   ]
  },
  {
   "cell_type": "markdown",
   "id": "f1afa9da",
   "metadata": {},
   "source": [
    "## stamp"
   ]
  },
  {
   "cell_type": "code",
   "execution_count": 2,
   "id": "66b20884",
   "metadata": {
    "execution": {
     "iopub.execute_input": "2022-07-07T22:05:34.369000Z",
     "iopub.status.busy": "2022-07-07T22:05:34.043000Z",
     "iopub.status.idle": "2022-07-07T22:05:35.008000Z",
     "shell.execute_reply": "2022-07-07T22:05:35.008000Z"
    }
   },
   "outputs": [
    {
     "data": {
      "text/plain": [
       "\"2022-7-7_22:5:34.385\""
      ]
     },
     "execution_count": 2,
     "metadata": {},
     "output_type": "execute_result"
    }
   ],
   "source": [
    "OnePiece.time.stamp()"
   ]
  },
  {
   "cell_type": "markdown",
   "id": "d87ff9e5",
   "metadata": {},
   "source": [
    "---"
   ]
  }
 ],
 "metadata": {
  "@webio": {
   "lastCommId": null,
   "lastKernelId": null
  },
  "kernelspec": {
   "display_name": "Julia 1.7.3",
   "language": "julia",
   "name": "julia-1.7"
  },
  "language_info": {
   "file_extension": ".jl",
   "mimetype": "application/julia",
   "name": "julia",
   "version": "1.7.3"
  }
 },
 "nbformat": 4,
 "nbformat_minor": 5
}
