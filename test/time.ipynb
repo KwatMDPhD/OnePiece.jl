{
 "cells": [
  {
   "cell_type": "code",
   "execution_count": null,
   "id": "6482a17b",
   "metadata": {},
   "outputs": [],
   "source": [
    "using OnePiece"
   ]
  },
  {
   "cell_type": "markdown",
   "id": "f1afa9da",
   "metadata": {},
   "source": [
    "## stamp"
   ]
  },
  {
   "cell_type": "code",
   "execution_count": null,
   "id": "66b20884",
   "metadata": {},
   "outputs": [],
   "source": [
    "OnePiece.time.stamp()"
   ]
  }
 ],
 "metadata": {
  "@webio": {
   "lastCommId": null,
   "lastKernelId": null
  },
  "kernelspec": {
   "display_name": "Julia 1.7.3",
   "language": "julia",
   "name": "julia-1.7"
  },
  "language_info": {
   "file_extension": ".jl",
   "mimetype": "application/julia",
   "name": "julia",
   "version": "1.7.3"
  }
 },
 "nbformat": 4,
 "nbformat_minor": 5
}
