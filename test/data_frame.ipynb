{
 "cells": [
  {
   "cell_type": "code",
   "execution_count": 1,
   "id": "ce35e3eb",
   "metadata": {
    "execution": {
     "iopub.execute_input": "2022-07-13T16:46:23.814000Z",
     "iopub.status.busy": "2022-07-13T16:46:23.476000Z",
     "iopub.status.idle": "2022-07-13T16:46:28.125000Z",
     "shell.execute_reply": "2022-07-13T16:46:28.078000Z"
    }
   },
   "outputs": [],
   "source": [
    "using OnePiece\n",
    "\n",
    "using DataFrames"
   ]
  },
  {
   "cell_type": "markdown",
   "id": "b753afc0",
   "metadata": {},
   "source": [
    "## error_bad"
   ]
  },
  {
   "cell_type": "code",
   "execution_count": 2,
   "id": "0469cf0b",
   "metadata": {
    "execution": {
     "iopub.execute_input": "2022-07-13T16:46:28.582000Z",
     "iopub.status.busy": "2022-07-13T16:46:28.127000Z",
     "iopub.status.idle": "2022-07-13T16:46:30.264000Z",
     "shell.execute_reply": "2022-07-13T16:46:30.264000Z"
    }
   },
   "outputs": [
    {
     "name": "stdout",
     "output_type": "stream",
     "text": [
      "5 keys and 5 unique values\n",
      "{\n",
      "   Column 1 => Any[missing]\n",
      "   Column 2 => Any[nothing]\n",
      "   Column 3 => Any[Inf]\n",
      "   Column 4 => Any[-Inf]\n",
      "   Column 5 => Any[missing, nothing, Inf, -Inf]\n",
      "}\n",
      "ErrorException(\"\")\n"
     ]
    }
   ],
   "source": [
    "da = DataFrame(\n",
    "    \"Column 1\" => [missing, 1, 2, 3],\n",
    "    \"Column 2\" => [nothing, 2, 3, 4],\n",
    "    \"Column 3\" => [Inf, 3, 4, 5],\n",
    "    \"Column 4\" => [-Inf, 4, 5, 6],\n",
    "    \"Column 5\" => [missing, nothing, Inf, -Inf],\n",
    "    \"Column 6\" => [\"a\", \"b\", \"c\", \"d\"],\n",
    ")\n",
    "\n",
    "try\n",
    "\n",
    "    OnePiece.data_frame.error_bad(da)\n",
    "\n",
    "catch er\n",
    "\n",
    "    println(er)\n",
    "\n",
    "end"
   ]
  },
  {
   "cell_type": "markdown",
   "id": "1eea9ffd",
   "metadata": {},
   "source": [
    "## map_to_column"
   ]
  },
  {
   "cell_type": "code",
   "execution_count": 3,
   "id": "3d255f93",
   "metadata": {
    "execution": {
     "iopub.execute_input": "2022-07-13T16:46:30.267000Z",
     "iopub.status.busy": "2022-07-13T16:46:30.267000Z",
     "iopub.status.idle": "2022-07-13T16:46:33.204000Z",
     "shell.execute_reply": "2022-07-13T16:46:33.203000Z"
    }
   },
   "outputs": [
    {
     "data": {
      "text/html": [
       "<div class=\"data-frame\"><p>3 rows × 3 columns</p><table class=\"data-frame\"><thead><tr><th></th><th>Column 1</th><th>Column 2</th><th>Column 3</th></tr><tr><th></th><th title=\"String\">String</th><th title=\"String\">String</th><th title=\"String\">String</th></tr></thead><tbody><tr><th>1</th><td>hi</td><td>X</td><td>luffy</td></tr><tr><th>2</th><td>hello</td><td>Y</td><td>black jack</td></tr><tr><th>3</th><td>howdy</td><td>Z</td><td>oden</td></tr></tbody></table></div>"
      ],
      "text/latex": [
       "\\begin{tabular}{r|ccc}\n",
       "\t& Column 1 & Column 2 & Column 3\\\\\n",
       "\t\\hline\n",
       "\t& String & String & String\\\\\n",
       "\t\\hline\n",
       "\t1 & hi & X & luffy \\\\\n",
       "\t2 & hello & Y & black jack \\\\\n",
       "\t3 & howdy & Z & oden \\\\\n",
       "\\end{tabular}\n"
      ],
      "text/plain": [
       "\u001b[1m3×3 DataFrame\u001b[0m\n",
       "\u001b[1m Row \u001b[0m│\u001b[1m Column 1 \u001b[0m\u001b[1m Column 2 \u001b[0m\u001b[1m Column 3   \u001b[0m\n",
       "\u001b[1m     \u001b[0m│\u001b[90m String   \u001b[0m\u001b[90m String   \u001b[0m\u001b[90m String     \u001b[0m\n",
       "─────┼────────────────────────────────\n",
       "   1 │ hi        X         luffy\n",
       "   2 │ hello     Y         black jack\n",
       "   3 │ howdy     Z         oden"
      ]
     },
     "execution_count": 3,
     "metadata": {},
     "output_type": "execute_result"
    }
   ],
   "source": [
    "da = DataFrame(\n",
    "    \"Column 1\" => [\"hi\", \"hello\", \"howdy\"],\n",
    "    \"Column 2\" => [\"X\", \"Y\", \"Z\"],\n",
    "    \"Column 3\" => [\"luffy\", \"black jack\", \"oden\"],\n",
    ")"
   ]
  },
  {
   "cell_type": "code",
   "execution_count": 4,
   "id": "ec64b284",
   "metadata": {
    "execution": {
     "iopub.execute_input": "2022-07-13T16:46:33.207000Z",
     "iopub.status.busy": "2022-07-13T16:46:33.207000Z",
     "iopub.status.idle": "2022-07-13T16:46:34.674000Z",
     "shell.execute_reply": "2022-07-13T16:46:34.674000Z"
    }
   },
   "outputs": [
    {
     "data": {
      "text/plain": [
       "Dict{Any, Any} with 6 entries:\n",
       "  \"Y\"          => \"Y\"\n",
       "  \"Z\"          => \"Z\"\n",
       "  \"black jack\" => \"Y\"\n",
       "  \"oden\"       => \"Z\"\n",
       "  \"X\"          => \"X\"\n",
       "  \"luffy\"      => \"X\""
      ]
     },
     "execution_count": 4,
     "metadata": {},
     "output_type": "execute_result"
    }
   ],
   "source": [
    "OnePiece.data_frame.map_to_column(da, [\"Column 3\", \"Column 2\"])"
   ]
  },
  {
   "cell_type": "code",
   "execution_count": 5,
   "id": "07f9b7f0",
   "metadata": {
    "execution": {
     "iopub.execute_input": "2022-07-13T16:46:34.678000Z",
     "iopub.status.busy": "2022-07-13T16:46:34.677000Z",
     "iopub.status.idle": "2022-07-13T16:46:34.679000Z",
     "shell.execute_reply": "2022-07-13T16:46:34.679000Z"
    }
   },
   "outputs": [
    {
     "data": {
      "text/plain": [
       "Dict{Any, Any} with 9 entries:\n",
       "  \"Y\"          => \"Y\"\n",
       "  \"Z\"          => \"Z\"\n",
       "  \"black jack\" => \"Y\"\n",
       "  \"oden\"       => \"Z\"\n",
       "  \"X\"          => \"X\"\n",
       "  \"hi\"         => \"X\"\n",
       "  \"hello\"      => \"Y\"\n",
       "  \"howdy\"      => \"Z\"\n",
       "  \"luffy\"      => \"X\""
      ]
     },
     "execution_count": 5,
     "metadata": {},
     "output_type": "execute_result"
    }
   ],
   "source": [
    "OnePiece.data_frame.map_to_column(da, [\"Column 1\", \"Column 3\", \"Column 2\"])"
   ]
  },
  {
   "cell_type": "markdown",
   "id": "b87424f9",
   "metadata": {},
   "source": [
    "## print"
   ]
  },
  {
   "cell_type": "code",
   "execution_count": 6,
   "id": "9192da96",
   "metadata": {
    "execution": {
     "iopub.execute_input": "2022-07-13T16:46:34.682000Z",
     "iopub.status.busy": "2022-07-13T16:46:34.682000Z",
     "iopub.status.idle": "2022-07-13T16:46:35.189000Z",
     "shell.execute_reply": "2022-07-13T16:46:35.188000Z"
    }
   },
   "outputs": [
    {
     "name": "stdout",
     "output_type": "stream",
     "text": [
      "Printing 0 x 0\n",
      "Printing 0 x 1\n",
      "Printing 2 x 2\n",
      "1:2 x 1:2\n",
      "\u001b[1m2×2 DataFrame\u001b[0m\n",
      "\u001b[1m Row \u001b[0m│\u001b[1m Column1 \u001b[0m\u001b[1m Column2 \u001b[0m\n",
      "\u001b[1m     \u001b[0m│\u001b[90m Float64 \u001b[0m\u001b[90m Float64 \u001b[0m\n",
      "─────┼──────────────────\n",
      "   1 │     1.0      3.0\n",
      "   2 │     2.0      4.0\n",
      "Printing 4 x 2\n",
      "1:3 x 1:2\n",
      "\u001b[1m3×2 DataFrame\u001b[0m\n",
      "\u001b[1m Row \u001b[0m│\u001b[1m Column1 \u001b[0m\u001b[1m Column2 \u001b[0m\n",
      "\u001b[1m     \u001b[0m│\u001b[90m Float64 \u001b[0m\u001b[90m Float64 \u001b[0m\n",
      "─────┼──────────────────\n",
      "   1 │     1.0      5.0\n",
      "   2 │     2.0      6.0\n",
      "   3 │     3.0      7.0\n",
      "2:4 x 1:2\n",
      "\u001b[1m3×2 DataFrame\u001b[0m\n",
      "\u001b[1m Row \u001b[0m│\u001b[1m Column1 \u001b[0m\u001b[1m Column2 \u001b[0m\n",
      "\u001b[1m     \u001b[0m│\u001b[90m Float64 \u001b[0m\u001b[90m Float64 \u001b[0m\n",
      "─────┼──────────────────\n",
      "   1 │     2.0      6.0\n",
      "   2 │     3.0      7.0\n",
      "   3 │     4.0      8.0\n",
      "Printing 2 x 4\n",
      "1:2 x 1:3\n",
      "\u001b[1m2×3 DataFrame\u001b[0m\n",
      "\u001b[1m Row \u001b[0m│\u001b[1m Column1 \u001b[0m\u001b[1m Column2 \u001b[0m\u001b[1m Column3 \u001b[0m\n",
      "\u001b[1m     \u001b[0m│\u001b[90m Float64 \u001b[0m\u001b[90m Float64 \u001b[0m\u001b[90m Float64 \u001b[0m\n",
      "─────┼───────────────────────────\n",
      "   1 │     1.0      3.0      5.0\n",
      "   2 │     2.0      4.0      6.0\n",
      "1:2 x 2:4\n",
      "\u001b[1m2×3 DataFrame\u001b[0m\n",
      "\u001b[1m Row \u001b[0m│\u001b[1m Column2 \u001b[0m\u001b[1m Column3 \u001b[0m\u001b[1m Column4 \u001b[0m\n",
      "\u001b[1m     \u001b[0m│\u001b[90m Float64 \u001b[0m\u001b[90m Float64 \u001b[0m\u001b[90m Float64 \u001b[0m\n",
      "─────┼───────────────────────────\n",
      "   1 │     3.0      5.0      7.0\n",
      "   2 │     4.0      6.0      8.0\n",
      "Printing 4 x 4\n",
      "1:3 x 1:3\n",
      "\u001b[1m3×3 DataFrame\u001b[0m\n",
      "\u001b[1m Row \u001b[0m│\u001b[1m Column1 \u001b[0m\u001b[1m Column2 \u001b[0m\u001b[1m Column3 \u001b[0m\n",
      "\u001b[1m     \u001b[0m│\u001b[90m Float64 \u001b[0m\u001b[90m Float64 \u001b[0m\u001b[90m Float64 \u001b[0m\n",
      "─────┼───────────────────────────\n",
      "   1 │     1.0      5.0      9.0\n",
      "   2 │     2.0      6.0     10.0\n",
      "   3 │     3.0      7.0     11.0\n",
      "1:3 x 2:4\n",
      "\u001b[1m3×3 DataFrame\u001b[0m\n",
      "\u001b[1m Row \u001b[0m│\u001b[1m Column2 \u001b[0m\u001b[1m Column3 \u001b[0m\u001b[1m Column4 \u001b[0m\n",
      "\u001b[1m     \u001b[0m│\u001b[90m Float64 \u001b[0m\u001b[90m Float64 \u001b[0m\u001b[90m Float64 \u001b[0m\n",
      "─────┼───────────────────────────\n",
      "   1 │     5.0      9.0     13.0\n",
      "   2 │     6.0     10.0     14.0\n",
      "   3 │     7.0     11.0     15.0\n",
      "2:4 x 1:3\n",
      "\u001b[1m3×3 DataFrame\u001b[0m\n",
      "\u001b[1m Row \u001b[0m│\u001b[1m Column1 \u001b[0m\u001b[1m Column2 \u001b[0m\u001b[1m Column3 \u001b[0m\n",
      "\u001b[1m     \u001b[0m│\u001b[90m Float64 \u001b[0m\u001b[90m Float64 \u001b[0m\u001b[90m Float64 \u001b[0m\n",
      "─────┼───────────────────────────\n",
      "   1 │     2.0      6.0     10.0\n",
      "   2 │     3.0      7.0     11.0\n",
      "   3 │     4.0      8.0     12.0\n",
      "2:4 x 2:4\n",
      "\u001b[1m3×3 DataFrame\u001b[0m\n",
      "\u001b[1m Row \u001b[0m│\u001b[1m Column2 \u001b[0m\u001b[1m Column3 \u001b[0m\u001b[1m Column4 \u001b[0m\n",
      "\u001b[1m     \u001b[0m│\u001b[90m Float64 \u001b[0m\u001b[90m Float64 \u001b[0m\u001b[90m Float64 \u001b[0m\n",
      "─────┼───────────────────────────\n",
      "   1 │     6.0     10.0     14.0\n",
      "   2 │     7.0     11.0     15.0\n",
      "   3 │     8.0     12.0     16.0\n",
      "Printing 6 x 6\n",
      "1:3 x 1:3\n",
      "\u001b[1m3×3 DataFrame\u001b[0m\n",
      "\u001b[1m Row \u001b[0m│\u001b[1m Column1 \u001b[0m\u001b[1m Column2 \u001b[0m\u001b[1m Column3 \u001b[0m\n",
      "\u001b[1m     \u001b[0m│\u001b[90m Float64 \u001b[0m\u001b[90m Float64 \u001b[0m\u001b[90m Float64 \u001b[0m\n",
      "─────┼───────────────────────────\n",
      "   1 │     1.0      7.0     13.0\n",
      "   2 │     2.0      8.0     14.0\n",
      "   3 │     3.0      9.0     15.0\n",
      "1:3 x 4:6\n",
      "\u001b[1m3×3 DataFrame\u001b[0m\n",
      "\u001b[1m Row \u001b[0m│\u001b[1m Column4 \u001b[0m\u001b[1m Column5 \u001b[0m\u001b[1m Column6 \u001b[0m\n",
      "\u001b[1m     \u001b[0m│\u001b[90m Float64 \u001b[0m\u001b[90m Float64 \u001b[0m\u001b[90m Float64 \u001b[0m\n",
      "─────┼───────────────────────────\n",
      "   1 │    19.0     25.0     31.0\n",
      "   2 │    20.0     26.0     32.0\n",
      "   3 │    21.0     27.0     33.0\n",
      "4:6 x 1:3\n",
      "\u001b[1m3×3 DataFrame\u001b[0m\n",
      "\u001b[1m Row \u001b[0m│\u001b[1m Column1 \u001b[0m\u001b[1m Column2 \u001b[0m\u001b[1m Column3 \u001b[0m\n",
      "\u001b[1m     \u001b[0m│\u001b[90m Float64 \u001b[0m\u001b[90m Float64 \u001b[0m\u001b[90m Float64 \u001b[0m\n",
      "─────┼───────────────────────────\n",
      "   1 │     4.0     10.0     16.0\n",
      "   2 │     5.0     11.0     17.0\n",
      "   3 │     6.0     12.0     18.0\n",
      "4:6 x 4:6\n",
      "\u001b[1m3×3 DataFrame\u001b[0m\n",
      "\u001b[1m Row \u001b[0m│\u001b[1m Column4 \u001b[0m\u001b[1m Column5 \u001b[0m\u001b[1m Column6 \u001b[0m\n",
      "\u001b[1m     \u001b[0m│\u001b[90m Float64 \u001b[0m\u001b[90m Float64 \u001b[0m\u001b[90m Float64 \u001b[0m\n",
      "─────┼───────────────────────────\n",
      "   1 │    22.0     28.0     34.0\n",
      "   2 │    23.0     29.0     35.0\n",
      "   3 │    24.0     30.0     36.0\n",
      "Printing 10 x 10\n",
      "1:3 x 1:3\n",
      "\u001b[1m3×3 DataFrame\u001b[0m\n",
      "\u001b[1m Row \u001b[0m│\u001b[1m Column1 \u001b[0m\u001b[1m Column2 \u001b[0m\u001b[1m Column3 \u001b[0m\n",
      "\u001b[1m     \u001b[0m│\u001b[90m Float64 \u001b[0m\u001b[90m Float64 \u001b[0m\u001b[90m Float64 \u001b[0m\n",
      "─────┼───────────────────────────\n",
      "   1 │     1.0     11.0     21.0\n",
      "   2 │     2.0     12.0     22.0\n",
      "   3 │     3.0     13.0     23.0\n",
      "1:3 x 8:10\n",
      "\u001b[1m3×3 DataFrame\u001b[0m\n",
      "\u001b[1m Row \u001b[0m│\u001b[1m Column8 \u001b[0m\u001b[1m Column9 \u001b[0m\u001b[1m Column10 \u001b[0m\n",
      "\u001b[1m     \u001b[0m│\u001b[90m Float64 \u001b[0m\u001b[90m Float64 \u001b[0m\u001b[90m Float64  \u001b[0m\n",
      "─────┼────────────────────────────\n",
      "   1 │    71.0     81.0      91.0\n",
      "   2 │    72.0     82.0      92.0\n",
      "   3 │    73.0     83.0      93.0\n",
      "8:10 x 1:3\n",
      "\u001b[1m3×3 DataFrame\u001b[0m\n",
      "\u001b[1m Row \u001b[0m│\u001b[1m Column1 \u001b[0m\u001b[1m Column2 \u001b[0m\u001b[1m Column3 \u001b[0m\n",
      "\u001b[1m     \u001b[0m│\u001b[90m Float64 \u001b[0m\u001b[90m Float64 \u001b[0m\u001b[90m Float64 \u001b[0m\n",
      "─────┼───────────────────────────\n",
      "   1 │     8.0     18.0     28.0\n",
      "   2 │     9.0     19.0     29.0\n",
      "   3 │    10.0     20.0     30.0\n",
      "8:10 x 8:10\n",
      "\u001b[1m3×3 DataFrame\u001b[0m\n",
      "\u001b[1m Row \u001b[0m│\u001b[1m Column8 \u001b[0m\u001b[1m Column9 \u001b[0m\u001b[1m Column10 \u001b[0m\n",
      "\u001b[1m     \u001b[0m│\u001b[90m Float64 \u001b[0m\u001b[90m Float64 \u001b[0m\u001b[90m Float64  \u001b[0m\n",
      "─────┼────────────────────────────\n",
      "   1 │    78.0     88.0      98.0\n",
      "   2 │    79.0     89.0      99.0\n",
      "   3 │    80.0     90.0     100.0\n"
     ]
    }
   ],
   "source": [
    "OnePiece.data_frame.print(DataFrame())\n",
    "\n",
    "for (n_ro, n_co) in ((0, 1), (2, 2), (4, 2), (2, 4), (4, 4), (6, 6), (10, 10))\n",
    "\n",
    "    OnePiece.data_frame.print(OnePiece.data_frame.simulate(n_ro, n_co))\n",
    "\n",
    "end"
   ]
  },
  {
   "cell_type": "markdown",
   "id": "41a10f98",
   "metadata": {},
   "source": [
    "## separate_row"
   ]
  },
  {
   "cell_type": "code",
   "execution_count": 7,
   "id": "a93a778f",
   "metadata": {
    "execution": {
     "iopub.execute_input": "2022-07-13T16:46:35.192000Z",
     "iopub.status.busy": "2022-07-13T16:46:35.192000Z",
     "iopub.status.idle": "2022-07-13T16:46:35.773000Z",
     "shell.execute_reply": "2022-07-13T16:46:35.773000Z"
    }
   },
   "outputs": [
    {
     "data": {
      "text/plain": [
       "([\"r1\", \"r2\"], \u001b[1m2×2 DataFrame\u001b[0m\n",
       "\u001b[1m Row \u001b[0m│\u001b[1m Column 1 \u001b[0m\u001b[1m Column 2 \u001b[0m\n",
       "\u001b[1m     \u001b[0m│\u001b[90m Int64    \u001b[0m\u001b[90m Int64    \u001b[0m\n",
       "─────┼────────────────────\n",
       "   1 │        1         3\n",
       "   2 │        2         4)"
      ]
     },
     "execution_count": 7,
     "metadata": {},
     "output_type": "execute_result"
    }
   ],
   "source": [
    "da = DataFrame(\"Actual row\" => [\"r1\", \"r2\"], \"Column 1\" => [1, 2], \"Column 2\" => [3, 4])\n",
    "\n",
    "OnePiece.data_frame.separate_row(da)"
   ]
  },
  {
   "cell_type": "markdown",
   "id": "46612f8c",
   "metadata": {},
   "source": [
    "## simulate"
   ]
  },
  {
   "cell_type": "code",
   "execution_count": 8,
   "id": "381fd96e",
   "metadata": {
    "execution": {
     "iopub.execute_input": "2022-07-13T16:46:35.777000Z",
     "iopub.status.busy": "2022-07-13T16:46:35.777000Z",
     "iopub.status.idle": "2022-07-13T16:46:35.857000Z",
     "shell.execute_reply": "2022-07-13T16:46:35.857000Z"
    }
   },
   "outputs": [
    {
     "data": {
      "text/html": [
       "<div class=\"data-frame\"><p>3 rows × 4 columns</p><table class=\"data-frame\"><thead><tr><th></th><th>Column1</th><th>Column2</th><th>Column3</th><th>Column4</th></tr><tr><th></th><th title=\"Float64\">Float64</th><th title=\"Float64\">Float64</th><th title=\"Float64\">Float64</th><th title=\"Float64\">Float64</th></tr></thead><tbody><tr><th>1</th><td>1.0</td><td>4.0</td><td>7.0</td><td>10.0</td></tr><tr><th>2</th><td>2.0</td><td>5.0</td><td>8.0</td><td>11.0</td></tr><tr><th>3</th><td>3.0</td><td>6.0</td><td>9.0</td><td>12.0</td></tr></tbody></table></div>"
      ],
      "text/latex": [
       "\\begin{tabular}{r|cccc}\n",
       "\t& Column1 & Column2 & Column3 & Column4\\\\\n",
       "\t\\hline\n",
       "\t& Float64 & Float64 & Float64 & Float64\\\\\n",
       "\t\\hline\n",
       "\t1 & 1.0 & 4.0 & 7.0 & 10.0 \\\\\n",
       "\t2 & 2.0 & 5.0 & 8.0 & 11.0 \\\\\n",
       "\t3 & 3.0 & 6.0 & 9.0 & 12.0 \\\\\n",
       "\\end{tabular}\n"
      ],
      "text/plain": [
       "\u001b[1m3×4 DataFrame\u001b[0m\n",
       "\u001b[1m Row \u001b[0m│\u001b[1m Column1 \u001b[0m\u001b[1m Column2 \u001b[0m\u001b[1m Column3 \u001b[0m\u001b[1m Column4 \u001b[0m\n",
       "\u001b[1m     \u001b[0m│\u001b[90m Float64 \u001b[0m\u001b[90m Float64 \u001b[0m\u001b[90m Float64 \u001b[0m\u001b[90m Float64 \u001b[0m\n",
       "─────┼────────────────────────────────────\n",
       "   1 │     1.0      4.0      7.0     10.0\n",
       "   2 │     2.0      5.0      8.0     11.0\n",
       "   3 │     3.0      6.0      9.0     12.0"
      ]
     },
     "execution_count": 8,
     "metadata": {},
     "output_type": "execute_result"
    }
   ],
   "source": [
    "OnePiece.data_frame.simulate(3, 4)"
   ]
  }
 ],
 "metadata": {
  "@webio": {
   "lastCommId": null,
   "lastKernelId": null
  },
  "kernelspec": {
   "display_name": "Julia 1.7.3",
   "language": "julia",
   "name": "julia-1.7"
  },
  "language_info": {
   "file_extension": ".jl",
   "mimetype": "application/julia",
   "name": "julia",
   "version": "1.7.3"
  }
 },
 "nbformat": 4,
 "nbformat_minor": 5
}
