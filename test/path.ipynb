{
 "cells": [
  {
   "cell_type": "code",
   "execution_count": null,
   "id": "baf12f00",
   "metadata": {},
   "outputs": [],
   "source": [
    "using Revise\n",
    "using OnePiece"
   ]
  },
  {
   "cell_type": "markdown",
   "id": "b6f90585",
   "metadata": {},
   "source": [
    "## clean"
   ]
  },
  {
   "cell_type": "code",
   "execution_count": null,
   "id": "ec0ee1af",
   "metadata": {},
   "outputs": [],
   "source": [
    "OnePiece.path.clean(\"a_b.c-d+e!f%g%h]iJK\")"
   ]
  },
  {
   "cell_type": "markdown",
   "id": "9b1b5bd5",
   "metadata": {},
   "source": [
    "## error_extension"
   ]
  },
  {
   "cell_type": "code",
   "execution_count": null,
   "id": "820a85f3",
   "metadata": {},
   "outputs": [],
   "source": [
    "OnePiece.path.error_extension(\"file.extension\", \".extension\")\n",
    "\n",
    "for ex in (\"extension\", \".another_extension\")\n",
    "\n",
    "    try\n",
    "\n",
    "        OnePiece.path.error_extension(\"file.extension\", ex)\n",
    "\n",
    "    catch er\n",
    "\n",
    "        println(er)\n",
    "\n",
    "    end\n",
    "\n",
    "end"
   ]
  },
  {
   "cell_type": "markdown",
   "id": "8389f8ff",
   "metadata": {},
   "source": [
    "## error_missing"
   ]
  },
  {
   "cell_type": "code",
   "execution_count": null,
   "id": "7fa47fca",
   "metadata": {},
   "outputs": [],
   "source": [
    "go = \"test/path.ipynb\"\n",
    "\n",
    "OnePiece.path.error_missing(dirname(@__DIR__), (go,))"
   ]
  },
  {
   "cell_type": "code",
   "execution_count": null,
   "id": "88445946",
   "metadata": {},
   "outputs": [],
   "source": [
    "try\n",
    "\n",
    "    OnePiece.path.error_missing(dirname(@__DIR__), (go, \"missing/file\", \"missing/directory/\"))\n",
    "\n",
    "catch er\n",
    "\n",
    "    println(er)\n",
    "\n",
    "end"
   ]
  },
  {
   "cell_type": "markdown",
   "id": "83db080c",
   "metadata": {},
   "source": [
    "## make_absolute"
   ]
  },
  {
   "cell_type": "code",
   "execution_count": null,
   "id": "b2354689",
   "metadata": {},
   "outputs": [],
   "source": [
    "for pa in (\"~/file\", \"~/directory/\")\n",
    "\n",
    "    println(OnePiece.path.make_absolute(pa))\n",
    "\n",
    "end"
   ]
  },
  {
   "cell_type": "markdown",
   "id": "3dc5bf93",
   "metadata": {},
   "source": [
    "## move"
   ]
  },
  {
   "cell_type": "code",
   "execution_count": null,
   "id": "f30f1f5c",
   "metadata": {},
   "outputs": [],
   "source": [
    "te = joinpath(tempdir(), \"OnePiece.path.move\")\n",
    "\n",
    "rm(te, recursive = true)\n",
    "\n",
    "mkdir(te)\n",
    "\n",
    "di1 = mkpath(joinpath(te, \"di1\"))\n",
    "\n",
    "di2 = mkpath(joinpath(te, \"di2\"))\n",
    "\n",
    "di3 = mkpath(joinpath(te, \"di3\"))\n",
    "\n",
    "fi1 = joinpath(di1, \"fi1\")\n",
    "\n",
    "fi2 = joinpath(di2, \"fi2\")\n",
    "\n",
    "touch(fi1)\n",
    "\n",
    "touch(fi2)\n",
    "\n",
    "run(`tree $te`)"
   ]
  },
  {
   "cell_type": "code",
   "execution_count": null,
   "id": "d71a8593",
   "metadata": {},
   "outputs": [],
   "source": [
    "fi12 = replace(fi1, \"di1\" => \"di3\")\n",
    "\n",
    "OnePiece.path.move(fi1, fi12)"
   ]
  },
  {
   "cell_type": "code",
   "execution_count": null,
   "id": "25aefd1c",
   "metadata": {},
   "outputs": [],
   "source": [
    "run(`tree $te`)"
   ]
  },
  {
   "cell_type": "code",
   "execution_count": null,
   "id": "785c2824",
   "metadata": {},
   "outputs": [],
   "source": [
    "try\n",
    "\n",
    "    OnePiece.path.move(di2, di3)\n",
    "\n",
    "catch er\n",
    "\n",
    "    println(er)\n",
    "\n",
    "end"
   ]
  },
  {
   "cell_type": "code",
   "execution_count": null,
   "id": "78de98f4",
   "metadata": {},
   "outputs": [],
   "source": [
    "println(OnePiece.path.move(di2, di3, force = true))\n",
    "\n",
    "run(`tree $te`)"
   ]
  },
  {
   "cell_type": "markdown",
   "id": "2d266229",
   "metadata": {},
   "source": [
    "## remove_extension"
   ]
  },
  {
   "cell_type": "code",
   "execution_count": null,
   "id": "0b8beaf4",
   "metadata": {},
   "outputs": [],
   "source": [
    "OnePiece.path.remove_extension(\"/path/to/a/file.extension\")"
   ]
  },
  {
   "cell_type": "code",
   "execution_count": null,
   "id": "4ed2e422",
   "metadata": {},
   "outputs": [],
   "source": [
    "OnePiece.path.remove_extension(\"/path/to/a/file\")"
   ]
  },
  {
   "cell_type": "code",
   "execution_count": null,
   "id": "e2529002",
   "metadata": {},
   "outputs": [],
   "source": [
    "OnePiece.path.remove_extension(\"/path/to/a/directory/\")"
   ]
  },
  {
   "cell_type": "markdown",
   "id": "9d955e7a",
   "metadata": {},
   "source": [
    "## sed_recursively"
   ]
  },
  {
   "cell_type": "code",
   "execution_count": null,
   "id": "338fa3f1",
   "metadata": {},
   "outputs": [],
   "source": [
    "fi1 = joinpath(te, \"fi1\")\n",
    "\n",
    "fi2 = joinpath(te, \"fi2\")\n",
    "\n",
    "open(fi1, \"w\") do io\n",
    "\n",
    "    write(io, \"Before\")\n",
    "\n",
    "end\n",
    "\n",
    "open(fi2, \"w\") do io\n",
    "\n",
    "    write(io, \"BeforeBefore\")\n",
    "\n",
    "end\n",
    "\n",
    "println(readline(open(fi1)))\n",
    "\n",
    "println(readline(open(fi2)))"
   ]
  },
  {
   "cell_type": "code",
   "execution_count": null,
   "id": "0cfdbc0d",
   "metadata": {},
   "outputs": [],
   "source": [
    "OnePiece.path.sed_recursively(te, (\"Before\" => \"After\",))\n",
    "\n",
    "println(readline(open(fi1)))\n",
    "\n",
    "println(readline(open(fi2)))"
   ]
  },
  {
   "cell_type": "markdown",
   "id": "e39c2405",
   "metadata": {},
   "source": [
    "## select"
   ]
  },
  {
   "cell_type": "code",
   "execution_count": null,
   "id": "a5f0824e",
   "metadata": {},
   "outputs": [],
   "source": [
    "di = homedir()\n",
    "\n",
    "OnePiece.path.select(di)"
   ]
  },
  {
   "cell_type": "code",
   "execution_count": null,
   "id": "ab60cb6f",
   "metadata": {},
   "outputs": [],
   "source": [
    "OnePiece.path.select(di, ig_ = [], ke_ = [r\"^\\.\"], jo = false)"
   ]
  },
  {
   "cell_type": "markdown",
   "id": "62ab3617",
   "metadata": {},
   "source": [
    "## shorten"
   ]
  },
  {
   "cell_type": "code",
   "execution_count": null,
   "id": "db6f4c61",
   "metadata": {},
   "outputs": [],
   "source": [
    "pa = @__DIR__"
   ]
  },
  {
   "cell_type": "code",
   "execution_count": null,
   "id": "abfe4c66",
   "metadata": {},
   "outputs": [],
   "source": [
    "try\n",
    "\n",
    "    OnePiece.path.shorten(pa, \"Shanks\")\n",
    "\n",
    "catch er\n",
    "\n",
    "    println(er)\n",
    "\n",
    "end"
   ]
  },
  {
   "cell_type": "code",
   "execution_count": null,
   "id": "465a8e0a",
   "metadata": {},
   "outputs": [],
   "source": [
    "for n_ba in (9, 2, 1, 0)\n",
    "\n",
    "    println(OnePiece.path.shorten(pa, n_ba))\n",
    "\n",
    "end"
   ]
  },
  {
   "cell_type": "code",
   "execution_count": null,
   "id": "c51e4bd0",
   "metadata": {},
   "outputs": [],
   "source": [
    "for di in (\"OnePiece.jl\", \"test\", \"OnePiece.jl/test\")\n",
    "\n",
    "    println(OnePiece.path.shorten(pa, di))\n",
    "\n",
    "end"
   ]
  },
  {
   "cell_type": "code",
   "execution_count": null,
   "id": "0dd7d1c7",
   "metadata": {},
   "outputs": [],
   "source": [
    "for sh in (-1, 1)\n",
    "\n",
    "    println(OnePiece.path.shorten(pa, \"OnePiece.jl\", sh = sh))\n",
    "\n",
    "end"
   ]
  }
 ],
 "metadata": {
  "@webio": {
   "lastCommId": null,
   "lastKernelId": null
  },
  "kernelspec": {
   "display_name": "Julia 1.7.3",
   "language": "julia",
   "name": "julia-1.7"
  },
  "language_info": {
   "file_extension": ".jl",
   "mimetype": "application/julia",
   "name": "julia",
   "version": "1.7.3"
  }
 },
 "nbformat": 4,
 "nbformat_minor": 5
}
