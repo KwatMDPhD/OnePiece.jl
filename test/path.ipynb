{
 "cells": [
  {
   "cell_type": "code",
   "execution_count": 1,
   "id": "baf12f00",
   "metadata": {
    "execution": {
     "iopub.execute_input": "2022-07-02T16:52:11.492000Z",
     "iopub.status.busy": "2022-07-02T16:52:11.157000Z",
     "iopub.status.idle": "2022-07-02T16:52:16.817000Z",
     "shell.execute_reply": "2022-07-02T16:52:16.773000Z"
    }
   },
   "outputs": [],
   "source": [
    "using Revise\n",
    "using OnePiece"
   ]
  },
  {
   "cell_type": "markdown",
   "id": "b6f90585",
   "metadata": {},
   "source": [
    "## clean"
   ]
  },
  {
   "cell_type": "code",
   "execution_count": 2,
   "id": "ec0ee1af",
   "metadata": {
    "execution": {
     "iopub.execute_input": "2022-07-02T16:52:17.201000Z",
     "iopub.status.busy": "2022-07-02T16:52:16.822000Z",
     "iopub.status.idle": "2022-07-02T16:52:18.654000Z",
     "shell.execute_reply": "2022-07-02T16:52:18.653000Z"
    }
   },
   "outputs": [
    {
     "name": "stdout",
     "output_type": "stream",
     "text": [
      "a_b.c-d+e!f%g%h]iJK ==> a_b.c_d_e_f_g_h_ijk\n"
     ]
    },
    {
     "data": {
      "text/plain": [
       "\"a_b.c_d_e_f_g_h_ijk\""
      ]
     },
     "execution_count": 2,
     "metadata": {},
     "output_type": "execute_result"
    }
   ],
   "source": [
    "OnePiece.path.clean(\"a_b.c-d+e!f%g%h]iJK\")"
   ]
  },
  {
   "cell_type": "markdown",
   "id": "9b1b5bd5",
   "metadata": {},
   "source": [
    "## error_extension"
   ]
  },
  {
   "cell_type": "code",
   "execution_count": 3,
   "id": "820a85f3",
   "metadata": {
    "execution": {
     "iopub.execute_input": "2022-07-02T16:52:18.657000Z",
     "iopub.status.busy": "2022-07-02T16:52:18.657000Z",
     "iopub.status.idle": "2022-07-02T16:52:19.447000Z",
     "shell.execute_reply": "2022-07-02T16:52:19.447000Z"
    }
   },
   "outputs": [
    {
     "name": "stdout",
     "output_type": "stream",
     "text": [
      "ErrorException(\"extension\")\n",
      "ErrorException(\".another_extension\")\n"
     ]
    }
   ],
   "source": [
    "OnePiece.path.error_extension(\"file.extension\", \".extension\")\n",
    "\n",
    "for ex in (\"extension\", \".another_extension\")\n",
    "\n",
    "    try\n",
    "\n",
    "        OnePiece.path.error_extension(\"file.extension\", ex)\n",
    "\n",
    "    catch er\n",
    "\n",
    "        println(er)\n",
    "\n",
    "    end\n",
    "\n",
    "end"
   ]
  },
  {
   "cell_type": "markdown",
   "id": "8389f8ff",
   "metadata": {},
   "source": [
    "## error_missing"
   ]
  },
  {
   "cell_type": "code",
   "execution_count": 4,
   "id": "7fa47fca",
   "metadata": {
    "execution": {
     "iopub.execute_input": "2022-07-02T16:52:19.450000Z",
     "iopub.status.busy": "2022-07-02T16:52:19.450000Z",
     "iopub.status.idle": "2022-07-02T16:52:19.504000Z",
     "shell.execute_reply": "2022-07-02T16:52:19.504000Z"
    }
   },
   "outputs": [],
   "source": [
    "go = \"test/path.ipynb\"\n",
    "\n",
    "OnePiece.path.error_missing(dirname(@__DIR__), (go,))"
   ]
  },
  {
   "cell_type": "code",
   "execution_count": 5,
   "id": "88445946",
   "metadata": {
    "execution": {
     "iopub.execute_input": "2022-07-02T16:52:19.507000Z",
     "iopub.status.busy": "2022-07-02T16:52:19.507000Z",
     "iopub.status.idle": "2022-07-02T16:52:19.574000Z",
     "shell.execute_reply": "2022-07-02T16:52:19.574000Z"
    }
   },
   "outputs": [
    {
     "name": "stdout",
     "output_type": "stream",
     "text": [
      "ErrorException(\"[\\\"/Users/kwat/craft/OnePiece.jl/missing/file\\\", \\\"/Users/kwat/craft/OnePiece.jl/missing/directory/\\\"]\")\n"
     ]
    }
   ],
   "source": [
    "try\n",
    "\n",
    "    OnePiece.path.error_missing(dirname(@__DIR__), (go, \"missing/file\", \"missing/directory/\"))\n",
    "\n",
    "catch er\n",
    "\n",
    "    println(er)\n",
    "\n",
    "end"
   ]
  },
  {
   "cell_type": "markdown",
   "id": "83db080c",
   "metadata": {},
   "source": [
    "## make_absolute"
   ]
  },
  {
   "cell_type": "code",
   "execution_count": 6,
   "id": "b2354689",
   "metadata": {
    "execution": {
     "iopub.execute_input": "2022-07-02T16:52:19.578000Z",
     "iopub.status.busy": "2022-07-02T16:52:19.577000Z",
     "iopub.status.idle": "2022-07-02T16:52:19.603000Z",
     "shell.execute_reply": "2022-07-02T16:52:19.603000Z"
    }
   },
   "outputs": [
    {
     "name": "stdout",
     "output_type": "stream",
     "text": [
      "/Users/kwat/file\n",
      "/Users/kwat/directory\n"
     ]
    }
   ],
   "source": [
    "for pa in (\"~/file\", \"~/directory/\")\n",
    "\n",
    "    println(OnePiece.path.make_absolute(pa))\n",
    "\n",
    "end"
   ]
  },
  {
   "cell_type": "markdown",
   "id": "3dc5bf93",
   "metadata": {},
   "source": [
    "## move"
   ]
  },
  {
   "cell_type": "code",
   "execution_count": 7,
   "id": "f30f1f5c",
   "metadata": {
    "execution": {
     "iopub.execute_input": "2022-07-02T16:52:19.607000Z",
     "iopub.status.busy": "2022-07-02T16:52:19.606000Z",
     "iopub.status.idle": "2022-07-02T16:52:20.023000Z",
     "shell.execute_reply": "2022-07-02T16:52:20.023000Z"
    }
   },
   "outputs": [
    {
     "name": "stdout",
     "output_type": "stream",
     "text": [
      "/var/folders/mg/30npdf0s1z36txb2qvgylrzh0000gn/T/OnePiece.path.move\n",
      "├── di1\n",
      "│   └── fi1\n",
      "├── di2\n",
      "│   └── fi2\n",
      "└── di3\n",
      "\n",
      "3 directories, 2 files\n"
     ]
    },
    {
     "data": {
      "text/plain": [
       "Process(`\u001b[4mtree\u001b[24m \u001b[4m/var/folders/mg/30npdf0s1z36txb2qvgylrzh0000gn/T/OnePiece.path.move\u001b[24m`, ProcessExited(0))"
      ]
     },
     "execution_count": 7,
     "metadata": {},
     "output_type": "execute_result"
    }
   ],
   "source": [
    "te = joinpath(tempdir(), \"OnePiece.path.move\")\n",
    "\n",
    "rm(te, recursive=true)\n",
    "\n",
    "mkdir(te)\n",
    "\n",
    "di1 = mkpath(joinpath(te, \"di1\"))\n",
    "\n",
    "di2 = mkpath(joinpath(te, \"di2\"))\n",
    "\n",
    "di3 = mkpath(joinpath(te, \"di3\"))\n",
    "\n",
    "fi1 = joinpath(di1, \"fi1\")\n",
    "\n",
    "fi2 = joinpath(di2, \"fi2\")\n",
    "\n",
    "touch(fi1)\n",
    "\n",
    "touch(fi2)\n",
    "\n",
    "run(`tree $te`)"
   ]
  },
  {
   "cell_type": "code",
   "execution_count": 8,
   "id": "d71a8593",
   "metadata": {
    "execution": {
     "iopub.execute_input": "2022-07-02T16:52:20.026000Z",
     "iopub.status.busy": "2022-07-02T16:52:20.026000Z",
     "iopub.status.idle": "2022-07-02T16:52:20.239000Z",
     "shell.execute_reply": "2022-07-02T16:52:20.238000Z"
    }
   },
   "outputs": [
    {
     "name": "stdout",
     "output_type": "stream",
     "text": [
      "OnePiece.path.move/di1/fi1 ==> OnePiece.path.move/di3/fi1\n"
     ]
    },
    {
     "data": {
      "text/plain": [
       "\"/var/folders/mg/30npdf0s1z36txb2qvgylrzh0000gn/T/OnePiece.path.move/di3/fi1\""
      ]
     },
     "execution_count": 8,
     "metadata": {},
     "output_type": "execute_result"
    }
   ],
   "source": [
    "fi12 = replace(fi1, \"di1\" => \"di3\")\n",
    "\n",
    "OnePiece.path.move(fi1, fi12)"
   ]
  },
  {
   "cell_type": "code",
   "execution_count": 9,
   "id": "25aefd1c",
   "metadata": {
    "execution": {
     "iopub.execute_input": "2022-07-02T16:52:20.242000Z",
     "iopub.status.busy": "2022-07-02T16:52:20.242000Z",
     "iopub.status.idle": "2022-07-02T16:52:20.270000Z",
     "shell.execute_reply": "2022-07-02T16:52:20.270000Z"
    }
   },
   "outputs": [
    {
     "name": "stdout",
     "output_type": "stream",
     "text": [
      "/var/folders/mg/30npdf0s1z36txb2qvgylrzh0000gn/T/OnePiece.path.move\n",
      "├── di1\n",
      "├── di2\n",
      "│   └── fi2\n",
      "└── di3\n",
      "    └── fi1\n",
      "\n",
      "3 directories, 2 files\n"
     ]
    },
    {
     "data": {
      "text/plain": [
       "Process(`\u001b[4mtree\u001b[24m \u001b[4m/var/folders/mg/30npdf0s1z36txb2qvgylrzh0000gn/T/OnePiece.path.move\u001b[24m`, ProcessExited(0))"
      ]
     },
     "execution_count": 9,
     "metadata": {},
     "output_type": "execute_result"
    }
   ],
   "source": [
    "run(`tree $te`)"
   ]
  },
  {
   "cell_type": "code",
   "execution_count": 10,
   "id": "785c2824",
   "metadata": {
    "execution": {
     "iopub.execute_input": "2022-07-02T16:52:20.273000Z",
     "iopub.status.busy": "2022-07-02T16:52:20.273000Z",
     "iopub.status.idle": "2022-07-02T16:52:20.351000Z",
     "shell.execute_reply": "2022-07-02T16:52:20.351000Z"
    }
   },
   "outputs": [
    {
     "name": "stdout",
     "output_type": "stream",
     "text": [
      "OnePiece.path.move/di2 ==> OnePiece.path.move/di3\n",
      "ArgumentError(\"'/var/folders/mg/30npdf0s1z36txb2qvgylrzh0000gn/T/OnePiece.path.move/di3' exists. `force=true` is required to remove '/var/folders/mg/30npdf0s1z36txb2qvgylrzh0000gn/T/OnePiece.path.move/di3' before moving.\")\n"
     ]
    }
   ],
   "source": [
    "try\n",
    "\n",
    "    OnePiece.path.move(di2, di3)\n",
    "\n",
    "catch er\n",
    "\n",
    "    println(er)\n",
    "\n",
    "end"
   ]
  },
  {
   "cell_type": "code",
   "execution_count": 11,
   "id": "78de98f4",
   "metadata": {
    "execution": {
     "iopub.execute_input": "2022-07-02T16:52:20.354000Z",
     "iopub.status.busy": "2022-07-02T16:52:20.354000Z",
     "iopub.status.idle": "2022-07-02T16:52:20.398000Z",
     "shell.execute_reply": "2022-07-02T16:52:20.398000Z"
    }
   },
   "outputs": [
    {
     "name": "stdout",
     "output_type": "stream",
     "text": [
      "OnePiece.path.move/di2 ==> OnePiece.path.move/di3\n",
      "/var/folders/mg/30npdf0s1z36txb2qvgylrzh0000gn/T/OnePiece.path.move/di3\n",
      "/var/folders/mg/30npdf0s1z36txb2qvgylrzh0000gn/T/OnePiece.path.move\n",
      "├── di1\n",
      "└── di3\n",
      "    └── fi2\n",
      "\n",
      "2 directories, 1 file\n"
     ]
    },
    {
     "data": {
      "text/plain": [
       "Process(`\u001b[4mtree\u001b[24m \u001b[4m/var/folders/mg/30npdf0s1z36txb2qvgylrzh0000gn/T/OnePiece.path.move\u001b[24m`, ProcessExited(0))"
      ]
     },
     "execution_count": 11,
     "metadata": {},
     "output_type": "execute_result"
    }
   ],
   "source": [
    "println(OnePiece.path.move(di2, di3, force = true))\n",
    "\n",
    "run(`tree $te`)"
   ]
  },
  {
   "cell_type": "markdown",
   "id": "2d266229",
   "metadata": {},
   "source": [
    "## remove_extension"
   ]
  },
  {
   "cell_type": "code",
   "execution_count": 12,
   "id": "0b8beaf4",
   "metadata": {
    "execution": {
     "iopub.execute_input": "2022-07-02T16:52:20.402000Z",
     "iopub.status.busy": "2022-07-02T16:52:20.402000Z",
     "iopub.status.idle": "2022-07-02T16:52:20.423000Z",
     "shell.execute_reply": "2022-07-02T16:52:20.422000Z"
    }
   },
   "outputs": [
    {
     "data": {
      "text/plain": [
       "\"file\""
      ]
     },
     "execution_count": 12,
     "metadata": {},
     "output_type": "execute_result"
    }
   ],
   "source": [
    "OnePiece.path.remove_extension(\"/path/to/a/file.extension\")"
   ]
  },
  {
   "cell_type": "code",
   "execution_count": 13,
   "id": "4ed2e422",
   "metadata": {
    "execution": {
     "iopub.execute_input": "2022-07-02T16:52:20.426000Z",
     "iopub.status.busy": "2022-07-02T16:52:20.426000Z",
     "iopub.status.idle": "2022-07-02T16:52:20.440000Z",
     "shell.execute_reply": "2022-07-02T16:52:20.440000Z"
    }
   },
   "outputs": [
    {
     "data": {
      "text/plain": [
       "\"file\""
      ]
     },
     "execution_count": 13,
     "metadata": {},
     "output_type": "execute_result"
    }
   ],
   "source": [
    "OnePiece.path.remove_extension(\"/path/to/a/file\")"
   ]
  },
  {
   "cell_type": "code",
   "execution_count": 14,
   "id": "e2529002",
   "metadata": {
    "execution": {
     "iopub.execute_input": "2022-07-02T16:52:20.445000Z",
     "iopub.status.busy": "2022-07-02T16:52:20.445000Z",
     "iopub.status.idle": "2022-07-02T16:52:20.458000Z",
     "shell.execute_reply": "2022-07-02T16:52:20.458000Z"
    }
   },
   "outputs": [
    {
     "data": {
      "text/plain": [
       "\"\""
      ]
     },
     "execution_count": 14,
     "metadata": {},
     "output_type": "execute_result"
    }
   ],
   "source": [
    "OnePiece.path.remove_extension(\"/path/to/a/directory/\")"
   ]
  },
  {
   "cell_type": "markdown",
   "id": "9d955e7a",
   "metadata": {},
   "source": [
    "## sed_recursively"
   ]
  },
  {
   "cell_type": "code",
   "execution_count": 15,
   "id": "338fa3f1",
   "metadata": {
    "execution": {
     "iopub.execute_input": "2022-07-02T16:52:20.463000Z",
     "iopub.status.busy": "2022-07-02T16:52:20.463000Z",
     "iopub.status.idle": "2022-07-02T16:52:20.502000Z",
     "shell.execute_reply": "2022-07-02T16:52:20.502000Z"
    }
   },
   "outputs": [
    {
     "name": "stdout",
     "output_type": "stream",
     "text": [
      "Before\n",
      "BeforeBefore\n"
     ]
    }
   ],
   "source": [
    "fi1 = joinpath(te, \"fi1\")\n",
    "\n",
    "fi2 = joinpath(te, \"fi2\")\n",
    "\n",
    "open(fi1, \"w\") do io\n",
    "\n",
    "    write(io, \"Before\")\n",
    "\n",
    "end\n",
    "\n",
    "open(fi2, \"w\") do io\n",
    "\n",
    "    write(io, \"BeforeBefore\")\n",
    "\n",
    "end\n",
    "\n",
    "println(readline(open(fi1)))\n",
    "\n",
    "println(readline(open(fi2)))"
   ]
  },
  {
   "cell_type": "code",
   "execution_count": 16,
   "id": "0cfdbc0d",
   "metadata": {
    "execution": {
     "iopub.execute_input": "2022-07-02T16:52:20.505000Z",
     "iopub.status.busy": "2022-07-02T16:52:20.505000Z",
     "iopub.status.idle": "2022-07-02T16:52:20.701000Z",
     "shell.execute_reply": "2022-07-02T16:52:20.701000Z"
    }
   },
   "outputs": [
    {
     "name": "stdout",
     "output_type": "stream",
     "text": [
      "After\n",
      "AfterAfter\n"
     ]
    }
   ],
   "source": [
    "OnePiece.path.sed_recursively(te, (\"Before\" => \"After\",))\n",
    "\n",
    "println(readline(open(fi1)))\n",
    "\n",
    "println(readline(open(fi2)))"
   ]
  },
  {
   "cell_type": "markdown",
   "id": "e39c2405",
   "metadata": {},
   "source": [
    "## select"
   ]
  },
  {
   "cell_type": "code",
   "execution_count": 17,
   "id": "a5f0824e",
   "metadata": {
    "execution": {
     "iopub.execute_input": "2022-07-02T16:52:20.705000Z",
     "iopub.status.busy": "2022-07-02T16:52:20.704000Z",
     "iopub.status.idle": "2022-07-02T16:52:21.955000Z",
     "shell.execute_reply": "2022-07-02T16:52:21.955000Z"
    }
   },
   "outputs": [
    {
     "data": {
      "text/plain": [
       "9-element Vector{Any}:\n",
       " \"/Users/kwat/Desktop\"\n",
       " \"/Users/kwat/Documents\"\n",
       " \"/Users/kwat/Downloads\"\n",
       " \"/Users/kwat/Library\"\n",
       " \"/Users/kwat/Movies\"\n",
       " \"/Users/kwat/Music\"\n",
       " \"/Users/kwat/Pictures\"\n",
       " \"/Users/kwat/Public\"\n",
       " \"/Users/kwat/craft\""
      ]
     },
     "execution_count": 17,
     "metadata": {},
     "output_type": "execute_result"
    }
   ],
   "source": [
    "di = homedir()\n",
    "\n",
    "OnePiece.path.select(di)"
   ]
  },
  {
   "cell_type": "code",
   "execution_count": 18,
   "id": "ab60cb6f",
   "metadata": {
    "execution": {
     "iopub.execute_input": "2022-07-02T16:52:21.958000Z",
     "iopub.status.busy": "2022-07-02T16:52:21.958000Z",
     "iopub.status.idle": "2022-07-02T16:52:22.093000Z",
     "shell.execute_reply": "2022-07-02T16:52:22.093000Z"
    }
   },
   "outputs": [
    {
     "data": {
      "text/plain": [
       "22-element Vector{Any}:\n",
       " \".DS_Store\"\n",
       " \".JuliaFormatter.toml\"\n",
       " \".NERDTreeBookmarks\"\n",
       " \".Trash\"\n",
       " \".bash_history\"\n",
       " \".cache\"\n",
       " \".config\"\n",
       " \".cups\"\n",
       " \".gitconfig\"\n",
       " \".ipython\"\n",
       " \".julia\"\n",
       " \".jupyter\"\n",
       " \".node_repl_history\"\n",
       " \".npm\"\n",
       " \".pyenv\"\n",
       " \".vim\"\n",
       " \".viminfo\"\n",
       " \".vimrc\"\n",
       " \".yarnrc\"\n",
       " \".zsh_history\"\n",
       " \".zsh_sessions\"\n",
       " \".zshrc\""
      ]
     },
     "execution_count": 18,
     "metadata": {},
     "output_type": "execute_result"
    }
   ],
   "source": [
    "OnePiece.path.select(di, ig_ = [], ke_ = [r\"^\\.\"], jo = false)"
   ]
  },
  {
   "cell_type": "markdown",
   "id": "62ab3617",
   "metadata": {},
   "source": [
    "## shorten"
   ]
  },
  {
   "cell_type": "code",
   "execution_count": 19,
   "id": "db6f4c61",
   "metadata": {
    "execution": {
     "iopub.execute_input": "2022-07-02T16:52:22.097000Z",
     "iopub.status.busy": "2022-07-02T16:52:22.097000Z",
     "iopub.status.idle": "2022-07-02T16:52:22.111000Z",
     "shell.execute_reply": "2022-07-02T16:52:22.111000Z"
    }
   },
   "outputs": [
    {
     "data": {
      "text/plain": [
       "\"/Users/kwat/craft/OnePiece.jl/test\""
      ]
     },
     "execution_count": 19,
     "metadata": {},
     "output_type": "execute_result"
    }
   ],
   "source": [
    "pa = @__DIR__"
   ]
  },
  {
   "cell_type": "code",
   "execution_count": 20,
   "id": "abfe4c66",
   "metadata": {
    "execution": {
     "iopub.execute_input": "2022-07-02T16:52:22.115000Z",
     "iopub.status.busy": "2022-07-02T16:52:22.115000Z",
     "iopub.status.idle": "2022-07-02T16:52:22.211000Z",
     "shell.execute_reply": "2022-07-02T16:52:22.211000Z"
    }
   },
   "outputs": [
    {
     "name": "stdout",
     "output_type": "stream",
     "text": [
      "ErrorException(\"\")\n"
     ]
    }
   ],
   "source": [
    "try\n",
    "\n",
    "    OnePiece.path.shorten(pa, \"Shanks\")\n",
    "\n",
    "catch er\n",
    "\n",
    "    println(er)\n",
    "\n",
    "end"
   ]
  },
  {
   "cell_type": "code",
   "execution_count": 21,
   "id": "465a8e0a",
   "metadata": {
    "execution": {
     "iopub.execute_input": "2022-07-02T16:52:22.214000Z",
     "iopub.status.busy": "2022-07-02T16:52:22.214000Z",
     "iopub.status.idle": "2022-07-02T16:52:22.240000Z",
     "shell.execute_reply": "2022-07-02T16:52:22.240000Z"
    }
   },
   "outputs": [
    {
     "name": "stdout",
     "output_type": "stream",
     "text": [
      "/Users/kwat/craft/OnePiece.jl/test\n",
      "craft/OnePiece.jl/test\n",
      "OnePiece.jl/test\n",
      "test\n"
     ]
    }
   ],
   "source": [
    "for n_ba in (9, 2, 1, 0)\n",
    "\n",
    "    println(OnePiece.path.shorten(pa, n_ba))\n",
    "\n",
    "end"
   ]
  },
  {
   "cell_type": "code",
   "execution_count": 22,
   "id": "c51e4bd0",
   "metadata": {
    "execution": {
     "iopub.execute_input": "2022-07-02T16:52:22.243000Z",
     "iopub.status.busy": "2022-07-02T16:52:22.243000Z",
     "iopub.status.idle": "2022-07-02T16:52:22.267000Z",
     "shell.execute_reply": "2022-07-02T16:52:22.266000Z"
    }
   },
   "outputs": [
    {
     "name": "stdout",
     "output_type": "stream",
     "text": [
      "OnePiece.jl/test\n",
      "test\n",
      "test\n"
     ]
    }
   ],
   "source": [
    "for di in (\"OnePiece.jl\", \"test\", \"OnePiece.jl/test\")\n",
    "\n",
    "    println(OnePiece.path.shorten(pa, di))\n",
    "\n",
    "end"
   ]
  },
  {
   "cell_type": "code",
   "execution_count": 23,
   "id": "0dd7d1c7",
   "metadata": {
    "execution": {
     "iopub.execute_input": "2022-07-02T16:52:22.270000Z",
     "iopub.status.busy": "2022-07-02T16:52:22.270000Z",
     "iopub.status.idle": "2022-07-02T16:52:22.348000Z",
     "shell.execute_reply": "2022-07-02T16:52:22.348000Z"
    }
   },
   "outputs": [
    {
     "name": "stdout",
     "output_type": "stream",
     "text": [
      "craft/OnePiece.jl/test\n",
      "test\n"
     ]
    }
   ],
   "source": [
    "for sh in (-1, 1)\n",
    "\n",
    "    println(OnePiece.path.shorten(pa, \"OnePiece.jl\", sh = sh))\n",
    "\n",
    "end"
   ]
  }
 ],
 "metadata": {
  "@webio": {
   "lastCommId": null,
   "lastKernelId": null
  },
  "kernelspec": {
   "display_name": "Julia 1.7.3",
   "language": "julia",
   "name": "julia-1.7"
  },
  "language_info": {
   "file_extension": ".jl",
   "mimetype": "application/julia",
   "name": "julia",
   "version": "1.7.3"
  }
 },
 "nbformat": 4,
 "nbformat_minor": 5
}
