{
 "cells": [
  {
   "cell_type": "code",
   "execution_count": null,
   "id": "772f0ecd",
   "metadata": {},
   "outputs": [],
   "source": [
    "using Revise\n",
    "using OnePiece\n",
    "using BenchmarkTools\n",
    "using DataFrames"
   ]
  },
  {
   "cell_type": "code",
   "execution_count": null,
   "id": "fb248118",
   "metadata": {},
   "outputs": [],
   "source": [
    "println(\"sum_1_absolute_and_0_count\")\n",
    "\n",
    "ve = [-2.0, -1, 0, 1, 2]\n",
    "\n",
    "in_ = convert(Vector{Bool}, [1, 1, 0, 0, 1])\n",
    "\n",
    "@btime OnePiece.feature_set_enrichment.sum_1_absolute_and_0_count(ve, in_)"
   ]
  },
  {
   "cell_type": "code",
   "execution_count": null,
   "id": "efbcb846",
   "metadata": {},
   "outputs": [],
   "source": [
    "fe_, sc_, fe1_ = OnePiece.feature_set_enrichment.make_benchmark(\"myc\")\n",
    "\n",
    "in_ = OnePiece.vector.is_in(fe_, fe1_)\n",
    "\n",
    "sc_fe_sa = DataFrame(\n",
    "    \"Feature\" => fe_,\n",
    "    \"Score\" => sc_,\n",
    "    \"Score x 10\" => sc_ * 10,\n",
    "    \"Constant\" => fill(0.8, length(fe_)),\n",
    ")\n",
    "\n",
    "se_fe_ =\n",
    "    OnePiece.gmt.read(joinpath(@__DIR__, \"feature_set_enrichment.data\", \"h.all.v7.1.symbols.gmt\"))"
   ]
  },
  {
   "cell_type": "code",
   "execution_count": null,
   "id": "9e17b873",
   "metadata": {},
   "outputs": [],
   "source": [
    "println(\"is_in\")\n",
    "\n",
    "@btime OnePiece.vector.is_in(fe_, fe1_)"
   ]
  },
  {
   "cell_type": "code",
   "execution_count": null,
   "id": "938c96ff",
   "metadata": {},
   "outputs": [],
   "source": [
    "println(\"score_set in_\")\n",
    "\n",
    "@btime OnePiece.feature_set_enrichment.score_set(fe_, sc_, fe1_, in_, pl = false)"
   ]
  },
  {
   "cell_type": "code",
   "execution_count": null,
   "id": "e25e876b",
   "metadata": {},
   "outputs": [],
   "source": [
    "println(\"score_set\")\n",
    "\n",
    "@btime OnePiece.feature_set_enrichment.score_set(fe_, sc_, fe1_, pl = false)"
   ]
  },
  {
   "cell_type": "code",
   "execution_count": null,
   "id": "7af9e403",
   "metadata": {},
   "outputs": [],
   "source": [
    "println(\"score_set se_fe_\")\n",
    "\n",
    "@btime OnePiece.feature_set_enrichment.score_set(fe_, sc_, se_fe_)"
   ]
  },
  {
   "cell_type": "code",
   "execution_count": null,
   "id": "d1d27936",
   "metadata": {},
   "outputs": [],
   "source": [
    "println(\"score_set se_fe_sa\")\n",
    "\n",
    "@btime OnePiece.feature_set_enrichment.score_set(sc_fe_sa, se_fe_)"
   ]
  },
  {
   "cell_type": "code",
   "execution_count": null,
   "id": "2af0ca36",
   "metadata": {},
   "outputs": [],
   "source": [
    "println(\"score_set_new\")\n",
    "\n",
    "@btime OnePiece.feature_set_enrichment.score_set_new(fe_, sc_, fe1_, pl = false)"
   ]
  },
  {
   "cell_type": "code",
   "execution_count": null,
   "id": "4f8f9080",
   "metadata": {},
   "outputs": [],
   "source": [
    "println(\"score_set_new se_fe_\")\n",
    "\n",
    "@btime OnePiece.feature_set_enrichment.score_set_new(fe_, sc_, se_fe_)"
   ]
  }
 ],
 "metadata": {
  "kernelspec": {
   "display_name": "Julia 1.7.3",
   "language": "julia",
   "name": "julia-1.7"
  },
  "language_info": {
   "file_extension": ".jl",
   "mimetype": "application/julia",
   "name": "julia",
   "version": "1.7.3"
  }
 },
 "nbformat": 4,
 "nbformat_minor": 5
}
