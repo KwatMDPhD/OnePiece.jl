{
 "cells": [
  {
   "cell_type": "code",
   "execution_count": 1,
   "id": "772f0ecd",
   "metadata": {
    "execution": {
     "iopub.execute_input": "2022-07-10T14:24:39.923000Z",
     "iopub.status.busy": "2022-07-10T14:24:39.539000Z",
     "iopub.status.idle": "2022-07-10T14:24:44.452000Z",
     "shell.execute_reply": "2022-07-10T14:24:44.403000Z"
    }
   },
   "outputs": [],
   "source": [
    "using OnePiece"
   ]
  },
  {
   "cell_type": "markdown",
   "id": "cdffcc16",
   "metadata": {},
   "source": [
    "---"
   ]
  },
  {
   "cell_type": "code",
   "execution_count": 2,
   "id": "ca60d677",
   "metadata": {
    "execution": {
     "iopub.execute_input": "2022-07-10T14:24:44.940000Z",
     "iopub.status.busy": "2022-07-10T14:24:44.471000Z",
     "iopub.status.idle": "2022-07-10T14:24:44.984000Z",
     "shell.execute_reply": "2022-07-10T14:24:44.983000Z"
    }
   },
   "outputs": [],
   "source": [
    "using BenchmarkTools\n",
    "using DataFrames"
   ]
  },
  {
   "cell_type": "markdown",
   "id": "5c5b61dc",
   "metadata": {},
   "source": [
    "## _sum_1_absolute_and_0_count"
   ]
  },
  {
   "cell_type": "code",
   "execution_count": 3,
   "id": "fb248118",
   "metadata": {
    "execution": {
     "iopub.execute_input": "2022-07-10T14:24:44.986000Z",
     "iopub.status.busy": "2022-07-10T14:24:44.986000Z",
     "iopub.status.idle": "2022-07-10T14:24:47.047000Z",
     "shell.execute_reply": "2022-07-10T14:24:47.047000Z"
    }
   },
   "outputs": [
    {
     "name": "stdout",
     "output_type": "stream",
     "text": [
      "  7.082 ns (0 allocations: 0 bytes)\n"
     ]
    },
    {
     "data": {
      "text/plain": [
       "(5.0, 2.0)"
      ]
     },
     "execution_count": 3,
     "metadata": {},
     "output_type": "execute_result"
    }
   ],
   "source": [
    "ve = [-2.0, -1, 0, 1, 2]\n",
    "\n",
    "in_ = convert(Vector{Bool}, [1, 1, 0, 0, 1])\n",
    "\n",
    "@btime OnePiece.feature_set_enrichment._sum_1_absolute_and_0_count(ve, in_)"
   ]
  },
  {
   "cell_type": "markdown",
   "id": "24b266ee",
   "metadata": {},
   "source": [
    "## More"
   ]
  },
  {
   "cell_type": "code",
   "execution_count": 4,
   "id": "efbcb846",
   "metadata": {
    "execution": {
     "iopub.execute_input": "2022-07-10T14:24:47.051000Z",
     "iopub.status.busy": "2022-07-10T14:24:47.050000Z",
     "iopub.status.idle": "2022-07-10T14:24:59.746000Z",
     "shell.execute_reply": "2022-07-10T14:24:59.745000Z"
    }
   },
   "outputs": [
    {
     "data": {
      "text/plain": [
       "Dict{Any, Any} with 50 entries:\n",
       "  \"HALLMARK_ANGIOGENESIS\"   => SubString{String}[\"VCAN\", \"POSTN\", \"FSTL1\", \"LRP…\n",
       "  \"HALLMARK_MYOGENESIS\"     => SubString{String}[\"ACTA1\", \"TNNI2\", \"MYL1\", \"TNN…\n",
       "  \"HALLMARK_PEROXISOME\"     => SubString{String}[\"ABCD3\", \"ACOT8\", \"ACOX1\", \"AC…\n",
       "  \"HALLMARK_UV_RESPONSE_DN\" => SubString{String}[\"TJP1\", \"NFIB\", \"TGFBR3\", \"TFP…\n",
       "  \"HALLMARK_NOTCH_SIGNALIN… => SubString{String}[\"JAG1\", \"NOTCH3\", \"NOTCH2\", \"A…\n",
       "  \"HALLMARK_ANDROGEN_RESPO… => SubString{String}[\"KLK3\", \"KLK2\", \"ACSL3\", \"PIAS…\n",
       "  \"HALLMARK_ALLOGRAFT_REJE… => SubString{String}[\"PTPRC\", \"IL12B\", \"TGFB1\", \"IL…\n",
       "  \"HALLMARK_ESTROGEN_RESPO… => SubString{String}[\"TFF1\", \"SLC9A3R1\", \"TPD52L1\",…\n",
       "  \"HALLMARK_G2M_CHECKPOINT\" => SubString{String}[\"AURKA\", \"CCNA2\", \"TOP2A\", \"CC…\n",
       "  \"HALLMARK_MYC_TARGETS_V2\" => SubString{String}[\"SLC19A1\", \"MRTO4\", \"TMEM97\", …\n",
       "  \"HALLMARK_APOPTOSIS\"      => SubString{String}[\"CASP3\", \"CASP9\", \"DFFA\", \"CAS…\n",
       "  \"HALLMARK_P53_PATHWAY\"    => SubString{String}[\"CDKN1A\", \"BTG2\", \"MDM2\", \"CCN…\n",
       "  \"HALLMARK_UNFOLDED_PROTE… => SubString{String}[\"ATF4\", \"HERPUD1\", \"PARN\", \"EX…\n",
       "  \"HALLMARK_ADIPOGENESIS\"   => SubString{String}[\"FABP4\", \"ADIPOQ\", \"PPARG\", \"L…\n",
       "  \"HALLMARK_DNA_REPAIR\"     => SubString{String}[\"POLR2H\", \"POLR2A\", \"POLR2G\", …\n",
       "  \"HALLMARK_EPITHELIAL_MES… => SubString{String}[\"COL3A1\", \"COL5A2\", \"COL5A1\", …\n",
       "  \"HALLMARK_OXIDATIVE_PHOS… => SubString{String}[\"NDUFS3\", \"UQCRB\", \"NDUFS2\", \"…\n",
       "  \"HALLMARK_HEME_METABOLIS… => SubString{String}[\"ALAS2\", \"PPOX\", \"FECH\", \"HMBS…\n",
       "  \"HALLMARK_MITOTIC_SPINDL… => SubString{String}[\"ARHGEF2\", \"CLASP1\", \"KIF11\", …\n",
       "  \"HALLMARK_FATTY_ACID_MET… => SubString{String}[\"ACAA1\", \"ACAA2\", \"ACADL\", \"AC…\n",
       "  \"HALLMARK_COMPLEMENT\"     => SubString{String}[\"C2\", \"C1S\", \"CFB\", \"C1R\", \"SE…\n",
       "  \"HALLMARK_APICAL_SURFACE\" => SubString{String}[\"B4GALT1\", \"RHCG\", \"MAL\", \"LYP…\n",
       "  \"HALLMARK_ESTROGEN_RESPO… => SubString{String}[\"GREB1\", \"CA12\", \"SLC9A3R1\", \"…\n",
       "  \"HALLMARK_INTERFERON_GAM… => SubString{String}[\"STAT1\", \"ISG15\", \"IFIT1\", \"MX…\n",
       "  \"HALLMARK_MTORC1_SIGNALI… => SubString{String}[\"FADS1\", \"DDIT4\", \"CALR\", \"HK2…\n",
       "  ⋮                         => ⋮"
      ]
     },
     "execution_count": 4,
     "metadata": {},
     "output_type": "execute_result"
    }
   ],
   "source": [
    "fe_, sc_, fe1_ = OnePiece.feature_set_enrichment.make_benchmark(\"myc\")\n",
    "\n",
    "in_ = OnePiece.vector.is_in(fe_, fe1_)\n",
    "\n",
    "sc_fe_sa = DataFrame(\n",
    "    \"Feature\" => fe_,\n",
    "    \"Score\" => sc_,\n",
    "    \"Score x 10\" => sc_ * 10,\n",
    "    \"Constant\" => fill(0.8, length(fe_)),\n",
    ")\n",
    "\n",
    "se_fe_ =\n",
    "    OnePiece.gmt.read(joinpath(@__DIR__, \"feature_set_enrichment.data\", \"h.all.v7.1.symbols.gmt\"))"
   ]
  },
  {
   "cell_type": "markdown",
   "id": "6c1ba979",
   "metadata": {},
   "source": [
    "## is_in"
   ]
  },
  {
   "cell_type": "code",
   "execution_count": 5,
   "id": "9e17b873",
   "metadata": {
    "execution": {
     "iopub.execute_input": "2022-07-10T14:24:59.749000Z",
     "iopub.status.busy": "2022-07-10T14:24:59.749000Z",
     "iopub.status.idle": "2022-07-10T14:25:11.447000Z",
     "shell.execute_reply": "2022-07-10T14:25:11.446000Z"
    }
   },
   "outputs": [
    {
     "name": "stdout",
     "output_type": "stream",
     "text": [
      "  553.594 μs (9 allocations: 20.80 KiB)\n"
     ]
    },
    {
     "data": {
      "text/plain": [
       "20046-element Vector{Bool}:\n",
       " 0\n",
       " 0\n",
       " 0\n",
       " 0\n",
       " 0\n",
       " 0\n",
       " 0\n",
       " 0\n",
       " 0\n",
       " 0\n",
       " 0\n",
       " 0\n",
       " 0\n",
       " ⋮\n",
       " 0\n",
       " 0\n",
       " 0\n",
       " 0\n",
       " 0\n",
       " 0\n",
       " 0\n",
       " 0\n",
       " 0\n",
       " 0\n",
       " 0\n",
       " 0"
      ]
     },
     "execution_count": 5,
     "metadata": {},
     "output_type": "execute_result"
    }
   ],
   "source": [
    "@btime OnePiece.vector.is_in(fe_, fe1_)"
   ]
  },
  {
   "cell_type": "markdown",
   "id": "e7196203",
   "metadata": {},
   "source": [
    "## score_set in_"
   ]
  },
  {
   "cell_type": "code",
   "execution_count": 6,
   "id": "938c96ff",
   "metadata": {
    "execution": {
     "iopub.execute_input": "2022-07-10T14:25:11.451000Z",
     "iopub.status.busy": "2022-07-10T14:25:11.450000Z",
     "iopub.status.idle": "2022-07-10T14:25:20.427000Z",
     "shell.execute_reply": "2022-07-10T14:25:20.427000Z"
    }
   },
   "outputs": [
    {
     "name": "stdout",
     "output_type": "stream",
     "text": [
      "  28.470 μs (3 allocations: 156.69 KiB)\n"
     ]
    },
    {
     "data": {
      "text/plain": [
       "0.7651927829281453"
      ]
     },
     "execution_count": 6,
     "metadata": {},
     "output_type": "execute_result"
    }
   ],
   "source": [
    "@btime OnePiece.feature_set_enrichment.score_set(fe_, sc_, fe1_, in_, pl = false)"
   ]
  },
  {
   "cell_type": "markdown",
   "id": "103dfec6",
   "metadata": {},
   "source": [
    "## score_set"
   ]
  },
  {
   "cell_type": "code",
   "execution_count": 7,
   "id": "e25e876b",
   "metadata": {
    "execution": {
     "iopub.execute_input": "2022-07-10T14:25:20.430000Z",
     "iopub.status.busy": "2022-07-10T14:25:20.430000Z",
     "iopub.status.idle": "2022-07-10T14:25:31.339000Z",
     "shell.execute_reply": "2022-07-10T14:25:31.339000Z"
    }
   },
   "outputs": [
    {
     "name": "stdout",
     "output_type": "stream",
     "text": [
      "  581.059 μs (12 allocations: 177.49 KiB)\n"
     ]
    },
    {
     "data": {
      "text/plain": [
       "0.7651927829281453"
      ]
     },
     "execution_count": 7,
     "metadata": {},
     "output_type": "execute_result"
    }
   ],
   "source": [
    "@btime OnePiece.feature_set_enrichment.score_set(fe_, sc_, fe1_, pl = false)"
   ]
  },
  {
   "cell_type": "markdown",
   "id": "28542801",
   "metadata": {},
   "source": [
    "## score_set se_fe_"
   ]
  },
  {
   "cell_type": "code",
   "execution_count": 8,
   "id": "7af9e403",
   "metadata": {
    "execution": {
     "iopub.execute_input": "2022-07-10T14:25:31.343000Z",
     "iopub.status.busy": "2022-07-10T14:25:31.342000Z",
     "iopub.status.idle": "2022-07-10T14:25:43.430000Z",
     "shell.execute_reply": "2022-07-10T14:25:43.429000Z"
    }
   },
   "outputs": [
    {
     "name": "stdout",
     "output_type": "stream",
     "text": [
      "  2.752 ms (473 allocations: 9.16 MiB)\n"
     ]
    },
    {
     "data": {
      "text/plain": [
       "Dict{SubString{String}, Float64} with 50 entries:\n",
       "  \"HALLMARK_ANGIOGENESIS\"                      => -0.33582\n",
       "  \"HALLMARK_MYOGENESIS\"                        => -0.288877\n",
       "  \"HALLMARK_PEROXISOME\"                        => -0.18071\n",
       "  \"HALLMARK_UV_RESPONSE_DN\"                    => -0.494808\n",
       "  \"HALLMARK_NOTCH_SIGNALING\"                   => -0.34954\n",
       "  \"HALLMARK_ANDROGEN_RESPONSE\"                 => -0.315308\n",
       "  \"HALLMARK_ALLOGRAFT_REJECTION\"               => -0.235057\n",
       "  \"HALLMARK_ESTROGEN_RESPONSE_LATE\"            => -0.267925\n",
       "  \"HALLMARK_G2M_CHECKPOINT\"                    => -0.303945\n",
       "  \"HALLMARK_MYC_TARGETS_V2\"                    => 0.819473\n",
       "  \"HALLMARK_APOPTOSIS\"                         => -0.448161\n",
       "  \"HALLMARK_P53_PATHWAY\"                       => -0.347303\n",
       "  \"HALLMARK_UNFOLDED_PROTEIN_RESPONSE\"         => 0.404063\n",
       "  \"HALLMARK_ADIPOGENESIS\"                      => 0.256733\n",
       "  \"HALLMARK_DNA_REPAIR\"                        => 0.355427\n",
       "  \"HALLMARK_EPITHELIAL_MESENCHYMAL_TRANSITION\" => -0.433527\n",
       "  \"HALLMARK_OXIDATIVE_PHOSPHORYLATION\"         => 0.400945\n",
       "  \"HALLMARK_HEME_METABOLISM\"                   => -0.303428\n",
       "  \"HALLMARK_MITOTIC_SPINDLE\"                   => -0.516912\n",
       "  \"HALLMARK_FATTY_ACID_METABOLISM\"             => -0.136235\n",
       "  \"HALLMARK_COMPLEMENT\"                        => -0.371534\n",
       "  \"HALLMARK_APICAL_SURFACE\"                    => -0.366325\n",
       "  \"HALLMARK_ESTROGEN_RESPONSE_EARLY\"           => -0.283638\n",
       "  \"HALLMARK_INTERFERON_GAMMA_RESPONSE\"         => -0.330132\n",
       "  \"HALLMARK_MTORC1_SIGNALING\"                  => 0.267661\n",
       "  ⋮                                            => ⋮"
      ]
     },
     "execution_count": 8,
     "metadata": {},
     "output_type": "execute_result"
    }
   ],
   "source": [
    "@btime OnePiece.feature_set_enrichment.score_set(fe_, sc_, se_fe_)"
   ]
  },
  {
   "cell_type": "markdown",
   "id": "c05bbb40",
   "metadata": {},
   "source": [
    "## score_set se_fe_sa"
   ]
  },
  {
   "cell_type": "code",
   "execution_count": 9,
   "id": "d1d27936",
   "metadata": {
    "execution": {
     "iopub.execute_input": "2022-07-10T14:25:43.433000Z",
     "iopub.status.busy": "2022-07-10T14:25:43.433000Z",
     "iopub.status.idle": "2022-07-10T14:25:58.194000Z",
     "shell.execute_reply": "2022-07-10T14:25:58.193000Z"
    }
   },
   "outputs": [
    {
     "name": "stdout",
     "output_type": "stream",
     "text": [
      "  9.627 ms (2012 allocations: 30.27 MiB)\n"
     ]
    },
    {
     "data": {
      "text/html": [
       "<div class=\"data-frame\"><p>50 rows × 4 columns</p><table class=\"data-frame\"><thead><tr><th></th><th>Set</th><th>Score</th><th>Score x 10</th><th>Constant</th></tr><tr><th></th><th title=\"Any\">Any</th><th title=\"Float64\">Float64</th><th title=\"Float64\">Float64</th><th title=\"Float64\">Float64</th></tr></thead><tbody><tr><th>1</th><td>HALLMARK_ANGIOGENESIS</td><td>-0.33582</td><td>-0.33582</td><td>-0.207802</td></tr><tr><th>2</th><td>HALLMARK_MYOGENESIS</td><td>-0.288877</td><td>-0.288877</td><td>-0.154924</td></tr><tr><th>3</th><td>HALLMARK_PEROXISOME</td><td>-0.18071</td><td>-0.18071</td><td>-0.0735913</td></tr><tr><th>4</th><td>HALLMARK_UV_RESPONSE_DN</td><td>-0.494808</td><td>-0.494808</td><td>-0.327627</td></tr><tr><th>5</th><td>HALLMARK_NOTCH_SIGNALING</td><td>-0.34954</td><td>-0.34954</td><td>-0.17491</td></tr><tr><th>6</th><td>HALLMARK_ANDROGEN_RESPONSE</td><td>-0.315308</td><td>-0.315308</td><td>-0.181389</td></tr><tr><th>7</th><td>HALLMARK_ALLOGRAFT_REJECTION</td><td>-0.235057</td><td>-0.235057</td><td>-0.105339</td></tr><tr><th>8</th><td>HALLMARK_ESTROGEN_RESPONSE_LATE</td><td>-0.267925</td><td>-0.267925</td><td>-0.137887</td></tr><tr><th>9</th><td>HALLMARK_G2M_CHECKPOINT</td><td>-0.303945</td><td>-0.303945</td><td>-0.193492</td></tr><tr><th>10</th><td>HALLMARK_MYC_TARGETS_V2</td><td>0.819473</td><td>0.819473</td><td>0.718559</td></tr><tr><th>11</th><td>HALLMARK_APOPTOSIS</td><td>-0.448161</td><td>-0.448161</td><td>-0.310809</td></tr><tr><th>12</th><td>HALLMARK_P53_PATHWAY</td><td>-0.347303</td><td>-0.347303</td><td>-0.185212</td></tr><tr><th>13</th><td>HALLMARK_UNFOLDED_PROTEIN_RESPONSE</td><td>0.404063</td><td>0.404063</td><td>0.268183</td></tr><tr><th>14</th><td>HALLMARK_ADIPOGENESIS</td><td>0.256733</td><td>0.256733</td><td>0.132792</td></tr><tr><th>15</th><td>HALLMARK_DNA_REPAIR</td><td>0.355427</td><td>0.355427</td><td>0.201931</td></tr><tr><th>16</th><td>HALLMARK_EPITHELIAL_MESENCHYMAL_TRANSITION</td><td>-0.433527</td><td>-0.433527</td><td>-0.261543</td></tr><tr><th>17</th><td>HALLMARK_OXIDATIVE_PHOSPHORYLATION</td><td>0.400945</td><td>0.400945</td><td>0.276922</td></tr><tr><th>18</th><td>HALLMARK_HEME_METABOLISM</td><td>-0.303428</td><td>-0.303428</td><td>-0.132175</td></tr><tr><th>19</th><td>HALLMARK_MITOTIC_SPINDLE</td><td>-0.516912</td><td>-0.516912</td><td>-0.359933</td></tr><tr><th>20</th><td>HALLMARK_FATTY_ACID_METABOLISM</td><td>-0.136235</td><td>-0.136235</td><td>0.0387716</td></tr><tr><th>21</th><td>HALLMARK_COMPLEMENT</td><td>-0.371534</td><td>-0.371534</td><td>-0.210645</td></tr><tr><th>22</th><td>HALLMARK_APICAL_SURFACE</td><td>-0.366325</td><td>-0.366325</td><td>-0.211073</td></tr><tr><th>23</th><td>HALLMARK_ESTROGEN_RESPONSE_EARLY</td><td>-0.283638</td><td>-0.283638</td><td>-0.144594</td></tr><tr><th>24</th><td>HALLMARK_INTERFERON_GAMMA_RESPONSE</td><td>-0.330132</td><td>-0.330132</td><td>-0.156285</td></tr><tr><th>25</th><td>HALLMARK_MTORC1_SIGNALING</td><td>0.267661</td><td>0.267661</td><td>0.161986</td></tr><tr><th>26</th><td>HALLMARK_INTERFERON_ALPHA_RESPONSE</td><td>-0.342491</td><td>-0.342491</td><td>-0.189046</td></tr><tr><th>27</th><td>HALLMARK_REACTIVE_OXYGEN_SPECIES_PATHWAY</td><td>-0.25868</td><td>-0.25868</td><td>-0.126201</td></tr><tr><th>28</th><td>HALLMARK_PI3K_AKT_MTOR_SIGNALING</td><td>-0.268504</td><td>-0.268504</td><td>-0.168444</td></tr><tr><th>29</th><td>HALLMARK_XENOBIOTIC_METABOLISM</td><td>-0.220692</td><td>-0.220692</td><td>-0.0813454</td></tr><tr><th>30</th><td>HALLMARK_KRAS_SIGNALING_DN</td><td>-0.218759</td><td>-0.218759</td><td>-0.124075</td></tr><tr><th>&vellip;</th><td>&vellip;</td><td>&vellip;</td><td>&vellip;</td><td>&vellip;</td></tr></tbody></table></div>"
      ],
      "text/latex": [
       "\\begin{tabular}{r|cccc}\n",
       "\t& Set & Score & Score x 10 & Constant\\\\\n",
       "\t\\hline\n",
       "\t& Any & Float64 & Float64 & Float64\\\\\n",
       "\t\\hline\n",
       "\t1 & HALLMARK\\_ANGIOGENESIS & -0.33582 & -0.33582 & -0.207802 \\\\\n",
       "\t2 & HALLMARK\\_MYOGENESIS & -0.288877 & -0.288877 & -0.154924 \\\\\n",
       "\t3 & HALLMARK\\_PEROXISOME & -0.18071 & -0.18071 & -0.0735913 \\\\\n",
       "\t4 & HALLMARK\\_UV\\_RESPONSE\\_DN & -0.494808 & -0.494808 & -0.327627 \\\\\n",
       "\t5 & HALLMARK\\_NOTCH\\_SIGNALING & -0.34954 & -0.34954 & -0.17491 \\\\\n",
       "\t6 & HALLMARK\\_ANDROGEN\\_RESPONSE & -0.315308 & -0.315308 & -0.181389 \\\\\n",
       "\t7 & HALLMARK\\_ALLOGRAFT\\_REJECTION & -0.235057 & -0.235057 & -0.105339 \\\\\n",
       "\t8 & HALLMARK\\_ESTROGEN\\_RESPONSE\\_LATE & -0.267925 & -0.267925 & -0.137887 \\\\\n",
       "\t9 & HALLMARK\\_G2M\\_CHECKPOINT & -0.303945 & -0.303945 & -0.193492 \\\\\n",
       "\t10 & HALLMARK\\_MYC\\_TARGETS\\_V2 & 0.819473 & 0.819473 & 0.718559 \\\\\n",
       "\t11 & HALLMARK\\_APOPTOSIS & -0.448161 & -0.448161 & -0.310809 \\\\\n",
       "\t12 & HALLMARK\\_P53\\_PATHWAY & -0.347303 & -0.347303 & -0.185212 \\\\\n",
       "\t13 & HALLMARK\\_UNFOLDED\\_PROTEIN\\_RESPONSE & 0.404063 & 0.404063 & 0.268183 \\\\\n",
       "\t14 & HALLMARK\\_ADIPOGENESIS & 0.256733 & 0.256733 & 0.132792 \\\\\n",
       "\t15 & HALLMARK\\_DNA\\_REPAIR & 0.355427 & 0.355427 & 0.201931 \\\\\n",
       "\t16 & HALLMARK\\_EPITHELIAL\\_MESENCHYMAL\\_TRANSITION & -0.433527 & -0.433527 & -0.261543 \\\\\n",
       "\t17 & HALLMARK\\_OXIDATIVE\\_PHOSPHORYLATION & 0.400945 & 0.400945 & 0.276922 \\\\\n",
       "\t18 & HALLMARK\\_HEME\\_METABOLISM & -0.303428 & -0.303428 & -0.132175 \\\\\n",
       "\t19 & HALLMARK\\_MITOTIC\\_SPINDLE & -0.516912 & -0.516912 & -0.359933 \\\\\n",
       "\t20 & HALLMARK\\_FATTY\\_ACID\\_METABOLISM & -0.136235 & -0.136235 & 0.0387716 \\\\\n",
       "\t21 & HALLMARK\\_COMPLEMENT & -0.371534 & -0.371534 & -0.210645 \\\\\n",
       "\t22 & HALLMARK\\_APICAL\\_SURFACE & -0.366325 & -0.366325 & -0.211073 \\\\\n",
       "\t23 & HALLMARK\\_ESTROGEN\\_RESPONSE\\_EARLY & -0.283638 & -0.283638 & -0.144594 \\\\\n",
       "\t24 & HALLMARK\\_INTERFERON\\_GAMMA\\_RESPONSE & -0.330132 & -0.330132 & -0.156285 \\\\\n",
       "\t25 & HALLMARK\\_MTORC1\\_SIGNALING & 0.267661 & 0.267661 & 0.161986 \\\\\n",
       "\t26 & HALLMARK\\_INTERFERON\\_ALPHA\\_RESPONSE & -0.342491 & -0.342491 & -0.189046 \\\\\n",
       "\t27 & HALLMARK\\_REACTIVE\\_OXYGEN\\_SPECIES\\_PATHWAY & -0.25868 & -0.25868 & -0.126201 \\\\\n",
       "\t28 & HALLMARK\\_PI3K\\_AKT\\_MTOR\\_SIGNALING & -0.268504 & -0.268504 & -0.168444 \\\\\n",
       "\t29 & HALLMARK\\_XENOBIOTIC\\_METABOLISM & -0.220692 & -0.220692 & -0.0813454 \\\\\n",
       "\t30 & HALLMARK\\_KRAS\\_SIGNALING\\_DN & -0.218759 & -0.218759 & -0.124075 \\\\\n",
       "\t$\\dots$ & $\\dots$ & $\\dots$ & $\\dots$ & $\\dots$ \\\\\n",
       "\\end{tabular}\n"
      ],
      "text/plain": [
       "\u001b[1m50×4 DataFrame\u001b[0m\n",
       "\u001b[1m Row \u001b[0m│\u001b[1m Set                               \u001b[0m\u001b[1m Score     \u001b[0m\u001b[1m Score x 10 \u001b[0m\u001b[1m Constant   \u001b[0m\n",
       "\u001b[1m     \u001b[0m│\u001b[90m Any                               \u001b[0m\u001b[90m Float64   \u001b[0m\u001b[90m Float64    \u001b[0m\u001b[90m Float64    \u001b[0m\n",
       "─────┼──────────────────────────────────────────────────────────────────────\n",
       "   1 │ HALLMARK_ANGIOGENESIS              -0.33582    -0.33582   -0.207802\n",
       "   2 │ HALLMARK_MYOGENESIS                -0.288877   -0.288877  -0.154924\n",
       "   3 │ HALLMARK_PEROXISOME                -0.18071    -0.18071   -0.0735913\n",
       "   4 │ HALLMARK_UV_RESPONSE_DN            -0.494808   -0.494808  -0.327627\n",
       "   5 │ HALLMARK_NOTCH_SIGNALING           -0.34954    -0.34954   -0.17491\n",
       "   6 │ HALLMARK_ANDROGEN_RESPONSE         -0.315308   -0.315308  -0.181389\n",
       "   7 │ HALLMARK_ALLOGRAFT_REJECTION       -0.235057   -0.235057  -0.105339\n",
       "   8 │ HALLMARK_ESTROGEN_RESPONSE_LATE    -0.267925   -0.267925  -0.137887\n",
       "   9 │ HALLMARK_G2M_CHECKPOINT            -0.303945   -0.303945  -0.193492\n",
       "  10 │ HALLMARK_MYC_TARGETS_V2             0.819473    0.819473   0.718559\n",
       "  11 │ HALLMARK_APOPTOSIS                 -0.448161   -0.448161  -0.310809\n",
       "  ⋮  │                 ⋮                      ⋮          ⋮           ⋮\n",
       "  41 │ HALLMARK_KRAS_SIGNALING_UP         -0.366718   -0.366718  -0.157181\n",
       "  42 │ HALLMARK_INFLAMMATORY_RESPONSE     -0.395749   -0.395749  -0.186266\n",
       "  43 │ HALLMARK_CHOLESTEROL_HOMEOSTASIS   -0.452713   -0.452713  -0.297968\n",
       "  44 │ HALLMARK_TGF_BETA_SIGNALING        -0.579975   -0.579975  -0.394393\n",
       "  45 │ HALLMARK_PANCREAS_BETA_CELLS        0.12452     0.12452    0.173913\n",
       "  46 │ HALLMARK_COAGULATION               -0.409982   -0.409982  -0.218248\n",
       "  47 │ HALLMARK_HYPOXIA                   -0.384683   -0.384683  -0.227707\n",
       "  48 │ HALLMARK_GLYCOLYSIS                 0.207826    0.207826   0.102792\n",
       "  49 │ HALLMARK_HEDGEHOG_SIGNALING        -0.304983   -0.304983  -0.121383\n",
       "  50 │ HALLMARK_IL6_JAK_STAT3_SIGNALING   -0.38856    -0.38856   -0.170772\n",
       "\u001b[36m                                                             29 rows omitted\u001b[0m"
      ]
     },
     "execution_count": 9,
     "metadata": {},
     "output_type": "execute_result"
    }
   ],
   "source": [
    "@btime OnePiece.feature_set_enrichment.score_set(sc_fe_sa, se_fe_)"
   ]
  },
  {
   "cell_type": "markdown",
   "id": "00311ae3",
   "metadata": {},
   "source": [
    "## score_set_new"
   ]
  },
  {
   "cell_type": "code",
   "execution_count": 10,
   "id": "2af0ca36",
   "metadata": {
    "execution": {
     "iopub.execute_input": "2022-07-10T14:25:58.197000Z",
     "iopub.status.busy": "2022-07-10T14:25:58.196000Z",
     "iopub.status.idle": "2022-07-10T14:26:10.175000Z",
     "shell.execute_reply": "2022-07-10T14:26:10.174000Z"
    }
   },
   "outputs": [
    {
     "name": "stdout",
     "output_type": "stream",
     "text": [
      "  1.605 ms (68 allocations: 4.46 MiB)\n"
     ]
    },
    {
     "data": {
      "text/plain": [
       "0.7736480596525307"
      ]
     },
     "execution_count": 10,
     "metadata": {},
     "output_type": "execute_result"
    }
   ],
   "source": [
    "@btime OnePiece.feature_set_enrichment.score_set_new(fe_, sc_, fe1_, pl = false)"
   ]
  },
  {
   "cell_type": "markdown",
   "id": "b2a7930a",
   "metadata": {},
   "source": [
    "## score_set_new se_fe_"
   ]
  },
  {
   "cell_type": "code",
   "execution_count": 11,
   "id": "4f8f9080",
   "metadata": {
    "execution": {
     "iopub.execute_input": "2022-07-10T14:26:10.178000Z",
     "iopub.status.busy": "2022-07-10T14:26:10.178000Z",
     "iopub.status.idle": "2022-07-10T14:26:22.221000Z",
     "shell.execute_reply": "2022-07-10T14:26:22.221000Z"
    }
   },
   "outputs": [
    {
     "name": "stdout",
     "output_type": "stream",
     "text": [
      "  112.715 ms (3615 allocations: 223.29 MiB)\n"
     ]
    },
    {
     "data": {
      "text/plain": [
       "Dict{SubString{String}, Float64} with 50 entries:\n",
       "  \"HALLMARK_ANGIOGENESIS\"                      => -0.245275\n",
       "  \"HALLMARK_MYOGENESIS\"                        => -0.277318\n",
       "  \"HALLMARK_PEROXISOME\"                        => -0.0236628\n",
       "  \"HALLMARK_UV_RESPONSE_DN\"                    => -0.469154\n",
       "  \"HALLMARK_NOTCH_SIGNALING\"                   => -0.25913\n",
       "  \"HALLMARK_ANDROGEN_RESPONSE\"                 => -0.245111\n",
       "  \"HALLMARK_ALLOGRAFT_REJECTION\"               => -0.184244\n",
       "  \"HALLMARK_ESTROGEN_RESPONSE_LATE\"            => -0.203806\n",
       "  \"HALLMARK_G2M_CHECKPOINT\"                    => -0.154068\n",
       "  \"HALLMARK_MYC_TARGETS_V2\"                    => 0.850873\n",
       "  \"HALLMARK_APOPTOSIS\"                         => -0.432074\n",
       "  \"HALLMARK_P53_PATHWAY\"                       => -0.247745\n",
       "  \"HALLMARK_UNFOLDED_PROTEIN_RESPONSE\"         => 0.382554\n",
       "  \"HALLMARK_ADIPOGENESIS\"                      => 0.153096\n",
       "  \"HALLMARK_DNA_REPAIR\"                        => 0.321535\n",
       "  \"HALLMARK_EPITHELIAL_MESENCHYMAL_TRANSITION\" => -0.435746\n",
       "  \"HALLMARK_OXIDATIVE_PHOSPHORYLATION\"         => 0.41781\n",
       "  \"HALLMARK_HEME_METABOLISM\"                   => -0.224215\n",
       "  \"HALLMARK_MITOTIC_SPINDLE\"                   => -0.518212\n",
       "  \"HALLMARK_FATTY_ACID_METABOLISM\"             => 0.0128491\n",
       "  \"HALLMARK_COMPLEMENT\"                        => -0.342912\n",
       "  \"HALLMARK_APICAL_SURFACE\"                    => -0.343895\n",
       "  \"HALLMARK_ESTROGEN_RESPONSE_EARLY\"           => -0.175627\n",
       "  \"HALLMARK_INTERFERON_GAMMA_RESPONSE\"         => -0.283054\n",
       "  \"HALLMARK_MTORC1_SIGNALING\"                  => 0.138951\n",
       "  ⋮                                            => ⋮"
      ]
     },
     "execution_count": 11,
     "metadata": {},
     "output_type": "execute_result"
    }
   ],
   "source": [
    "@btime OnePiece.feature_set_enrichment.score_set_new(fe_, sc_, se_fe_)"
   ]
  },
  {
   "cell_type": "markdown",
   "id": "a13a98f6",
   "metadata": {},
   "source": [
    "---"
   ]
  }
 ],
 "metadata": {
  "@webio": {
   "lastCommId": null,
   "lastKernelId": null
  },
  "kernelspec": {
   "display_name": "Julia 1.7.3",
   "language": "julia",
   "name": "julia-1.7"
  },
  "language_info": {
   "file_extension": ".jl",
   "mimetype": "application/julia",
   "name": "julia",
   "version": "1.7.3"
  }
 },
 "nbformat": 4,
 "nbformat_minor": 5
}
