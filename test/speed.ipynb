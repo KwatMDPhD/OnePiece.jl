{
 "cells": [
  {
   "cell_type": "code",
   "execution_count": 1,
   "id": "772f0ecd",
   "metadata": {
    "execution": {
     "iopub.execute_input": "2022-07-13T12:54:56.107000Z",
     "iopub.status.busy": "2022-07-13T12:54:55.755000Z",
     "iopub.status.idle": "2022-07-13T12:55:00.664000Z",
     "shell.execute_reply": "2022-07-13T12:55:00.616000Z"
    }
   },
   "outputs": [],
   "source": [
    "using OnePiece"
   ]
  },
  {
   "cell_type": "markdown",
   "id": "cdffcc16",
   "metadata": {},
   "source": [
    "---"
   ]
  },
  {
   "cell_type": "code",
   "execution_count": 2,
   "id": "ca60d677",
   "metadata": {
    "execution": {
     "iopub.execute_input": "2022-07-13T12:55:01.168000Z",
     "iopub.status.busy": "2022-07-13T12:55:00.683000Z",
     "iopub.status.idle": "2022-07-13T12:55:01.210000Z",
     "shell.execute_reply": "2022-07-13T12:55:01.209000Z"
    }
   },
   "outputs": [],
   "source": [
    "using BenchmarkTools\n",
    "using DataFrames"
   ]
  },
  {
   "cell_type": "markdown",
   "id": "5c5b61dc",
   "metadata": {},
   "source": [
    "## _sum_1_absolute_and_0_count"
   ]
  },
  {
   "cell_type": "code",
   "execution_count": 3,
   "id": "fb248118",
   "metadata": {
    "execution": {
     "iopub.execute_input": "2022-07-13T12:55:01.212000Z",
     "iopub.status.busy": "2022-07-13T12:55:01.212000Z",
     "iopub.status.idle": "2022-07-13T12:55:03.429000Z",
     "shell.execute_reply": "2022-07-13T12:55:03.428000Z"
    }
   },
   "outputs": [
    {
     "name": "stdout",
     "output_type": "stream",
     "text": [
      "  7.131 ns (0 allocations: 0 bytes)\n"
     ]
    },
    {
     "data": {
      "text/plain": [
       "(5.0, 2.0)"
      ]
     },
     "execution_count": 3,
     "metadata": {},
     "output_type": "execute_result"
    }
   ],
   "source": [
    "ve = [-2.0, -1, 0, 1, 2]\n",
    "\n",
    "in_ = convert(Vector{Bool}, [1, 1, 0, 0, 1])\n",
    "\n",
    "@btime OnePiece.feature_set_enrichment._sum_1_absolute_and_0_count(ve, in_)"
   ]
  },
  {
   "cell_type": "markdown",
   "id": "24b266ee",
   "metadata": {},
   "source": [
    "## More"
   ]
  },
  {
   "cell_type": "code",
   "execution_count": 4,
   "id": "efbcb846",
   "metadata": {
    "execution": {
     "iopub.execute_input": "2022-07-13T12:55:03.432000Z",
     "iopub.status.busy": "2022-07-13T12:55:03.432000Z",
     "iopub.status.idle": "2022-07-13T12:55:16.357000Z",
     "shell.execute_reply": "2022-07-13T12:55:16.356000Z"
    }
   },
   "outputs": [
    {
     "data": {
      "text/plain": [
       "Dict{Any, Any} with 50 entries:\n",
       "  \"HALLMARK_ANGIOGENESIS\"   => SubString{String}[\"VCAN\", \"POSTN\", \"FSTL1\", \"LRP…\n",
       "  \"HALLMARK_MYOGENESIS\"     => SubString{String}[\"ACTA1\", \"TNNI2\", \"MYL1\", \"TNN…\n",
       "  \"HALLMARK_PEROXISOME\"     => SubString{String}[\"ABCD3\", \"ACOT8\", \"ACOX1\", \"AC…\n",
       "  \"HALLMARK_UV_RESPONSE_DN\" => SubString{String}[\"TJP1\", \"NFIB\", \"TGFBR3\", \"TFP…\n",
       "  \"HALLMARK_NOTCH_SIGNALIN… => SubString{String}[\"JAG1\", \"NOTCH3\", \"NOTCH2\", \"A…\n",
       "  \"HALLMARK_ANDROGEN_RESPO… => SubString{String}[\"KLK3\", \"KLK2\", \"ACSL3\", \"PIAS…\n",
       "  \"HALLMARK_ALLOGRAFT_REJE… => SubString{String}[\"PTPRC\", \"IL12B\", \"TGFB1\", \"IL…\n",
       "  \"HALLMARK_ESTROGEN_RESPO… => SubString{String}[\"TFF1\", \"SLC9A3R1\", \"TPD52L1\",…\n",
       "  \"HALLMARK_G2M_CHECKPOINT\" => SubString{String}[\"AURKA\", \"CCNA2\", \"TOP2A\", \"CC…\n",
       "  \"HALLMARK_MYC_TARGETS_V2\" => SubString{String}[\"SLC19A1\", \"MRTO4\", \"TMEM97\", …\n",
       "  \"HALLMARK_APOPTOSIS\"      => SubString{String}[\"CASP3\", \"CASP9\", \"DFFA\", \"CAS…\n",
       "  \"HALLMARK_P53_PATHWAY\"    => SubString{String}[\"CDKN1A\", \"BTG2\", \"MDM2\", \"CCN…\n",
       "  \"HALLMARK_UNFOLDED_PROTE… => SubString{String}[\"ATF4\", \"HERPUD1\", \"PARN\", \"EX…\n",
       "  \"HALLMARK_ADIPOGENESIS\"   => SubString{String}[\"FABP4\", \"ADIPOQ\", \"PPARG\", \"L…\n",
       "  \"HALLMARK_DNA_REPAIR\"     => SubString{String}[\"POLR2H\", \"POLR2A\", \"POLR2G\", …\n",
       "  \"HALLMARK_EPITHELIAL_MES… => SubString{String}[\"COL3A1\", \"COL5A2\", \"COL5A1\", …\n",
       "  \"HALLMARK_OXIDATIVE_PHOS… => SubString{String}[\"NDUFS3\", \"UQCRB\", \"NDUFS2\", \"…\n",
       "  \"HALLMARK_HEME_METABOLIS… => SubString{String}[\"ALAS2\", \"PPOX\", \"FECH\", \"HMBS…\n",
       "  \"HALLMARK_MITOTIC_SPINDL… => SubString{String}[\"ARHGEF2\", \"CLASP1\", \"KIF11\", …\n",
       "  \"HALLMARK_FATTY_ACID_MET… => SubString{String}[\"ACAA1\", \"ACAA2\", \"ACADL\", \"AC…\n",
       "  \"HALLMARK_COMPLEMENT\"     => SubString{String}[\"C2\", \"C1S\", \"CFB\", \"C1R\", \"SE…\n",
       "  \"HALLMARK_APICAL_SURFACE\" => SubString{String}[\"B4GALT1\", \"RHCG\", \"MAL\", \"LYP…\n",
       "  \"HALLMARK_ESTROGEN_RESPO… => SubString{String}[\"GREB1\", \"CA12\", \"SLC9A3R1\", \"…\n",
       "  \"HALLMARK_INTERFERON_GAM… => SubString{String}[\"STAT1\", \"ISG15\", \"IFIT1\", \"MX…\n",
       "  \"HALLMARK_MTORC1_SIGNALI… => SubString{String}[\"FADS1\", \"DDIT4\", \"CALR\", \"HK2…\n",
       "  ⋮                         => ⋮"
      ]
     },
     "execution_count": 4,
     "metadata": {},
     "output_type": "execute_result"
    }
   ],
   "source": [
    "fe_, sc_, fe1_ = OnePiece.feature_set_enrichment.make_benchmark(\"myc\")\n",
    "\n",
    "in_ = OnePiece.vector.is_in(fe_, fe1_)\n",
    "\n",
    "sc_fe_sa = DataFrame(\n",
    "    \"Feature\" => fe_,\n",
    "    \"Score\" => sc_,\n",
    "    \"Score x 10\" => sc_ * 10,\n",
    "    \"Constant\" => fill(0.8, length(fe_)),\n",
    ")\n",
    "\n",
    "se_fe_ =\n",
    "    OnePiece.gmt.read(joinpath(@__DIR__, \"feature_set_enrichment.data\", \"h.all.v7.1.symbols.gmt\"))"
   ]
  },
  {
   "cell_type": "markdown",
   "id": "6c1ba979",
   "metadata": {},
   "source": [
    "## is_in"
   ]
  },
  {
   "cell_type": "code",
   "execution_count": 5,
   "id": "9e17b873",
   "metadata": {
    "execution": {
     "iopub.execute_input": "2022-07-13T12:55:16.360000Z",
     "iopub.status.busy": "2022-07-13T12:55:16.360000Z",
     "iopub.status.idle": "2022-07-13T12:55:28.135000Z",
     "shell.execute_reply": "2022-07-13T12:55:28.135000Z"
    }
   },
   "outputs": [
    {
     "name": "stdout",
     "output_type": "stream",
     "text": [
      "  552.052 μs (9 allocations: 20.80 KiB)\n"
     ]
    },
    {
     "data": {
      "text/plain": [
       "20046-element Vector{Bool}:\n",
       " 0\n",
       " 0\n",
       " 0\n",
       " 0\n",
       " 0\n",
       " 0\n",
       " 0\n",
       " 0\n",
       " 0\n",
       " 0\n",
       " 0\n",
       " 0\n",
       " 0\n",
       " ⋮\n",
       " 0\n",
       " 0\n",
       " 0\n",
       " 0\n",
       " 0\n",
       " 0\n",
       " 0\n",
       " 0\n",
       " 0\n",
       " 0\n",
       " 0\n",
       " 0"
      ]
     },
     "execution_count": 5,
     "metadata": {},
     "output_type": "execute_result"
    }
   ],
   "source": [
    "@btime OnePiece.vector.is_in(fe_, fe1_)"
   ]
  },
  {
   "cell_type": "markdown",
   "id": "e7196203",
   "metadata": {},
   "source": [
    "## score_set in_"
   ]
  },
  {
   "cell_type": "code",
   "execution_count": 6,
   "id": "938c96ff",
   "metadata": {
    "execution": {
     "iopub.execute_input": "2022-07-13T12:55:28.140000Z",
     "iopub.status.busy": "2022-07-13T12:55:28.140000Z",
     "iopub.status.idle": "2022-07-13T12:55:36.928000Z",
     "shell.execute_reply": "2022-07-13T12:55:36.928000Z"
    }
   },
   "outputs": [
    {
     "name": "stdout",
     "output_type": "stream",
     "text": [
      "  29.022 μs (3 allocations: 156.70 KiB)\n"
     ]
    },
    {
     "data": {
      "text/plain": [
       "(0.7651927829281453, 0.41482514169516305)"
      ]
     },
     "execution_count": 6,
     "metadata": {},
     "output_type": "execute_result"
    }
   ],
   "source": [
    "@btime OnePiece.feature_set_enrichment.score_set(fe_, sc_, fe1_, in_, pl = false)"
   ]
  },
  {
   "cell_type": "markdown",
   "id": "103dfec6",
   "metadata": {},
   "source": [
    "## score_set"
   ]
  },
  {
   "cell_type": "code",
   "execution_count": 7,
   "id": "e25e876b",
   "metadata": {
    "execution": {
     "iopub.execute_input": "2022-07-13T12:55:36.932000Z",
     "iopub.status.busy": "2022-07-13T12:55:36.932000Z",
     "iopub.status.idle": "2022-07-13T12:55:47.904000Z",
     "shell.execute_reply": "2022-07-13T12:55:47.904000Z"
    }
   },
   "outputs": [
    {
     "name": "stdout",
     "output_type": "stream",
     "text": [
      "  583.505 μs (12 allocations: 177.51 KiB)\n"
     ]
    },
    {
     "data": {
      "text/plain": [
       "(0.7651927829281453, 0.41482514169516305)"
      ]
     },
     "execution_count": 7,
     "metadata": {},
     "output_type": "execute_result"
    }
   ],
   "source": [
    "@btime OnePiece.feature_set_enrichment.score_set(fe_, sc_, fe1_, pl = false)"
   ]
  },
  {
   "cell_type": "markdown",
   "id": "28542801",
   "metadata": {},
   "source": [
    "## score_set se_fe_"
   ]
  },
  {
   "cell_type": "code",
   "execution_count": 8,
   "id": "7af9e403",
   "metadata": {
    "execution": {
     "iopub.execute_input": "2022-07-13T12:55:47.908000Z",
     "iopub.status.busy": "2022-07-13T12:55:47.908000Z",
     "iopub.status.idle": "2022-07-13T12:56:00.211000Z",
     "shell.execute_reply": "2022-07-13T12:56:00.211000Z"
    }
   },
   "outputs": [
    {
     "name": "stdout",
     "output_type": "stream",
     "text": [
      "  2.753 ms (473 allocations: 9.17 MiB)\n"
     ]
    },
    {
     "data": {
      "text/plain": [
       "Dict{SubString{String}, Tuple{Float64, Float64}} with 50 entries:\n",
       "  \"HALLMARK_ANGIOGENESIS\"                      => (-0.33582, -0.134652)\n",
       "  \"HALLMARK_MYOGENESIS\"                        => (-0.288877, -0.149539)\n",
       "  \"HALLMARK_PEROXISOME\"                        => (-0.18071, -0.0227159)\n",
       "  \"HALLMARK_UV_RESPONSE_DN\"                    => (-0.494808, -0.254959)\n",
       "  \"HALLMARK_NOTCH_SIGNALING\"                   => (-0.34954, -0.140971)\n",
       "  \"HALLMARK_ANDROGEN_RESPONSE\"                 => (-0.315308, -0.133699)\n",
       "  \"HALLMARK_ALLOGRAFT_REJECTION\"               => (-0.235057, -0.104502)\n",
       "  \"HALLMARK_ESTROGEN_RESPONSE_LATE\"            => (-0.267925, -0.113194)\n",
       "  \"HALLMARK_G2M_CHECKPOINT\"                    => (-0.303945, -0.0878826)\n",
       "  \"HALLMARK_MYC_TARGETS_V2\"                    => (0.819473, 0.437009)\n",
       "  \"HALLMARK_APOPTOSIS\"                         => (-0.448161, -0.230523)\n",
       "  \"HALLMARK_P53_PATHWAY\"                       => (-0.347303, -0.132145)\n",
       "  \"HALLMARK_UNFOLDED_PROTEIN_RESPONSE\"         => (0.404063, 0.174211)\n",
       "  \"HALLMARK_ADIPOGENESIS\"                      => (0.256733, 0.0640977)\n",
       "  \"HALLMARK_DNA_REPAIR\"                        => (0.355427, 0.150162)\n",
       "  \"HALLMARK_EPITHELIAL_MESENCHYMAL_TRANSITION\" => (-0.433527, -0.228446)\n",
       "  \"HALLMARK_OXIDATIVE_PHOSPHORYLATION\"         => (0.400945, 0.202195)\n",
       "  \"HALLMARK_HEME_METABOLISM\"                   => (-0.303428, -0.122497)\n",
       "  \"HALLMARK_MITOTIC_SPINDLE\"                   => (-0.516912, -0.288146)\n",
       "  \"HALLMARK_FATTY_ACID_METABOLISM\"             => (-0.136235, -0.00461107)\n",
       "  \"HALLMARK_COMPLEMENT\"                        => (-0.371534, -0.190926)\n",
       "  \"HALLMARK_APICAL_SURFACE\"                    => (-0.366325, -0.195664)\n",
       "  \"HALLMARK_ESTROGEN_RESPONSE_EARLY\"           => (-0.283638, -0.098269)\n",
       "  \"HALLMARK_INTERFERON_GAMMA_RESPONSE\"         => (-0.330132, -0.154029)\n",
       "  \"HALLMARK_MTORC1_SIGNALING\"                  => (0.267661, 0.0559313)\n",
       "  ⋮                                            => ⋮"
      ]
     },
     "execution_count": 8,
     "metadata": {},
     "output_type": "execute_result"
    }
   ],
   "source": [
    "@btime OnePiece.feature_set_enrichment.score_set(fe_, sc_, se_fe_)"
   ]
  },
  {
   "cell_type": "markdown",
   "id": "c05bbb40",
   "metadata": {},
   "source": [
    "## score_set se_fe_sa"
   ]
  },
  {
   "cell_type": "code",
   "execution_count": 9,
   "id": "d1d27936",
   "metadata": {
    "execution": {
     "iopub.execute_input": "2022-07-13T12:56:00.214000Z",
     "iopub.status.busy": "2022-07-13T12:56:00.214000Z",
     "iopub.status.idle": "2022-07-13T12:56:19.316000Z",
     "shell.execute_reply": "2022-07-13T12:56:19.315000Z"
    }
   },
   "outputs": [
    {
     "name": "stdout",
     "output_type": "stream",
     "text": [
      "  533.529 ms (612412 allocations: 780.36 MiB)\n"
     ]
    },
    {
     "data": {
      "text/html": [
       "<div class=\"data-frame\"><p>50 rows × 4 columns</p><table class=\"data-frame\"><thead><tr><th></th><th>Set</th><th>Score</th><th>Score x 10</th><th>Constant</th></tr><tr><th></th><th title=\"Any\">Any</th><th title=\"Float64\">Float64</th><th title=\"Float64\">Float64</th><th title=\"Float64\">Float64</th></tr></thead><tbody><tr><th>1</th><td>HALLMARK_ANGIOGENESIS</td><td>-0.122866</td><td>-0.122866</td><td>-0.105384</td></tr><tr><th>2</th><td>HALLMARK_MYOGENESIS</td><td>-0.140079</td><td>-0.140079</td><td>-0.087977</td></tr><tr><th>3</th><td>HALLMARK_PEROXISOME</td><td>-0.0118913</td><td>-0.0118913</td><td>-0.00995124</td></tr><tr><th>4</th><td>HALLMARK_UV_RESPONSE_DN</td><td>-0.236558</td><td>-0.236558</td><td>-0.187174</td></tr><tr><th>5</th><td>HALLMARK_NOTCH_SIGNALING</td><td>-0.129779</td><td>-0.129779</td><td>-0.0829896</td></tr><tr><th>6</th><td>HALLMARK_ANDROGEN_RESPONSE</td><td>-0.123181</td><td>-0.123181</td><td>-0.0928491</td></tr><tr><th>7</th><td>HALLMARK_ALLOGRAFT_REJECTION</td><td>-0.0929859</td><td>-0.0929859</td><td>-0.054801</td></tr><tr><th>8</th><td>HALLMARK_ESTROGEN_RESPONSE_LATE</td><td>-0.102991</td><td>-0.102991</td><td>-0.0758278</td></tr><tr><th>9</th><td>HALLMARK_G2M_CHECKPOINT</td><td>-0.0778287</td><td>-0.0778287</td><td>-0.0762015</td></tr><tr><th>10</th><td>HALLMARK_MYC_TARGETS_V2</td><td>0.427659</td><td>0.427659</td><td>0.442545</td></tr><tr><th>11</th><td>HALLMARK_APOPTOSIS</td><td>-0.218248</td><td>-0.218248</td><td>-0.182831</td></tr><tr><th>12</th><td>HALLMARK_P53_PATHWAY</td><td>-0.125174</td><td>-0.125174</td><td>-0.0912259</td></tr><tr><th>13</th><td>HALLMARK_UNFOLDED_PROTEIN_RESPONSE</td><td>0.19243</td><td>0.19243</td><td>0.137894</td></tr><tr><th>14</th><td>HALLMARK_ADIPOGENESIS</td><td>0.0773057</td><td>0.0773057</td><td>0.0447599</td></tr><tr><th>15</th><td>HALLMARK_DNA_REPAIR</td><td>0.161998</td><td>0.161998</td><td>0.106227</td></tr><tr><th>16</th><td>HALLMARK_EPITHELIAL_MESENCHYMAL_TRANSITION</td><td>-0.220522</td><td>-0.220522</td><td>-0.168112</td></tr><tr><th>17</th><td>HALLMARK_OXIDATIVE_PHOSPHORYLATION</td><td>0.211006</td><td>0.211006</td><td>0.166587</td></tr><tr><th>18</th><td>HALLMARK_HEME_METABOLISM</td><td>-0.113203</td><td>-0.113203</td><td>-0.073106</td></tr><tr><th>19</th><td>HALLMARK_MITOTIC_SPINDLE</td><td>-0.262324</td><td>-0.262324</td><td>-0.223658</td></tr><tr><th>20</th><td>HALLMARK_FATTY_ACID_METABOLISM</td><td>0.00647205</td><td>0.00647205</td><td>0.00816595</td></tr><tr><th>21</th><td>HALLMARK_COMPLEMENT</td><td>-0.173296</td><td>-0.173296</td><td>-0.126062</td></tr><tr><th>22</th><td>HALLMARK_APICAL_SURFACE</td><td>-0.172314</td><td>-0.172314</td><td>-0.10539</td></tr><tr><th>23</th><td>HALLMARK_ESTROGEN_RESPONSE_EARLY</td><td>-0.0887062</td><td>-0.0887062</td><td>-0.0704181</td></tr><tr><th>24</th><td>HALLMARK_INTERFERON_GAMMA_RESPONSE</td><td>-0.142983</td><td>-0.142983</td><td>-0.0936124</td></tr><tr><th>25</th><td>HALLMARK_MTORC1_SIGNALING</td><td>0.0702363</td><td>0.0702363</td><td>0.0417758</td></tr><tr><th>26</th><td>HALLMARK_INTERFERON_ALPHA_RESPONSE</td><td>-0.132168</td><td>-0.132168</td><td>-0.0962106</td></tr><tr><th>27</th><td>HALLMARK_REACTIVE_OXYGEN_SPECIES_PATHWAY</td><td>-0.0305164</td><td>-0.0305164</td><td>-0.00840124</td></tr><tr><th>28</th><td>HALLMARK_PI3K_AKT_MTOR_SIGNALING</td><td>-0.0799838</td><td>-0.0799838</td><td>-0.0709737</td></tr><tr><th>29</th><td>HALLMARK_XENOBIOTIC_METABOLISM</td><td>-0.0581369</td><td>-0.0581369</td><td>-0.0335013</td></tr><tr><th>30</th><td>HALLMARK_KRAS_SIGNALING_DN</td><td>-0.0937296</td><td>-0.0937296</td><td>-0.0529048</td></tr><tr><th>&vellip;</th><td>&vellip;</td><td>&vellip;</td><td>&vellip;</td><td>&vellip;</td></tr></tbody></table></div>"
      ],
      "text/latex": [
       "\\begin{tabular}{r|cccc}\n",
       "\t& Set & Score & Score x 10 & Constant\\\\\n",
       "\t\\hline\n",
       "\t& Any & Float64 & Float64 & Float64\\\\\n",
       "\t\\hline\n",
       "\t1 & HALLMARK\\_ANGIOGENESIS & -0.122866 & -0.122866 & -0.105384 \\\\\n",
       "\t2 & HALLMARK\\_MYOGENESIS & -0.140079 & -0.140079 & -0.087977 \\\\\n",
       "\t3 & HALLMARK\\_PEROXISOME & -0.0118913 & -0.0118913 & -0.00995124 \\\\\n",
       "\t4 & HALLMARK\\_UV\\_RESPONSE\\_DN & -0.236558 & -0.236558 & -0.187174 \\\\\n",
       "\t5 & HALLMARK\\_NOTCH\\_SIGNALING & -0.129779 & -0.129779 & -0.0829896 \\\\\n",
       "\t6 & HALLMARK\\_ANDROGEN\\_RESPONSE & -0.123181 & -0.123181 & -0.0928491 \\\\\n",
       "\t7 & HALLMARK\\_ALLOGRAFT\\_REJECTION & -0.0929859 & -0.0929859 & -0.054801 \\\\\n",
       "\t8 & HALLMARK\\_ESTROGEN\\_RESPONSE\\_LATE & -0.102991 & -0.102991 & -0.0758278 \\\\\n",
       "\t9 & HALLMARK\\_G2M\\_CHECKPOINT & -0.0778287 & -0.0778287 & -0.0762015 \\\\\n",
       "\t10 & HALLMARK\\_MYC\\_TARGETS\\_V2 & 0.427659 & 0.427659 & 0.442545 \\\\\n",
       "\t11 & HALLMARK\\_APOPTOSIS & -0.218248 & -0.218248 & -0.182831 \\\\\n",
       "\t12 & HALLMARK\\_P53\\_PATHWAY & -0.125174 & -0.125174 & -0.0912259 \\\\\n",
       "\t13 & HALLMARK\\_UNFOLDED\\_PROTEIN\\_RESPONSE & 0.19243 & 0.19243 & 0.137894 \\\\\n",
       "\t14 & HALLMARK\\_ADIPOGENESIS & 0.0773057 & 0.0773057 & 0.0447599 \\\\\n",
       "\t15 & HALLMARK\\_DNA\\_REPAIR & 0.161998 & 0.161998 & 0.106227 \\\\\n",
       "\t16 & HALLMARK\\_EPITHELIAL\\_MESENCHYMAL\\_TRANSITION & -0.220522 & -0.220522 & -0.168112 \\\\\n",
       "\t17 & HALLMARK\\_OXIDATIVE\\_PHOSPHORYLATION & 0.211006 & 0.211006 & 0.166587 \\\\\n",
       "\t18 & HALLMARK\\_HEME\\_METABOLISM & -0.113203 & -0.113203 & -0.073106 \\\\\n",
       "\t19 & HALLMARK\\_MITOTIC\\_SPINDLE & -0.262324 & -0.262324 & -0.223658 \\\\\n",
       "\t20 & HALLMARK\\_FATTY\\_ACID\\_METABOLISM & 0.00647205 & 0.00647205 & 0.00816595 \\\\\n",
       "\t21 & HALLMARK\\_COMPLEMENT & -0.173296 & -0.173296 & -0.126062 \\\\\n",
       "\t22 & HALLMARK\\_APICAL\\_SURFACE & -0.172314 & -0.172314 & -0.10539 \\\\\n",
       "\t23 & HALLMARK\\_ESTROGEN\\_RESPONSE\\_EARLY & -0.0887062 & -0.0887062 & -0.0704181 \\\\\n",
       "\t24 & HALLMARK\\_INTERFERON\\_GAMMA\\_RESPONSE & -0.142983 & -0.142983 & -0.0936124 \\\\\n",
       "\t25 & HALLMARK\\_MTORC1\\_SIGNALING & 0.0702363 & 0.0702363 & 0.0417758 \\\\\n",
       "\t26 & HALLMARK\\_INTERFERON\\_ALPHA\\_RESPONSE & -0.132168 & -0.132168 & -0.0962106 \\\\\n",
       "\t27 & HALLMARK\\_REACTIVE\\_OXYGEN\\_SPECIES\\_PATHWAY & -0.0305164 & -0.0305164 & -0.00840124 \\\\\n",
       "\t28 & HALLMARK\\_PI3K\\_AKT\\_MTOR\\_SIGNALING & -0.0799838 & -0.0799838 & -0.0709737 \\\\\n",
       "\t29 & HALLMARK\\_XENOBIOTIC\\_METABOLISM & -0.0581369 & -0.0581369 & -0.0335013 \\\\\n",
       "\t30 & HALLMARK\\_KRAS\\_SIGNALING\\_DN & -0.0937296 & -0.0937296 & -0.0529048 \\\\\n",
       "\t$\\dots$ & $\\dots$ & $\\dots$ & $\\dots$ & $\\dots$ \\\\\n",
       "\\end{tabular}\n"
      ],
      "text/plain": [
       "\u001b[1m50×4 DataFrame\u001b[0m\n",
       "\u001b[1m Row \u001b[0m│\u001b[1m Set                               \u001b[0m\u001b[1m Score       \u001b[0m\u001b[1m Score x 10  \u001b[0m\u001b[1m Constant  \u001b[0m ⋯\n",
       "\u001b[1m     \u001b[0m│\u001b[90m Any                               \u001b[0m\u001b[90m Float64     \u001b[0m\u001b[90m Float64     \u001b[0m\u001b[90m Float64   \u001b[0m ⋯\n",
       "─────┼──────────────────────────────────────────────────────────────────────────\n",
       "   1 │ HALLMARK_ANGIOGENESIS              -0.122866    -0.122866    -0.105384  ⋯\n",
       "   2 │ HALLMARK_MYOGENESIS                -0.140079    -0.140079    -0.087977\n",
       "   3 │ HALLMARK_PEROXISOME                -0.0118913   -0.0118913   -0.0099512\n",
       "   4 │ HALLMARK_UV_RESPONSE_DN            -0.236558    -0.236558    -0.187174\n",
       "   5 │ HALLMARK_NOTCH_SIGNALING           -0.129779    -0.129779    -0.0829896 ⋯\n",
       "   6 │ HALLMARK_ANDROGEN_RESPONSE         -0.123181    -0.123181    -0.0928491\n",
       "   7 │ HALLMARK_ALLOGRAFT_REJECTION       -0.0929859   -0.0929859   -0.054801\n",
       "   8 │ HALLMARK_ESTROGEN_RESPONSE_LATE    -0.102991    -0.102991    -0.0758278\n",
       "   9 │ HALLMARK_G2M_CHECKPOINT            -0.0778287   -0.0778287   -0.0762015 ⋯\n",
       "  10 │ HALLMARK_MYC_TARGETS_V2             0.427659     0.427659     0.442545\n",
       "  11 │ HALLMARK_APOPTOSIS                 -0.218248    -0.218248    -0.182831\n",
       "  ⋮  │                 ⋮                       ⋮            ⋮            ⋮     ⋱\n",
       "  41 │ HALLMARK_KRAS_SIGNALING_UP         -0.177377    -0.177377    -0.107594\n",
       "  42 │ HALLMARK_INFLAMMATORY_RESPONSE     -0.188552    -0.188552    -0.116469  ⋯\n",
       "  43 │ HALLMARK_CHOLESTEROL_HOMEOSTASIS   -0.230813    -0.230813    -0.187211\n",
       "  44 │ HALLMARK_TGF_BETA_SIGNALING        -0.288162    -0.288162    -0.230805\n",
       "  45 │ HALLMARK_PANCREAS_BETA_CELLS        0.0292922    0.0292922    0.0300119\n",
       "  46 │ HALLMARK_COAGULATION               -0.221988    -0.221988    -0.142929  ⋯\n",
       "  47 │ HALLMARK_HYPOXIA                   -0.176878    -0.176878    -0.136809\n",
       "  48 │ HALLMARK_GLYCOLYSIS                 0.0225034    0.0225034    0.0023634\n",
       "  49 │ HALLMARK_HEDGEHOG_SIGNALING        -0.11097     -0.11097     -0.0500709\n",
       "  50 │ HALLMARK_IL6_JAK_STAT3_SIGNALING   -0.176611    -0.176611    -0.100646  ⋯\n",
       "\u001b[36m                                                    1 column and 29 rows omitted\u001b[0m"
      ]
     },
     "execution_count": 9,
     "metadata": {},
     "output_type": "execute_result"
    }
   ],
   "source": [
    "@btime OnePiece.feature_set_enrichment.score_set(sc_fe_sa, se_fe_)"
   ]
  },
  {
   "cell_type": "markdown",
   "id": "00311ae3",
   "metadata": {},
   "source": [
    "## score_set_new"
   ]
  },
  {
   "cell_type": "code",
   "execution_count": 10,
   "id": "2af0ca36",
   "metadata": {
    "execution": {
     "iopub.execute_input": "2022-07-13T12:56:19.319000Z",
     "iopub.status.busy": "2022-07-13T12:56:19.319000Z",
     "iopub.status.idle": "2022-07-13T12:56:30.493000Z",
     "shell.execute_reply": "2022-07-13T12:56:30.493000Z"
    }
   },
   "outputs": [
    {
     "name": "stdout",
     "output_type": "stream",
     "text": [
      "  2.196 ms (76 allocations: 5.07 MiB)\n"
     ]
    },
    {
     "data": {
      "text/plain": [
       "(0.9565661396055923, 0.3875330984446073)"
      ]
     },
     "execution_count": 10,
     "metadata": {},
     "output_type": "execute_result"
    }
   ],
   "source": [
    "@btime OnePiece.feature_set_enrichment.score_set_new(fe_, sc_, fe1_, pl = false)"
   ]
  },
  {
   "cell_type": "markdown",
   "id": "b2a7930a",
   "metadata": {},
   "source": [
    "## score_set_new se_fe_"
   ]
  },
  {
   "cell_type": "code",
   "execution_count": 11,
   "id": "4f8f9080",
   "metadata": {
    "execution": {
     "iopub.execute_input": "2022-07-13T12:56:30.497000Z",
     "iopub.status.busy": "2022-07-13T12:56:30.497000Z",
     "iopub.status.idle": "2022-07-13T12:56:43.363000Z",
     "shell.execute_reply": "2022-07-13T12:56:43.363000Z"
    }
   },
   "outputs": [
    {
     "name": "stdout",
     "output_type": "stream",
     "text": [
      "  159.447 ms (4015 allocations: 253.89 MiB)\n"
     ]
    },
    {
     "data": {
      "text/plain": [
       "Dict{SubString{String}, Tuple{Float64, Float64}} with 50 entries:\n",
       "  \"HALLMARK_ANGIOGENESIS\"                      => (-0.22187, -0.122866)\n",
       "  \"HALLMARK_MYOGENESIS\"                        => (-0.245769, -0.140079)\n",
       "  \"HALLMARK_PEROXISOME\"                        => (-0.0604092, -0.0118913)\n",
       "  \"HALLMARK_UV_RESPONSE_DN\"                    => (-0.411115, -0.236558)\n",
       "  \"HALLMARK_NOTCH_SIGNALING\"                   => (-0.254633, -0.129779)\n",
       "  \"HALLMARK_ANDROGEN_RESPONSE\"                 => (-0.202441, -0.123181)\n",
       "  \"HALLMARK_ALLOGRAFT_REJECTION\"               => (-0.123326, -0.0929859)\n",
       "  \"HALLMARK_ESTROGEN_RESPONSE_LATE\"            => (-0.16436, -0.102991)\n",
       "  \"HALLMARK_G2M_CHECKPOINT\"                    => (-0.200643, -0.0778287)\n",
       "  \"HALLMARK_MYC_TARGETS_V2\"                    => (1.30736, 0.427659)\n",
       "  \"HALLMARK_APOPTOSIS\"                         => (-0.368031, -0.218248)\n",
       "  \"HALLMARK_P53_PATHWAY\"                       => (-0.245543, -0.125174)\n",
       "  \"HALLMARK_UNFOLDED_PROTEIN_RESPONSE\"         => (0.333853, 0.19243)\n",
       "  \"HALLMARK_ADIPOGENESIS\"                      => (0.166327, 0.0773057)\n",
       "  \"HALLMARK_DNA_REPAIR\"                        => (0.27695, 0.161998)\n",
       "  \"HALLMARK_EPITHELIAL_MESENCHYMAL_TRANSITION\" => (-0.39543, -0.220522)\n",
       "  \"HALLMARK_OXIDATIVE_PHOSPHORYLATION\"         => (0.33467, 0.211006)\n",
       "  \"HALLMARK_HEME_METABOLISM\"                   => (-0.215487, -0.113203)\n",
       "  \"HALLMARK_MITOTIC_SPINDLE\"                   => (-0.429017, -0.262324)\n",
       "  \"HALLMARK_FATTY_ACID_METABOLISM\"             => (-0.04175, 0.00647205)\n",
       "  \"HALLMARK_COMPLEMENT\"                        => (-0.258374, -0.173296)\n",
       "  \"HALLMARK_APICAL_SURFACE\"                    => (-0.25522, -0.172314)\n",
       "  \"HALLMARK_ESTROGEN_RESPONSE_EARLY\"           => (-0.168505, -0.0887062)\n",
       "  \"HALLMARK_INTERFERON_GAMMA_RESPONSE\"         => (-0.21711, -0.142983)\n",
       "  \"HALLMARK_MTORC1_SIGNALING\"                  => (0.193551, 0.0702363)\n",
       "  ⋮                                            => ⋮"
      ]
     },
     "execution_count": 11,
     "metadata": {},
     "output_type": "execute_result"
    }
   ],
   "source": [
    "@btime OnePiece.feature_set_enrichment.score_set_new(fe_, sc_, se_fe_)"
   ]
  },
  {
   "cell_type": "markdown",
   "id": "a13a98f6",
   "metadata": {},
   "source": [
    "---"
   ]
  }
 ],
 "metadata": {
  "@webio": {
   "lastCommId": null,
   "lastKernelId": null
  },
  "kernelspec": {
   "display_name": "Julia 1.7.3",
   "language": "julia",
   "name": "julia-1.7"
  },
  "language_info": {
   "file_extension": ".jl",
   "mimetype": "application/julia",
   "name": "julia",
   "version": "1.7.3"
  }
 },
 "nbformat": 4,
 "nbformat_minor": 5
}
