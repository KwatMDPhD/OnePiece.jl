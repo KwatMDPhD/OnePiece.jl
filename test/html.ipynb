{
 "cells": [
  {
   "cell_type": "code",
   "execution_count": null,
   "id": "baf12f00",
   "metadata": {},
   "outputs": [],
   "source": [
    "#using Revise\n",
    "using OnePiece"
   ]
  },
  {
   "cell_type": "markdown",
   "id": "07cba447",
   "metadata": {},
   "source": [
    "## make"
   ]
  },
  {
   "cell_type": "code",
   "execution_count": null,
   "id": "f0b8b2cf",
   "metadata": {},
   "outputs": [],
   "source": [
    "println(\n",
    "    read(\n",
    "        OnePiece.html.make(\n",
    "            \"DIV_ID\",\n",
    "            (\"SOURCE1\", \"SOURCE2\"),\n",
    "            \"SCRIPT\",\n",
    "            joinpath(tempdir(), \"name.html\"),\n",
    "        ),\n",
    "        String,\n",
    "    ),\n",
    ")"
   ]
  }
 ],
 "metadata": {
  "kernelspec": {
   "display_name": "Julia 1.7.3",
   "language": "julia",
   "name": "julia-1.7"
  },
  "language_info": {
   "file_extension": ".jl",
   "mimetype": "application/julia",
   "name": "julia",
   "version": "1.7.3"
  }
 },
 "nbformat": 4,
 "nbformat_minor": 5
}
