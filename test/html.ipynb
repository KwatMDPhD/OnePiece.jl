{
 "cells": [
  {
   "cell_type": "code",
   "execution_count": 1,
   "id": "baf12f00",
   "metadata": {
    "execution": {
     "iopub.execute_input": "2022-07-13T16:50:02.978000Z",
     "iopub.status.busy": "2022-07-13T16:50:02.633000Z",
     "iopub.status.idle": "2022-07-13T16:50:07.248000Z",
     "shell.execute_reply": "2022-07-13T16:50:07.202000Z"
    }
   },
   "outputs": [],
   "source": [
    "using OnePiece"
   ]
  },
  {
   "cell_type": "code",
   "execution_count": 2,
   "id": "fa4edf0c",
   "metadata": {
    "execution": {
     "iopub.execute_input": "2022-07-13T16:50:07.718000Z",
     "iopub.status.busy": "2022-07-13T16:50:07.265000Z",
     "iopub.status.idle": "2022-07-13T16:50:08.324000Z",
     "shell.execute_reply": "2022-07-13T16:50:08.323000Z"
    }
   },
   "outputs": [
    {
     "data": {
      "text/plain": [
       "\"/var/folders/mg/30npdf0s1z36txb2qvgylrzh0000gn/T/OnePiece.test.html\""
      ]
     },
     "execution_count": 2,
     "metadata": {},
     "output_type": "execute_result"
    }
   ],
   "source": [
    "te = OnePiece.path.make_temporary(\"OnePiece.test.html\")"
   ]
  },
  {
   "cell_type": "markdown",
   "id": "07cba447",
   "metadata": {},
   "source": [
    "## make"
   ]
  },
  {
   "cell_type": "code",
   "execution_count": 3,
   "id": "f0b8b2cf",
   "metadata": {
    "execution": {
     "iopub.execute_input": "2022-07-13T16:50:08.327000Z",
     "iopub.status.busy": "2022-07-13T16:50:08.327000Z",
     "iopub.status.idle": "2022-07-13T16:50:08.447000Z",
     "shell.execute_reply": "2022-07-13T16:50:08.446000Z"
    }
   },
   "outputs": [
    {
     "name": "stdout",
     "output_type": "stream",
     "text": [
      "Made /var/folders/mg/30npdf0s1z36txb2qvgylrzh0000gn/T/OnePiece.test.html/name.html.\n",
      "\n"
     ]
    }
   ],
   "source": [
    "println(\n",
    "    read(\n",
    "        OnePiece.html.make(\"DIV_ID\", (\"SOURCE1\", \"SOURCE2\"), \"SCRIPT\", joinpath(te, \"name.html\")),\n",
    "        String,\n",
    "    ),\n",
    ")"
   ]
  }
 ],
 "metadata": {
  "kernelspec": {
   "display_name": "Julia 1.7.3",
   "language": "julia",
   "name": "julia-1.7"
  },
  "language_info": {
   "file_extension": ".jl",
   "mimetype": "application/julia",
   "name": "julia",
   "version": "1.7.3"
  }
 },
 "nbformat": 4,
 "nbformat_minor": 5
}
