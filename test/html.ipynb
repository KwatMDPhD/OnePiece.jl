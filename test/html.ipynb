{
 "cells": [
  {
   "cell_type": "code",
   "execution_count": 1,
   "id": "baf12f00",
   "metadata": {
    "execution": {
     "iopub.execute_input": "2022-07-13T12:52:04.906000Z",
     "iopub.status.busy": "2022-07-13T12:52:04.555000Z",
     "iopub.status.idle": "2022-07-13T12:52:09.621000Z",
     "shell.execute_reply": "2022-07-13T12:52:09.574000Z"
    }
   },
   "outputs": [],
   "source": [
    "using OnePiece"
   ]
  },
  {
   "cell_type": "markdown",
   "id": "dfe2123a",
   "metadata": {},
   "source": [
    "---"
   ]
  },
  {
   "cell_type": "markdown",
   "id": "07cba447",
   "metadata": {},
   "source": [
    "## make"
   ]
  },
  {
   "cell_type": "code",
   "execution_count": 2,
   "id": "f0b8b2cf",
   "metadata": {
    "execution": {
     "iopub.execute_input": "2022-07-13T12:52:10.110000Z",
     "iopub.status.busy": "2022-07-13T12:52:09.643000Z",
     "iopub.status.idle": "2022-07-13T12:52:10.273000Z",
     "shell.execute_reply": "2022-07-13T12:52:10.272000Z"
    }
   },
   "outputs": [
    {
     "name": "stdout",
     "output_type": "stream",
     "text": [
      "Made /var/folders/mg/30npdf0s1z36txb2qvgylrzh0000gn/T/name.html.\n",
      "\n"
     ]
    }
   ],
   "source": [
    "println(\n",
    "    read(\n",
    "        OnePiece.html.make(\n",
    "            \"DIV_ID\",\n",
    "            (\"SOURCE1\", \"SOURCE2\"),\n",
    "            \"SCRIPT\",\n",
    "            joinpath(tempdir(), \"name.html\"),\n",
    "        ),\n",
    "        String,\n",
    "    ),\n",
    ")"
   ]
  },
  {
   "cell_type": "markdown",
   "id": "67471b07",
   "metadata": {},
   "source": [
    "---"
   ]
  }
 ],
 "metadata": {
  "kernelspec": {
   "display_name": "Julia 1.7.3",
   "language": "julia",
   "name": "julia-1.7"
  },
  "language_info": {
   "file_extension": ".jl",
   "mimetype": "application/julia",
   "name": "julia",
   "version": "1.7.3"
  }
 },
 "nbformat": 4,
 "nbformat_minor": 5
}
