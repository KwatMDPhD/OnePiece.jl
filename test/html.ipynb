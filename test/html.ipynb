{
 "cells": [
  {
   "cell_type": "code",
   "execution_count": 1,
   "id": "baf12f00",
   "metadata": {
    "execution": {
     "iopub.execute_input": "2022-07-03T14:55:57.800000Z",
     "iopub.status.busy": "2022-07-03T14:55:57.464000Z",
     "iopub.status.idle": "2022-07-03T14:56:03.220000Z",
     "shell.execute_reply": "2022-07-03T14:56:03.175000Z"
    }
   },
   "outputs": [],
   "source": [
    "using Revise\n",
    "using OnePiece"
   ]
  },
  {
   "cell_type": "markdown",
   "id": "07cba447",
   "metadata": {},
   "source": [
    "## make"
   ]
  },
  {
   "cell_type": "code",
   "execution_count": 2,
   "id": "f0b8b2cf",
   "metadata": {
    "execution": {
     "iopub.execute_input": "2022-07-03T14:56:03.611000Z",
     "iopub.status.busy": "2022-07-03T14:56:03.223000Z",
     "iopub.status.idle": "2022-07-03T14:56:04.517000Z",
     "shell.execute_reply": "2022-07-03T14:56:04.517000Z"
    }
   },
   "outputs": [
    {
     "name": "stdout",
     "output_type": "stream",
     "text": [
      "Made /var/folders/mg/30npdf0s1z36txb2qvgylrzh0000gn/T/name.html.\n",
      "<!doctype html>\n",
      "<div id=\"DIV_ID\" style=\"display: block; height: 1000px; width: 80%; margin-left: auto; margin-right: auto; background: #fdfdfd\"></div>\n",
      "<script src=\"SOURCE1\"></script>\n",
      "<script src=\"SOURCE2\"></script>\n",
      "<script>\n",
      "SCRIPT\n",
      "</script>\n",
      "\n"
     ]
    }
   ],
   "source": [
    "println(read(OnePiece.html.make(\"DIV_ID\", (\"SOURCE1\", \"SOURCE2\"), \"SCRIPT\", joinpath(tempdir(), \"name.html\")), String))"
   ]
  }
 ],
 "metadata": {
  "kernelspec": {
   "display_name": "Julia 1.7.3",
   "language": "julia",
   "name": "julia-1.7"
  },
  "language_info": {
   "file_extension": ".jl",
   "mimetype": "application/julia",
   "name": "julia",
   "version": "1.7.3"
  }
 },
 "nbformat": 4,
 "nbformat_minor": 5
}
