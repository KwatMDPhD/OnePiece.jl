{
 "cells": [
  {
   "cell_type": "code",
   "execution_count": 1,
   "id": "baf12f00",
   "metadata": {
    "execution": {
     "iopub.execute_input": "2022-07-10T14:23:54.108000Z",
     "iopub.status.busy": "2022-07-10T14:23:53.763000Z",
     "iopub.status.idle": "2022-07-10T14:23:58.632000Z",
     "shell.execute_reply": "2022-07-10T14:23:58.585000Z"
    }
   },
   "outputs": [],
   "source": [
    "using OnePiece"
   ]
  },
  {
   "cell_type": "markdown",
   "id": "85c5fe40",
   "metadata": {},
   "source": [
    "---"
   ]
  },
  {
   "cell_type": "markdown",
   "id": "6540eb5c",
   "metadata": {},
   "source": [
    "## fractionate"
   ]
  },
  {
   "cell_type": "code",
   "execution_count": 2,
   "id": "fa72c273",
   "metadata": {
    "execution": {
     "iopub.execute_input": "2022-07-10T14:23:59.127000Z",
     "iopub.status.busy": "2022-07-10T14:23:58.651000Z",
     "iopub.status.idle": "2022-07-10T14:23:59.310000Z",
     "shell.execute_reply": "2022-07-10T14:23:59.310000Z"
    }
   },
   "outputs": [
    {
     "name": "stdout",
     "output_type": "stream",
     "text": [
      "0.1\n",
      "0.2\n",
      "0.3\n",
      "0.4\n",
      "0.5\n",
      "0.6\n",
      "0.7\n",
      "0.8\n",
      "0.9\n",
      "0.91\n",
      "0.92\n",
      "0.93\n",
      "0.94\n",
      "0.95\n",
      "0.96\n",
      "0.97\n",
      "0.98\n",
      "0.99\n",
      "0.991\n",
      "0.992\n",
      "0.993\n",
      "0.994\n",
      "0.995\n",
      "0.996\n",
      "0.997\n",
      "0.998\n",
      "0.999\n",
      "0.9991\n"
     ]
    }
   ],
   "source": [
    "for it in 1:28\n",
    "\n",
    "    println(OnePiece.number.fractionate(it))\n",
    "\n",
    "end"
   ]
  },
  {
   "cell_type": "markdown",
   "id": "e75cf07b",
   "metadata": {},
   "source": [
    "---"
   ]
  }
 ],
 "metadata": {
  "kernelspec": {
   "display_name": "Julia 1.7.3",
   "language": "julia",
   "name": "julia-1.7"
  },
  "language_info": {
   "file_extension": ".jl",
   "mimetype": "application/julia",
   "name": "julia",
   "version": "1.7.3"
  }
 },
 "nbformat": 4,
 "nbformat_minor": 5
}
