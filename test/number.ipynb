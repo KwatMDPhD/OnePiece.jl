{
 "cells": [
  {
   "cell_type": "code",
   "execution_count": null,
   "id": "baf12f00",
   "metadata": {},
   "outputs": [],
   "source": [
    "using OnePiece"
   ]
  },
  {
   "cell_type": "markdown",
   "id": "85c5fe40",
   "metadata": {},
   "source": [
    "---"
   ]
  },
  {
   "cell_type": "markdown",
   "id": "6540eb5c",
   "metadata": {},
   "source": [
    "## fractionate"
   ]
  },
  {
   "cell_type": "code",
   "execution_count": null,
   "id": "fa72c273",
   "metadata": {},
   "outputs": [],
   "source": [
    "for it in 1:28\n",
    "\n",
    "    println(OnePiece.number.fractionate(it))\n",
    "\n",
    "end"
   ]
  },
  {
   "cell_type": "markdown",
   "id": "e75cf07b",
   "metadata": {},
   "source": [
    "---"
   ]
  }
 ],
 "metadata": {
  "kernelspec": {
   "display_name": "Julia 1.7.3",
   "language": "julia",
   "name": "julia-1.7"
  },
  "language_info": {
   "file_extension": ".jl",
   "mimetype": "application/julia",
   "name": "julia",
   "version": "1.7.3"
  }
 },
 "nbformat": 4,
 "nbformat_minor": 5
}
