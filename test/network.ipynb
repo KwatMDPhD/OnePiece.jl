{
 "cells": [
  {
   "cell_type": "code",
   "execution_count": 1,
   "id": "baf12f00",
   "metadata": {
    "execution": {
     "iopub.execute_input": "2022-07-03T14:57:02.921000Z",
     "iopub.status.busy": "2022-07-03T14:57:02.549000Z",
     "iopub.status.idle": "2022-07-03T14:57:08.624000Z",
     "shell.execute_reply": "2022-07-03T14:57:08.576000Z"
    }
   },
   "outputs": [],
   "source": [
    "using Revise\n",
    "using OnePiece"
   ]
  },
  {
   "cell_type": "markdown",
   "id": "d8c30d07",
   "metadata": {},
   "source": [
    "## plot"
   ]
  },
  {
   "cell_type": "code",
   "execution_count": 2,
   "id": "6ab79a68",
   "metadata": {
    "execution": {
     "iopub.execute_input": "2022-07-03T14:57:09.011000Z",
     "iopub.status.busy": "2022-07-03T14:57:08.626000Z",
     "iopub.status.idle": "2022-07-03T14:57:11.191000Z",
     "shell.execute_reply": "2022-07-03T14:57:11.190000Z"
    }
   },
   "outputs": [
    {
     "name": "stdout",
     "output_type": "stream",
     "text": [
      "Made /Users/kwat/.julia/scratchspaces/1fe83854-81c0-42f7-afc9-71ba9af673ca/OnePiece.html/scratch.html.\n"
     ]
    },
    {
     "data": {
      "text/plain": [
       "\"/Users/kwat/.julia/scratchspaces/1fe83854-81c0-42f7-afc9-71ba9af673ca/OnePiece.html/scratch.html\""
      ]
     },
     "execution_count": 2,
     "metadata": {},
     "output_type": "execute_result"
    }
   ],
   "source": [
    "OnePiece.network.plot(\n",
    "    [\n",
    "        Dict(\"data\"=>Dict(\"id\"=>\"V1\"), \"position\"=>Dict(\"x\"=>0, \"y\"=>100), \"style\"=>Dict(\"background-color\"=>\"red\")),\n",
    "        Dict(\"data\"=>Dict(\"id\"=>\"V2\"), \"position\"=>Dict(\"x\"=>200, \"y\"=>300), \"style\"=>Dict(\"background-color\"=>\"blue\")),\n",
    "        Dict(\"data\"=>Dict(\"id\" => \"V1_V2\", \"source\" => \"V1\", \"target\" => \"V2\"), \"style\"=>Dict(\"line-color\"=>\"yellow\")),\n",
    "    ],\n",
    "    (),\n",
    "    Dict(\"name\"=>\"preset\"),\n",
    ")"
   ]
  }
 ],
 "metadata": {
  "@webio": {
   "lastCommId": null,
   "lastKernelId": null
  },
  "kernelspec": {
   "display_name": "Julia 1.7.3",
   "language": "julia",
   "name": "julia-1.7"
  },
  "language_info": {
   "file_extension": ".jl",
   "mimetype": "application/julia",
   "name": "julia",
   "version": "1.7.3"
  }
 },
 "nbformat": 4,
 "nbformat_minor": 5
}
