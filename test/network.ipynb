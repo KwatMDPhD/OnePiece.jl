{
 "cells": [
  {
   "cell_type": "code",
   "execution_count": 1,
   "id": "baf12f00",
   "metadata": {
    "execution": {
     "iopub.execute_input": "2022-07-07T21:26:30.122000Z",
     "iopub.status.busy": "2022-07-07T21:26:29.786000Z",
     "iopub.status.idle": "2022-07-07T21:26:34.372000Z",
     "shell.execute_reply": "2022-07-07T21:26:34.326000Z"
    }
   },
   "outputs": [],
   "source": [
    "using OnePiece"
   ]
  },
  {
   "cell_type": "markdown",
   "id": "537d3ca1",
   "metadata": {},
   "source": [
    "---"
   ]
  },
  {
   "cell_type": "markdown",
   "id": "d8c30d07",
   "metadata": {},
   "source": [
    "## plot"
   ]
  },
  {
   "cell_type": "code",
   "execution_count": 2,
   "id": "6ab79a68",
   "metadata": {
    "execution": {
     "iopub.execute_input": "2022-07-07T21:26:34.800000Z",
     "iopub.status.busy": "2022-07-07T21:26:34.393000Z",
     "iopub.status.idle": "2022-07-07T21:26:36.371000Z",
     "shell.execute_reply": "2022-07-07T21:26:36.370000Z"
    }
   },
   "outputs": [
    {
     "name": "stdout",
     "output_type": "stream",
     "text": [
      "Made /Users/kwat/.julia/scratchspaces/1fe83854-81c0-42f7-afc9-71ba9af673ca/OnePiece.html/2022-7-7_21:26:35.547.html.\n"
     ]
    },
    {
     "data": {
      "text/plain": [
       "Process(`\u001b[4mopen\u001b[24m \u001b[4m/Users/kwat/.julia/scratchspaces/1fe83854-81c0-42f7-afc9-71ba9af673ca/OnePiece.html/2022-7-7_21:26:35.547.html\u001b[24m`, ProcessExited(0))"
      ]
     },
     "execution_count": 2,
     "metadata": {},
     "output_type": "execute_result"
    }
   ],
   "source": [
    "OnePiece.network.plot(\n",
    "    [\n",
    "        Dict(\n",
    "            \"data\" => Dict(\"id\" => \"V1\"),\n",
    "            \"position\" => Dict(\"x\" => 0, \"y\" => 100),\n",
    "            \"style\" => Dict(\"background-color\" => \"red\"),\n",
    "        ),\n",
    "        Dict(\n",
    "            \"data\" => Dict(\"id\" => \"V2\"),\n",
    "            \"position\" => Dict(\"x\" => 200, \"y\" => 300),\n",
    "            \"style\" => Dict(\"background-color\" => \"blue\"),\n",
    "        ),\n",
    "        Dict(\n",
    "            \"data\" => Dict(\"id\" => \"V1_V2\", \"source\" => \"V1\", \"target\" => \"V2\"),\n",
    "            \"style\" => Dict(\"line-color\" => \"yellow\"),\n",
    "        ),\n",
    "    ],\n",
    "    (),\n",
    "    Dict(\"name\" => \"preset\"),\n",
    ")"
   ]
  },
  {
   "cell_type": "markdown",
   "id": "9d401743",
   "metadata": {},
   "source": [
    "---"
   ]
  }
 ],
 "metadata": {
  "@webio": {
   "lastCommId": null,
   "lastKernelId": null
  },
  "kernelspec": {
   "display_name": "Julia 1.7.3",
   "language": "julia",
   "name": "julia-1.7"
  },
  "language_info": {
   "file_extension": ".jl",
   "mimetype": "application/julia",
   "name": "julia",
   "version": "1.7.3"
  }
 },
 "nbformat": 4,
 "nbformat_minor": 5
}
