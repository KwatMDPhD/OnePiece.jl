{
 "cells": [
  {
   "cell_type": "code",
   "execution_count": null,
   "id": "baf12f00",
   "metadata": {},
   "outputs": [],
   "source": [
    "using Revise\n",
    "using OnePiece"
   ]
  },
  {
   "cell_type": "markdown",
   "id": "d8c30d07",
   "metadata": {},
   "source": [
    "## plot"
   ]
  },
  {
   "cell_type": "code",
   "execution_count": null,
   "id": "6ab79a68",
   "metadata": {},
   "outputs": [],
   "source": [
    "OnePiece.network.plot(\n",
    "    [\n",
    "        Dict(\n",
    "            \"data\" => Dict(\"id\" => \"V1\"),\n",
    "            \"position\" => Dict(\"x\" => 0, \"y\" => 100),\n",
    "            \"style\" => Dict(\"background-color\" => \"red\"),\n",
    "        ),\n",
    "        Dict(\n",
    "            \"data\" => Dict(\"id\" => \"V2\"),\n",
    "            \"position\" => Dict(\"x\" => 200, \"y\" => 300),\n",
    "            \"style\" => Dict(\"background-color\" => \"blue\"),\n",
    "        ),\n",
    "        Dict(\n",
    "            \"data\" => Dict(\"id\" => \"V1_V2\", \"source\" => \"V1\", \"target\" => \"V2\"),\n",
    "            \"style\" => Dict(\"line-color\" => \"yellow\"),\n",
    "        ),\n",
    "    ],\n",
    "    (),\n",
    "    Dict(\"name\" => \"preset\"),\n",
    ")"
   ]
  }
 ],
 "metadata": {
  "@webio": {
   "lastCommId": null,
   "lastKernelId": null
  },
  "kernelspec": {
   "display_name": "Julia 1.7.3",
   "language": "julia",
   "name": "julia-1.7"
  },
  "language_info": {
   "file_extension": ".jl",
   "mimetype": "application/julia",
   "name": "julia",
   "version": "1.7.3"
  }
 },
 "nbformat": 4,
 "nbformat_minor": 5
}
