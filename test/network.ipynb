{
 "cells": [
  {
   "cell_type": "code",
   "execution_count": 1,
   "id": "baf12f00",
   "metadata": {
    "execution": {
     "iopub.execute_input": "2022-07-13T16:51:20.758000Z",
     "iopub.status.busy": "2022-07-13T16:51:20.417000Z",
     "iopub.status.idle": "2022-07-13T16:51:25.035000Z",
     "shell.execute_reply": "2022-07-13T16:51:24.986000Z"
    }
   },
   "outputs": [],
   "source": [
    "using OnePiece"
   ]
  },
  {
   "cell_type": "code",
   "execution_count": 2,
   "id": "2f9e69a3",
   "metadata": {
    "execution": {
     "iopub.execute_input": "2022-07-13T16:51:25.505000Z",
     "iopub.status.busy": "2022-07-13T16:51:25.052000Z",
     "iopub.status.idle": "2022-07-13T16:51:26.116000Z",
     "shell.execute_reply": "2022-07-13T16:51:26.116000Z"
    }
   },
   "outputs": [
    {
     "data": {
      "text/plain": [
       "\"/var/folders/mg/30npdf0s1z36txb2qvgylrzh0000gn/T/OnePiece.test.network\""
      ]
     },
     "execution_count": 2,
     "metadata": {},
     "output_type": "execute_result"
    }
   ],
   "source": [
    "te = OnePiece.path.make_temporary(\"OnePiece.test.network\")"
   ]
  },
  {
   "cell_type": "markdown",
   "id": "d8c30d07",
   "metadata": {},
   "source": [
    "## plot"
   ]
  },
  {
   "cell_type": "code",
   "execution_count": 3,
   "id": "6ab79a68",
   "metadata": {
    "execution": {
     "iopub.execute_input": "2022-07-13T16:51:26.120000Z",
     "iopub.status.busy": "2022-07-13T16:51:26.119000Z",
     "iopub.status.idle": "2022-07-13T16:51:27.336000Z",
     "shell.execute_reply": "2022-07-13T16:51:27.336000Z"
    }
   },
   "outputs": [
    {
     "name": "stdout",
     "output_type": "stream",
     "text": [
      "Made /var/folders/mg/30npdf0s1z36txb2qvgylrzh0000gn/T/OnePiece.test.network/plot.html.\n"
     ]
    },
    {
     "data": {
      "text/plain": [
       "Process(`\u001b[4mopen\u001b[24m \u001b[4m/var/folders/mg/30npdf0s1z36txb2qvgylrzh0000gn/T/OnePiece.test.network/plot.html\u001b[24m`, ProcessRunning)"
      ]
     },
     "execution_count": 3,
     "metadata": {},
     "output_type": "execute_result"
    }
   ],
   "source": [
    "OnePiece.network.plot(\n",
    "    [\n",
    "        Dict(\n",
    "            \"data\" => Dict(\"id\" => \"V1\"),\n",
    "            \"position\" => Dict(\"x\" => 0, \"y\" => 100),\n",
    "            \"style\" => Dict(\"background-color\" => \"red\"),\n",
    "        ),\n",
    "        Dict(\n",
    "            \"data\" => Dict(\"id\" => \"V2\"),\n",
    "            \"position\" => Dict(\"x\" => 200, \"y\" => 300),\n",
    "            \"style\" => Dict(\"background-color\" => \"blue\"),\n",
    "        ),\n",
    "        Dict(\n",
    "            \"data\" => Dict(\"id\" => \"V1_V2\", \"source\" => \"V1\", \"target\" => \"V2\"),\n",
    "            \"style\" => Dict(\"line-color\" => \"yellow\"),\n",
    "        ),\n",
    "    ],\n",
    "    (),\n",
    "    Dict(\"name\" => \"preset\"),\n",
    "    ou = joinpath(te, \"plot.html\"),\n",
    ")"
   ]
  }
 ],
 "metadata": {
  "@webio": {
   "lastCommId": null,
   "lastKernelId": null
  },
  "kernelspec": {
   "display_name": "Julia 1.7.3",
   "language": "julia",
   "name": "julia-1.7"
  },
  "language_info": {
   "file_extension": ".jl",
   "mimetype": "application/julia",
   "name": "julia",
   "version": "1.7.3"
  }
 },
 "nbformat": 4,
 "nbformat_minor": 5
}
