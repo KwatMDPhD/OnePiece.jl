{
 "cells": [
  {
   "cell_type": "code",
   "execution_count": 1,
   "id": "baf12f00",
   "metadata": {
    "execution": {
     "iopub.execute_input": "2022-07-03T14:57:19.144000Z",
     "iopub.status.busy": "2022-07-03T14:57:18.755000Z",
     "iopub.status.idle": "2022-07-03T14:57:24.780000Z",
     "shell.execute_reply": "2022-07-03T14:57:24.733000Z"
    }
   },
   "outputs": [],
   "source": [
    "using Revise\n",
    "using OnePiece"
   ]
  },
  {
   "cell_type": "markdown",
   "id": "e7ba3772",
   "metadata": {},
   "source": [
    "## normalize!"
   ]
  },
  {
   "cell_type": "code",
   "execution_count": 2,
   "id": "1ec21868",
   "metadata": {
    "execution": {
     "iopub.execute_input": "2022-07-03T14:57:25.169000Z",
     "iopub.status.busy": "2022-07-03T14:57:24.782000Z",
     "iopub.status.idle": "2022-07-03T14:57:27.707000Z",
     "shell.execute_reply": "2022-07-03T14:57:27.706000Z"
    }
   },
   "outputs": [
    {
     "data": {
      "text/plain": [
       "6-element Vector{Float64}:\n",
       " NaN\n",
       "   0.0\n",
       "   0.5\n",
       " NaN\n",
       "   1.0\n",
       " NaN"
      ]
     },
     "execution_count": 2,
     "metadata": {},
     "output_type": "execute_result"
    }
   ],
   "source": [
    "te = [NaN, -2, 0, NaN, 2, NaN]\n",
    "\n",
    "OnePiece.normalization.normalize!(te, \"0-1\")\n",
    "\n",
    "te"
   ]
  },
  {
   "cell_type": "markdown",
   "id": "e7b837b5",
   "metadata": {},
   "source": [
    "## normalize"
   ]
  },
  {
   "cell_type": "code",
   "execution_count": 3,
   "id": "e319da3e",
   "metadata": {
    "execution": {
     "iopub.execute_input": "2022-07-03T14:57:27.710000Z",
     "iopub.status.busy": "2022-07-03T14:57:27.710000Z",
     "iopub.status.idle": "2022-07-03T14:57:28.838000Z",
     "shell.execute_reply": "2022-07-03T14:57:28.838000Z"
    }
   },
   "outputs": [
    {
     "name": "stdout",
     "output_type": "stream",
     "text": [
      "ErrorException(\"\")\n"
     ]
    }
   ],
   "source": [
    "try\n",
    "\n",
    "    OnePiece.normalization.normalize([], \"0-1\")\n",
    "\n",
    "catch er\n",
    "\n",
    "    println(er)\n",
    "\n",
    "end"
   ]
  },
  {
   "cell_type": "code",
   "execution_count": 4,
   "id": "e0ab7673",
   "metadata": {
    "execution": {
     "iopub.execute_input": "2022-07-03T14:57:28.841000Z",
     "iopub.status.busy": "2022-07-03T14:57:28.841000Z",
     "iopub.status.idle": "2022-07-03T14:57:29.140000Z",
     "shell.execute_reply": "2022-07-03T14:57:29.140000Z"
    }
   },
   "outputs": [
    {
     "name": "stdout",
     "output_type": "stream",
     "text": [
      "ErrorException(\"\")\n"
     ]
    }
   ],
   "source": [
    "try\n",
    "\n",
    "    OnePiece.normalization.normalize([-1, 0, 1], \"sum\")\n",
    "\n",
    "catch er\n",
    "\n",
    "    println(er)\n",
    "\n",
    "end"
   ]
  },
  {
   "cell_type": "code",
   "execution_count": 5,
   "id": "18a3a96f",
   "metadata": {
    "execution": {
     "iopub.execute_input": "2022-07-03T14:57:29.143000Z",
     "iopub.status.busy": "2022-07-03T14:57:29.142000Z",
     "iopub.status.idle": "2022-07-03T14:57:29.427000Z",
     "shell.execute_reply": "2022-07-03T14:57:29.427000Z"
    }
   },
   "outputs": [
    {
     "name": "stdout",
     "output_type": "stream",
     "text": [
      "[0]\n",
      "0-1\n",
      "[NaN]\n",
      "sum\n",
      "[NaN]\n",
      "-0-\n",
      "[NaN]\n",
      "[1]\n",
      "0-1\n",
      "[NaN]\n",
      "sum\n",
      "[1.0]\n",
      "-0-\n",
      "[NaN]\n",
      "[0, 0, 0]\n",
      "0-1\n",
      "[NaN, NaN, NaN]\n",
      "sum\n",
      "[NaN, NaN, NaN]\n",
      "-0-\n",
      "[NaN, NaN, NaN]\n",
      "[1, 1, 1]\n",
      "0-1\n",
      "[NaN, NaN, NaN]\n",
      "sum\n",
      "[0.3333333333333333, 0.3333333333333333, 0.3333333333333333]\n",
      "-0-\n",
      "[NaN, NaN, NaN]\n",
      "[0, 1, 2]\n",
      "0-1\n",
      "[0.0, 0.5, 1.0]\n",
      "sum\n",
      "[0.0, 0.3333333333333333, 0.6666666666666666]\n",
      "-0-\n",
      "[-1.0, 0.0, 1.0]\n"
     ]
    }
   ],
   "source": [
    "for te in ([0], [1], [0, 0, 0], [1, 1, 1], [0, 1, 2])\n",
    "\n",
    "    println(te)\n",
    "\n",
    "    for me in (\"0-1\", \"sum\", \"-0-\")\n",
    "\n",
    "        println(me)\n",
    "\n",
    "        println(OnePiece.normalization.normalize(te, me))\n",
    "\n",
    "    end\n",
    "\n",
    "end"
   ]
  },
  {
   "cell_type": "code",
   "execution_count": 6,
   "id": "f082a72e",
   "metadata": {
    "execution": {
     "iopub.execute_input": "2022-07-03T14:57:29.431000Z",
     "iopub.status.busy": "2022-07-03T14:57:29.431000Z",
     "iopub.status.idle": "2022-07-03T14:57:29.601000Z",
     "shell.execute_reply": "2022-07-03T14:57:29.600000Z"
    }
   },
   "outputs": [
    {
     "name": "stdout",
     "output_type": "stream",
     "text": [
      "[0]\n",
      "1223\n",
      "[1]\n",
      "1224\n",
      "[1]\n",
      "1 2.5 2.5 4\n",
      "[1.0]\n",
      "1234\n",
      "[1]\n",
      "[-1, 0, 0, 1, 1, 1, 2]\n",
      "1223\n",
      "[1, 2, 2, 3, 3, 3, 4]\n",
      "1224\n",
      "[1, 2, 2, 4, 4, 4, 7]\n",
      "1 2.5 2.5 4\n",
      "[1.0, 2.5, 2.5, 5.0, 5.0, 5.0, 7.0]\n",
      "1234\n",
      "[1, 2, 3, 4, 5, 6, 7]\n"
     ]
    }
   ],
   "source": [
    "for te in ([0], [-1, 0, 0, 1, 1, 1, 2])\n",
    "\n",
    "    println(te)\n",
    "\n",
    "    for me in (\"1223\", \"1224\", \"1 2.5 2.5 4\", \"1234\")\n",
    "\n",
    "        println(me)\n",
    "\n",
    "        println(OnePiece.normalization.normalize(te, me))\n",
    "\n",
    "    end\n",
    "\n",
    "end"
   ]
  }
 ],
 "metadata": {
  "@webio": {
   "lastCommId": null,
   "lastKernelId": null
  },
  "kernelspec": {
   "display_name": "Julia 1.7.3",
   "language": "julia",
   "name": "julia-1.7"
  },
  "language_info": {
   "file_extension": ".jl",
   "mimetype": "application/julia",
   "name": "julia",
   "version": "1.7.3"
  }
 },
 "nbformat": 4,
 "nbformat_minor": 5
}
