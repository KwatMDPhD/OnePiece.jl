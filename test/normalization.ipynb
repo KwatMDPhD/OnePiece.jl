{
 "cells": [
  {
   "cell_type": "code",
   "execution_count": 1,
   "id": "baf12f00",
   "metadata": {
    "execution": {
     "iopub.execute_input": "2022-07-13T16:51:35.320000Z",
     "iopub.status.busy": "2022-07-13T16:51:34.977000Z",
     "iopub.status.idle": "2022-07-13T16:51:39.629000Z",
     "shell.execute_reply": "2022-07-13T16:51:39.582000Z"
    }
   },
   "outputs": [],
   "source": [
    "using OnePiece"
   ]
  },
  {
   "cell_type": "markdown",
   "id": "e7ba3772",
   "metadata": {},
   "source": [
    "## normalize!"
   ]
  },
  {
   "cell_type": "code",
   "execution_count": 2,
   "id": "1ec21868",
   "metadata": {
    "execution": {
     "iopub.execute_input": "2022-07-13T16:51:40.107000Z",
     "iopub.status.busy": "2022-07-13T16:51:39.647000Z",
     "iopub.status.idle": "2022-07-13T16:51:41.832000Z",
     "shell.execute_reply": "2022-07-13T16:51:41.832000Z"
    }
   },
   "outputs": [
    {
     "data": {
      "text/plain": [
       "6-element Vector{Float64}:\n",
       " NaN\n",
       "   0.0\n",
       "   0.5\n",
       " NaN\n",
       "   1.0\n",
       " NaN"
      ]
     },
     "execution_count": 2,
     "metadata": {},
     "output_type": "execute_result"
    }
   ],
   "source": [
    "te = [NaN, -2, 0, NaN, 2, NaN]\n",
    "\n",
    "OnePiece.normalization.normalize!(te, \"0-1\")\n",
    "\n",
    "te"
   ]
  },
  {
   "cell_type": "markdown",
   "id": "e7b837b5",
   "metadata": {},
   "source": [
    "## normalize"
   ]
  },
  {
   "cell_type": "code",
   "execution_count": 3,
   "id": "e319da3e",
   "metadata": {
    "execution": {
     "iopub.execute_input": "2022-07-13T16:51:41.838000Z",
     "iopub.status.busy": "2022-07-13T16:51:41.838000Z",
     "iopub.status.idle": "2022-07-13T16:51:42.932000Z",
     "shell.execute_reply": "2022-07-13T16:51:42.931000Z"
    }
   },
   "outputs": [
    {
     "name": "stdout",
     "output_type": "stream",
     "text": [
      "ErrorException(\"\")\n"
     ]
    }
   ],
   "source": [
    "try\n",
    "\n",
    "    OnePiece.normalization.normalize([], \"0-1\")\n",
    "\n",
    "catch er\n",
    "\n",
    "    println(er)\n",
    "\n",
    "end"
   ]
  },
  {
   "cell_type": "code",
   "execution_count": 4,
   "id": "e0ab7673",
   "metadata": {
    "execution": {
     "iopub.execute_input": "2022-07-13T16:51:42.935000Z",
     "iopub.status.busy": "2022-07-13T16:51:42.934000Z",
     "iopub.status.idle": "2022-07-13T16:51:43.214000Z",
     "shell.execute_reply": "2022-07-13T16:51:43.214000Z"
    }
   },
   "outputs": [
    {
     "name": "stdout",
     "output_type": "stream",
     "text": [
      "ErrorException(\"\")\n"
     ]
    }
   ],
   "source": [
    "try\n",
    "\n",
    "    OnePiece.normalization.normalize([-1, 0, 1], \"sum\")\n",
    "\n",
    "catch er\n",
    "\n",
    "    println(er)\n",
    "\n",
    "end"
   ]
  },
  {
   "cell_type": "code",
   "execution_count": 5,
   "id": "18a3a96f",
   "metadata": {
    "execution": {
     "iopub.execute_input": "2022-07-13T16:51:43.217000Z",
     "iopub.status.busy": "2022-07-13T16:51:43.217000Z",
     "iopub.status.idle": "2022-07-13T16:51:43.493000Z",
     "shell.execute_reply": "2022-07-13T16:51:43.493000Z"
    }
   },
   "outputs": [
    {
     "name": "stdout",
     "output_type": "stream",
     "text": [
      "[0]\n",
      "0-1\n",
      "[NaN]\n",
      "sum\n",
      "[NaN]\n",
      "-0-\n",
      "[NaN]\n",
      "[1]\n",
      "0-1\n",
      "[NaN]\n",
      "sum\n",
      "[1.0]\n",
      "-0-\n",
      "[NaN]\n",
      "[0, 0, 0]\n",
      "0-1\n",
      "[NaN, NaN, NaN]\n",
      "sum\n",
      "[NaN, NaN, NaN]\n",
      "-0-\n",
      "[NaN, NaN, NaN]\n",
      "[1, 1, 1]\n",
      "0-1\n",
      "[NaN, NaN, NaN]\n",
      "sum\n",
      "[0.3333333333333333, 0.3333333333333333, 0.3333333333333333]\n",
      "-0-\n",
      "[NaN, NaN, NaN]\n",
      "[0, 1, 2]\n",
      "0-1\n",
      "[0.0, 0.5, 1.0]\n",
      "sum\n",
      "[0.0, 0.3333333333333333, 0.6666666666666666]\n",
      "-0-\n",
      "[-1.0, 0.0, 1.0]\n"
     ]
    }
   ],
   "source": [
    "for te in ([0], [1], [0, 0, 0], [1, 1, 1], [0, 1, 2])\n",
    "\n",
    "    println(te)\n",
    "\n",
    "    for me in (\"0-1\", \"sum\", \"-0-\")\n",
    "\n",
    "        println(me)\n",
    "\n",
    "        println(OnePiece.normalization.normalize(te, me))\n",
    "\n",
    "    end\n",
    "\n",
    "end"
   ]
  },
  {
   "cell_type": "code",
   "execution_count": 6,
   "id": "f082a72e",
   "metadata": {
    "execution": {
     "iopub.execute_input": "2022-07-13T16:51:43.496000Z",
     "iopub.status.busy": "2022-07-13T16:51:43.496000Z",
     "iopub.status.idle": "2022-07-13T16:51:43.631000Z",
     "shell.execute_reply": "2022-07-13T16:51:43.631000Z"
    }
   },
   "outputs": [
    {
     "name": "stdout",
     "output_type": "stream",
     "text": [
      "[0]\n",
      "1223\n",
      "[1]\n",
      "1224\n",
      "[1]\n",
      "1 2.5 2.5 4\n",
      "[1.0]\n",
      "1234\n",
      "[1]\n",
      "[-1, 0, 0, 1, 1, 1, 2]\n",
      "1223\n",
      "[1, 2, 2, 3, 3, 3, 4]\n",
      "1224\n",
      "[1, 2, 2, 4, 4, 4, 7]\n",
      "1 2.5 2.5 4\n",
      "[1.0, 2.5, 2.5, 5.0, 5.0, 5.0, 7.0]\n",
      "1234\n",
      "[1, 2, 3, 4, 5, 6, 7]\n"
     ]
    }
   ],
   "source": [
    "for te in ([0], [-1, 0, 0, 1, 1, 1, 2])\n",
    "\n",
    "    println(te)\n",
    "\n",
    "    for me in (\"1223\", \"1224\", \"1 2.5 2.5 4\", \"1234\")\n",
    "\n",
    "        println(me)\n",
    "\n",
    "        println(OnePiece.normalization.normalize(te, me))\n",
    "\n",
    "    end\n",
    "\n",
    "end"
   ]
  }
 ],
 "metadata": {
  "@webio": {
   "lastCommId": null,
   "lastKernelId": null
  },
  "kernelspec": {
   "display_name": "Julia 1.7.3",
   "language": "julia",
   "name": "julia-1.7"
  },
  "language_info": {
   "file_extension": ".jl",
   "mimetype": "application/julia",
   "name": "julia",
   "version": "1.7.3"
  }
 },
 "nbformat": 4,
 "nbformat_minor": 5
}
