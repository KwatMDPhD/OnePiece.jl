{
 "cells": [
  {
   "cell_type": "code",
   "execution_count": 1,
   "id": "baf12f00",
   "metadata": {
    "execution": {
     "iopub.execute_input": "2022-07-10T14:20:11.149000Z",
     "iopub.status.busy": "2022-07-10T14:20:10.813000Z",
     "iopub.status.idle": "2022-07-10T14:20:15.650000Z",
     "shell.execute_reply": "2022-07-10T14:20:15.604000Z"
    }
   },
   "outputs": [],
   "source": [
    "using OnePiece"
   ]
  },
  {
   "cell_type": "markdown",
   "id": "da8ba107",
   "metadata": {},
   "source": [
    "---"
   ]
  },
  {
   "cell_type": "code",
   "execution_count": 2,
   "id": "c4b58199",
   "metadata": {
    "execution": {
     "iopub.execute_input": "2022-07-10T14:20:16.126000Z",
     "iopub.status.busy": "2022-07-10T14:20:15.652000Z",
     "iopub.status.idle": "2022-07-10T14:20:16.741000Z",
     "shell.execute_reply": "2022-07-10T14:20:16.740000Z"
    }
   },
   "outputs": [
    {
     "data": {
      "text/plain": [
       "\"/var/folders/mg/30npdf0s1z36txb2qvgylrzh0000gn/T\""
      ]
     },
     "execution_count": 2,
     "metadata": {},
     "output_type": "execute_result"
    }
   ],
   "source": [
    "te = tempdir()"
   ]
  },
  {
   "cell_type": "markdown",
   "id": "84e40a06",
   "metadata": {},
   "source": [
    "## plot"
   ]
  },
  {
   "cell_type": "code",
   "execution_count": 3,
   "id": "37fb91b2",
   "metadata": {
    "execution": {
     "iopub.execute_input": "2022-07-10T14:20:16.760000Z",
     "iopub.status.busy": "2022-07-10T14:20:16.760000Z",
     "iopub.status.idle": "2022-07-10T14:20:17.817000Z",
     "shell.execute_reply": "2022-07-10T14:20:17.816000Z"
    }
   },
   "outputs": [
    {
     "name": "stdout",
     "output_type": "stream",
     "text": [
      "Made /Users/kwat/.julia/scratchspaces/1fe83854-81c0-42f7-afc9-71ba9af673ca/OnePiece.html/2022-7-10_14:20:17.28.html.\n"
     ]
    },
    {
     "data": {
      "text/plain": [
       "Process(`\u001b[4mopen\u001b[24m \u001b[4m/Users/kwat/.julia/scratchspaces/1fe83854-81c0-42f7-afc9-71ba9af673ca/OnePiece.html/2022-7-10_14:20:17.28.html\u001b[24m`, ProcessRunning)"
      ]
     },
     "execution_count": 3,
     "metadata": {},
     "output_type": "execute_result"
    }
   ],
   "source": [
    "tr_ = [Dict()]\n",
    "\n",
    "OnePiece.figure.plot(tr_)"
   ]
  },
  {
   "cell_type": "code",
   "execution_count": 4,
   "id": "ec645662",
   "metadata": {
    "execution": {
     "iopub.execute_input": "2022-07-10T14:20:17.820000Z",
     "iopub.status.busy": "2022-07-10T14:20:17.820000Z",
     "iopub.status.idle": "2022-07-10T14:20:18.038000Z",
     "shell.execute_reply": "2022-07-10T14:20:18.038000Z"
    }
   },
   "outputs": [
    {
     "name": "stdout",
     "output_type": "stream",
     "text": [
      "Made /Users/kwat/.julia/scratchspaces/1fe83854-81c0-42f7-afc9-71ba9af673ca/OnePiece.html/2022-7-10_14:20:18.025.html.\n"
     ]
    },
    {
     "data": {
      "text/plain": [
       "Process(`\u001b[4mopen\u001b[24m \u001b[4m/Users/kwat/.julia/scratchspaces/1fe83854-81c0-42f7-afc9-71ba9af673ca/OnePiece.html/2022-7-10_14:20:18.025.html\u001b[24m`, ProcessRunning)"
      ]
     },
     "execution_count": 4,
     "metadata": {},
     "output_type": "execute_result"
    }
   ],
   "source": [
    "la = Dict(\n",
    "    \"title\" => \"Title\",\n",
    "    \"yaxis\" => Dict(\"title\" => \"Y-Axis Title\"),\n",
    "    \"xaxis\" => Dict(\"title\" => \"X-Axis Title\"),\n",
    ")\n",
    "\n",
    "OnePiece.figure.plot(tr_, la)"
   ]
  },
  {
   "cell_type": "code",
   "execution_count": 5,
   "id": "ae72a412",
   "metadata": {
    "execution": {
     "iopub.execute_input": "2022-07-10T14:20:18.042000Z",
     "iopub.status.busy": "2022-07-10T14:20:18.042000Z",
     "iopub.status.idle": "2022-07-10T14:20:18.070000Z",
     "shell.execute_reply": "2022-07-10T14:20:18.070000Z"
    }
   },
   "outputs": [
    {
     "name": "stdout",
     "output_type": "stream",
     "text": [
      "Made /var/folders/mg/30npdf0s1z36txb2qvgylrzh0000gn/T/output.html.\n"
     ]
    },
    {
     "data": {
      "text/plain": [
       "Process(`\u001b[4mopen\u001b[24m \u001b[4m/var/folders/mg/30npdf0s1z36txb2qvgylrzh0000gn/T/output.html\u001b[24m`, ProcessRunning)"
      ]
     },
     "execution_count": 5,
     "metadata": {},
     "output_type": "execute_result"
    }
   ],
   "source": [
    "OnePiece.figure.plot(tr_, ou = joinpath(te, \"output.html\"))"
   ]
  },
  {
   "cell_type": "markdown",
   "id": "01af355b",
   "metadata": {},
   "source": [
    "## plot_bar"
   ]
  },
  {
   "cell_type": "code",
   "execution_count": 6,
   "id": "1f297153",
   "metadata": {
    "execution": {
     "iopub.execute_input": "2022-07-10T14:20:18.074000Z",
     "iopub.status.busy": "2022-07-10T14:20:18.074000Z",
     "iopub.status.idle": "2022-07-10T14:20:19.289000Z",
     "shell.execute_reply": "2022-07-10T14:20:19.289000Z"
    }
   },
   "outputs": [
    {
     "data": {
      "text/plain": [
       "2-element Vector{Vector{Int64}}:\n",
       " [-1, 2, 5]\n",
       " [5, 2, -1]"
      ]
     },
     "execution_count": 6,
     "metadata": {},
     "output_type": "execute_result"
    }
   ],
   "source": [
    "y1 = [-1, 2, 5]\n",
    "\n",
    "y2 = reverse(y1)\n",
    "\n",
    "y_ = [y1, y2]"
   ]
  },
  {
   "cell_type": "code",
   "execution_count": 7,
   "id": "2568a640",
   "metadata": {
    "execution": {
     "iopub.execute_input": "2022-07-10T14:20:19.292000Z",
     "iopub.status.busy": "2022-07-10T14:20:19.292000Z",
     "iopub.status.idle": "2022-07-10T14:20:19.818000Z",
     "shell.execute_reply": "2022-07-10T14:20:19.818000Z"
    }
   },
   "outputs": [
    {
     "name": "stdout",
     "output_type": "stream",
     "text": [
      "Made /Users/kwat/.julia/scratchspaces/1fe83854-81c0-42f7-afc9-71ba9af673ca/OnePiece.html/2022-7-10_14:20:19.804.html.\n"
     ]
    },
    {
     "data": {
      "text/plain": [
       "Process(`\u001b[4mopen\u001b[24m \u001b[4m/Users/kwat/.julia/scratchspaces/1fe83854-81c0-42f7-afc9-71ba9af673ca/OnePiece.html/2022-7-10_14:20:19.804.html\u001b[24m`, ProcessRunning)"
      ]
     },
     "execution_count": 7,
     "metadata": {},
     "output_type": "execute_result"
    }
   ],
   "source": [
    "OnePiece.figure.plot_bar(y_)"
   ]
  },
  {
   "cell_type": "code",
   "execution_count": 8,
   "id": "b9ca7825",
   "metadata": {
    "execution": {
     "iopub.execute_input": "2022-07-10T14:20:19.822000Z",
     "iopub.status.busy": "2022-07-10T14:20:19.822000Z",
     "iopub.status.idle": "2022-07-10T14:20:20.242000Z",
     "shell.execute_reply": "2022-07-10T14:20:20.242000Z"
    }
   },
   "outputs": [
    {
     "data": {
      "text/plain": [
       "2-element Vector{String}:\n",
       " \"Orange\"\n",
       " \"Blue\""
      ]
     },
     "execution_count": 8,
     "metadata": {},
     "output_type": "execute_result"
    }
   ],
   "source": [
    "name1 = \"Orange\"\n",
    "\n",
    "name2 = \"Blue\"\n",
    "\n",
    "name_ = [name1, name2]"
   ]
  },
  {
   "cell_type": "code",
   "execution_count": 9,
   "id": "1969df42",
   "metadata": {
    "execution": {
     "iopub.execute_input": "2022-07-10T14:20:20.245000Z",
     "iopub.status.busy": "2022-07-10T14:20:20.245000Z",
     "iopub.status.idle": "2022-07-10T14:20:20.289000Z",
     "shell.execute_reply": "2022-07-10T14:20:20.288000Z"
    }
   },
   "outputs": [
    {
     "data": {
      "text/plain": [
       "2-element Vector{Vector{Int64}}:\n",
       " [-2, -1, 0]\n",
       " [0, 1, 2]"
      ]
     },
     "execution_count": 9,
     "metadata": {},
     "output_type": "execute_result"
    }
   ],
   "source": [
    "x1 = [-2, -1, 0]\n",
    "\n",
    "x2 = .-reverse(x1)\n",
    "\n",
    "x_ = [x1, x2]"
   ]
  },
  {
   "cell_type": "code",
   "execution_count": 10,
   "id": "e26efbb2",
   "metadata": {
    "execution": {
     "iopub.execute_input": "2022-07-10T14:20:20.293000Z",
     "iopub.status.busy": "2022-07-10T14:20:20.293000Z",
     "iopub.status.idle": "2022-07-10T14:20:20.339000Z",
     "shell.execute_reply": "2022-07-10T14:20:20.338000Z"
    }
   },
   "outputs": [
    {
     "name": "stdout",
     "output_type": "stream",
     "text": [
      "Made /Users/kwat/.julia/scratchspaces/1fe83854-81c0-42f7-afc9-71ba9af673ca/OnePiece.html/2022-7-10_14:20:20.324.html.\n"
     ]
    },
    {
     "data": {
      "text/plain": [
       "Process(`\u001b[4mopen\u001b[24m \u001b[4m/Users/kwat/.julia/scratchspaces/1fe83854-81c0-42f7-afc9-71ba9af673ca/OnePiece.html/2022-7-10_14:20:20.324.html\u001b[24m`, ProcessRunning)"
      ]
     },
     "execution_count": 10,
     "metadata": {},
     "output_type": "execute_result"
    }
   ],
   "source": [
    "OnePiece.figure.plot_bar(y_, x_, name_ = name_)"
   ]
  },
  {
   "cell_type": "code",
   "execution_count": 11,
   "id": "5091099b",
   "metadata": {
    "execution": {
     "iopub.execute_input": "2022-07-10T14:20:20.342000Z",
     "iopub.status.busy": "2022-07-10T14:20:20.342000Z",
     "iopub.status.idle": "2022-07-10T14:20:20.364000Z",
     "shell.execute_reply": "2022-07-10T14:20:20.364000Z"
    }
   },
   "outputs": [
    {
     "name": "stdout",
     "output_type": "stream",
     "text": [
      "Made /Users/kwat/.julia/scratchspaces/1fe83854-81c0-42f7-afc9-71ba9af673ca/OnePiece.html/2022-7-10_14:20:20.35.html.\n"
     ]
    },
    {
     "data": {
      "text/plain": [
       "Process(`\u001b[4mopen\u001b[24m \u001b[4m/Users/kwat/.julia/scratchspaces/1fe83854-81c0-42f7-afc9-71ba9af673ca/OnePiece.html/2022-7-10_14:20:20.35.html\u001b[24m`, ProcessRunning)"
      ]
     },
     "execution_count": 11,
     "metadata": {},
     "output_type": "execute_result"
    }
   ],
   "source": [
    "push!(name_, \"Name 3\")\n",
    "\n",
    "push!(y_, [8])\n",
    "\n",
    "push!(x_, [0])\n",
    "\n",
    "OnePiece.figure.plot_bar(y_, x_, name_ = name_)"
   ]
  },
  {
   "cell_type": "code",
   "execution_count": 12,
   "id": "7275f857",
   "metadata": {
    "execution": {
     "iopub.execute_input": "2022-07-10T14:20:20.368000Z",
     "iopub.status.busy": "2022-07-10T14:20:20.368000Z",
     "iopub.status.idle": "2022-07-10T14:20:20.497000Z",
     "shell.execute_reply": "2022-07-10T14:20:20.497000Z"
    }
   },
   "outputs": [
    {
     "name": "stdout",
     "output_type": "stream",
     "text": [
      "Made /var/folders/mg/30npdf0s1z36txb2qvgylrzh0000gn/T/bar.html.\n"
     ]
    },
    {
     "data": {
      "text/plain": [
       "Process(`\u001b[4mopen\u001b[24m \u001b[4m/var/folders/mg/30npdf0s1z36txb2qvgylrzh0000gn/T/bar.html\u001b[24m`, ProcessRunning)"
      ]
     },
     "execution_count": 12,
     "metadata": {},
     "output_type": "execute_result"
    }
   ],
   "source": [
    "OnePiece.figure.plot_bar(\n",
    "    y_,\n",
    "    x_,\n",
    "    name_ = name_,\n",
    "    la = Dict(\"barmode\" => \"stack\", \"title\" => Dict(\"text\" => \"Stack\")),\n",
    "    ou = joinpath(te, \"bar.html\"),\n",
    ")"
   ]
  },
  {
   "cell_type": "markdown",
   "id": "6c8e6968",
   "metadata": {},
   "source": [
    "## plot_heat_map"
   ]
  },
  {
   "cell_type": "code",
   "execution_count": 13,
   "id": "4f9637cd",
   "metadata": {
    "execution": {
     "iopub.execute_input": "2022-07-10T14:20:20.501000Z",
     "iopub.status.busy": "2022-07-10T14:20:20.501000Z",
     "iopub.status.idle": "2022-07-10T14:20:21.143000Z",
     "shell.execute_reply": "2022-07-10T14:20:21.143000Z"
    }
   },
   "outputs": [
    {
     "data": {
      "text/plain": [
       "2×4 Matrix{Float64}:\n",
       " 1.0  3.0  5.0  7.0\n",
       " 2.0  4.0  6.0  8.0"
      ]
     },
     "execution_count": 13,
     "metadata": {},
     "output_type": "execute_result"
    }
   ],
   "source": [
    "ma = OnePiece.tensor.simulate(2, 4)"
   ]
  },
  {
   "cell_type": "code",
   "execution_count": 14,
   "id": "31b0f214",
   "metadata": {
    "execution": {
     "iopub.execute_input": "2022-07-10T14:20:21.146000Z",
     "iopub.status.busy": "2022-07-10T14:20:21.146000Z",
     "iopub.status.idle": "2022-07-10T14:20:21.692000Z",
     "shell.execute_reply": "2022-07-10T14:20:21.691000Z"
    }
   },
   "outputs": [
    {
     "name": "stdout",
     "output_type": "stream",
     "text": [
      "Made /Users/kwat/.julia/scratchspaces/1fe83854-81c0-42f7-afc9-71ba9af673ca/OnePiece.html/2022-7-10_14:20:21.675.html.\n"
     ]
    },
    {
     "data": {
      "text/plain": [
       "Process(`\u001b[4mopen\u001b[24m \u001b[4m/Users/kwat/.julia/scratchspaces/1fe83854-81c0-42f7-afc9-71ba9af673ca/OnePiece.html/2022-7-10_14:20:21.675.html\u001b[24m`, ProcessRunning)"
      ]
     },
     "execution_count": 14,
     "metadata": {},
     "output_type": "execute_result"
    }
   ],
   "source": [
    "OnePiece.figure.plot_heat_map(\n",
    "    ma,\n",
    "    [\"Row$id\" for id in 1:size(ma, 1)],\n",
    "    [\"Column$id\" for id in 1:size(ma, 2)],\n",
    ")"
   ]
  },
  {
   "cell_type": "code",
   "execution_count": 15,
   "id": "e8d39c80",
   "metadata": {
    "execution": {
     "iopub.execute_input": "2022-07-10T14:20:21.696000Z",
     "iopub.status.busy": "2022-07-10T14:20:21.696000Z",
     "iopub.status.idle": "2022-07-10T14:20:21.799000Z",
     "shell.execute_reply": "2022-07-10T14:20:21.798000Z"
    }
   },
   "outputs": [
    {
     "name": "stdout",
     "output_type": "stream",
     "text": [
      "Made /var/folders/mg/30npdf0s1z36txb2qvgylrzh0000gn/T/heat_map.html.\n"
     ]
    },
    {
     "data": {
      "text/plain": [
       "Process(`\u001b[4mopen\u001b[24m \u001b[4m/var/folders/mg/30npdf0s1z36txb2qvgylrzh0000gn/T/heat_map.html\u001b[24m`, ProcessRunning)"
      ]
     },
     "execution_count": 15,
     "metadata": {},
     "output_type": "execute_result"
    }
   ],
   "source": [
    "OnePiece.figure.plot_heat_map(ma, ou = joinpath(te, \"heat_map.html\"))"
   ]
  },
  {
   "cell_type": "markdown",
   "id": "4889aca0",
   "metadata": {},
   "source": [
    "## plot_x_y"
   ]
  },
  {
   "cell_type": "code",
   "execution_count": 16,
   "id": "58a30a5c",
   "metadata": {
    "execution": {
     "iopub.execute_input": "2022-07-10T14:20:21.802000Z",
     "iopub.status.busy": "2022-07-10T14:20:21.802000Z",
     "iopub.status.idle": "2022-07-10T14:20:21.807000Z",
     "shell.execute_reply": "2022-07-10T14:20:21.807000Z"
    }
   },
   "outputs": [
    {
     "data": {
      "text/plain": [
       "2-element Vector{Vector{Int64}}:\n",
       " [-1, 0, 2]\n",
       " [3, 4]"
      ]
     },
     "execution_count": 16,
     "metadata": {},
     "output_type": "execute_result"
    }
   ],
   "source": [
    "x1 = [-1, 0, 2]\n",
    "\n",
    "x2 = [3, 4]\n",
    "\n",
    "x_ = [x1, x2]"
   ]
  },
  {
   "cell_type": "code",
   "execution_count": 17,
   "id": "aec95893",
   "metadata": {
    "execution": {
     "iopub.execute_input": "2022-07-10T14:20:21.810000Z",
     "iopub.status.busy": "2022-07-10T14:20:21.810000Z",
     "iopub.status.idle": "2022-07-10T14:20:21.867000Z",
     "shell.execute_reply": "2022-07-10T14:20:21.867000Z"
    }
   },
   "outputs": [
    {
     "data": {
      "text/plain": [
       "2-element Vector{Vector{Int64}}:\n",
       " [-10, 0, 20]\n",
       " [60, 80]"
      ]
     },
     "execution_count": 17,
     "metadata": {},
     "output_type": "execute_result"
    }
   ],
   "source": [
    "y1 = x1 .* 10\n",
    "\n",
    "y2 = x2 .* 20\n",
    "\n",
    "y_ = [y1, y2]"
   ]
  },
  {
   "cell_type": "code",
   "execution_count": 18,
   "id": "f29cca1a",
   "metadata": {
    "execution": {
     "iopub.execute_input": "2022-07-10T14:20:21.871000Z",
     "iopub.status.busy": "2022-07-10T14:20:21.870000Z",
     "iopub.status.idle": "2022-07-10T14:20:21.928000Z",
     "shell.execute_reply": "2022-07-10T14:20:21.927000Z"
    }
   },
   "outputs": [
    {
     "name": "stdout",
     "output_type": "stream",
     "text": [
      "Made /Users/kwat/.julia/scratchspaces/1fe83854-81c0-42f7-afc9-71ba9af673ca/OnePiece.html/2022-7-10_14:20:21.914.html.\n"
     ]
    },
    {
     "data": {
      "text/plain": [
       "Process(`\u001b[4mopen\u001b[24m \u001b[4m/Users/kwat/.julia/scratchspaces/1fe83854-81c0-42f7-afc9-71ba9af673ca/OnePiece.html/2022-7-10_14:20:21.914.html\u001b[24m`, ProcessRunning)"
      ]
     },
     "execution_count": 18,
     "metadata": {},
     "output_type": "execute_result"
    }
   ],
   "source": [
    "OnePiece.figure.plot_x_y(y_)"
   ]
  },
  {
   "cell_type": "code",
   "execution_count": 19,
   "id": "672c6dab",
   "metadata": {
    "execution": {
     "iopub.execute_input": "2022-07-10T14:20:21.933000Z",
     "iopub.status.busy": "2022-07-10T14:20:21.933000Z",
     "iopub.status.idle": "2022-07-10T14:20:21.983000Z",
     "shell.execute_reply": "2022-07-10T14:20:21.982000Z"
    }
   },
   "outputs": [
    {
     "name": "stdout",
     "output_type": "stream",
     "text": [
      "Made /var/folders/mg/30npdf0s1z36txb2qvgylrzh0000gn/T/x_y.html.\n"
     ]
    },
    {
     "data": {
      "text/plain": [
       "Process(`\u001b[4mopen\u001b[24m \u001b[4m/var/folders/mg/30npdf0s1z36txb2qvgylrzh0000gn/T/x_y.html\u001b[24m`, ProcessRunning)"
      ]
     },
     "execution_count": 19,
     "metadata": {},
     "output_type": "execute_result"
    }
   ],
   "source": [
    "OnePiece.figure.plot_x_y(y_, x_, ou = joinpath(te, \"x_y.html\"))"
   ]
  },
  {
   "cell_type": "markdown",
   "id": "86de649e",
   "metadata": {},
   "source": [
    "---"
   ]
  }
 ],
 "metadata": {
  "@webio": {
   "lastCommId": null,
   "lastKernelId": null
  },
  "kernelspec": {
   "display_name": "Julia 1.7.3",
   "language": "julia",
   "name": "julia-1.7"
  },
  "language_info": {
   "file_extension": ".jl",
   "mimetype": "application/julia",
   "name": "julia",
   "version": "1.7.3"
  }
 },
 "nbformat": 4,
 "nbformat_minor": 5
}
