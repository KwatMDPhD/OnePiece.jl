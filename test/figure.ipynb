{
 "cells": [
  {
   "cell_type": "code",
   "execution_count": 1,
   "id": "baf12f00",
   "metadata": {
    "execution": {
     "iopub.execute_input": "2022-07-13T12:50:01.475000Z",
     "iopub.status.busy": "2022-07-13T12:50:01.130000Z",
     "iopub.status.idle": "2022-07-13T12:50:06.063000Z",
     "shell.execute_reply": "2022-07-13T12:50:06.014000Z"
    }
   },
   "outputs": [],
   "source": [
    "using OnePiece"
   ]
  },
  {
   "cell_type": "code",
   "execution_count": 2,
   "id": "c4b58199",
   "metadata": {
    "execution": {
     "iopub.execute_input": "2022-07-13T12:50:06.618000Z",
     "iopub.status.busy": "2022-07-13T12:50:06.080000Z",
     "iopub.status.idle": "2022-07-13T12:50:07.282000Z",
     "shell.execute_reply": "2022-07-13T12:50:07.281000Z"
    }
   },
   "outputs": [
    {
     "data": {
      "text/plain": [
       "\"/var/folders/mg/30npdf0s1z36txb2qvgylrzh0000gn/T/OnePiece.figure\""
      ]
     },
     "execution_count": 2,
     "metadata": {},
     "output_type": "execute_result"
    }
   ],
   "source": [
    "te = OnePiece.path.make_temporary(\"OnePiece.figure\")"
   ]
  },
  {
   "cell_type": "markdown",
   "id": "84e40a06",
   "metadata": {},
   "source": [
    "## plot"
   ]
  },
  {
   "cell_type": "code",
   "execution_count": 3,
   "id": "37fb91b2",
   "metadata": {
    "execution": {
     "iopub.execute_input": "2022-07-13T12:50:07.286000Z",
     "iopub.status.busy": "2022-07-13T12:50:07.285000Z",
     "iopub.status.idle": "2022-07-13T12:50:08.278000Z",
     "shell.execute_reply": "2022-07-13T12:50:08.278000Z"
    }
   },
   "outputs": [
    {
     "name": "stdout",
     "output_type": "stream",
     "text": [
      "Made /Users/kwat/.julia/scratchspaces/1fe83854-81c0-42f7-afc9-71ba9af673ca/OnePiece.html/2022-7-13_12:50:7.79.html.\n"
     ]
    },
    {
     "data": {
      "text/plain": [
       "Process(`\u001b[4mopen\u001b[24m \u001b[4m/Users/kwat/.julia/scratchspaces/1fe83854-81c0-42f7-afc9-71ba9af673ca/OnePiece.html/2022-7-13_12:50:7.79.html\u001b[24m`, ProcessRunning)"
      ]
     },
     "execution_count": 3,
     "metadata": {},
     "output_type": "execute_result"
    }
   ],
   "source": [
    "data = [Dict()]\n",
    "\n",
    "OnePiece.figure.plot(data)"
   ]
  },
  {
   "cell_type": "code",
   "execution_count": 4,
   "id": "ec645662",
   "metadata": {
    "execution": {
     "iopub.execute_input": "2022-07-13T12:50:08.281000Z",
     "iopub.status.busy": "2022-07-13T12:50:08.281000Z",
     "iopub.status.idle": "2022-07-13T12:50:08.544000Z",
     "shell.execute_reply": "2022-07-13T12:50:08.543000Z"
    }
   },
   "outputs": [
    {
     "name": "stdout",
     "output_type": "stream",
     "text": [
      "Made /Users/kwat/.julia/scratchspaces/1fe83854-81c0-42f7-afc9-71ba9af673ca/OnePiece.html/2022-7-13_12:50:8.527.html.\n"
     ]
    },
    {
     "data": {
      "text/plain": [
       "Process(`\u001b[4mopen\u001b[24m \u001b[4m/Users/kwat/.julia/scratchspaces/1fe83854-81c0-42f7-afc9-71ba9af673ca/OnePiece.html/2022-7-13_12:50:8.527.html\u001b[24m`, ProcessRunning)"
      ]
     },
     "execution_count": 4,
     "metadata": {},
     "output_type": "execute_result"
    }
   ],
   "source": [
    "layout = Dict(\n",
    "    \"title\" => \"Title\",\n",
    "    \"yaxis\" => Dict(\"title\" => \"Y-Axis Title\"),\n",
    "    \"xaxis\" => Dict(\"title\" => \"X-Axis Title\"),\n",
    ")\n",
    "\n",
    "OnePiece.figure.plot(data, layout)"
   ]
  },
  {
   "cell_type": "code",
   "execution_count": 5,
   "id": "ae72a412",
   "metadata": {
    "execution": {
     "iopub.execute_input": "2022-07-13T12:50:08.547000Z",
     "iopub.status.busy": "2022-07-13T12:50:08.547000Z",
     "iopub.status.idle": "2022-07-13T12:50:08.582000Z",
     "shell.execute_reply": "2022-07-13T12:50:08.581000Z"
    }
   },
   "outputs": [
    {
     "name": "stdout",
     "output_type": "stream",
     "text": [
      "Made /var/folders/mg/30npdf0s1z36txb2qvgylrzh0000gn/T/OnePiece.figure/output.html.\n"
     ]
    },
    {
     "data": {
      "text/plain": [
       "Process(`\u001b[4mopen\u001b[24m \u001b[4m/var/folders/mg/30npdf0s1z36txb2qvgylrzh0000gn/T/OnePiece.figure/output.html\u001b[24m`, ProcessRunning)"
      ]
     },
     "execution_count": 5,
     "metadata": {},
     "output_type": "execute_result"
    }
   ],
   "source": [
    "OnePiece.figure.plot(data, ou = joinpath(te, \"output.html\"))"
   ]
  },
  {
   "cell_type": "markdown",
   "id": "01af355b",
   "metadata": {},
   "source": [
    "## plot_bar"
   ]
  },
  {
   "cell_type": "code",
   "execution_count": 6,
   "id": "1f297153",
   "metadata": {
    "execution": {
     "iopub.execute_input": "2022-07-13T12:50:08.586000Z",
     "iopub.status.busy": "2022-07-13T12:50:08.586000Z",
     "iopub.status.idle": "2022-07-13T12:50:09.926000Z",
     "shell.execute_reply": "2022-07-13T12:50:09.926000Z"
    }
   },
   "outputs": [
    {
     "data": {
      "text/plain": [
       "2-element Vector{Vector{Int64}}:\n",
       " [-1, 2, 5]\n",
       " [5, 2, -1]"
      ]
     },
     "execution_count": 6,
     "metadata": {},
     "output_type": "execute_result"
    }
   ],
   "source": [
    "y1 = [-1, 2, 5]\n",
    "\n",
    "y2 = reverse(y1)\n",
    "\n",
    "y_ = [y1, y2]"
   ]
  },
  {
   "cell_type": "code",
   "execution_count": 7,
   "id": "2568a640",
   "metadata": {
    "execution": {
     "iopub.execute_input": "2022-07-13T12:50:09.929000Z",
     "iopub.status.busy": "2022-07-13T12:50:09.929000Z",
     "iopub.status.idle": "2022-07-13T12:50:10.772000Z",
     "shell.execute_reply": "2022-07-13T12:50:10.772000Z"
    }
   },
   "outputs": [
    {
     "name": "stdout",
     "output_type": "stream",
     "text": [
      "Made /Users/kwat/.julia/scratchspaces/1fe83854-81c0-42f7-afc9-71ba9af673ca/OnePiece.html/2022-7-13_12:50:10.758.html.\n"
     ]
    },
    {
     "data": {
      "text/plain": [
       "Process(`\u001b[4mopen\u001b[24m \u001b[4m/Users/kwat/.julia/scratchspaces/1fe83854-81c0-42f7-afc9-71ba9af673ca/OnePiece.html/2022-7-13_12:50:10.758.html\u001b[24m`, ProcessRunning)"
      ]
     },
     "execution_count": 7,
     "metadata": {},
     "output_type": "execute_result"
    }
   ],
   "source": [
    "OnePiece.figure.plot_bar(y_)"
   ]
  },
  {
   "cell_type": "code",
   "execution_count": 8,
   "id": "b9ca7825",
   "metadata": {
    "execution": {
     "iopub.execute_input": "2022-07-13T12:50:10.776000Z",
     "iopub.status.busy": "2022-07-13T12:50:10.776000Z",
     "iopub.status.idle": "2022-07-13T12:50:11.143000Z",
     "shell.execute_reply": "2022-07-13T12:50:11.143000Z"
    }
   },
   "outputs": [
    {
     "data": {
      "text/plain": [
       "2-element Vector{String}:\n",
       " \"Jonathan\"\n",
       " \"Joseph\""
      ]
     },
     "execution_count": 8,
     "metadata": {},
     "output_type": "execute_result"
    }
   ],
   "source": [
    "name1 = \"Jonathan\"\n",
    "\n",
    "name2 = \"Joseph\"\n",
    "\n",
    "name_ = [name1, name2]"
   ]
  },
  {
   "cell_type": "code",
   "execution_count": 9,
   "id": "1969df42",
   "metadata": {
    "execution": {
     "iopub.execute_input": "2022-07-13T12:50:11.146000Z",
     "iopub.status.busy": "2022-07-13T12:50:11.146000Z",
     "iopub.status.idle": "2022-07-13T12:50:11.183000Z",
     "shell.execute_reply": "2022-07-13T12:50:11.183000Z"
    }
   },
   "outputs": [
    {
     "data": {
      "text/plain": [
       "2-element Vector{Vector{Int64}}:\n",
       " [-2, -1, 0]\n",
       " [0, 1, 2]"
      ]
     },
     "execution_count": 9,
     "metadata": {},
     "output_type": "execute_result"
    }
   ],
   "source": [
    "x1 = [-2, -1, 0]\n",
    "\n",
    "x2 = .-reverse(x1)\n",
    "\n",
    "x_ = [x1, x2]"
   ]
  },
  {
   "cell_type": "code",
   "execution_count": 10,
   "id": "e26efbb2",
   "metadata": {
    "execution": {
     "iopub.execute_input": "2022-07-13T12:50:11.187000Z",
     "iopub.status.busy": "2022-07-13T12:50:11.186000Z",
     "iopub.status.idle": "2022-07-13T12:50:11.359000Z",
     "shell.execute_reply": "2022-07-13T12:50:11.359000Z"
    }
   },
   "outputs": [
    {
     "name": "stdout",
     "output_type": "stream",
     "text": [
      "Made /Users/kwat/.julia/scratchspaces/1fe83854-81c0-42f7-afc9-71ba9af673ca/OnePiece.html/2022-7-13_12:50:11.341.html.\n"
     ]
    },
    {
     "data": {
      "text/plain": [
       "Process(`\u001b[4mopen\u001b[24m \u001b[4m/Users/kwat/.julia/scratchspaces/1fe83854-81c0-42f7-afc9-71ba9af673ca/OnePiece.html/2022-7-13_12:50:11.341.html\u001b[24m`, ProcessRunning)"
      ]
     },
     "execution_count": 10,
     "metadata": {},
     "output_type": "execute_result"
    }
   ],
   "source": [
    "OnePiece.figure.plot_bar(y_, x_, name_ = name_)"
   ]
  },
  {
   "cell_type": "code",
   "execution_count": 11,
   "id": "5091099b",
   "metadata": {
    "execution": {
     "iopub.execute_input": "2022-07-13T12:50:11.365000Z",
     "iopub.status.busy": "2022-07-13T12:50:11.364000Z",
     "iopub.status.idle": "2022-07-13T12:50:11.391000Z",
     "shell.execute_reply": "2022-07-13T12:50:11.391000Z"
    }
   },
   "outputs": [
    {
     "name": "stdout",
     "output_type": "stream",
     "text": [
      "Made /Users/kwat/.julia/scratchspaces/1fe83854-81c0-42f7-afc9-71ba9af673ca/OnePiece.html/2022-7-13_12:50:11.374.html.\n"
     ]
    },
    {
     "data": {
      "text/plain": [
       "Process(`\u001b[4mopen\u001b[24m \u001b[4m/Users/kwat/.julia/scratchspaces/1fe83854-81c0-42f7-afc9-71ba9af673ca/OnePiece.html/2022-7-13_12:50:11.374.html\u001b[24m`, ProcessRunning)"
      ]
     },
     "execution_count": 11,
     "metadata": {},
     "output_type": "execute_result"
    }
   ],
   "source": [
    "push!(name_, \"Jotaro\")\n",
    "\n",
    "push!(y_, [8])\n",
    "\n",
    "push!(x_, [0])\n",
    "\n",
    "OnePiece.figure.plot_bar(y_, x_, name_ = name_)"
   ]
  },
  {
   "cell_type": "code",
   "execution_count": 12,
   "id": "7275f857",
   "metadata": {
    "execution": {
     "iopub.execute_input": "2022-07-13T12:50:11.395000Z",
     "iopub.status.busy": "2022-07-13T12:50:11.395000Z",
     "iopub.status.idle": "2022-07-13T12:50:11.524000Z",
     "shell.execute_reply": "2022-07-13T12:50:11.524000Z"
    }
   },
   "outputs": [
    {
     "name": "stdout",
     "output_type": "stream",
     "text": [
      "Made /var/folders/mg/30npdf0s1z36txb2qvgylrzh0000gn/T/OnePiece.figure/bar.html.\n"
     ]
    },
    {
     "data": {
      "text/plain": [
       "Process(`\u001b[4mopen\u001b[24m \u001b[4m/var/folders/mg/30npdf0s1z36txb2qvgylrzh0000gn/T/OnePiece.figure/bar.html\u001b[24m`, ProcessRunning)"
      ]
     },
     "execution_count": 12,
     "metadata": {},
     "output_type": "execute_result"
    }
   ],
   "source": [
    "OnePiece.figure.plot_bar(\n",
    "    y_,\n",
    "    x_,\n",
    "    name_ = name_,\n",
    "    layout = Dict(\"barmode\" => \"stack\", \"title\" => Dict(\"text\" => \"Stack\")),\n",
    "    ou = joinpath(te, \"bar.html\"),\n",
    ")"
   ]
  },
  {
   "cell_type": "markdown",
   "id": "6c8e6968",
   "metadata": {},
   "source": [
    "## plot_heat_map"
   ]
  },
  {
   "cell_type": "code",
   "execution_count": 13,
   "id": "4f9637cd",
   "metadata": {
    "execution": {
     "iopub.execute_input": "2022-07-13T12:50:11.528000Z",
     "iopub.status.busy": "2022-07-13T12:50:11.528000Z",
     "iopub.status.idle": "2022-07-13T12:50:12.265000Z",
     "shell.execute_reply": "2022-07-13T12:50:12.264000Z"
    }
   },
   "outputs": [
    {
     "data": {
      "text/plain": [
       "2×4 Matrix{Float64}:\n",
       " 1.0  3.0  5.0  7.0\n",
       " 2.0  4.0  6.0  8.0"
      ]
     },
     "execution_count": 13,
     "metadata": {},
     "output_type": "execute_result"
    }
   ],
   "source": [
    "ma = OnePiece.tensor.simulate(2, 4)"
   ]
  },
  {
   "cell_type": "code",
   "execution_count": 14,
   "id": "31b0f214",
   "metadata": {
    "execution": {
     "iopub.execute_input": "2022-07-13T12:50:12.268000Z",
     "iopub.status.busy": "2022-07-13T12:50:12.268000Z",
     "iopub.status.idle": "2022-07-13T12:50:12.752000Z",
     "shell.execute_reply": "2022-07-13T12:50:12.752000Z"
    }
   },
   "outputs": [
    {
     "name": "stdout",
     "output_type": "stream",
     "text": [
      "Made /Users/kwat/.julia/scratchspaces/1fe83854-81c0-42f7-afc9-71ba9af673ca/OnePiece.html/2022-7-13_12:50:12.738.html.\n"
     ]
    },
    {
     "data": {
      "text/plain": [
       "Process(`\u001b[4mopen\u001b[24m \u001b[4m/Users/kwat/.julia/scratchspaces/1fe83854-81c0-42f7-afc9-71ba9af673ca/OnePiece.html/2022-7-13_12:50:12.738.html\u001b[24m`, ProcessRunning)"
      ]
     },
     "execution_count": 14,
     "metadata": {},
     "output_type": "execute_result"
    }
   ],
   "source": [
    "OnePiece.figure.plot_heat_map(\n",
    "    ma,\n",
    "    [\"Row$id\" for id in 1:size(ma, 1)],\n",
    "    [\"Column$id\" for id in 1:size(ma, 2)],\n",
    ")"
   ]
  },
  {
   "cell_type": "code",
   "execution_count": 15,
   "id": "e8d39c80",
   "metadata": {
    "execution": {
     "iopub.execute_input": "2022-07-13T12:50:12.756000Z",
     "iopub.status.busy": "2022-07-13T12:50:12.756000Z",
     "iopub.status.idle": "2022-07-13T12:50:12.847000Z",
     "shell.execute_reply": "2022-07-13T12:50:12.847000Z"
    }
   },
   "outputs": [
    {
     "name": "stdout",
     "output_type": "stream",
     "text": [
      "Made /var/folders/mg/30npdf0s1z36txb2qvgylrzh0000gn/T/OnePiece.figure/heat_map.html.\n"
     ]
    },
    {
     "data": {
      "text/plain": [
       "Process(`\u001b[4mopen\u001b[24m \u001b[4m/var/folders/mg/30npdf0s1z36txb2qvgylrzh0000gn/T/OnePiece.figure/heat_map.html\u001b[24m`, ProcessRunning)"
      ]
     },
     "execution_count": 15,
     "metadata": {},
     "output_type": "execute_result"
    }
   ],
   "source": [
    "OnePiece.figure.plot_heat_map(ma, ou = joinpath(te, \"heat_map.html\"))"
   ]
  },
  {
   "cell_type": "markdown",
   "id": "a48817d0",
   "metadata": {},
   "source": [
    "## plot_histogram"
   ]
  },
  {
   "cell_type": "code",
   "execution_count": 16,
   "id": "34d85b5d",
   "metadata": {
    "execution": {
     "iopub.execute_input": "2022-07-13T12:50:12.852000Z",
     "iopub.status.busy": "2022-07-13T12:50:12.852000Z",
     "iopub.status.idle": "2022-07-13T12:50:14.880000Z",
     "shell.execute_reply": "2022-07-13T12:50:14.880000Z"
    }
   },
   "outputs": [
    {
     "name": "stdout",
     "output_type": "stream",
     "text": [
      "Made /Users/kwat/.julia/scratchspaces/1fe83854-81c0-42f7-afc9-71ba9af673ca/OnePiece.html/2022-7-13_12:50:14.863.html.\n"
     ]
    },
    {
     "data": {
      "text/plain": [
       "Process(`\u001b[4mopen\u001b[24m \u001b[4m/Users/kwat/.julia/scratchspaces/1fe83854-81c0-42f7-afc9-71ba9af673ca/OnePiece.html/2022-7-13_12:50:14.863.html\u001b[24m`, ProcessRunning)"
      ]
     },
     "execution_count": 16,
     "metadata": {},
     "output_type": "execute_result"
    }
   ],
   "source": [
    "x_ = [[-1], [0, 1], [2, 3, 4]]\n",
    "\n",
    "OnePiece.figure.plot_histogram(x_)"
   ]
  },
  {
   "cell_type": "code",
   "execution_count": 17,
   "id": "866a3d3e",
   "metadata": {
    "execution": {
     "iopub.execute_input": "2022-07-13T12:50:14.884000Z",
     "iopub.status.busy": "2022-07-13T12:50:14.884000Z",
     "iopub.status.idle": "2022-07-13T12:50:15.419000Z",
     "shell.execute_reply": "2022-07-13T12:50:15.418000Z"
    }
   },
   "outputs": [
    {
     "name": "stdout",
     "output_type": "stream",
     "text": [
      "opacity => (0.8) 0.92\n",
      "opacity => (0.8) 0.92\n",
      "opacity => (0.8) 0.92\n",
      "Made /Users/kwat/.julia/scratchspaces/1fe83854-81c0-42f7-afc9-71ba9af673ca/OnePiece.html/2022-7-13_12:50:15.402.html.\n"
     ]
    },
    {
     "data": {
      "text/plain": [
       "Process(`\u001b[4mopen\u001b[24m \u001b[4m/Users/kwat/.julia/scratchspaces/1fe83854-81c0-42f7-afc9-71ba9af673ca/OnePiece.html/2022-7-13_12:50:15.402.html\u001b[24m`, ProcessRunning)"
      ]
     },
     "execution_count": 17,
     "metadata": {},
     "output_type": "execute_result"
    }
   ],
   "source": [
    "text_ = [[\"1A\"], [\"2A\", \"2B\"], [\"3A\", \"3B\", \"3C\"]]\n",
    "\n",
    "OnePiece.figure.plot_histogram(x_, text_)"
   ]
  },
  {
   "cell_type": "code",
   "execution_count": 18,
   "id": "e0a6957a",
   "metadata": {
    "execution": {
     "iopub.execute_input": "2022-07-13T12:50:15.422000Z",
     "iopub.status.busy": "2022-07-13T12:50:15.422000Z",
     "iopub.status.idle": "2022-07-13T12:50:15.878000Z",
     "shell.execute_reply": "2022-07-13T12:50:15.878000Z"
    }
   },
   "outputs": [
    {
     "name": "stdout",
     "output_type": "stream",
     "text": [
      "opacity => (0.8) 0.92\n",
      "opacity => (0.8) 0.92\n",
      "opacity => (0.8) 0.92\n",
      "Made /Users/kwat/.julia/scratchspaces/1fe83854-81c0-42f7-afc9-71ba9af673ca/OnePiece.html/2022-7-13_12:50:15.86.html.\n"
     ]
    },
    {
     "data": {
      "text/plain": [
       "Process(`\u001b[4mopen\u001b[24m \u001b[4m/Users/kwat/.julia/scratchspaces/1fe83854-81c0-42f7-afc9-71ba9af673ca/OnePiece.html/2022-7-13_12:50:15.86.html\u001b[24m`, ProcessRunning)"
      ]
     },
     "execution_count": 18,
     "metadata": {},
     "output_type": "execute_result"
    }
   ],
   "source": [
    "OnePiece.figure.plot_histogram(x_, text_, xbins_size = 1)"
   ]
  },
  {
   "cell_type": "markdown",
   "id": "4889aca0",
   "metadata": {},
   "source": [
    "## plot_scatter"
   ]
  },
  {
   "cell_type": "code",
   "execution_count": 19,
   "id": "58a30a5c",
   "metadata": {
    "execution": {
     "iopub.execute_input": "2022-07-13T12:50:15.883000Z",
     "iopub.status.busy": "2022-07-13T12:50:15.883000Z",
     "iopub.status.idle": "2022-07-13T12:50:15.889000Z",
     "shell.execute_reply": "2022-07-13T12:50:15.889000Z"
    }
   },
   "outputs": [
    {
     "data": {
      "text/plain": [
       "2-element Vector{Vector{Int64}}:\n",
       " [-1, 0, 2]\n",
       " [3, 4]"
      ]
     },
     "execution_count": 19,
     "metadata": {},
     "output_type": "execute_result"
    }
   ],
   "source": [
    "x1 = [-1, 0, 2]\n",
    "\n",
    "x2 = [3, 4]\n",
    "\n",
    "x_ = [x1, x2]"
   ]
  },
  {
   "cell_type": "code",
   "execution_count": 20,
   "id": "aec95893",
   "metadata": {
    "execution": {
     "iopub.execute_input": "2022-07-13T12:50:15.893000Z",
     "iopub.status.busy": "2022-07-13T12:50:15.892000Z",
     "iopub.status.idle": "2022-07-13T12:50:15.988000Z",
     "shell.execute_reply": "2022-07-13T12:50:15.988000Z"
    }
   },
   "outputs": [
    {
     "data": {
      "text/plain": [
       "2-element Vector{Vector{Int64}}:\n",
       " [-10, 0, 20]\n",
       " [60, 80]"
      ]
     },
     "execution_count": 20,
     "metadata": {},
     "output_type": "execute_result"
    }
   ],
   "source": [
    "y1 = x1 .* 10\n",
    "\n",
    "y2 = x2 .* 20\n",
    "\n",
    "y_ = [y1, y2]"
   ]
  },
  {
   "cell_type": "code",
   "execution_count": 21,
   "id": "f29cca1a",
   "metadata": {
    "execution": {
     "iopub.execute_input": "2022-07-13T12:50:15.992000Z",
     "iopub.status.busy": "2022-07-13T12:50:15.992000Z",
     "iopub.status.idle": "2022-07-13T12:50:16.239000Z",
     "shell.execute_reply": "2022-07-13T12:50:16.238000Z"
    }
   },
   "outputs": [
    {
     "name": "stdout",
     "output_type": "stream",
     "text": [
      "Made /Users/kwat/.julia/scratchspaces/1fe83854-81c0-42f7-afc9-71ba9af673ca/OnePiece.html/2022-7-13_12:50:16.22.html.\n"
     ]
    },
    {
     "data": {
      "text/plain": [
       "Process(`\u001b[4mopen\u001b[24m \u001b[4m/Users/kwat/.julia/scratchspaces/1fe83854-81c0-42f7-afc9-71ba9af673ca/OnePiece.html/2022-7-13_12:50:16.22.html\u001b[24m`, ProcessRunning)"
      ]
     },
     "execution_count": 21,
     "metadata": {},
     "output_type": "execute_result"
    }
   ],
   "source": [
    "OnePiece.figure.plot_scatter(y_)"
   ]
  },
  {
   "cell_type": "code",
   "execution_count": 22,
   "id": "672c6dab",
   "metadata": {
    "execution": {
     "iopub.execute_input": "2022-07-13T12:50:16.243000Z",
     "iopub.status.busy": "2022-07-13T12:50:16.243000Z",
     "iopub.status.idle": "2022-07-13T12:50:16.508000Z",
     "shell.execute_reply": "2022-07-13T12:50:16.507000Z"
    }
   },
   "outputs": [
    {
     "name": "stdout",
     "output_type": "stream",
     "text": [
      "Made /var/folders/mg/30npdf0s1z36txb2qvgylrzh0000gn/T/OnePiece.figure/scatter.html.\n"
     ]
    },
    {
     "data": {
      "text/plain": [
       "Process(`\u001b[4mopen\u001b[24m \u001b[4m/var/folders/mg/30npdf0s1z36txb2qvgylrzh0000gn/T/OnePiece.figure/scatter.html\u001b[24m`, ProcessRunning)"
      ]
     },
     "execution_count": 22,
     "metadata": {},
     "output_type": "execute_result"
    }
   ],
   "source": [
    "OnePiece.figure.plot_scatter(y_, x_, ou = joinpath(te, \"scatter.html\"))"
   ]
  }
 ],
 "metadata": {
  "@webio": {
   "lastCommId": null,
   "lastKernelId": null
  },
  "kernelspec": {
   "display_name": "Julia 1.7.3",
   "language": "julia",
   "name": "julia-1.7"
  },
  "language_info": {
   "file_extension": ".jl",
   "mimetype": "application/julia",
   "name": "julia",
   "version": "1.7.3"
  }
 },
 "nbformat": 4,
 "nbformat_minor": 5
}
