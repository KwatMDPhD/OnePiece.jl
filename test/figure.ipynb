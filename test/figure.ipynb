{
 "cells": [
  {
   "cell_type": "code",
   "execution_count": 1,
   "id": "baf12f00",
   "metadata": {
    "execution": {
     "iopub.execute_input": "2022-07-13T16:47:58.691000Z",
     "iopub.status.busy": "2022-07-13T16:47:58.348000Z",
     "iopub.status.idle": "2022-07-13T16:48:02.981000Z",
     "shell.execute_reply": "2022-07-13T16:48:02.935000Z"
    }
   },
   "outputs": [],
   "source": [
    "using OnePiece"
   ]
  },
  {
   "cell_type": "code",
   "execution_count": 2,
   "id": "c4b58199",
   "metadata": {
    "execution": {
     "iopub.execute_input": "2022-07-13T16:48:03.450000Z",
     "iopub.status.busy": "2022-07-13T16:48:02.998000Z",
     "iopub.status.idle": "2022-07-13T16:48:04.065000Z",
     "shell.execute_reply": "2022-07-13T16:48:04.065000Z"
    }
   },
   "outputs": [
    {
     "data": {
      "text/plain": [
       "\"/var/folders/mg/30npdf0s1z36txb2qvgylrzh0000gn/T/OnePiece.test.figure\""
      ]
     },
     "execution_count": 2,
     "metadata": {},
     "output_type": "execute_result"
    }
   ],
   "source": [
    "te = OnePiece.path.make_temporary(\"OnePiece.test.figure\")"
   ]
  },
  {
   "cell_type": "markdown",
   "id": "84e40a06",
   "metadata": {},
   "source": [
    "## plot"
   ]
  },
  {
   "cell_type": "code",
   "execution_count": 3,
   "id": "37fb91b2",
   "metadata": {
    "execution": {
     "iopub.execute_input": "2022-07-13T16:48:04.069000Z",
     "iopub.status.busy": "2022-07-13T16:48:04.069000Z",
     "iopub.status.idle": "2022-07-13T16:48:05.133000Z",
     "shell.execute_reply": "2022-07-13T16:48:05.132000Z"
    }
   },
   "outputs": [
    {
     "name": "stdout",
     "output_type": "stream",
     "text": [
      "Made /var/folders/mg/30npdf0s1z36txb2qvgylrzh0000gn/T/OnePiece/2022-7-13_16:48:4.585.html.\n"
     ]
    },
    {
     "data": {
      "text/plain": [
       "Process(`\u001b[4mopen\u001b[24m \u001b[4m/var/folders/mg/30npdf0s1z36txb2qvgylrzh0000gn/T/OnePiece/2022-7-13_16:48:4.585.html\u001b[24m`, ProcessRunning)"
      ]
     },
     "execution_count": 3,
     "metadata": {},
     "output_type": "execute_result"
    }
   ],
   "source": [
    "data = [Dict()]\n",
    "\n",
    "OnePiece.figure.plot(data)"
   ]
  },
  {
   "cell_type": "code",
   "execution_count": 4,
   "id": "ec645662",
   "metadata": {
    "execution": {
     "iopub.execute_input": "2022-07-13T16:48:05.136000Z",
     "iopub.status.busy": "2022-07-13T16:48:05.136000Z",
     "iopub.status.idle": "2022-07-13T16:48:05.340000Z",
     "shell.execute_reply": "2022-07-13T16:48:05.339000Z"
    }
   },
   "outputs": [
    {
     "name": "stdout",
     "output_type": "stream",
     "text": [
      "Made /var/folders/mg/30npdf0s1z36txb2qvgylrzh0000gn/T/OnePiece/2022-7-13_16:48:5.327.html.\n"
     ]
    },
    {
     "data": {
      "text/plain": [
       "Process(`\u001b[4mopen\u001b[24m \u001b[4m/var/folders/mg/30npdf0s1z36txb2qvgylrzh0000gn/T/OnePiece/2022-7-13_16:48:5.327.html\u001b[24m`, ProcessRunning)"
      ]
     },
     "execution_count": 4,
     "metadata": {},
     "output_type": "execute_result"
    }
   ],
   "source": [
    "layout = Dict(\n",
    "    \"title\" => \"Title\",\n",
    "    \"yaxis\" => Dict(\"title\" => \"Y-Axis Title\"),\n",
    "    \"xaxis\" => Dict(\"title\" => \"X-Axis Title\"),\n",
    ")\n",
    "\n",
    "OnePiece.figure.plot(data, layout)"
   ]
  },
  {
   "cell_type": "code",
   "execution_count": 5,
   "id": "ae72a412",
   "metadata": {
    "execution": {
     "iopub.execute_input": "2022-07-13T16:48:05.343000Z",
     "iopub.status.busy": "2022-07-13T16:48:05.343000Z",
     "iopub.status.idle": "2022-07-13T16:48:05.372000Z",
     "shell.execute_reply": "2022-07-13T16:48:05.372000Z"
    }
   },
   "outputs": [
    {
     "name": "stdout",
     "output_type": "stream",
     "text": [
      "Made /var/folders/mg/30npdf0s1z36txb2qvgylrzh0000gn/T/OnePiece.test.figure/output.html.\n"
     ]
    },
    {
     "data": {
      "text/plain": [
       "Process(`\u001b[4mopen\u001b[24m \u001b[4m/var/folders/mg/30npdf0s1z36txb2qvgylrzh0000gn/T/OnePiece.test.figure/output.html\u001b[24m`, ProcessRunning)"
      ]
     },
     "execution_count": 5,
     "metadata": {},
     "output_type": "execute_result"
    }
   ],
   "source": [
    "OnePiece.figure.plot(data, ou = joinpath(te, \"output.html\"))"
   ]
  },
  {
   "cell_type": "markdown",
   "id": "01af355b",
   "metadata": {},
   "source": [
    "## plot_bar"
   ]
  },
  {
   "cell_type": "code",
   "execution_count": 6,
   "id": "1f297153",
   "metadata": {
    "execution": {
     "iopub.execute_input": "2022-07-13T16:48:05.376000Z",
     "iopub.status.busy": "2022-07-13T16:48:05.376000Z",
     "iopub.status.idle": "2022-07-13T16:48:06.574000Z",
     "shell.execute_reply": "2022-07-13T16:48:06.574000Z"
    }
   },
   "outputs": [
    {
     "data": {
      "text/plain": [
       "2-element Vector{Vector{Int64}}:\n",
       " [-1, 2, 5]\n",
       " [5, 2, -1]"
      ]
     },
     "execution_count": 6,
     "metadata": {},
     "output_type": "execute_result"
    }
   ],
   "source": [
    "y1 = [-1, 2, 5]\n",
    "\n",
    "y2 = reverse(y1)\n",
    "\n",
    "y_ = [y1, y2]"
   ]
  },
  {
   "cell_type": "code",
   "execution_count": 7,
   "id": "2568a640",
   "metadata": {
    "execution": {
     "iopub.execute_input": "2022-07-13T16:48:06.577000Z",
     "iopub.status.busy": "2022-07-13T16:48:06.577000Z",
     "iopub.status.idle": "2022-07-13T16:48:07.407000Z",
     "shell.execute_reply": "2022-07-13T16:48:07.407000Z"
    }
   },
   "outputs": [
    {
     "name": "stdout",
     "output_type": "stream",
     "text": [
      "Made /var/folders/mg/30npdf0s1z36txb2qvgylrzh0000gn/T/OnePiece/2022-7-13_16:48:7.395.html.\n"
     ]
    },
    {
     "data": {
      "text/plain": [
       "Process(`\u001b[4mopen\u001b[24m \u001b[4m/var/folders/mg/30npdf0s1z36txb2qvgylrzh0000gn/T/OnePiece/2022-7-13_16:48:7.395.html\u001b[24m`, ProcessRunning)"
      ]
     },
     "execution_count": 7,
     "metadata": {},
     "output_type": "execute_result"
    }
   ],
   "source": [
    "OnePiece.figure.plot_bar(y_)"
   ]
  },
  {
   "cell_type": "code",
   "execution_count": 8,
   "id": "b9ca7825",
   "metadata": {
    "execution": {
     "iopub.execute_input": "2022-07-13T16:48:07.411000Z",
     "iopub.status.busy": "2022-07-13T16:48:07.411000Z",
     "iopub.status.idle": "2022-07-13T16:48:07.834000Z",
     "shell.execute_reply": "2022-07-13T16:48:07.834000Z"
    }
   },
   "outputs": [
    {
     "data": {
      "text/plain": [
       "2-element Vector{String}:\n",
       " \"Jonathan\"\n",
       " \"Joseph\""
      ]
     },
     "execution_count": 8,
     "metadata": {},
     "output_type": "execute_result"
    }
   ],
   "source": [
    "name1 = \"Jonathan\"\n",
    "\n",
    "name2 = \"Joseph\"\n",
    "\n",
    "name_ = [name1, name2]"
   ]
  },
  {
   "cell_type": "code",
   "execution_count": 9,
   "id": "1969df42",
   "metadata": {
    "execution": {
     "iopub.execute_input": "2022-07-13T16:48:07.837000Z",
     "iopub.status.busy": "2022-07-13T16:48:07.837000Z",
     "iopub.status.idle": "2022-07-13T16:48:07.881000Z",
     "shell.execute_reply": "2022-07-13T16:48:07.881000Z"
    }
   },
   "outputs": [
    {
     "data": {
      "text/plain": [
       "2-element Vector{Vector{Int64}}:\n",
       " [-2, -1, 0]\n",
       " [0, 1, 2]"
      ]
     },
     "execution_count": 9,
     "metadata": {},
     "output_type": "execute_result"
    }
   ],
   "source": [
    "x1 = [-2, -1, 0]\n",
    "\n",
    "x2 = .-reverse(x1)\n",
    "\n",
    "x_ = [x1, x2]"
   ]
  },
  {
   "cell_type": "code",
   "execution_count": 10,
   "id": "e26efbb2",
   "metadata": {
    "execution": {
     "iopub.execute_input": "2022-07-13T16:48:07.884000Z",
     "iopub.status.busy": "2022-07-13T16:48:07.884000Z",
     "iopub.status.idle": "2022-07-13T16:48:08.036000Z",
     "shell.execute_reply": "2022-07-13T16:48:08.036000Z"
    }
   },
   "outputs": [
    {
     "name": "stdout",
     "output_type": "stream",
     "text": [
      "Made /var/folders/mg/30npdf0s1z36txb2qvgylrzh0000gn/T/OnePiece/2022-7-13_16:48:8.022.html.\n"
     ]
    },
    {
     "data": {
      "text/plain": [
       "Process(`\u001b[4mopen\u001b[24m \u001b[4m/var/folders/mg/30npdf0s1z36txb2qvgylrzh0000gn/T/OnePiece/2022-7-13_16:48:8.022.html\u001b[24m`, ProcessRunning)"
      ]
     },
     "execution_count": 10,
     "metadata": {},
     "output_type": "execute_result"
    }
   ],
   "source": [
    "OnePiece.figure.plot_bar(y_, x_, name_ = name_)"
   ]
  },
  {
   "cell_type": "code",
   "execution_count": 11,
   "id": "5091099b",
   "metadata": {
    "execution": {
     "iopub.execute_input": "2022-07-13T16:48:08.040000Z",
     "iopub.status.busy": "2022-07-13T16:48:08.040000Z",
     "iopub.status.idle": "2022-07-13T16:48:08.062000Z",
     "shell.execute_reply": "2022-07-13T16:48:08.061000Z"
    }
   },
   "outputs": [
    {
     "name": "stdout",
     "output_type": "stream",
     "text": [
      "Made /var/folders/mg/30npdf0s1z36txb2qvgylrzh0000gn/T/OnePiece/2022-7-13_16:48:8.048.html.\n"
     ]
    },
    {
     "data": {
      "text/plain": [
       "Process(`\u001b[4mopen\u001b[24m \u001b[4m/var/folders/mg/30npdf0s1z36txb2qvgylrzh0000gn/T/OnePiece/2022-7-13_16:48:8.048.html\u001b[24m`, ProcessRunning)"
      ]
     },
     "execution_count": 11,
     "metadata": {},
     "output_type": "execute_result"
    }
   ],
   "source": [
    "push!(name_, \"Jotaro\")\n",
    "\n",
    "push!(y_, [8])\n",
    "\n",
    "push!(x_, [0])\n",
    "\n",
    "OnePiece.figure.plot_bar(y_, x_, name_ = name_)"
   ]
  },
  {
   "cell_type": "code",
   "execution_count": 12,
   "id": "7275f857",
   "metadata": {
    "execution": {
     "iopub.execute_input": "2022-07-13T16:48:08.066000Z",
     "iopub.status.busy": "2022-07-13T16:48:08.066000Z",
     "iopub.status.idle": "2022-07-13T16:48:08.187000Z",
     "shell.execute_reply": "2022-07-13T16:48:08.186000Z"
    }
   },
   "outputs": [
    {
     "name": "stdout",
     "output_type": "stream",
     "text": [
      "Made /var/folders/mg/30npdf0s1z36txb2qvgylrzh0000gn/T/OnePiece.test.figure/bar.html.\n"
     ]
    },
    {
     "data": {
      "text/plain": [
       "Process(`\u001b[4mopen\u001b[24m \u001b[4m/var/folders/mg/30npdf0s1z36txb2qvgylrzh0000gn/T/OnePiece.test.figure/bar.html\u001b[24m`, ProcessRunning)"
      ]
     },
     "execution_count": 12,
     "metadata": {},
     "output_type": "execute_result"
    }
   ],
   "source": [
    "OnePiece.figure.plot_bar(\n",
    "    y_,\n",
    "    x_,\n",
    "    name_ = name_,\n",
    "    layout = Dict(\"barmode\" => \"stack\", \"title\" => Dict(\"text\" => \"Stack\")),\n",
    "    ou = joinpath(te, \"bar.html\"),\n",
    ")"
   ]
  },
  {
   "cell_type": "markdown",
   "id": "6c8e6968",
   "metadata": {},
   "source": [
    "## plot_heat_map"
   ]
  },
  {
   "cell_type": "code",
   "execution_count": 13,
   "id": "4f9637cd",
   "metadata": {
    "execution": {
     "iopub.execute_input": "2022-07-13T16:48:08.191000Z",
     "iopub.status.busy": "2022-07-13T16:48:08.191000Z",
     "iopub.status.idle": "2022-07-13T16:48:08.829000Z",
     "shell.execute_reply": "2022-07-13T16:48:08.829000Z"
    }
   },
   "outputs": [
    {
     "data": {
      "text/plain": [
       "2×4 Matrix{Float64}:\n",
       " 1.0  3.0  5.0  7.0\n",
       " 2.0  4.0  6.0  8.0"
      ]
     },
     "execution_count": 13,
     "metadata": {},
     "output_type": "execute_result"
    }
   ],
   "source": [
    "ma = OnePiece.matrix.simulate(2, 4)"
   ]
  },
  {
   "cell_type": "code",
   "execution_count": 14,
   "id": "31b0f214",
   "metadata": {
    "execution": {
     "iopub.execute_input": "2022-07-13T16:48:08.832000Z",
     "iopub.status.busy": "2022-07-13T16:48:08.832000Z",
     "iopub.status.idle": "2022-07-13T16:48:09.316000Z",
     "shell.execute_reply": "2022-07-13T16:48:09.316000Z"
    }
   },
   "outputs": [
    {
     "name": "stdout",
     "output_type": "stream",
     "text": [
      "Made /var/folders/mg/30npdf0s1z36txb2qvgylrzh0000gn/T/OnePiece/2022-7-13_16:48:9.304.html.\n"
     ]
    },
    {
     "data": {
      "text/plain": [
       "Process(`\u001b[4mopen\u001b[24m \u001b[4m/var/folders/mg/30npdf0s1z36txb2qvgylrzh0000gn/T/OnePiece/2022-7-13_16:48:9.304.html\u001b[24m`, ProcessRunning)"
      ]
     },
     "execution_count": 14,
     "metadata": {},
     "output_type": "execute_result"
    }
   ],
   "source": [
    "OnePiece.figure.plot_heat_map(\n",
    "    ma,\n",
    "    [\"Row$id\" for id in 1:size(ma, 1)],\n",
    "    [\"Column$id\" for id in 1:size(ma, 2)],\n",
    ")"
   ]
  },
  {
   "cell_type": "code",
   "execution_count": 15,
   "id": "e8d39c80",
   "metadata": {
    "execution": {
     "iopub.execute_input": "2022-07-13T16:48:09.320000Z",
     "iopub.status.busy": "2022-07-13T16:48:09.320000Z",
     "iopub.status.idle": "2022-07-13T16:48:09.386000Z",
     "shell.execute_reply": "2022-07-13T16:48:09.386000Z"
    }
   },
   "outputs": [
    {
     "name": "stdout",
     "output_type": "stream",
     "text": [
      "Made /var/folders/mg/30npdf0s1z36txb2qvgylrzh0000gn/T/OnePiece.test.figure/heat_map.html.\n"
     ]
    },
    {
     "data": {
      "text/plain": [
       "Process(`\u001b[4mopen\u001b[24m \u001b[4m/var/folders/mg/30npdf0s1z36txb2qvgylrzh0000gn/T/OnePiece.test.figure/heat_map.html\u001b[24m`, ProcessRunning)"
      ]
     },
     "execution_count": 15,
     "metadata": {},
     "output_type": "execute_result"
    }
   ],
   "source": [
    "OnePiece.figure.plot_heat_map(ma, ou = joinpath(te, \"heat_map.html\"))"
   ]
  },
  {
   "cell_type": "markdown",
   "id": "a48817d0",
   "metadata": {},
   "source": [
    "## plot_histogram"
   ]
  },
  {
   "cell_type": "code",
   "execution_count": 16,
   "id": "34d85b5d",
   "metadata": {
    "execution": {
     "iopub.execute_input": "2022-07-13T16:48:09.390000Z",
     "iopub.status.busy": "2022-07-13T16:48:09.390000Z",
     "iopub.status.idle": "2022-07-13T16:48:11.251000Z",
     "shell.execute_reply": "2022-07-13T16:48:11.251000Z"
    }
   },
   "outputs": [
    {
     "name": "stdout",
     "output_type": "stream",
     "text": [
      "Made /var/folders/mg/30npdf0s1z36txb2qvgylrzh0000gn/T/OnePiece/2022-7-13_16:48:11.239.html.\n"
     ]
    },
    {
     "data": {
      "text/plain": [
       "Process(`\u001b[4mopen\u001b[24m \u001b[4m/var/folders/mg/30npdf0s1z36txb2qvgylrzh0000gn/T/OnePiece/2022-7-13_16:48:11.239.html\u001b[24m`, ProcessRunning)"
      ]
     },
     "execution_count": 16,
     "metadata": {},
     "output_type": "execute_result"
    }
   ],
   "source": [
    "x_ = [[-1], [0, 1], [2, 3, 4]]\n",
    "\n",
    "OnePiece.figure.plot_histogram(x_)"
   ]
  },
  {
   "cell_type": "code",
   "execution_count": 17,
   "id": "866a3d3e",
   "metadata": {
    "execution": {
     "iopub.execute_input": "2022-07-13T16:48:11.255000Z",
     "iopub.status.busy": "2022-07-13T16:48:11.255000Z",
     "iopub.status.idle": "2022-07-13T16:48:11.821000Z",
     "shell.execute_reply": "2022-07-13T16:48:11.820000Z"
    }
   },
   "outputs": [
    {
     "name": "stdout",
     "output_type": "stream",
     "text": [
      "opacity => (0.8) 0.92\n",
      "opacity => (0.8) 0.92\n",
      "opacity => (0.8) 0.92\n",
      "Made /var/folders/mg/30npdf0s1z36txb2qvgylrzh0000gn/T/OnePiece/2022-7-13_16:48:11.807.html.\n"
     ]
    },
    {
     "data": {
      "text/plain": [
       "Process(`\u001b[4mopen\u001b[24m \u001b[4m/var/folders/mg/30npdf0s1z36txb2qvgylrzh0000gn/T/OnePiece/2022-7-13_16:48:11.807.html\u001b[24m`, ProcessRunning)"
      ]
     },
     "execution_count": 17,
     "metadata": {},
     "output_type": "execute_result"
    }
   ],
   "source": [
    "text_ = [[\"1A\"], [\"2A\", \"2B\"], [\"3A\", \"3B\", \"3C\"]]\n",
    "\n",
    "OnePiece.figure.plot_histogram(x_, text_)"
   ]
  },
  {
   "cell_type": "code",
   "execution_count": 18,
   "id": "e0a6957a",
   "metadata": {
    "execution": {
     "iopub.execute_input": "2022-07-13T16:48:11.826000Z",
     "iopub.status.busy": "2022-07-13T16:48:11.826000Z",
     "iopub.status.idle": "2022-07-13T16:48:12.262000Z",
     "shell.execute_reply": "2022-07-13T16:48:12.261000Z"
    }
   },
   "outputs": [
    {
     "name": "stdout",
     "output_type": "stream",
     "text": [
      "opacity => (0.8) 0.92\n",
      "opacity => (0.8) 0.92\n",
      "opacity => (0.8) 0.92\n",
      "Made /var/folders/mg/30npdf0s1z36txb2qvgylrzh0000gn/T/OnePiece/2022-7-13_16:48:12.247.html.\n"
     ]
    },
    {
     "data": {
      "text/plain": [
       "Process(`\u001b[4mopen\u001b[24m \u001b[4m/var/folders/mg/30npdf0s1z36txb2qvgylrzh0000gn/T/OnePiece/2022-7-13_16:48:12.247.html\u001b[24m`, ProcessRunning)"
      ]
     },
     "execution_count": 18,
     "metadata": {},
     "output_type": "execute_result"
    }
   ],
   "source": [
    "OnePiece.figure.plot_histogram(x_, text_, xbins_size = 1)"
   ]
  },
  {
   "cell_type": "markdown",
   "id": "4889aca0",
   "metadata": {},
   "source": [
    "## plot_scatter"
   ]
  },
  {
   "cell_type": "code",
   "execution_count": 19,
   "id": "58a30a5c",
   "metadata": {
    "execution": {
     "iopub.execute_input": "2022-07-13T16:48:12.266000Z",
     "iopub.status.busy": "2022-07-13T16:48:12.266000Z",
     "iopub.status.idle": "2022-07-13T16:48:12.272000Z",
     "shell.execute_reply": "2022-07-13T16:48:12.272000Z"
    }
   },
   "outputs": [
    {
     "data": {
      "text/plain": [
       "2-element Vector{Vector{Int64}}:\n",
       " [-1, 0, 2]\n",
       " [3, 4]"
      ]
     },
     "execution_count": 19,
     "metadata": {},
     "output_type": "execute_result"
    }
   ],
   "source": [
    "x1 = [-1, 0, 2]\n",
    "\n",
    "x2 = [3, 4]\n",
    "\n",
    "x_ = [x1, x2]"
   ]
  },
  {
   "cell_type": "code",
   "execution_count": 20,
   "id": "aec95893",
   "metadata": {
    "execution": {
     "iopub.execute_input": "2022-07-13T16:48:12.276000Z",
     "iopub.status.busy": "2022-07-13T16:48:12.276000Z",
     "iopub.status.idle": "2022-07-13T16:48:12.335000Z",
     "shell.execute_reply": "2022-07-13T16:48:12.334000Z"
    }
   },
   "outputs": [
    {
     "data": {
      "text/plain": [
       "2-element Vector{Vector{Int64}}:\n",
       " [-10, 0, 20]\n",
       " [60, 80]"
      ]
     },
     "execution_count": 20,
     "metadata": {},
     "output_type": "execute_result"
    }
   ],
   "source": [
    "y1 = x1 .* 10\n",
    "\n",
    "y2 = x2 .* 20\n",
    "\n",
    "y_ = [y1, y2]"
   ]
  },
  {
   "cell_type": "code",
   "execution_count": 21,
   "id": "f29cca1a",
   "metadata": {
    "execution": {
     "iopub.execute_input": "2022-07-13T16:48:12.338000Z",
     "iopub.status.busy": "2022-07-13T16:48:12.338000Z",
     "iopub.status.idle": "2022-07-13T16:48:12.585000Z",
     "shell.execute_reply": "2022-07-13T16:48:12.585000Z"
    }
   },
   "outputs": [
    {
     "name": "stdout",
     "output_type": "stream",
     "text": [
      "Made /var/folders/mg/30npdf0s1z36txb2qvgylrzh0000gn/T/OnePiece/2022-7-13_16:48:12.57.html.\n"
     ]
    },
    {
     "data": {
      "text/plain": [
       "Process(`\u001b[4mopen\u001b[24m \u001b[4m/var/folders/mg/30npdf0s1z36txb2qvgylrzh0000gn/T/OnePiece/2022-7-13_16:48:12.57.html\u001b[24m`, ProcessRunning)"
      ]
     },
     "execution_count": 21,
     "metadata": {},
     "output_type": "execute_result"
    }
   ],
   "source": [
    "OnePiece.figure.plot_scatter(y_)"
   ]
  },
  {
   "cell_type": "code",
   "execution_count": 22,
   "id": "672c6dab",
   "metadata": {
    "execution": {
     "iopub.execute_input": "2022-07-13T16:48:12.589000Z",
     "iopub.status.busy": "2022-07-13T16:48:12.589000Z",
     "iopub.status.idle": "2022-07-13T16:48:12.820000Z",
     "shell.execute_reply": "2022-07-13T16:48:12.820000Z"
    }
   },
   "outputs": [
    {
     "name": "stdout",
     "output_type": "stream",
     "text": [
      "Made /var/folders/mg/30npdf0s1z36txb2qvgylrzh0000gn/T/OnePiece.test.figure/scatter.html.\n"
     ]
    },
    {
     "data": {
      "text/plain": [
       "Process(`\u001b[4mopen\u001b[24m \u001b[4m/var/folders/mg/30npdf0s1z36txb2qvgylrzh0000gn/T/OnePiece.test.figure/scatter.html\u001b[24m`, ProcessRunning)"
      ]
     },
     "execution_count": 22,
     "metadata": {},
     "output_type": "execute_result"
    }
   ],
   "source": [
    "OnePiece.figure.plot_scatter(y_, x_, ou = joinpath(te, \"scatter.html\"))"
   ]
  }
 ],
 "metadata": {
  "@webio": {
   "lastCommId": null,
   "lastKernelId": null
  },
  "kernelspec": {
   "display_name": "Julia 1.7.3",
   "language": "julia",
   "name": "julia-1.7"
  },
  "language_info": {
   "file_extension": ".jl",
   "mimetype": "application/julia",
   "name": "julia",
   "version": "1.7.3"
  }
 },
 "nbformat": 4,
 "nbformat_minor": 5
}
