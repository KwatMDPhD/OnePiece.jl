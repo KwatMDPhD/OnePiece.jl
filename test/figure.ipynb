{
 "cells": [
  {
   "cell_type": "code",
   "execution_count": 1,
   "id": "baf12f00",
   "metadata": {
    "execution": {
     "iopub.execute_input": "2022-07-03T14:53:50.031000Z",
     "iopub.status.busy": "2022-07-03T14:53:49.690000Z",
     "iopub.status.idle": "2022-07-03T14:53:55.531000Z",
     "shell.execute_reply": "2022-07-03T14:53:55.483000Z"
    }
   },
   "outputs": [],
   "source": [
    "using Revise\n",
    "using OnePiece"
   ]
  },
  {
   "cell_type": "code",
   "execution_count": 2,
   "id": "c4b58199",
   "metadata": {
    "execution": {
     "iopub.execute_input": "2022-07-03T14:53:55.928000Z",
     "iopub.status.busy": "2022-07-03T14:53:55.533000Z",
     "iopub.status.idle": "2022-07-03T14:53:57.399000Z",
     "shell.execute_reply": "2022-07-03T14:53:57.399000Z"
    }
   },
   "outputs": [
    {
     "data": {
      "text/plain": [
       "\"/var/folders/mg/30npdf0s1z36txb2qvgylrzh0000gn/T\""
      ]
     },
     "execution_count": 2,
     "metadata": {},
     "output_type": "execute_result"
    }
   ],
   "source": [
    "te = tempdir()"
   ]
  },
  {
   "cell_type": "markdown",
   "id": "84e40a06",
   "metadata": {},
   "source": [
    "## plot"
   ]
  },
  {
   "cell_type": "code",
   "execution_count": 3,
   "id": "37fb91b2",
   "metadata": {
    "execution": {
     "iopub.execute_input": "2022-07-03T14:53:57.403000Z",
     "iopub.status.busy": "2022-07-03T14:53:57.403000Z",
     "iopub.status.idle": "2022-07-03T14:53:57.921000Z",
     "shell.execute_reply": "2022-07-03T14:53:57.921000Z"
    }
   },
   "outputs": [
    {
     "name": "stdout",
     "output_type": "stream",
     "text": [
      "Made /Users/kwat/.julia/scratchspaces/1fe83854-81c0-42f7-afc9-71ba9af673ca/OnePiece.html/scratch.html.\n"
     ]
    },
    {
     "data": {
      "text/plain": [
       "\"/Users/kwat/.julia/scratchspaces/1fe83854-81c0-42f7-afc9-71ba9af673ca/OnePiece.html/scratch.html\""
      ]
     },
     "execution_count": 3,
     "metadata": {},
     "output_type": "execute_result"
    }
   ],
   "source": [
    "tr_ = [Dict()]\n",
    "\n",
    "OnePiece.figure.plot(tr_)"
   ]
  },
  {
   "cell_type": "code",
   "execution_count": 4,
   "id": "ec645662",
   "metadata": {
    "execution": {
     "iopub.execute_input": "2022-07-03T14:53:57.925000Z",
     "iopub.status.busy": "2022-07-03T14:53:57.924000Z",
     "iopub.status.idle": "2022-07-03T14:53:58.125000Z",
     "shell.execute_reply": "2022-07-03T14:53:58.124000Z"
    }
   },
   "outputs": [
    {
     "name": "stdout",
     "output_type": "stream",
     "text": [
      "Made /Users/kwat/.julia/scratchspaces/1fe83854-81c0-42f7-afc9-71ba9af673ca/OnePiece.html/scratch.html.\n"
     ]
    },
    {
     "data": {
      "text/plain": [
       "\"/Users/kwat/.julia/scratchspaces/1fe83854-81c0-42f7-afc9-71ba9af673ca/OnePiece.html/scratch.html\""
      ]
     },
     "execution_count": 4,
     "metadata": {},
     "output_type": "execute_result"
    }
   ],
   "source": [
    "la = Dict(\n",
    "    \"title\" => \"Title\",\n",
    "    \"yaxis\" => Dict(\"title\" => \"Y-Axis Title\"),\n",
    "    \"xaxis\" => Dict(\"title\" => \"X-Axis Title\"),\n",
    ")\n",
    "\n",
    "OnePiece.figure.plot(tr_, la)"
   ]
  },
  {
   "cell_type": "code",
   "execution_count": 5,
   "id": "ae72a412",
   "metadata": {
    "execution": {
     "iopub.execute_input": "2022-07-03T14:53:58.128000Z",
     "iopub.status.busy": "2022-07-03T14:53:58.128000Z",
     "iopub.status.idle": "2022-07-03T14:53:58.155000Z",
     "shell.execute_reply": "2022-07-03T14:53:58.154000Z"
    }
   },
   "outputs": [
    {
     "name": "stdout",
     "output_type": "stream",
     "text": [
      "Made /var/folders/mg/30npdf0s1z36txb2qvgylrzh0000gn/T/output.html.\n"
     ]
    },
    {
     "data": {
      "text/plain": [
       "\"/var/folders/mg/30npdf0s1z36txb2qvgylrzh0000gn/T/output.html\""
      ]
     },
     "execution_count": 5,
     "metadata": {},
     "output_type": "execute_result"
    }
   ],
   "source": [
    "OnePiece.figure.plot(tr_, ou = joinpath(te, \"output.html\"))"
   ]
  },
  {
   "cell_type": "markdown",
   "id": "01af355b",
   "metadata": {},
   "source": [
    "## plot_bar"
   ]
  },
  {
   "cell_type": "code",
   "execution_count": 6,
   "id": "1f297153",
   "metadata": {
    "execution": {
     "iopub.execute_input": "2022-07-03T14:53:58.158000Z",
     "iopub.status.busy": "2022-07-03T14:53:58.158000Z",
     "iopub.status.idle": "2022-07-03T14:53:59.215000Z",
     "shell.execute_reply": "2022-07-03T14:53:59.215000Z"
    }
   },
   "outputs": [
    {
     "data": {
      "text/plain": [
       "2-element Vector{Vector{Int64}}:\n",
       " [-1, 2, 5]\n",
       " [5, 2, -1]"
      ]
     },
     "execution_count": 6,
     "metadata": {},
     "output_type": "execute_result"
    }
   ],
   "source": [
    "y1 = [-1, 2, 5]\n",
    "\n",
    "y2 = reverse(y1)\n",
    "\n",
    "y_ = [y1, y2]"
   ]
  },
  {
   "cell_type": "code",
   "execution_count": 7,
   "id": "2568a640",
   "metadata": {
    "execution": {
     "iopub.execute_input": "2022-07-03T14:53:59.218000Z",
     "iopub.status.busy": "2022-07-03T14:53:59.218000Z",
     "iopub.status.idle": "2022-07-03T14:53:59.754000Z",
     "shell.execute_reply": "2022-07-03T14:53:59.754000Z"
    }
   },
   "outputs": [
    {
     "name": "stdout",
     "output_type": "stream",
     "text": [
      "Made /Users/kwat/.julia/scratchspaces/1fe83854-81c0-42f7-afc9-71ba9af673ca/OnePiece.html/scratch.html.\n"
     ]
    },
    {
     "data": {
      "text/plain": [
       "\"/Users/kwat/.julia/scratchspaces/1fe83854-81c0-42f7-afc9-71ba9af673ca/OnePiece.html/scratch.html\""
      ]
     },
     "execution_count": 7,
     "metadata": {},
     "output_type": "execute_result"
    }
   ],
   "source": [
    "OnePiece.figure.plot_bar(y_)"
   ]
  },
  {
   "cell_type": "code",
   "execution_count": 8,
   "id": "b9ca7825",
   "metadata": {
    "execution": {
     "iopub.execute_input": "2022-07-03T14:53:59.757000Z",
     "iopub.status.busy": "2022-07-03T14:53:59.757000Z",
     "iopub.status.idle": "2022-07-03T14:54:00.128000Z",
     "shell.execute_reply": "2022-07-03T14:54:00.128000Z"
    }
   },
   "outputs": [
    {
     "data": {
      "text/plain": [
       "2-element Vector{String}:\n",
       " \"Orange\"\n",
       " \"Blue\""
      ]
     },
     "execution_count": 8,
     "metadata": {},
     "output_type": "execute_result"
    }
   ],
   "source": [
    "name1 = \"Orange\"\n",
    "\n",
    "name2 = \"Blue\"\n",
    "\n",
    "name_ = [name1, name2]"
   ]
  },
  {
   "cell_type": "code",
   "execution_count": 9,
   "id": "1969df42",
   "metadata": {
    "execution": {
     "iopub.execute_input": "2022-07-03T14:54:00.131000Z",
     "iopub.status.busy": "2022-07-03T14:54:00.131000Z",
     "iopub.status.idle": "2022-07-03T14:54:00.187000Z",
     "shell.execute_reply": "2022-07-03T14:54:00.186000Z"
    }
   },
   "outputs": [
    {
     "data": {
      "text/plain": [
       "2-element Vector{Vector{Int64}}:\n",
       " [-2, -1, 0]\n",
       " [0, 1, 2]"
      ]
     },
     "execution_count": 9,
     "metadata": {},
     "output_type": "execute_result"
    }
   ],
   "source": [
    "x1 = [-2, -1, 0]\n",
    "\n",
    "x2 = .-reverse(x1)\n",
    "\n",
    "x_ = [x1, x2]"
   ]
  },
  {
   "cell_type": "code",
   "execution_count": 10,
   "id": "e26efbb2",
   "metadata": {
    "execution": {
     "iopub.execute_input": "2022-07-03T14:54:00.190000Z",
     "iopub.status.busy": "2022-07-03T14:54:00.189000Z",
     "iopub.status.idle": "2022-07-03T14:54:00.233000Z",
     "shell.execute_reply": "2022-07-03T14:54:00.232000Z"
    }
   },
   "outputs": [
    {
     "name": "stdout",
     "output_type": "stream",
     "text": [
      "Made /Users/kwat/.julia/scratchspaces/1fe83854-81c0-42f7-afc9-71ba9af673ca/OnePiece.html/scratch.html.\n"
     ]
    },
    {
     "data": {
      "text/plain": [
       "\"/Users/kwat/.julia/scratchspaces/1fe83854-81c0-42f7-afc9-71ba9af673ca/OnePiece.html/scratch.html\""
      ]
     },
     "execution_count": 10,
     "metadata": {},
     "output_type": "execute_result"
    }
   ],
   "source": [
    "OnePiece.figure.plot_bar(y_, x_, name_ = name_)"
   ]
  },
  {
   "cell_type": "code",
   "execution_count": 11,
   "id": "5091099b",
   "metadata": {
    "execution": {
     "iopub.execute_input": "2022-07-03T14:54:00.236000Z",
     "iopub.status.busy": "2022-07-03T14:54:00.236000Z",
     "iopub.status.idle": "2022-07-03T14:54:00.256000Z",
     "shell.execute_reply": "2022-07-03T14:54:00.256000Z"
    }
   },
   "outputs": [
    {
     "name": "stdout",
     "output_type": "stream",
     "text": [
      "Made /Users/kwat/.julia/scratchspaces/1fe83854-81c0-42f7-afc9-71ba9af673ca/OnePiece.html/scratch.html.\n"
     ]
    },
    {
     "data": {
      "text/plain": [
       "\"/Users/kwat/.julia/scratchspaces/1fe83854-81c0-42f7-afc9-71ba9af673ca/OnePiece.html/scratch.html\""
      ]
     },
     "execution_count": 11,
     "metadata": {},
     "output_type": "execute_result"
    }
   ],
   "source": [
    "push!(name_, \"Name 3\")\n",
    "\n",
    "push!(y_, [8])\n",
    "\n",
    "push!(x_, [0])\n",
    "\n",
    "OnePiece.figure.plot_bar(y_, x_, name_ = name_)"
   ]
  },
  {
   "cell_type": "code",
   "execution_count": 12,
   "id": "7275f857",
   "metadata": {
    "execution": {
     "iopub.execute_input": "2022-07-03T14:54:00.261000Z",
     "iopub.status.busy": "2022-07-03T14:54:00.261000Z",
     "iopub.status.idle": "2022-07-03T14:54:00.360000Z",
     "shell.execute_reply": "2022-07-03T14:54:00.360000Z"
    }
   },
   "outputs": [
    {
     "name": "stdout",
     "output_type": "stream",
     "text": [
      "Made /var/folders/mg/30npdf0s1z36txb2qvgylrzh0000gn/T/bar.html.\n"
     ]
    },
    {
     "data": {
      "text/plain": [
       "\"/var/folders/mg/30npdf0s1z36txb2qvgylrzh0000gn/T/bar.html\""
      ]
     },
     "execution_count": 12,
     "metadata": {},
     "output_type": "execute_result"
    }
   ],
   "source": [
    "OnePiece.figure.plot_bar(\n",
    "    y_,\n",
    "    x_,\n",
    "    name_ = name_,\n",
    "    la = Dict(\"barmode\" => \"stack\", \"title\" => Dict(\"text\" => \"Stack\")),\n",
    "    ou = joinpath(te, \"bar.html\"),\n",
    ")"
   ]
  },
  {
   "cell_type": "markdown",
   "id": "6c8e6968",
   "metadata": {},
   "source": [
    "## plot_heat_map"
   ]
  },
  {
   "cell_type": "code",
   "execution_count": 13,
   "id": "4f9637cd",
   "metadata": {
    "execution": {
     "iopub.execute_input": "2022-07-03T14:54:00.364000Z",
     "iopub.status.busy": "2022-07-03T14:54:00.364000Z",
     "iopub.status.idle": "2022-07-03T14:54:00.829000Z",
     "shell.execute_reply": "2022-07-03T14:54:00.829000Z"
    }
   },
   "outputs": [
    {
     "data": {
      "text/plain": [
       "2×4 Matrix{Float64}:\n",
       " 1.0  3.0  5.0  7.0\n",
       " 2.0  4.0  6.0  8.0"
      ]
     },
     "execution_count": 13,
     "metadata": {},
     "output_type": "execute_result"
    }
   ],
   "source": [
    "ma = OnePiece.tensor.simulate(2, 4)"
   ]
  },
  {
   "cell_type": "code",
   "execution_count": 14,
   "id": "31b0f214",
   "metadata": {
    "execution": {
     "iopub.execute_input": "2022-07-03T14:54:00.832000Z",
     "iopub.status.busy": "2022-07-03T14:54:00.832000Z",
     "iopub.status.idle": "2022-07-03T14:54:01.301000Z",
     "shell.execute_reply": "2022-07-03T14:54:01.300000Z"
    }
   },
   "outputs": [
    {
     "name": "stdout",
     "output_type": "stream",
     "text": [
      "Made /Users/kwat/.julia/scratchspaces/1fe83854-81c0-42f7-afc9-71ba9af673ca/OnePiece.html/scratch.html.\n"
     ]
    },
    {
     "data": {
      "text/plain": [
       "\"/Users/kwat/.julia/scratchspaces/1fe83854-81c0-42f7-afc9-71ba9af673ca/OnePiece.html/scratch.html\""
      ]
     },
     "execution_count": 14,
     "metadata": {},
     "output_type": "execute_result"
    }
   ],
   "source": [
    "OnePiece.figure.plot_heat_map(\n",
    "    ma,\n",
    "    [\"Row$id\" for id in 1:size(ma, 1)],\n",
    "    [\"Column$id\" for id in 1:size(ma, 2)],\n",
    ")"
   ]
  },
  {
   "cell_type": "code",
   "execution_count": 15,
   "id": "e8d39c80",
   "metadata": {
    "execution": {
     "iopub.execute_input": "2022-07-03T14:54:01.304000Z",
     "iopub.status.busy": "2022-07-03T14:54:01.304000Z",
     "iopub.status.idle": "2022-07-03T14:54:01.372000Z",
     "shell.execute_reply": "2022-07-03T14:54:01.372000Z"
    }
   },
   "outputs": [
    {
     "name": "stdout",
     "output_type": "stream",
     "text": [
      "Made /var/folders/mg/30npdf0s1z36txb2qvgylrzh0000gn/T/heat_map.html.\n"
     ]
    },
    {
     "data": {
      "text/plain": [
       "\"/var/folders/mg/30npdf0s1z36txb2qvgylrzh0000gn/T/heat_map.html\""
      ]
     },
     "execution_count": 15,
     "metadata": {},
     "output_type": "execute_result"
    }
   ],
   "source": [
    "OnePiece.figure.plot_heat_map(ma, ou = joinpath(te, \"heat_map.html\"))"
   ]
  },
  {
   "cell_type": "markdown",
   "id": "4889aca0",
   "metadata": {},
   "source": [
    "## plot_x_y"
   ]
  },
  {
   "cell_type": "code",
   "execution_count": 16,
   "id": "58a30a5c",
   "metadata": {
    "execution": {
     "iopub.execute_input": "2022-07-03T14:54:01.376000Z",
     "iopub.status.busy": "2022-07-03T14:54:01.376000Z",
     "iopub.status.idle": "2022-07-03T14:54:01.395000Z",
     "shell.execute_reply": "2022-07-03T14:54:01.395000Z"
    }
   },
   "outputs": [
    {
     "data": {
      "text/plain": [
       "2-element Vector{Vector{Int64}}:\n",
       " [-1, 0, 2]\n",
       " [3, 4]"
      ]
     },
     "execution_count": 16,
     "metadata": {},
     "output_type": "execute_result"
    }
   ],
   "source": [
    "x1 = [-1, 0, 2]\n",
    "\n",
    "x2 = [3, 4]\n",
    "\n",
    "x_ = [x1, x2]"
   ]
  },
  {
   "cell_type": "code",
   "execution_count": 17,
   "id": "aec95893",
   "metadata": {
    "execution": {
     "iopub.execute_input": "2022-07-03T14:54:01.399000Z",
     "iopub.status.busy": "2022-07-03T14:54:01.399000Z",
     "iopub.status.idle": "2022-07-03T14:54:01.467000Z",
     "shell.execute_reply": "2022-07-03T14:54:01.467000Z"
    }
   },
   "outputs": [
    {
     "data": {
      "text/plain": [
       "2-element Vector{Vector{Int64}}:\n",
       " [-10, 0, 20]\n",
       " [60, 80]"
      ]
     },
     "execution_count": 17,
     "metadata": {},
     "output_type": "execute_result"
    }
   ],
   "source": [
    "y1 = x1 .* 10\n",
    "\n",
    "y2 = x2 .* 20\n",
    "\n",
    "y_ = [y1, y2]"
   ]
  },
  {
   "cell_type": "code",
   "execution_count": 18,
   "id": "f29cca1a",
   "metadata": {
    "execution": {
     "iopub.execute_input": "2022-07-03T14:54:01.470000Z",
     "iopub.status.busy": "2022-07-03T14:54:01.470000Z",
     "iopub.status.idle": "2022-07-03T14:54:01.522000Z",
     "shell.execute_reply": "2022-07-03T14:54:01.522000Z"
    }
   },
   "outputs": [
    {
     "name": "stdout",
     "output_type": "stream",
     "text": [
      "Made /Users/kwat/.julia/scratchspaces/1fe83854-81c0-42f7-afc9-71ba9af673ca/OnePiece.html/scratch.html.\n"
     ]
    },
    {
     "data": {
      "text/plain": [
       "\"/Users/kwat/.julia/scratchspaces/1fe83854-81c0-42f7-afc9-71ba9af673ca/OnePiece.html/scratch.html\""
      ]
     },
     "execution_count": 18,
     "metadata": {},
     "output_type": "execute_result"
    }
   ],
   "source": [
    "OnePiece.figure.plot_x_y(y_)"
   ]
  },
  {
   "cell_type": "code",
   "execution_count": 19,
   "id": "672c6dab",
   "metadata": {
    "execution": {
     "iopub.execute_input": "2022-07-03T14:54:01.526000Z",
     "iopub.status.busy": "2022-07-03T14:54:01.525000Z",
     "iopub.status.idle": "2022-07-03T14:54:01.568000Z",
     "shell.execute_reply": "2022-07-03T14:54:01.568000Z"
    }
   },
   "outputs": [
    {
     "name": "stdout",
     "output_type": "stream",
     "text": [
      "Made /var/folders/mg/30npdf0s1z36txb2qvgylrzh0000gn/T/x_y.html.\n"
     ]
    },
    {
     "data": {
      "text/plain": [
       "\"/var/folders/mg/30npdf0s1z36txb2qvgylrzh0000gn/T/x_y.html\""
      ]
     },
     "execution_count": 19,
     "metadata": {},
     "output_type": "execute_result"
    }
   ],
   "source": [
    "OnePiece.figure.plot_x_y(y_, x_, ou = joinpath(te, \"x_y.html\"))"
   ]
  }
 ],
 "metadata": {
  "@webio": {
   "lastCommId": null,
   "lastKernelId": null
  },
  "kernelspec": {
   "display_name": "Julia 1.7.3",
   "language": "julia",
   "name": "julia-1.7"
  },
  "language_info": {
   "file_extension": ".jl",
   "mimetype": "application/julia",
   "name": "julia",
   "version": "1.7.3"
  }
 },
 "nbformat": 4,
 "nbformat_minor": 5
}
