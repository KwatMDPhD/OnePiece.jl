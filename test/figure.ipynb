{
 "cells": [
  {
   "cell_type": "code",
   "execution_count": null,
   "id": "baf12f00",
   "metadata": {},
   "outputs": [],
   "source": [
    "using OnePiece"
   ]
  },
  {
   "cell_type": "code",
   "execution_count": null,
   "id": "c4b58199",
   "metadata": {},
   "outputs": [],
   "source": [
    "te = OnePiece.path.make_temporary(\"OnePiece.test.figure\")"
   ]
  },
  {
   "cell_type": "markdown",
   "id": "84e40a06",
   "metadata": {},
   "source": [
    "## plot"
   ]
  },
  {
   "cell_type": "code",
   "execution_count": null,
   "id": "37fb91b2",
   "metadata": {},
   "outputs": [],
   "source": [
    "data = [Dict()]\n",
    "\n",
    "OnePiece.figure.plot(data)"
   ]
  },
  {
   "cell_type": "code",
   "execution_count": null,
   "id": "ec645662",
   "metadata": {},
   "outputs": [],
   "source": [
    "layout = Dict(\n",
    "    \"title\" => \"Title\",\n",
    "    \"yaxis\" => Dict(\"title\" => \"Y-Axis Title\"),\n",
    "    \"xaxis\" => Dict(\"title\" => \"X-Axis Title\"),\n",
    ")\n",
    "\n",
    "OnePiece.figure.plot(data, layout)"
   ]
  },
  {
   "cell_type": "code",
   "execution_count": null,
   "id": "ae72a412",
   "metadata": {},
   "outputs": [],
   "source": [
    "OnePiece.figure.plot(data, ou = joinpath(te, \"output.html\"))"
   ]
  },
  {
   "cell_type": "markdown",
   "id": "01af355b",
   "metadata": {},
   "source": [
    "## plot_bar"
   ]
  },
  {
   "cell_type": "code",
   "execution_count": null,
   "id": "1f297153",
   "metadata": {},
   "outputs": [],
   "source": [
    "y1 = [-1, 2, 5]\n",
    "\n",
    "y2 = reverse(y1)\n",
    "\n",
    "y_ = [y1, y2]"
   ]
  },
  {
   "cell_type": "code",
   "execution_count": null,
   "id": "2568a640",
   "metadata": {},
   "outputs": [],
   "source": [
    "OnePiece.figure.plot_bar(y_)"
   ]
  },
  {
   "cell_type": "code",
   "execution_count": null,
   "id": "b9ca7825",
   "metadata": {},
   "outputs": [],
   "source": [
    "name1 = \"Jonathan\"\n",
    "\n",
    "name2 = \"Joseph\"\n",
    "\n",
    "name_ = [name1, name2]"
   ]
  },
  {
   "cell_type": "code",
   "execution_count": null,
   "id": "1969df42",
   "metadata": {},
   "outputs": [],
   "source": [
    "x1 = [-2, -1, 0]\n",
    "\n",
    "x2 = .-reverse(x1)\n",
    "\n",
    "x_ = [x1, x2]"
   ]
  },
  {
   "cell_type": "code",
   "execution_count": null,
   "id": "e26efbb2",
   "metadata": {},
   "outputs": [],
   "source": [
    "OnePiece.figure.plot_bar(y_, x_, name_ = name_)"
   ]
  },
  {
   "cell_type": "code",
   "execution_count": null,
   "id": "5091099b",
   "metadata": {},
   "outputs": [],
   "source": [
    "push!(name_, \"Jotaro\")\n",
    "\n",
    "push!(y_, [8])\n",
    "\n",
    "push!(x_, [0])\n",
    "\n",
    "OnePiece.figure.plot_bar(y_, x_, name_ = name_)"
   ]
  },
  {
   "cell_type": "code",
   "execution_count": null,
   "id": "7275f857",
   "metadata": {},
   "outputs": [],
   "source": [
    "OnePiece.figure.plot_bar(\n",
    "    y_,\n",
    "    x_,\n",
    "    name_ = name_,\n",
    "    layout = Dict(\"barmode\" => \"stack\", \"title\" => Dict(\"text\" => \"Stack\")),\n",
    "    ou = joinpath(te, \"bar.html\"),\n",
    ")"
   ]
  },
  {
   "cell_type": "markdown",
   "id": "6c8e6968",
   "metadata": {},
   "source": [
    "## plot_heat_map"
   ]
  },
  {
   "cell_type": "code",
   "execution_count": null,
   "id": "4f9637cd",
   "metadata": {},
   "outputs": [],
   "source": [
    "ma = OnePiece.matrix.simulate(2, 4)"
   ]
  },
  {
   "cell_type": "code",
   "execution_count": null,
   "id": "31b0f214",
   "metadata": {},
   "outputs": [],
   "source": [
    "OnePiece.figure.plot_heat_map(\n",
    "    ma,\n",
    "    [\"Row$id\" for id in 1:size(ma, 1)],\n",
    "    [\"Column$id\" for id in 1:size(ma, 2)],\n",
    ")"
   ]
  },
  {
   "cell_type": "code",
   "execution_count": null,
   "id": "e8d39c80",
   "metadata": {},
   "outputs": [],
   "source": [
    "OnePiece.figure.plot_heat_map(ma, ou = joinpath(te, \"heat_map.html\"))"
   ]
  },
  {
   "cell_type": "markdown",
   "id": "a48817d0",
   "metadata": {},
   "source": [
    "## plot_histogram"
   ]
  },
  {
   "cell_type": "code",
   "execution_count": null,
   "id": "34d85b5d",
   "metadata": {},
   "outputs": [],
   "source": [
    "x_ = [[-1], [0, 1], [2, 3, 4]]\n",
    "\n",
    "OnePiece.figure.plot_histogram(x_)"
   ]
  },
  {
   "cell_type": "code",
   "execution_count": null,
   "id": "866a3d3e",
   "metadata": {},
   "outputs": [],
   "source": [
    "text_ = [[\"1A\"], [\"2A\", \"2B\"], [\"3A\", \"3B\", \"3C\"]]\n",
    "\n",
    "OnePiece.figure.plot_histogram(x_, text_)"
   ]
  },
  {
   "cell_type": "code",
   "execution_count": null,
   "id": "e0a6957a",
   "metadata": {},
   "outputs": [],
   "source": [
    "OnePiece.figure.plot_histogram(x_, text_, xbins_size = 1)"
   ]
  },
  {
   "cell_type": "markdown",
   "id": "4889aca0",
   "metadata": {},
   "source": [
    "## plot_scatter"
   ]
  },
  {
   "cell_type": "code",
   "execution_count": null,
   "id": "58a30a5c",
   "metadata": {},
   "outputs": [],
   "source": [
    "x1 = [-1, 0, 2]\n",
    "\n",
    "x2 = [3, 4]\n",
    "\n",
    "x_ = [x1, x2]"
   ]
  },
  {
   "cell_type": "code",
   "execution_count": null,
   "id": "aec95893",
   "metadata": {},
   "outputs": [],
   "source": [
    "y1 = x1 .* 10\n",
    "\n",
    "y2 = x2 .* 20\n",
    "\n",
    "y_ = [y1, y2]"
   ]
  },
  {
   "cell_type": "code",
   "execution_count": null,
   "id": "f29cca1a",
   "metadata": {},
   "outputs": [],
   "source": [
    "OnePiece.figure.plot_scatter(y_)"
   ]
  },
  {
   "cell_type": "code",
   "execution_count": null,
   "id": "672c6dab",
   "metadata": {},
   "outputs": [],
   "source": [
    "OnePiece.figure.plot_scatter(y_, x_, ou = joinpath(te, \"scatter.html\"))"
   ]
  }
 ],
 "metadata": {
  "@webio": {
   "lastCommId": null,
   "lastKernelId": null
  },
  "kernelspec": {
   "display_name": "Julia 1.7.3",
   "language": "julia",
   "name": "julia-1.7"
  },
  "language_info": {
   "file_extension": ".jl",
   "mimetype": "application/julia",
   "name": "julia",
   "version": "1.7.3"
  }
 },
 "nbformat": 4,
 "nbformat_minor": 5
}
