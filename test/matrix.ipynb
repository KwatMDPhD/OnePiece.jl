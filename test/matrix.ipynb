{
 "cells": [
  {
   "cell_type": "code",
   "execution_count": 1,
   "id": "778d9ff9",
   "metadata": {
    "execution": {
     "iopub.execute_input": "2022-07-13T12:52:55.176000Z",
     "iopub.status.busy": "2022-07-13T12:52:54.830000Z",
     "iopub.status.idle": "2022-07-13T12:52:59.742000Z",
     "shell.execute_reply": "2022-07-13T12:52:59.696000Z"
    }
   },
   "outputs": [],
   "source": [
    "using OnePiece"
   ]
  },
  {
   "cell_type": "markdown",
   "id": "d1d8419d",
   "metadata": {},
   "source": [
    "---"
   ]
  },
  {
   "cell_type": "markdown",
   "id": "50e558c6",
   "metadata": {},
   "source": [
    "## convert"
   ]
  },
  {
   "cell_type": "code",
   "execution_count": 2,
   "id": "b709060b",
   "metadata": {
    "execution": {
     "iopub.execute_input": "2022-07-13T12:53:00.231000Z",
     "iopub.status.busy": "2022-07-13T12:52:59.745000Z",
     "iopub.status.idle": "2022-07-13T12:53:01.351000Z",
     "shell.execute_reply": "2022-07-13T12:53:01.350000Z"
    }
   },
   "outputs": [
    {
     "data": {
      "text/plain": [
       "2×3 Matrix{Float64}:\n",
       " 1.0  2.0  3.0\n",
       " 4.0  5.0  6.0"
      ]
     },
     "execution_count": 2,
     "metadata": {},
     "output_type": "execute_result"
    }
   ],
   "source": [
    "OnePiece.matrix.convert([[1, 2, 3], [4, 5, 6]])"
   ]
  },
  {
   "cell_type": "code",
   "execution_count": 3,
   "id": "c1039c12",
   "metadata": {
    "execution": {
     "iopub.execute_input": "2022-07-13T12:53:01.354000Z",
     "iopub.status.busy": "2022-07-13T12:53:01.354000Z",
     "iopub.status.idle": "2022-07-13T12:53:01.454000Z",
     "shell.execute_reply": "2022-07-13T12:53:01.454000Z"
    }
   },
   "outputs": [
    {
     "data": {
      "text/plain": [
       "2×3 Matrix{Float64}:\n",
       " 1.0  2.0  3.0\n",
       " 4.0  5.0  6.0"
      ]
     },
     "execution_count": 3,
     "metadata": {},
     "output_type": "execute_result"
    }
   ],
   "source": [
    "OnePiece.matrix.convert([[1.0, 2, 3], [4, 5, 6]])"
   ]
  },
  {
   "cell_type": "markdown",
   "id": "9bffdade",
   "metadata": {},
   "source": [
    "---"
   ]
  }
 ],
 "metadata": {
  "@webio": {
   "lastCommId": null,
   "lastKernelId": null
  },
  "kernelspec": {
   "display_name": "Julia 1.7.3",
   "language": "julia",
   "name": "julia-1.7"
  },
  "language_info": {
   "file_extension": ".jl",
   "mimetype": "application/julia",
   "name": "julia",
   "version": "1.7.3"
  }
 },
 "nbformat": 4,
 "nbformat_minor": 5
}
