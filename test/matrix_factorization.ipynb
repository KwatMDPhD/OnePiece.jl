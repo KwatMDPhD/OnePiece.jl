{
 "cells": [
  {
   "cell_type": "code",
   "execution_count": 1,
   "id": "baf12f00",
   "metadata": {
    "execution": {
     "iopub.execute_input": "2022-07-07T22:00:32.894000Z",
     "iopub.status.busy": "2022-07-07T22:00:32.510000Z",
     "iopub.status.idle": "2022-07-07T22:00:37.129000Z",
     "shell.execute_reply": "2022-07-07T22:00:37.083000Z"
    }
   },
   "outputs": [],
   "source": [
    "using OnePiece"
   ]
  },
  {
   "cell_type": "markdown",
   "id": "c76411f5",
   "metadata": {},
   "source": [
    "---"
   ]
  },
  {
   "cell_type": "markdown",
   "id": "71b951ee",
   "metadata": {},
   "source": [
    "## factorize"
   ]
  },
  {
   "cell_type": "code",
   "execution_count": 2,
   "id": "aa28b4e1",
   "metadata": {
    "execution": {
     "iopub.execute_input": "2022-07-07T22:00:37.476000Z",
     "iopub.status.busy": "2022-07-07T22:00:37.152000Z",
     "iopub.status.idle": "2022-07-07T22:00:38.669000Z",
     "shell.execute_reply": "2022-07-07T22:00:38.669000Z"
    }
   },
   "outputs": [
    {
     "data": {
      "text/plain": [
       "50×10 Matrix{Float64}:\n",
       " 0.947421   0.0953662  0.459392   0.839402  …  0.685475   0.360903  0.693515\n",
       " 0.879306   0.786168   0.85633    0.151578     0.496169   0.151941  0.954242\n",
       " 0.295084   0.210006   0.127605   0.287833     0.929465   0.83528   0.23436\n",
       " 0.944667   0.466591   0.596582   0.296723     0.108708   0.117794  0.667105\n",
       " 0.514251   0.288477   0.984604   0.263324     0.719737   0.491644  0.421921\n",
       " 0.225055   0.844023   0.840806   0.95114   …  0.659271   0.12472   0.37893\n",
       " 0.129837   0.594795   0.0516991  0.895251     0.0622898  0.558305  0.734275\n",
       " 0.870185   0.518089   0.0640136  0.639159     0.105337   0.725134  0.0291485\n",
       " 0.846206   0.299994   0.775511   0.617061     0.948878   0.646851  0.69857\n",
       " 0.127951   0.109124   0.840675   0.561606     0.529423   0.21413   0.596144\n",
       " 0.764922   0.947293   0.54179    0.554386  …  0.310275   0.925475  0.909489\n",
       " 0.692131   0.76878    0.608201   0.244605     0.436837   0.663464  0.622288\n",
       " 0.033216   0.83676    0.0408484  0.603254     0.576995   0.733736  0.255247\n",
       " ⋮                                          ⋱                       \n",
       " 0.684684   0.927418   0.308505   0.598556     0.41411    0.313662  0.98468\n",
       " 0.662525   0.74826    0.0528068  0.519145     0.720777   0.186585  0.175293\n",
       " 0.575674   0.0859333  0.531885   0.938213  …  0.782749   0.442671  0.0873794\n",
       " 0.960879   0.67239    0.459408   0.380027     0.201116   0.330679  0.170316\n",
       " 0.643419   0.686245   0.330891   0.899557     0.44998    0.251664  0.33983\n",
       " 0.0401573  0.220552   0.804435   0.671865     0.982523   0.701991  0.766985\n",
       " 0.107218   0.762425   0.869859   0.372052     0.37693    0.229053  0.938095\n",
       " 0.821704   0.532868   0.811486   0.974963  …  0.579658   0.242172  0.0389958\n",
       " 0.399622   0.345293   0.578605   0.672258     0.167232   0.425109  0.422479\n",
       " 0.518134   0.340684   0.397278   0.589705     0.11909    0.835266  0.0100282\n",
       " 0.330614   0.441268   0.16785    0.596638     0.166301   0.473087  0.74681\n",
       " 0.303531   0.893534   0.280223   0.981467     0.373725   0.773374  0.645165"
      ]
     },
     "execution_count": 2,
     "metadata": {},
     "output_type": "execute_result"
    }
   ],
   "source": [
    "n_ro = 50\n",
    "\n",
    "n_co = 10\n",
    "\n",
    "ro_ = [\"Row $id\" for id in 1:n_ro]\n",
    "\n",
    "co_ = [\"Column $id\" for id in 1:n_co]\n",
    "\n",
    "ma = rand(n_ro, n_co)"
   ]
  },
  {
   "cell_type": "code",
   "execution_count": 3,
   "id": "e9433f66",
   "metadata": {
    "execution": {
     "iopub.execute_input": "2022-07-07T22:00:38.673000Z",
     "iopub.status.busy": "2022-07-07T22:00:38.673000Z",
     "iopub.status.idle": "2022-07-07T22:00:50.007000Z",
     "shell.execute_reply": "2022-07-07T22:00:50.007000Z"
    }
   },
   "outputs": [
    {
     "name": "stdout",
     "output_type": "stream",
     "text": [
      "Made /var/folders/mg/30npdf0s1z36txb2qvgylrzh0000gn/T/nmf/k_3/h.html.\n",
      "Made /var/folders/mg/30npdf0s1z36txb2qvgylrzh0000gn/T/nmf/k_3/w.html.\n",
      "Made /var/folders/mg/30npdf0s1z36txb2qvgylrzh0000gn/T/nmf/k_4/h.html.\n",
      "Made /var/folders/mg/30npdf0s1z36txb2qvgylrzh0000gn/T/nmf/k_4/w.html.\n",
      "Made /var/folders/mg/30npdf0s1z36txb2qvgylrzh0000gn/T/nmf/k_5/h.html.\n",
      "Made /var/folders/mg/30npdf0s1z36txb2qvgylrzh0000gn/T/nmf/k_5/w.html.\n",
      "Saved NMF results at /var/folders/mg/30npdf0s1z36txb2qvgylrzh0000gn/T for k = [3, 4, 5]\n"
     ]
    }
   ],
   "source": [
    "n_fa = [3, 4, 5]\n",
    "\n",
    "ti = \"Test\"\n",
    "\n",
    "OnePiece.matrix_factorization.factorize(ma, ro_, co_, n_fa, ti, tempdir())"
   ]
  },
  {
   "cell_type": "markdown",
   "id": "677d5996",
   "metadata": {},
   "source": [
    "---"
   ]
  }
 ],
 "metadata": {
  "@webio": {
   "lastCommId": null,
   "lastKernelId": null
  },
  "kernelspec": {
   "display_name": "Julia 1.7.3",
   "language": "julia",
   "name": "julia-1.7"
  },
  "language_info": {
   "file_extension": ".jl",
   "mimetype": "application/julia",
   "name": "julia",
   "version": "1.7.3"
  }
 },
 "nbformat": 4,
 "nbformat_minor": 5
}
