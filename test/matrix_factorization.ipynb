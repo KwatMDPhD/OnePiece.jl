{
 "cells": [
  {
   "cell_type": "code",
   "execution_count": 1,
   "id": "baf12f00",
   "metadata": {
    "execution": {
     "iopub.execute_input": "2022-07-07T21:26:05.064000Z",
     "iopub.status.busy": "2022-07-07T21:26:04.736000Z",
     "iopub.status.idle": "2022-07-07T21:26:09.334000Z",
     "shell.execute_reply": "2022-07-07T21:26:09.288000Z"
    }
   },
   "outputs": [],
   "source": [
    "using OnePiece"
   ]
  },
  {
   "cell_type": "markdown",
   "id": "c76411f5",
   "metadata": {},
   "source": [
    "---"
   ]
  },
  {
   "cell_type": "markdown",
   "id": "71b951ee",
   "metadata": {},
   "source": [
    "## factorize"
   ]
  },
  {
   "cell_type": "code",
   "execution_count": 2,
   "id": "aa28b4e1",
   "metadata": {
    "execution": {
     "iopub.execute_input": "2022-07-07T21:26:09.761000Z",
     "iopub.status.busy": "2022-07-07T21:26:09.352000Z",
     "iopub.status.idle": "2022-07-07T21:26:11.010000Z",
     "shell.execute_reply": "2022-07-07T21:26:11.010000Z"
    }
   },
   "outputs": [
    {
     "data": {
      "text/plain": [
       "50×10 Matrix{Float64}:\n",
       " 0.745355   0.300839   0.018294  …  0.927724   0.361751   0.104705\n",
       " 0.679389   0.233752   0.76288      0.989099   0.897876   0.906862\n",
       " 0.0751786  0.22729    0.400869     0.782762   0.69106    0.803553\n",
       " 0.237877   0.075683   0.747125     0.783249   0.18304    0.0121234\n",
       " 0.312921   0.612691   0.681443     0.48698    0.175283   0.634285\n",
       " 0.19126    0.258276   0.398959  …  0.41397    0.10259    0.998132\n",
       " 0.779192   0.779756   0.320669     0.305178   0.0445095  0.111868\n",
       " 0.817565   0.0236249  0.679805     0.461644   0.335214   0.446188\n",
       " 0.648708   0.36471    0.954899     0.0960398  0.0551468  0.223831\n",
       " 0.110343   0.962791   0.383506     0.0432872  0.124579   0.480063\n",
       " 0.894941   0.452115   0.055028  …  0.282015   0.205555   0.518734\n",
       " 0.529178   0.720985   0.346621     0.201737   0.659046   0.554675\n",
       " 0.975553   0.523342   0.706929     0.894746   0.242562   0.375821\n",
       " ⋮                               ⋱                        \n",
       " 0.847324   0.195129   0.558264     0.408263   0.37305    0.0577411\n",
       " 0.34158    0.238269   0.400274     0.799399   0.534662   0.015736\n",
       " 0.720106   0.269294   0.694047  …  0.308531   0.478267   0.0927015\n",
       " 0.952336   0.207818   0.621304     0.453251   0.307936   0.743662\n",
       " 0.854953   0.083646   0.558981     0.799738   0.243865   0.391692\n",
       " 0.149515   0.929758   0.551446     0.674706   0.367239   0.753337\n",
       " 0.583211   0.191763   0.024187     0.317065   0.805311   0.724734\n",
       " 0.194765   0.47684    0.724812  …  0.53093    0.85404    0.217699\n",
       " 0.0797646  0.583248   0.045355     0.755322   0.108438   0.0820157\n",
       " 0.753571   0.562672   0.880179     0.666109   0.65618    0.0865776\n",
       " 0.777459   0.572387   0.538295     0.702803   0.377673   0.849979\n",
       " 0.0258152  0.454639   0.730063     0.775908   0.671786   0.701016"
      ]
     },
     "execution_count": 2,
     "metadata": {},
     "output_type": "execute_result"
    }
   ],
   "source": [
    "n_ro = 50\n",
    "\n",
    "n_co = 10\n",
    "\n",
    "ro_ = [\"Row $id\" for id in 1:n_ro]\n",
    "\n",
    "co_ = [\"Column $id\" for id in 1:n_co]\n",
    "\n",
    "ma = rand(n_ro, n_co)"
   ]
  },
  {
   "cell_type": "code",
   "execution_count": 3,
   "id": "e9433f66",
   "metadata": {
    "execution": {
     "iopub.execute_input": "2022-07-07T21:26:11.014000Z",
     "iopub.status.busy": "2022-07-07T21:26:11.014000Z",
     "iopub.status.idle": "2022-07-07T21:26:22.279000Z",
     "shell.execute_reply": "2022-07-07T21:26:22.279000Z"
    }
   },
   "outputs": [
    {
     "name": "stdout",
     "output_type": "stream",
     "text": [
      "Made /var/folders/mg/30npdf0s1z36txb2qvgylrzh0000gn/T/nmf/k_3/h.html.\n",
      "Made /var/folders/mg/30npdf0s1z36txb2qvgylrzh0000gn/T/nmf/k_3/w.html.\n",
      "Made /var/folders/mg/30npdf0s1z36txb2qvgylrzh0000gn/T/nmf/k_4/h.html.\n",
      "Made /var/folders/mg/30npdf0s1z36txb2qvgylrzh0000gn/T/nmf/k_4/w.html.\n",
      "Made /var/folders/mg/30npdf0s1z36txb2qvgylrzh0000gn/T/nmf/k_5/h.html.\n",
      "Made /var/folders/mg/30npdf0s1z36txb2qvgylrzh0000gn/T/nmf/k_5/w.html.\n",
      "Saved NMF results at /var/folders/mg/30npdf0s1z36txb2qvgylrzh0000gn/T for k = [3, 4, 5]\n"
     ]
    }
   ],
   "source": [
    "n_fa = [3, 4, 5]\n",
    "\n",
    "ti = \"Test\"\n",
    "\n",
    "OnePiece.matrix_factorization.factorize(ma, ro_, co_, n_fa, ti, tempdir())"
   ]
  },
  {
   "cell_type": "markdown",
   "id": "677d5996",
   "metadata": {},
   "source": [
    "---"
   ]
  }
 ],
 "metadata": {
  "@webio": {
   "lastCommId": null,
   "lastKernelId": null
  },
  "kernelspec": {
   "display_name": "Julia 1.7.3",
   "language": "julia",
   "name": "julia-1.7"
  },
  "language_info": {
   "file_extension": ".jl",
   "mimetype": "application/julia",
   "name": "julia",
   "version": "1.7.3"
  }
 },
 "nbformat": 4,
 "nbformat_minor": 5
}
