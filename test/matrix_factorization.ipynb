{
 "cells": [
  {
   "cell_type": "code",
   "execution_count": 1,
   "id": "baf12f00",
   "metadata": {
    "execution": {
     "iopub.execute_input": "2022-07-02T14:25:23.352000Z",
     "iopub.status.busy": "2022-07-02T14:25:23.003000Z",
     "iopub.status.idle": "2022-07-02T14:25:28.841000Z",
     "shell.execute_reply": "2022-07-02T14:25:28.793000Z"
    }
   },
   "outputs": [],
   "source": [
    "using Revise\n",
    "using OnePiece"
   ]
  },
  {
   "cell_type": "markdown",
   "id": "71b951ee",
   "metadata": {},
   "source": [
    "## factorize"
   ]
  },
  {
   "cell_type": "code",
   "execution_count": 2,
   "id": "aa28b4e1",
   "metadata": {
    "execution": {
     "iopub.execute_input": "2022-07-02T14:25:29.223000Z",
     "iopub.status.busy": "2022-07-02T14:25:28.843000Z",
     "iopub.status.idle": "2022-07-02T14:25:31.320000Z",
     "shell.execute_reply": "2022-07-02T14:25:31.320000Z"
    }
   },
   "outputs": [
    {
     "data": {
      "text/plain": [
       "50×10 Matrix{Float64}:\n",
       " 0.450045   0.597516    0.116954   …  0.67408      0.772384   0.88365\n",
       " 0.113439   0.110268    0.869292      0.373546     0.542659   0.783565\n",
       " 0.547421   0.108429    0.619693      0.68401      0.670097   0.658481\n",
       " 0.555364   0.0669026   0.701411      0.29209      0.723593   0.738703\n",
       " 0.0314644  0.0390435   0.12811       0.0485121    0.960879   0.243066\n",
       " 0.412613   0.747425    0.0761206  …  0.365352     0.385089   0.140024\n",
       " 0.218286   0.883267    0.894944      0.587419     0.830794   0.224922\n",
       " 0.107322   0.766302    0.435347      0.750952     0.704119   0.67035\n",
       " 0.13239    0.498283    0.360501      0.844429     0.97005    0.297592\n",
       " 0.496316   0.0940505   0.089242      0.462335     0.113974   0.0828656\n",
       " 0.757187   0.151912    0.0232069  …  0.506365     0.621933   0.229319\n",
       " 0.011944   0.576191    0.865874      0.0118694    0.364764   0.649296\n",
       " 0.473469   0.953382    0.366629      0.636064     0.100079   0.964647\n",
       " ⋮                                 ⋱                          \n",
       " 0.674878   0.708112    0.209218      0.365943     0.719983   0.456018\n",
       " 0.0643728  0.281974    0.681545      0.496206     0.216578   0.927495\n",
       " 0.36815    0.00907426  0.0137154  …  0.783208     0.635222   0.238256\n",
       " 0.89624    0.134266    0.869211      0.505334     0.0965375  0.0647217\n",
       " 0.399589   0.896471    0.574388      0.601332     0.0518848  0.129532\n",
       " 0.671717   0.248828    0.161588      0.692047     0.695133   0.417519\n",
       " 0.46585    0.623852    0.709569      0.000565106  0.154899   0.554667\n",
       " 0.824742   0.668873    0.983554   …  0.14537      0.733198   0.300528\n",
       " 0.136465   0.482323    0.138331      0.62618      0.342964   0.564857\n",
       " 0.388842   0.640069    0.313782      0.889431     0.249989   0.865128\n",
       " 0.678881   0.251804    0.664359      0.0305974    0.716696   0.64576\n",
       " 0.175476   0.451447    0.23966       0.69831      0.571535   0.841564"
      ]
     },
     "execution_count": 2,
     "metadata": {},
     "output_type": "execute_result"
    }
   ],
   "source": [
    "n_ro = 50\n",
    "\n",
    "n_co = 10\n",
    "\n",
    "ro_ = [\"Row $id\" for id in 1:n_ro]\n",
    "\n",
    "co_ = [\"Column $id\" for id in 1:n_co]\n",
    "\n",
    "ma = rand(n_ro, n_co)"
   ]
  },
  {
   "cell_type": "code",
   "execution_count": 3,
   "id": "e9433f66",
   "metadata": {
    "execution": {
     "iopub.execute_input": "2022-07-02T14:25:31.324000Z",
     "iopub.status.busy": "2022-07-02T14:25:31.324000Z",
     "iopub.status.idle": "2022-07-02T14:25:42.824000Z",
     "shell.execute_reply": "2022-07-02T14:25:42.823000Z"
    }
   },
   "outputs": [
    {
     "name": "stdout",
     "output_type": "stream",
     "text": [
      "Made /var/folders/mg/30npdf0s1z36txb2qvgylrzh0000gn/T/nmf/k_3/h.html.\n",
      "Made /var/folders/mg/30npdf0s1z36txb2qvgylrzh0000gn/T/nmf/k_3/w.html.\n",
      "Made /var/folders/mg/30npdf0s1z36txb2qvgylrzh0000gn/T/nmf/k_4/h.html.\n",
      "Made /var/folders/mg/30npdf0s1z36txb2qvgylrzh0000gn/T/nmf/k_4/w.html.\n",
      "Made /var/folders/mg/30npdf0s1z36txb2qvgylrzh0000gn/T/nmf/k_5/h.html.\n",
      "Made /var/folders/mg/30npdf0s1z36txb2qvgylrzh0000gn/T/nmf/k_5/w.html.\n",
      "Saved NMF results at /var/folders/mg/30npdf0s1z36txb2qvgylrzh0000gn/T for k = [3, 4, 5]\n"
     ]
    }
   ],
   "source": [
    "n_fa = [3, 4, 5]\n",
    "\n",
    "ti = \"Test\"\n",
    "\n",
    "OnePiece.matrix_factorization.factorize(ma, ro_, co_, n_fa, ti, tempdir())"
   ]
  }
 ],
 "metadata": {
  "@webio": {
   "lastCommId": null,
   "lastKernelId": null
  },
  "kernelspec": {
   "display_name": "Julia 1.7.3",
   "language": "julia",
   "name": "julia-1.7"
  },
  "language_info": {
   "file_extension": ".jl",
   "mimetype": "application/julia",
   "name": "julia",
   "version": "1.7.3"
  }
 },
 "nbformat": 4,
 "nbformat_minor": 5
}
