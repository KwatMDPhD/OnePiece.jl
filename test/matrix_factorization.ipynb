{
 "cells": [
  {
   "cell_type": "code",
   "execution_count": 1,
   "id": "baf12f00",
   "metadata": {
    "execution": {
     "iopub.execute_input": "2022-07-13T12:53:09.470000Z",
     "iopub.status.busy": "2022-07-13T12:53:09.109000Z",
     "iopub.status.idle": "2022-07-13T12:53:14.115000Z",
     "shell.execute_reply": "2022-07-13T12:53:14.069000Z"
    }
   },
   "outputs": [],
   "source": [
    "using OnePiece"
   ]
  },
  {
   "cell_type": "markdown",
   "id": "c76411f5",
   "metadata": {},
   "source": [
    "---"
   ]
  },
  {
   "cell_type": "markdown",
   "id": "71b951ee",
   "metadata": {},
   "source": [
    "## factorize"
   ]
  },
  {
   "cell_type": "code",
   "execution_count": 2,
   "id": "aa28b4e1",
   "metadata": {
    "execution": {
     "iopub.execute_input": "2022-07-13T12:53:14.598000Z",
     "iopub.status.busy": "2022-07-13T12:53:14.133000Z",
     "iopub.status.idle": "2022-07-13T12:53:15.799000Z",
     "shell.execute_reply": "2022-07-13T12:53:15.799000Z"
    }
   },
   "outputs": [
    {
     "data": {
      "text/plain": [
       "50×10 Matrix{Float64}:\n",
       " 0.784415   0.165308   0.355973    …  0.149575   0.236689  0.173178\n",
       " 0.889463   0.797053   0.642618       0.554698   0.979585  0.204756\n",
       " 0.0425787  0.790683   0.566048       0.733606   0.161712  0.574251\n",
       " 0.812149   0.125017   0.504859       0.148408   0.589658  0.205946\n",
       " 0.253714   0.304195   0.448439       0.176013   0.542464  0.736464\n",
       " 0.382942   0.373332   0.135421    …  0.0357239  0.228228  0.185987\n",
       " 0.784811   0.9451     0.293508       0.40703    0.255554  0.438303\n",
       " 0.411485   0.0273004  0.327853       0.686934   0.142828  0.152763\n",
       " 0.762018   0.597492   0.349214       0.121578   0.379586  0.201898\n",
       " 0.994596   0.263519   0.945431       0.394368   0.83895   0.968844\n",
       " 0.327551   0.0250917  0.719882    …  0.918828   0.252212  0.186307\n",
       " 0.615496   0.941879   0.696828       0.971821   0.909115  0.982979\n",
       " 0.73095    0.203532   0.488307       0.216794   0.939984  0.320905\n",
       " ⋮                                 ⋱                       \n",
       " 0.424982   0.0105288  0.370088       0.517511   0.86554   0.0904044\n",
       " 0.531862   0.909535   0.29633        0.443369   0.045453  0.987394\n",
       " 0.886558   0.830963   0.832767    …  0.0283354  0.974749  0.485517\n",
       " 0.344717   0.874056   0.449491       0.728001   0.634066  0.741408\n",
       " 0.712225   0.927146   0.243637       0.628791   0.577491  0.921205\n",
       " 0.993784   0.93752    0.724118       0.831181   0.201646  0.347801\n",
       " 0.20263    0.0534987  0.00522464     0.956714   0.744745  0.338187\n",
       " 0.664525   0.193455   0.542759    …  0.268318   0.376309  0.299673\n",
       " 0.952546   0.326531   0.441815       0.494359   0.149422  0.827706\n",
       " 0.156776   0.145375   0.912829       0.198533   0.865334  0.801344\n",
       " 0.337962   0.686666   0.984589       0.835761   0.21697   0.0388839\n",
       " 0.956393   0.660202   0.0522934      0.999313   0.877563  0.724423"
      ]
     },
     "execution_count": 2,
     "metadata": {},
     "output_type": "execute_result"
    }
   ],
   "source": [
    "n_ro = 50\n",
    "\n",
    "n_co = 10\n",
    "\n",
    "ro_ = [\"Row $id\" for id in 1:n_ro]\n",
    "\n",
    "co_ = [\"Column $id\" for id in 1:n_co]\n",
    "\n",
    "ma = rand(n_ro, n_co)"
   ]
  },
  {
   "cell_type": "code",
   "execution_count": 3,
   "id": "e9433f66",
   "metadata": {
    "execution": {
     "iopub.execute_input": "2022-07-13T12:53:15.803000Z",
     "iopub.status.busy": "2022-07-13T12:53:15.803000Z",
     "iopub.status.idle": "2022-07-13T12:53:27.490000Z",
     "shell.execute_reply": "2022-07-13T12:53:27.489000Z"
    }
   },
   "outputs": [
    {
     "name": "stdout",
     "output_type": "stream",
     "text": [
      "Made /var/folders/mg/30npdf0s1z36txb2qvgylrzh0000gn/T/nmf/k_3/h.html.\n",
      "Made /var/folders/mg/30npdf0s1z36txb2qvgylrzh0000gn/T/nmf/k_3/w.html.\n",
      "Made /var/folders/mg/30npdf0s1z36txb2qvgylrzh0000gn/T/nmf/k_4/h.html.\n",
      "Made /var/folders/mg/30npdf0s1z36txb2qvgylrzh0000gn/T/nmf/k_4/w.html.\n",
      "Made /var/folders/mg/30npdf0s1z36txb2qvgylrzh0000gn/T/nmf/k_5/h.html.\n",
      "Made /var/folders/mg/30npdf0s1z36txb2qvgylrzh0000gn/T/nmf/k_5/w.html.\n",
      "Saved NMF results at /var/folders/mg/30npdf0s1z36txb2qvgylrzh0000gn/T for k = [3, 4, 5]\n"
     ]
    }
   ],
   "source": [
    "n_fa = [3, 4, 5]\n",
    "\n",
    "ti = \"Test\"\n",
    "\n",
    "OnePiece.matrix_factorization.factorize(ma, ro_, co_, n_fa, ti, tempdir())"
   ]
  },
  {
   "cell_type": "markdown",
   "id": "677d5996",
   "metadata": {},
   "source": [
    "---"
   ]
  }
 ],
 "metadata": {
  "@webio": {
   "lastCommId": null,
   "lastKernelId": null
  },
  "kernelspec": {
   "display_name": "Julia 1.7.3",
   "language": "julia",
   "name": "julia-1.7"
  },
  "language_info": {
   "file_extension": ".jl",
   "mimetype": "application/julia",
   "name": "julia",
   "version": "1.7.3"
  }
 },
 "nbformat": 4,
 "nbformat_minor": 5
}
