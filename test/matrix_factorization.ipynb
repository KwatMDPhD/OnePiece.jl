{
 "cells": [
  {
   "cell_type": "code",
   "execution_count": 1,
   "id": "baf12f00",
   "metadata": {
    "execution": {
     "iopub.execute_input": "2022-07-02T16:50:56.879000Z",
     "iopub.status.busy": "2022-07-02T16:50:56.550000Z",
     "iopub.status.idle": "2022-07-02T16:51:02.240000Z",
     "shell.execute_reply": "2022-07-02T16:51:02.195000Z"
    }
   },
   "outputs": [],
   "source": [
    "using Revise\n",
    "using OnePiece"
   ]
  },
  {
   "cell_type": "markdown",
   "id": "71b951ee",
   "metadata": {},
   "source": [
    "## factorize"
   ]
  },
  {
   "cell_type": "code",
   "execution_count": 2,
   "id": "aa28b4e1",
   "metadata": {
    "execution": {
     "iopub.execute_input": "2022-07-02T16:51:02.618000Z",
     "iopub.status.busy": "2022-07-02T16:51:02.243000Z",
     "iopub.status.idle": "2022-07-02T16:51:04.646000Z",
     "shell.execute_reply": "2022-07-02T16:51:04.646000Z"
    }
   },
   "outputs": [
    {
     "data": {
      "text/plain": [
       "50×10 Matrix{Float64}:\n",
       " 0.151866    0.433382    0.995809    …  0.436884   0.369306   0.409531\n",
       " 0.0212797   0.387853    0.719132       0.836981   0.821608   0.304099\n",
       " 0.00241758  0.574002    0.165163       0.201654   0.0907315  0.81642\n",
       " 0.973702    0.999725    0.616481       0.146119   0.623836   0.876303\n",
       " 0.908615    0.424945    0.24956        0.335919   0.422442   0.524093\n",
       " 0.0137597   0.0200406   0.00797039  …  0.615116   0.843995   0.700144\n",
       " 0.439062    0.969554    0.604958       0.522031   0.674391   0.732451\n",
       " 0.182695    0.0855114   0.721596       0.347562   0.753266   0.387992\n",
       " 0.784487    0.415319    0.307694       0.766623   0.914131   0.799811\n",
       " 0.760701    0.0183589   0.0699835      0.0551282  0.803461   0.204965\n",
       " 0.677079    0.332621    0.633704    …  0.196885   0.503127   0.697401\n",
       " 0.386801    0.680394    0.206871       0.853227   0.918689   0.0582804\n",
       " 0.856005    0.713234    0.424763       0.644453   0.829358   0.846906\n",
       " ⋮                                   ⋱                        \n",
       " 0.74528     0.270953    0.657972       0.150203   0.941008   0.557952\n",
       " 0.221664    0.09815     0.364811       0.803334   0.206945   0.45166\n",
       " 0.273701    0.428073    0.393853    …  0.275296   0.351069   0.94022\n",
       " 0.413897    0.555622    0.356282       0.339248   0.459408   0.900916\n",
       " 0.81095     0.578326    0.55771        0.0942861  0.639179   0.582827\n",
       " 0.0240557   0.931281    0.68289        0.16389    0.0755231  0.573195\n",
       " 0.840651    0.164421    0.393757       0.611165   0.565911   0.592502\n",
       " 0.151958    0.894504    0.0860281   …  0.14547    0.115765   0.0771279\n",
       " 0.99462     0.451848    0.451728       0.562594   0.811787   0.355706\n",
       " 0.535599    0.0490321   0.876981       0.134612   0.174269   0.442978\n",
       " 0.0842391   0.386172    0.0785605      0.854081   0.741555   0.294206\n",
       " 0.927653    0.00599919  0.665781       0.90508    0.155528   0.185807"
      ]
     },
     "execution_count": 2,
     "metadata": {},
     "output_type": "execute_result"
    }
   ],
   "source": [
    "n_ro = 50\n",
    "\n",
    "n_co = 10\n",
    "\n",
    "ro_ = [\"Row $id\" for id in 1:n_ro]\n",
    "\n",
    "co_ = [\"Column $id\" for id in 1:n_co]\n",
    "\n",
    "ma = rand(n_ro, n_co)"
   ]
  },
  {
   "cell_type": "code",
   "execution_count": 3,
   "id": "e9433f66",
   "metadata": {
    "execution": {
     "iopub.execute_input": "2022-07-02T16:51:04.649000Z",
     "iopub.status.busy": "2022-07-02T16:51:04.649000Z",
     "iopub.status.idle": "2022-07-02T16:51:15.664000Z",
     "shell.execute_reply": "2022-07-02T16:51:15.663000Z"
    }
   },
   "outputs": [
    {
     "name": "stdout",
     "output_type": "stream",
     "text": [
      "Made /var/folders/mg/30npdf0s1z36txb2qvgylrzh0000gn/T/nmf/k_3/h.html.\n",
      "Made /var/folders/mg/30npdf0s1z36txb2qvgylrzh0000gn/T/nmf/k_3/w.html.\n",
      "Made /var/folders/mg/30npdf0s1z36txb2qvgylrzh0000gn/T/nmf/k_4/h.html.\n",
      "Made /var/folders/mg/30npdf0s1z36txb2qvgylrzh0000gn/T/nmf/k_4/w.html.\n",
      "Made /var/folders/mg/30npdf0s1z36txb2qvgylrzh0000gn/T/nmf/k_5/h.html.\n",
      "Made /var/folders/mg/30npdf0s1z36txb2qvgylrzh0000gn/T/nmf/k_5/w.html.\n",
      "Saved NMF results at /var/folders/mg/30npdf0s1z36txb2qvgylrzh0000gn/T for k = [3, 4, 5]\n"
     ]
    }
   ],
   "source": [
    "n_fa = [3, 4, 5]\n",
    "\n",
    "ti = \"Test\"\n",
    "\n",
    "OnePiece.matrix_factorization.factorize(ma, ro_, co_, n_fa, ti, tempdir())"
   ]
  }
 ],
 "metadata": {
  "@webio": {
   "lastCommId": null,
   "lastKernelId": null
  },
  "kernelspec": {
   "display_name": "Julia 1.7.3",
   "language": "julia",
   "name": "julia-1.7"
  },
  "language_info": {
   "file_extension": ".jl",
   "mimetype": "application/julia",
   "name": "julia",
   "version": "1.7.3"
  }
 },
 "nbformat": 4,
 "nbformat_minor": 5
}
