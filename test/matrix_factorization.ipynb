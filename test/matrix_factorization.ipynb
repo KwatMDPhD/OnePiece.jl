{
 "cells": [
  {
   "cell_type": "code",
   "execution_count": null,
   "id": "baf12f00",
   "metadata": {},
   "outputs": [],
   "source": [
    "using Revise\n",
    "using OnePiece"
   ]
  },
  {
   "cell_type": "markdown",
   "id": "71b951ee",
   "metadata": {},
   "source": [
    "## factorize"
   ]
  },
  {
   "cell_type": "code",
   "execution_count": null,
   "id": "aa28b4e1",
   "metadata": {},
   "outputs": [],
   "source": [
    "n_ro = 50\n",
    "\n",
    "n_co = 10\n",
    "\n",
    "ro_ = [\"Row $id\" for id in 1:n_ro]\n",
    "\n",
    "co_ = [\"Column $id\" for id in 1:n_co]\n",
    "\n",
    "ma = rand(n_ro, n_co)"
   ]
  },
  {
   "cell_type": "code",
   "execution_count": null,
   "id": "e9433f66",
   "metadata": {},
   "outputs": [],
   "source": [
    "n_fa = [3, 4, 5]\n",
    "\n",
    "ti = \"Test\"\n",
    "\n",
    "OnePiece.matrix_factorization.factorize(ma, ro_, co_, n_fa, ti, tempdir())"
   ]
  }
 ],
 "metadata": {
  "@webio": {
   "lastCommId": null,
   "lastKernelId": null
  },
  "kernelspec": {
   "display_name": "Julia 1.7.3",
   "language": "julia",
   "name": "julia-1.7"
  },
  "language_info": {
   "file_extension": ".jl",
   "mimetype": "application/julia",
   "name": "julia",
   "version": "1.7.3"
  }
 },
 "nbformat": 4,
 "nbformat_minor": 5
}
