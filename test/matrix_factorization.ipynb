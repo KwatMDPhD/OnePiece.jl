{
 "cells": [
  {
   "cell_type": "code",
   "execution_count": 1,
   "id": "baf12f00",
   "metadata": {
    "execution": {
     "iopub.execute_input": "2022-07-03T14:56:35.099000Z",
     "iopub.status.busy": "2022-07-03T14:56:34.752000Z",
     "iopub.status.idle": "2022-07-03T14:56:40.646000Z",
     "shell.execute_reply": "2022-07-03T14:56:40.598000Z"
    }
   },
   "outputs": [],
   "source": [
    "using Revise\n",
    "using OnePiece"
   ]
  },
  {
   "cell_type": "markdown",
   "id": "71b951ee",
   "metadata": {},
   "source": [
    "## factorize"
   ]
  },
  {
   "cell_type": "code",
   "execution_count": 2,
   "id": "aa28b4e1",
   "metadata": {
    "execution": {
     "iopub.execute_input": "2022-07-03T14:56:41.057000Z",
     "iopub.status.busy": "2022-07-03T14:56:40.649000Z",
     "iopub.status.idle": "2022-07-03T14:56:43.192000Z",
     "shell.execute_reply": "2022-07-03T14:56:43.191000Z"
    }
   },
   "outputs": [
    {
     "data": {
      "text/plain": [
       "50×10 Matrix{Float64}:\n",
       " 0.00281961  0.874096   0.487707   …  0.260235   0.854912   0.660403\n",
       " 0.803164    0.86278    0.966376      0.497106   0.848019   0.431788\n",
       " 0.924955    0.212422   0.747558      0.512862   0.474916   0.449207\n",
       " 0.243409    0.460544   0.0320232     0.801215   0.477388   0.110906\n",
       " 0.883425    0.929807   0.411179      0.0937177  0.527992   0.414538\n",
       " 0.0404931   0.885591   0.313658   …  0.858479   0.221981   0.103756\n",
       " 0.485695    0.61126    0.203067      0.140309   0.418656   0.752524\n",
       " 0.874009    0.993147   0.0651833     0.949355   0.215358   0.666713\n",
       " 0.169317    0.811596   0.86484       0.0118222  0.667507   0.146994\n",
       " 0.257651    0.598814   0.72075       0.311773   0.57185    0.595279\n",
       " 0.146631    0.693737   0.05803    …  0.499096   0.868553   0.0289986\n",
       " 0.9765      0.416184   0.0526241     0.0639075  0.295439   0.582499\n",
       " 0.339461    0.896704   0.598693      0.535915   0.960306   0.253498\n",
       " ⋮                                 ⋱                        \n",
       " 0.957743    0.660893   0.230214      0.673227   0.36052    0.761008\n",
       " 0.873167    0.588885   0.177158      0.0232329  0.52862    0.429838\n",
       " 0.936764    0.466009   0.971851   …  0.789577   0.3895     0.801914\n",
       " 0.118058    0.913429   0.6454        0.275123   0.265865   0.262361\n",
       " 0.744761    0.321552   0.480877      0.974925   0.171012   0.35414\n",
       " 0.0950517   0.635386   0.709332      0.513504   0.404139   0.319952\n",
       " 0.67645     0.536024   0.407306      0.283696   0.613684   0.0536748\n",
       " 0.82812     0.948341   0.87737    …  0.656222   0.554883   0.503671\n",
       " 0.684517    0.645628   0.955561      0.750828   0.35699    0.000101807\n",
       " 0.385413    0.0791873  0.827853      0.061369   0.727957   0.601914\n",
       " 0.442936    0.440646   0.352802      0.679302   0.437114   0.928704\n",
       " 0.125943    0.537267   0.672416      0.0931692  0.0503281  0.551278"
      ]
     },
     "execution_count": 2,
     "metadata": {},
     "output_type": "execute_result"
    }
   ],
   "source": [
    "n_ro = 50\n",
    "\n",
    "n_co = 10\n",
    "\n",
    "ro_ = [\"Row $id\" for id in 1:n_ro]\n",
    "\n",
    "co_ = [\"Column $id\" for id in 1:n_co]\n",
    "\n",
    "ma = rand(n_ro, n_co)"
   ]
  },
  {
   "cell_type": "code",
   "execution_count": 3,
   "id": "e9433f66",
   "metadata": {
    "execution": {
     "iopub.execute_input": "2022-07-03T14:56:43.195000Z",
     "iopub.status.busy": "2022-07-03T14:56:43.195000Z",
     "iopub.status.idle": "2022-07-03T14:56:55.053000Z",
     "shell.execute_reply": "2022-07-03T14:56:55.053000Z"
    }
   },
   "outputs": [
    {
     "name": "stdout",
     "output_type": "stream",
     "text": [
      "Made /var/folders/mg/30npdf0s1z36txb2qvgylrzh0000gn/T/nmf/k_3/h.html.\n",
      "Made /var/folders/mg/30npdf0s1z36txb2qvgylrzh0000gn/T/nmf/k_3/w.html.\n",
      "Made /var/folders/mg/30npdf0s1z36txb2qvgylrzh0000gn/T/nmf/k_4/h.html.\n",
      "Made /var/folders/mg/30npdf0s1z36txb2qvgylrzh0000gn/T/nmf/k_4/w.html.\n",
      "Made /var/folders/mg/30npdf0s1z36txb2qvgylrzh0000gn/T/nmf/k_5/h.html.\n",
      "Made /var/folders/mg/30npdf0s1z36txb2qvgylrzh0000gn/T/nmf/k_5/w.html.\n",
      "Saved NMF results at /var/folders/mg/30npdf0s1z36txb2qvgylrzh0000gn/T for k = [3, 4, 5]\n"
     ]
    }
   ],
   "source": [
    "n_fa = [3, 4, 5]\n",
    "\n",
    "ti = \"Test\"\n",
    "\n",
    "OnePiece.matrix_factorization.factorize(ma, ro_, co_, n_fa, ti, tempdir())"
   ]
  }
 ],
 "metadata": {
  "@webio": {
   "lastCommId": null,
   "lastKernelId": null
  },
  "kernelspec": {
   "display_name": "Julia 1.7.3",
   "language": "julia",
   "name": "julia-1.7"
  },
  "language_info": {
   "file_extension": ".jl",
   "mimetype": "application/julia",
   "name": "julia",
   "version": "1.7.3"
  }
 },
 "nbformat": 4,
 "nbformat_minor": 5
}
