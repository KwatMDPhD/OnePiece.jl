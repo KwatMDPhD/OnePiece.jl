{
 "cells": [
  {
   "cell_type": "code",
   "execution_count": 1,
   "id": "baf12f00",
   "metadata": {
    "execution": {
     "iopub.execute_input": "2022-07-10T14:22:57.089000Z",
     "iopub.status.busy": "2022-07-10T14:22:56.750000Z",
     "iopub.status.idle": "2022-07-10T14:23:01.563000Z",
     "shell.execute_reply": "2022-07-10T14:23:01.517000Z"
    }
   },
   "outputs": [],
   "source": [
    "using OnePiece"
   ]
  },
  {
   "cell_type": "markdown",
   "id": "c76411f5",
   "metadata": {},
   "source": [
    "---"
   ]
  },
  {
   "cell_type": "markdown",
   "id": "71b951ee",
   "metadata": {},
   "source": [
    "## factorize"
   ]
  },
  {
   "cell_type": "code",
   "execution_count": 2,
   "id": "aa28b4e1",
   "metadata": {
    "execution": {
     "iopub.execute_input": "2022-07-10T14:23:02.049000Z",
     "iopub.status.busy": "2022-07-10T14:23:01.581000Z",
     "iopub.status.idle": "2022-07-10T14:23:03.273000Z",
     "shell.execute_reply": "2022-07-10T14:23:03.273000Z"
    }
   },
   "outputs": [
    {
     "data": {
      "text/plain": [
       "50×10 Matrix{Float64}:\n",
       " 0.291568    0.453038   0.915781    …  0.180887  0.691535   0.0899074\n",
       " 0.00449953  0.680097   0.491539       0.81693   0.72189    0.885908\n",
       " 0.708503    0.517699   0.690677       0.96623   0.251775   0.987429\n",
       " 0.638293    0.413928   0.256977       0.306137  0.223338   0.227034\n",
       " 0.494173    0.67907    0.00159381     0.842979  0.523736   0.881116\n",
       " 0.889065    0.465835   0.43153     …  0.897797  0.318896   0.486292\n",
       " 0.659439    0.843602   0.399533       0.811833  0.800555   0.635721\n",
       " 0.641053    0.564766   0.326932       0.882182  0.655112   0.916927\n",
       " 0.109101    0.747689   0.620393       0.96859   0.853147   0.228498\n",
       " 0.485981    0.133752   0.560339       0.9546    0.951014   0.140302\n",
       " 0.193659    0.752717   0.125422    …  0.452009  0.202971   0.624148\n",
       " 0.72432     0.915367   0.951724       0.399235  0.0781347  0.136041\n",
       " 0.115972    0.628773   0.916667       0.591453  0.369606   0.657804\n",
       " ⋮                                  ⋱                       \n",
       " 0.239892    0.836705   0.885103       0.970648  0.175018   0.423016\n",
       " 0.360113    0.350481   0.0231246      0.766407  0.390141   0.411796\n",
       " 0.0551141   0.860837   0.286263    …  0.611159  0.290783   0.875193\n",
       " 0.339615    0.0974678  0.227641       0.606066  0.434724   0.162109\n",
       " 0.11948     0.847846   0.19177        0.4784    0.7988     0.117505\n",
       " 0.361283    0.810064   0.00930097     0.236852  0.292667   0.387315\n",
       " 0.852095    0.666197   0.102032       0.253979  0.786215   0.312103\n",
       " 0.70974     0.955133   0.142791    …  0.630086  0.637306   0.0443248\n",
       " 0.991771    0.938885   0.707181       0.837638  0.354315   0.0763105\n",
       " 0.483651    0.162134   0.421768       0.43822   0.208322   0.398981\n",
       " 0.458459    0.215868   0.4056         0.470422  0.851417   0.0929836\n",
       " 0.530295    0.962184   0.448922       0.732176  0.760567   0.21527"
      ]
     },
     "execution_count": 2,
     "metadata": {},
     "output_type": "execute_result"
    }
   ],
   "source": [
    "n_ro = 50\n",
    "\n",
    "n_co = 10\n",
    "\n",
    "ro_ = [\"Row $id\" for id in 1:n_ro]\n",
    "\n",
    "co_ = [\"Column $id\" for id in 1:n_co]\n",
    "\n",
    "ma = rand(n_ro, n_co)"
   ]
  },
  {
   "cell_type": "code",
   "execution_count": 3,
   "id": "e9433f66",
   "metadata": {
    "execution": {
     "iopub.execute_input": "2022-07-10T14:23:03.277000Z",
     "iopub.status.busy": "2022-07-10T14:23:03.277000Z",
     "iopub.status.idle": "2022-07-10T14:23:14.909000Z",
     "shell.execute_reply": "2022-07-10T14:23:14.909000Z"
    }
   },
   "outputs": [
    {
     "name": "stdout",
     "output_type": "stream",
     "text": [
      "Made /var/folders/mg/30npdf0s1z36txb2qvgylrzh0000gn/T/nmf/k_3/h.html.\n",
      "Made /var/folders/mg/30npdf0s1z36txb2qvgylrzh0000gn/T/nmf/k_3/w.html.\n",
      "Made /var/folders/mg/30npdf0s1z36txb2qvgylrzh0000gn/T/nmf/k_4/h.html.\n",
      "Made /var/folders/mg/30npdf0s1z36txb2qvgylrzh0000gn/T/nmf/k_4/w.html.\n",
      "Made /var/folders/mg/30npdf0s1z36txb2qvgylrzh0000gn/T/nmf/k_5/h.html.\n",
      "Made /var/folders/mg/30npdf0s1z36txb2qvgylrzh0000gn/T/nmf/k_5/w.html.\n",
      "Saved NMF results at /var/folders/mg/30npdf0s1z36txb2qvgylrzh0000gn/T for k = [3, 4, 5]\n"
     ]
    }
   ],
   "source": [
    "n_fa = [3, 4, 5]\n",
    "\n",
    "ti = \"Test\"\n",
    "\n",
    "OnePiece.matrix_factorization.factorize(ma, ro_, co_, n_fa, ti, tempdir())"
   ]
  },
  {
   "cell_type": "markdown",
   "id": "677d5996",
   "metadata": {},
   "source": [
    "---"
   ]
  }
 ],
 "metadata": {
  "@webio": {
   "lastCommId": null,
   "lastKernelId": null
  },
  "kernelspec": {
   "display_name": "Julia 1.7.3",
   "language": "julia",
   "name": "julia-1.7"
  },
  "language_info": {
   "file_extension": ".jl",
   "mimetype": "application/julia",
   "name": "julia",
   "version": "1.7.3"
  }
 },
 "nbformat": 4,
 "nbformat_minor": 5
}
