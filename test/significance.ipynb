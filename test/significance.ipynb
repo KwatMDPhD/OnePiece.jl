{
 "cells": [
  {
   "cell_type": "code",
   "execution_count": 1,
   "id": "baf12f00",
   "metadata": {
    "execution": {
     "iopub.execute_input": "2022-07-10T14:24:24.132000Z",
     "iopub.status.busy": "2022-07-10T14:24:23.797000Z",
     "iopub.status.idle": "2022-07-10T14:24:28.609000Z",
     "shell.execute_reply": "2022-07-10T14:24:28.562000Z"
    }
   },
   "outputs": [],
   "source": [
    "using OnePiece"
   ]
  },
  {
   "cell_type": "markdown",
   "id": "0b696c99",
   "metadata": {},
   "source": [
    "---"
   ]
  },
  {
   "cell_type": "markdown",
   "id": "3b1d3a5e",
   "metadata": {},
   "source": [
    "## adjust_p_value"
   ]
  },
  {
   "cell_type": "code",
   "execution_count": 2,
   "id": "93b8239f",
   "metadata": {
    "execution": {
     "iopub.execute_input": "2022-07-10T14:24:28.946000Z",
     "iopub.status.busy": "2022-07-10T14:24:28.628000Z",
     "iopub.status.idle": "2022-07-10T14:24:29.325000Z",
     "shell.execute_reply": "2022-07-10T14:24:29.324000Z"
    }
   },
   "outputs": [
    {
     "name": "stdout",
     "output_type": "stream",
     "text": [
      "[0.004, 0.04, 0.12, 1.0]\n",
      "[0.006, 0.06, 0.18, 1.0]\n",
      "[0.004, 0.02, 0.039999999999999994, 0.5]\n",
      "[0.006, 0.03, 0.06, 0.75]\n"
     ]
    }
   ],
   "source": [
    "pv_ = [0.001, 0.01, 0.03, 0.5]\n",
    "\n",
    "for me in (\"bonferroni\", \"benjamini_hochberg\")\n",
    "\n",
    "    println(OnePiece.significance.adjust_p_value(pv_, me = me))\n",
    "\n",
    "    println(OnePiece.significance.adjust_p_value(pv_, 6, me = me))\n",
    "\n",
    "end"
   ]
  },
  {
   "cell_type": "code",
   "execution_count": 3,
   "id": "0423fe46",
   "metadata": {
    "execution": {
     "iopub.execute_input": "2022-07-10T14:24:29.328000Z",
     "iopub.status.busy": "2022-07-10T14:24:29.328000Z",
     "iopub.status.idle": "2022-07-10T14:24:30.445000Z",
     "shell.execute_reply": "2022-07-10T14:24:30.445000Z"
    }
   },
   "outputs": [],
   "source": [
    "pv_ = [0.005, 0.009, 0.019, 0.022, 0.051, 0.101, 0.361, 0.387]\n",
    "\n",
    "pva_ = [0.036, 0.036, 0.044, 0.044, 0.082, 0.135, 0.387, 0.387]\n",
    "\n",
    "@assert all(pva_ .== round.(OnePiece.significance.adjust_p_value(pv_), digits = 3))"
   ]
  },
  {
   "cell_type": "code",
   "execution_count": 4,
   "id": "ba2deedb",
   "metadata": {
    "execution": {
     "iopub.execute_input": "2022-07-10T14:24:30.448000Z",
     "iopub.status.busy": "2022-07-10T14:24:30.447000Z",
     "iopub.status.idle": "2022-07-10T14:24:30.596000Z",
     "shell.execute_reply": "2022-07-10T14:24:30.596000Z"
    }
   },
   "outputs": [
    {
     "name": "stdout",
     "output_type": "stream",
     "text": [
      "[0.001, 1.0]\n",
      "[0.002, 1.0]\n",
      "[0.001, 0.334, 0.667, 1.0]\n",
      "[0.004, 0.668, 0.8893333333333333, 1.0]\n",
      "[0.001, 0.1437142857142857, 0.2864285714285714, 0.42914285714285716, 0.5718571428571428, 0.7145714285714285, 0.8572857142857143, 1.0]\n",
      "[0.008, 0.5748571428571428, 0.7638095238095237, 0.8582857142857143, 0.9149714285714285, 0.9527619047619047, 0.9797551020408163, 1.0]\n",
      "[0.001, 0.112, 0.223, 0.334, 0.445, 0.556, 0.667, 0.778, 0.889, 1.0]\n",
      "[0.01, 0.56, 0.7433333333333334, 0.8350000000000001, 0.89, 0.9266666666666667, 0.952857142857143, 0.9725, 0.9877777777777779, 1.0]\n"
     ]
    }
   ],
   "source": [
    "for n_pv in [2, 4, 8, 10]\n",
    "\n",
    "    pv_ = collect(range(0.001, 1, length = n_pv))\n",
    "\n",
    "    println(pv_)\n",
    "\n",
    "    println(OnePiece.significance.adjust_p_value(pv_))\n",
    "\n",
    "end"
   ]
  },
  {
   "cell_type": "markdown",
   "id": "1d8333c7",
   "metadata": {},
   "source": [
    "## get_margin_of_error"
   ]
  },
  {
   "cell_type": "code",
   "execution_count": 5,
   "id": "d283833a",
   "metadata": {
    "execution": {
     "iopub.execute_input": "2022-07-10T14:24:30.599000Z",
     "iopub.status.busy": "2022-07-10T14:24:30.599000Z",
     "iopub.status.idle": "2022-07-10T14:24:31.526000Z",
     "shell.execute_reply": "2022-07-10T14:24:31.526000Z"
    }
   },
   "outputs": [
    {
     "name": "stdout",
     "output_type": "stream",
     "text": [
      "1\n",
      "NaN\n",
      "10\n",
      "0.6389954432363403\n",
      "100\n",
      "0.21808114754533497\n",
      "1000\n",
      "0.06067225790069791\n",
      "10000\n",
      "0.019407281203051224\n",
      "100000\n",
      "0.00621879182698921\n",
      "1000000\n",
      "0.0019615585060052654\n",
      "10000000\n",
      "0.0006198313815340421\n",
      "100000000\n",
      "0.00019599758995853415\n"
     ]
    }
   ],
   "source": [
    "for po in 0:8\n",
    "\n",
    "    n_po = 10^po\n",
    "\n",
    "    println(n_po)\n",
    "\n",
    "    println(OnePiece.significance.get_margin_of_error(randn(n_po)))\n",
    "\n",
    "end"
   ]
  },
  {
   "cell_type": "markdown",
   "id": "a9de369f",
   "metadata": {},
   "source": [
    "## get_p_value"
   ]
  },
  {
   "cell_type": "code",
   "execution_count": 6,
   "id": "79c5676a",
   "metadata": {
    "execution": {
     "iopub.execute_input": "2022-07-10T14:24:31.531000Z",
     "iopub.status.busy": "2022-07-10T14:24:31.531000Z",
     "iopub.status.idle": "2022-07-10T14:24:31.686000Z",
     "shell.execute_reply": "2022-07-10T14:24:31.686000Z"
    }
   },
   "outputs": [
    {
     "name": "stdout",
     "output_type": "stream",
     "text": [
      "1\n",
      "0.1\n",
      "1.0\n",
      "2\n",
      "0.2\n",
      "0.9\n",
      "9\n",
      "0.9\n",
      "0.2\n",
      "10\n",
      "1.0\n",
      "0.1\n"
     ]
    }
   ],
   "source": [
    "ra_ = collect(1:10)\n",
    "\n",
    "for va in (1, 2, 9, 10)\n",
    "\n",
    "    println(va)\n",
    "\n",
    "    for si in (-1.0, 1.0)\n",
    "\n",
    "        println(OnePiece.significance.get_p_value(va, ra_, si))\n",
    "\n",
    "    end\n",
    "\n",
    "end"
   ]
  },
  {
   "cell_type": "markdown",
   "id": "516e1a6e",
   "metadata": {},
   "source": [
    "## get_p_value_and_adjust"
   ]
  },
  {
   "cell_type": "code",
   "execution_count": 7,
   "id": "fdb6da5a",
   "metadata": {
    "execution": {
     "iopub.execute_input": "2022-07-10T14:24:31.689000Z",
     "iopub.status.busy": "2022-07-10T14:24:31.689000Z",
     "iopub.status.idle": "2022-07-10T14:24:31.944000Z",
     "shell.execute_reply": "2022-07-10T14:24:31.944000Z"
    }
   },
   "outputs": [
    {
     "name": "stdout",
     "output_type": "stream",
     "text": [
      "([0.1, 0.2, 0.2, 0.1], [0.4, 0.4, 0.4, 0.4])\n",
      "([0.1, 0.2, 0.9, 1.0], [0.4, 0.4, 1.0, 1.0])\n",
      "([1.0, 0.9, 0.2, 0.1], [1.0, 1.0, 0.4, 0.4])\n"
     ]
    }
   ],
   "source": [
    "nu_ = (0, 1, 8, 9)\n",
    "\n",
    "ra_ = collect(0:9)\n",
    "\n",
    "println(OnePiece.significance.get_p_value_and_adjust(nu_, ra_))\n",
    "\n",
    "for si in (-1.0, 1.0)\n",
    "\n",
    "    println(OnePiece.significance.get_p_value_and_adjust(nu_, ra_, si))\n",
    "\n",
    "end"
   ]
  },
  {
   "cell_type": "markdown",
   "id": "f080f5f7",
   "metadata": {},
   "source": [
    "---"
   ]
  }
 ],
 "metadata": {
  "@webio": {
   "lastCommId": null,
   "lastKernelId": null
  },
  "kernelspec": {
   "display_name": "Julia 1.7.3",
   "language": "julia",
   "name": "julia-1.7"
  },
  "language_info": {
   "file_extension": ".jl",
   "mimetype": "application/julia",
   "name": "julia",
   "version": "1.7.3"
  }
 },
 "nbformat": 4,
 "nbformat_minor": 5
}
