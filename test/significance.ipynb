{
 "cells": [
  {
   "cell_type": "code",
   "execution_count": null,
   "id": "baf12f00",
   "metadata": {},
   "outputs": [],
   "source": [
    "using OnePiece"
   ]
  },
  {
   "cell_type": "markdown",
   "id": "0b696c99",
   "metadata": {},
   "source": [
    "---"
   ]
  },
  {
   "cell_type": "markdown",
   "id": "3b1d3a5e",
   "metadata": {},
   "source": [
    "## adjust_p_value"
   ]
  },
  {
   "cell_type": "code",
   "execution_count": null,
   "id": "93b8239f",
   "metadata": {},
   "outputs": [],
   "source": [
    "pv_ = [0.001, 0.01, 0.03, 0.5]\n",
    "\n",
    "for me in (\"bonferroni\", \"benjamini_hochberg\")\n",
    "\n",
    "    println(OnePiece.significance.adjust_p_value(pv_, me = me))\n",
    "\n",
    "    println(OnePiece.significance.adjust_p_value(pv_, 6, me = me))\n",
    "\n",
    "end"
   ]
  },
  {
   "cell_type": "code",
   "execution_count": null,
   "id": "0423fe46",
   "metadata": {},
   "outputs": [],
   "source": [
    "pv_ = [0.005, 0.009, 0.019, 0.022, 0.051, 0.101, 0.361, 0.387]\n",
    "\n",
    "pva_ = [0.036, 0.036, 0.044, 0.044, 0.082, 0.135, 0.387, 0.387]\n",
    "\n",
    "@assert all(pva_ .== round.(OnePiece.significance.adjust_p_value(pv_), digits = 3))"
   ]
  },
  {
   "cell_type": "code",
   "execution_count": null,
   "id": "ba2deedb",
   "metadata": {},
   "outputs": [],
   "source": [
    "for n_pv in [2, 4, 8, 10]\n",
    "\n",
    "    pv_ = collect(range(0.001, 1, length = n_pv))\n",
    "\n",
    "    println(pv_)\n",
    "\n",
    "    println(OnePiece.significance.adjust_p_value(pv_))\n",
    "\n",
    "end"
   ]
  },
  {
   "cell_type": "markdown",
   "id": "1d8333c7",
   "metadata": {},
   "source": [
    "## get_margin_of_error"
   ]
  },
  {
   "cell_type": "code",
   "execution_count": null,
   "id": "d283833a",
   "metadata": {},
   "outputs": [],
   "source": [
    "for po in 0:8\n",
    "\n",
    "    n_po = 10^po\n",
    "\n",
    "    println(n_po)\n",
    "\n",
    "    println(OnePiece.significance.get_margin_of_error(randn(n_po)))\n",
    "\n",
    "end"
   ]
  },
  {
   "cell_type": "markdown",
   "id": "a9de369f",
   "metadata": {},
   "source": [
    "## get_p_value"
   ]
  },
  {
   "cell_type": "code",
   "execution_count": null,
   "id": "79c5676a",
   "metadata": {},
   "outputs": [],
   "source": [
    "ra_ = collect(1:10)\n",
    "\n",
    "for va in (1, 2, 9, 10)\n",
    "\n",
    "    println(va)\n",
    "\n",
    "    for si in (-1.0, 1.0)\n",
    "\n",
    "        println(OnePiece.significance.get_p_value(va, ra_, si))\n",
    "\n",
    "    end\n",
    "\n",
    "end"
   ]
  },
  {
   "cell_type": "markdown",
   "id": "516e1a6e",
   "metadata": {},
   "source": [
    "## get_p_value_and_adjust"
   ]
  },
  {
   "cell_type": "code",
   "execution_count": null,
   "id": "fdb6da5a",
   "metadata": {},
   "outputs": [],
   "source": [
    "nu_ = (0, 1, 8, 9)\n",
    "\n",
    "ra_ = collect(0:9)\n",
    "\n",
    "println(OnePiece.significance.get_p_value_and_adjust(nu_, ra_))\n",
    "\n",
    "for si in (-1.0, 1.0)\n",
    "\n",
    "    println(OnePiece.significance.get_p_value_and_adjust(nu_, ra_, si))\n",
    "\n",
    "end"
   ]
  },
  {
   "cell_type": "markdown",
   "id": "f080f5f7",
   "metadata": {},
   "source": [
    "---"
   ]
  }
 ],
 "metadata": {
  "@webio": {
   "lastCommId": null,
   "lastKernelId": null
  },
  "kernelspec": {
   "display_name": "Julia 1.7.3",
   "language": "julia",
   "name": "julia-1.7"
  },
  "language_info": {
   "file_extension": ".jl",
   "mimetype": "application/julia",
   "name": "julia",
   "version": "1.7.3"
  }
 },
 "nbformat": 4,
 "nbformat_minor": 5
}
