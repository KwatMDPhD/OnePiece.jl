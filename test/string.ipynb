{
 "cells": [
  {
   "cell_type": "code",
   "execution_count": 1,
   "id": "baf12f00",
   "metadata": {
    "execution": {
     "iopub.execute_input": "2022-07-13T12:57:05.224000Z",
     "iopub.status.busy": "2022-07-13T12:57:04.828000Z",
     "iopub.status.idle": "2022-07-13T12:57:09.974000Z",
     "shell.execute_reply": "2022-07-13T12:57:09.927000Z"
    }
   },
   "outputs": [],
   "source": [
    "using OnePiece"
   ]
  },
  {
   "cell_type": "markdown",
   "id": "672aa172",
   "metadata": {},
   "source": [
    "---"
   ]
  },
  {
   "cell_type": "markdown",
   "id": "4f555b8b",
   "metadata": {},
   "source": [
    "## remove_longest_common_prefix"
   ]
  },
  {
   "cell_type": "code",
   "execution_count": 2,
   "id": "35c1007b",
   "metadata": {
    "execution": {
     "iopub.execute_input": "2022-07-13T12:57:10.461000Z",
     "iopub.status.busy": "2022-07-13T12:57:09.992000Z",
     "iopub.status.idle": "2022-07-13T12:57:10.973000Z",
     "shell.execute_reply": "2022-07-13T12:57:10.973000Z"
    }
   },
   "outputs": [
    {
     "name": "stdout",
     "output_type": "stream",
     "text": [
      "[\"\", \"\", \"\"]\n",
      "[\"\"]\n",
      "[\"e\", \"ana\"]\n",
      "[\"ate\", \"wat\"]\n",
      "[\"ate\", \"wat\", \"azakh\"]\n",
      "[\"\", \"b\", \"bc\"]\n",
      "[\"bc\", \"b\", \"\"]\n"
     ]
    }
   ],
   "source": [
    "for st_ in (\n",
    "    [\"\", \"\", \"\"],\n",
    "    [\"kate\"],\n",
    "    [\"kate\", \"katana\"],\n",
    "    [\"kate\", \"kwat\"],\n",
    "    [\"kate\", \"kwat\", \"kazakh\"],\n",
    "    [\"a\", \"ab\", \"abc\"],\n",
    "    [\"abc\", \"ab\", \"a\"],\n",
    ")\n",
    "\n",
    "    println(OnePiece.string.remove_longest_common_prefix(st_))\n",
    "\n",
    "end"
   ]
  },
  {
   "cell_type": "markdown",
   "id": "fdc7094b",
   "metadata": {},
   "source": [
    "## title"
   ]
  },
  {
   "cell_type": "code",
   "execution_count": 3,
   "id": "4a641135",
   "metadata": {
    "execution": {
     "iopub.execute_input": "2022-07-13T12:57:10.977000Z",
     "iopub.status.busy": "2022-07-13T12:57:10.977000Z",
     "iopub.status.idle": "2022-07-13T12:57:11.008000Z",
     "shell.execute_reply": "2022-07-13T12:57:11.008000Z"
    }
   },
   "outputs": [
    {
     "name": "stdout",
     "output_type": "stream",
     "text": [
      "aa ==> Aa\n",
      "DNA ==> Dna\n",
      "Hello world! ==> Hello World!\n",
      "SARS-COVID-2 ==> Sars-Covid-2\n"
     ]
    }
   ],
   "source": [
    "for st in (\"aa\", \"DNA\", \"Hello world!\", \"SARS-COVID-2\")\n",
    "\n",
    "    println(\"$st ==> $(OnePiece.string.title(st))\")\n",
    "\n",
    "end"
   ]
  },
  {
   "cell_type": "markdown",
   "id": "9103da59",
   "metadata": {},
   "source": [
    "## transplant"
   ]
  },
  {
   "cell_type": "code",
   "execution_count": 4,
   "id": "685bc10f",
   "metadata": {
    "execution": {
     "iopub.execute_input": "2022-07-13T12:57:11.011000Z",
     "iopub.status.busy": "2022-07-13T12:57:11.011000Z",
     "iopub.status.idle": "2022-07-13T12:57:11.630000Z",
     "shell.execute_reply": "2022-07-13T12:57:11.630000Z"
    }
   },
   "outputs": [
    {
     "data": {
      "text/plain": [
       "\"A--bb--CCC\""
      ]
     },
     "execution_count": 4,
     "metadata": {},
     "output_type": "execute_result"
    }
   ],
   "source": [
    "st1 = \"A--BB--CCC\"\n",
    "\n",
    "st2 = \"a--bb--ccc\"\n",
    "\n",
    "de = \"--\"\n",
    "\n",
    "OnePiece.string.transplant(st1, st2, de, (1, 2, 1))"
   ]
  },
  {
   "cell_type": "markdown",
   "id": "b31feffc",
   "metadata": {},
   "source": [
    "---"
   ]
  }
 ],
 "metadata": {
  "@webio": {
   "lastCommId": null,
   "lastKernelId": null
  },
  "kernelspec": {
   "display_name": "Julia 1.7.3",
   "language": "julia",
   "name": "julia-1.7"
  },
  "language_info": {
   "file_extension": ".jl",
   "mimetype": "application/julia",
   "name": "julia",
   "version": "1.7.3"
  }
 },
 "nbformat": 4,
 "nbformat_minor": 5
}
