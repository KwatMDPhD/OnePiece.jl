{
 "cells": [
  {
   "cell_type": "code",
   "execution_count": 1,
   "id": "baf12f00",
   "metadata": {
    "execution": {
     "iopub.execute_input": "2022-07-13T16:54:06.888000Z",
     "iopub.status.busy": "2022-07-13T16:54:06.545000Z",
     "iopub.status.idle": "2022-07-13T16:54:11.188000Z",
     "shell.execute_reply": "2022-07-13T16:54:11.142000Z"
    }
   },
   "outputs": [],
   "source": [
    "using OnePiece"
   ]
  },
  {
   "cell_type": "markdown",
   "id": "5fe4cd8c",
   "metadata": {},
   "source": [
    "## cumulate_sum_reverse"
   ]
  },
  {
   "cell_type": "code",
   "execution_count": 2,
   "id": "07c92830",
   "metadata": {
    "execution": {
     "iopub.execute_input": "2022-07-13T16:54:11.648000Z",
     "iopub.status.busy": "2022-07-13T16:54:11.190000Z",
     "iopub.status.idle": "2022-07-13T16:54:12.747000Z",
     "shell.execute_reply": "2022-07-13T16:54:12.746000Z"
    }
   },
   "outputs": [
    {
     "data": {
      "text/plain": [
       "10-element Vector{Int64}:\n",
       " 55\n",
       " 54\n",
       " 52\n",
       " 49\n",
       " 45\n",
       " 40\n",
       " 34\n",
       " 27\n",
       " 19\n",
       " 10"
      ]
     },
     "execution_count": 2,
     "metadata": {},
     "output_type": "execute_result"
    }
   ],
   "source": [
    "OnePiece.vector_number.cumulate_sum_reverse(1:10)"
   ]
  },
  {
   "cell_type": "markdown",
   "id": "e8e1905e",
   "metadata": {},
   "source": [
    "## get_area"
   ]
  },
  {
   "cell_type": "code",
   "execution_count": 3,
   "id": "c2f4d231",
   "metadata": {
    "execution": {
     "iopub.execute_input": "2022-07-13T16:54:12.750000Z",
     "iopub.status.busy": "2022-07-13T16:54:12.750000Z",
     "iopub.status.idle": "2022-07-13T16:54:12.923000Z",
     "shell.execute_reply": "2022-07-13T16:54:12.923000Z"
    }
   },
   "outputs": [
    {
     "data": {
      "text/plain": [
       "0.5"
      ]
     },
     "execution_count": 3,
     "metadata": {},
     "output_type": "execute_result"
    }
   ],
   "source": [
    "OnePiece.vector_number.get_area([-1, 0, 1, 2])"
   ]
  },
  {
   "cell_type": "code",
   "execution_count": 4,
   "id": "2a6a1b02",
   "metadata": {
    "execution": {
     "iopub.execute_input": "2022-07-13T16:54:12.926000Z",
     "iopub.status.busy": "2022-07-13T16:54:12.926000Z",
     "iopub.status.idle": "2022-07-13T16:54:12.927000Z",
     "shell.execute_reply": "2022-07-13T16:54:12.927000Z"
    }
   },
   "outputs": [
    {
     "data": {
      "text/plain": [
       "0.0"
      ]
     },
     "execution_count": 4,
     "metadata": {},
     "output_type": "execute_result"
    }
   ],
   "source": [
    "OnePiece.vector_number.get_area([-2, -1, 0, 0, 1, 2])"
   ]
  },
  {
   "cell_type": "markdown",
   "id": "be132537",
   "metadata": {},
   "source": [
    "## get_extreme"
   ]
  },
  {
   "cell_type": "code",
   "execution_count": 5,
   "id": "4800ccf8",
   "metadata": {
    "execution": {
     "iopub.execute_input": "2022-07-13T16:54:12.947000Z",
     "iopub.status.busy": "2022-07-13T16:54:12.947000Z",
     "iopub.status.idle": "2022-07-13T16:54:13.138000Z",
     "shell.execute_reply": "2022-07-13T16:54:13.138000Z"
    }
   },
   "outputs": [
    {
     "data": {
      "text/plain": [
       "2"
      ]
     },
     "execution_count": 5,
     "metadata": {},
     "output_type": "execute_result"
    }
   ],
   "source": [
    "te = [-1, 0, 0, 1, 2]\n",
    "\n",
    "OnePiece.vector_number.get_extreme(te)"
   ]
  },
  {
   "cell_type": "code",
   "execution_count": 6,
   "id": "7d8a8776",
   "metadata": {
    "execution": {
     "iopub.execute_input": "2022-07-13T16:54:13.141000Z",
     "iopub.status.busy": "2022-07-13T16:54:13.141000Z",
     "iopub.status.idle": "2022-07-13T16:54:13.160000Z",
     "shell.execute_reply": "2022-07-13T16:54:13.159000Z"
    }
   },
   "outputs": [
    {
     "name": "stdout",
     "output_type": "stream",
     "text": [
      "The minimum and the maximum have the same absolute value.\n"
     ]
    },
    {
     "data": {
      "text/plain": [
       "2"
      ]
     },
     "execution_count": 6,
     "metadata": {},
     "output_type": "execute_result"
    }
   ],
   "source": [
    "OnePiece.vector_number.get_extreme([-maximum(te), te...])"
   ]
  },
  {
   "cell_type": "markdown",
   "id": "fa4b4616",
   "metadata": {},
   "source": [
    "## make_increasing_by_stepping_*"
   ]
  },
  {
   "cell_type": "code",
   "execution_count": 7,
   "id": "ecd4ce5c",
   "metadata": {
    "execution": {
     "iopub.execute_input": "2022-07-13T16:54:13.164000Z",
     "iopub.status.busy": "2022-07-13T16:54:13.164000Z",
     "iopub.status.idle": "2022-07-13T16:54:13.363000Z",
     "shell.execute_reply": "2022-07-13T16:54:13.363000Z"
    }
   },
   "outputs": [
    {
     "name": "stdout",
     "output_type": "stream",
     "text": [
      "---------------------------------------------------------------------------------------------------\n",
      "[0, 1, 2]\n",
      "[0, 1, 2]\n",
      "[0, 1, 2]\n",
      "---------------------------------------------------------------------------------------------------\n",
      "[0, 1, 2, 0]\n",
      "[0, 0, 0, 0]\n",
      "[0, 1, 2, 2]\n",
      "---------------------------------------------------------------------------------------------------\n",
      "[0, 1, 2, 2, 1, 0, 1, 2, 3]\n",
      "[0, 0, 0, 0, 0, 0, 1, 2, 3]\n",
      "[0, 1, 2, 2, 2, 2, 2, 2, 3]\n"
     ]
    }
   ],
   "source": [
    "for ic_ in [[0, 1, 2], [0, 1, 2, 0], [0, 1, 2, 2, 1, 0, 1, 2, 3]]\n",
    "\n",
    "    println(\"-\"^99)\n",
    "\n",
    "    println(ic_)\n",
    "\n",
    "    println(OnePiece.vector_number.make_increasing_by_stepping_up!(copy(ic_)))\n",
    "\n",
    "    println(OnePiece.vector_number.make_increasing_by_stepping_down!(copy(ic_)))\n",
    "\n",
    "end"
   ]
  },
  {
   "cell_type": "markdown",
   "id": "d60a26c7",
   "metadata": {},
   "source": [
    "## shift_minimum"
   ]
  },
  {
   "cell_type": "code",
   "execution_count": 8,
   "id": "2de669ad",
   "metadata": {
    "execution": {
     "iopub.execute_input": "2022-07-13T16:54:13.366000Z",
     "iopub.status.busy": "2022-07-13T16:54:13.366000Z",
     "iopub.status.idle": "2022-07-13T16:54:13.533000Z",
     "shell.execute_reply": "2022-07-13T16:54:13.533000Z"
    }
   },
   "outputs": [
    {
     "name": "stdout",
     "output_type": "stream",
     "text": [
      "[1, 2, 3, 4, 5, 6, 7]\n",
      "[-3, -2, -1, 0, 1, 2, 3]\n",
      "[-2, -1, 0, 1, 2, 3, 4]\n",
      "[-1, 0, 1, 2, 3, 4, 5]\n",
      "[0, 1, 2, 3, 4, 5, 6]\n",
      "[1, 2, 3, 4, 5, 6, 7]\n",
      "[2, 3, 4, 5, 6, 7, 8]\n",
      "[3, 4, 5, 6, 7, 8, 9]\n"
     ]
    }
   ],
   "source": [
    "te = collect(-3:3)\n",
    "\n",
    "println(OnePiece.vector_number.shift_minimum(te, \"0<\"))\n",
    "\n",
    "for nu in te\n",
    "\n",
    "    println(OnePiece.vector_number.shift_minimum(te, nu))\n",
    "\n",
    "end"
   ]
  },
  {
   "cell_type": "markdown",
   "id": "8d236ee2",
   "metadata": {},
   "source": [
    "## simulate"
   ]
  },
  {
   "cell_type": "code",
   "execution_count": 9,
   "id": "36da8c56",
   "metadata": {
    "execution": {
     "iopub.execute_input": "2022-07-13T16:54:13.536000Z",
     "iopub.status.busy": "2022-07-13T16:54:13.535000Z",
     "iopub.status.idle": "2022-07-13T16:54:14.092000Z",
     "shell.execute_reply": "2022-07-13T16:54:14.092000Z"
    }
   },
   "outputs": [],
   "source": [
    "for ho in [\"\", \"deep\", \"long\"]\n",
    "\n",
    "    OnePiece.vector_number.simulate(2, ho = ho)\n",
    "\n",
    "end"
   ]
  }
 ],
 "metadata": {
  "@webio": {
   "lastCommId": null,
   "lastKernelId": null
  },
  "kernelspec": {
   "display_name": "Julia 1.7.3",
   "language": "julia",
   "name": "julia-1.7"
  },
  "language_info": {
   "file_extension": ".jl",
   "mimetype": "application/julia",
   "name": "julia",
   "version": "1.7.3"
  }
 },
 "nbformat": 4,
 "nbformat_minor": 5
}
