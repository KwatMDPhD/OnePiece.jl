{
 "cells": [
  {
   "cell_type": "code",
   "execution_count": 1,
   "id": "baf12f00",
   "metadata": {
    "execution": {
     "iopub.execute_input": "2022-07-03T15:02:41.743000Z",
     "iopub.status.busy": "2022-07-03T15:02:40.749000Z",
     "iopub.status.idle": "2022-07-03T15:02:58.253000Z",
     "shell.execute_reply": "2022-07-03T15:02:58.114000Z"
    }
   },
   "outputs": [],
   "source": [
    "using Revise\n",
    "using OnePiece"
   ]
  },
  {
   "cell_type": "markdown",
   "id": "5fe4cd8c",
   "metadata": {},
   "source": [
    "## cumulate_sum_reverse"
   ]
  },
  {
   "cell_type": "code",
   "execution_count": 2,
   "id": "07c92830",
   "metadata": {
    "execution": {
     "iopub.execute_input": "2022-07-03T15:02:59.466000Z",
     "iopub.status.busy": "2022-07-03T15:02:58.259000Z",
     "iopub.status.idle": "2022-07-03T15:03:05.614000Z",
     "shell.execute_reply": "2022-07-03T15:03:05.613000Z"
    }
   },
   "outputs": [
    {
     "data": {
      "text/plain": [
       "10-element Vector{Int64}:\n",
       " 55\n",
       " 54\n",
       " 52\n",
       " 49\n",
       " 45\n",
       " 40\n",
       " 34\n",
       " 27\n",
       " 19\n",
       " 10"
      ]
     },
     "execution_count": 2,
     "metadata": {},
     "output_type": "execute_result"
    }
   ],
   "source": [
    "OnePiece.tensor.cumulate_sum_reverse(1:10)"
   ]
  },
  {
   "cell_type": "markdown",
   "id": "e8e1905e",
   "metadata": {},
   "source": [
    "## get_area"
   ]
  },
  {
   "cell_type": "code",
   "execution_count": 3,
   "id": "c2f4d231",
   "metadata": {
    "execution": {
     "iopub.execute_input": "2022-07-03T15:03:05.624000Z",
     "iopub.status.busy": "2022-07-03T15:03:05.623000Z",
     "iopub.status.idle": "2022-07-03T15:03:06.172000Z",
     "shell.execute_reply": "2022-07-03T15:03:06.172000Z"
    }
   },
   "outputs": [
    {
     "data": {
      "text/plain": [
       "0.5"
      ]
     },
     "execution_count": 3,
     "metadata": {},
     "output_type": "execute_result"
    }
   ],
   "source": [
    "OnePiece.tensor.get_area([-1, 0, 1, 2])"
   ]
  },
  {
   "cell_type": "code",
   "execution_count": 4,
   "id": "2a6a1b02",
   "metadata": {
    "execution": {
     "iopub.execute_input": "2022-07-03T15:03:06.180000Z",
     "iopub.status.busy": "2022-07-03T15:03:06.179000Z",
     "iopub.status.idle": "2022-07-03T15:03:06.195000Z",
     "shell.execute_reply": "2022-07-03T15:03:06.194000Z"
    }
   },
   "outputs": [
    {
     "data": {
      "text/plain": [
       "0.0"
      ]
     },
     "execution_count": 4,
     "metadata": {},
     "output_type": "execute_result"
    }
   ],
   "source": [
    "OnePiece.tensor.get_area([-2, -1, 0, 0, 1, 2])"
   ]
  },
  {
   "cell_type": "markdown",
   "id": "be132537",
   "metadata": {},
   "source": [
    "## get_extreme"
   ]
  },
  {
   "cell_type": "code",
   "execution_count": 5,
   "id": "4800ccf8",
   "metadata": {
    "execution": {
     "iopub.execute_input": "2022-07-03T15:03:06.202000Z",
     "iopub.status.busy": "2022-07-03T15:03:06.202000Z",
     "iopub.status.idle": "2022-07-03T15:03:06.754000Z",
     "shell.execute_reply": "2022-07-03T15:03:06.753000Z"
    }
   },
   "outputs": [
    {
     "data": {
      "text/plain": [
       "2"
      ]
     },
     "execution_count": 5,
     "metadata": {},
     "output_type": "execute_result"
    }
   ],
   "source": [
    "te = [-1, 0, 0, 1, 2]\n",
    "\n",
    "OnePiece.tensor.get_extreme(te)"
   ]
  },
  {
   "cell_type": "code",
   "execution_count": 6,
   "id": "7d8a8776",
   "metadata": {
    "execution": {
     "iopub.execute_input": "2022-07-03T15:03:06.761000Z",
     "iopub.status.busy": "2022-07-03T15:03:06.761000Z",
     "iopub.status.idle": "2022-07-03T15:03:06.824000Z",
     "shell.execute_reply": "2022-07-03T15:03:06.823000Z"
    }
   },
   "outputs": [
    {
     "name": "stdout",
     "output_type": "stream",
     "text": [
      "The minimum and the maximum have the same absolute value.\n"
     ]
    },
    {
     "data": {
      "text/plain": [
       "2"
      ]
     },
     "execution_count": 6,
     "metadata": {},
     "output_type": "execute_result"
    }
   ],
   "source": [
    "OnePiece.tensor.get_extreme([-maximum(te), te...])"
   ]
  },
  {
   "cell_type": "markdown",
   "id": "fa4b4616",
   "metadata": {},
   "source": [
    "## make_increasing_by_stepping_*"
   ]
  },
  {
   "cell_type": "code",
   "execution_count": 7,
   "id": "ecd4ce5c",
   "metadata": {
    "execution": {
     "iopub.execute_input": "2022-07-03T15:03:06.835000Z",
     "iopub.status.busy": "2022-07-03T15:03:06.835000Z",
     "iopub.status.idle": "2022-07-03T15:03:07.411000Z",
     "shell.execute_reply": "2022-07-03T15:03:07.411000Z"
    }
   },
   "outputs": [
    {
     "name": "stdout",
     "output_type": "stream",
     "text": [
      "---------------------------------------------------------------------------------------------------\n",
      "[0, 1, 2]\n",
      "[0, 1, 2]\n",
      "[0, 1, 2]\n",
      "---------------------------------------------------------------------------------------------------\n",
      "[0, 1, 2, 0]\n",
      "[0, 0, 0, 0]\n",
      "[0, 1, 2, 2]\n",
      "---------------------------------------------------------------------------------------------------\n",
      "[0, 1, 2, 2, 1, 0, 1, 2, 3]\n",
      "[0, 0, 0, 0, 0, 0, 1, 2, 3]\n",
      "[0, 1, 2, 2, 2, 2, 2, 2, 3]\n"
     ]
    }
   ],
   "source": [
    "for ic_ in [[0, 1, 2], [0, 1, 2, 0], [0, 1, 2, 2, 1, 0, 1, 2, 3]]\n",
    "\n",
    "    println(\"-\"^99)\n",
    "\n",
    "    println(ic_)\n",
    "\n",
    "    println(OnePiece.tensor.make_increasing_by_stepping_up!(copy(ic_)))\n",
    "\n",
    "    println(OnePiece.tensor.make_increasing_by_stepping_down!(copy(ic_)))\n",
    "\n",
    "end"
   ]
  },
  {
   "cell_type": "markdown",
   "id": "66affc15",
   "metadata": {},
   "source": [
    "## make_matrix"
   ]
  },
  {
   "cell_type": "code",
   "execution_count": 8,
   "id": "b0307043",
   "metadata": {
    "execution": {
     "iopub.execute_input": "2022-07-03T15:03:07.420000Z",
     "iopub.status.busy": "2022-07-03T15:03:07.420000Z",
     "iopub.status.idle": "2022-07-03T15:03:08.458000Z",
     "shell.execute_reply": "2022-07-03T15:03:08.458000Z"
    }
   },
   "outputs": [
    {
     "data": {
      "text/plain": [
       "2×3 Matrix{Int64}:\n",
       " 1  2  3\n",
       " 4  5  6"
      ]
     },
     "execution_count": 8,
     "metadata": {},
     "output_type": "execute_result"
    }
   ],
   "source": [
    "ro1 = [1, 2, 3]\n",
    "\n",
    "ro2 = [4, 5, 6]\n",
    "\n",
    "OnePiece.tensor.make_matrix(ro1, ro2)"
   ]
  },
  {
   "cell_type": "code",
   "execution_count": 9,
   "id": "3a60cb2c",
   "metadata": {
    "execution": {
     "iopub.execute_input": "2022-07-03T15:03:08.466000Z",
     "iopub.status.busy": "2022-07-03T15:03:08.466000Z",
     "iopub.status.idle": "2022-07-03T15:03:08.508000Z",
     "shell.execute_reply": "2022-07-03T15:03:08.507000Z"
    }
   },
   "outputs": [
    {
     "data": {
      "text/plain": [
       "2×3 Matrix{Int64}:\n",
       " 1  2  3\n",
       " 4  5  6"
      ]
     },
     "execution_count": 9,
     "metadata": {},
     "output_type": "execute_result"
    }
   ],
   "source": [
    "ro1[1] = convert(Float64, ro1[1])\n",
    "\n",
    "OnePiece.tensor.make_matrix(ro1, ro2)"
   ]
  },
  {
   "cell_type": "markdown",
   "id": "d60a26c7",
   "metadata": {},
   "source": [
    "## shift_minimum"
   ]
  },
  {
   "cell_type": "code",
   "execution_count": 10,
   "id": "2de669ad",
   "metadata": {
    "execution": {
     "iopub.execute_input": "2022-07-03T15:03:08.515000Z",
     "iopub.status.busy": "2022-07-03T15:03:08.515000Z",
     "iopub.status.idle": "2022-07-03T15:03:08.983000Z",
     "shell.execute_reply": "2022-07-03T15:03:08.983000Z"
    }
   },
   "outputs": [
    {
     "name": "stdout",
     "output_type": "stream",
     "text": [
      "[1, 2, 3, 4, 5, 6, 7]\n",
      "[-3, -2, -1, 0, 1, 2, 3]\n",
      "[-2, -1, 0, 1, 2, 3, 4]\n",
      "[-1, 0, 1, 2, 3, 4, 5]\n",
      "[0, 1, 2, 3, 4, 5, 6]\n",
      "[1, 2, 3, 4, 5, 6, 7]\n",
      "[2, 3, 4, 5, 6, 7, 8]\n",
      "[3, 4, 5, 6, 7, 8, 9]\n"
     ]
    }
   ],
   "source": [
    "te = collect(-3:3)\n",
    "\n",
    "println(OnePiece.tensor.shift_minimum(te, \"0<\"))\n",
    "\n",
    "for nu in te\n",
    "\n",
    "    println(OnePiece.tensor.shift_minimum(te, nu))\n",
    "\n",
    "end"
   ]
  },
  {
   "cell_type": "markdown",
   "id": "8d236ee2",
   "metadata": {},
   "source": [
    "## simulate"
   ]
  },
  {
   "cell_type": "code",
   "execution_count": 11,
   "id": "36da8c56",
   "metadata": {
    "execution": {
     "iopub.execute_input": "2022-07-03T15:03:08.992000Z",
     "iopub.status.busy": "2022-07-03T15:03:08.991000Z",
     "iopub.status.idle": "2022-07-03T15:03:10.167000Z",
     "shell.execute_reply": "2022-07-03T15:03:10.167000Z"
    }
   },
   "outputs": [
    {
     "data": {
      "text/plain": [
       "2×4 Matrix{Float64}:\n",
       " 1.0  3.0  5.0  7.0\n",
       " 2.0  4.0  6.0  8.0"
      ]
     },
     "execution_count": 11,
     "metadata": {},
     "output_type": "execute_result"
    }
   ],
   "source": [
    "OnePiece.tensor.simulate(2, 4)"
   ]
  }
 ],
 "metadata": {
  "@webio": {
   "lastCommId": null,
   "lastKernelId": null
  },
  "kernelspec": {
   "display_name": "Julia 1.7.3",
   "language": "julia",
   "name": "julia-1.7"
  },
  "language_info": {
   "file_extension": ".jl",
   "mimetype": "application/julia",
   "name": "julia",
   "version": "1.7.3"
  }
 },
 "nbformat": 4,
 "nbformat_minor": 5
}
