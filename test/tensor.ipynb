{
 "cells": [
  {
   "cell_type": "code",
   "execution_count": null,
   "id": "baf12f00",
   "metadata": {},
   "outputs": [],
   "source": [
    "#using Revise\n",
    "using OnePiece"
   ]
  },
  {
   "cell_type": "markdown",
   "id": "5fe4cd8c",
   "metadata": {},
   "source": [
    "## cumulate_sum_reverse"
   ]
  },
  {
   "cell_type": "code",
   "execution_count": null,
   "id": "07c92830",
   "metadata": {},
   "outputs": [],
   "source": [
    "OnePiece.tensor.cumulate_sum_reverse(1:10)"
   ]
  },
  {
   "cell_type": "markdown",
   "id": "e8e1905e",
   "metadata": {},
   "source": [
    "## get_area"
   ]
  },
  {
   "cell_type": "code",
   "execution_count": null,
   "id": "c2f4d231",
   "metadata": {},
   "outputs": [],
   "source": [
    "OnePiece.tensor.get_area([-1, 0, 1, 2])"
   ]
  },
  {
   "cell_type": "code",
   "execution_count": null,
   "id": "2a6a1b02",
   "metadata": {},
   "outputs": [],
   "source": [
    "OnePiece.tensor.get_area([-2, -1, 0, 0, 1, 2])"
   ]
  },
  {
   "cell_type": "markdown",
   "id": "be132537",
   "metadata": {},
   "source": [
    "## get_extreme"
   ]
  },
  {
   "cell_type": "code",
   "execution_count": null,
   "id": "4800ccf8",
   "metadata": {},
   "outputs": [],
   "source": [
    "te = [-1, 0, 0, 1, 2]\n",
    "\n",
    "OnePiece.tensor.get_extreme(te)"
   ]
  },
  {
   "cell_type": "code",
   "execution_count": null,
   "id": "7d8a8776",
   "metadata": {},
   "outputs": [],
   "source": [
    "OnePiece.tensor.get_extreme([-maximum(te), te...])"
   ]
  },
  {
   "cell_type": "markdown",
   "id": "fa4b4616",
   "metadata": {},
   "source": [
    "## make_increasing_by_stepping_*"
   ]
  },
  {
   "cell_type": "code",
   "execution_count": null,
   "id": "ecd4ce5c",
   "metadata": {},
   "outputs": [],
   "source": [
    "for ic_ in [[0, 1, 2], [0, 1, 2, 0], [0, 1, 2, 2, 1, 0, 1, 2, 3]]\n",
    "\n",
    "    println(\"-\"^99)\n",
    "\n",
    "    println(ic_)\n",
    "\n",
    "    println(OnePiece.tensor.make_increasing_by_stepping_up!(copy(ic_)))\n",
    "\n",
    "    println(OnePiece.tensor.make_increasing_by_stepping_down!(copy(ic_)))\n",
    "\n",
    "end"
   ]
  },
  {
   "cell_type": "markdown",
   "id": "66affc15",
   "metadata": {},
   "source": [
    "## make_matrix"
   ]
  },
  {
   "cell_type": "code",
   "execution_count": null,
   "id": "b0307043",
   "metadata": {},
   "outputs": [],
   "source": [
    "ro1 = [1, 2, 3]\n",
    "\n",
    "ro2 = [4, 5, 6]\n",
    "\n",
    "OnePiece.tensor.make_matrix(ro1, ro2)"
   ]
  },
  {
   "cell_type": "code",
   "execution_count": null,
   "id": "3a60cb2c",
   "metadata": {},
   "outputs": [],
   "source": [
    "ro1[1] = convert(Float64, ro1[1])\n",
    "\n",
    "OnePiece.tensor.make_matrix(ro1, ro2)"
   ]
  },
  {
   "cell_type": "markdown",
   "id": "d60a26c7",
   "metadata": {},
   "source": [
    "## shift_minimum"
   ]
  },
  {
   "cell_type": "code",
   "execution_count": null,
   "id": "2de669ad",
   "metadata": {},
   "outputs": [],
   "source": [
    "te = collect(-3:3)\n",
    "\n",
    "println(OnePiece.tensor.shift_minimum(te, \"0<\"))\n",
    "\n",
    "for nu in te\n",
    "\n",
    "    println(OnePiece.tensor.shift_minimum(te, nu))\n",
    "\n",
    "end"
   ]
  },
  {
   "cell_type": "markdown",
   "id": "8d236ee2",
   "metadata": {},
   "source": [
    "## simulate"
   ]
  },
  {
   "cell_type": "code",
   "execution_count": null,
   "id": "36da8c56",
   "metadata": {},
   "outputs": [],
   "source": [
    "OnePiece.tensor.simulate(2, 4)"
   ]
  }
 ],
 "metadata": {
  "@webio": {
   "lastCommId": null,
   "lastKernelId": null
  },
  "kernelspec": {
   "display_name": "Julia 1.7.3",
   "language": "julia",
   "name": "julia-1.7"
  },
  "language_info": {
   "file_extension": ".jl",
   "mimetype": "application/julia",
   "name": "julia",
   "version": "1.7.3"
  }
 },
 "nbformat": 4,
 "nbformat_minor": 5
}
