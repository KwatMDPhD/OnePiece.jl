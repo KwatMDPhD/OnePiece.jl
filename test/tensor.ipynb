{
 "cells": [
  {
   "cell_type": "code",
   "execution_count": 1,
   "id": "baf12f00",
   "metadata": {
    "execution": {
     "iopub.execute_input": "2022-07-10T14:27:29.396000Z",
     "iopub.status.busy": "2022-07-10T14:27:29.012000Z",
     "iopub.status.idle": "2022-07-10T14:27:33.902000Z",
     "shell.execute_reply": "2022-07-10T14:27:33.852000Z"
    }
   },
   "outputs": [],
   "source": [
    "using OnePiece"
   ]
  },
  {
   "cell_type": "markdown",
   "id": "81f15bc1",
   "metadata": {},
   "source": [
    "---"
   ]
  },
  {
   "cell_type": "markdown",
   "id": "5fe4cd8c",
   "metadata": {},
   "source": [
    "## cumulate_sum_reverse"
   ]
  },
  {
   "cell_type": "code",
   "execution_count": 2,
   "id": "07c92830",
   "metadata": {
    "execution": {
     "iopub.execute_input": "2022-07-10T14:27:34.377000Z",
     "iopub.status.busy": "2022-07-10T14:27:33.904000Z",
     "iopub.status.idle": "2022-07-10T14:27:35.477000Z",
     "shell.execute_reply": "2022-07-10T14:27:35.477000Z"
    }
   },
   "outputs": [
    {
     "data": {
      "text/plain": [
       "10-element Vector{Int64}:\n",
       " 55\n",
       " 54\n",
       " 52\n",
       " 49\n",
       " 45\n",
       " 40\n",
       " 34\n",
       " 27\n",
       " 19\n",
       " 10"
      ]
     },
     "execution_count": 2,
     "metadata": {},
     "output_type": "execute_result"
    }
   ],
   "source": [
    "OnePiece.tensor.cumulate_sum_reverse(1:10)"
   ]
  },
  {
   "cell_type": "markdown",
   "id": "e8e1905e",
   "metadata": {},
   "source": [
    "## get_area"
   ]
  },
  {
   "cell_type": "code",
   "execution_count": 3,
   "id": "c2f4d231",
   "metadata": {
    "execution": {
     "iopub.execute_input": "2022-07-10T14:27:35.481000Z",
     "iopub.status.busy": "2022-07-10T14:27:35.481000Z",
     "iopub.status.idle": "2022-07-10T14:27:35.664000Z",
     "shell.execute_reply": "2022-07-10T14:27:35.663000Z"
    }
   },
   "outputs": [
    {
     "data": {
      "text/plain": [
       "0.5"
      ]
     },
     "execution_count": 3,
     "metadata": {},
     "output_type": "execute_result"
    }
   ],
   "source": [
    "OnePiece.tensor.get_area([-1, 0, 1, 2])"
   ]
  },
  {
   "cell_type": "code",
   "execution_count": 4,
   "id": "2a6a1b02",
   "metadata": {
    "execution": {
     "iopub.execute_input": "2022-07-10T14:27:35.667000Z",
     "iopub.status.busy": "2022-07-10T14:27:35.666000Z",
     "iopub.status.idle": "2022-07-10T14:27:35.668000Z",
     "shell.execute_reply": "2022-07-10T14:27:35.667000Z"
    }
   },
   "outputs": [
    {
     "data": {
      "text/plain": [
       "0.0"
      ]
     },
     "execution_count": 4,
     "metadata": {},
     "output_type": "execute_result"
    }
   ],
   "source": [
    "OnePiece.tensor.get_area([-2, -1, 0, 0, 1, 2])"
   ]
  },
  {
   "cell_type": "markdown",
   "id": "be132537",
   "metadata": {},
   "source": [
    "## get_extreme"
   ]
  },
  {
   "cell_type": "code",
   "execution_count": 5,
   "id": "4800ccf8",
   "metadata": {
    "execution": {
     "iopub.execute_input": "2022-07-10T14:27:35.687000Z",
     "iopub.status.busy": "2022-07-10T14:27:35.687000Z",
     "iopub.status.idle": "2022-07-10T14:27:35.874000Z",
     "shell.execute_reply": "2022-07-10T14:27:35.874000Z"
    }
   },
   "outputs": [
    {
     "data": {
      "text/plain": [
       "2"
      ]
     },
     "execution_count": 5,
     "metadata": {},
     "output_type": "execute_result"
    }
   ],
   "source": [
    "te = [-1, 0, 0, 1, 2]\n",
    "\n",
    "OnePiece.tensor.get_extreme(te)"
   ]
  },
  {
   "cell_type": "code",
   "execution_count": 6,
   "id": "7d8a8776",
   "metadata": {
    "execution": {
     "iopub.execute_input": "2022-07-10T14:27:35.877000Z",
     "iopub.status.busy": "2022-07-10T14:27:35.877000Z",
     "iopub.status.idle": "2022-07-10T14:27:35.895000Z",
     "shell.execute_reply": "2022-07-10T14:27:35.895000Z"
    }
   },
   "outputs": [
    {
     "name": "stdout",
     "output_type": "stream",
     "text": [
      "The minimum and the maximum have the same absolute value.\n"
     ]
    },
    {
     "data": {
      "text/plain": [
       "2"
      ]
     },
     "execution_count": 6,
     "metadata": {},
     "output_type": "execute_result"
    }
   ],
   "source": [
    "OnePiece.tensor.get_extreme([-maximum(te), te...])"
   ]
  },
  {
   "cell_type": "markdown",
   "id": "fa4b4616",
   "metadata": {},
   "source": [
    "## make_increasing_by_stepping_*"
   ]
  },
  {
   "cell_type": "code",
   "execution_count": 7,
   "id": "ecd4ce5c",
   "metadata": {
    "execution": {
     "iopub.execute_input": "2022-07-10T14:27:35.899000Z",
     "iopub.status.busy": "2022-07-10T14:27:35.899000Z",
     "iopub.status.idle": "2022-07-10T14:27:36.101000Z",
     "shell.execute_reply": "2022-07-10T14:27:36.100000Z"
    }
   },
   "outputs": [
    {
     "name": "stdout",
     "output_type": "stream",
     "text": [
      "---------------------------------------------------------------------------------------------------\n",
      "[0, 1, 2]\n",
      "[0, 1, 2]\n",
      "[0, 1, 2]\n",
      "---------------------------------------------------------------------------------------------------\n",
      "[0, 1, 2, 0]\n",
      "[0, 0, 0, 0]\n",
      "[0, 1, 2, 2]\n",
      "---------------------------------------------------------------------------------------------------\n",
      "[0, 1, 2, 2, 1, 0, 1, 2, 3]\n",
      "[0, 0, 0, 0, 0, 0, 1, 2, 3]\n",
      "[0, 1, 2, 2, 2, 2, 2, 2, 3]\n"
     ]
    }
   ],
   "source": [
    "for ic_ in [[0, 1, 2], [0, 1, 2, 0], [0, 1, 2, 2, 1, 0, 1, 2, 3]]\n",
    "\n",
    "    println(\"-\"^99)\n",
    "\n",
    "    println(ic_)\n",
    "\n",
    "    println(OnePiece.tensor.make_increasing_by_stepping_up!(copy(ic_)))\n",
    "\n",
    "    println(OnePiece.tensor.make_increasing_by_stepping_down!(copy(ic_)))\n",
    "\n",
    "end"
   ]
  },
  {
   "cell_type": "markdown",
   "id": "66affc15",
   "metadata": {},
   "source": [
    "## make_matrix"
   ]
  },
  {
   "cell_type": "code",
   "execution_count": 8,
   "id": "b0307043",
   "metadata": {
    "execution": {
     "iopub.execute_input": "2022-07-10T14:27:36.103000Z",
     "iopub.status.busy": "2022-07-10T14:27:36.103000Z",
     "iopub.status.idle": "2022-07-10T14:27:36.450000Z",
     "shell.execute_reply": "2022-07-10T14:27:36.449000Z"
    }
   },
   "outputs": [
    {
     "data": {
      "text/plain": [
       "2×3 Matrix{Int64}:\n",
       " 1  2  3\n",
       " 4  5  6"
      ]
     },
     "execution_count": 8,
     "metadata": {},
     "output_type": "execute_result"
    }
   ],
   "source": [
    "ro1 = [1, 2, 3]\n",
    "\n",
    "ro2 = [4, 5, 6]\n",
    "\n",
    "OnePiece.tensor.make_matrix(ro1, ro2)"
   ]
  },
  {
   "cell_type": "code",
   "execution_count": 9,
   "id": "3a60cb2c",
   "metadata": {
    "execution": {
     "iopub.execute_input": "2022-07-10T14:27:36.453000Z",
     "iopub.status.busy": "2022-07-10T14:27:36.453000Z",
     "iopub.status.idle": "2022-07-10T14:27:36.465000Z",
     "shell.execute_reply": "2022-07-10T14:27:36.464000Z"
    }
   },
   "outputs": [
    {
     "data": {
      "text/plain": [
       "2×3 Matrix{Int64}:\n",
       " 1  2  3\n",
       " 4  5  6"
      ]
     },
     "execution_count": 9,
     "metadata": {},
     "output_type": "execute_result"
    }
   ],
   "source": [
    "ro1[1] = convert(Float64, ro1[1])\n",
    "\n",
    "OnePiece.tensor.make_matrix(ro1, ro2)"
   ]
  },
  {
   "cell_type": "markdown",
   "id": "d60a26c7",
   "metadata": {},
   "source": [
    "## shift_minimum"
   ]
  },
  {
   "cell_type": "code",
   "execution_count": 10,
   "id": "2de669ad",
   "metadata": {
    "execution": {
     "iopub.execute_input": "2022-07-10T14:27:36.468000Z",
     "iopub.status.busy": "2022-07-10T14:27:36.468000Z",
     "iopub.status.idle": "2022-07-10T14:27:36.639000Z",
     "shell.execute_reply": "2022-07-10T14:27:36.639000Z"
    }
   },
   "outputs": [
    {
     "name": "stdout",
     "output_type": "stream",
     "text": [
      "[1, 2, 3, 4, 5, 6, 7]\n",
      "[-3, -2, -1, 0, 1, 2, 3]\n",
      "[-2, -1, 0, 1, 2, 3, 4]\n",
      "[-1, 0, 1, 2, 3, 4, 5]\n",
      "[0, 1, 2, 3, 4, 5, 6]\n",
      "[1, 2, 3, 4, 5, 6, 7]\n",
      "[2, 3, 4, 5, 6, 7, 8]\n",
      "[3, 4, 5, 6, 7, 8, 9]\n"
     ]
    }
   ],
   "source": [
    "te = collect(-3:3)\n",
    "\n",
    "println(OnePiece.tensor.shift_minimum(te, \"0<\"))\n",
    "\n",
    "for nu in te\n",
    "\n",
    "    println(OnePiece.tensor.shift_minimum(te, nu))\n",
    "\n",
    "end"
   ]
  },
  {
   "cell_type": "markdown",
   "id": "8d236ee2",
   "metadata": {},
   "source": [
    "## simulate"
   ]
  },
  {
   "cell_type": "code",
   "execution_count": 11,
   "id": "36da8c56",
   "metadata": {
    "execution": {
     "iopub.execute_input": "2022-07-10T14:27:36.642000Z",
     "iopub.status.busy": "2022-07-10T14:27:36.642000Z",
     "iopub.status.idle": "2022-07-10T14:27:37.034000Z",
     "shell.execute_reply": "2022-07-10T14:27:37.034000Z"
    }
   },
   "outputs": [
    {
     "data": {
      "text/plain": [
       "2×4 Matrix{Float64}:\n",
       " 1.0  3.0  5.0  7.0\n",
       " 2.0  4.0  6.0  8.0"
      ]
     },
     "execution_count": 11,
     "metadata": {},
     "output_type": "execute_result"
    }
   ],
   "source": [
    "OnePiece.tensor.simulate(2, 4)"
   ]
  },
  {
   "cell_type": "markdown",
   "id": "ef0c724a",
   "metadata": {},
   "source": [
    "---"
   ]
  }
 ],
 "metadata": {
  "@webio": {
   "lastCommId": null,
   "lastKernelId": null
  },
  "kernelspec": {
   "display_name": "Julia 1.7.3",
   "language": "julia",
   "name": "julia-1.7"
  },
  "language_info": {
   "file_extension": ".jl",
   "mimetype": "application/julia",
   "name": "julia",
   "version": "1.7.3"
  }
 },
 "nbformat": 4,
 "nbformat_minor": 5
}
