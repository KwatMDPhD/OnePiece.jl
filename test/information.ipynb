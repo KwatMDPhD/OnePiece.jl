{
 "cells": [
  {
   "cell_type": "code",
   "execution_count": 1,
   "id": "baf12f00",
   "metadata": {
    "execution": {
     "iopub.execute_input": "2022-07-13T12:52:18.395000Z",
     "iopub.status.busy": "2022-07-13T12:52:18.043000Z",
     "iopub.status.idle": "2022-07-13T12:52:22.965000Z",
     "shell.execute_reply": "2022-07-13T12:52:22.918000Z"
    }
   },
   "outputs": [],
   "source": [
    "using OnePiece"
   ]
  },
  {
   "cell_type": "markdown",
   "id": "e67f49c7",
   "metadata": {},
   "source": [
    "---"
   ]
  },
  {
   "cell_type": "code",
   "execution_count": 2,
   "id": "3a67204a",
   "metadata": {
    "execution": {
     "iopub.execute_input": "2022-07-13T12:52:23.456000Z",
     "iopub.status.busy": "2022-07-13T12:52:22.967000Z",
     "iopub.status.idle": "2022-07-13T12:52:24.349000Z",
     "shell.execute_reply": "2022-07-13T12:52:24.349000Z"
    }
   },
   "outputs": [],
   "source": [
    "using KernelDensity"
   ]
  },
  {
   "cell_type": "markdown",
   "id": "e8e5cc82",
   "metadata": {},
   "source": [
    "## get_entropy"
   ]
  },
  {
   "cell_type": "code",
   "execution_count": 3,
   "id": "d4ec66a6",
   "metadata": {
    "execution": {
     "iopub.execute_input": "2022-07-13T12:52:24.353000Z",
     "iopub.status.busy": "2022-07-13T12:52:24.352000Z",
     "iopub.status.idle": "2022-07-13T12:52:25.575000Z",
     "shell.execute_reply": "2022-07-13T12:52:25.574000Z"
    }
   },
   "outputs": [
    {
     "data": {
      "text/plain": [
       "10-element Vector{Float64}:\n",
       " 0.0\n",
       " 0.0\n",
       " 0.0\n",
       " 0.0\n",
       " 0.0\n",
       " 0.0\n",
       " 0.0\n",
       " 0.0\n",
       " 0.0\n",
       " 0.0"
      ]
     },
     "execution_count": 3,
     "metadata": {},
     "output_type": "execute_result"
    }
   ],
   "source": [
    "OnePiece.information.get_entropy(zeros(10))"
   ]
  },
  {
   "cell_type": "code",
   "execution_count": 4,
   "id": "0ecc165a",
   "metadata": {
    "execution": {
     "iopub.execute_input": "2022-07-13T12:52:25.578000Z",
     "iopub.status.busy": "2022-07-13T12:52:25.578000Z",
     "iopub.status.idle": "2022-07-13T12:52:25.586000Z",
     "shell.execute_reply": "2022-07-13T12:52:25.586000Z"
    }
   },
   "outputs": [
    {
     "data": {
      "text/plain": [
       "10-element Vector{Float64}:\n",
       " 1.0\n",
       " 1.0\n",
       " 1.0\n",
       " 1.0\n",
       " 1.0\n",
       " 1.0\n",
       " 1.0\n",
       " 1.0\n",
       " 1.0\n",
       " 1.0"
      ]
     },
     "execution_count": 4,
     "metadata": {},
     "output_type": "execute_result"
    }
   ],
   "source": [
    "OnePiece.information.get_entropy(ones(10))"
   ]
  },
  {
   "cell_type": "markdown",
   "id": "ae9c43cc",
   "metadata": {},
   "source": [
    "## get_signal_to_noise_ratio"
   ]
  },
  {
   "cell_type": "code",
   "execution_count": 5,
   "id": "6d6dd82c",
   "metadata": {
    "execution": {
     "iopub.execute_input": "2022-07-13T12:52:25.604000Z",
     "iopub.status.busy": "2022-07-13T12:52:25.603000Z",
     "iopub.status.idle": "2022-07-13T12:52:25.923000Z",
     "shell.execute_reply": "2022-07-13T12:52:25.923000Z"
    }
   },
   "outputs": [
    {
     "name": "stdout",
     "output_type": "stream",
     "text": [
      "-1.6363636363636365\n",
      "0.0\n",
      "4.990009990009989\n",
      "-4.990009990009989\n",
      "-4.999000099990002\n"
     ]
    }
   ],
   "source": [
    "for (te1, te2) in [\n",
    "    (collect(1:3), collect(10:10:30)),\n",
    "    (zeros(3), zeros(3)),\n",
    "    (ones(3), [0.001, 0.001, 0.001]),\n",
    "    ([0.001, 0.001, 0.001], ones(3)),\n",
    "    ([0.001, 0.001, 0.001], [10, 10, 10]),\n",
    "]\n",
    "\n",
    "    println(OnePiece.information.get_signal_to_noise_ratio(te1, te2))\n",
    "\n",
    "end"
   ]
  },
  {
   "cell_type": "markdown",
   "id": "d16246f4",
   "metadata": {},
   "source": [
    "## get_*"
   ]
  },
  {
   "cell_type": "code",
   "execution_count": 6,
   "id": "9a31939f",
   "metadata": {
    "execution": {
     "iopub.execute_input": "2022-07-13T12:52:25.927000Z",
     "iopub.status.busy": "2022-07-13T12:52:25.927000Z",
     "iopub.status.idle": "2022-07-13T12:52:26.124000Z",
     "shell.execute_reply": "2022-07-13T12:52:26.124000Z"
    }
   },
   "outputs": [
    {
     "data": {
      "text/plain": [
       "call_all (generic function with 1 method)"
      ]
     },
     "execution_count": 6,
     "metadata": {},
     "output_type": "execute_result"
    }
   ],
   "source": [
    "function call_all(te1, te2, te)\n",
    "\n",
    "    vcat(\n",
    "        [\n",
    "            fu(te1, te2) for fu in [\n",
    "                OnePiece.information.get_kolmogorov_smirnov_statistic,\n",
    "                OnePiece.information.get_kullback_leibler_divergence,\n",
    "                OnePiece.information.get_thermodynamic_breadth,\n",
    "                OnePiece.information.get_thermodynamic_depth,\n",
    "            ]\n",
    "        ],\n",
    "        [\n",
    "            fu(te1, te2, te) for fu in [\n",
    "                OnePiece.information.get_symmetric_kullback_leibler_divergence,\n",
    "                OnePiece.information.get_antisymmetric_kullback_leibler_divergence,\n",
    "            ]\n",
    "        ],\n",
    "    )\n",
    "\n",
    "end"
   ]
  },
  {
   "cell_type": "code",
   "execution_count": 7,
   "id": "cc6d285f",
   "metadata": {
    "execution": {
     "iopub.execute_input": "2022-07-13T12:52:26.127000Z",
     "iopub.status.busy": "2022-07-13T12:52:26.127000Z",
     "iopub.status.idle": "2022-07-13T12:52:26.637000Z",
     "shell.execute_reply": "2022-07-13T12:52:26.636000Z"
    }
   },
   "outputs": [
    {
     "data": {
      "text/plain": [
       "6-element Vector{String}:\n",
       " \"kolmogorov_smirnov_statistic\"\n",
       " \"kullback_leibler_divergence\"\n",
       " \"thermodynamic_breadth\"\n",
       " \"thermodynamic_depth\"\n",
       " \"symmetric_kullback_leibler_divergence\"\n",
       " \"antisymmetric_kullback_leibler_divergence\""
      ]
     },
     "execution_count": 7,
     "metadata": {},
     "output_type": "execute_result"
    }
   ],
   "source": [
    "name_ = [\n",
    "    \"kolmogorov_smirnov_statistic\",\n",
    "    \"kullback_leibler_divergence\",\n",
    "    \"thermodynamic_breadth\",\n",
    "    \"thermodynamic_depth\",\n",
    "    \"symmetric_kullback_leibler_divergence\",\n",
    "    \"antisymmetric_kullback_leibler_divergence\",\n",
    "]"
   ]
  },
  {
   "cell_type": "code",
   "execution_count": 8,
   "id": "ea87c8a5",
   "metadata": {
    "execution": {
     "iopub.execute_input": "2022-07-13T12:52:26.640000Z",
     "iopub.status.busy": "2022-07-13T12:52:26.640000Z",
     "iopub.status.idle": "2022-07-13T12:52:29.360000Z",
     "shell.execute_reply": "2022-07-13T12:52:29.359000Z"
    }
   },
   "outputs": [
    {
     "name": "stdout",
     "output_type": "stream",
     "text": [
      "Made /Users/kwat/.julia/scratchspaces/1fe83854-81c0-42f7-afc9-71ba9af673ca/OnePiece.html/2022-7-13_12:52:28.198.html.\n",
      "Made /Users/kwat/.julia/scratchspaces/1fe83854-81c0-42f7-afc9-71ba9af673ca/OnePiece.html/2022-7-13_12:52:29.3.html.\n",
      "Made /Users/kwat/.julia/scratchspaces/1fe83854-81c0-42f7-afc9-71ba9af673ca/OnePiece.html/2022-7-13_12:52:29.317.html.\n",
      "Made /Users/kwat/.julia/scratchspaces/1fe83854-81c0-42f7-afc9-71ba9af673ca/OnePiece.html/2022-7-13_12:52:29.335.html.\n"
     ]
    }
   ],
   "source": [
    "for (te1, te2) in [([1, 1, 1], [1, 1, 1]), ([1, 2, 3], [10, 20, 30])]\n",
    "\n",
    "    te = 0.2 * te1 + 0.8 * te2\n",
    "\n",
    "    OnePiece.figure.plot_scatter([te1, te2])\n",
    "\n",
    "    OnePiece.figure.plot_scatter(call_all(te1, te2, te); name_ = name_)\n",
    "\n",
    "end"
   ]
  },
  {
   "cell_type": "code",
   "execution_count": 9,
   "id": "dced1611",
   "metadata": {
    "execution": {
     "iopub.execute_input": "2022-07-13T12:52:29.364000Z",
     "iopub.status.busy": "2022-07-13T12:52:29.364000Z",
     "iopub.status.idle": "2022-07-13T12:52:29.806000Z",
     "shell.execute_reply": "2022-07-13T12:52:29.805000Z"
    }
   },
   "outputs": [
    {
     "data": {
      "text/plain": [
       "100-element Vector{Float64}:\n",
       " 0.3869881389026555\n",
       " 1.3116807633738103\n",
       " 1.5644124329737576\n",
       " 3.4095366075500513\n",
       " 3.6285001270321082\n",
       " 2.1534311230732346\n",
       " 1.752109827963797\n",
       " 2.2377896690571575\n",
       " 0.5549004636056338\n",
       " 3.3199942794751847\n",
       " 2.243832018685112\n",
       " 2.4534321265343535\n",
       " 1.5254728295957687\n",
       " ⋮\n",
       " 2.4403122755531044\n",
       " 3.565323745381027\n",
       " 4.385435048139506\n",
       " 1.4653746495917757\n",
       " 1.0356763289886197\n",
       " 2.214050294035064\n",
       " 4.086997491962243\n",
       " 1.4894974942292805\n",
       " 2.12787766439948\n",
       " 2.3709130578858\n",
       " 3.98895287413153\n",
       " 3.1577064633071563"
      ]
     },
     "execution_count": 9,
     "metadata": {},
     "output_type": "execute_result"
    }
   ],
   "source": [
    "n_po = 100\n",
    "\n",
    "te1 = OnePiece.tensor.shift_minimum(randn(n_po), \"0<\")\n",
    "\n",
    "ve1s = te1 .+ 1\n",
    "\n",
    "te2 = OnePiece.tensor.shift_minimum(randn(n_po), \"0<\")"
   ]
  },
  {
   "cell_type": "code",
   "execution_count": 10,
   "id": "d36500da",
   "metadata": {
    "execution": {
     "iopub.execute_input": "2022-07-13T12:52:29.809000Z",
     "iopub.status.busy": "2022-07-13T12:52:29.809000Z",
     "iopub.status.idle": "2022-07-13T12:52:31.985000Z",
     "shell.execute_reply": "2022-07-13T12:52:31.984000Z"
    }
   },
   "outputs": [
    {
     "name": "stdout",
     "output_type": "stream",
     "text": [
      "Made /Users/kwat/.julia/scratchspaces/1fe83854-81c0-42f7-afc9-71ba9af673ca/OnePiece.html/2022-7-13_12:52:31.349.html.\n",
      "Made /Users/kwat/.julia/scratchspaces/1fe83854-81c0-42f7-afc9-71ba9af673ca/OnePiece.html/2022-7-13_12:52:31.854.html.\n",
      "Made /Users/kwat/.julia/scratchspaces/1fe83854-81c0-42f7-afc9-71ba9af673ca/OnePiece.html/2022-7-13_12:52:31.882.html.\n",
      "Made /Users/kwat/.julia/scratchspaces/1fe83854-81c0-42f7-afc9-71ba9af673ca/OnePiece.html/2022-7-13_12:52:31.936.html.\n",
      "Made /Users/kwat/.julia/scratchspaces/1fe83854-81c0-42f7-afc9-71ba9af673ca/OnePiece.html/2022-7-13_12:52:31.949.html.\n",
      "Made /Users/kwat/.julia/scratchspaces/1fe83854-81c0-42f7-afc9-71ba9af673ca/OnePiece.html/2022-7-13_12:52:31.964.html.\n"
     ]
    }
   ],
   "source": [
    "for (te1, te2) in [(te1, te1), (te1, ve1s), (te1, te2)]\n",
    "\n",
    "    un1 = kde(te1)\n",
    "\n",
    "    un2 = kde(te2)\n",
    "\n",
    "    de1 = un1.density\n",
    "\n",
    "    de2 = un2.density\n",
    "\n",
    "    de3 = 0.2 * de1 + 0.8 * de2\n",
    "\n",
    "    OnePiece.figure.plot_scatter(\n",
    "        [de1, de2],\n",
    "        [collect(un1.x), collect(un2.x)];\n",
    "        layout = Dict(\"yaxis\" => Dict(\"title\" => \"Density\"), \"xaxis\" => Dict(\"title\" => \"Grid\")),\n",
    "    )\n",
    "\n",
    "    OnePiece.figure.plot_scatter(call_all(de1, de2, de3); name_ = name_)\n",
    "\n",
    "end"
   ]
  },
  {
   "cell_type": "markdown",
   "id": "17a78b7c",
   "metadata": {},
   "source": [
    "## get_mutual_information"
   ]
  },
  {
   "cell_type": "markdown",
   "id": "2d698da9",
   "metadata": {},
   "source": [
    "## get_information_coefficient"
   ]
  },
  {
   "cell_type": "code",
   "execution_count": 11,
   "id": "1231a93c",
   "metadata": {
    "execution": {
     "iopub.execute_input": "2022-07-13T12:52:31.989000Z",
     "iopub.status.busy": "2022-07-13T12:52:31.989000Z",
     "iopub.status.idle": "2022-07-13T12:52:33.803000Z",
     "shell.execute_reply": "2022-07-13T12:52:33.802000Z"
    }
   },
   "outputs": [
    {
     "name": "stdout",
     "output_type": "stream",
     "text": [
      "Made /Users/kwat/.julia/scratchspaces/1fe83854-81c0-42f7-afc9-71ba9af673ca/OnePiece.html/2022-7-13_12:52:33.401.html.\n"
     ]
    },
    {
     "data": {
      "text/plain": [
       "Process(`\u001b[4mopen\u001b[24m \u001b[4m/Users/kwat/.julia/scratchspaces/1fe83854-81c0-42f7-afc9-71ba9af673ca/OnePiece.html/2022-7-13_12:52:33.401.html\u001b[24m`, ProcessRunning)"
      ]
     },
     "execution_count": 11,
     "metadata": {},
     "output_type": "execute_result"
    }
   ],
   "source": [
    "te1 = collect(0:10)\n",
    "\n",
    "te2 = collect(0:10:100)\n",
    "\n",
    "bi = kde((te1, te2), npoints = (8, 8))\n",
    "\n",
    "y = collect(bi.y)\n",
    "\n",
    "x = collect(bi.x)\n",
    "\n",
    "z = bi.density\n",
    "\n",
    "OnePiece.figure.plot_heat_map(z, y, x)"
   ]
  },
  {
   "cell_type": "markdown",
   "id": "01570399",
   "metadata": {},
   "source": [
    "---"
   ]
  }
 ],
 "metadata": {
  "@webio": {
   "lastCommId": null,
   "lastKernelId": null
  },
  "kernelspec": {
   "display_name": "Julia 1.7.3",
   "language": "julia",
   "name": "julia-1.7"
  },
  "language_info": {
   "file_extension": ".jl",
   "mimetype": "application/julia",
   "name": "julia",
   "version": "1.7.3"
  }
 },
 "nbformat": 4,
 "nbformat_minor": 5
}
