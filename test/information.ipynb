{
 "cells": [
  {
   "cell_type": "code",
   "execution_count": 1,
   "id": "baf12f00",
   "metadata": {
    "execution": {
     "iopub.execute_input": "2022-07-02T16:50:35.141000Z",
     "iopub.status.busy": "2022-07-02T16:50:34.808000Z",
     "iopub.status.idle": "2022-07-02T16:50:40.485000Z",
     "shell.execute_reply": "2022-07-02T16:50:40.440000Z"
    }
   },
   "outputs": [],
   "source": [
    "using Revise\n",
    "using OnePiece"
   ]
  },
  {
   "cell_type": "markdown",
   "id": "e8e5cc82",
   "metadata": {},
   "source": [
    "## get_entropy"
   ]
  },
  {
   "cell_type": "code",
   "execution_count": 2,
   "id": "d4ec66a6",
   "metadata": {
    "execution": {
     "iopub.execute_input": "2022-07-02T16:50:40.864000Z",
     "iopub.status.busy": "2022-07-02T16:50:40.487000Z",
     "iopub.status.idle": "2022-07-02T16:50:42.817000Z",
     "shell.execute_reply": "2022-07-02T16:50:42.817000Z"
    }
   },
   "outputs": [
    {
     "data": {
      "text/plain": [
       "10-element Vector{Float64}:\n",
       " 0.0\n",
       " 0.0\n",
       " 0.0\n",
       " 0.0\n",
       " 0.0\n",
       " 0.0\n",
       " 0.0\n",
       " 0.0\n",
       " 0.0\n",
       " 0.0"
      ]
     },
     "execution_count": 2,
     "metadata": {},
     "output_type": "execute_result"
    }
   ],
   "source": [
    "OnePiece.information.get_entropy(zeros(10))"
   ]
  },
  {
   "cell_type": "code",
   "execution_count": 3,
   "id": "0ecc165a",
   "metadata": {
    "execution": {
     "iopub.execute_input": "2022-07-02T16:50:42.820000Z",
     "iopub.status.busy": "2022-07-02T16:50:42.820000Z",
     "iopub.status.idle": "2022-07-02T16:50:42.844000Z",
     "shell.execute_reply": "2022-07-02T16:50:42.844000Z"
    }
   },
   "outputs": [
    {
     "data": {
      "text/plain": [
       "10-element Vector{Float64}:\n",
       " 1.0\n",
       " 1.0\n",
       " 1.0\n",
       " 1.0\n",
       " 1.0\n",
       " 1.0\n",
       " 1.0\n",
       " 1.0\n",
       " 1.0\n",
       " 1.0"
      ]
     },
     "execution_count": 3,
     "metadata": {},
     "output_type": "execute_result"
    }
   ],
   "source": [
    "OnePiece.information.get_entropy(ones(10))"
   ]
  },
  {
   "cell_type": "markdown",
   "id": "ae9c43cc",
   "metadata": {},
   "source": [
    "## get_signal_to_noise_ratio"
   ]
  },
  {
   "cell_type": "code",
   "execution_count": 4,
   "id": "6d6dd82c",
   "metadata": {
    "execution": {
     "iopub.execute_input": "2022-07-02T16:50:42.847000Z",
     "iopub.status.busy": "2022-07-02T16:50:42.847000Z",
     "iopub.status.idle": "2022-07-02T16:50:43.181000Z",
     "shell.execute_reply": "2022-07-02T16:50:43.181000Z"
    }
   },
   "outputs": [
    {
     "name": "stdout",
     "output_type": "stream",
     "text": [
      "-1.6363636363636365\n",
      "0.0\n",
      "4.990009990009989\n",
      "-4.990009990009989\n",
      "-4.999000099990002\n"
     ]
    }
   ],
   "source": [
    "for (te1, te2) in [\n",
    "    (collect(1:3), collect(10:10:30)),\n",
    "    (zeros(3), zeros(3)),\n",
    "    (ones(3), [0.001, 0.001, 0.001]),\n",
    "    ([0.001, 0.001, 0.001], ones(3)),\n",
    "    ([0.001, 0.001, 0.001], [10, 10, 10]),\n",
    "]\n",
    "\n",
    "    println(OnePiece.information.get_signal_to_noise_ratio(te1, te2))\n",
    "\n",
    "end"
   ]
  },
  {
   "cell_type": "markdown",
   "id": "d16246f4",
   "metadata": {},
   "source": [
    "## get_*"
   ]
  },
  {
   "cell_type": "code",
   "execution_count": 5,
   "id": "9a31939f",
   "metadata": {
    "execution": {
     "iopub.execute_input": "2022-07-02T16:50:43.185000Z",
     "iopub.status.busy": "2022-07-02T16:50:43.185000Z",
     "iopub.status.idle": "2022-07-02T16:50:43.388000Z",
     "shell.execute_reply": "2022-07-02T16:50:43.388000Z"
    }
   },
   "outputs": [
    {
     "data": {
      "text/plain": [
       "call_all (generic function with 1 method)"
      ]
     },
     "execution_count": 5,
     "metadata": {},
     "output_type": "execute_result"
    }
   ],
   "source": [
    "function call_all(te1, te2, te)\n",
    "\n",
    "    vcat(\n",
    "        [\n",
    "            fu(te1, te2) for fu in [\n",
    "                OnePiece.information.get_kolmogorov_smirnov_statistic,\n",
    "                OnePiece.information.get_kullback_leibler_divergence,\n",
    "                OnePiece.information.get_thermodynamic_breadth,\n",
    "                OnePiece.information.get_thermodynamic_depth,\n",
    "            ]\n",
    "        ],\n",
    "        [\n",
    "            fu(te1, te2, te) for fu in [\n",
    "                OnePiece.information.get_jensen_shannon_divergence,\n",
    "                OnePiece.information.get_kwat_pablo_divergence,\n",
    "            ]\n",
    "        ],\n",
    "    )\n",
    "\n",
    "end"
   ]
  },
  {
   "cell_type": "code",
   "execution_count": 6,
   "id": "ea87c8a5",
   "metadata": {
    "execution": {
     "iopub.execute_input": "2022-07-02T16:50:43.391000Z",
     "iopub.status.busy": "2022-07-02T16:50:43.391000Z",
     "iopub.status.idle": "2022-07-02T16:50:45.148000Z",
     "shell.execute_reply": "2022-07-02T16:50:45.148000Z"
    }
   },
   "outputs": [
    {
     "name": "stdout",
     "output_type": "stream",
     "text": [
      "Made /Users/kwat/.julia/scratchspaces/1fe83854-81c0-42f7-afc9-71ba9af673ca/OnePiece.html/scratch.html.\n",
      "Made /Users/kwat/.julia/scratchspaces/1fe83854-81c0-42f7-afc9-71ba9af673ca/OnePiece.html/scratch.html.\n",
      "Made /Users/kwat/.julia/scratchspaces/1fe83854-81c0-42f7-afc9-71ba9af673ca/OnePiece.html/scratch.html.\n",
      "Made /Users/kwat/.julia/scratchspaces/1fe83854-81c0-42f7-afc9-71ba9af673ca/OnePiece.html/scratch.html.\n"
     ]
    }
   ],
   "source": [
    "name_ = [\n",
    "    \"kolmogorov_smirnov_statistic\",\n",
    "    \"kullback_leibler_divergence\",\n",
    "    \"thermodynamic_breadth\",\n",
    "    \"thermodynamic_depth\",\n",
    "    \"jensen_shannon_divergence\",\n",
    "    \"kwat_pablo_divergence\",\n",
    "]\n",
    "\n",
    "for (te1, te2) in [([1, 1, 1], [1, 1, 1]), ([1, 2, 3], [10, 20, 30])]\n",
    "\n",
    "    te = 0.2 * te1 + 0.8 * te2\n",
    "\n",
    "    OnePiece.figure.plot_x_y([te1, te2])\n",
    "\n",
    "    OnePiece.figure.plot_x_y(call_all(te1, te2, te); name_ = name_)\n",
    "\n",
    "end"
   ]
  },
  {
   "cell_type": "code",
   "execution_count": 7,
   "id": "dced1611",
   "metadata": {
    "execution": {
     "iopub.execute_input": "2022-07-02T16:50:45.151000Z",
     "iopub.status.busy": "2022-07-02T16:50:45.151000Z",
     "iopub.status.idle": "2022-07-02T16:50:45.460000Z",
     "shell.execute_reply": "2022-07-02T16:50:45.459000Z"
    }
   },
   "outputs": [
    {
     "data": {
      "text/plain": [
       "100-element Vector{Float64}:\n",
       " 1.4390056853984214\n",
       " 0.36454129437370275\n",
       " 2.554858552340219\n",
       " 0.7093840336522523\n",
       " 2.2541406103833594\n",
       " 2.903260442150564\n",
       " 1.1650887947886333\n",
       " 2.1406319022183897\n",
       " 3.3062717007682374\n",
       " 2.535406423262892\n",
       " 4.575526323430835\n",
       " 0.45332363430348055\n",
       " 1.738711837572514\n",
       " ⋮\n",
       " 3.941341789905393\n",
       " 3.7744976539023485\n",
       " 1.4621004064939063\n",
       " 2.7078291668711643\n",
       " 3.6890346349178857\n",
       " 2.9891666551482143\n",
       " 3.0943130876437848\n",
       " 3.7898058967500017\n",
       " 2.9370507039572824\n",
       " 0.041834808496024056\n",
       " 1.4706814896667741\n",
       " 2.664090678157458"
      ]
     },
     "execution_count": 7,
     "metadata": {},
     "output_type": "execute_result"
    }
   ],
   "source": [
    "n_po = 100\n",
    "\n",
    "te1 = OnePiece.tensor.shift_minimum(randn(n_po), \"0<\")\n",
    "\n",
    "ve1s = te1 .+ 1\n",
    "\n",
    "te2 = OnePiece.tensor.shift_minimum(randn(n_po), \"0<\")"
   ]
  },
  {
   "cell_type": "code",
   "execution_count": 8,
   "id": "92f5ce31",
   "metadata": {
    "execution": {
     "iopub.execute_input": "2022-07-02T16:50:45.462000Z",
     "iopub.status.busy": "2022-07-02T16:50:45.462000Z",
     "iopub.status.idle": "2022-07-02T16:50:46.413000Z",
     "shell.execute_reply": "2022-07-02T16:50:46.413000Z"
    }
   },
   "outputs": [],
   "source": [
    "using KernelDensity"
   ]
  },
  {
   "cell_type": "code",
   "execution_count": 9,
   "id": "d36500da",
   "metadata": {
    "execution": {
     "iopub.execute_input": "2022-07-02T16:50:46.415000Z",
     "iopub.status.busy": "2022-07-02T16:50:46.415000Z",
     "iopub.status.idle": "2022-07-02T16:50:47.854000Z",
     "shell.execute_reply": "2022-07-02T16:50:47.853000Z"
    }
   },
   "outputs": [
    {
     "name": "stdout",
     "output_type": "stream",
     "text": [
      "Made /Users/kwat/.julia/scratchspaces/1fe83854-81c0-42f7-afc9-71ba9af673ca/OnePiece.html/scratch.html.\n",
      "Made /Users/kwat/.julia/scratchspaces/1fe83854-81c0-42f7-afc9-71ba9af673ca/OnePiece.html/scratch.html.\n",
      "Made /Users/kwat/.julia/scratchspaces/1fe83854-81c0-42f7-afc9-71ba9af673ca/OnePiece.html/scratch.html.\n",
      "Made /Users/kwat/.julia/scratchspaces/1fe83854-81c0-42f7-afc9-71ba9af673ca/OnePiece.html/scratch.html.\n",
      "Made /Users/kwat/.julia/scratchspaces/1fe83854-81c0-42f7-afc9-71ba9af673ca/OnePiece.html/scratch.html.\n",
      "Made /Users/kwat/.julia/scratchspaces/1fe83854-81c0-42f7-afc9-71ba9af673ca/OnePiece.html/scratch.html.\n"
     ]
    }
   ],
   "source": [
    "for (te1, te2) in [(te1, te1), (te1, ve1s), (te1, te2)]\n",
    "\n",
    "    un1 = kde(te1)\n",
    "\n",
    "    un2 = kde(te2)\n",
    "\n",
    "    de1 = un1.density\n",
    "\n",
    "    de2 = un2.density\n",
    "\n",
    "    de3 = 0.2 * de1 + 0.8 * de2\n",
    "\n",
    "    OnePiece.figure.plot_x_y(\n",
    "        [de1, de2],\n",
    "        [collect(un1.x), collect(un2.x)];\n",
    "        la = Dict(\"yaxis\" => Dict(\"title\" => \"Density\"), \"xaxis\" => Dict(\"title\" => \"Grid\")),\n",
    "    )\n",
    "\n",
    "    OnePiece.figure.plot_x_y(call_all(de1, de2, de3); name_ = name_)\n",
    "\n",
    "end"
   ]
  },
  {
   "cell_type": "markdown",
   "id": "17a78b7c",
   "metadata": {},
   "source": [
    "## get_information_coefficient"
   ]
  },
  {
   "cell_type": "code",
   "execution_count": 10,
   "id": "1231a93c",
   "metadata": {
    "execution": {
     "iopub.execute_input": "2022-07-02T16:50:47.857000Z",
     "iopub.status.busy": "2022-07-02T16:50:47.856000Z",
     "iopub.status.idle": "2022-07-02T16:50:49.085000Z",
     "shell.execute_reply": "2022-07-02T16:50:49.085000Z"
    }
   },
   "outputs": [
    {
     "name": "stdout",
     "output_type": "stream",
     "text": [
      "Made /Users/kwat/.julia/scratchspaces/1fe83854-81c0-42f7-afc9-71ba9af673ca/OnePiece.html/scratch.html.\n"
     ]
    },
    {
     "data": {
      "text/plain": [
       "\"/Users/kwat/.julia/scratchspaces/1fe83854-81c0-42f7-afc9-71ba9af673ca/OnePiece.html/scratch.html\""
      ]
     },
     "execution_count": 10,
     "metadata": {},
     "output_type": "execute_result"
    }
   ],
   "source": [
    "te1 = collect(0:10)\n",
    "\n",
    "te2 = collect(0:10:100)\n",
    "\n",
    "bi = kde((te1, te2), npoints = (8, 8))\n",
    "\n",
    "y = collect(bi.y)\n",
    "\n",
    "x = collect(bi.x)\n",
    "\n",
    "z = bi.density\n",
    "\n",
    "OnePiece.figure.plot_heat_map(z, y, x)"
   ]
  }
 ],
 "metadata": {
  "@webio": {
   "lastCommId": null,
   "lastKernelId": null
  },
  "kernelspec": {
   "display_name": "Julia 1.7.3",
   "language": "julia",
   "name": "julia-1.7"
  },
  "language_info": {
   "file_extension": ".jl",
   "mimetype": "application/julia",
   "name": "julia",
   "version": "1.7.3"
  }
 },
 "nbformat": 4,
 "nbformat_minor": 5
}
