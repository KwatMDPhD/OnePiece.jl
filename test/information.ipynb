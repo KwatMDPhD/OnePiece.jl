{
 "cells": [
  {
   "cell_type": "code",
   "execution_count": 1,
   "id": "baf12f00",
   "metadata": {
    "execution": {
     "iopub.execute_input": "2022-07-07T21:59:59.295000Z",
     "iopub.status.busy": "2022-07-07T21:59:58.970000Z",
     "iopub.status.idle": "2022-07-07T22:00:03.540000Z",
     "shell.execute_reply": "2022-07-07T22:00:03.495000Z"
    }
   },
   "outputs": [],
   "source": [
    "using OnePiece"
   ]
  },
  {
   "cell_type": "markdown",
   "id": "e67f49c7",
   "metadata": {},
   "source": [
    "---"
   ]
  },
  {
   "cell_type": "markdown",
   "id": "e8e5cc82",
   "metadata": {},
   "source": [
    "## get_entropy"
   ]
  },
  {
   "cell_type": "code",
   "execution_count": 2,
   "id": "d4ec66a6",
   "metadata": {
    "execution": {
     "iopub.execute_input": "2022-07-07T22:00:03.950000Z",
     "iopub.status.busy": "2022-07-07T22:00:03.542000Z",
     "iopub.status.idle": "2022-07-07T22:00:05.095000Z",
     "shell.execute_reply": "2022-07-07T22:00:05.094000Z"
    }
   },
   "outputs": [
    {
     "data": {
      "text/plain": [
       "10-element Vector{Float64}:\n",
       " 0.0\n",
       " 0.0\n",
       " 0.0\n",
       " 0.0\n",
       " 0.0\n",
       " 0.0\n",
       " 0.0\n",
       " 0.0\n",
       " 0.0\n",
       " 0.0"
      ]
     },
     "execution_count": 2,
     "metadata": {},
     "output_type": "execute_result"
    }
   ],
   "source": [
    "OnePiece.information.get_entropy(zeros(10))"
   ]
  },
  {
   "cell_type": "code",
   "execution_count": 3,
   "id": "0ecc165a",
   "metadata": {
    "execution": {
     "iopub.execute_input": "2022-07-07T22:00:05.098000Z",
     "iopub.status.busy": "2022-07-07T22:00:05.098000Z",
     "iopub.status.idle": "2022-07-07T22:00:05.105000Z",
     "shell.execute_reply": "2022-07-07T22:00:05.105000Z"
    }
   },
   "outputs": [
    {
     "data": {
      "text/plain": [
       "10-element Vector{Float64}:\n",
       " 1.0\n",
       " 1.0\n",
       " 1.0\n",
       " 1.0\n",
       " 1.0\n",
       " 1.0\n",
       " 1.0\n",
       " 1.0\n",
       " 1.0\n",
       " 1.0"
      ]
     },
     "execution_count": 3,
     "metadata": {},
     "output_type": "execute_result"
    }
   ],
   "source": [
    "OnePiece.information.get_entropy(ones(10))"
   ]
  },
  {
   "cell_type": "markdown",
   "id": "ae9c43cc",
   "metadata": {},
   "source": [
    "## get_signal_to_noise_ratio"
   ]
  },
  {
   "cell_type": "code",
   "execution_count": 4,
   "id": "6d6dd82c",
   "metadata": {
    "execution": {
     "iopub.execute_input": "2022-07-07T22:00:05.127000Z",
     "iopub.status.busy": "2022-07-07T22:00:05.127000Z",
     "iopub.status.idle": "2022-07-07T22:00:05.429000Z",
     "shell.execute_reply": "2022-07-07T22:00:05.429000Z"
    }
   },
   "outputs": [
    {
     "name": "stdout",
     "output_type": "stream",
     "text": [
      "-1.6363636363636365\n",
      "0.0\n",
      "4.990009990009989\n",
      "-4.990009990009989\n",
      "-4.999000099990002\n"
     ]
    }
   ],
   "source": [
    "for (te1, te2) in [\n",
    "    (collect(1:3), collect(10:10:30)),\n",
    "    (zeros(3), zeros(3)),\n",
    "    (ones(3), [0.001, 0.001, 0.001]),\n",
    "    ([0.001, 0.001, 0.001], ones(3)),\n",
    "    ([0.001, 0.001, 0.001], [10, 10, 10]),\n",
    "]\n",
    "\n",
    "    println(OnePiece.information.get_signal_to_noise_ratio(te1, te2))\n",
    "\n",
    "end"
   ]
  },
  {
   "cell_type": "markdown",
   "id": "d16246f4",
   "metadata": {},
   "source": [
    "## get_*"
   ]
  },
  {
   "cell_type": "code",
   "execution_count": 5,
   "id": "9a31939f",
   "metadata": {
    "execution": {
     "iopub.execute_input": "2022-07-07T22:00:05.433000Z",
     "iopub.status.busy": "2022-07-07T22:00:05.433000Z",
     "iopub.status.idle": "2022-07-07T22:00:05.613000Z",
     "shell.execute_reply": "2022-07-07T22:00:05.613000Z"
    }
   },
   "outputs": [
    {
     "data": {
      "text/plain": [
       "call_all (generic function with 1 method)"
      ]
     },
     "execution_count": 5,
     "metadata": {},
     "output_type": "execute_result"
    }
   ],
   "source": [
    "function call_all(te1, te2, te)\n",
    "\n",
    "    vcat(\n",
    "        [\n",
    "            fu(te1, te2) for fu in [\n",
    "                OnePiece.information.get_kolmogorov_smirnov_statistic,\n",
    "                OnePiece.information.get_kullback_leibler_divergence,\n",
    "                OnePiece.information.get_thermodynamic_breadth,\n",
    "                OnePiece.information.get_thermodynamic_depth,\n",
    "            ]\n",
    "        ],\n",
    "        [\n",
    "            fu(te1, te2, te) for fu in [\n",
    "                OnePiece.information.get_jensen_shannon_divergence,\n",
    "                OnePiece.information.get_kwat_pablo_divergence,\n",
    "            ]\n",
    "        ],\n",
    "    )\n",
    "\n",
    "end"
   ]
  },
  {
   "cell_type": "code",
   "execution_count": 6,
   "id": "ea87c8a5",
   "metadata": {
    "execution": {
     "iopub.execute_input": "2022-07-07T22:00:05.616000Z",
     "iopub.status.busy": "2022-07-07T22:00:05.616000Z",
     "iopub.status.idle": "2022-07-07T22:00:07.613000Z",
     "shell.execute_reply": "2022-07-07T22:00:07.612000Z"
    }
   },
   "outputs": [
    {
     "name": "stdout",
     "output_type": "stream",
     "text": [
      "Made /Users/kwat/.julia/scratchspaces/1fe83854-81c0-42f7-afc9-71ba9af673ca/OnePiece.html/2022-7-7_22:0:6.686.html.\n",
      "Made /Users/kwat/.julia/scratchspaces/1fe83854-81c0-42f7-afc9-71ba9af673ca/OnePiece.html/2022-7-7_22:0:7.581.html.\n",
      "Made /Users/kwat/.julia/scratchspaces/1fe83854-81c0-42f7-afc9-71ba9af673ca/OnePiece.html/2022-7-7_22:0:7.589.html.\n",
      "Made /Users/kwat/.julia/scratchspaces/1fe83854-81c0-42f7-afc9-71ba9af673ca/OnePiece.html/2022-7-7_22:0:7.6.html.\n"
     ]
    }
   ],
   "source": [
    "name_ = [\n",
    "    \"kolmogorov_smirnov_statistic\",\n",
    "    \"kullback_leibler_divergence\",\n",
    "    \"thermodynamic_breadth\",\n",
    "    \"thermodynamic_depth\",\n",
    "    \"jensen_shannon_divergence\",\n",
    "    \"kwat_pablo_divergence\",\n",
    "]\n",
    "\n",
    "for (te1, te2) in [([1, 1, 1], [1, 1, 1]), ([1, 2, 3], [10, 20, 30])]\n",
    "\n",
    "    te = 0.2 * te1 + 0.8 * te2\n",
    "\n",
    "    OnePiece.figure.plot_x_y([te1, te2])\n",
    "\n",
    "    OnePiece.figure.plot_x_y(call_all(te1, te2, te); name_ = name_)\n",
    "\n",
    "end"
   ]
  },
  {
   "cell_type": "code",
   "execution_count": 7,
   "id": "dced1611",
   "metadata": {
    "execution": {
     "iopub.execute_input": "2022-07-07T22:00:07.616000Z",
     "iopub.status.busy": "2022-07-07T22:00:07.616000Z",
     "iopub.status.idle": "2022-07-07T22:00:08.034000Z",
     "shell.execute_reply": "2022-07-07T22:00:08.034000Z"
    }
   },
   "outputs": [
    {
     "data": {
      "text/plain": [
       "100-element Vector{Float64}:\n",
       " 3.5428269297234243\n",
       " 2.2838210924820372\n",
       " 3.5577645964749465\n",
       " 3.218447792770358\n",
       " 3.3467787325971914\n",
       " 4.518964975550388\n",
       " 3.480404907442684\n",
       " 4.434608775595889\n",
       " 0.49710152428854837\n",
       " 1.456443748384843\n",
       " 3.3888376881392075\n",
       " 3.4766029679790904\n",
       " 2.3914841353771874\n",
       " ⋮\n",
       " 3.8983617670763793\n",
       " 2.697742543552154\n",
       " 3.730495197422095\n",
       " 3.31898238148295\n",
       " 1.5996386779256972\n",
       " 3.8556309711826726\n",
       " 2.948787508525406\n",
       " 1.0555168142809512\n",
       " 0.9747959299372249\n",
       " 1.9066852796597709\n",
       " 2.5783250524691064\n",
       " 2.530589532668463"
      ]
     },
     "execution_count": 7,
     "metadata": {},
     "output_type": "execute_result"
    }
   ],
   "source": [
    "n_po = 100\n",
    "\n",
    "te1 = OnePiece.tensor.shift_minimum(randn(n_po), \"0<\")\n",
    "\n",
    "ve1s = te1 .+ 1\n",
    "\n",
    "te2 = OnePiece.tensor.shift_minimum(randn(n_po), \"0<\")"
   ]
  },
  {
   "cell_type": "code",
   "execution_count": 8,
   "id": "92f5ce31",
   "metadata": {
    "execution": {
     "iopub.execute_input": "2022-07-07T22:00:08.037000Z",
     "iopub.status.busy": "2022-07-07T22:00:08.037000Z",
     "iopub.status.idle": "2022-07-07T22:00:08.974000Z",
     "shell.execute_reply": "2022-07-07T22:00:08.973000Z"
    }
   },
   "outputs": [],
   "source": [
    "using KernelDensity"
   ]
  },
  {
   "cell_type": "code",
   "execution_count": 9,
   "id": "d36500da",
   "metadata": {
    "execution": {
     "iopub.execute_input": "2022-07-07T22:00:08.976000Z",
     "iopub.status.busy": "2022-07-07T22:00:08.976000Z",
     "iopub.status.idle": "2022-07-07T22:00:10.619000Z",
     "shell.execute_reply": "2022-07-07T22:00:10.619000Z"
    }
   },
   "outputs": [
    {
     "name": "stdout",
     "output_type": "stream",
     "text": [
      "Made /Users/kwat/.julia/scratchspaces/1fe83854-81c0-42f7-afc9-71ba9af673ca/OnePiece.html/2022-7-7_22:0:10.124.html.\n",
      "Made /Users/kwat/.julia/scratchspaces/1fe83854-81c0-42f7-afc9-71ba9af673ca/OnePiece.html/2022-7-7_22:0:10.548.html.\n",
      "Made /Users/kwat/.julia/scratchspaces/1fe83854-81c0-42f7-afc9-71ba9af673ca/OnePiece.html/2022-7-7_22:0:10.571.html.\n",
      "Made /Users/kwat/.julia/scratchspaces/1fe83854-81c0-42f7-afc9-71ba9af673ca/OnePiece.html/2022-7-7_22:0:10.58.html.\n",
      "Made /Users/kwat/.julia/scratchspaces/1fe83854-81c0-42f7-afc9-71ba9af673ca/OnePiece.html/2022-7-7_22:0:10.592.html.\n",
      "Made /Users/kwat/.julia/scratchspaces/1fe83854-81c0-42f7-afc9-71ba9af673ca/OnePiece.html/2022-7-7_22:0:10.603.html.\n"
     ]
    }
   ],
   "source": [
    "for (te1, te2) in [(te1, te1), (te1, ve1s), (te1, te2)]\n",
    "\n",
    "    un1 = kde(te1)\n",
    "\n",
    "    un2 = kde(te2)\n",
    "\n",
    "    de1 = un1.density\n",
    "\n",
    "    de2 = un2.density\n",
    "\n",
    "    de3 = 0.2 * de1 + 0.8 * de2\n",
    "\n",
    "    OnePiece.figure.plot_x_y(\n",
    "        [de1, de2],\n",
    "        [collect(un1.x), collect(un2.x)];\n",
    "        la = Dict(\"yaxis\" => Dict(\"title\" => \"Density\"), \"xaxis\" => Dict(\"title\" => \"Grid\")),\n",
    "    )\n",
    "\n",
    "    OnePiece.figure.plot_x_y(call_all(de1, de2, de3); name_ = name_)\n",
    "\n",
    "end"
   ]
  },
  {
   "cell_type": "markdown",
   "id": "17a78b7c",
   "metadata": {},
   "source": [
    "## get_information_coefficient"
   ]
  },
  {
   "cell_type": "code",
   "execution_count": 10,
   "id": "1231a93c",
   "metadata": {
    "execution": {
     "iopub.execute_input": "2022-07-07T22:00:10.625000Z",
     "iopub.status.busy": "2022-07-07T22:00:10.625000Z",
     "iopub.status.idle": "2022-07-07T22:00:12.431000Z",
     "shell.execute_reply": "2022-07-07T22:00:12.431000Z"
    }
   },
   "outputs": [
    {
     "name": "stdout",
     "output_type": "stream",
     "text": [
      "Made /Users/kwat/.julia/scratchspaces/1fe83854-81c0-42f7-afc9-71ba9af673ca/OnePiece.html/2022-7-7_22:0:11.945.html.\n"
     ]
    },
    {
     "data": {
      "text/plain": [
       "Process(`\u001b[4mopen\u001b[24m \u001b[4m/Users/kwat/.julia/scratchspaces/1fe83854-81c0-42f7-afc9-71ba9af673ca/OnePiece.html/2022-7-7_22:0:11.945.html\u001b[24m`, ProcessRunning)"
      ]
     },
     "execution_count": 10,
     "metadata": {},
     "output_type": "execute_result"
    }
   ],
   "source": [
    "te1 = collect(0:10)\n",
    "\n",
    "te2 = collect(0:10:100)\n",
    "\n",
    "bi = kde((te1, te2), npoints = (8, 8))\n",
    "\n",
    "y = collect(bi.y)\n",
    "\n",
    "x = collect(bi.x)\n",
    "\n",
    "z = bi.density\n",
    "\n",
    "OnePiece.figure.plot_heat_map(z, y, x)"
   ]
  },
  {
   "cell_type": "markdown",
   "id": "01570399",
   "metadata": {},
   "source": [
    "---"
   ]
  }
 ],
 "metadata": {
  "@webio": {
   "lastCommId": null,
   "lastKernelId": null
  },
  "kernelspec": {
   "display_name": "Julia 1.7.3",
   "language": "julia",
   "name": "julia-1.7"
  },
  "language_info": {
   "file_extension": ".jl",
   "mimetype": "application/julia",
   "name": "julia",
   "version": "1.7.3"
  }
 },
 "nbformat": 4,
 "nbformat_minor": 5
}
