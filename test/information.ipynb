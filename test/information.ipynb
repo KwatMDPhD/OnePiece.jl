{
 "cells": [
  {
   "cell_type": "code",
   "execution_count": 1,
   "id": "baf12f00",
   "metadata": {
    "execution": {
     "iopub.execute_input": "2022-07-07T21:25:31.447000Z",
     "iopub.status.busy": "2022-07-07T21:25:31.116000Z",
     "iopub.status.idle": "2022-07-07T21:25:35.676000Z",
     "shell.execute_reply": "2022-07-07T21:25:35.630000Z"
    }
   },
   "outputs": [],
   "source": [
    "using OnePiece"
   ]
  },
  {
   "cell_type": "markdown",
   "id": "e67f49c7",
   "metadata": {},
   "source": [
    "---"
   ]
  },
  {
   "cell_type": "markdown",
   "id": "e8e5cc82",
   "metadata": {},
   "source": [
    "## get_entropy"
   ]
  },
  {
   "cell_type": "code",
   "execution_count": 2,
   "id": "d4ec66a6",
   "metadata": {
    "execution": {
     "iopub.execute_input": "2022-07-07T21:25:36.085000Z",
     "iopub.status.busy": "2022-07-07T21:25:35.678000Z",
     "iopub.status.idle": "2022-07-07T21:25:37.215000Z",
     "shell.execute_reply": "2022-07-07T21:25:37.214000Z"
    }
   },
   "outputs": [
    {
     "data": {
      "text/plain": [
       "10-element Vector{Float64}:\n",
       " 0.0\n",
       " 0.0\n",
       " 0.0\n",
       " 0.0\n",
       " 0.0\n",
       " 0.0\n",
       " 0.0\n",
       " 0.0\n",
       " 0.0\n",
       " 0.0"
      ]
     },
     "execution_count": 2,
     "metadata": {},
     "output_type": "execute_result"
    }
   ],
   "source": [
    "OnePiece.information.get_entropy(zeros(10))"
   ]
  },
  {
   "cell_type": "code",
   "execution_count": 3,
   "id": "0ecc165a",
   "metadata": {
    "execution": {
     "iopub.execute_input": "2022-07-07T21:25:37.218000Z",
     "iopub.status.busy": "2022-07-07T21:25:37.218000Z",
     "iopub.status.idle": "2022-07-07T21:25:37.226000Z",
     "shell.execute_reply": "2022-07-07T21:25:37.225000Z"
    }
   },
   "outputs": [
    {
     "data": {
      "text/plain": [
       "10-element Vector{Float64}:\n",
       " 1.0\n",
       " 1.0\n",
       " 1.0\n",
       " 1.0\n",
       " 1.0\n",
       " 1.0\n",
       " 1.0\n",
       " 1.0\n",
       " 1.0\n",
       " 1.0"
      ]
     },
     "execution_count": 3,
     "metadata": {},
     "output_type": "execute_result"
    }
   ],
   "source": [
    "OnePiece.information.get_entropy(ones(10))"
   ]
  },
  {
   "cell_type": "markdown",
   "id": "ae9c43cc",
   "metadata": {},
   "source": [
    "## get_signal_to_noise_ratio"
   ]
  },
  {
   "cell_type": "code",
   "execution_count": 4,
   "id": "6d6dd82c",
   "metadata": {
    "execution": {
     "iopub.execute_input": "2022-07-07T21:25:37.243000Z",
     "iopub.status.busy": "2022-07-07T21:25:37.243000Z",
     "iopub.status.idle": "2022-07-07T21:25:37.547000Z",
     "shell.execute_reply": "2022-07-07T21:25:37.547000Z"
    }
   },
   "outputs": [
    {
     "name": "stdout",
     "output_type": "stream",
     "text": [
      "-1.6363636363636365\n",
      "0.0\n",
      "4.990009990009989\n",
      "-4.990009990009989\n",
      "-4.999000099990002\n"
     ]
    }
   ],
   "source": [
    "for (te1, te2) in [\n",
    "    (collect(1:3), collect(10:10:30)),\n",
    "    (zeros(3), zeros(3)),\n",
    "    (ones(3), [0.001, 0.001, 0.001]),\n",
    "    ([0.001, 0.001, 0.001], ones(3)),\n",
    "    ([0.001, 0.001, 0.001], [10, 10, 10]),\n",
    "]\n",
    "\n",
    "    println(OnePiece.information.get_signal_to_noise_ratio(te1, te2))\n",
    "\n",
    "end"
   ]
  },
  {
   "cell_type": "markdown",
   "id": "d16246f4",
   "metadata": {},
   "source": [
    "## get_*"
   ]
  },
  {
   "cell_type": "code",
   "execution_count": 5,
   "id": "9a31939f",
   "metadata": {
    "execution": {
     "iopub.execute_input": "2022-07-07T21:25:37.551000Z",
     "iopub.status.busy": "2022-07-07T21:25:37.551000Z",
     "iopub.status.idle": "2022-07-07T21:25:37.731000Z",
     "shell.execute_reply": "2022-07-07T21:25:37.731000Z"
    }
   },
   "outputs": [
    {
     "data": {
      "text/plain": [
       "call_all (generic function with 1 method)"
      ]
     },
     "execution_count": 5,
     "metadata": {},
     "output_type": "execute_result"
    }
   ],
   "source": [
    "function call_all(te1, te2, te)\n",
    "\n",
    "    vcat(\n",
    "        [\n",
    "            fu(te1, te2) for fu in [\n",
    "                OnePiece.information.get_kolmogorov_smirnov_statistic,\n",
    "                OnePiece.information.get_kullback_leibler_divergence,\n",
    "                OnePiece.information.get_thermodynamic_breadth,\n",
    "                OnePiece.information.get_thermodynamic_depth,\n",
    "            ]\n",
    "        ],\n",
    "        [\n",
    "            fu(te1, te2, te) for fu in [\n",
    "                OnePiece.information.get_jensen_shannon_divergence,\n",
    "                OnePiece.information.get_kwat_pablo_divergence,\n",
    "            ]\n",
    "        ],\n",
    "    )\n",
    "\n",
    "end"
   ]
  },
  {
   "cell_type": "code",
   "execution_count": 6,
   "id": "ea87c8a5",
   "metadata": {
    "execution": {
     "iopub.execute_input": "2022-07-07T21:25:37.734000Z",
     "iopub.status.busy": "2022-07-07T21:25:37.734000Z",
     "iopub.status.idle": "2022-07-07T21:25:39.735000Z",
     "shell.execute_reply": "2022-07-07T21:25:39.735000Z"
    }
   },
   "outputs": [
    {
     "name": "stdout",
     "output_type": "stream",
     "text": [
      "Made /Users/kwat/.julia/scratchspaces/1fe83854-81c0-42f7-afc9-71ba9af673ca/OnePiece.html/2022-7-7_21:25:38.794.html.\n",
      "Made /Users/kwat/.julia/scratchspaces/1fe83854-81c0-42f7-afc9-71ba9af673ca/OnePiece.html/2022-7-7_21:25:39.702.html.\n",
      "Made /Users/kwat/.julia/scratchspaces/1fe83854-81c0-42f7-afc9-71ba9af673ca/OnePiece.html/2022-7-7_21:25:39.711.html.\n",
      "Made /Users/kwat/.julia/scratchspaces/1fe83854-81c0-42f7-afc9-71ba9af673ca/OnePiece.html/2022-7-7_21:25:39.723.html.\n"
     ]
    }
   ],
   "source": [
    "name_ = [\n",
    "    \"kolmogorov_smirnov_statistic\",\n",
    "    \"kullback_leibler_divergence\",\n",
    "    \"thermodynamic_breadth\",\n",
    "    \"thermodynamic_depth\",\n",
    "    \"jensen_shannon_divergence\",\n",
    "    \"kwat_pablo_divergence\",\n",
    "]\n",
    "\n",
    "for (te1, te2) in [([1, 1, 1], [1, 1, 1]), ([1, 2, 3], [10, 20, 30])]\n",
    "\n",
    "    te = 0.2 * te1 + 0.8 * te2\n",
    "\n",
    "    OnePiece.figure.plot_x_y([te1, te2])\n",
    "\n",
    "    OnePiece.figure.plot_x_y(call_all(te1, te2, te); name_ = name_)\n",
    "\n",
    "end"
   ]
  },
  {
   "cell_type": "code",
   "execution_count": 7,
   "id": "dced1611",
   "metadata": {
    "execution": {
     "iopub.execute_input": "2022-07-07T21:25:39.739000Z",
     "iopub.status.busy": "2022-07-07T21:25:39.739000Z",
     "iopub.status.idle": "2022-07-07T21:25:40.158000Z",
     "shell.execute_reply": "2022-07-07T21:25:40.158000Z"
    }
   },
   "outputs": [
    {
     "data": {
      "text/plain": [
       "100-element Vector{Float64}:\n",
       " 1.2809886086040034\n",
       " 2.491279090032101\n",
       " 2.727703846608407\n",
       " 0.29815887472008207\n",
       " 3.921041674412659\n",
       " 1.9928249827031081\n",
       " 2.8674125511227317\n",
       " 1.9264936589912645\n",
       " 2.0803009827427705\n",
       " 0.4581865422368625\n",
       " 2.1891229448628824\n",
       " 1.768920352820687\n",
       " 1.2568001954775412\n",
       " ⋮\n",
       " 2.7179894579010284\n",
       " 2.843300398330191\n",
       " 2.670029655620727\n",
       " 2.6379455708327524\n",
       " 1.900674318930609\n",
       " 2.7480816365420893\n",
       " 3.938158825893927\n",
       " 2.4642825113611937\n",
       " 2.2048092196781988\n",
       " 3.820532046280393\n",
       " 2.2352491441995195\n",
       " 1.7591831514334417"
      ]
     },
     "execution_count": 7,
     "metadata": {},
     "output_type": "execute_result"
    }
   ],
   "source": [
    "n_po = 100\n",
    "\n",
    "te1 = OnePiece.tensor.shift_minimum(randn(n_po), \"0<\")\n",
    "\n",
    "ve1s = te1 .+ 1\n",
    "\n",
    "te2 = OnePiece.tensor.shift_minimum(randn(n_po), \"0<\")"
   ]
  },
  {
   "cell_type": "code",
   "execution_count": 8,
   "id": "92f5ce31",
   "metadata": {
    "execution": {
     "iopub.execute_input": "2022-07-07T21:25:40.162000Z",
     "iopub.status.busy": "2022-07-07T21:25:40.161000Z",
     "iopub.status.idle": "2022-07-07T21:25:41.083000Z",
     "shell.execute_reply": "2022-07-07T21:25:41.083000Z"
    }
   },
   "outputs": [],
   "source": [
    "using KernelDensity"
   ]
  },
  {
   "cell_type": "code",
   "execution_count": 9,
   "id": "d36500da",
   "metadata": {
    "execution": {
     "iopub.execute_input": "2022-07-07T21:25:41.086000Z",
     "iopub.status.busy": "2022-07-07T21:25:41.086000Z",
     "iopub.status.idle": "2022-07-07T21:25:42.726000Z",
     "shell.execute_reply": "2022-07-07T21:25:42.725000Z"
    }
   },
   "outputs": [
    {
     "name": "stdout",
     "output_type": "stream",
     "text": [
      "Made /Users/kwat/.julia/scratchspaces/1fe83854-81c0-42f7-afc9-71ba9af673ca/OnePiece.html/2022-7-7_21:25:42.222.html.\n",
      "Made /Users/kwat/.julia/scratchspaces/1fe83854-81c0-42f7-afc9-71ba9af673ca/OnePiece.html/2022-7-7_21:25:42.64.html.\n",
      "Made /Users/kwat/.julia/scratchspaces/1fe83854-81c0-42f7-afc9-71ba9af673ca/OnePiece.html/2022-7-7_21:25:42.664.html.\n",
      "Made /Users/kwat/.julia/scratchspaces/1fe83854-81c0-42f7-afc9-71ba9af673ca/OnePiece.html/2022-7-7_21:25:42.675.html.\n",
      "Made /Users/kwat/.julia/scratchspaces/1fe83854-81c0-42f7-afc9-71ba9af673ca/OnePiece.html/2022-7-7_21:25:42.689.html.\n",
      "Made /Users/kwat/.julia/scratchspaces/1fe83854-81c0-42f7-afc9-71ba9af673ca/OnePiece.html/2022-7-7_21:25:42.705.html.\n"
     ]
    }
   ],
   "source": [
    "for (te1, te2) in [(te1, te1), (te1, ve1s), (te1, te2)]\n",
    "\n",
    "    un1 = kde(te1)\n",
    "\n",
    "    un2 = kde(te2)\n",
    "\n",
    "    de1 = un1.density\n",
    "\n",
    "    de2 = un2.density\n",
    "\n",
    "    de3 = 0.2 * de1 + 0.8 * de2\n",
    "\n",
    "    OnePiece.figure.plot_x_y(\n",
    "        [de1, de2],\n",
    "        [collect(un1.x), collect(un2.x)];\n",
    "        la = Dict(\"yaxis\" => Dict(\"title\" => \"Density\"), \"xaxis\" => Dict(\"title\" => \"Grid\")),\n",
    "    )\n",
    "\n",
    "    OnePiece.figure.plot_x_y(call_all(de1, de2, de3); name_ = name_)\n",
    "\n",
    "end"
   ]
  },
  {
   "cell_type": "markdown",
   "id": "17a78b7c",
   "metadata": {},
   "source": [
    "## get_information_coefficient"
   ]
  },
  {
   "cell_type": "code",
   "execution_count": 10,
   "id": "1231a93c",
   "metadata": {
    "execution": {
     "iopub.execute_input": "2022-07-07T21:25:42.732000Z",
     "iopub.status.busy": "2022-07-07T21:25:42.732000Z",
     "iopub.status.idle": "2022-07-07T21:25:44.532000Z",
     "shell.execute_reply": "2022-07-07T21:25:44.532000Z"
    }
   },
   "outputs": [
    {
     "name": "stdout",
     "output_type": "stream",
     "text": [
      "Made /Users/kwat/.julia/scratchspaces/1fe83854-81c0-42f7-afc9-71ba9af673ca/OnePiece.html/2022-7-7_21:25:44.024.html.\n"
     ]
    },
    {
     "data": {
      "text/plain": [
       "Process(`\u001b[4mopen\u001b[24m \u001b[4m/Users/kwat/.julia/scratchspaces/1fe83854-81c0-42f7-afc9-71ba9af673ca/OnePiece.html/2022-7-7_21:25:44.024.html\u001b[24m`, ProcessRunning)"
      ]
     },
     "execution_count": 10,
     "metadata": {},
     "output_type": "execute_result"
    }
   ],
   "source": [
    "te1 = collect(0:10)\n",
    "\n",
    "te2 = collect(0:10:100)\n",
    "\n",
    "bi = kde((te1, te2), npoints = (8, 8))\n",
    "\n",
    "y = collect(bi.y)\n",
    "\n",
    "x = collect(bi.x)\n",
    "\n",
    "z = bi.density\n",
    "\n",
    "OnePiece.figure.plot_heat_map(z, y, x)"
   ]
  },
  {
   "cell_type": "markdown",
   "id": "01570399",
   "metadata": {},
   "source": [
    "---"
   ]
  }
 ],
 "metadata": {
  "@webio": {
   "lastCommId": null,
   "lastKernelId": null
  },
  "kernelspec": {
   "display_name": "Julia 1.7.3",
   "language": "julia",
   "name": "julia-1.7"
  },
  "language_info": {
   "file_extension": ".jl",
   "mimetype": "application/julia",
   "name": "julia",
   "version": "1.7.3"
  }
 },
 "nbformat": 4,
 "nbformat_minor": 5
}
