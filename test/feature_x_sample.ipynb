{
 "cells": [
  {
   "cell_type": "code",
   "execution_count": 1,
   "id": "baf12f00",
   "metadata": {
    "execution": {
     "iopub.execute_input": "2022-07-13T12:49:44.869000Z",
     "iopub.status.busy": "2022-07-13T12:49:44.514000Z",
     "iopub.status.idle": "2022-07-13T12:49:49.652000Z",
     "shell.execute_reply": "2022-07-13T12:49:49.604000Z"
    }
   },
   "outputs": [],
   "source": [
    "using OnePiece"
   ]
  },
  {
   "cell_type": "markdown",
   "id": "90975153",
   "metadata": {},
   "source": [
    "---"
   ]
  },
  {
   "cell_type": "markdown",
   "id": "79a00ecb",
   "metadata": {},
   "source": [
    "## compare_with_target"
   ]
  },
  {
   "cell_type": "code",
   "execution_count": 2,
   "id": "1d087e9e",
   "metadata": {
    "execution": {
     "iopub.execute_input": "2022-07-13T12:49:50.180000Z",
     "iopub.status.busy": "2022-07-13T12:49:49.672000Z",
     "iopub.status.idle": "2022-07-13T12:49:50.839000Z",
     "shell.execute_reply": "2022-07-13T12:49:50.839000Z"
    }
   },
   "outputs": [
    {
     "data": {
      "text/plain": [
       "\"mean_difference\""
      ]
     },
     "execution_count": 2,
     "metadata": {},
     "output_type": "execute_result"
    }
   ],
   "source": [
    "fu = \"mean_difference\""
   ]
  },
  {
   "cell_type": "code",
   "execution_count": 3,
   "id": "9f962f7a",
   "metadata": {
    "execution": {
     "iopub.execute_input": "2022-07-13T12:49:50.843000Z",
     "iopub.status.busy": "2022-07-13T12:49:50.843000Z",
     "iopub.status.idle": "2022-07-13T12:49:51.858000Z",
     "shell.execute_reply": "2022-07-13T12:49:51.857000Z"
    }
   },
   "outputs": [
    {
     "data": {
      "text/plain": [
       "2×6 Matrix{Float64}:\n",
       " 1.0  3.0  5.0  7.0   9.0  11.0\n",
       " 2.0  4.0  6.0  8.0  10.0  12.0"
      ]
     },
     "execution_count": 3,
     "metadata": {},
     "output_type": "execute_result"
    }
   ],
   "source": [
    "n_ro = 2\n",
    "\n",
    "n_co = 6\n",
    "\n",
    "ma = OnePiece.tensor.simulate(n_ro, n_co)"
   ]
  },
  {
   "cell_type": "code",
   "execution_count": 4,
   "id": "f159d040",
   "metadata": {
    "execution": {
     "iopub.execute_input": "2022-07-13T12:49:51.861000Z",
     "iopub.status.busy": "2022-07-13T12:49:51.861000Z",
     "iopub.status.idle": "2022-07-13T12:49:52.337000Z",
     "shell.execute_reply": "2022-07-13T12:49:52.337000Z"
    }
   },
   "outputs": [
    {
     "data": {
      "text/plain": [
       "6-element BitVector:\n",
       " 0\n",
       " 0\n",
       " 0\n",
       " 1\n",
       " 1\n",
       " 1"
      ]
     },
     "execution_count": 4,
     "metadata": {},
     "output_type": "execute_result"
    }
   ],
   "source": [
    "n_ze = convert(Int64, n_co / 2)\n",
    "\n",
    "n_on = n_co - n_ze\n",
    "\n",
    "bi = convert(BitVector, [zeros(n_ze); ones(n_on)])"
   ]
  },
  {
   "cell_type": "code",
   "execution_count": 5,
   "id": "d4713561",
   "metadata": {
    "execution": {
     "iopub.execute_input": "2022-07-13T12:49:52.341000Z",
     "iopub.status.busy": "2022-07-13T12:49:52.340000Z",
     "iopub.status.idle": "2022-07-13T12:49:52.750000Z",
     "shell.execute_reply": "2022-07-13T12:49:52.750000Z"
    }
   },
   "outputs": [
    {
     "data": {
      "text/plain": [
       "6-element Vector{Int64}:\n",
       "      1\n",
       "     10\n",
       "    100\n",
       "   1000\n",
       "  10000\n",
       " 100000"
      ]
     },
     "execution_count": 5,
     "metadata": {},
     "output_type": "execute_result"
    }
   ],
   "source": [
    "co = [10^(id - 1) for id in 1:n_co]"
   ]
  },
  {
   "cell_type": "code",
   "execution_count": 6,
   "id": "a223627a",
   "metadata": {
    "execution": {
     "iopub.execute_input": "2022-07-13T12:49:52.754000Z",
     "iopub.status.busy": "2022-07-13T12:49:52.754000Z",
     "iopub.status.idle": "2022-07-13T12:49:53.262000Z",
     "shell.execute_reply": "2022-07-13T12:49:53.261000Z"
    }
   },
   "outputs": [
    {
     "data": {
      "text/plain": [
       "2-element Vector{Float64}:\n",
       " 18512.5\n",
       " 18511.5"
      ]
     },
     "execution_count": 6,
     "metadata": {},
     "output_type": "execute_result"
    }
   ],
   "source": [
    "OnePiece.feature_x_sample.compare_with_target(co, ma, fu)"
   ]
  },
  {
   "cell_type": "code",
   "execution_count": 7,
   "id": "ef214d22",
   "metadata": {
    "execution": {
     "iopub.execute_input": "2022-07-13T12:49:53.264000Z",
     "iopub.status.busy": "2022-07-13T12:49:53.264000Z",
     "iopub.status.idle": "2022-07-13T12:49:53.451000Z",
     "shell.execute_reply": "2022-07-13T12:49:53.451000Z"
    }
   },
   "outputs": [
    {
     "data": {
      "text/plain": [
       "2-element Vector{Float64}:\n",
       " -6.0\n",
       " -6.0"
      ]
     },
     "execution_count": 7,
     "metadata": {},
     "output_type": "execute_result"
    }
   ],
   "source": [
    "OnePiece.feature_x_sample.compare_with_target(bi, ma, fu)"
   ]
  },
  {
   "cell_type": "markdown",
   "id": "efbdaf31",
   "metadata": {},
   "source": [
    "---"
   ]
  }
 ],
 "metadata": {
  "@webio": {
   "lastCommId": null,
   "lastKernelId": null
  },
  "kernelspec": {
   "display_name": "Julia 1.7.3",
   "language": "julia",
   "name": "julia-1.7"
  },
  "language_info": {
   "file_extension": ".jl",
   "mimetype": "application/julia",
   "name": "julia",
   "version": "1.7.3"
  }
 },
 "nbformat": 4,
 "nbformat_minor": 5
}
