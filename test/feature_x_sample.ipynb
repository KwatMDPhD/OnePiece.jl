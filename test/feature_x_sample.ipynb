{
 "cells": [
  {
   "cell_type": "code",
   "execution_count": 1,
   "id": "baf12f00",
   "metadata": {
    "execution": {
     "iopub.execute_input": "2022-07-02T16:47:59.638000Z",
     "iopub.status.busy": "2022-07-02T16:47:59.301000Z",
     "iopub.status.idle": "2022-07-02T16:48:05.032000Z",
     "shell.execute_reply": "2022-07-02T16:48:04.986000Z"
    }
   },
   "outputs": [],
   "source": [
    "using Revise\n",
    "using OnePiece"
   ]
  },
  {
   "cell_type": "markdown",
   "id": "79a00ecb",
   "metadata": {},
   "source": [
    "## compare_with_target"
   ]
  },
  {
   "cell_type": "code",
   "execution_count": 2,
   "id": "1d087e9e",
   "metadata": {
    "execution": {
     "iopub.execute_input": "2022-07-02T16:48:05.413000Z",
     "iopub.status.busy": "2022-07-02T16:48:05.035000Z",
     "iopub.status.idle": "2022-07-02T16:48:06.856000Z",
     "shell.execute_reply": "2022-07-02T16:48:06.855000Z"
    }
   },
   "outputs": [
    {
     "data": {
      "text/plain": [
       "\"mean_difference\""
      ]
     },
     "execution_count": 2,
     "metadata": {},
     "output_type": "execute_result"
    }
   ],
   "source": [
    "fu = \"mean_difference\""
   ]
  },
  {
   "cell_type": "code",
   "execution_count": 3,
   "id": "9f962f7a",
   "metadata": {
    "execution": {
     "iopub.execute_input": "2022-07-02T16:48:06.859000Z",
     "iopub.status.busy": "2022-07-02T16:48:06.859000Z",
     "iopub.status.idle": "2022-07-02T16:48:07.806000Z",
     "shell.execute_reply": "2022-07-02T16:48:07.806000Z"
    }
   },
   "outputs": [
    {
     "data": {
      "text/plain": [
       "2×6 Matrix{Float64}:\n",
       " 1.0  3.0  5.0  7.0   9.0  11.0\n",
       " 2.0  4.0  6.0  8.0  10.0  12.0"
      ]
     },
     "execution_count": 3,
     "metadata": {},
     "output_type": "execute_result"
    }
   ],
   "source": [
    "n_ro = 2\n",
    "\n",
    "n_co = 6\n",
    "\n",
    "ma = OnePiece.tensor.simulate(n_ro, n_co)"
   ]
  },
  {
   "cell_type": "code",
   "execution_count": 4,
   "id": "f159d040",
   "metadata": {
    "execution": {
     "iopub.execute_input": "2022-07-02T16:48:07.811000Z",
     "iopub.status.busy": "2022-07-02T16:48:07.811000Z",
     "iopub.status.idle": "2022-07-02T16:48:08.270000Z",
     "shell.execute_reply": "2022-07-02T16:48:08.269000Z"
    }
   },
   "outputs": [
    {
     "data": {
      "text/plain": [
       "6-element BitVector:\n",
       " 0\n",
       " 0\n",
       " 0\n",
       " 1\n",
       " 1\n",
       " 1"
      ]
     },
     "execution_count": 4,
     "metadata": {},
     "output_type": "execute_result"
    }
   ],
   "source": [
    "n_ze = convert(Int64, n_co / 2)\n",
    "\n",
    "n_on = n_co - n_ze\n",
    "\n",
    "bi = convert(BitVector, [zeros(n_ze); ones(n_on)])"
   ]
  },
  {
   "cell_type": "code",
   "execution_count": 5,
   "id": "d4713561",
   "metadata": {
    "execution": {
     "iopub.execute_input": "2022-07-02T16:48:08.273000Z",
     "iopub.status.busy": "2022-07-02T16:48:08.272000Z",
     "iopub.status.idle": "2022-07-02T16:48:08.644000Z",
     "shell.execute_reply": "2022-07-02T16:48:08.644000Z"
    }
   },
   "outputs": [
    {
     "data": {
      "text/plain": [
       "6-element Vector{Int64}:\n",
       "      1\n",
       "     10\n",
       "    100\n",
       "   1000\n",
       "  10000\n",
       " 100000"
      ]
     },
     "execution_count": 5,
     "metadata": {},
     "output_type": "execute_result"
    }
   ],
   "source": [
    "co = [10^(id - 1) for id in 1:n_co]"
   ]
  },
  {
   "cell_type": "code",
   "execution_count": 6,
   "id": "a223627a",
   "metadata": {
    "execution": {
     "iopub.execute_input": "2022-07-02T16:48:08.647000Z",
     "iopub.status.busy": "2022-07-02T16:48:08.647000Z",
     "iopub.status.idle": "2022-07-02T16:48:09.154000Z",
     "shell.execute_reply": "2022-07-02T16:48:09.154000Z"
    }
   },
   "outputs": [
    {
     "data": {
      "text/plain": [
       "2-element Vector{Float64}:\n",
       " 18512.5\n",
       " 18511.5"
      ]
     },
     "execution_count": 6,
     "metadata": {},
     "output_type": "execute_result"
    }
   ],
   "source": [
    "OnePiece.feature_x_sample.compare_with_target(co, ma, fu)"
   ]
  },
  {
   "cell_type": "code",
   "execution_count": 7,
   "id": "ef214d22",
   "metadata": {
    "execution": {
     "iopub.execute_input": "2022-07-02T16:48:09.157000Z",
     "iopub.status.busy": "2022-07-02T16:48:09.157000Z",
     "iopub.status.idle": "2022-07-02T16:48:09.328000Z",
     "shell.execute_reply": "2022-07-02T16:48:09.328000Z"
    }
   },
   "outputs": [
    {
     "data": {
      "text/plain": [
       "2-element Vector{Float64}:\n",
       " -6.0\n",
       " -6.0"
      ]
     },
     "execution_count": 7,
     "metadata": {},
     "output_type": "execute_result"
    }
   ],
   "source": [
    "OnePiece.feature_x_sample.compare_with_target(bi, ma, fu)"
   ]
  }
 ],
 "metadata": {
  "@webio": {
   "lastCommId": null,
   "lastKernelId": null
  },
  "kernelspec": {
   "display_name": "Julia 1.7.3",
   "language": "julia",
   "name": "julia-1.7"
  },
  "language_info": {
   "file_extension": ".jl",
   "mimetype": "application/julia",
   "name": "julia",
   "version": "1.7.3"
  }
 },
 "nbformat": 4,
 "nbformat_minor": 5
}
