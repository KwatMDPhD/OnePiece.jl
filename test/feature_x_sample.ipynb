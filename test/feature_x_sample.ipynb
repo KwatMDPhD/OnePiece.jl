{
 "cells": [
  {
   "cell_type": "code",
   "execution_count": 1,
   "id": "baf12f00",
   "metadata": {
    "execution": {
     "iopub.execute_input": "2022-07-07T21:57:37.227000Z",
     "iopub.status.busy": "2022-07-07T21:57:36.897000Z",
     "iopub.status.idle": "2022-07-07T21:57:41.466000Z",
     "shell.execute_reply": "2022-07-07T21:57:41.420000Z"
    }
   },
   "outputs": [],
   "source": [
    "using OnePiece"
   ]
  },
  {
   "cell_type": "markdown",
   "id": "90975153",
   "metadata": {},
   "source": [
    "---"
   ]
  },
  {
   "cell_type": "markdown",
   "id": "79a00ecb",
   "metadata": {},
   "source": [
    "## compare_with_target"
   ]
  },
  {
   "cell_type": "code",
   "execution_count": 2,
   "id": "1d087e9e",
   "metadata": {
    "execution": {
     "iopub.execute_input": "2022-07-07T21:57:41.893000Z",
     "iopub.status.busy": "2022-07-07T21:57:41.483000Z",
     "iopub.status.idle": "2022-07-07T21:57:42.560000Z",
     "shell.execute_reply": "2022-07-07T21:57:42.560000Z"
    }
   },
   "outputs": [
    {
     "data": {
      "text/plain": [
       "\"mean_difference\""
      ]
     },
     "execution_count": 2,
     "metadata": {},
     "output_type": "execute_result"
    }
   ],
   "source": [
    "fu = \"mean_difference\""
   ]
  },
  {
   "cell_type": "code",
   "execution_count": 3,
   "id": "9f962f7a",
   "metadata": {
    "execution": {
     "iopub.execute_input": "2022-07-07T21:57:42.564000Z",
     "iopub.status.busy": "2022-07-07T21:57:42.564000Z",
     "iopub.status.idle": "2022-07-07T21:57:43.455000Z",
     "shell.execute_reply": "2022-07-07T21:57:43.454000Z"
    }
   },
   "outputs": [
    {
     "data": {
      "text/plain": [
       "2×6 Matrix{Float64}:\n",
       " 1.0  3.0  5.0  7.0   9.0  11.0\n",
       " 2.0  4.0  6.0  8.0  10.0  12.0"
      ]
     },
     "execution_count": 3,
     "metadata": {},
     "output_type": "execute_result"
    }
   ],
   "source": [
    "n_ro = 2\n",
    "\n",
    "n_co = 6\n",
    "\n",
    "ma = OnePiece.tensor.simulate(n_ro, n_co)"
   ]
  },
  {
   "cell_type": "code",
   "execution_count": 4,
   "id": "f159d040",
   "metadata": {
    "execution": {
     "iopub.execute_input": "2022-07-07T21:57:43.457000Z",
     "iopub.status.busy": "2022-07-07T21:57:43.457000Z",
     "iopub.status.idle": "2022-07-07T21:57:43.886000Z",
     "shell.execute_reply": "2022-07-07T21:57:43.886000Z"
    }
   },
   "outputs": [
    {
     "data": {
      "text/plain": [
       "6-element BitVector:\n",
       " 0\n",
       " 0\n",
       " 0\n",
       " 1\n",
       " 1\n",
       " 1"
      ]
     },
     "execution_count": 4,
     "metadata": {},
     "output_type": "execute_result"
    }
   ],
   "source": [
    "n_ze = convert(Int64, n_co / 2)\n",
    "\n",
    "n_on = n_co - n_ze\n",
    "\n",
    "bi = convert(BitVector, [zeros(n_ze); ones(n_on)])"
   ]
  },
  {
   "cell_type": "code",
   "execution_count": 5,
   "id": "d4713561",
   "metadata": {
    "execution": {
     "iopub.execute_input": "2022-07-07T21:57:43.889000Z",
     "iopub.status.busy": "2022-07-07T21:57:43.889000Z",
     "iopub.status.idle": "2022-07-07T21:57:44.234000Z",
     "shell.execute_reply": "2022-07-07T21:57:44.226000Z"
    }
   },
   "outputs": [
    {
     "data": {
      "text/plain": [
       "6-element Vector{Int64}:\n",
       "      1\n",
       "     10\n",
       "    100\n",
       "   1000\n",
       "  10000\n",
       " 100000"
      ]
     },
     "execution_count": 5,
     "metadata": {},
     "output_type": "execute_result"
    }
   ],
   "source": [
    "co = [10^(id - 1) for id in 1:n_co]"
   ]
  },
  {
   "cell_type": "code",
   "execution_count": 6,
   "id": "a223627a",
   "metadata": {
    "execution": {
     "iopub.execute_input": "2022-07-07T21:57:44.237000Z",
     "iopub.status.busy": "2022-07-07T21:57:44.236000Z",
     "iopub.status.idle": "2022-07-07T21:57:44.704000Z",
     "shell.execute_reply": "2022-07-07T21:57:44.704000Z"
    }
   },
   "outputs": [
    {
     "data": {
      "text/plain": [
       "2-element Vector{Float64}:\n",
       " 18512.5\n",
       " 18511.5"
      ]
     },
     "execution_count": 6,
     "metadata": {},
     "output_type": "execute_result"
    }
   ],
   "source": [
    "OnePiece.feature_x_sample.compare_with_target(co, ma, fu)"
   ]
  },
  {
   "cell_type": "code",
   "execution_count": 7,
   "id": "ef214d22",
   "metadata": {
    "execution": {
     "iopub.execute_input": "2022-07-07T21:57:44.708000Z",
     "iopub.status.busy": "2022-07-07T21:57:44.708000Z",
     "iopub.status.idle": "2022-07-07T21:57:44.869000Z",
     "shell.execute_reply": "2022-07-07T21:57:44.869000Z"
    }
   },
   "outputs": [
    {
     "data": {
      "text/plain": [
       "2-element Vector{Float64}:\n",
       " -6.0\n",
       " -6.0"
      ]
     },
     "execution_count": 7,
     "metadata": {},
     "output_type": "execute_result"
    }
   ],
   "source": [
    "OnePiece.feature_x_sample.compare_with_target(bi, ma, fu)"
   ]
  },
  {
   "cell_type": "markdown",
   "id": "efbdaf31",
   "metadata": {},
   "source": [
    "---"
   ]
  }
 ],
 "metadata": {
  "@webio": {
   "lastCommId": null,
   "lastKernelId": null
  },
  "kernelspec": {
   "display_name": "Julia 1.7.3",
   "language": "julia",
   "name": "julia-1.7"
  },
  "language_info": {
   "file_extension": ".jl",
   "mimetype": "application/julia",
   "name": "julia",
   "version": "1.7.3"
  }
 },
 "nbformat": 4,
 "nbformat_minor": 5
}
