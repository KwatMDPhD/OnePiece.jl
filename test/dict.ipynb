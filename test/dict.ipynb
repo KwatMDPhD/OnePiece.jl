{
 "cells": [
  {
   "cell_type": "code",
   "execution_count": 1,
   "id": "baf12f00",
   "metadata": {
    "execution": {
     "iopub.execute_input": "2022-07-07T21:56:39.596000Z",
     "iopub.status.busy": "2022-07-07T21:56:39.212000Z",
     "iopub.status.idle": "2022-07-07T21:56:43.851000Z",
     "shell.execute_reply": "2022-07-07T21:56:43.806000Z"
    }
   },
   "outputs": [],
   "source": [
    "using OnePiece"
   ]
  },
  {
   "cell_type": "markdown",
   "id": "52c86e48",
   "metadata": {},
   "source": [
    "---"
   ]
  },
  {
   "cell_type": "markdown",
   "id": "f490ea3e",
   "metadata": {},
   "source": [
    "## make"
   ]
  },
  {
   "cell_type": "code",
   "execution_count": 2,
   "id": "aef53cc5",
   "metadata": {
    "execution": {
     "iopub.execute_input": "2022-07-07T21:56:44.190000Z",
     "iopub.status.busy": "2022-07-07T21:56:43.869000Z",
     "iopub.status.idle": "2022-07-07T21:56:46.034000Z",
     "shell.execute_reply": "2022-07-07T21:56:46.034000Z"
    }
   },
   "outputs": [
    {
     "data": {
      "text/plain": [
       "OrderedCollections.OrderedDict{Symbol, Any} with 3 entries:\n",
       "  :c => Dict(\"d\"=>3)\n",
       "  :b => [2]\n",
       "  :a => 1"
      ]
     },
     "execution_count": 2,
     "metadata": {},
     "output_type": "execute_result"
    }
   ],
   "source": [
    "OnePiece.dict.make(c = Dict(\"d\" => 3), b = [2], a = 1)"
   ]
  },
  {
   "cell_type": "markdown",
   "id": "d291dfea",
   "metadata": {},
   "source": [
    "## merge"
   ]
  },
  {
   "cell_type": "code",
   "execution_count": 3,
   "id": "11f6d8a6",
   "metadata": {
    "execution": {
     "iopub.execute_input": "2022-07-07T21:56:46.038000Z",
     "iopub.status.busy": "2022-07-07T21:56:46.038000Z",
     "iopub.status.idle": "2022-07-07T21:56:46.460000Z",
     "shell.execute_reply": "2022-07-07T21:56:46.460000Z"
    }
   },
   "outputs": [
    {
     "name": "stdout",
     "output_type": "stream",
     "text": [
      "C => (1) 2\n",
      "3 keys and 3 unique values\n",
      "{\n",
      "   \"1A\": 1,\n",
      "   \"B\": {\n",
      "      \"1D\": 1,\n",
      "      \"C\": 2,\n",
      "      \"2D\": 2\n",
      "   },\n",
      "   \"2A\": 2\n",
      "}\n"
     ]
    }
   ],
   "source": [
    "di1 = Dict(\"1A\" => 1, \"B\" => Dict(\"C\" => 1, \"1D\" => 1))\n",
    "\n",
    "di2 = Dict(\"2A\" => 2, \"B\" => Dict(\"C\" => 2, \"2D\" => 2))\n",
    "\n",
    "OnePiece.dict.print(OnePiece.dict.merge(di1, di2))"
   ]
  },
  {
   "cell_type": "code",
   "execution_count": 4,
   "id": "f3a9c72e",
   "metadata": {
    "execution": {
     "iopub.execute_input": "2022-07-07T21:56:46.463000Z",
     "iopub.status.busy": "2022-07-07T21:56:46.462000Z",
     "iopub.status.idle": "2022-07-07T21:56:46.465000Z",
     "shell.execute_reply": "2022-07-07T21:56:46.465000Z"
    }
   },
   "outputs": [
    {
     "name": "stdout",
     "output_type": "stream",
     "text": [
      "C => (2) 1\n",
      "3 keys and 3 unique values\n",
      "{\n",
      "   \"1A\": 1,\n",
      "   \"B\": {\n",
      "      \"1D\": 1,\n",
      "      \"C\": 1,\n",
      "      \"2D\": 2\n",
      "   },\n",
      "   \"2A\": 2\n",
      "}\n"
     ]
    }
   ],
   "source": [
    "OnePiece.dict.print(OnePiece.dict.merge(di2, di1))"
   ]
  },
  {
   "cell_type": "markdown",
   "id": "b2252700",
   "metadata": {},
   "source": [
    "## print"
   ]
  },
  {
   "cell_type": "code",
   "execution_count": 5,
   "id": "bd01367c",
   "metadata": {
    "execution": {
     "iopub.execute_input": "2022-07-07T21:56:46.468000Z",
     "iopub.status.busy": "2022-07-07T21:56:46.468000Z",
     "iopub.status.idle": "2022-07-07T21:56:46.469000Z",
     "shell.execute_reply": "2022-07-07T21:56:46.469000Z"
    }
   },
   "outputs": [
    {
     "name": "stdout",
     "output_type": "stream",
     "text": [
      "0 keys and 0 unique values\n",
      "{}\n"
     ]
    }
   ],
   "source": [
    "OnePiece.dict.print(Dict())"
   ]
  },
  {
   "cell_type": "code",
   "execution_count": 6,
   "id": "ca7ca7fc",
   "metadata": {
    "execution": {
     "iopub.execute_input": "2022-07-07T21:56:46.472000Z",
     "iopub.status.busy": "2022-07-07T21:56:46.472000Z",
     "iopub.status.idle": "2022-07-07T21:56:47.354000Z",
     "shell.execute_reply": "2022-07-07T21:56:47.354000Z"
    }
   },
   "outputs": [
    {
     "data": {
      "text/plain": [
       "Dict{Int64, Any} with 6 entries:\n",
       "  5 => nothing\n",
       "  4 => nothing\n",
       "  6 => NaN\n",
       "  2 => \"a\"\n",
       "  3 => \"b\"\n",
       "  1 => \"a\""
      ]
     },
     "execution_count": 6,
     "metadata": {},
     "output_type": "execute_result"
    }
   ],
   "source": [
    "di = Dict(1 => \"a\", 2 => \"a\", 3 => \"b\", 4 => nothing, 5 => nothing, 6 => NaN)"
   ]
  },
  {
   "cell_type": "code",
   "execution_count": 7,
   "id": "76bf01e4",
   "metadata": {
    "execution": {
     "iopub.execute_input": "2022-07-07T21:56:47.359000Z",
     "iopub.status.busy": "2022-07-07T21:56:47.359000Z",
     "iopub.status.idle": "2022-07-07T21:56:47.539000Z",
     "shell.execute_reply": "2022-07-07T21:56:47.538000Z"
    }
   },
   "outputs": [
    {
     "name": "stdout",
     "output_type": "stream",
     "text": [
      "6 keys and 4 unique values\n",
      "{\n",
      "   \"5\": null,\n",
      "   \"4\": null,\n",
      "   \"6\": null,\n",
      "   \"2\": \"a\",\n",
      "   \"3\": \"b\",\n",
      "   \"1\": \"a\"\n",
      "}\n"
     ]
    }
   ],
   "source": [
    "OnePiece.dict.print(di)"
   ]
  },
  {
   "cell_type": "code",
   "execution_count": 8,
   "id": "e2763e5a",
   "metadata": {
    "execution": {
     "iopub.execute_input": "2022-07-07T21:56:47.542000Z",
     "iopub.status.busy": "2022-07-07T21:56:47.541000Z",
     "iopub.status.idle": "2022-07-07T21:56:47.551000Z",
     "shell.execute_reply": "2022-07-07T21:56:47.551000Z"
    }
   },
   "outputs": [
    {
     "name": "stdout",
     "output_type": "stream",
     "text": [
      "6 keys and 4 unique values\n",
      "{\n",
      "  \"5\": null,\n",
      "  \"4\": null,\n",
      "  \"6\": null,\n",
      "  \"2\": \"a\",\n",
      "  \"3\": \"b\",\n",
      "  \"1\": \"a\"\n",
      "}\n"
     ]
    }
   ],
   "source": [
    "OnePiece.dict.print(di, sp = 2)"
   ]
  },
  {
   "cell_type": "code",
   "execution_count": 9,
   "id": "f1b751b7",
   "metadata": {
    "execution": {
     "iopub.execute_input": "2022-07-07T21:56:47.554000Z",
     "iopub.status.busy": "2022-07-07T21:56:47.554000Z",
     "iopub.status.idle": "2022-07-07T21:56:47.561000Z",
     "shell.execute_reply": "2022-07-07T21:56:47.561000Z"
    }
   },
   "outputs": [
    {
     "name": "stdout",
     "output_type": "stream",
     "text": [
      "6 keys and 4 unique values\n",
      "{\n",
      "    5 => nothing\n",
      "    4 => nothing\n",
      "    ...\n",
      "}\n"
     ]
    }
   ],
   "source": [
    "OnePiece.dict.print(di, n_pa = 2, sp = 4)"
   ]
  },
  {
   "cell_type": "markdown",
   "id": "544d556f",
   "metadata": {},
   "source": [
    "## read"
   ]
  },
  {
   "cell_type": "code",
   "execution_count": 10,
   "id": "d05fbdbf",
   "metadata": {
    "execution": {
     "iopub.execute_input": "2022-07-07T21:56:47.564000Z",
     "iopub.status.busy": "2022-07-07T21:56:47.563000Z",
     "iopub.status.idle": "2022-07-07T21:56:47.909000Z",
     "shell.execute_reply": "2022-07-07T21:56:47.909000Z"
    }
   },
   "outputs": [
    {
     "data": {
      "text/plain": [
       "\"/Users/kwat/craft/OnePiece.jl/test/dict.data\""
      ]
     },
     "execution_count": 10,
     "metadata": {},
     "output_type": "execute_result"
    }
   ],
   "source": [
    "da = joinpath(@__DIR__, \"dict.data\")"
   ]
  },
  {
   "cell_type": "code",
   "execution_count": 11,
   "id": "cedaae14",
   "metadata": {
    "execution": {
     "iopub.execute_input": "2022-07-07T21:56:47.912000Z",
     "iopub.status.busy": "2022-07-07T21:56:47.912000Z",
     "iopub.status.idle": "2022-07-07T21:56:48.010000Z",
     "shell.execute_reply": "2022-07-07T21:56:48.010000Z"
    }
   },
   "outputs": [
    {
     "name": "stdout",
     "output_type": "stream",
     "text": [
      "3 keys and 3 unique values\n",
      "{\n",
      "   \"fruit\": \"Apple\",\n",
      "   \"color\": \"Red\",\n",
      "   \"size\": \"Large\"\n",
      "}\n"
     ]
    }
   ],
   "source": [
    "js1 = joinpath(da, \"example_1.json\")\n",
    "\n",
    "OnePiece.dict.print(OnePiece.dict.read(js1))"
   ]
  },
  {
   "cell_type": "code",
   "execution_count": 12,
   "id": "eec77164",
   "metadata": {
    "execution": {
     "iopub.execute_input": "2022-07-07T21:56:48.013000Z",
     "iopub.status.busy": "2022-07-07T21:56:48.013000Z",
     "iopub.status.idle": "2022-07-07T21:56:48.143000Z",
     "shell.execute_reply": "2022-07-07T21:56:48.143000Z"
    }
   },
   "outputs": [
    {
     "name": "stdout",
     "output_type": "stream",
     "text": [
      "1 keys and 1 unique values\n",
      "{\n",
      "   \"quiz\": {\n",
      "      \"sport\": {\n",
      "         \"q1\": {\n",
      "            \"options\": [\n",
      "               \"New York Bulls\",\n",
      "               \"Los Angeles Kings\",\n",
      "               \"Golden State Warriros\",\n",
      "               \"Huston Rocket\"\n",
      "            ],\n",
      "            \"question\": \"Which one is correct team name in NBA?\",\n",
      "            \"answer\": \"Huston Rocket\"\n",
      "         }\n",
      "      },\n",
      "      \"maths\": {\n",
      "         \"q1\": {\n",
      "            \"options\": [\n",
      "               \"10\",\n",
      "               \"11\",\n",
      "               \"12\",\n",
      "               \"13\"\n",
      "            ],\n",
      "            \"question\": \"5 + 7 = ?\",\n",
      "            \"answer\": \"12\"\n",
      "         },\n",
      "         \"q2\": {\n",
      "            \"options\": [\n",
      "               \"1\",\n",
      "               \"2\",\n",
      "               \"3\",\n",
      "               \"4\"\n",
      "            ],\n",
      "            \"question\": \"12 - 8 = ?\",\n",
      "            \"answer\": \"4\"\n",
      "         }\n",
      "      }\n",
      "   }\n",
      "}\n"
     ]
    }
   ],
   "source": [
    "js2 = joinpath(da, \"example_2.json\")\n",
    "\n",
    "OnePiece.dict.print(OnePiece.dict.read(js2))"
   ]
  },
  {
   "cell_type": "code",
   "execution_count": 13,
   "id": "b628d2f3",
   "metadata": {
    "execution": {
     "iopub.execute_input": "2022-07-07T21:56:48.146000Z",
     "iopub.status.busy": "2022-07-07T21:56:48.146000Z",
     "iopub.status.idle": "2022-07-07T21:56:48.372000Z",
     "shell.execute_reply": "2022-07-07T21:56:48.372000Z"
    }
   },
   "outputs": [
    {
     "name": "stdout",
     "output_type": "stream",
     "text": [
      "5 keys and 5 unique values\n",
      "{\n",
      "   \"servers\": {\n",
      "      \"alpha\": {\n",
      "         \"dc\": \"eqdc10\",\n",
      "         \"ip\": \"10.0.0.1\"\n",
      "      },\n",
      "      \"beta\": {\n",
      "         \"dc\": \"eqdc10\",\n",
      "         \"ip\": \"10.0.0.2\"\n",
      "      }\n",
      "   },\n",
      "   \"clients\": {\n",
      "      \"hosts\": [\n",
      "         \"alpha\",\n",
      "         \"omega\"\n",
      "      ],\n",
      "      \"data\": [\n",
      "         [\n",
      "            \"gamma\",\n",
      "            \"delta\"\n",
      "         ],\n",
      "         [\n",
      "            1,\n",
      "            2\n",
      "         ]\n",
      "      ]\n",
      "   },\n",
      "   \"owner\": {\n",
      "      \"name\": \"Tom Preston-Werner\"\n",
      "   },\n",
      "   \"title\": \"TOML Example\",\n",
      "   \"database\": {\n",
      "      \"server\": \"192.168.1.1\",\n",
      "      \"connection_max\": 5000,\n",
      "      \"ports\": [\n",
      "         8000,\n",
      "         8001,\n",
      "         8002\n",
      "      ],\n",
      "      \"enabled\": true\n",
      "   }\n",
      "}\n"
     ]
    }
   ],
   "source": [
    "to = joinpath(da, \"example.toml\")\n",
    "\n",
    "OnePiece.dict.print(OnePiece.dict.read(to))"
   ]
  },
  {
   "cell_type": "code",
   "execution_count": 14,
   "id": "30220ddb",
   "metadata": {
    "execution": {
     "iopub.execute_input": "2022-07-07T21:56:48.375000Z",
     "iopub.status.busy": "2022-07-07T21:56:48.375000Z",
     "iopub.status.idle": "2022-07-07T21:56:48.507000Z",
     "shell.execute_reply": "2022-07-07T21:56:48.507000Z"
    }
   },
   "outputs": [
    {
     "name": "stdout",
     "output_type": "stream",
     "text": [
      "9 keys and 9 unique values\n",
      "{\n",
      "   \"fruit\": \"Apple\",\n",
      "   \"servers\": {\n",
      "      \"alpha\": {\n",
      "         \"dc\": \"eqdc10\",\n",
      "         \"ip\": \"10.0.0.1\"\n",
      "      },\n",
      "      \"beta\": {\n",
      "         \"dc\": \"eqdc10\",\n",
      "         \"ip\": \"10.0.0.2\"\n",
      "      }\n",
      "   },\n",
      "   \"clients\": {\n",
      "      \"hosts\": [\n",
      "         \"alpha\",\n",
      "         \"omega\"\n",
      "      ],\n",
      "      \"data\": [\n",
      "         [\n",
      "            \"gamma\",\n",
      "            \"delta\"\n",
      "         ],\n",
      "         [\n",
      "            1,\n",
      "            2\n",
      "         ]\n",
      "      ]\n",
      "   },\n",
      "   \"quiz\": {\n",
      "      \"sport\": {\n",
      "         \"q1\": {\n",
      "            \"options\": [\n",
      "               \"New York Bulls\",\n",
      "               \"Los Angeles Kings\",\n",
      "               \"Golden State Warriros\",\n",
      "               \"Huston Rocket\"\n",
      "            ],\n",
      "            \"question\": \"Which one is correct team name in NBA?\",\n",
      "            \"answer\": \"Huston Rocket\"\n",
      "         }\n",
      "      },\n",
      "      \"maths\": {\n",
      "         \"q1\": {\n",
      "            \"options\": [\n",
      "               \"10\",\n",
      "               \"11\",\n",
      "               \"12\",\n",
      "               \"13\"\n",
      "            ],\n",
      "            \"question\": \"5 + 7 = ?\",\n",
      "            \"answer\": \"12\"\n",
      "         },\n",
      "         \"q2\": {\n",
      "            \"options\": [\n",
      "               \"1\",\n",
      "               \"2\",\n",
      "               \"3\",\n",
      "               \"4\"\n",
      "            ],\n",
      "            \"question\": \"12 - 8 = ?\",\n",
      "            \"answer\": \"4\"\n",
      "         }\n",
      "      }\n",
      "   },\n",
      "   \"color\": \"Red\",\n",
      "   \"owner\": {\n",
      "      \"name\": \"Tom Preston-Werner\"\n",
      "   },\n",
      "   \"size\": \"Large\",\n",
      "   \"title\": \"TOML Example\",\n",
      "   \"database\": {\n",
      "      \"server\": \"192.168.1.1\",\n",
      "      \"connection_max\": 5000,\n",
      "      \"ports\": [\n",
      "         8000,\n",
      "         8001,\n",
      "         8002\n",
      "      ],\n",
      "      \"enabled\": true\n",
      "   }\n",
      "}\n"
     ]
    }
   ],
   "source": [
    "OnePiece.dict.print(OnePiece.dict.read(js1, js2, to))"
   ]
  },
  {
   "cell_type": "markdown",
   "id": "0ee83d77",
   "metadata": {},
   "source": [
    "## sort_recursively!"
   ]
  },
  {
   "cell_type": "code",
   "execution_count": 15,
   "id": "265df1af",
   "metadata": {
    "execution": {
     "iopub.execute_input": "2022-07-07T21:56:48.512000Z",
     "iopub.status.busy": "2022-07-07T21:56:48.511000Z",
     "iopub.status.idle": "2022-07-07T21:56:49.896000Z",
     "shell.execute_reply": "2022-07-07T21:56:49.896000Z"
    }
   },
   "outputs": [
    {
     "name": "stdout",
     "output_type": "stream",
     "text": [
      "4 keys and 4 unique values\n",
      "{\n",
      "   \"w\": [\n",
      "      {\n",
      "         \"j\": 24,\n",
      "         \"k\": 8\n",
      "      },\n",
      "      {\n",
      "         \"la\": 3,\n",
      "         \"lo\": 1\n",
      "      }\n",
      "   ],\n",
      "   \"x\": [\n",
      "      3,\n",
      "      2,\n",
      "      1,\n",
      "      {\n",
      "         \"lu\": 1,\n",
      "         \"zo\": 2\n",
      "      }\n",
      "   ],\n",
      "   \"y\": {},\n",
      "   \"z\": {\n",
      "      \"a\": 3,\n",
      "      \"b\": 2,\n",
      "      \"c\": 1\n",
      "   }\n",
      "}\n"
     ]
    }
   ],
   "source": [
    "di = Dict(\n",
    "    \"z\" => Dict(\"c\" => 1, \"b\" => 2, \"a\" => 3),\n",
    "    \"y\" => Dict(),\n",
    "    \"x\" => [3, 2, 1, Dict(\"zo\" => 2, \"lu\" => 1)],\n",
    "    \"w\" => [Dict(\"k\" => 8, \"j\" => 24), Dict(\"lo\" => 1, \"la\" => 3)],\n",
    ")\n",
    "\n",
    "OnePiece.dict.print(OnePiece.dict.sort_recursively!(di))"
   ]
  },
  {
   "cell_type": "markdown",
   "id": "4f0a130a",
   "metadata": {},
   "source": [
    "## symbolize"
   ]
  },
  {
   "cell_type": "code",
   "execution_count": 16,
   "id": "795da86d",
   "metadata": {
    "execution": {
     "iopub.execute_input": "2022-07-07T21:56:49.900000Z",
     "iopub.status.busy": "2022-07-07T21:56:49.899000Z",
     "iopub.status.idle": "2022-07-07T21:56:50.387000Z",
     "shell.execute_reply": "2022-07-07T21:56:50.386000Z"
    }
   },
   "outputs": [
    {
     "data": {
      "text/plain": [
       "Dict{Symbol, String} with 2 entries:\n",
       "  :k1 => \"v1\"\n",
       "  :k2 => \"v2\""
      ]
     },
     "execution_count": 16,
     "metadata": {},
     "output_type": "execute_result"
    }
   ],
   "source": [
    "OnePiece.dict.symbolize(Dict(\"k1\" => \"v1\", \"k2\" => \"v2\"))"
   ]
  },
  {
   "cell_type": "markdown",
   "id": "db43b4a9",
   "metadata": {},
   "source": [
    "## write"
   ]
  },
  {
   "cell_type": "code",
   "execution_count": 17,
   "id": "0e548e55",
   "metadata": {
    "execution": {
     "iopub.execute_input": "2022-07-07T21:56:50.390000Z",
     "iopub.status.busy": "2022-07-07T21:56:50.389000Z",
     "iopub.status.idle": "2022-07-07T21:56:50.520000Z",
     "shell.execute_reply": "2022-07-07T21:56:50.519000Z"
    }
   },
   "outputs": [],
   "source": [
    "js = joinpath(tempdir(), \"write.json\")\n",
    "\n",
    "di = Dict(\n",
    "    \"Luffy\" => \"Pirate King\",\n",
    "    \"Crews\" => [\n",
    "        \"Luffy\",\n",
    "        \"Zoro\",\n",
    "        \"Nami\",\n",
    "        \"Usopp\",\n",
    "        \"Sanji\",\n",
    "        \"Chopper\",\n",
    "        \"Robin\",\n",
    "        \"Franky\",\n",
    "        \"Brook\",\n",
    "        \"Jinbe\",\n",
    "    ],\n",
    "    \"episode\" => 1030,\n",
    ")\n",
    "\n",
    "OnePiece.dict.write(js, di)"
   ]
  },
  {
   "cell_type": "code",
   "execution_count": 18,
   "id": "4f8acb08",
   "metadata": {
    "execution": {
     "iopub.execute_input": "2022-07-07T21:56:50.522000Z",
     "iopub.status.busy": "2022-07-07T21:56:50.522000Z",
     "iopub.status.idle": "2022-07-07T21:56:50.704000Z",
     "shell.execute_reply": "2022-07-07T21:56:50.704000Z"
    }
   },
   "outputs": [
    {
     "data": {
      "text/plain": [
       "true"
      ]
     },
     "execution_count": 18,
     "metadata": {},
     "output_type": "execute_result"
    }
   ],
   "source": [
    "di == OnePiece.dict.read(js)"
   ]
  },
  {
   "cell_type": "markdown",
   "id": "79ee8bff",
   "metadata": {},
   "source": [
    "---"
   ]
  }
 ],
 "metadata": {
  "@webio": {
   "lastCommId": null,
   "lastKernelId": null
  },
  "kernelspec": {
   "display_name": "Julia 1.7.3",
   "language": "julia",
   "name": "julia-1.7"
  },
  "language_info": {
   "file_extension": ".jl",
   "mimetype": "application/julia",
   "name": "julia",
   "version": "1.7.3"
  }
 },
 "nbformat": 4,
 "nbformat_minor": 5
}
