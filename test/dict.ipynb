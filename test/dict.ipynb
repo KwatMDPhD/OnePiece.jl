{
 "cells": [
  {
   "cell_type": "code",
   "execution_count": null,
   "id": "baf12f00",
   "metadata": {},
   "outputs": [],
   "source": [
    "using Revise\n",
    "using OnePiece"
   ]
  },
  {
   "cell_type": "markdown",
   "id": "f490ea3e",
   "metadata": {},
   "source": [
    "## make"
   ]
  },
  {
   "cell_type": "code",
   "execution_count": null,
   "id": "aef53cc5",
   "metadata": {},
   "outputs": [],
   "source": [
    "OnePiece.dict.make(c = Dict(\"d\" => 3), b = [2], a = 1)"
   ]
  },
  {
   "cell_type": "markdown",
   "id": "d291dfea",
   "metadata": {},
   "source": [
    "## merge"
   ]
  },
  {
   "cell_type": "code",
   "execution_count": null,
   "id": "11f6d8a6",
   "metadata": {},
   "outputs": [],
   "source": [
    "di1 = Dict(\"1A\" => 1, \"B\" => Dict(\"C\" => 1, \"1D\" => 1))\n",
    "\n",
    "di2 = Dict(\"2A\" => 2, \"B\" => Dict(\"C\" => 2, \"2D\" => 2))\n",
    "\n",
    "OnePiece.dict.view(OnePiece.dict.merge(di1, di2))"
   ]
  },
  {
   "cell_type": "code",
   "execution_count": null,
   "id": "f3a9c72e",
   "metadata": {},
   "outputs": [],
   "source": [
    "OnePiece.dict.view(OnePiece.dict.merge(di2, di1))"
   ]
  },
  {
   "cell_type": "markdown",
   "id": "544d556f",
   "metadata": {},
   "source": [
    "## read"
   ]
  },
  {
   "cell_type": "code",
   "execution_count": null,
   "id": "d05fbdbf",
   "metadata": {},
   "outputs": [],
   "source": [
    "da = joinpath(@__DIR__, \"dict.data\")"
   ]
  },
  {
   "cell_type": "code",
   "execution_count": null,
   "id": "cedaae14",
   "metadata": {},
   "outputs": [],
   "source": [
    "js1 = joinpath(da, \"example_1.json\")\n",
    "\n",
    "OnePiece.dict.view(OnePiece.dict.read(js1))"
   ]
  },
  {
   "cell_type": "code",
   "execution_count": null,
   "id": "eec77164",
   "metadata": {},
   "outputs": [],
   "source": [
    "js2 = joinpath(da, \"example_2.json\")\n",
    "\n",
    "OnePiece.dict.view(OnePiece.dict.read(js2))"
   ]
  },
  {
   "cell_type": "code",
   "execution_count": null,
   "id": "b628d2f3",
   "metadata": {},
   "outputs": [],
   "source": [
    "to = joinpath(da, \"example.toml\")\n",
    "\n",
    "OnePiece.dict.view(OnePiece.dict.read(to))"
   ]
  },
  {
   "cell_type": "code",
   "execution_count": null,
   "id": "30220ddb",
   "metadata": {},
   "outputs": [],
   "source": [
    "OnePiece.dict.view(OnePiece.dict.read(js1, js2, to))"
   ]
  },
  {
   "cell_type": "markdown",
   "id": "0ee83d77",
   "metadata": {},
   "source": [
    "## sort_recursively!"
   ]
  },
  {
   "cell_type": "code",
   "execution_count": null,
   "id": "265df1af",
   "metadata": {},
   "outputs": [],
   "source": [
    "di = Dict(\n",
    "    \"z\" => Dict(\"c\" => 1, \"b\" => 2, \"a\" => 3),\n",
    "    \"y\" => Dict(),\n",
    "    \"x\" => [3, 2, 1, Dict(\"zo\" => 2, \"lu\" => 1)],\n",
    "    \"w\" => [Dict(\"k\" => 8, \"j\" => 24), Dict(\"lo\" => 1, \"la\" => 3)],\n",
    ")\n",
    "\n",
    "OnePiece.dict.view(OnePiece.dict.sort_recursively!(di))"
   ]
  },
  {
   "cell_type": "markdown",
   "id": "aa034d33",
   "metadata": {},
   "source": [
    "## summarize"
   ]
  },
  {
   "cell_type": "code",
   "execution_count": null,
   "id": "540fd72f",
   "metadata": {},
   "outputs": [],
   "source": [
    "OnePiece.dict.summarize(Dict(1 => \"a\", 2 => \"a\", 3 => \"b\", 4 => nothing, 5 => nothing, 6 => NaN))"
   ]
  },
  {
   "cell_type": "markdown",
   "id": "4f0a130a",
   "metadata": {},
   "source": [
    "## symbolize"
   ]
  },
  {
   "cell_type": "code",
   "execution_count": null,
   "id": "795da86d",
   "metadata": {},
   "outputs": [],
   "source": [
    "OnePiece.dict.symbolize(Dict(\"k1\" => \"v1\", \"k2\" => \"v2\"))"
   ]
  },
  {
   "cell_type": "markdown",
   "id": "1c79587e",
   "metadata": {},
   "source": [
    "## view"
   ]
  },
  {
   "cell_type": "code",
   "execution_count": null,
   "id": "b39c36f9",
   "metadata": {},
   "outputs": [],
   "source": [
    "OnePiece.dict.view(Dict())"
   ]
  },
  {
   "cell_type": "code",
   "execution_count": null,
   "id": "53cd1ada",
   "metadata": {},
   "outputs": [],
   "source": [
    "di = Dict(\"k1\" => \"v1\", \"k2\" => \"v2\")\n",
    "\n",
    "OnePiece.dict.view(di)"
   ]
  },
  {
   "cell_type": "code",
   "execution_count": null,
   "id": "429e2fee",
   "metadata": {},
   "outputs": [],
   "source": [
    "OnePiece.dict.view(di, id = 2)"
   ]
  },
  {
   "cell_type": "code",
   "execution_count": null,
   "id": "ccb62f7f",
   "metadata": {},
   "outputs": [],
   "source": [
    "OnePiece.dict.view(di, n_pa = 1, id = 4)"
   ]
  },
  {
   "cell_type": "markdown",
   "id": "db43b4a9",
   "metadata": {},
   "source": [
    "## write"
   ]
  },
  {
   "cell_type": "code",
   "execution_count": null,
   "id": "0e548e55",
   "metadata": {},
   "outputs": [],
   "source": [
    "js = joinpath(tempdir(), \"write.json\")\n",
    "\n",
    "di = Dict(\n",
    "    \"Luffy\" => \"Pirate King\",\n",
    "    \"Crews\" => [\n",
    "        \"Luffy\",\n",
    "        \"Zoro\",\n",
    "        \"Nami\",\n",
    "        \"Usopp\",\n",
    "        \"Sanji\",\n",
    "        \"Chopper\",\n",
    "        \"Robin\",\n",
    "        \"Franky\",\n",
    "        \"Brook\",\n",
    "        \"Jinbe\",\n",
    "    ],\n",
    "    \"episode\" => 1030,\n",
    ")\n",
    "\n",
    "OnePiece.dict.write(js, di)"
   ]
  },
  {
   "cell_type": "code",
   "execution_count": null,
   "id": "4f8acb08",
   "metadata": {},
   "outputs": [],
   "source": [
    "di == OnePiece.dict.read(js)"
   ]
  }
 ],
 "metadata": {
  "@webio": {
   "lastCommId": null,
   "lastKernelId": null
  },
  "kernelspec": {
   "display_name": "Julia 1.7.3",
   "language": "julia",
   "name": "julia-1.7"
  },
  "language_info": {
   "file_extension": ".jl",
   "mimetype": "application/julia",
   "name": "julia",
   "version": "1.7.3"
  }
 },
 "nbformat": 4,
 "nbformat_minor": 5
}
