{
 "cells": [
  {
   "cell_type": "code",
   "execution_count": 1,
   "id": "baf12f00",
   "metadata": {
    "execution": {
     "iopub.execute_input": "2022-07-03T14:54:34.856000Z",
     "iopub.status.busy": "2022-07-03T14:54:34.459000Z",
     "iopub.status.idle": "2022-07-03T14:54:40.603000Z",
     "shell.execute_reply": "2022-07-03T14:54:40.551000Z"
    }
   },
   "outputs": [],
   "source": [
    "using Revise\n",
    "using OnePiece"
   ]
  },
  {
   "cell_type": "markdown",
   "id": "aef3bb6e",
   "metadata": {},
   "source": [
    "## map_from_mouse"
   ]
  },
  {
   "cell_type": "code",
   "execution_count": 2,
   "id": "abadc491",
   "metadata": {
    "execution": {
     "iopub.execute_input": "2022-07-03T14:54:41.007000Z",
     "iopub.status.busy": "2022-07-03T14:54:40.605000Z",
     "iopub.status.idle": "2022-07-03T14:54:54.632000Z",
     "shell.execute_reply": "2022-07-03T14:54:54.631000Z"
    }
   },
   "outputs": [
    {
     "name": "stdout",
     "output_type": "stream",
     "text": [
      "20034 keys and 17867 unique values\n",
      "{\n",
      "   Jchain => JCHAIN\n",
      "   Sult1c2 => SULT1C2\n",
      "   Agtrap => AGTRAP\n",
      "   ...\n",
      "}\n"
     ]
    }
   ],
   "source": [
    "OnePiece.dict.print(OnePiece.gene.map_from_mouse(), n_pa = 3)"
   ]
  },
  {
   "cell_type": "markdown",
   "id": "e58c0d0b",
   "metadata": {},
   "source": [
    "## map_to_ensembl"
   ]
  },
  {
   "cell_type": "code",
   "execution_count": 3,
   "id": "1819ebb5",
   "metadata": {
    "execution": {
     "iopub.execute_input": "2022-07-03T14:54:54.635000Z",
     "iopub.status.busy": "2022-07-03T14:54:54.635000Z",
     "iopub.status.idle": "2022-07-03T14:55:04.065000Z",
     "shell.execute_reply": "2022-07-03T14:55:04.065000Z"
    }
   },
   "outputs": [
    {
     "name": "stdout",
     "output_type": "stream",
     "text": [
      "880840 keys and 39651 unique values\n",
      "{\n",
      "   ENST00000303227 => GLOD5\n",
      "   ENST00000592956.1 => SYT5\n",
      "   ENST00000494923 => RPL30P5\n",
      "   ...\n",
      "}\n"
     ]
    }
   ],
   "source": [
    "OnePiece.dict.print(OnePiece.gene.map_to_ensembl(), n_pa = 3)"
   ]
  },
  {
   "cell_type": "markdown",
   "id": "5aeb9979",
   "metadata": {},
   "source": [
    "## map_to_hgnc"
   ]
  },
  {
   "cell_type": "code",
   "execution_count": 4,
   "id": "648177cb",
   "metadata": {
    "execution": {
     "iopub.execute_input": "2022-07-03T14:55:04.069000Z",
     "iopub.status.busy": "2022-07-03T14:55:04.069000Z",
     "iopub.status.idle": "2022-07-03T14:55:05.258000Z",
     "shell.execute_reply": "2022-07-03T14:55:05.257000Z"
    }
   },
   "outputs": [
    {
     "name": "stdout",
     "output_type": "stream",
     "text": [
      "98666 keys and 43126 unique values\n",
      "{\n",
      "   hsa-mir-302f => MIR302F\n",
      "   KIAA1300 => STARD9\n",
      "   KIAA0294 => ARHGEF10\n",
      "   ...\n",
      "}\n"
     ]
    }
   ],
   "source": [
    "OnePiece.dict.print(OnePiece.gene.map_to_hgnc(), n_pa = 3)"
   ]
  },
  {
   "cell_type": "markdown",
   "id": "7d14bc76",
   "metadata": {},
   "source": [
    "## read_ensembl"
   ]
  },
  {
   "cell_type": "code",
   "execution_count": 5,
   "id": "9dc290fb",
   "metadata": {
    "execution": {
     "iopub.execute_input": "2022-07-03T14:55:05.261000Z",
     "iopub.status.busy": "2022-07-03T14:55:05.261000Z",
     "iopub.status.idle": "2022-07-03T14:55:08.334000Z",
     "shell.execute_reply": "2022-07-03T14:55:08.333000Z"
    }
   },
   "outputs": [
    {
     "name": "stdout",
     "output_type": "stream",
     "text": [
      "Printing 591229 x 10\n",
      "1:3 x 1:3\n",
      "\u001b[1m3×3 DataFrame\u001b[0m\n",
      "\u001b[1m Row \u001b[0m│\u001b[1m Transcript stable ID version \u001b[0m\u001b[1m Transcript stable ID \u001b[0m\u001b[1m Transcript name \u001b[0m\n",
      "\u001b[1m     \u001b[0m│\u001b[90m InlineStrings.String31       \u001b[0m\u001b[90m String15             \u001b[0m\u001b[90m String31        \u001b[0m\n",
      "─────┼─────────────────────────────────────────────────────────────────────\n",
      "   1 │ ENST00000613260.4             ENST00000613260       CRHR1-230\n",
      "   2 │ ENST00000614143.4             ENST00000614143       CRHR1-231\n",
      "   3 │ ENST00000618382.4             ENST00000618382       CRHR1-234\n",
      "1:3 x 8:10\n",
      "\u001b[1m3×3 DataFrame\u001b[0m\n",
      "\u001b[1m Row \u001b[0m│\u001b[1m Gene Synonym \u001b[0m\u001b[1m Gene description                  \u001b[0m\u001b[1m Gene type      \u001b[0m\n",
      "\u001b[1m     \u001b[0m│\u001b[90m String31     \u001b[0m\u001b[90m String?                           \u001b[0m\u001b[90m String         \u001b[0m\n",
      "─────┼─────────────────────────────────────────────────────────────────\n",
      "   1 │ CRF-R         corticotropin releasing hormone …  protein_coding\n",
      "   2 │ CRF-R         corticotropin releasing hormone …  protein_coding\n",
      "   3 │ CRF-R         corticotropin releasing hormone …  protein_coding\n",
      "591227:591229 x 1:3\n",
      "\u001b[1m3×3 DataFrame\u001b[0m\n",
      "\u001b[1m Row \u001b[0m│\u001b[1m Transcript stable ID version \u001b[0m\u001b[1m Transcript stable ID \u001b[0m\u001b[1m Transcript name \u001b[0m\n",
      "\u001b[1m     \u001b[0m│\u001b[90m InlineStrings.String31       \u001b[0m\u001b[90m String15             \u001b[0m\u001b[90m String31        \u001b[0m\n",
      "─────┼─────────────────────────────────────────────────────────────────────\n",
      "   1 │ ENST00000650982.2             ENST00000650982      \u001b[90m missing         \u001b[0m\n",
      "   2 │ ENST00000410718.1             ENST00000410718       RNU2-70P-201\n",
      "   3 │ ENST00000423792.1             ENST00000423792      \u001b[90m missing         \u001b[0m\n",
      "591227:591229 x 8:10\n",
      "\u001b[1m3×3 DataFrame\u001b[0m\n",
      "\u001b[1m Row \u001b[0m│\u001b[1m Gene Synonym \u001b[0m\u001b[1m Gene description                  \u001b[0m\u001b[1m Gene type            \u001b[0m\n",
      "\u001b[1m     \u001b[0m│\u001b[90m String31     \u001b[0m\u001b[90m String?                           \u001b[0m\u001b[90m String               \u001b[0m\n",
      "─────┼───────────────────────────────────────────────────────────────────────\n",
      "   1 │\u001b[90m missing      \u001b[0m novel transcript                   lncRNA\n",
      "   2 │\u001b[90m missing      \u001b[0m RNA, U2 small nuclear 70, pseudo…  snRNA\n",
      "   3 │\u001b[90m missing      \u001b[0m FK506 binding protein 3, 25kDa (…  processed_pseudogene\n"
     ]
    }
   ],
   "source": [
    "en = OnePiece.gene.read_ensembl()\n",
    "\n",
    "OnePiece.dataframe.print(en)"
   ]
  },
  {
   "cell_type": "markdown",
   "id": "7c0c1b64",
   "metadata": {},
   "source": [
    "## read_hgnc"
   ]
  },
  {
   "cell_type": "code",
   "execution_count": 6,
   "id": "687a2613",
   "metadata": {
    "execution": {
     "iopub.execute_input": "2022-07-03T14:55:08.337000Z",
     "iopub.status.busy": "2022-07-03T14:55:08.336000Z",
     "iopub.status.idle": "2022-07-03T14:55:08.728000Z",
     "shell.execute_reply": "2022-07-03T14:55:08.728000Z"
    }
   },
   "outputs": [
    {
     "name": "stdout",
     "output_type": "stream",
     "text": [
      "Printing 43126 x 54\n",
      "1:3 x 1:3\n",
      "\u001b[1m3×3 DataFrame\u001b[0m\n",
      "\u001b[1m Row \u001b[0m│\u001b[1m hgnc_id    \u001b[0m\u001b[1m symbol   \u001b[0m\u001b[1m name                           \u001b[0m\n",
      "\u001b[1m     \u001b[0m│\u001b[90m String15   \u001b[0m\u001b[90m String31 \u001b[0m\u001b[90m String                         \u001b[0m\n",
      "─────┼──────────────────────────────────────────────────────\n",
      "   1 │ HGNC:5      A1BG      alpha-1-B glycoprotein\n",
      "   2 │ HGNC:37133  A1BG-AS1  A1BG antisense RNA 1\n",
      "   3 │ HGNC:24086  A1CF      APOBEC1 complementation factor\n",
      "1:3 x 52:54\n",
      "\u001b[1m3×3 DataFrame\u001b[0m\n",
      "\u001b[1m Row \u001b[0m│\u001b[1m agr        \u001b[0m\u001b[1m mane_select                   \u001b[0m\u001b[1m gencc    \u001b[0m\n",
      "\u001b[1m     \u001b[0m│\u001b[90m String15   \u001b[0m\u001b[90m String?                       \u001b[0m\u001b[90m String15 \u001b[0m\n",
      "─────┼─────────────────────────────────────────────────────\n",
      "   1 │ HGNC:5      ENST00000263100.8|NM_130786.4 \u001b[90m missing  \u001b[0m\n",
      "   2 │ HGNC:37133 \u001b[90m missing                       \u001b[0m\u001b[90m missing  \u001b[0m\n",
      "   3 │ HGNC:24086  ENST00000373997.8|NM_014576.4 \u001b[90m missing  \u001b[0m\n",
      "43124:43126 x 1:3\n",
      "\u001b[1m3×3 DataFrame\u001b[0m\n",
      "\u001b[1m Row \u001b[0m│\u001b[1m hgnc_id    \u001b[0m\u001b[1m symbol   \u001b[0m\u001b[1m name                              \u001b[0m\n",
      "\u001b[1m     \u001b[0m│\u001b[90m String15   \u001b[0m\u001b[90m String31 \u001b[0m\u001b[90m String                            \u001b[0m\n",
      "─────┼─────────────────────────────────────────────────────────\n",
      "   1 │ HGNC:51695  ZYXP1     zyxin pseudogene 1\n",
      "   2 │ HGNC:29027  ZZEF1     zinc finger ZZ-type and EF-hand …\n",
      "   3 │ HGNC:24523  ZZZ3      zinc finger ZZ-type containing 3\n",
      "43124:43126 x 52:54\n",
      "\u001b[1m3×3 DataFrame\u001b[0m\n",
      "\u001b[1m Row \u001b[0m│\u001b[1m agr        \u001b[0m\u001b[1m mane_select                   \u001b[0m\u001b[1m gencc    \u001b[0m\n",
      "\u001b[1m     \u001b[0m│\u001b[90m String15   \u001b[0m\u001b[90m String?                       \u001b[0m\u001b[90m String15 \u001b[0m\n",
      "─────┼─────────────────────────────────────────────────────\n",
      "   1 │ HGNC:51695 \u001b[90m missing                       \u001b[0m\u001b[90m missing  \u001b[0m\n",
      "   2 │ HGNC:29027  ENST00000381638.7|NM_015113.4 \u001b[90m missing  \u001b[0m\n",
      "   3 │ HGNC:24523  ENST00000370801.8|NM_015534.6 \u001b[90m missing  \u001b[0m\n"
     ]
    }
   ],
   "source": [
    "hg = OnePiece.gene.read_hgnc()\n",
    "\n",
    "OnePiece.dataframe.print(hg)"
   ]
  },
  {
   "cell_type": "markdown",
   "id": "d977a08d",
   "metadata": {},
   "source": [
    "## rename"
   ]
  },
  {
   "cell_type": "code",
   "execution_count": 7,
   "id": "44d3683b",
   "metadata": {
    "execution": {
     "iopub.execute_input": "2022-07-03T14:55:08.733000Z",
     "iopub.status.busy": "2022-07-03T14:55:08.733000Z",
     "iopub.status.idle": "2022-07-03T14:55:10.453000Z",
     "shell.execute_reply": "2022-07-03T14:55:10.453000Z"
    }
   },
   "outputs": [
    {
     "name": "stdout",
     "output_type": "stream",
     "text": [
      "Kept 39401\n",
      "Named 162\n",
      "Failed 88\n"
     ]
    },
    {
     "data": {
      "text/plain": [
       "([\"CRHR1\", \"LINC02210-CRHR1\", \"CTSB\", \"FDFT1\", \"GPX5\", \"KIR2DS4\", \"MUC2\", \"MKKS\", \"RGS5\", \"SQSTM1\"  …  \"WARS2-AS1\", \"MDS2\", \"MRPL20-AS1\", \"LRRC52-AS1\", \"ITPKB-IT1\", \"EMC1-AS1\", \"BCAR3-AS1\", \"COA6-AS1\", \"CTXND2\", \"RNU2-70P\"], [0, 0, 0, 0, 0, 0, 0, 0, 0, 0  …  0, 0, 0, 0, 0, 0, 0, 0, 0, 0])"
      ]
     },
     "execution_count": 7,
     "metadata": {},
     "output_type": "execute_result"
    }
   ],
   "source": [
    "na_, ma_ = OnePiece.gene.rename(unique(skipmissing(en[!, \"Gene name\"])), en = false, mo = false)"
   ]
  },
  {
   "cell_type": "code",
   "execution_count": 8,
   "id": "1472bc79",
   "metadata": {
    "execution": {
     "iopub.execute_input": "2022-07-03T14:55:10.456000Z",
     "iopub.status.busy": "2022-07-03T14:55:10.456000Z",
     "iopub.status.idle": "2022-07-03T14:55:19.127000Z",
     "shell.execute_reply": "2022-07-03T14:55:19.127000Z"
    }
   },
   "outputs": [
    {
     "name": "stdout",
     "output_type": "stream",
     "text": [
      "Kept 39401\n",
      "Named 42\n",
      "Failed 3683\n"
     ]
    },
    {
     "data": {
      "text/plain": [
       "([\"A1BG\", \"A1BG-AS1\", \"A1CF\", \"A2M\", \"A2M-AS1\", \"A2ML1\", \"A2ML1-AS1\", \"A2ML1-AS2\", \"A2MP1\", \"A3GALT2\"  …  \"ZXDA\", \"ZXDB\", \"ZXDC\", \"ZYG11A\", \"ZYG11AP1\", \"ZYG11B\", \"ZYX\", \"ZYXP1\", \"ZZEF1\", \"ZZZ3\"], [0, 0, 0, 0, 0, 0, 0, 0, 0, 0  …  0, 0, 0, 0, 0, 0, 0, 0, 0, 0])"
      ]
     },
     "execution_count": 8,
     "metadata": {},
     "output_type": "execute_result"
    }
   ],
   "source": [
    "na_, ma_ = OnePiece.gene.rename(unique(skipmissing(hg[!, \"symbol\"])), hg = false, mo = false)"
   ]
  }
 ],
 "metadata": {
  "@webio": {
   "lastCommId": null,
   "lastKernelId": null
  },
  "kernelspec": {
   "display_name": "Julia 1.7.3",
   "language": "julia",
   "name": "julia-1.7"
  },
  "language_info": {
   "file_extension": ".jl",
   "mimetype": "application/julia",
   "name": "julia",
   "version": "1.7.3"
  }
 },
 "nbformat": 4,
 "nbformat_minor": 5
}
