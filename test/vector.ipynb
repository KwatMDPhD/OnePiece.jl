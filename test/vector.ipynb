{
 "cells": [
  {
   "cell_type": "code",
   "execution_count": 1,
   "id": "baf12f00",
   "metadata": {
    "execution": {
     "iopub.execute_input": "2022-07-10T14:28:15.114000Z",
     "iopub.status.busy": "2022-07-10T14:28:14.771000Z",
     "iopub.status.idle": "2022-07-10T14:28:19.646000Z",
     "shell.execute_reply": "2022-07-10T14:28:19.598000Z"
    }
   },
   "outputs": [],
   "source": [
    "using OnePiece"
   ]
  },
  {
   "cell_type": "markdown",
   "id": "e71c279e",
   "metadata": {},
   "source": [
    "---"
   ]
  },
  {
   "cell_type": "markdown",
   "id": "1171337b",
   "metadata": {},
   "source": [
    "## get_longest_common_prefix"
   ]
  },
  {
   "cell_type": "code",
   "execution_count": 2,
   "id": "af6cf4c6",
   "metadata": {
    "execution": {
     "iopub.execute_input": "2022-07-10T14:28:20.138000Z",
     "iopub.status.busy": "2022-07-10T14:28:19.664000Z",
     "iopub.status.idle": "2022-07-10T14:28:21.234000Z",
     "shell.execute_reply": "2022-07-10T14:28:21.234000Z"
    }
   },
   "outputs": [
    {
     "name": "stdout",
     "output_type": "stream",
     "text": [
      "nothing\n",
      "[1]\n",
      "[1.0]\n",
      "['a']\n",
      "[\"a\"]\n",
      "[1]\n"
     ]
    }
   ],
   "source": [
    "for ve_ in (\n",
    "    [[], []],\n",
    "    [[1], [1, 2]],\n",
    "    [[1.0], [1.0, 2.0]],\n",
    "    [['a'], ['a', 'b']],\n",
    "    [[\"a\"], [\"a\", \"b\"]],\n",
    "    [[1, 2, 3], [1, 4, 5]],\n",
    ")\n",
    "\n",
    "    println(OnePiece.vector.get_longest_common_prefix(ve_...))\n",
    "\n",
    "end"
   ]
  },
  {
   "cell_type": "code",
   "execution_count": 3,
   "id": "12014c93",
   "metadata": {
    "execution": {
     "iopub.execute_input": "2022-07-10T14:28:21.237000Z",
     "iopub.status.busy": "2022-07-10T14:28:21.237000Z",
     "iopub.status.idle": "2022-07-10T14:28:21.869000Z",
     "shell.execute_reply": "2022-07-10T14:28:21.869000Z"
    }
   },
   "outputs": [
    {
     "data": {
      "text/plain": [
       "\"a\""
      ]
     },
     "execution_count": 3,
     "metadata": {},
     "output_type": "execute_result"
    }
   ],
   "source": [
    "OnePiece.vector.get_longest_common_prefix(\"abc\", \"abcd\", \"a\")"
   ]
  },
  {
   "cell_type": "markdown",
   "id": "e7fb4626",
   "metadata": {},
   "source": [
    "## is_in"
   ]
  },
  {
   "cell_type": "code",
   "execution_count": 4,
   "id": "676ebb5f",
   "metadata": {
    "execution": {
     "iopub.execute_input": "2022-07-10T14:28:21.872000Z",
     "iopub.status.busy": "2022-07-10T14:28:21.872000Z",
     "iopub.status.idle": "2022-07-10T14:28:22.839000Z",
     "shell.execute_reply": "2022-07-10T14:28:22.839000Z"
    }
   },
   "outputs": [
    {
     "data": {
      "text/plain": [
       "13-element Vector{Bool}:\n",
       " 0\n",
       " 1\n",
       " 0\n",
       " 0\n",
       " 0\n",
       " 0\n",
       " 0\n",
       " 0\n",
       " 0\n",
       " 0\n",
       " 0\n",
       " 0\n",
       " 1"
      ]
     },
     "execution_count": 4,
     "metadata": {},
     "output_type": "execute_result"
    }
   ],
   "source": [
    "ca_ = collect(\"A23456789XJQK\")\n",
    "\n",
    "st1_ = ['1', '2', 'K']\n",
    "\n",
    "OnePiece.vector.is_in(ca_, st1_)"
   ]
  },
  {
   "cell_type": "code",
   "execution_count": 5,
   "id": "5ac0cb58",
   "metadata": {
    "execution": {
     "iopub.execute_input": "2022-07-10T14:28:22.842000Z",
     "iopub.status.busy": "2022-07-10T14:28:22.842000Z",
     "iopub.status.idle": "2022-07-10T14:28:23.010000Z",
     "shell.execute_reply": "2022-07-10T14:28:23.009000Z"
    }
   },
   "outputs": [
    {
     "data": {
      "text/plain": [
       "13-element Vector{Bool}:\n",
       " 0\n",
       " 1\n",
       " 0\n",
       " 0\n",
       " 0\n",
       " 0\n",
       " 0\n",
       " 0\n",
       " 0\n",
       " 0\n",
       " 0\n",
       " 0\n",
       " 1"
      ]
     },
     "execution_count": 5,
     "metadata": {},
     "output_type": "execute_result"
    }
   ],
   "source": [
    "ca_id = Dict(ca => id for (id, ca) in enumerate(ca_))\n",
    "\n",
    "OnePiece.vector.is_in(ca_id, st1_)"
   ]
  },
  {
   "cell_type": "markdown",
   "id": "c3e6f165",
   "metadata": {},
   "source": [
    "## sort_like"
   ]
  },
  {
   "cell_type": "code",
   "execution_count": 6,
   "id": "7b6b1321",
   "metadata": {
    "execution": {
     "iopub.execute_input": "2022-07-10T14:28:23.013000Z",
     "iopub.status.busy": "2022-07-10T14:28:23.013000Z",
     "iopub.status.idle": "2022-07-10T14:28:24.206000Z",
     "shell.execute_reply": "2022-07-10T14:28:24.206000Z"
    }
   },
   "outputs": [
    {
     "data": {
      "text/plain": [
       "3-element Vector{Vector}:\n",
       " [1, 2, 3, 4]\n",
       " ['e', 't', 'a', 'K']\n",
       " [\"K\", \"w\", \"a\", \"t\"]"
      ]
     },
     "execution_count": 6,
     "metadata": {},
     "output_type": "execute_result"
    }
   ],
   "source": [
    "ve1 = ['a', 'e', 'K', 't']\n",
    "\n",
    "ve2 = [\"a\", \"K\", \"t\", \"w\"]\n",
    "\n",
    "OnePiece.vector.sort_like([2, 4, 1, 3], ve1, ve2)\n",
    "\n",
    "OnePiece.vector.sort_like([3, 1, 4, 2], ve1, ve2)"
   ]
  },
  {
   "cell_type": "markdown",
   "id": "1cc202f1",
   "metadata": {},
   "source": [
    "---"
   ]
  }
 ],
 "metadata": {
  "kernelspec": {
   "display_name": "Julia 1.7.3",
   "language": "julia",
   "name": "julia-1.7"
  },
  "language_info": {
   "file_extension": ".jl",
   "mimetype": "application/julia",
   "name": "julia",
   "version": "1.7.3"
  }
 },
 "nbformat": 4,
 "nbformat_minor": 5
}
