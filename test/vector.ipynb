{
 "cells": [
  {
   "cell_type": "code",
   "execution_count": null,
   "id": "baf12f00",
   "metadata": {},
   "outputs": [],
   "source": [
    "using OnePiece"
   ]
  },
  {
   "cell_type": "markdown",
   "id": "e71c279e",
   "metadata": {},
   "source": [
    "---"
   ]
  },
  {
   "cell_type": "markdown",
   "id": "1171337b",
   "metadata": {},
   "source": [
    "## get_longest_common_prefix"
   ]
  },
  {
   "cell_type": "code",
   "execution_count": null,
   "id": "af6cf4c6",
   "metadata": {},
   "outputs": [],
   "source": [
    "for ve_ in (\n",
    "    [[], []],\n",
    "    [[1], [1, 2]],\n",
    "    [[1.0], [1.0, 2.0]],\n",
    "    [['a'], ['a', 'b']],\n",
    "    [[\"a\"], [\"a\", \"b\"]],\n",
    "    [[1, 2, 3], [1, 4, 5]],\n",
    ")\n",
    "\n",
    "    println(OnePiece.vector.get_longest_common_prefix(ve_...))\n",
    "\n",
    "end"
   ]
  },
  {
   "cell_type": "code",
   "execution_count": null,
   "id": "12014c93",
   "metadata": {},
   "outputs": [],
   "source": [
    "OnePiece.vector.get_longest_common_prefix(\"abc\", \"abcd\", \"a\")"
   ]
  },
  {
   "cell_type": "markdown",
   "id": "e7fb4626",
   "metadata": {},
   "source": [
    "## is_in"
   ]
  },
  {
   "cell_type": "code",
   "execution_count": null,
   "id": "676ebb5f",
   "metadata": {},
   "outputs": [],
   "source": [
    "ca_ = collect(\"A23456789XJQK\")\n",
    "\n",
    "st1_ = ['1', '2', 'K']\n",
    "\n",
    "OnePiece.vector.is_in(ca_, st1_)"
   ]
  },
  {
   "cell_type": "code",
   "execution_count": null,
   "id": "5ac0cb58",
   "metadata": {},
   "outputs": [],
   "source": [
    "ca_id = Dict(ca => id for (id, ca) in enumerate(ca_))\n",
    "\n",
    "OnePiece.vector.is_in(ca_id, st1_)"
   ]
  },
  {
   "cell_type": "markdown",
   "id": "c3e6f165",
   "metadata": {},
   "source": [
    "## sort_like"
   ]
  },
  {
   "cell_type": "code",
   "execution_count": null,
   "id": "7b6b1321",
   "metadata": {},
   "outputs": [],
   "source": [
    "ve1 = ['a', 'e', 'K', 't']\n",
    "\n",
    "ve2 = [\"a\", \"K\", \"t\", \"w\"]\n",
    "\n",
    "OnePiece.vector.sort_like([2, 4, 1, 3], ve1, ve2)\n",
    "\n",
    "OnePiece.vector.sort_like([3, 1, 4, 2], ve1, ve2)"
   ]
  },
  {
   "cell_type": "markdown",
   "id": "1cc202f1",
   "metadata": {},
   "source": [
    "---"
   ]
  }
 ],
 "metadata": {
  "kernelspec": {
   "display_name": "Julia 1.7.3",
   "language": "julia",
   "name": "julia-1.7"
  },
  "language_info": {
   "file_extension": ".jl",
   "mimetype": "application/julia",
   "name": "julia",
   "version": "1.7.3"
  }
 },
 "nbformat": 4,
 "nbformat_minor": 5
}
