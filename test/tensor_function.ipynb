{
 "cells": [
  {
   "cell_type": "code",
   "execution_count": null,
   "id": "baf12f00",
   "metadata": {},
   "outputs": [],
   "source": [
    "using Revise\n",
    "using OnePiece"
   ]
  },
  {
   "cell_type": "markdown",
   "id": "ab6ddc1f",
   "metadata": {},
   "source": [
    "## apply"
   ]
  },
  {
   "cell_type": "code",
   "execution_count": null,
   "id": "6898de71",
   "metadata": {},
   "outputs": [],
   "source": [
    "function fu(ve1, ve2)\n",
    "    \n",
    "    le = sum(ve1)\n",
    "    \n",
    "    ri = sum(ve2) \n",
    "    \n",
    "    println(\"$le & $ri\")\n",
    "    \n",
    "    le - ri\n",
    "    \n",
    "end"
   ]
  },
  {
   "cell_type": "code",
   "execution_count": null,
   "id": "a3397861",
   "metadata": {},
   "outputs": [],
   "source": [
    "n_ro = 5\n",
    "\n",
    "n_co = 4\n",
    "\n",
    "ma = OnePiece.tensor.simulate(n_ro, n_co)"
   ]
  },
  {
   "cell_type": "code",
   "execution_count": null,
   "id": "dccf79f3",
   "metadata": {},
   "outputs": [],
   "source": [
    "co = [10^(id - 1) for id in 1:n_co]"
   ]
  },
  {
   "cell_type": "code",
   "execution_count": null,
   "id": "786c9565",
   "metadata": {},
   "outputs": [],
   "source": [
    "n_ze = convert(Int64, n_co / 2)\n",
    "\n",
    "bi = convert(BitVector, [zeros(n_ze); ones(n_co - n_ze)])"
   ]
  },
  {
   "cell_type": "code",
   "execution_count": null,
   "id": "d73c6551",
   "metadata": {},
   "outputs": [],
   "source": [
    "OnePiece.tensor_function.apply(co, co, fu)"
   ]
  },
  {
   "cell_type": "code",
   "execution_count": null,
   "id": "996d485f",
   "metadata": {},
   "outputs": [],
   "source": [
    "OnePiece.tensor_function.apply(bi, co, fu)"
   ]
  },
  {
   "cell_type": "code",
   "execution_count": null,
   "id": "9b15b10e",
   "metadata": {},
   "outputs": [],
   "source": [
    "OnePiece.tensor_function.apply(co, ma, fu)"
   ]
  },
  {
   "cell_type": "code",
   "execution_count": null,
   "id": "15784fda",
   "metadata": {},
   "outputs": [],
   "source": [
    "OnePiece.tensor_function.apply(bi, ma, fu)"
   ]
  },
  {
   "cell_type": "code",
   "execution_count": null,
   "id": "531a5a1f",
   "metadata": {},
   "outputs": [],
   "source": [
    "OnePiece.tensor_function.apply(ma, ma, fu)"
   ]
  },
  {
   "cell_type": "code",
   "execution_count": null,
   "id": "bb0befe5",
   "metadata": {},
   "outputs": [],
   "source": [
    "ma2 = [\n",
    "    1 10 100 1000\n",
    "    0.001 0.0 1 0.1\n",
    "]"
   ]
  },
  {
   "cell_type": "code",
   "execution_count": null,
   "id": "63c822b4",
   "metadata": {},
   "outputs": [],
   "source": [
    "ma1 = [\n",
    "    0 0 1 1\n",
    "]\n",
    "\n",
    "OnePiece.tensor_function.apply(ma1, ma2, fu)"
   ]
  },
  {
   "cell_type": "code",
   "execution_count": null,
   "id": "3d62de2a",
   "metadata": {},
   "outputs": [],
   "source": [
    "OnePiece.tensor_function.apply(convert(BitMatrix, ma1), ma2, fu)"
   ]
  },
  {
   "cell_type": "code",
   "execution_count": null,
   "id": "e79caf74",
   "metadata": {},
   "outputs": [],
   "source": [
    "OnePiece.tensor_function.apply([\n",
    "    0 0 1 1\n",
    "    -1 0 2 3\n",
    "], ma2, fu)"
   ]
  }
 ],
 "metadata": {
  "@webio": {
   "lastCommId": null,
   "lastKernelId": null
  },
  "kernelspec": {
   "display_name": "Julia 1.7.3",
   "language": "julia",
   "name": "julia-1.7"
  },
  "language_info": {
   "file_extension": ".jl",
   "mimetype": "application/julia",
   "name": "julia",
   "version": "1.7.3"
  }
 },
 "nbformat": 4,
 "nbformat_minor": 5
}
