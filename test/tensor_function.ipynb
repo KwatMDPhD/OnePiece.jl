{
 "cells": [
  {
   "cell_type": "code",
   "execution_count": 1,
   "id": "baf12f00",
   "metadata": {
    "execution": {
     "iopub.execute_input": "2022-07-03T15:03:24.998000Z",
     "iopub.status.busy": "2022-07-03T15:03:24.190000Z",
     "iopub.status.idle": "2022-07-03T15:03:35.805000Z",
     "shell.execute_reply": "2022-07-03T15:03:35.723000Z"
    }
   },
   "outputs": [],
   "source": [
    "using Revise\n",
    "using OnePiece"
   ]
  },
  {
   "cell_type": "markdown",
   "id": "ab6ddc1f",
   "metadata": {},
   "source": [
    "## apply"
   ]
  },
  {
   "cell_type": "code",
   "execution_count": 2,
   "id": "3fe26de2",
   "metadata": {
    "execution": {
     "iopub.execute_input": "2022-07-03T15:03:36.428000Z",
     "iopub.status.busy": "2022-07-03T15:03:35.810000Z",
     "iopub.status.idle": "2022-07-03T15:03:38.507000Z",
     "shell.execute_reply": "2022-07-03T15:03:38.506000Z"
    }
   },
   "outputs": [
    {
     "data": {
      "text/plain": [
       "fu (generic function with 1 method)"
      ]
     },
     "execution_count": 2,
     "metadata": {},
     "output_type": "execute_result"
    }
   ],
   "source": [
    "function fu(ve1, ve2)\n",
    "    \n",
    "    le = sum(ve1)\n",
    "    \n",
    "    ri = sum(ve2) \n",
    "    \n",
    "    println(\"$le & $ri\")\n",
    "    \n",
    "    le - ri\n",
    "    \n",
    "end"
   ]
  },
  {
   "cell_type": "code",
   "execution_count": 3,
   "id": "a3397861",
   "metadata": {
    "execution": {
     "iopub.execute_input": "2022-07-03T15:03:38.512000Z",
     "iopub.status.busy": "2022-07-03T15:03:38.512000Z",
     "iopub.status.idle": "2022-07-03T15:03:40.179000Z",
     "shell.execute_reply": "2022-07-03T15:03:40.178000Z"
    }
   },
   "outputs": [
    {
     "data": {
      "text/plain": [
       "5×4 Matrix{Float64}:\n",
       " 1.0   6.0  11.0  16.0\n",
       " 2.0   7.0  12.0  17.0\n",
       " 3.0   8.0  13.0  18.0\n",
       " 4.0   9.0  14.0  19.0\n",
       " 5.0  10.0  15.0  20.0"
      ]
     },
     "execution_count": 3,
     "metadata": {},
     "output_type": "execute_result"
    }
   ],
   "source": [
    "n_ro = 5\n",
    "\n",
    "n_co = 4\n",
    "\n",
    "ma = OnePiece.tensor.simulate(n_ro, n_co)"
   ]
  },
  {
   "cell_type": "code",
   "execution_count": 4,
   "id": "dccf79f3",
   "metadata": {
    "execution": {
     "iopub.execute_input": "2022-07-03T15:03:40.183000Z",
     "iopub.status.busy": "2022-07-03T15:03:40.183000Z",
     "iopub.status.idle": "2022-07-03T15:03:40.786000Z",
     "shell.execute_reply": "2022-07-03T15:03:40.786000Z"
    }
   },
   "outputs": [
    {
     "data": {
      "text/plain": [
       "4-element Vector{Int64}:\n",
       "    1\n",
       "   10\n",
       "  100\n",
       " 1000"
      ]
     },
     "execution_count": 4,
     "metadata": {},
     "output_type": "execute_result"
    }
   ],
   "source": [
    "co = [10^(id - 1) for id in 1:n_co]"
   ]
  },
  {
   "cell_type": "code",
   "execution_count": 5,
   "id": "786c9565",
   "metadata": {
    "execution": {
     "iopub.execute_input": "2022-07-03T15:03:40.791000Z",
     "iopub.status.busy": "2022-07-03T15:03:40.791000Z",
     "iopub.status.idle": "2022-07-03T15:03:41.530000Z",
     "shell.execute_reply": "2022-07-03T15:03:41.529000Z"
    }
   },
   "outputs": [
    {
     "data": {
      "text/plain": [
       "4-element BitVector:\n",
       " 0\n",
       " 0\n",
       " 1\n",
       " 1"
      ]
     },
     "execution_count": 5,
     "metadata": {},
     "output_type": "execute_result"
    }
   ],
   "source": [
    "n_ze = convert(Int64, n_co / 2)\n",
    "\n",
    "bi = convert(BitVector, [zeros(n_ze); ones(n_co - n_ze)])"
   ]
  },
  {
   "cell_type": "code",
   "execution_count": 6,
   "id": "d73c6551",
   "metadata": {
    "execution": {
     "iopub.execute_input": "2022-07-03T15:03:41.534000Z",
     "iopub.status.busy": "2022-07-03T15:03:41.534000Z",
     "iopub.status.idle": "2022-07-03T15:03:41.875000Z",
     "shell.execute_reply": "2022-07-03T15:03:41.874000Z"
    }
   },
   "outputs": [
    {
     "name": "stdout",
     "output_type": "stream",
     "text": [
      "1111 & 1111\n"
     ]
    },
    {
     "data": {
      "text/plain": [
       "0"
      ]
     },
     "execution_count": 6,
     "metadata": {},
     "output_type": "execute_result"
    }
   ],
   "source": [
    "OnePiece.tensor_function.apply(co, co, fu)"
   ]
  },
  {
   "cell_type": "code",
   "execution_count": 7,
   "id": "996d485f",
   "metadata": {
    "execution": {
     "iopub.execute_input": "2022-07-03T15:03:41.881000Z",
     "iopub.status.busy": "2022-07-03T15:03:41.880000Z",
     "iopub.status.idle": "2022-07-03T15:03:42.021000Z",
     "shell.execute_reply": "2022-07-03T15:03:42.020000Z"
    }
   },
   "outputs": [
    {
     "name": "stdout",
     "output_type": "stream",
     "text": [
      "11 & 1100\n"
     ]
    },
    {
     "data": {
      "text/plain": [
       "-1089"
      ]
     },
     "execution_count": 7,
     "metadata": {},
     "output_type": "execute_result"
    }
   ],
   "source": [
    "OnePiece.tensor_function.apply(bi, co, fu)"
   ]
  },
  {
   "cell_type": "code",
   "execution_count": 8,
   "id": "9b15b10e",
   "metadata": {
    "execution": {
     "iopub.execute_input": "2022-07-03T15:03:42.028000Z",
     "iopub.status.busy": "2022-07-03T15:03:42.027000Z",
     "iopub.status.idle": "2022-07-03T15:03:42.770000Z",
     "shell.execute_reply": "2022-07-03T15:03:42.770000Z"
    }
   },
   "outputs": [
    {
     "name": "stdout",
     "output_type": "stream",
     "text": [
      "1111 & 34.0\n",
      "1111 & 38.0\n",
      "1111 & 42.0\n",
      "1111 & 46.0\n",
      "1111 & 50.0\n"
     ]
    },
    {
     "data": {
      "text/plain": [
       "5-element Vector{Float64}:\n",
       " 1077.0\n",
       " 1073.0\n",
       " 1069.0\n",
       " 1065.0\n",
       " 1061.0"
      ]
     },
     "execution_count": 8,
     "metadata": {},
     "output_type": "execute_result"
    }
   ],
   "source": [
    "OnePiece.tensor_function.apply(co, ma, fu)"
   ]
  },
  {
   "cell_type": "code",
   "execution_count": 9,
   "id": "15784fda",
   "metadata": {
    "execution": {
     "iopub.execute_input": "2022-07-03T15:03:42.775000Z",
     "iopub.status.busy": "2022-07-03T15:03:42.775000Z",
     "iopub.status.idle": "2022-07-03T15:03:43.047000Z",
     "shell.execute_reply": "2022-07-03T15:03:43.047000Z"
    }
   },
   "outputs": [
    {
     "name": "stdout",
     "output_type": "stream",
     "text": [
      "7.0 & 27.0\n",
      "9.0 & 29.0\n",
      "11.0 & 31.0\n",
      "13.0 & 33.0\n",
      "15.0 & 35.0\n"
     ]
    },
    {
     "data": {
      "text/plain": [
       "5-element Vector{Float64}:\n",
       " -20.0\n",
       " -20.0\n",
       " -20.0\n",
       " -20.0\n",
       " -20.0"
      ]
     },
     "execution_count": 9,
     "metadata": {},
     "output_type": "execute_result"
    }
   ],
   "source": [
    "OnePiece.tensor_function.apply(bi, ma, fu)"
   ]
  },
  {
   "cell_type": "code",
   "execution_count": 10,
   "id": "531a5a1f",
   "metadata": {
    "execution": {
     "iopub.execute_input": "2022-07-03T15:03:43.052000Z",
     "iopub.status.busy": "2022-07-03T15:03:43.052000Z",
     "iopub.status.idle": "2022-07-03T15:03:43.199000Z",
     "shell.execute_reply": "2022-07-03T15:03:43.199000Z"
    }
   },
   "outputs": [
    {
     "name": "stdout",
     "output_type": "stream",
     "text": [
      "34.0 & 34.0\n",
      "38.0 & 34.0\n",
      "42.0 & 34.0\n",
      "46.0 & 34.0\n",
      "50.0 & 34.0\n",
      "34.0 & 38.0\n",
      "38.0 & 38.0\n",
      "42.0 & 38.0\n",
      "46.0 & 38.0\n",
      "50.0 & 38.0\n",
      "34.0 & 42.0\n",
      "38.0 & 42.0\n",
      "42.0 & 42.0\n",
      "46.0 & 42.0\n",
      "50.0 & 42.0\n",
      "34.0 & 46.0\n",
      "38.0 & 46.0\n",
      "42.0 & 46.0\n",
      "46.0 & 46.0\n",
      "50.0 & 46.0\n",
      "34.0 & 50.0\n",
      "38.0 & 50.0\n",
      "42.0 & 50.0\n",
      "46.0 & 50.0\n",
      "50.0 & 50.0\n"
     ]
    },
    {
     "data": {
      "text/plain": [
       "5×5 Matrix{Float64}:\n",
       "  0.0  -4.0  -8.0  -12.0  -16.0\n",
       "  4.0   0.0  -4.0   -8.0  -12.0\n",
       "  8.0   4.0   0.0   -4.0   -8.0\n",
       " 12.0   8.0   4.0    0.0   -4.0\n",
       " 16.0  12.0   8.0    4.0    0.0"
      ]
     },
     "execution_count": 10,
     "metadata": {},
     "output_type": "execute_result"
    }
   ],
   "source": [
    "OnePiece.tensor_function.apply(ma, ma, fu)"
   ]
  },
  {
   "cell_type": "code",
   "execution_count": 11,
   "id": "9f9f8569",
   "metadata": {
    "execution": {
     "iopub.execute_input": "2022-07-03T15:03:43.203000Z",
     "iopub.status.busy": "2022-07-03T15:03:43.203000Z",
     "iopub.status.idle": "2022-07-03T15:03:43.285000Z",
     "shell.execute_reply": "2022-07-03T15:03:43.285000Z"
    }
   },
   "outputs": [
    {
     "data": {
      "text/plain": [
       "2×4 Matrix{Float64}:\n",
       " 1.0    10.0  100.0  1000.0\n",
       " 0.001   0.0    1.0     0.1"
      ]
     },
     "execution_count": 11,
     "metadata": {},
     "output_type": "execute_result"
    }
   ],
   "source": [
    "ma2 = [\n",
    "    1 10 100 1000\n",
    "    0.001 0.0 1 0.1\n",
    "]"
   ]
  },
  {
   "cell_type": "code",
   "execution_count": 12,
   "id": "63c822b4",
   "metadata": {
    "execution": {
     "iopub.execute_input": "2022-07-03T15:03:43.289000Z",
     "iopub.status.busy": "2022-07-03T15:03:43.289000Z",
     "iopub.status.idle": "2022-07-03T15:03:43.536000Z",
     "shell.execute_reply": "2022-07-03T15:03:43.536000Z"
    }
   },
   "outputs": [
    {
     "name": "stdout",
     "output_type": "stream",
     "text": [
      "2 & 1111.0\n",
      "2 & 1.101\n"
     ]
    },
    {
     "data": {
      "text/plain": [
       "1×2 Matrix{Float64}:\n",
       " -1109.0  0.899"
      ]
     },
     "execution_count": 12,
     "metadata": {},
     "output_type": "execute_result"
    }
   ],
   "source": [
    "ma1 = [\n",
    "    0 0 1 1\n",
    "]\n",
    "\n",
    "OnePiece.tensor_function.apply(ma1, ma2, fu)"
   ]
  },
  {
   "cell_type": "code",
   "execution_count": 13,
   "id": "6f822ca4",
   "metadata": {
    "execution": {
     "iopub.execute_input": "2022-07-03T15:03:43.540000Z",
     "iopub.status.busy": "2022-07-03T15:03:43.540000Z",
     "iopub.status.idle": "2022-07-03T15:03:43.958000Z",
     "shell.execute_reply": "2022-07-03T15:03:43.958000Z"
    }
   },
   "outputs": [
    {
     "name": "stdout",
     "output_type": "stream",
     "text": [
      "11.0 & 1100.0\n",
      "0.001 & 1.1\n"
     ]
    },
    {
     "data": {
      "text/plain": [
       "1×2 Matrix{Float64}:\n",
       " -1089.0  -1.099"
      ]
     },
     "execution_count": 13,
     "metadata": {},
     "output_type": "execute_result"
    }
   ],
   "source": [
    "OnePiece.tensor_function.apply(convert(BitMatrix, ma1), ma2, fu)"
   ]
  },
  {
   "cell_type": "code",
   "execution_count": 14,
   "id": "3a67e300",
   "metadata": {
    "execution": {
     "iopub.execute_input": "2022-07-03T15:03:43.962000Z",
     "iopub.status.busy": "2022-07-03T15:03:43.962000Z",
     "iopub.status.idle": "2022-07-03T15:03:43.977000Z",
     "shell.execute_reply": "2022-07-03T15:03:43.977000Z"
    }
   },
   "outputs": [
    {
     "name": "stdout",
     "output_type": "stream",
     "text": [
      "2 & 1111.0\n",
      "4 & 1111.0\n",
      "2 & 1.101\n",
      "4 & 1.101\n"
     ]
    },
    {
     "data": {
      "text/plain": [
       "2×2 Matrix{Float64}:\n",
       " -1109.0  0.899\n",
       " -1107.0  2.899"
      ]
     },
     "execution_count": 14,
     "metadata": {},
     "output_type": "execute_result"
    }
   ],
   "source": [
    "OnePiece.tensor_function.apply([\n",
    "    0 0 1 1\n",
    "    -1 0 2 3\n",
    "], ma2, fu)"
   ]
  }
 ],
 "metadata": {
  "@webio": {
   "lastCommId": null,
   "lastKernelId": null
  },
  "kernelspec": {
   "display_name": "Julia 1.7.3",
   "language": "julia",
   "name": "julia-1.7"
  },
  "language_info": {
   "file_extension": ".jl",
   "mimetype": "application/julia",
   "name": "julia",
   "version": "1.7.3"
  }
 },
 "nbformat": 4,
 "nbformat_minor": 5
}
