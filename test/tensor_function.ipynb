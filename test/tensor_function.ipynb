{
 "cells": [
  {
   "cell_type": "code",
   "execution_count": null,
   "id": "baf12f00",
   "metadata": {},
   "outputs": [],
   "source": [
    "using Revise\n",
    "using OnePiece"
   ]
  },
  {
   "cell_type": "markdown",
   "id": "ab6ddc1f",
   "metadata": {},
   "source": [
    "## apply"
   ]
  },
  {
   "cell_type": "code",
   "execution_count": null,
   "id": "a3397861",
   "metadata": {},
   "outputs": [],
   "source": [
    "n_ro = 5\n",
    "\n",
    "n_co = 4\n",
    "\n",
    "ma = OnePiece.tensor.simulate(n_ro, n_co)"
   ]
  },
  {
   "cell_type": "code",
   "execution_count": null,
   "id": "dccf79f3",
   "metadata": {},
   "outputs": [],
   "source": [
    "ve = [10^(id - 1) for id in 1:n_co]"
   ]
  },
  {
   "cell_type": "code",
   "execution_count": null,
   "id": "786c9565",
   "metadata": {},
   "outputs": [],
   "source": [
    "n_ze = convert(Int64, n_co / 2)\n",
    "\n",
    "bi_ = convert(BitVector, [zeros(n_ze); ones(n_co - n_ze)])"
   ]
  },
  {
   "cell_type": "code",
   "execution_count": null,
   "id": "2ecdfcb3",
   "metadata": {},
   "outputs": [],
   "source": [
    "function function_on_group(ve1, ve2)\n",
    "    \n",
    "    sum(ve1) - sum(ve2)\n",
    "    \n",
    "end"
   ]
  },
  {
   "cell_type": "code",
   "execution_count": null,
   "id": "d73c6551",
   "metadata": {},
   "outputs": [],
   "source": [
    "OnePiece.tensor_function.apply(ve, ve, .-)"
   ]
  },
  {
   "cell_type": "code",
   "execution_count": null,
   "id": "996d485f",
   "metadata": {},
   "outputs": [],
   "source": [
    "OnePiece.tensor_function.apply(bi_, ve, function_on_group)"
   ]
  },
  {
   "cell_type": "code",
   "execution_count": null,
   "id": "9b15b10e",
   "metadata": {},
   "outputs": [],
   "source": [
    "OnePiece.tensor_function.apply(ve, ma, .*)"
   ]
  },
  {
   "cell_type": "code",
   "execution_count": null,
   "id": "15784fda",
   "metadata": {},
   "outputs": [],
   "source": [
    "OnePiece.tensor_function.apply(bi_, ma, function_on_group)"
   ]
  },
  {
   "cell_type": "code",
   "execution_count": null,
   "id": "531a5a1f",
   "metadata": {},
   "outputs": [],
   "source": [
    "OnePiece.tensor_function.apply(ma, ma, (ro1, ro2) -> minimum([ro1; ro2]))"
   ]
  },
  {
   "cell_type": "code",
   "execution_count": null,
   "id": "734a8c61",
   "metadata": {},
   "outputs": [],
   "source": [
    "ma2 = [\n",
    "    1 10 100 1000\n",
    "    0.001 0.0 1 0.1\n",
    "]\n",
    "\n",
    "ma1 = [\n",
    "    0 0 1 1\n",
    "    -1 0 1 2\n",
    "]\n",
    "\n",
    "OnePiece.tensor_function.apply(ma1, ma2, +)"
   ]
  },
  {
   "cell_type": "code",
   "execution_count": null,
   "id": "63c822b4",
   "metadata": {},
   "outputs": [],
   "source": [
    "ma1 = convert(\n",
    "    BitMatrix,\n",
    "    [\n",
    "        0 0 1 1\n",
    "        1 1 0 0\n",
    "    ],\n",
    ")\n",
    "\n",
    "OnePiece.tensor_function.apply(ma1, ma2, .+)"
   ]
  }
 ],
 "metadata": {
  "@webio": {
   "lastCommId": null,
   "lastKernelId": null
  },
  "kernelspec": {
   "display_name": "Julia 1.7.3",
   "language": "julia",
   "name": "julia-1.7"
  },
  "language_info": {
   "file_extension": ".jl",
   "mimetype": "application/julia",
   "name": "julia",
   "version": "1.7.3"
  }
 },
 "nbformat": 4,
 "nbformat_minor": 5
}
