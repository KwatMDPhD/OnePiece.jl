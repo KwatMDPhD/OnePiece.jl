{
 "cells": [
  {
   "cell_type": "code",
   "execution_count": 1,
   "id": "baf12f00",
   "metadata": {
    "execution": {
     "iopub.execute_input": "2022-07-02T14:32:54.929000Z",
     "iopub.status.busy": "2022-07-02T14:32:54.580000Z",
     "iopub.status.idle": "2022-07-02T14:33:00.468000Z",
     "shell.execute_reply": "2022-07-02T14:33:00.423000Z"
    }
   },
   "outputs": [],
   "source": [
    "using Revise\n",
    "using OnePiece"
   ]
  },
  {
   "cell_type": "markdown",
   "id": "ab6ddc1f",
   "metadata": {},
   "source": [
    "## apply"
   ]
  },
  {
   "cell_type": "code",
   "execution_count": 2,
   "id": "3fe26de2",
   "metadata": {
    "execution": {
     "iopub.execute_input": "2022-07-02T14:33:00.845000Z",
     "iopub.status.busy": "2022-07-02T14:33:00.471000Z",
     "iopub.status.idle": "2022-07-02T14:33:02.101000Z",
     "shell.execute_reply": "2022-07-02T14:33:02.101000Z"
    }
   },
   "outputs": [
    {
     "data": {
      "text/plain": [
       "fu (generic function with 1 method)"
      ]
     },
     "execution_count": 2,
     "metadata": {},
     "output_type": "execute_result"
    }
   ],
   "source": [
    "function fu(ve1, ve2)\n",
    "    \n",
    "    le = sum(ve1)\n",
    "    \n",
    "    ri = sum(ve2) \n",
    "    \n",
    "    println(\"$le & $ri\")\n",
    "    \n",
    "    le - ri\n",
    "    \n",
    "end"
   ]
  },
  {
   "cell_type": "code",
   "execution_count": 3,
   "id": "a3397861",
   "metadata": {
    "execution": {
     "iopub.execute_input": "2022-07-02T14:33:02.105000Z",
     "iopub.status.busy": "2022-07-02T14:33:02.105000Z",
     "iopub.status.idle": "2022-07-02T14:33:03.122000Z",
     "shell.execute_reply": "2022-07-02T14:33:03.121000Z"
    }
   },
   "outputs": [
    {
     "data": {
      "text/plain": [
       "5×4 Matrix{Float64}:\n",
       " 1.0   6.0  11.0  16.0\n",
       " 2.0   7.0  12.0  17.0\n",
       " 3.0   8.0  13.0  18.0\n",
       " 4.0   9.0  14.0  19.0\n",
       " 5.0  10.0  15.0  20.0"
      ]
     },
     "execution_count": 3,
     "metadata": {},
     "output_type": "execute_result"
    }
   ],
   "source": [
    "n_ro = 5\n",
    "\n",
    "n_co = 4\n",
    "\n",
    "ma = OnePiece.tensor.simulate(n_ro, n_co)"
   ]
  },
  {
   "cell_type": "code",
   "execution_count": 4,
   "id": "dccf79f3",
   "metadata": {
    "execution": {
     "iopub.execute_input": "2022-07-02T14:33:03.125000Z",
     "iopub.status.busy": "2022-07-02T14:33:03.125000Z",
     "iopub.status.idle": "2022-07-02T14:33:03.505000Z",
     "shell.execute_reply": "2022-07-02T14:33:03.504000Z"
    }
   },
   "outputs": [
    {
     "data": {
      "text/plain": [
       "4-element Vector{Int64}:\n",
       "    1\n",
       "   10\n",
       "  100\n",
       " 1000"
      ]
     },
     "execution_count": 4,
     "metadata": {},
     "output_type": "execute_result"
    }
   ],
   "source": [
    "co = [10^(id - 1) for id in 1:n_co]"
   ]
  },
  {
   "cell_type": "code",
   "execution_count": 5,
   "id": "786c9565",
   "metadata": {
    "execution": {
     "iopub.execute_input": "2022-07-02T14:33:03.507000Z",
     "iopub.status.busy": "2022-07-02T14:33:03.507000Z",
     "iopub.status.idle": "2022-07-02T14:33:03.989000Z",
     "shell.execute_reply": "2022-07-02T14:33:03.989000Z"
    }
   },
   "outputs": [
    {
     "data": {
      "text/plain": [
       "4-element BitVector:\n",
       " 0\n",
       " 0\n",
       " 1\n",
       " 1"
      ]
     },
     "execution_count": 5,
     "metadata": {},
     "output_type": "execute_result"
    }
   ],
   "source": [
    "n_ze = convert(Int64, n_co / 2)\n",
    "\n",
    "bi = convert(BitVector, [zeros(n_ze); ones(n_co - n_ze)])"
   ]
  },
  {
   "cell_type": "code",
   "execution_count": 6,
   "id": "d73c6551",
   "metadata": {
    "execution": {
     "iopub.execute_input": "2022-07-02T14:33:03.993000Z",
     "iopub.status.busy": "2022-07-02T14:33:03.993000Z",
     "iopub.status.idle": "2022-07-02T14:33:04.193000Z",
     "shell.execute_reply": "2022-07-02T14:33:04.193000Z"
    }
   },
   "outputs": [
    {
     "name": "stdout",
     "output_type": "stream",
     "text": [
      "1111 & 1111\n"
     ]
    },
    {
     "data": {
      "text/plain": [
       "0"
      ]
     },
     "execution_count": 6,
     "metadata": {},
     "output_type": "execute_result"
    }
   ],
   "source": [
    "OnePiece.tensor_function.apply(co, co, fu)"
   ]
  },
  {
   "cell_type": "code",
   "execution_count": 7,
   "id": "996d485f",
   "metadata": {
    "execution": {
     "iopub.execute_input": "2022-07-02T14:33:04.196000Z",
     "iopub.status.busy": "2022-07-02T14:33:04.196000Z",
     "iopub.status.idle": "2022-07-02T14:33:04.298000Z",
     "shell.execute_reply": "2022-07-02T14:33:04.297000Z"
    }
   },
   "outputs": [
    {
     "name": "stdout",
     "output_type": "stream",
     "text": [
      "11 & 1100\n"
     ]
    },
    {
     "data": {
      "text/plain": [
       "-1089"
      ]
     },
     "execution_count": 7,
     "metadata": {},
     "output_type": "execute_result"
    }
   ],
   "source": [
    "OnePiece.tensor_function.apply(bi, co, fu)"
   ]
  },
  {
   "cell_type": "code",
   "execution_count": 8,
   "id": "9b15b10e",
   "metadata": {
    "execution": {
     "iopub.execute_input": "2022-07-02T14:33:04.301000Z",
     "iopub.status.busy": "2022-07-02T14:33:04.301000Z",
     "iopub.status.idle": "2022-07-02T14:33:04.759000Z",
     "shell.execute_reply": "2022-07-02T14:33:04.759000Z"
    }
   },
   "outputs": [
    {
     "name": "stdout",
     "output_type": "stream",
     "text": [
      "1111 & 34.0\n",
      "1111 & 38.0\n",
      "1111 & 42.0\n",
      "1111 & 46.0\n",
      "1111 & 50.0\n"
     ]
    },
    {
     "data": {
      "text/plain": [
       "5-element Vector{Float64}:\n",
       " 1077.0\n",
       " 1073.0\n",
       " 1069.0\n",
       " 1065.0\n",
       " 1061.0"
      ]
     },
     "execution_count": 8,
     "metadata": {},
     "output_type": "execute_result"
    }
   ],
   "source": [
    "OnePiece.tensor_function.apply(co, ma, fu)"
   ]
  },
  {
   "cell_type": "code",
   "execution_count": 9,
   "id": "15784fda",
   "metadata": {
    "execution": {
     "iopub.execute_input": "2022-07-02T14:33:04.762000Z",
     "iopub.status.busy": "2022-07-02T14:33:04.762000Z",
     "iopub.status.idle": "2022-07-02T14:33:04.950000Z",
     "shell.execute_reply": "2022-07-02T14:33:04.949000Z"
    }
   },
   "outputs": [
    {
     "name": "stdout",
     "output_type": "stream",
     "text": [
      "7.0 & 27.0\n",
      "9.0 & 29.0\n",
      "11.0 & 31.0\n",
      "13.0 & 33.0\n",
      "15.0 & 35.0\n"
     ]
    },
    {
     "data": {
      "text/plain": [
       "5-element Vector{Float64}:\n",
       " -20.0\n",
       " -20.0\n",
       " -20.0\n",
       " -20.0\n",
       " -20.0"
      ]
     },
     "execution_count": 9,
     "metadata": {},
     "output_type": "execute_result"
    }
   ],
   "source": [
    "OnePiece.tensor_function.apply(bi, ma, fu)"
   ]
  },
  {
   "cell_type": "code",
   "execution_count": 10,
   "id": "531a5a1f",
   "metadata": {
    "execution": {
     "iopub.execute_input": "2022-07-02T14:33:04.952000Z",
     "iopub.status.busy": "2022-07-02T14:33:04.952000Z",
     "iopub.status.idle": "2022-07-02T14:33:05.058000Z",
     "shell.execute_reply": "2022-07-02T14:33:05.057000Z"
    }
   },
   "outputs": [
    {
     "name": "stdout",
     "output_type": "stream",
     "text": [
      "34.0 & 34.0\n",
      "38.0 & 34.0\n",
      "42.0 & 34.0\n",
      "46.0 & 34.0\n",
      "50.0 & 34.0\n",
      "34.0 & 38.0\n",
      "38.0 & 38.0\n",
      "42.0 & 38.0\n",
      "46.0 & 38.0\n",
      "50.0 & 38.0\n",
      "34.0 & 42.0\n",
      "38.0 & 42.0\n",
      "42.0 & 42.0\n",
      "46.0 & 42.0\n",
      "50.0 & 42.0\n",
      "34.0 & 46.0\n",
      "38.0 & 46.0\n",
      "42.0 & 46.0\n",
      "46.0 & 46.0\n",
      "50.0 & 46.0\n",
      "34.0 & 50.0\n",
      "38.0 & 50.0\n",
      "42.0 & 50.0\n",
      "46.0 & 50.0\n",
      "50.0 & 50.0\n"
     ]
    },
    {
     "data": {
      "text/plain": [
       "5×5 Matrix{Float64}:\n",
       "  0.0  -4.0  -8.0  -12.0  -16.0\n",
       "  4.0   0.0  -4.0   -8.0  -12.0\n",
       "  8.0   4.0   0.0   -4.0   -8.0\n",
       " 12.0   8.0   4.0    0.0   -4.0\n",
       " 16.0  12.0   8.0    4.0    0.0"
      ]
     },
     "execution_count": 10,
     "metadata": {},
     "output_type": "execute_result"
    }
   ],
   "source": [
    "OnePiece.tensor_function.apply(ma, ma, fu)"
   ]
  },
  {
   "cell_type": "code",
   "execution_count": 11,
   "id": "9f9f8569",
   "metadata": {
    "execution": {
     "iopub.execute_input": "2022-07-02T14:33:05.060000Z",
     "iopub.status.busy": "2022-07-02T14:33:05.060000Z",
     "iopub.status.idle": "2022-07-02T14:33:05.126000Z",
     "shell.execute_reply": "2022-07-02T14:33:05.126000Z"
    }
   },
   "outputs": [
    {
     "data": {
      "text/plain": [
       "2×4 Matrix{Float64}:\n",
       " 1.0    10.0  100.0  1000.0\n",
       " 0.001   0.0    1.0     0.1"
      ]
     },
     "execution_count": 11,
     "metadata": {},
     "output_type": "execute_result"
    }
   ],
   "source": [
    "ma2 = [\n",
    "    1 10 100 1000\n",
    "    0.001 0.0 1 0.1\n",
    "]"
   ]
  },
  {
   "cell_type": "code",
   "execution_count": 12,
   "id": "63c822b4",
   "metadata": {
    "execution": {
     "iopub.execute_input": "2022-07-02T14:33:05.129000Z",
     "iopub.status.busy": "2022-07-02T14:33:05.129000Z",
     "iopub.status.idle": "2022-07-02T14:33:05.310000Z",
     "shell.execute_reply": "2022-07-02T14:33:05.310000Z"
    }
   },
   "outputs": [
    {
     "name": "stdout",
     "output_type": "stream",
     "text": [
      "2 & 1111.0\n",
      "2 & 1.101\n"
     ]
    },
    {
     "data": {
      "text/plain": [
       "1×2 Matrix{Float64}:\n",
       " -1109.0  0.899"
      ]
     },
     "execution_count": 12,
     "metadata": {},
     "output_type": "execute_result"
    }
   ],
   "source": [
    "ma1 = [\n",
    "    0 0 1 1\n",
    "]\n",
    "\n",
    "OnePiece.tensor_function.apply(ma1, ma2, fu)"
   ]
  },
  {
   "cell_type": "code",
   "execution_count": 13,
   "id": "6f822ca4",
   "metadata": {
    "execution": {
     "iopub.execute_input": "2022-07-02T14:33:05.313000Z",
     "iopub.status.busy": "2022-07-02T14:33:05.313000Z",
     "iopub.status.idle": "2022-07-02T14:33:05.602000Z",
     "shell.execute_reply": "2022-07-02T14:33:05.602000Z"
    }
   },
   "outputs": [
    {
     "name": "stdout",
     "output_type": "stream",
     "text": [
      "11.0 & 1100.0\n",
      "0.001 & 1.1\n"
     ]
    },
    {
     "data": {
      "text/plain": [
       "1×2 Matrix{Float64}:\n",
       " -1089.0  -1.099"
      ]
     },
     "execution_count": 13,
     "metadata": {},
     "output_type": "execute_result"
    }
   ],
   "source": [
    "OnePiece.tensor_function.apply(convert(BitMatrix, ma1), ma2, fu)"
   ]
  },
  {
   "cell_type": "code",
   "execution_count": 14,
   "id": "3a67e300",
   "metadata": {
    "execution": {
     "iopub.execute_input": "2022-07-02T14:33:05.605000Z",
     "iopub.status.busy": "2022-07-02T14:33:05.604000Z",
     "iopub.status.idle": "2022-07-02T14:33:05.621000Z",
     "shell.execute_reply": "2022-07-02T14:33:05.620000Z"
    }
   },
   "outputs": [
    {
     "name": "stdout",
     "output_type": "stream",
     "text": [
      "2 & 1111.0\n",
      "4 & 1111.0\n",
      "2 & 1.101\n",
      "4 & 1.101\n"
     ]
    },
    {
     "data": {
      "text/plain": [
       "2×2 Matrix{Float64}:\n",
       " -1109.0  0.899\n",
       " -1107.0  2.899"
      ]
     },
     "execution_count": 14,
     "metadata": {},
     "output_type": "execute_result"
    }
   ],
   "source": [
    "OnePiece.tensor_function.apply([\n",
    "    0 0 1 1\n",
    "    -1 0 2 3\n",
    "], ma2, fu)"
   ]
  }
 ],
 "metadata": {
  "@webio": {
   "lastCommId": null,
   "lastKernelId": null
  },
  "kernelspec": {
   "display_name": "Julia 1.7.3",
   "language": "julia",
   "name": "julia-1.7"
  },
  "language_info": {
   "file_extension": ".jl",
   "mimetype": "application/julia",
   "name": "julia",
   "version": "1.7.3"
  }
 },
 "nbformat": 4,
 "nbformat_minor": 5
}
