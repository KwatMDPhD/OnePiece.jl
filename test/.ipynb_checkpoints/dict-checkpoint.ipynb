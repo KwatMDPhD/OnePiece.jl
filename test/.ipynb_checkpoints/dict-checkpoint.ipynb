{
 "cells": [
  {
   "cell_type": "code",
   "execution_count": 1,
   "id": "baf12f00",
   "metadata": {},
   "outputs": [],
   "source": [
    "using Revise\n",
    "using OnePiece"
   ]
  },
  {
   "cell_type": "markdown",
   "id": "f490ea3e",
   "metadata": {},
   "source": [
    "## make"
   ]
  },
  {
   "cell_type": "code",
   "execution_count": 2,
   "id": "aef53cc5",
   "metadata": {},
   "outputs": [
    {
     "data": {
      "text/plain": [
       "OrderedCollections.OrderedDict{Symbol, Any} with 3 entries:\n",
       "  :c => Dict(\"d\"=>3)\n",
       "  :b => [2]\n",
       "  :a => 1"
      ]
     },
     "execution_count": 2,
     "metadata": {},
     "output_type": "execute_result"
    }
   ],
   "source": [
    "OnePiece.dict.make(c = Dict(\"d\" => 3), b = [2], a = 1)"
   ]
  },
  {
   "cell_type": "markdown",
   "id": "d291dfea",
   "metadata": {},
   "source": [
    "## merge"
   ]
  },
  {
   "cell_type": "code",
   "execution_count": 3,
   "id": "11f6d8a6",
   "metadata": {},
   "outputs": [
    {
     "name": "stdout",
     "output_type": "stream",
     "text": [
      "C => (1) 2\n",
      "{\n",
      "   \"1A\": 1,\n",
      "   \"B\": {\n",
      "      \"1D\": 1,\n",
      "      \"C\": 2,\n",
      "      \"2D\": 2\n",
      "   },\n",
      "   \"2A\": 2\n",
      "}\n"
     ]
    }
   ],
   "source": [
    "di1 = Dict(\"1A\" => 1, \"B\" => Dict(\"C\" => 1, \"1D\" => 1))\n",
    "\n",
    "di2 = Dict(\"2A\" => 2, \"B\" => Dict(\"C\" => 2, \"2D\" => 2))\n",
    "\n",
    "OnePiece.dict.view(OnePiece.dict.merge(di1, di2))"
   ]
  },
  {
   "cell_type": "code",
   "execution_count": 4,
   "id": "f3a9c72e",
   "metadata": {},
   "outputs": [
    {
     "name": "stdout",
     "output_type": "stream",
     "text": [
      "C => (2) 1\n",
      "{\n",
      "   \"1A\": 1,\n",
      "   \"B\": {\n",
      "      \"1D\": 1,\n",
      "      \"C\": 1,\n",
      "      \"2D\": 2\n",
      "   },\n",
      "   \"2A\": 2\n",
      "}\n"
     ]
    }
   ],
   "source": [
    "OnePiece.dict.view(OnePiece.dict.merge(di2, di1))"
   ]
  },
  {
   "cell_type": "markdown",
   "id": "544d556f",
   "metadata": {},
   "source": [
    "## read"
   ]
  },
  {
   "cell_type": "code",
   "execution_count": 8,
   "id": "d05fbdbf",
   "metadata": {},
   "outputs": [
    {
     "data": {
      "text/plain": [
       "\"/Users/kwat/craft/OnePiece.jl/test/dict.data\""
      ]
     },
     "execution_count": 8,
     "metadata": {},
     "output_type": "execute_result"
    }
   ],
   "source": [
    "da = joinpath(@__DIR__, \"dict.data\")"
   ]
  },
  {
   "cell_type": "code",
   "execution_count": 15,
   "id": "cedaae14",
   "metadata": {},
   "outputs": [
    {
     "name": "stdout",
     "output_type": "stream",
     "text": [
      "{\n",
      "   \"fruit\": \"Apple\",\n",
      "   \"color\": \"Red\",\n",
      "   \"size\": \"Large\"\n",
      "}\n"
     ]
    }
   ],
   "source": [
    "js1 = joinpath(da, \"example_1.json\")\n",
    "\n",
    "OnePiece.dict.view(OnePiece.dict.read(js1))"
   ]
  },
  {
   "cell_type": "code",
   "execution_count": 16,
   "id": "eec77164",
   "metadata": {},
   "outputs": [
    {
     "name": "stdout",
     "output_type": "stream",
     "text": [
      "{\n",
      "   \"quiz\": {\n",
      "      \"sport\": {\n",
      "         \"q1\": {\n",
      "            \"options\": [\n",
      "               \"New York Bulls\",\n",
      "               \"Los Angeles Kings\",\n",
      "               \"Golden State Warriros\",\n",
      "               \"Huston Rocket\"\n",
      "            ],\n",
      "            \"question\": \"Which one is correct team name in NBA?\",\n",
      "            \"answer\": \"Huston Rocket\"\n",
      "         }\n",
      "      },\n",
      "      \"maths\": {\n",
      "         \"q1\": {\n",
      "            \"options\": [\n",
      "               \"10\",\n",
      "               \"11\",\n",
      "               \"12\",\n",
      "               \"13\"\n",
      "            ],\n",
      "            \"question\": \"5 + 7 = ?\",\n",
      "            \"answer\": \"12\"\n",
      "         },\n",
      "         \"q2\": {\n",
      "            \"options\": [\n",
      "               \"1\",\n",
      "               \"2\",\n",
      "               \"3\",\n",
      "               \"4\"\n",
      "            ],\n",
      "            \"question\": \"12 - 8 = ?\",\n",
      "            \"answer\": \"4\"\n",
      "         }\n",
      "      }\n",
      "   }\n",
      "}\n"
     ]
    }
   ],
   "source": [
    "js2 = joinpath(da, \"example_2.json\")\n",
    "\n",
    "OnePiece.dict.view(OnePiece.dict.read(js2))"
   ]
  },
  {
   "cell_type": "code",
   "execution_count": 21,
   "id": "b628d2f3",
   "metadata": {},
   "outputs": [
    {
     "name": "stdout",
     "output_type": "stream",
     "text": [
      "{\n",
      "   \"servers\": {\n",
      "      \"alpha\": {\n",
      "         \"dc\": \"eqdc10\",\n",
      "         \"ip\": \"10.0.0.1\"\n",
      "      },\n",
      "      \"beta\": {\n",
      "         \"dc\": \"eqdc10\",\n",
      "         \"ip\": \"10.0.0.2\"\n",
      "      }\n",
      "   },\n",
      "   \"clients\": {\n",
      "      \"hosts\": [\n",
      "         \"alpha\",\n",
      "         \"omega\"\n",
      "      ],\n",
      "      \"data\": [\n",
      "         [\n",
      "            \"gamma\",\n",
      "            \"delta\"\n",
      "         ],\n",
      "         [\n",
      "            1,\n",
      "            2\n",
      "         ]\n",
      "      ]\n",
      "   },\n",
      "   \"owner\": {\n",
      "      \"name\": \"Tom Preston-Werner\"\n",
      "   },\n",
      "   \"title\": \"TOML Example\",\n",
      "   \"database\": {\n",
      "      \"server\": \"192.168.1.1\",\n",
      "      \"connection_max\": 5000,\n",
      "      \"ports\": [\n",
      "         8000,\n",
      "         8001,\n",
      "         8002\n",
      "      ],\n",
      "      \"enabled\": true\n",
      "   }\n",
      "}\n"
     ]
    }
   ],
   "source": [
    "to = joinpath(da, \"example.toml\")\n",
    "\n",
    "OnePiece.dict.view(OnePiece.dict.read(to))"
   ]
  },
  {
   "cell_type": "code",
   "execution_count": 23,
   "id": "30220ddb",
   "metadata": {},
   "outputs": [
    {
     "name": "stdout",
     "output_type": "stream",
     "text": [
      "{\n",
      "   \"fruit\": \"Apple\",\n",
      "   \"servers\": {\n",
      "      \"alpha\": {\n",
      "         \"dc\": \"eqdc10\",\n",
      "         \"ip\": \"10.0.0.1\"\n",
      "      },\n",
      "      \"beta\": {\n",
      "         \"dc\": \"eqdc10\",\n",
      "         \"ip\": \"10.0.0.2\"\n",
      "      }\n",
      "   },\n",
      "   \"clients\": {\n",
      "      \"hosts\": [\n",
      "         \"alpha\",\n",
      "         \"omega\"\n",
      "      ],\n",
      "      \"data\": [\n",
      "         [\n",
      "            \"gamma\",\n",
      "            \"delta\"\n",
      "         ],\n",
      "         [\n",
      "            1,\n",
      "            2\n",
      "         ]\n",
      "      ]\n",
      "   },\n",
      "   \"quiz\": {\n",
      "      \"sport\": {\n",
      "         \"q1\": {\n",
      "            \"options\": [\n",
      "               \"New York Bulls\",\n",
      "               \"Los Angeles Kings\",\n",
      "               \"Golden State Warriros\",\n",
      "               \"Huston Rocket\"\n",
      "            ],\n",
      "            \"question\": \"Which one is correct team name in NBA?\",\n",
      "            \"answer\": \"Huston Rocket\"\n",
      "         }\n",
      "      },\n",
      "      \"maths\": {\n",
      "         \"q1\": {\n",
      "            \"options\": [\n",
      "               \"10\",\n",
      "               \"11\",\n",
      "               \"12\",\n",
      "               \"13\"\n",
      "            ],\n",
      "            \"question\": \"5 + 7 = ?\",\n",
      "            \"answer\": \"12\"\n",
      "         },\n",
      "         \"q2\": {\n",
      "            \"options\": [\n",
      "               \"1\",\n",
      "               \"2\",\n",
      "               \"3\",\n",
      "               \"4\"\n",
      "            ],\n",
      "            \"question\": \"12 - 8 = ?\",\n",
      "            \"answer\": \"4\"\n",
      "         }\n",
      "      }\n",
      "   },\n",
      "   \"color\": \"Red\",\n",
      "   \"owner\": {\n",
      "      \"name\": \"Tom Preston-Werner\"\n",
      "   },\n",
      "   \"size\": \"Large\",\n",
      "   \"title\": \"TOML Example\",\n",
      "   \"database\": {\n",
      "      \"server\": \"192.168.1.1\",\n",
      "      \"connection_max\": 5000,\n",
      "      \"ports\": [\n",
      "         8000,\n",
      "         8001,\n",
      "         8002\n",
      "      ],\n",
      "      \"enabled\": true\n",
      "   }\n",
      "}\n"
     ]
    }
   ],
   "source": [
    "OnePiece.dict.view(OnePiece.dict.read(js1, js2, to))"
   ]
  },
  {
   "cell_type": "markdown",
   "id": "0ee83d77",
   "metadata": {},
   "source": [
    "## sort_recursively!"
   ]
  },
  {
   "cell_type": "code",
   "execution_count": 24,
   "id": "265df1af",
   "metadata": {},
   "outputs": [
    {
     "name": "stdout",
     "output_type": "stream",
     "text": [
      "{\n",
      "   \"w\": [\n",
      "      {\n",
      "         \"j\": 24,\n",
      "         \"k\": 8\n",
      "      },\n",
      "      {\n",
      "         \"la\": 3,\n",
      "         \"lo\": 1\n",
      "      }\n",
      "   ],\n",
      "   \"x\": [\n",
      "      3,\n",
      "      2,\n",
      "      1,\n",
      "      {\n",
      "         \"lu\": 1,\n",
      "         \"zo\": 2\n",
      "      }\n",
      "   ],\n",
      "   \"y\": {},\n",
      "   \"z\": {\n",
      "      \"a\": 3,\n",
      "      \"b\": 2,\n",
      "      \"c\": 1\n",
      "   }\n",
      "}\n"
     ]
    }
   ],
   "source": [
    "di = Dict(\n",
    "    \"z\" => Dict(\"c\" => 1, \"b\" => 2, \"a\" => 3),\n",
    "    \"y\" => Dict(),\n",
    "    \"x\" => [3, 2, 1, Dict(\"zo\" => 2, \"lu\" => 1)],\n",
    "    \"w\" => [Dict(\"k\" => 8, \"j\" => 24), Dict(\"lo\" => 1, \"la\" => 3)],\n",
    ")\n",
    "\n",
    "OnePiece.dict.view(OnePiece.dict.sort_recursively!(di))"
   ]
  },
  {
   "cell_type": "markdown",
   "id": "aa034d33",
   "metadata": {},
   "source": [
    "## summarize"
   ]
  },
  {
   "cell_type": "code",
   "execution_count": 25,
   "id": "540fd72f",
   "metadata": {},
   "outputs": [
    {
     "name": "stdout",
     "output_type": "stream",
     "text": [
      "6 keys and 4 unique values\n",
      "5 => nothing\n",
      "4 => nothing\n",
      "6 => NaN\n",
      "...\n"
     ]
    }
   ],
   "source": [
    "OnePiece.dict.summarize(Dict(1 => \"a\", 2 => \"a\", 3 => \"b\", 4 => nothing, 5 => nothing, 6 => NaN))"
   ]
  },
  {
   "cell_type": "markdown",
   "id": "4f0a130a",
   "metadata": {},
   "source": [
    "## symbolize"
   ]
  },
  {
   "cell_type": "code",
   "execution_count": 26,
   "id": "795da86d",
   "metadata": {},
   "outputs": [
    {
     "data": {
      "text/plain": [
       "Dict{Symbol, String} with 2 entries:\n",
       "  :k1 => \"v1\"\n",
       "  :k2 => \"v2\""
      ]
     },
     "execution_count": 26,
     "metadata": {},
     "output_type": "execute_result"
    }
   ],
   "source": [
    "OnePiece.dict.symbolize(Dict(\"k1\" => \"v1\", \"k2\" => \"v2\"))"
   ]
  },
  {
   "cell_type": "markdown",
   "id": "1c79587e",
   "metadata": {},
   "source": [
    "## view"
   ]
  },
  {
   "cell_type": "code",
   "execution_count": 27,
   "id": "b39c36f9",
   "metadata": {},
   "outputs": [
    {
     "name": "stdout",
     "output_type": "stream",
     "text": [
      "{}\n"
     ]
    }
   ],
   "source": [
    "OnePiece.dict.view(Dict())"
   ]
  },
  {
   "cell_type": "code",
   "execution_count": 29,
   "id": "53cd1ada",
   "metadata": {},
   "outputs": [
    {
     "name": "stdout",
     "output_type": "stream",
     "text": [
      "{\n",
      "   \"k1\": \"v1\",\n",
      "   \"k2\": \"v2\"\n",
      "}\n"
     ]
    }
   ],
   "source": [
    "di = Dict(\"k1\" => \"v1\", \"k2\" => \"v2\")\n",
    "\n",
    "OnePiece.dict.view(di)"
   ]
  },
  {
   "cell_type": "code",
   "execution_count": 30,
   "id": "429e2fee",
   "metadata": {},
   "outputs": [
    {
     "name": "stdout",
     "output_type": "stream",
     "text": [
      "{\n",
      "  \"k1\": \"v1\",\n",
      "  \"k2\": \"v2\"\n",
      "}\n"
     ]
    }
   ],
   "source": [
    "OnePiece.dict.view(di, id = 2)"
   ]
  },
  {
   "cell_type": "code",
   "execution_count": 32,
   "id": "ccb62f7f",
   "metadata": {},
   "outputs": [
    {
     "name": "stdout",
     "output_type": "stream",
     "text": [
      "{\n",
      "    \"k1\": \"v1\"\n",
      "}\n"
     ]
    }
   ],
   "source": [
    "OnePiece.dict.view(di, n_pa = 1, id = 4)"
   ]
  },
  {
   "cell_type": "markdown",
   "id": "db43b4a9",
   "metadata": {},
   "source": [
    "## write"
   ]
  },
  {
   "cell_type": "code",
   "execution_count": 33,
   "id": "0e548e55",
   "metadata": {},
   "outputs": [],
   "source": [
    "js = joinpath(tempdir(), \"write.json\")\n",
    "\n",
    "di = Dict(\n",
    "    \"Luffy\" => \"Pirate King\",\n",
    "    \"Crews\" => [\n",
    "        \"Luffy\",\n",
    "        \"Zoro\",\n",
    "        \"Nami\",\n",
    "        \"Usopp\",\n",
    "        \"Sanji\",\n",
    "        \"Chopper\",\n",
    "        \"Robin\",\n",
    "        \"Franky\",\n",
    "        \"Brook\",\n",
    "        \"Jinbe\",\n",
    "    ],\n",
    "    \"episode\" => 1030,\n",
    ")\n",
    "\n",
    "OnePiece.dict.write(js, di)"
   ]
  },
  {
   "cell_type": "code",
   "execution_count": 34,
   "id": "4f8acb08",
   "metadata": {},
   "outputs": [
    {
     "data": {
      "text/plain": [
       "true"
      ]
     },
     "execution_count": 34,
     "metadata": {},
     "output_type": "execute_result"
    }
   ],
   "source": [
    "di == OnePiece.dict.read(js)"
   ]
  }
 ],
 "metadata": {
  "@webio": {
   "lastCommId": null,
   "lastKernelId": null
  },
  "kernelspec": {
   "display_name": "Julia 1.7.3",
   "language": "julia",
   "name": "julia-1.7"
  },
  "language_info": {
   "file_extension": ".jl",
   "mimetype": "application/julia",
   "name": "julia",
   "version": "1.7.3"
  }
 },
 "nbformat": 4,
 "nbformat_minor": 5
}
