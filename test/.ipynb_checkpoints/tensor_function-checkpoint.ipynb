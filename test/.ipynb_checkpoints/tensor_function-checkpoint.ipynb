{
 "cells": [
  {
   "cell_type": "code",
   "execution_count": 1,
   "id": "baf12f00",
   "metadata": {},
   "outputs": [],
   "source": [
    "using Revise\n",
    "using OnePiece"
   ]
  },
  {
   "cell_type": "markdown",
   "id": "1c1e325c",
   "metadata": {},
   "source": [
    "## apply"
   ]
  },
  {
   "cell_type": "code",
   "execution_count": 2,
   "id": "7f93de71",
   "metadata": {},
   "outputs": [
    {
     "data": {
      "text/plain": [
       "5×4 Matrix{Float64}:\n",
       " 1.0   6.0  11.0  16.0\n",
       " 2.0   7.0  12.0  17.0\n",
       " 3.0   8.0  13.0  18.0\n",
       " 4.0   9.0  14.0  19.0\n",
       " 5.0  10.0  15.0  20.0"
      ]
     },
     "execution_count": 2,
     "metadata": {},
     "output_type": "execute_result"
    }
   ],
   "source": [
    "n_ro = 5\n",
    "\n",
    "n_co = 4\n",
    "\n",
    "ma = OnePiece.tensor.simulate(n_ro, n_co)"
   ]
  },
  {
   "cell_type": "code",
   "execution_count": 3,
   "id": "192aa77b",
   "metadata": {},
   "outputs": [
    {
     "data": {
      "text/plain": [
       "4-element Vector{Int64}:\n",
       "    1\n",
       "   10\n",
       "  100\n",
       " 1000"
      ]
     },
     "execution_count": 3,
     "metadata": {},
     "output_type": "execute_result"
    }
   ],
   "source": [
    "ve = [10^(id - 1) for id in 1:n_co]"
   ]
  },
  {
   "cell_type": "code",
   "execution_count": 4,
   "id": "ffc9c44b",
   "metadata": {},
   "outputs": [
    {
     "data": {
      "text/plain": [
       "4-element BitVector:\n",
       " 0\n",
       " 0\n",
       " 1\n",
       " 1"
      ]
     },
     "execution_count": 4,
     "metadata": {},
     "output_type": "execute_result"
    }
   ],
   "source": [
    "n_ze = convert(Int64, n_co / 2)\n",
    "\n",
    "bi_ = convert(BitVector, [zeros(n_ze); ones(n_co - n_ze)])"
   ]
  },
  {
   "cell_type": "code",
   "execution_count": null,
   "id": "601d1f7e",
   "metadata": {},
   "outputs": [],
   "source": [
    "function function_on_group(ve1, ve2)\n",
    "    \n",
    "    sum(ve1) + sum(ve2)\n",
    "    \n",
    "end"
   ]
  },
  {
   "cell_type": "code",
   "execution_count": 5,
   "id": "2f3df3c5",
   "metadata": {},
   "outputs": [
    {
     "data": {
      "text/plain": [
       "4-element Vector{Int64}:\n",
       " 0\n",
       " 0\n",
       " 0\n",
       " 0"
      ]
     },
     "execution_count": 5,
     "metadata": {},
     "output_type": "execute_result"
    }
   ],
   "source": [
    "OnePiece.tensor_function.apply(ve, ve, .-)"
   ]
  },
  {
   "cell_type": "code",
   "execution_count": 6,
   "id": "058b3d72",
   "metadata": {},
   "outputs": [
    {
     "data": {
      "text/plain": [
       "2-element Vector{Int64}:\n",
       "  -99\n",
       " -990"
      ]
     },
     "execution_count": 6,
     "metadata": {},
     "output_type": "execute_result"
    }
   ],
   "source": [
    "OnePiece.tensor_function.apply(bi_, ve, .-)"
   ]
  },
  {
   "cell_type": "code",
   "execution_count": null,
   "id": "422f60ce",
   "metadata": {},
   "outputs": [],
   "source": [
    "OnePiece.tensor_function.apply(ve, ma, .*)"
   ]
  },
  {
   "cell_type": "code",
   "execution_count": null,
   "id": "ccbd9815",
   "metadata": {},
   "outputs": [],
   "source": [
    "OnePiece.tensor_function.apply(bi_, ma, .+)"
   ]
  },
  {
   "cell_type": "code",
   "execution_count": null,
   "id": "26853784",
   "metadata": {},
   "outputs": [],
   "source": [
    "OnePiece.tensor_function.apply(ma, ma, (ro1, ro2) -> minimum([ro1; ro2]))"
   ]
  },
  {
   "cell_type": "code",
   "execution_count": null,
   "id": "47ff2fa5",
   "metadata": {},
   "outputs": [],
   "source": [
    "ma2 = [\n",
    "    1 10 100 1000\n",
    "    0.001 0.0 1 0.1\n",
    "]\n",
    "\n",
    "ma1 = [\n",
    "    0 0 1 1\n",
    "    -1 0 1 2\n",
    "]\n",
    "\n",
    "OnePiece.tensor_function.apply(ma1, ma2, .+)"
   ]
  },
  {
   "cell_type": "code",
   "execution_count": null,
   "id": "e61aba16",
   "metadata": {},
   "outputs": [],
   "source": [
    "ma1 = convert(\n",
    "    BitMatrix,\n",
    "    [\n",
    "        0 0 1 1\n",
    "        1 1 0 0\n",
    "    ],\n",
    ")\n",
    "\n",
    "OnePiece.tensor_function.apply(ma1, ma2, .+)"
   ]
  }
 ],
 "metadata": {
  "@webio": {
   "lastCommId": null,
   "lastKernelId": null
  },
  "kernelspec": {
   "display_name": "Julia 1.7.3",
   "language": "julia",
   "name": "julia-1.7"
  },
  "language_info": {
   "file_extension": ".jl",
   "mimetype": "application/julia",
   "name": "julia",
   "version": "1.7.3"
  }
 },
 "nbformat": 4,
 "nbformat_minor": 5
}
