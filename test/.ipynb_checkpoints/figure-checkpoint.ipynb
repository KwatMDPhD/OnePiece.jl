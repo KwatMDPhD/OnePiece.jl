{
 "cells": [
  {
   "cell_type": "code",
   "execution_count": 4,
   "id": "baf12f00",
   "metadata": {},
   "outputs": [],
   "source": [
    "using Revise\n",
    "using OnePiece"
   ]
  },
  {
   "cell_type": "code",
   "execution_count": 5,
   "id": "f9ddbb6d",
   "metadata": {},
   "outputs": [
    {
     "data": {
      "text/plain": [
       "\"/var/folders/mg/30npdf0s1z36txb2qvgylrzh0000gn/T\""
      ]
     },
     "execution_count": 5,
     "metadata": {},
     "output_type": "execute_result"
    }
   ],
   "source": [
    "te = tempdir()"
   ]
  },
  {
   "cell_type": "markdown",
   "id": "3b85d414",
   "metadata": {},
   "source": [
    "## plot"
   ]
  },
  {
   "cell_type": "code",
   "execution_count": 6,
   "id": "3bebcb5f",
   "metadata": {},
   "outputs": [
    {
     "data": {
      "text/plain": [
       "Process(`\u001b[4mopen\u001b[24m \u001b[4m/Users/kwat/.julia/scratchspaces/1fe83854-81c0-42f7-afc9-71ba9af673ca/OnePiece.html/scratch.html\u001b[24m`, ProcessRunning)"
      ]
     },
     "execution_count": 6,
     "metadata": {},
     "output_type": "execute_result"
    }
   ],
   "source": [
    "tr_ = [Dict()]\n",
    "\n",
    "OnePiece.figure.plot(tr_)"
   ]
  },
  {
   "cell_type": "code",
   "execution_count": 7,
   "id": "0708c338",
   "metadata": {},
   "outputs": [
    {
     "data": {
      "text/plain": [
       "Process(`\u001b[4mopen\u001b[24m \u001b[4m/Users/kwat/.julia/scratchspaces/1fe83854-81c0-42f7-afc9-71ba9af673ca/OnePiece.html/scratch.html\u001b[24m`, ProcessRunning)"
      ]
     },
     "execution_count": 7,
     "metadata": {},
     "output_type": "execute_result"
    }
   ],
   "source": [
    "la = Dict(\n",
    "    \"title\" => \"Title\",\n",
    "    \"yaxis\" => Dict(\"title\" => \"Y-Axis Title\"),\n",
    "    \"xaxis\" => Dict(\"title\" => \"X-Axis Title\"),\n",
    ")\n",
    "\n",
    "OnePiece.figure.plot(tr_, la)"
   ]
  },
  {
   "cell_type": "code",
   "execution_count": 8,
   "id": "5e3033d9",
   "metadata": {},
   "outputs": [
    {
     "data": {
      "text/plain": [
       "Process(`\u001b[4mopen\u001b[24m \u001b[4m/var/folders/mg/30npdf0s1z36txb2qvgylrzh0000gn/T/output.html\u001b[24m`, ProcessRunning)"
      ]
     },
     "execution_count": 8,
     "metadata": {},
     "output_type": "execute_result"
    }
   ],
   "source": [
    "OnePiece.figure.plot(tr_, ou = joinpath(te, \"output.html\"))"
   ]
  },
  {
   "cell_type": "markdown",
   "id": "82b558a7",
   "metadata": {},
   "source": [
    "## plot_bar"
   ]
  },
  {
   "cell_type": "code",
   "execution_count": 9,
   "id": "f5d45aa6",
   "metadata": {},
   "outputs": [
    {
     "data": {
      "text/plain": [
       "2-element Vector{Vector{Int64}}:\n",
       " [-1, 2, 5]\n",
       " [5, 2, -1]"
      ]
     },
     "execution_count": 9,
     "metadata": {},
     "output_type": "execute_result"
    }
   ],
   "source": [
    "y1 = [-1, 2, 5]\n",
    "\n",
    "y2 = reverse(y1)\n",
    "\n",
    "y_ = [y1, y2]"
   ]
  },
  {
   "cell_type": "code",
   "execution_count": 10,
   "id": "68bab1f2",
   "metadata": {},
   "outputs": [
    {
     "data": {
      "text/plain": [
       "Process(`\u001b[4mopen\u001b[24m \u001b[4m/Users/kwat/.julia/scratchspaces/1fe83854-81c0-42f7-afc9-71ba9af673ca/OnePiece.html/scratch.html\u001b[24m`, ProcessRunning)"
      ]
     },
     "execution_count": 10,
     "metadata": {},
     "output_type": "execute_result"
    }
   ],
   "source": [
    "OnePiece.figure.plot_bar(y_)"
   ]
  },
  {
   "cell_type": "code",
   "execution_count": 14,
   "id": "200c60cf",
   "metadata": {},
   "outputs": [
    {
     "data": {
      "text/plain": [
       "2-element Vector{String}:\n",
       " \"Orange\"\n",
       " \"Blue\""
      ]
     },
     "execution_count": 14,
     "metadata": {},
     "output_type": "execute_result"
    }
   ],
   "source": [
    "name1 = \"Orange\"\n",
    "\n",
    "name2 = \"Blue\"\n",
    "\n",
    "name_ = [name1, name2]"
   ]
  },
  {
   "cell_type": "code",
   "execution_count": 15,
   "id": "68b424fc",
   "metadata": {},
   "outputs": [
    {
     "data": {
      "text/plain": [
       "2-element Vector{Vector{Int64}}:\n",
       " [-2, -1, 0]\n",
       " [0, 1, 2]"
      ]
     },
     "execution_count": 15,
     "metadata": {},
     "output_type": "execute_result"
    }
   ],
   "source": [
    "x1 = [-2, -1, 0]\n",
    "\n",
    "x2 = .-reverse(x1)\n",
    "\n",
    "x_ = [x1, x2]"
   ]
  },
  {
   "cell_type": "code",
   "execution_count": 16,
   "id": "d74e12a9",
   "metadata": {},
   "outputs": [
    {
     "data": {
      "text/plain": [
       "Process(`\u001b[4mopen\u001b[24m \u001b[4m/Users/kwat/.julia/scratchspaces/1fe83854-81c0-42f7-afc9-71ba9af673ca/OnePiece.html/scratch.html\u001b[24m`, ProcessRunning)"
      ]
     },
     "execution_count": 16,
     "metadata": {},
     "output_type": "execute_result"
    }
   ],
   "source": [
    "OnePiece.figure.plot_bar(y_, x_, name_ = name_)"
   ]
  },
  {
   "cell_type": "code",
   "execution_count": 18,
   "id": "a5f9d597",
   "metadata": {},
   "outputs": [
    {
     "data": {
      "text/plain": [
       "Process(`\u001b[4mopen\u001b[24m \u001b[4m/Users/kwat/.julia/scratchspaces/1fe83854-81c0-42f7-afc9-71ba9af673ca/OnePiece.html/scratch.html\u001b[24m`, ProcessRunning)"
      ]
     },
     "execution_count": 18,
     "metadata": {},
     "output_type": "execute_result"
    }
   ],
   "source": [
    "push!(name_, \"Name 3\")\n",
    "\n",
    "push!(y_, [8])\n",
    "\n",
    "push!(x_, [0])\n",
    "\n",
    "OnePiece.figure.plot_bar(y_, x_, name_ = name_)"
   ]
  },
  {
   "cell_type": "code",
   "execution_count": 19,
   "id": "ca109881",
   "metadata": {},
   "outputs": [
    {
     "data": {
      "text/plain": [
       "Process(`\u001b[4mopen\u001b[24m \u001b[4m/var/folders/mg/30npdf0s1z36txb2qvgylrzh0000gn/T/bar.html\u001b[24m`, ProcessRunning)"
      ]
     },
     "execution_count": 19,
     "metadata": {},
     "output_type": "execute_result"
    }
   ],
   "source": [
    "OnePiece.figure.plot_bar(\n",
    "    y_,\n",
    "    x_,\n",
    "    name_ = name_,\n",
    "    la = Dict(\"barmode\" => \"stack\", \"title\" => Dict(\"text\" => \"Stack\")),\n",
    "    ou = joinpath(te, \"bar.html\"),\n",
    ")"
   ]
  },
  {
   "cell_type": "markdown",
   "id": "82001a4f",
   "metadata": {},
   "source": [
    "## plot_heat_map"
   ]
  },
  {
   "cell_type": "code",
   "execution_count": 20,
   "id": "9568c1c3",
   "metadata": {},
   "outputs": [
    {
     "data": {
      "text/plain": [
       "2×4 Matrix{Float64}:\n",
       " 1.0  3.0  5.0  7.0\n",
       " 2.0  4.0  6.0  8.0"
      ]
     },
     "execution_count": 20,
     "metadata": {},
     "output_type": "execute_result"
    }
   ],
   "source": [
    "ma = OnePiece.tensor.simulate(2, 4)"
   ]
  },
  {
   "cell_type": "code",
   "execution_count": 21,
   "id": "9496da6f",
   "metadata": {},
   "outputs": [
    {
     "data": {
      "text/plain": [
       "Process(`\u001b[4mopen\u001b[24m \u001b[4m/Users/kwat/.julia/scratchspaces/1fe83854-81c0-42f7-afc9-71ba9af673ca/OnePiece.html/scratch.html\u001b[24m`, ProcessRunning)"
      ]
     },
     "execution_count": 21,
     "metadata": {},
     "output_type": "execute_result"
    }
   ],
   "source": [
    "OnePiece.figure.plot_heat_map(\n",
    "    ma,\n",
    "    [\"Row$id\" for id in 1:size(ma, 1)],\n",
    "    [\"Column$id\" for id in 1:size(ma, 2)],\n",
    ")"
   ]
  },
  {
   "cell_type": "code",
   "execution_count": 22,
   "id": "54a723b4",
   "metadata": {},
   "outputs": [
    {
     "data": {
      "text/plain": [
       "Process(`\u001b[4mopen\u001b[24m \u001b[4m/var/folders/mg/30npdf0s1z36txb2qvgylrzh0000gn/T/heat_map.html\u001b[24m`, ProcessRunning)"
      ]
     },
     "execution_count": 22,
     "metadata": {},
     "output_type": "execute_result"
    }
   ],
   "source": [
    "OnePiece.figure.plot_heat_map(ma, ou = joinpath(te, \"heat_map.html\"))"
   ]
  },
  {
   "cell_type": "markdown",
   "id": "5ef1c004",
   "metadata": {},
   "source": [
    "## plot_x_y"
   ]
  },
  {
   "cell_type": "code",
   "execution_count": 23,
   "id": "c15e6553",
   "metadata": {},
   "outputs": [
    {
     "data": {
      "text/plain": [
       "2-element Vector{Vector{Int64}}:\n",
       " [-1, 0, 2]\n",
       " [3, 4]"
      ]
     },
     "execution_count": 23,
     "metadata": {},
     "output_type": "execute_result"
    }
   ],
   "source": [
    "x1 = [-1, 0, 2]\n",
    "\n",
    "x2 = [3, 4]\n",
    "\n",
    "x_ = [x1, x2]"
   ]
  },
  {
   "cell_type": "code",
   "execution_count": 24,
   "id": "bb5b0535",
   "metadata": {},
   "outputs": [
    {
     "data": {
      "text/plain": [
       "2-element Vector{Vector{Int64}}:\n",
       " [-10, 0, 20]\n",
       " [60, 80]"
      ]
     },
     "execution_count": 24,
     "metadata": {},
     "output_type": "execute_result"
    }
   ],
   "source": [
    "y1 = x1 .* 10\n",
    "\n",
    "y2 = x2 .* 20\n",
    "\n",
    "y_ = [y1, y2]"
   ]
  },
  {
   "cell_type": "code",
   "execution_count": 27,
   "id": "718173ba",
   "metadata": {},
   "outputs": [
    {
     "data": {
      "text/plain": [
       "Process(`\u001b[4mopen\u001b[24m \u001b[4m/Users/kwat/.julia/scratchspaces/1fe83854-81c0-42f7-afc9-71ba9af673ca/OnePiece.html/scratch.html\u001b[24m`, ProcessRunning)"
      ]
     },
     "execution_count": 27,
     "metadata": {},
     "output_type": "execute_result"
    }
   ],
   "source": [
    "OnePiece.figure.plot_x_y(y_)"
   ]
  },
  {
   "cell_type": "code",
   "execution_count": 28,
   "id": "c8e02db5",
   "metadata": {},
   "outputs": [
    {
     "data": {
      "text/plain": [
       "Process(`\u001b[4mopen\u001b[24m \u001b[4m/var/folders/mg/30npdf0s1z36txb2qvgylrzh0000gn/T/x_y.html\u001b[24m`, ProcessRunning)"
      ]
     },
     "execution_count": 28,
     "metadata": {},
     "output_type": "execute_result"
    }
   ],
   "source": [
    "OnePiece.figure.plot_x_y(y_, x_, ou = joinpath(te, \"x_y.html\"))"
   ]
  }
 ],
 "metadata": {
  "@webio": {
   "lastCommId": null,
   "lastKernelId": null
  },
  "kernelspec": {
   "display_name": "Julia 1.7.3",
   "language": "julia",
   "name": "julia-1.7"
  },
  "language_info": {
   "file_extension": ".jl",
   "mimetype": "application/julia",
   "name": "julia",
   "version": "1.7.3"
  }
 },
 "nbformat": 4,
 "nbformat_minor": 5
}
