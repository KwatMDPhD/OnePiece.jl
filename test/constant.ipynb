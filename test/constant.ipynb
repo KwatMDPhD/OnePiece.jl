{
 "cells": [
  {
   "cell_type": "code",
   "execution_count": null,
   "id": "778d9ff9",
   "metadata": {},
   "outputs": [],
   "source": [
    "using OnePiece"
   ]
  },
  {
   "cell_type": "markdown",
   "id": "50e558c6",
   "metadata": {},
   "source": [
    "## ALPHABET"
   ]
  },
  {
   "cell_type": "code",
   "execution_count": null,
   "id": "b709060b",
   "metadata": {},
   "outputs": [],
   "source": [
    "OnePiece.constant.ALPHABET"
   ]
  },
  {
   "cell_type": "markdown",
   "id": "34b39c7d",
   "metadata": {},
   "source": [
    "## CARD"
   ]
  },
  {
   "cell_type": "code",
   "execution_count": null,
   "id": "74c84376",
   "metadata": {},
   "outputs": [],
   "source": [
    "OnePiece.constant.CARD"
   ]
  },
  {
   "cell_type": "markdown",
   "id": "22826432",
   "metadata": {},
   "source": [
    "## RANDOM_SEED"
   ]
  },
  {
   "cell_type": "code",
   "execution_count": null,
   "id": "f6bf4b5c",
   "metadata": {},
   "outputs": [],
   "source": [
    "OnePiece.constant.RANDOM_SEED"
   ]
  }
 ],
 "metadata": {
  "@webio": {
   "lastCommId": null,
   "lastKernelId": null
  },
  "kernelspec": {
   "display_name": "Julia 1.7.3",
   "language": "julia",
   "name": "julia-1.7"
  },
  "language_info": {
   "file_extension": ".jl",
   "mimetype": "application/julia",
   "name": "julia",
   "version": "1.7.3"
  }
 },
 "nbformat": 4,
 "nbformat_minor": 5
}
