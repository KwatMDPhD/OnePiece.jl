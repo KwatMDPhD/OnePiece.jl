{
 "cells": [
  {
   "cell_type": "code",
   "execution_count": 1,
   "id": "778d9ff9",
   "metadata": {
    "execution": {
     "iopub.execute_input": "2022-07-10T14:18:22.604000Z",
     "iopub.status.busy": "2022-07-10T14:18:22.267000Z",
     "iopub.status.idle": "2022-07-10T14:18:27.110000Z",
     "shell.execute_reply": "2022-07-10T14:18:27.061000Z"
    }
   },
   "outputs": [],
   "source": [
    "using OnePiece"
   ]
  },
  {
   "cell_type": "markdown",
   "id": "d1d8419d",
   "metadata": {},
   "source": [
    "---"
   ]
  },
  {
   "cell_type": "markdown",
   "id": "50e558c6",
   "metadata": {},
   "source": [
    "## ALPHABET"
   ]
  },
  {
   "cell_type": "code",
   "execution_count": 2,
   "id": "b709060b",
   "metadata": {
    "execution": {
     "iopub.execute_input": "2022-07-10T14:18:27.582000Z",
     "iopub.status.busy": "2022-07-10T14:18:27.113000Z",
     "iopub.status.idle": "2022-07-10T14:18:28.731000Z",
     "shell.execute_reply": "2022-07-10T14:18:28.731000Z"
    }
   },
   "outputs": [
    {
     "data": {
      "text/plain": [
       "26-element Vector{Char}:\n",
       " 'a': ASCII/Unicode U+0061 (category Ll: Letter, lowercase)\n",
       " 'b': ASCII/Unicode U+0062 (category Ll: Letter, lowercase)\n",
       " 'c': ASCII/Unicode U+0063 (category Ll: Letter, lowercase)\n",
       " 'd': ASCII/Unicode U+0064 (category Ll: Letter, lowercase)\n",
       " 'e': ASCII/Unicode U+0065 (category Ll: Letter, lowercase)\n",
       " 'f': ASCII/Unicode U+0066 (category Ll: Letter, lowercase)\n",
       " 'g': ASCII/Unicode U+0067 (category Ll: Letter, lowercase)\n",
       " 'h': ASCII/Unicode U+0068 (category Ll: Letter, lowercase)\n",
       " 'i': ASCII/Unicode U+0069 (category Ll: Letter, lowercase)\n",
       " 'j': ASCII/Unicode U+006A (category Ll: Letter, lowercase)\n",
       " 'k': ASCII/Unicode U+006B (category Ll: Letter, lowercase)\n",
       " 'l': ASCII/Unicode U+006C (category Ll: Letter, lowercase)\n",
       " 'm': ASCII/Unicode U+006D (category Ll: Letter, lowercase)\n",
       " 'n': ASCII/Unicode U+006E (category Ll: Letter, lowercase)\n",
       " 'o': ASCII/Unicode U+006F (category Ll: Letter, lowercase)\n",
       " 'p': ASCII/Unicode U+0070 (category Ll: Letter, lowercase)\n",
       " 'q': ASCII/Unicode U+0071 (category Ll: Letter, lowercase)\n",
       " 'r': ASCII/Unicode U+0072 (category Ll: Letter, lowercase)\n",
       " 's': ASCII/Unicode U+0073 (category Ll: Letter, lowercase)\n",
       " 't': ASCII/Unicode U+0074 (category Ll: Letter, lowercase)\n",
       " 'u': ASCII/Unicode U+0075 (category Ll: Letter, lowercase)\n",
       " 'v': ASCII/Unicode U+0076 (category Ll: Letter, lowercase)\n",
       " 'w': ASCII/Unicode U+0077 (category Ll: Letter, lowercase)\n",
       " 'x': ASCII/Unicode U+0078 (category Ll: Letter, lowercase)\n",
       " 'y': ASCII/Unicode U+0079 (category Ll: Letter, lowercase)\n",
       " 'z': ASCII/Unicode U+007A (category Ll: Letter, lowercase)"
      ]
     },
     "execution_count": 2,
     "metadata": {},
     "output_type": "execute_result"
    }
   ],
   "source": [
    "OnePiece.constant.ALPHABET"
   ]
  },
  {
   "cell_type": "markdown",
   "id": "34b39c7d",
   "metadata": {},
   "source": [
    "## CARD"
   ]
  },
  {
   "cell_type": "code",
   "execution_count": 3,
   "id": "74c84376",
   "metadata": {
    "execution": {
     "iopub.execute_input": "2022-07-10T14:18:28.734000Z",
     "iopub.status.busy": "2022-07-10T14:18:28.734000Z",
     "iopub.status.idle": "2022-07-10T14:18:28.736000Z",
     "shell.execute_reply": "2022-07-10T14:18:28.736000Z"
    }
   },
   "outputs": [
    {
     "data": {
      "text/plain": [
       "13-element Vector{Char}:\n",
       " 'A': ASCII/Unicode U+0041 (category Lu: Letter, uppercase)\n",
       " '2': ASCII/Unicode U+0032 (category Nd: Number, decimal digit)\n",
       " '3': ASCII/Unicode U+0033 (category Nd: Number, decimal digit)\n",
       " '4': ASCII/Unicode U+0034 (category Nd: Number, decimal digit)\n",
       " '5': ASCII/Unicode U+0035 (category Nd: Number, decimal digit)\n",
       " '6': ASCII/Unicode U+0036 (category Nd: Number, decimal digit)\n",
       " '7': ASCII/Unicode U+0037 (category Nd: Number, decimal digit)\n",
       " '8': ASCII/Unicode U+0038 (category Nd: Number, decimal digit)\n",
       " '9': ASCII/Unicode U+0039 (category Nd: Number, decimal digit)\n",
       " 'X': ASCII/Unicode U+0058 (category Lu: Letter, uppercase)\n",
       " 'J': ASCII/Unicode U+004A (category Lu: Letter, uppercase)\n",
       " 'Q': ASCII/Unicode U+0051 (category Lu: Letter, uppercase)\n",
       " 'K': ASCII/Unicode U+004B (category Lu: Letter, uppercase)"
      ]
     },
     "execution_count": 3,
     "metadata": {},
     "output_type": "execute_result"
    }
   ],
   "source": [
    "OnePiece.constant.CARD"
   ]
  },
  {
   "cell_type": "markdown",
   "id": "9bffdade",
   "metadata": {},
   "source": [
    "---"
   ]
  }
 ],
 "metadata": {
  "@webio": {
   "lastCommId": null,
   "lastKernelId": null
  },
  "kernelspec": {
   "display_name": "Julia 1.7.3",
   "language": "julia",
   "name": "julia-1.7"
  },
  "language_info": {
   "file_extension": ".jl",
   "mimetype": "application/julia",
   "name": "julia",
   "version": "1.7.3"
  }
 },
 "nbformat": 4,
 "nbformat_minor": 5
}
